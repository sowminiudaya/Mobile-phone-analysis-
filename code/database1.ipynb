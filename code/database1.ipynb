{
 "cells": [
  {
   "cell_type": "code",
   "execution_count": 1,
   "metadata": {},
   "outputs": [],
   "source": [
    "import pandas as pd\n",
    "import sqlite3\n",
    "import os"
   ]
  },
  {
   "cell_type": "code",
   "execution_count": 2,
   "metadata": {},
   "outputs": [],
   "source": [
    "# ✅ Define file paths\n",
    "csv_path = \"E:/capstone_data_engeneering/code/flipkart_clean_df.csv\"\n",
    "db_path = \"E:/capstone_data_engeneering/code/android_iphone.db\""
   ]
  },
  {
   "cell_type": "code",
   "execution_count": 3,
   "metadata": {},
   "outputs": [],
   "source": [
    "# ✅ Ensure directory exists\n",
    "os.makedirs(os.path.dirname(db_path), exist_ok=True)"
   ]
  },
  {
   "cell_type": "code",
   "execution_count": 4,
   "metadata": {},
   "outputs": [],
   "source": [
    "# ✅ Load CSV into DataFrame\n",
    "df = pd.read_csv(csv_path)"
   ]
  },
  {
   "cell_type": "code",
   "execution_count": 5,
   "metadata": {},
   "outputs": [],
   "source": [
    "# ✅ Remove duplicates based on product name and brand\n",
    "df = df.drop_duplicates(subset=[\"Product Name\", \"brand\"])"
   ]
  },
  {
   "cell_type": "code",
   "execution_count": 6,
   "metadata": {},
   "outputs": [],
   "source": [
    "# ✅ Connect to SQLite database\n",
    "conn = sqlite3.connect(db_path)\n",
    "cursor = conn.cursor()"
   ]
  },
  {
   "cell_type": "code",
   "execution_count": 7,
   "metadata": {},
   "outputs": [
    {
     "data": {
      "text/plain": [
       "<sqlite3.Cursor at 0x1987723d1c0>"
      ]
     },
     "execution_count": 7,
     "metadata": {},
     "output_type": "execute_result"
    }
   ],
   "source": [
    "# ✅ Drop existing tables (if any)\n",
    "cursor.execute(\"DROP TABLE IF EXISTS brands;\")\n",
    "cursor.execute(\"DROP TABLE IF EXISTS products;\")\n",
    "cursor.execute(\"DROP TABLE IF EXISTS specifications;\")\n",
    "cursor.execute(\"DROP TABLE IF EXISTS ratings_reviews;\")"
   ]
  },
  {
   "cell_type": "code",
   "execution_count": 8,
   "metadata": {},
   "outputs": [
    {
     "data": {
      "text/plain": [
       "<sqlite3.Cursor at 0x1987723d1c0>"
      ]
     },
     "execution_count": 8,
     "metadata": {},
     "output_type": "execute_result"
    }
   ],
   "source": [
    "# ✅ Create Main Table (brands)\n",
    "cursor.execute(\"\"\"\n",
    "CREATE TABLE brands (\n",
    "    brand_id INTEGER PRIMARY KEY AUTOINCREMENT,\n",
    "    brand TEXT UNIQUE\n",
    ");\n",
    "\"\"\")"
   ]
  },
  {
   "cell_type": "code",
   "execution_count": 9,
   "metadata": {},
   "outputs": [
    {
     "data": {
      "text/plain": [
       "<sqlite3.Cursor at 0x1987723d1c0>"
      ]
     },
     "execution_count": 9,
     "metadata": {},
     "output_type": "execute_result"
    }
   ],
   "source": [
    "# ✅ Create Products Table (Linked to brands)\n",
    "cursor.execute(\"\"\"\n",
    "CREATE TABLE products (\n",
    "    product_id INTEGER PRIMARY KEY AUTOINCREMENT,\n",
    "    brand_id INTEGER,\n",
    "    product_name TEXT\n",
    ");\n",
    "\"\"\")"
   ]
  },
  {
   "cell_type": "code",
   "execution_count": 10,
   "metadata": {},
   "outputs": [
    {
     "data": {
      "text/plain": [
       "<sqlite3.Cursor at 0x1987723d1c0>"
      ]
     },
     "execution_count": 10,
     "metadata": {},
     "output_type": "execute_result"
    }
   ],
   "source": [
    "# ✅ Create Specifications Table (Linked to products)\n",
    "cursor.execute(\"\"\"\n",
    "CREATE TABLE specifications (\n",
    "    product_id INTEGER PRIMARY KEY,\n",
    "    battery TEXT,\n",
    "    display TEXT,\n",
    "    camera TEXT,\n",
    "    processor TEXT,\n",
    "    ram REAL,\n",
    "    rom REAL,\n",
    "    type TEXT,\n",
    "    FOREIGN KEY (product_id) REFERENCES products(product_id) ON DELETE CASCADE\n",
    ");\n",
    "\"\"\")"
   ]
  },
  {
   "cell_type": "code",
   "execution_count": 11,
   "metadata": {},
   "outputs": [
    {
     "data": {
      "text/plain": [
       "<sqlite3.Cursor at 0x1987723d1c0>"
      ]
     },
     "execution_count": 11,
     "metadata": {},
     "output_type": "execute_result"
    }
   ],
   "source": [
    "# ✅ Create Ratings & Reviews Table (Linked to products)\n",
    "cursor.execute(\"\"\"\n",
    "CREATE TABLE ratings_reviews (\n",
    "    product_id INTEGER PRIMARY KEY,\n",
    "    ratings REAL,\n",
    "    reviews REAL,\n",
    "    FOREIGN KEY (product_id) REFERENCES products(product_id) ON DELETE CASCADE\n",
    ");\n",
    "\"\"\")"
   ]
  },
  {
   "cell_type": "code",
   "execution_count": 12,
   "metadata": {},
   "outputs": [
    {
     "ename": "OperationalError",
     "evalue": "table price already exists",
     "output_type": "error",
     "traceback": [
      "\u001b[1;31m---------------------------------------------------------------------------\u001b[0m",
      "\u001b[1;31mOperationalError\u001b[0m                          Traceback (most recent call last)",
      "Cell \u001b[1;32mIn[12], line 2\u001b[0m\n\u001b[0;32m      1\u001b[0m \u001b[38;5;66;03m# ✅ Create Ratings & Reviews Table (Linked to products)\u001b[39;00m\n\u001b[1;32m----> 2\u001b[0m \u001b[43mcursor\u001b[49m\u001b[38;5;241;43m.\u001b[39;49m\u001b[43mexecute\u001b[49m\u001b[43m(\u001b[49m\u001b[38;5;124;43m\"\"\"\u001b[39;49m\n\u001b[0;32m      3\u001b[0m \u001b[38;5;124;43mCREATE TABLE price (\u001b[39;49m\n\u001b[0;32m      4\u001b[0m \u001b[38;5;124;43m    product_id INTEGER PRIMARY KEY,\u001b[39;49m\n\u001b[0;32m      5\u001b[0m \u001b[38;5;124;43m    price REAL,\u001b[39;49m\n\u001b[0;32m      6\u001b[0m \u001b[38;5;124;43m    discount REAL,\u001b[39;49m\n\u001b[0;32m      7\u001b[0m \u001b[38;5;124;43m    actual_price REAL,           \u001b[39;49m\n\u001b[0;32m      8\u001b[0m \u001b[38;5;124;43m    FOREIGN KEY (product_id) REFERENCES products(product_id) ON DELETE CASCADE\u001b[39;49m\n\u001b[0;32m      9\u001b[0m \u001b[38;5;124;43m);\u001b[39;49m\n\u001b[0;32m     10\u001b[0m \u001b[38;5;124;43m\"\"\"\u001b[39;49m\u001b[43m)\u001b[49m\n",
      "\u001b[1;31mOperationalError\u001b[0m: table price already exists"
     ]
    }
   ],
   "source": [
    "# ✅ Create Ratings & Reviews Table (Linked to products)\n",
    "cursor.execute(\"\"\"\n",
    "CREATE TABLE price (\n",
    "    product_id INTEGER PRIMARY KEY,\n",
    "    price REAL,\n",
    "    discount REAL,\n",
    "    actual_price REAL,           \n",
    "    FOREIGN KEY (product_id) REFERENCES products(product_id) ON DELETE CASCADE\n",
    ");\n",
    "\"\"\")"
   ]
  },
  {
   "cell_type": "code",
   "execution_count": 13,
   "metadata": {},
   "outputs": [],
   "source": [
    "# ✅ Insert Data into brands table (Get unique brands)\n",
    "for brand in df[\"brand\"].unique():\n",
    "    cursor.execute(\"INSERT OR IGNORE INTO brands (brand) VALUES (?)\", (brand,))\n",
    "\n",
    "# ✅ Insert Data into Products and Link to brand_id\n",
    "for _, row in df.iterrows():\n",
    "    cursor.execute(\"SELECT brand_id FROM brands WHERE brand = ?\", (row[\"brand\"],))\n",
    "    brand_id = cursor.fetchone()[0]\n",
    "    \n",
    "    cursor.execute(\"\"\"\n",
    "        INSERT INTO products (brand_id, product_name)\n",
    "        VALUES (?, ?)\n",
    "    \"\"\", (brand_id, row[\"Product Name\"]))\n",
    "    \n",
    "    product_id = cursor.lastrowid  # Get the last inserted product_id\n",
    "    \n",
    "    # Insert into specifications\n",
    "    cursor.execute(\"\"\"\n",
    "        INSERT INTO specifications (product_id, battery, display, camera, processor, ram, rom, type)\n",
    "        VALUES (?, ?, ?, ?, ?, ?, ?, ?)\n",
    "    \"\"\", (product_id, row[\"Battery\"], row[\"Display\"], row[\"Camera\"], row[\"Processor\"], row[\"RAM\"], row[\"ROM\"], row[\"type\"]))\n",
    "    \n",
    "    # Insert into ratings_reviews\n",
    "    cursor.execute(\"\"\"\n",
    "        INSERT INTO ratings_reviews (product_id, ratings, reviews)\n",
    "        VALUES (?, ?, ?)\n",
    "    \"\"\", (product_id, row[\"Ratings\"], row[\"Reviews\"]))\n",
    "\n",
    "  # Insert into ratings_reviews\n",
    "    cursor.execute(\"\"\"\n",
    "        INSERT INTO price (product_id, price,discount,actual_price)\n",
    "        VALUES (?, ?, ? ,?)\n",
    "    \"\"\", (product_id, row[\"Price\"], row[\"Discount\"], row[\"Actual Price\"]))"
   ]
  },
  {
   "cell_type": "code",
   "execution_count": 14,
   "metadata": {},
   "outputs": [
    {
     "name": "stdout",
     "output_type": "stream",
     "text": [
      "✅ Database created successfully at: E:/capstone_data_engeneering/code/android_iphone.db\n"
     ]
    }
   ],
   "source": [
    "# ✅ Commit and Close\n",
    "conn.commit()\n",
    "conn.close()\n",
    "print(f\"✅ Database created successfully at: {db_path}\")"
   ]
  },
  {
   "cell_type": "code",
   "execution_count": 15,
   "metadata": {},
   "outputs": [],
   "source": [
    "# ✅ Reconnect and Perform INNER JOIN to Normalize and Reconstruct the Data\n",
    "conn = sqlite3.connect(db_path)\n",
    "\n",
    "query = \"\"\"\n",
    "SELECT\n",
    "    b.brand_id, b.brand,\n",
    "    p.product_id, p.product_name,s.battery, s.display, s.camera, s.processor, s.ram, s.rom, s.type    \n",
    "FROM brands b\n",
    "LEFT JOIN products p ON b.brand_id = p.brand_id\n",
    "LEFT JOIN specifications s ON p.product_id = s.product_id\n",
    "\"\"\"\n",
    "\n",
    "# ✅ Load the Joined DataFrame\n",
    "df_specification = pd.read_sql(query, conn)\n",
    "conn.close()"
   ]
  },
  {
   "cell_type": "code",
   "execution_count": 16,
   "metadata": {},
   "outputs": [],
   "source": [
    "# ✅ Reconnect and Perform INNER JOIN to Normalize and Reconstruct the Data\n",
    "conn = sqlite3.connect(db_path)\n",
    "\n",
    "query = \"\"\"\n",
    "SELECT\n",
    "    b.brand_id, b.brand,\n",
    "    p.product_id, p.product_name, \n",
    "    r.ratings, r.reviews\n",
    "FROM brands b\n",
    "LEFT JOIN products p ON b.brand_id = p.brand_id\n",
    "LEFT JOIN ratings_reviews r ON p.product_id = r.product_id\n",
    "\"\"\"\n",
    "\n",
    "# ✅ Load the Joined DataFrame\n",
    "df_ratings = pd.read_sql(query, conn)\n",
    "conn.close()"
   ]
  },
  {
   "cell_type": "code",
   "execution_count": 21,
   "metadata": {},
   "outputs": [],
   "source": [
    "query = \"\"\"\n",
    "SELECT\n",
    "    b.brand_id, b.brand,\n",
    "    p.product_id, p.product_name, \n",
    "    r.price, r.discount, r.actual_price\n",
    "FROM brands b\n",
    "LEFT JOIN products p ON b.brand_id = p.brand_id\n",
    "LEFT JOIN price r ON p.product_id = r.product_id\n",
    "\"\"\"\n",
    "# ✅ Load the Joined DataFrame\n",
    "df_price = pd.read_sql(query, conn)\n",
    "conn.close()\n"
   ]
  },
  {
   "cell_type": "code",
   "execution_count": 17,
   "metadata": {},
   "outputs": [
    {
     "data": {
      "text/html": [
       "<div>\n",
       "<style scoped>\n",
       "    .dataframe tbody tr th:only-of-type {\n",
       "        vertical-align: middle;\n",
       "    }\n",
       "\n",
       "    .dataframe tbody tr th {\n",
       "        vertical-align: top;\n",
       "    }\n",
       "\n",
       "    .dataframe thead th {\n",
       "        text-align: right;\n",
       "    }\n",
       "</style>\n",
       "<table border=\"1\" class=\"dataframe\">\n",
       "  <thead>\n",
       "    <tr style=\"text-align: right;\">\n",
       "      <th></th>\n",
       "      <th>brand_id</th>\n",
       "      <th>brand</th>\n",
       "      <th>product_id</th>\n",
       "      <th>product_name</th>\n",
       "      <th>battery</th>\n",
       "      <th>display</th>\n",
       "      <th>camera</th>\n",
       "      <th>processor</th>\n",
       "      <th>ram</th>\n",
       "      <th>rom</th>\n",
       "      <th>type</th>\n",
       "    </tr>\n",
       "  </thead>\n",
       "  <tbody>\n",
       "    <tr>\n",
       "      <th>0</th>\n",
       "      <td>1</td>\n",
       "      <td>vivo</td>\n",
       "      <td>112</td>\n",
       "      <td>vivo T1 44W (Midnight Galaxy, 128 GB)</td>\n",
       "      <td>5000 mAh Lithium Battery</td>\n",
       "      <td>16.36 cm (6.44 inch) Full HD+ AMOLED Display</td>\n",
       "      <td>50MP + 2MP + 2MP | 16MP Front Camera</td>\n",
       "      <td>Qualcomm Snapdragon 680 Processor</td>\n",
       "      <td>4.0</td>\n",
       "      <td>128.0</td>\n",
       "      <td>Android</td>\n",
       "    </tr>\n",
       "    <tr>\n",
       "      <th>1</th>\n",
       "      <td>1</td>\n",
       "      <td>vivo</td>\n",
       "      <td>111</td>\n",
       "      <td>vivo T1 44W (Starry Sky, 128 GB)</td>\n",
       "      <td>5000 mAh Lithium Battery</td>\n",
       "      <td>16.36 cm (6.44 inch) Full HD+ AMOLED Display</td>\n",
       "      <td>50MP + 2MP + 2MP | 16MP Front Camera</td>\n",
       "      <td>Qualcomm Snapdragon 680 Processor</td>\n",
       "      <td>4.0</td>\n",
       "      <td>128.0</td>\n",
       "      <td>Android</td>\n",
       "    </tr>\n",
       "    <tr>\n",
       "      <th>2</th>\n",
       "      <td>1</td>\n",
       "      <td>vivo</td>\n",
       "      <td>132</td>\n",
       "      <td>vivo T1 5G (Starlight Black, 128 GB)</td>\n",
       "      <td>5000 mAh Lithium Battery</td>\n",
       "      <td>16.71 cm (6.58 inch) Full HD+ Display</td>\n",
       "      <td>50MP + 2MP + 2MP | 16MP Front Camera</td>\n",
       "      <td>Qualcomm Snapdragon 695 Processor</td>\n",
       "      <td>6.0</td>\n",
       "      <td>128.0</td>\n",
       "      <td>Android</td>\n",
       "    </tr>\n",
       "    <tr>\n",
       "      <th>3</th>\n",
       "      <td>1</td>\n",
       "      <td>vivo</td>\n",
       "      <td>101</td>\n",
       "      <td>vivo T1 Pro 5G (Turbo Black, 128 GB)</td>\n",
       "      <td>4700 mAh Lithium Battery</td>\n",
       "      <td>16.36 cm (6.44 inch) Full HD+ AMOLED Display</td>\n",
       "      <td>64MP + 8MP + 2MP | 16MP Front Camera</td>\n",
       "      <td>Qualcomm Snapdragon 778G 5G Mobile Platform Pr...</td>\n",
       "      <td>8.0</td>\n",
       "      <td>128.0</td>\n",
       "      <td>Android</td>\n",
       "    </tr>\n",
       "    <tr>\n",
       "      <th>4</th>\n",
       "      <td>1</td>\n",
       "      <td>vivo</td>\n",
       "      <td>114</td>\n",
       "      <td>vivo T1 Pro 5G (Turbo Cyan, 128 GB)</td>\n",
       "      <td>4700 mAh Lithium Battery</td>\n",
       "      <td>16.36 cm (6.44 inch) Full HD+ AMOLED Display</td>\n",
       "      <td>64MP + 8MP + 2MP | 16MP Front Camera</td>\n",
       "      <td>Qualcomm Snapdragon 778G 5G Mobile Platform Pr...</td>\n",
       "      <td>8.0</td>\n",
       "      <td>128.0</td>\n",
       "      <td>Android</td>\n",
       "    </tr>\n",
       "    <tr>\n",
       "      <th>...</th>\n",
       "      <td>...</td>\n",
       "      <td>...</td>\n",
       "      <td>...</td>\n",
       "      <td>...</td>\n",
       "      <td>...</td>\n",
       "      <td>...</td>\n",
       "      <td>...</td>\n",
       "      <td>...</td>\n",
       "      <td>...</td>\n",
       "      <td>...</td>\n",
       "      <td>...</td>\n",
       "    </tr>\n",
       "    <tr>\n",
       "      <th>556</th>\n",
       "      <td>5</td>\n",
       "      <td>Apple</td>\n",
       "      <td>526</td>\n",
       "      <td>Apple iPhone XR (Yellow, 256 GB) (Includes Ear...</td>\n",
       "      <td>A12 Bionic Chip Processor</td>\n",
       "      <td>15.49 cm (6.1 inch) Display</td>\n",
       "      <td>12MP Rear Camera | 7MP Front Camera</td>\n",
       "      <td>A12 Bionic Chip Processor</td>\n",
       "      <td>NaN</td>\n",
       "      <td>256.0</td>\n",
       "      <td>Iphone</td>\n",
       "    </tr>\n",
       "    <tr>\n",
       "      <th>557</th>\n",
       "      <td>5</td>\n",
       "      <td>Apple</td>\n",
       "      <td>520</td>\n",
       "      <td>Apple iPhone XS (Gold, 256 GB)</td>\n",
       "      <td>A12 Bionic Chip Processor</td>\n",
       "      <td>14.73 cm (5.8 inch) Super Retina HD Display</td>\n",
       "      <td>12MP + 12MP | 7MP Front Camera</td>\n",
       "      <td>A12 Bionic Chip Processor</td>\n",
       "      <td>NaN</td>\n",
       "      <td>256.0</td>\n",
       "      <td>Iphone</td>\n",
       "    </tr>\n",
       "    <tr>\n",
       "      <th>558</th>\n",
       "      <td>5</td>\n",
       "      <td>Apple</td>\n",
       "      <td>527</td>\n",
       "      <td>Apple iPhone XS (Gold, 64 GB)</td>\n",
       "      <td>A12 Bionic Chip Processor</td>\n",
       "      <td>14.73 cm (5.8 inch) Super Retina HD Display</td>\n",
       "      <td>12MP + 12MP | 7MP Front Camera</td>\n",
       "      <td>A12 Bionic Chip Processor</td>\n",
       "      <td>NaN</td>\n",
       "      <td>64.0</td>\n",
       "      <td>Iphone</td>\n",
       "    </tr>\n",
       "    <tr>\n",
       "      <th>559</th>\n",
       "      <td>5</td>\n",
       "      <td>Apple</td>\n",
       "      <td>560</td>\n",
       "      <td>Apple iPhone XS (Space Grey, 256 GB)</td>\n",
       "      <td>A12 Bionic Chip Processor</td>\n",
       "      <td>14.73 cm (5.8 inch) Super Retina HD Display</td>\n",
       "      <td>12MP + 12MP | 7MP Front Camera</td>\n",
       "      <td>A12 Bionic Chip Processor</td>\n",
       "      <td>NaN</td>\n",
       "      <td>256.0</td>\n",
       "      <td>Iphone</td>\n",
       "    </tr>\n",
       "    <tr>\n",
       "      <th>560</th>\n",
       "      <td>5</td>\n",
       "      <td>Apple</td>\n",
       "      <td>521</td>\n",
       "      <td>Apple iPhone XS Max (Space Grey, 64 GB)</td>\n",
       "      <td>A12 Bionic Chip Processor</td>\n",
       "      <td>16.51 cm (6.5 inch) Super Retina HD Display</td>\n",
       "      <td>12MP + 12MP | 7MP Front Camera</td>\n",
       "      <td>A12 Bionic Chip Processor</td>\n",
       "      <td>NaN</td>\n",
       "      <td>64.0</td>\n",
       "      <td>Iphone</td>\n",
       "    </tr>\n",
       "  </tbody>\n",
       "</table>\n",
       "<p>561 rows × 11 columns</p>\n",
       "</div>"
      ],
      "text/plain": [
       "     brand_id  brand  product_id  \\\n",
       "0           1   vivo         112   \n",
       "1           1   vivo         111   \n",
       "2           1   vivo         132   \n",
       "3           1   vivo         101   \n",
       "4           1   vivo         114   \n",
       "..        ...    ...         ...   \n",
       "556         5  Apple         526   \n",
       "557         5  Apple         520   \n",
       "558         5  Apple         527   \n",
       "559         5  Apple         560   \n",
       "560         5  Apple         521   \n",
       "\n",
       "                                          product_name  \\\n",
       "0                vivo T1 44W (Midnight Galaxy, 128 GB)   \n",
       "1                     vivo T1 44W (Starry Sky, 128 GB)   \n",
       "2                 vivo T1 5G (Starlight Black, 128 GB)   \n",
       "3                 vivo T1 Pro 5G (Turbo Black, 128 GB)   \n",
       "4                  vivo T1 Pro 5G (Turbo Cyan, 128 GB)   \n",
       "..                                                 ...   \n",
       "556  Apple iPhone XR (Yellow, 256 GB) (Includes Ear...   \n",
       "557                     Apple iPhone XS (Gold, 256 GB)   \n",
       "558                      Apple iPhone XS (Gold, 64 GB)   \n",
       "559               Apple iPhone XS (Space Grey, 256 GB)   \n",
       "560            Apple iPhone XS Max (Space Grey, 64 GB)   \n",
       "\n",
       "                       battery                                       display  \\\n",
       "0     5000 mAh Lithium Battery  16.36 cm (6.44 inch) Full HD+ AMOLED Display   \n",
       "1     5000 mAh Lithium Battery  16.36 cm (6.44 inch) Full HD+ AMOLED Display   \n",
       "2     5000 mAh Lithium Battery         16.71 cm (6.58 inch) Full HD+ Display   \n",
       "3     4700 mAh Lithium Battery  16.36 cm (6.44 inch) Full HD+ AMOLED Display   \n",
       "4     4700 mAh Lithium Battery  16.36 cm (6.44 inch) Full HD+ AMOLED Display   \n",
       "..                         ...                                           ...   \n",
       "556  A12 Bionic Chip Processor                   15.49 cm (6.1 inch) Display   \n",
       "557  A12 Bionic Chip Processor   14.73 cm (5.8 inch) Super Retina HD Display   \n",
       "558  A12 Bionic Chip Processor   14.73 cm (5.8 inch) Super Retina HD Display   \n",
       "559  A12 Bionic Chip Processor   14.73 cm (5.8 inch) Super Retina HD Display   \n",
       "560  A12 Bionic Chip Processor   16.51 cm (6.5 inch) Super Retina HD Display   \n",
       "\n",
       "                                   camera  \\\n",
       "0    50MP + 2MP + 2MP | 16MP Front Camera   \n",
       "1    50MP + 2MP + 2MP | 16MP Front Camera   \n",
       "2    50MP + 2MP + 2MP | 16MP Front Camera   \n",
       "3    64MP + 8MP + 2MP | 16MP Front Camera   \n",
       "4    64MP + 8MP + 2MP | 16MP Front Camera   \n",
       "..                                    ...   \n",
       "556   12MP Rear Camera | 7MP Front Camera   \n",
       "557        12MP + 12MP | 7MP Front Camera   \n",
       "558        12MP + 12MP | 7MP Front Camera   \n",
       "559        12MP + 12MP | 7MP Front Camera   \n",
       "560        12MP + 12MP | 7MP Front Camera   \n",
       "\n",
       "                                             processor  ram    rom     type  \n",
       "0                    Qualcomm Snapdragon 680 Processor  4.0  128.0  Android  \n",
       "1                    Qualcomm Snapdragon 680 Processor  4.0  128.0  Android  \n",
       "2                    Qualcomm Snapdragon 695 Processor  6.0  128.0  Android  \n",
       "3    Qualcomm Snapdragon 778G 5G Mobile Platform Pr...  8.0  128.0  Android  \n",
       "4    Qualcomm Snapdragon 778G 5G Mobile Platform Pr...  8.0  128.0  Android  \n",
       "..                                                 ...  ...    ...      ...  \n",
       "556                          A12 Bionic Chip Processor  NaN  256.0   Iphone  \n",
       "557                          A12 Bionic Chip Processor  NaN  256.0   Iphone  \n",
       "558                          A12 Bionic Chip Processor  NaN   64.0   Iphone  \n",
       "559                          A12 Bionic Chip Processor  NaN  256.0   Iphone  \n",
       "560                          A12 Bionic Chip Processor  NaN   64.0   Iphone  \n",
       "\n",
       "[561 rows x 11 columns]"
      ]
     },
     "execution_count": 17,
     "metadata": {},
     "output_type": "execute_result"
    }
   ],
   "source": [
    "df_specification"
   ]
  },
  {
   "cell_type": "code",
   "execution_count": 18,
   "metadata": {},
   "outputs": [
    {
     "data": {
      "text/html": [
       "<div>\n",
       "<style scoped>\n",
       "    .dataframe tbody tr th:only-of-type {\n",
       "        vertical-align: middle;\n",
       "    }\n",
       "\n",
       "    .dataframe tbody tr th {\n",
       "        vertical-align: top;\n",
       "    }\n",
       "\n",
       "    .dataframe thead th {\n",
       "        text-align: right;\n",
       "    }\n",
       "</style>\n",
       "<table border=\"1\" class=\"dataframe\">\n",
       "  <thead>\n",
       "    <tr style=\"text-align: right;\">\n",
       "      <th></th>\n",
       "      <th>brand_id</th>\n",
       "      <th>brand</th>\n",
       "      <th>product_id</th>\n",
       "      <th>product_name</th>\n",
       "      <th>ratings</th>\n",
       "      <th>reviews</th>\n",
       "    </tr>\n",
       "  </thead>\n",
       "  <tbody>\n",
       "    <tr>\n",
       "      <th>0</th>\n",
       "      <td>1</td>\n",
       "      <td>vivo</td>\n",
       "      <td>112</td>\n",
       "      <td>vivo T1 44W (Midnight Galaxy, 128 GB)</td>\n",
       "      <td>116399.0</td>\n",
       "      <td>7312.0</td>\n",
       "    </tr>\n",
       "    <tr>\n",
       "      <th>1</th>\n",
       "      <td>1</td>\n",
       "      <td>vivo</td>\n",
       "      <td>111</td>\n",
       "      <td>vivo T1 44W (Starry Sky, 128 GB)</td>\n",
       "      <td>116399.0</td>\n",
       "      <td>7312.0</td>\n",
       "    </tr>\n",
       "    <tr>\n",
       "      <th>2</th>\n",
       "      <td>1</td>\n",
       "      <td>vivo</td>\n",
       "      <td>132</td>\n",
       "      <td>vivo T1 5G (Starlight Black, 128 GB)</td>\n",
       "      <td>181273.0</td>\n",
       "      <td>13965.0</td>\n",
       "    </tr>\n",
       "    <tr>\n",
       "      <th>3</th>\n",
       "      <td>1</td>\n",
       "      <td>vivo</td>\n",
       "      <td>101</td>\n",
       "      <td>vivo T1 Pro 5G (Turbo Black, 128 GB)</td>\n",
       "      <td>21239.0</td>\n",
       "      <td>1962.0</td>\n",
       "    </tr>\n",
       "    <tr>\n",
       "      <th>4</th>\n",
       "      <td>1</td>\n",
       "      <td>vivo</td>\n",
       "      <td>114</td>\n",
       "      <td>vivo T1 Pro 5G (Turbo Cyan, 128 GB)</td>\n",
       "      <td>21239.0</td>\n",
       "      <td>1962.0</td>\n",
       "    </tr>\n",
       "    <tr>\n",
       "      <th>...</th>\n",
       "      <td>...</td>\n",
       "      <td>...</td>\n",
       "      <td>...</td>\n",
       "      <td>...</td>\n",
       "      <td>...</td>\n",
       "      <td>...</td>\n",
       "    </tr>\n",
       "    <tr>\n",
       "      <th>556</th>\n",
       "      <td>5</td>\n",
       "      <td>Apple</td>\n",
       "      <td>526</td>\n",
       "      <td>Apple iPhone XR (Yellow, 256 GB) (Includes Ear...</td>\n",
       "      <td>100909.0</td>\n",
       "      <td>8480.0</td>\n",
       "    </tr>\n",
       "    <tr>\n",
       "      <th>557</th>\n",
       "      <td>5</td>\n",
       "      <td>Apple</td>\n",
       "      <td>520</td>\n",
       "      <td>Apple iPhone XS (Gold, 256 GB)</td>\n",
       "      <td>11938.0</td>\n",
       "      <td>866.0</td>\n",
       "    </tr>\n",
       "    <tr>\n",
       "      <th>558</th>\n",
       "      <td>5</td>\n",
       "      <td>Apple</td>\n",
       "      <td>527</td>\n",
       "      <td>Apple iPhone XS (Gold, 64 GB)</td>\n",
       "      <td>11938.0</td>\n",
       "      <td>866.0</td>\n",
       "    </tr>\n",
       "    <tr>\n",
       "      <th>559</th>\n",
       "      <td>5</td>\n",
       "      <td>Apple</td>\n",
       "      <td>560</td>\n",
       "      <td>Apple iPhone XS (Space Grey, 256 GB)</td>\n",
       "      <td>11938.0</td>\n",
       "      <td>866.0</td>\n",
       "    </tr>\n",
       "    <tr>\n",
       "      <th>560</th>\n",
       "      <td>5</td>\n",
       "      <td>Apple</td>\n",
       "      <td>521</td>\n",
       "      <td>Apple iPhone XS Max (Space Grey, 64 GB)</td>\n",
       "      <td>1451.0</td>\n",
       "      <td>146.0</td>\n",
       "    </tr>\n",
       "  </tbody>\n",
       "</table>\n",
       "<p>561 rows × 6 columns</p>\n",
       "</div>"
      ],
      "text/plain": [
       "     brand_id  brand  product_id  \\\n",
       "0           1   vivo         112   \n",
       "1           1   vivo         111   \n",
       "2           1   vivo         132   \n",
       "3           1   vivo         101   \n",
       "4           1   vivo         114   \n",
       "..        ...    ...         ...   \n",
       "556         5  Apple         526   \n",
       "557         5  Apple         520   \n",
       "558         5  Apple         527   \n",
       "559         5  Apple         560   \n",
       "560         5  Apple         521   \n",
       "\n",
       "                                          product_name   ratings  reviews  \n",
       "0                vivo T1 44W (Midnight Galaxy, 128 GB)  116399.0   7312.0  \n",
       "1                     vivo T1 44W (Starry Sky, 128 GB)  116399.0   7312.0  \n",
       "2                 vivo T1 5G (Starlight Black, 128 GB)  181273.0  13965.0  \n",
       "3                 vivo T1 Pro 5G (Turbo Black, 128 GB)   21239.0   1962.0  \n",
       "4                  vivo T1 Pro 5G (Turbo Cyan, 128 GB)   21239.0   1962.0  \n",
       "..                                                 ...       ...      ...  \n",
       "556  Apple iPhone XR (Yellow, 256 GB) (Includes Ear...  100909.0   8480.0  \n",
       "557                     Apple iPhone XS (Gold, 256 GB)   11938.0    866.0  \n",
       "558                      Apple iPhone XS (Gold, 64 GB)   11938.0    866.0  \n",
       "559               Apple iPhone XS (Space Grey, 256 GB)   11938.0    866.0  \n",
       "560            Apple iPhone XS Max (Space Grey, 64 GB)    1451.0    146.0  \n",
       "\n",
       "[561 rows x 6 columns]"
      ]
     },
     "execution_count": 18,
     "metadata": {},
     "output_type": "execute_result"
    }
   ],
   "source": [
    "df_ratings"
   ]
  },
  {
   "cell_type": "code",
   "execution_count": 22,
   "metadata": {},
   "outputs": [
    {
     "data": {
      "text/html": [
       "<div>\n",
       "<style scoped>\n",
       "    .dataframe tbody tr th:only-of-type {\n",
       "        vertical-align: middle;\n",
       "    }\n",
       "\n",
       "    .dataframe tbody tr th {\n",
       "        vertical-align: top;\n",
       "    }\n",
       "\n",
       "    .dataframe thead th {\n",
       "        text-align: right;\n",
       "    }\n",
       "</style>\n",
       "<table border=\"1\" class=\"dataframe\">\n",
       "  <thead>\n",
       "    <tr style=\"text-align: right;\">\n",
       "      <th></th>\n",
       "      <th>brand_id</th>\n",
       "      <th>brand</th>\n",
       "      <th>product_id</th>\n",
       "      <th>product_name</th>\n",
       "      <th>price</th>\n",
       "      <th>discount</th>\n",
       "      <th>actual_price</th>\n",
       "    </tr>\n",
       "  </thead>\n",
       "  <tbody>\n",
       "    <tr>\n",
       "      <th>0</th>\n",
       "      <td>1</td>\n",
       "      <td>vivo</td>\n",
       "      <td>112</td>\n",
       "      <td>vivo T1 44W (Midnight Galaxy, 128 GB)</td>\n",
       "      <td>14499.0</td>\n",
       "      <td>30.0</td>\n",
       "      <td>11999.0</td>\n",
       "    </tr>\n",
       "    <tr>\n",
       "      <th>1</th>\n",
       "      <td>1</td>\n",
       "      <td>vivo</td>\n",
       "      <td>111</td>\n",
       "      <td>vivo T1 44W (Starry Sky, 128 GB)</td>\n",
       "      <td>14499.0</td>\n",
       "      <td>27.0</td>\n",
       "      <td>19990.0</td>\n",
       "    </tr>\n",
       "    <tr>\n",
       "      <th>2</th>\n",
       "      <td>1</td>\n",
       "      <td>vivo</td>\n",
       "      <td>132</td>\n",
       "      <td>vivo T1 5G (Starlight Black, 128 GB)</td>\n",
       "      <td>16990.0</td>\n",
       "      <td>19.0</td>\n",
       "      <td>20990.0</td>\n",
       "    </tr>\n",
       "    <tr>\n",
       "      <th>3</th>\n",
       "      <td>1</td>\n",
       "      <td>vivo</td>\n",
       "      <td>101</td>\n",
       "      <td>vivo T1 Pro 5G (Turbo Black, 128 GB)</td>\n",
       "      <td>21990.0</td>\n",
       "      <td>26.0</td>\n",
       "      <td>18999.0</td>\n",
       "    </tr>\n",
       "    <tr>\n",
       "      <th>4</th>\n",
       "      <td>1</td>\n",
       "      <td>vivo</td>\n",
       "      <td>114</td>\n",
       "      <td>vivo T1 Pro 5G (Turbo Cyan, 128 GB)</td>\n",
       "      <td>24999.0</td>\n",
       "      <td>43.0</td>\n",
       "      <td>16999.0</td>\n",
       "    </tr>\n",
       "    <tr>\n",
       "      <th>...</th>\n",
       "      <td>...</td>\n",
       "      <td>...</td>\n",
       "      <td>...</td>\n",
       "      <td>...</td>\n",
       "      <td>...</td>\n",
       "      <td>...</td>\n",
       "      <td>...</td>\n",
       "    </tr>\n",
       "    <tr>\n",
       "      <th>556</th>\n",
       "      <td>5</td>\n",
       "      <td>Apple</td>\n",
       "      <td>526</td>\n",
       "      <td>Apple iPhone XR (Yellow, 256 GB) (Includes Ear...</td>\n",
       "      <td>91900.0</td>\n",
       "      <td>2.0</td>\n",
       "      <td>49900.0</td>\n",
       "    </tr>\n",
       "    <tr>\n",
       "      <th>557</th>\n",
       "      <td>5</td>\n",
       "      <td>Apple</td>\n",
       "      <td>520</td>\n",
       "      <td>Apple iPhone XS (Gold, 256 GB)</td>\n",
       "      <td>103900.0</td>\n",
       "      <td>6.0</td>\n",
       "      <td>79900.0</td>\n",
       "    </tr>\n",
       "    <tr>\n",
       "      <th>558</th>\n",
       "      <td>5</td>\n",
       "      <td>Apple</td>\n",
       "      <td>527</td>\n",
       "      <td>Apple iPhone XS (Gold, 64 GB)</td>\n",
       "      <td>89900.0</td>\n",
       "      <td>8.0</td>\n",
       "      <td>59900.0</td>\n",
       "    </tr>\n",
       "    <tr>\n",
       "      <th>559</th>\n",
       "      <td>5</td>\n",
       "      <td>Apple</td>\n",
       "      <td>560</td>\n",
       "      <td>Apple iPhone XS (Space Grey, 256 GB)</td>\n",
       "      <td>103900.0</td>\n",
       "      <td>2.0</td>\n",
       "      <td>49900.0</td>\n",
       "    </tr>\n",
       "    <tr>\n",
       "      <th>560</th>\n",
       "      <td>5</td>\n",
       "      <td>Apple</td>\n",
       "      <td>521</td>\n",
       "      <td>Apple iPhone XS Max (Space Grey, 64 GB)</td>\n",
       "      <td>109900.0</td>\n",
       "      <td>8.0</td>\n",
       "      <td>29990.0</td>\n",
       "    </tr>\n",
       "  </tbody>\n",
       "</table>\n",
       "<p>561 rows × 7 columns</p>\n",
       "</div>"
      ],
      "text/plain": [
       "     brand_id  brand  product_id  \\\n",
       "0           1   vivo         112   \n",
       "1           1   vivo         111   \n",
       "2           1   vivo         132   \n",
       "3           1   vivo         101   \n",
       "4           1   vivo         114   \n",
       "..        ...    ...         ...   \n",
       "556         5  Apple         526   \n",
       "557         5  Apple         520   \n",
       "558         5  Apple         527   \n",
       "559         5  Apple         560   \n",
       "560         5  Apple         521   \n",
       "\n",
       "                                          product_name     price  discount  \\\n",
       "0                vivo T1 44W (Midnight Galaxy, 128 GB)   14499.0      30.0   \n",
       "1                     vivo T1 44W (Starry Sky, 128 GB)   14499.0      27.0   \n",
       "2                 vivo T1 5G (Starlight Black, 128 GB)   16990.0      19.0   \n",
       "3                 vivo T1 Pro 5G (Turbo Black, 128 GB)   21990.0      26.0   \n",
       "4                  vivo T1 Pro 5G (Turbo Cyan, 128 GB)   24999.0      43.0   \n",
       "..                                                 ...       ...       ...   \n",
       "556  Apple iPhone XR (Yellow, 256 GB) (Includes Ear...   91900.0       2.0   \n",
       "557                     Apple iPhone XS (Gold, 256 GB)  103900.0       6.0   \n",
       "558                      Apple iPhone XS (Gold, 64 GB)   89900.0       8.0   \n",
       "559               Apple iPhone XS (Space Grey, 256 GB)  103900.0       2.0   \n",
       "560            Apple iPhone XS Max (Space Grey, 64 GB)  109900.0       8.0   \n",
       "\n",
       "     actual_price  \n",
       "0         11999.0  \n",
       "1         19990.0  \n",
       "2         20990.0  \n",
       "3         18999.0  \n",
       "4         16999.0  \n",
       "..            ...  \n",
       "556       49900.0  \n",
       "557       79900.0  \n",
       "558       59900.0  \n",
       "559       49900.0  \n",
       "560       29990.0  \n",
       "\n",
       "[561 rows x 7 columns]"
      ]
     },
     "execution_count": 22,
     "metadata": {},
     "output_type": "execute_result"
    }
   ],
   "source": [
    "df_price"
   ]
  },
  {
   "cell_type": "code",
   "execution_count": null,
   "metadata": {},
   "outputs": [],
   "source": [
    "import sqlite3\n",
    "import pandas as pd\n",
    "\n",
    "# ✅ Connect to the SQLite database\n",
    "db_path = \"E:/capstone_data_engeneering/code/android_iphone.db\"\n",
    "conn = sqlite3.connect(db_path)\n"
   ]
  },
  {
   "cell_type": "code",
   "execution_count": null,
   "metadata": {},
   "outputs": [],
   "source": [
    "# ✅ Load tables as DataFrames\n",
    "df_brands = pd.read_sql(\"SELECT * FROM brands\", conn)\n",
    "df_products = pd.read_sql(\"SELECT * FROM products\", conn)\n",
    "df_specifications = pd.read_sql(\"SELECT * FROM specifications\", conn)\n",
    "df_ratings_reviews = pd.read_sql(\"SELECT * FROM ratings_reviews\", conn)\n",
    "\n",
    "# ✅ Close the connection\n",
    "conn.close()\n"
   ]
  },
  {
   "cell_type": "code",
   "execution_count": null,
   "metadata": {},
   "outputs": [
    {
     "data": {
      "text/html": [
       "<div>\n",
       "<style scoped>\n",
       "    .dataframe tbody tr th:only-of-type {\n",
       "        vertical-align: middle;\n",
       "    }\n",
       "\n",
       "    .dataframe tbody tr th {\n",
       "        vertical-align: top;\n",
       "    }\n",
       "\n",
       "    .dataframe thead th {\n",
       "        text-align: right;\n",
       "    }\n",
       "</style>\n",
       "<table border=\"1\" class=\"dataframe\">\n",
       "  <thead>\n",
       "    <tr style=\"text-align: right;\">\n",
       "      <th></th>\n",
       "      <th>brand_id</th>\n",
       "      <th>brand</th>\n",
       "    </tr>\n",
       "  </thead>\n",
       "  <tbody>\n",
       "    <tr>\n",
       "      <th>0</th>\n",
       "      <td>1</td>\n",
       "      <td>vivo</td>\n",
       "    </tr>\n",
       "    <tr>\n",
       "      <th>1</th>\n",
       "      <td>2</td>\n",
       "      <td>realme</td>\n",
       "    </tr>\n",
       "    <tr>\n",
       "      <th>2</th>\n",
       "      <td>3</td>\n",
       "      <td>Samsung</td>\n",
       "    </tr>\n",
       "    <tr>\n",
       "      <th>3</th>\n",
       "      <td>4</td>\n",
       "      <td>OPPO</td>\n",
       "    </tr>\n",
       "    <tr>\n",
       "      <th>4</th>\n",
       "      <td>5</td>\n",
       "      <td>Apple</td>\n",
       "    </tr>\n",
       "  </tbody>\n",
       "</table>\n",
       "</div>"
      ],
      "text/plain": [
       "   brand_id    brand\n",
       "0         1     vivo\n",
       "1         2   realme\n",
       "2         3  Samsung\n",
       "3         4     OPPO\n",
       "4         5    Apple"
      ]
     },
     "execution_count": 38,
     "metadata": {},
     "output_type": "execute_result"
    }
   ],
   "source": [
    "df_brands.head()"
   ]
  },
  {
   "cell_type": "code",
   "execution_count": null,
   "metadata": {},
   "outputs": [
    {
     "data": {
      "text/html": [
       "<div>\n",
       "<style scoped>\n",
       "    .dataframe tbody tr th:only-of-type {\n",
       "        vertical-align: middle;\n",
       "    }\n",
       "\n",
       "    .dataframe tbody tr th {\n",
       "        vertical-align: top;\n",
       "    }\n",
       "\n",
       "    .dataframe thead th {\n",
       "        text-align: right;\n",
       "    }\n",
       "</style>\n",
       "<table border=\"1\" class=\"dataframe\">\n",
       "  <thead>\n",
       "    <tr style=\"text-align: right;\">\n",
       "      <th></th>\n",
       "      <th>product_id</th>\n",
       "      <th>brand_id</th>\n",
       "      <th>product_name</th>\n",
       "      <th>price</th>\n",
       "      <th>discount</th>\n",
       "      <th>actual_price</th>\n",
       "    </tr>\n",
       "  </thead>\n",
       "  <tbody>\n",
       "    <tr>\n",
       "      <th>0</th>\n",
       "      <td>1</td>\n",
       "      <td>1</td>\n",
       "      <td>vivo T3 Pro 5G (Emerald Green, 256 GB)</td>\n",
       "      <td>24999.0</td>\n",
       "      <td>21.0</td>\n",
       "      <td>31999.0</td>\n",
       "    </tr>\n",
       "    <tr>\n",
       "      <th>1</th>\n",
       "      <td>2</td>\n",
       "      <td>1</td>\n",
       "      <td>vivo T3 Lite 5G (Majestic Black, 128 GB)</td>\n",
       "      <td>11499.0</td>\n",
       "      <td>25.0</td>\n",
       "      <td>15499.0</td>\n",
       "    </tr>\n",
       "    <tr>\n",
       "      <th>2</th>\n",
       "      <td>3</td>\n",
       "      <td>1</td>\n",
       "      <td>vivo T3x 5G (Celestial Green, 128 GB)</td>\n",
       "      <td>13999.0</td>\n",
       "      <td>26.0</td>\n",
       "      <td>18999.0</td>\n",
       "    </tr>\n",
       "    <tr>\n",
       "      <th>3</th>\n",
       "      <td>4</td>\n",
       "      <td>1</td>\n",
       "      <td>vivo V50 5G (Starry Night, 256 GB)</td>\n",
       "      <td>36999.0</td>\n",
       "      <td>13.0</td>\n",
       "      <td>42999.0</td>\n",
       "    </tr>\n",
       "    <tr>\n",
       "      <th>4</th>\n",
       "      <td>5</td>\n",
       "      <td>1</td>\n",
       "      <td>vivo T3 Lite 5G (Vibrant Green, 128 GB)</td>\n",
       "      <td>10499.0</td>\n",
       "      <td>27.0</td>\n",
       "      <td>14499.0</td>\n",
       "    </tr>\n",
       "  </tbody>\n",
       "</table>\n",
       "</div>"
      ],
      "text/plain": [
       "   product_id  brand_id                              product_name    price  \\\n",
       "0           1         1    vivo T3 Pro 5G (Emerald Green, 256 GB)  24999.0   \n",
       "1           2         1  vivo T3 Lite 5G (Majestic Black, 128 GB)  11499.0   \n",
       "2           3         1     vivo T3x 5G (Celestial Green, 128 GB)  13999.0   \n",
       "3           4         1        vivo V50 5G (Starry Night, 256 GB)  36999.0   \n",
       "4           5         1   vivo T3 Lite 5G (Vibrant Green, 128 GB)  10499.0   \n",
       "\n",
       "   discount  actual_price  \n",
       "0      21.0       31999.0  \n",
       "1      25.0       15499.0  \n",
       "2      26.0       18999.0  \n",
       "3      13.0       42999.0  \n",
       "4      27.0       14499.0  "
      ]
     },
     "execution_count": 39,
     "metadata": {},
     "output_type": "execute_result"
    }
   ],
   "source": [
    "df_products.head()"
   ]
  },
  {
   "cell_type": "code",
   "execution_count": null,
   "metadata": {},
   "outputs": [],
   "source": [
    "# ✅ Load tables as DataFrames\n",
    "df_brands = pd.read_sql(\"SELECT * FROM brands\", conn)\n",
    "df_products = pd.read_sql(\"SELECT * FROM products\", conn)\n",
    "df_specifications = pd.read_sql(\"SELECT * FROM specifications\", conn)\n",
    "df_ratings_reviews = pd.read_sql(\"SELECT * FROM ratings_reviews\", conn)\n",
    "\n",
    "# ✅ Close the connection\n",
    "conn.close()"
   ]
  },
  {
   "cell_type": "code",
   "execution_count": null,
   "metadata": {},
   "outputs": [
    {
     "data": {
      "text/html": [
       "\n",
       "            <div id=\"VO6AFq\"></div>\n",
       "            <script type=\"text/javascript\" data-lets-plot-script=\"library\">\n",
       "                if(!window.letsPlotCallQueue) {\n",
       "                    window.letsPlotCallQueue = [];\n",
       "                }; \n",
       "                window.letsPlotCall = function(f) {\n",
       "                    window.letsPlotCallQueue.push(f);\n",
       "                };\n",
       "                (function() {\n",
       "                    var script = document.createElement(\"script\");\n",
       "                    script.type = \"text/javascript\";\n",
       "                    script.src = \"https://cdn.jsdelivr.net/gh/JetBrains/lets-plot@v4.5.1/js-package/distr/lets-plot.min.js\";\n",
       "                    script.onload = function() {\n",
       "                        window.letsPlotCall = function(f) {f();};\n",
       "                        window.letsPlotCallQueue.forEach(function(f) {f();});\n",
       "                        window.letsPlotCallQueue = [];\n",
       "                        \n",
       "                    };\n",
       "                    script.onerror = function(event) {\n",
       "                        window.letsPlotCall = function(f) {};    // noop\n",
       "                        window.letsPlotCallQueue = [];\n",
       "                        var div = document.createElement(\"div\");\n",
       "                        div.style.color = 'darkred';\n",
       "                        div.textContent = 'Error loading Lets-Plot JS';\n",
       "                        document.getElementById(\"VO6AFq\").appendChild(div);\n",
       "                    };\n",
       "                    var e = document.getElementById(\"VO6AFq\");\n",
       "                    e.appendChild(script);\n",
       "                })()\n",
       "            </script>\n",
       "            "
      ]
     },
     "metadata": {},
     "output_type": "display_data"
    },
    {
     "data": {
      "text/html": [
       "   <div id=\"8NuoVh\"></div>\n",
       "   <script type=\"text/javascript\" data-lets-plot-script=\"plot\">\n",
       "   \n",
       "   (function() {\n",
       "   // ----------\n",
       "   \n",
       "   var containerDiv = document.getElementById(\"8NuoVh\");\n",
       "   var observer = new ResizeObserver(function(entries) {\n",
       "       for (let entry of entries) {\n",
       "           var width = containerDiv.clientWidth\n",
       "           if (entry.contentBoxSize && width > 0) {\n",
       "           \n",
       "               // Render plot\n",
       "               if (observer) {\n",
       "                   observer.disconnect();\n",
       "                   observer = null;\n",
       "               }\n",
       "\n",
       "               var plotSpec={\n",
       "\"data\":{\n",
       "\"brand\":[\"vivo\",\"vivo\",\"vivo\",\"vivo\",\"vivo\",\"vivo\",\"vivo\",\"vivo\",\"vivo\",\"vivo\",\"vivo\",\"vivo\",\"vivo\",\"vivo\",\"vivo\",\"vivo\",\"vivo\",\"vivo\",\"vivo\",\"vivo\",\"vivo\",\"vivo\",\"vivo\",\"vivo\",\"vivo\",\"vivo\",\"vivo\",\"vivo\",\"vivo\",\"vivo\",\"vivo\",\"vivo\",\"vivo\",\"vivo\",\"vivo\",\"vivo\",\"vivo\",\"vivo\",\"vivo\",\"vivo\",\"vivo\",\"vivo\",\"vivo\",\"vivo\",\"vivo\",\"vivo\",\"vivo\",\"vivo\",\"vivo\",\"vivo\",\"vivo\",\"vivo\",\"vivo\",\"vivo\",\"vivo\",\"vivo\",\"vivo\",\"vivo\",\"vivo\",\"vivo\",\"vivo\",\"vivo\",\"vivo\",\"vivo\",\"vivo\",\"vivo\",\"vivo\",\"vivo\",\"vivo\",\"vivo\",\"vivo\",\"vivo\",\"vivo\",\"vivo\",\"vivo\",\"vivo\",\"vivo\",\"vivo\",\"vivo\",\"vivo\",\"vivo\",\"vivo\",\"vivo\",\"vivo\",\"vivo\",\"vivo\",\"vivo\",\"vivo\",\"vivo\",\"vivo\",\"vivo\",\"vivo\",\"vivo\",\"vivo\",\"vivo\",\"vivo\",\"vivo\",\"vivo\",\"vivo\",\"vivo\",\"vivo\",\"vivo\",\"vivo\",\"vivo\",\"vivo\",\"vivo\",\"vivo\",\"vivo\",\"vivo\",\"vivo\",\"vivo\",\"vivo\",\"vivo\",\"vivo\",\"vivo\",\"vivo\",\"vivo\",\"vivo\",\"vivo\",\"vivo\",\"vivo\",\"vivo\",\"vivo\",\"vivo\",\"vivo\",\"vivo\",\"vivo\",\"vivo\",\"vivo\",\"vivo\",\"vivo\",\"vivo\",\"vivo\",\"vivo\",\"vivo\",\"vivo\",\"vivo\",\"vivo\",\"vivo\",\"vivo\",\"vivo\",\"vivo\",\"vivo\",\"vivo\",\"vivo\",\"vivo\",\"vivo\",\"vivo\",\"vivo\",\"vivo\",\"vivo\",\"vivo\",\"vivo\",\"vivo\",\"vivo\",\"vivo\",\"vivo\",\"vivo\",\"vivo\",\"vivo\",\"realme\",\"realme\",\"realme\",\"realme\",\"realme\",\"realme\",\"realme\",\"realme\",\"realme\",\"realme\",\"realme\",\"realme\",\"realme\",\"realme\",\"realme\",\"realme\",\"realme\",\"realme\",\"realme\",\"realme\",\"realme\",\"realme\",\"realme\",\"realme\",\"realme\",\"realme\",\"realme\",\"realme\",\"realme\",\"realme\",\"realme\",\"realme\",\"realme\",\"realme\",\"realme\",\"realme\",\"realme\",\"realme\",\"realme\",\"realme\",\"realme\",\"realme\",\"realme\",\"realme\",\"realme\",\"realme\",\"realme\",\"realme\",\"realme\",\"realme\",\"realme\",\"realme\",\"realme\",\"realme\",\"realme\",\"realme\",\"realme\",\"realme\",\"realme\",\"realme\",\"realme\",\"realme\",\"realme\",\"realme\",\"realme\",\"realme\",\"realme\",\"realme\",\"realme\",\"realme\",\"realme\",\"realme\",\"realme\",\"realme\",\"realme\",\"realme\",\"realme\",\"realme\",\"realme\",\"realme\",\"realme\",\"realme\",\"realme\",\"realme\",\"realme\",\"realme\",\"realme\",\"realme\",\"realme\",\"realme\",\"realme\",\"realme\",\"realme\",\"realme\",\"realme\",\"realme\",\"realme\",\"realme\",\"realme\",\"realme\",\"realme\",\"realme\",\"realme\",\"realme\",\"realme\",\"realme\",\"realme\",\"realme\",\"realme\",\"realme\",\"realme\",\"realme\",\"realme\",\"realme\",\"realme\",\"realme\",\"realme\",\"realme\",\"realme\",\"realme\",\"realme\",\"realme\",\"realme\",\"realme\",\"realme\",\"realme\",\"realme\",\"realme\",\"realme\",\"realme\",\"Samsung\",\"Samsung\",\"Samsung\",\"Samsung\",\"Samsung\",\"Samsung\",\"Samsung\",\"Samsung\",\"Samsung\",\"Samsung\",\"Samsung\",\"Samsung\",\"Samsung\",\"Samsung\",\"Samsung\",\"Samsung\",\"Samsung\",\"Samsung\",\"Samsung\",\"Samsung\",\"Samsung\",\"Samsung\",\"Samsung\",\"Samsung\",\"Samsung\",\"Samsung\",\"Samsung\",\"Samsung\",\"Samsung\",\"Samsung\",\"Samsung\",\"Samsung\",\"Samsung\",\"Samsung\",\"Samsung\",\"Samsung\",\"Samsung\",\"Samsung\",\"Samsung\",\"Samsung\",\"Samsung\",\"Samsung\",\"Samsung\",\"Samsung\",\"Samsung\",\"Samsung\",\"Samsung\",\"Samsung\",\"Samsung\",\"Samsung\",\"Samsung\",\"Samsung\",\"Samsung\",\"Samsung\",\"Samsung\",\"Samsung\",\"Samsung\",\"Samsung\",\"Samsung\",\"Samsung\",\"Samsung\",\"Samsung\",\"Samsung\",\"Samsung\",\"Samsung\",\"Samsung\",\"Samsung\",\"Samsung\",\"Samsung\",\"Samsung\",\"Samsung\",\"Samsung\",\"Samsung\",\"Samsung\",\"Samsung\",\"Samsung\",\"Samsung\",\"Samsung\",\"Samsung\",\"Samsung\",\"Samsung\",\"Samsung\",\"Samsung\",\"Samsung\",\"Samsung\",\"Samsung\",\"Samsung\",\"Samsung\",\"Samsung\",\"Samsung\",\"Samsung\",\"Samsung\",\"Samsung\",\"Samsung\",\"Samsung\",\"Samsung\",\"Samsung\",\"Samsung\",\"Samsung\",\"Samsung\",\"Samsung\",\"Samsung\",\"Samsung\",\"Samsung\",\"Samsung\",\"Samsung\",\"Samsung\",\"Samsung\",\"Samsung\",\"Samsung\",\"Samsung\",\"Samsung\",\"Samsung\",\"Samsung\",\"Samsung\",\"Samsung\",\"Samsung\",\"Samsung\",\"Samsung\",\"Samsung\",\"Samsung\",\"Samsung\",\"Samsung\",\"Samsung\",\"Samsung\",\"Samsung\",\"Samsung\",\"Samsung\",\"Samsung\",\"Samsung\",\"Samsung\",\"Samsung\",\"Samsung\",\"OPPO\",\"OPPO\",\"OPPO\",\"OPPO\",\"OPPO\",\"OPPO\",\"OPPO\",\"OPPO\",\"OPPO\",\"OPPO\",\"OPPO\",\"OPPO\",\"OPPO\",\"OPPO\",\"OPPO\",\"OPPO\",\"OPPO\",\"OPPO\",\"OPPO\",\"OPPO\",\"OPPO\",\"OPPO\",\"OPPO\",\"OPPO\",\"OPPO\",\"OPPO\",\"OPPO\",\"OPPO\",\"OPPO\",\"OPPO\",\"OPPO\",\"OPPO\",\"OPPO\",\"OPPO\",\"OPPO\",\"OPPO\",\"OPPO\",\"OPPO\",\"OPPO\",\"OPPO\",\"OPPO\",\"OPPO\",\"OPPO\",\"OPPO\",\"OPPO\",\"OPPO\",\"OPPO\",\"OPPO\",\"OPPO\",\"OPPO\",\"OPPO\",\"OPPO\",\"OPPO\",\"OPPO\",\"OPPO\",\"OPPO\",\"OPPO\",\"OPPO\",\"OPPO\",\"OPPO\",\"OPPO\",\"OPPO\",\"OPPO\",\"OPPO\",\"OPPO\",\"OPPO\",\"OPPO\",\"OPPO\",\"OPPO\",\"OPPO\",\"OPPO\",\"OPPO\",\"OPPO\",\"OPPO\",\"OPPO\",\"OPPO\",\"OPPO\",\"OPPO\",\"OPPO\",\"OPPO\",\"OPPO\",\"OPPO\",\"OPPO\",\"OPPO\",\"OPPO\",\"OPPO\",\"OPPO\",\"OPPO\",\"OPPO\",\"OPPO\",\"OPPO\",\"OPPO\",\"OPPO\",\"OPPO\",\"Apple\",\"Apple\",\"Apple\",\"Apple\",\"Apple\",\"Apple\",\"Apple\",\"Apple\",\"Apple\",\"Apple\",\"Apple\",\"Apple\",\"Apple\",\"Apple\",\"Apple\",\"Apple\",\"Apple\",\"Apple\",\"Apple\",\"Apple\",\"Apple\",\"Apple\",\"Apple\",\"Apple\",\"Apple\",\"Apple\",\"Apple\",\"Apple\",\"Apple\",\"Apple\",\"Apple\",\"Apple\",\"Apple\",\"Apple\",\"Apple\",\"Apple\",\"Apple\",\"Apple\",\"Apple\",\"Apple\",\"Apple\",\"Apple\",\"Apple\",\"Apple\"],\n",
       "\"price\":[14499.0,14499.0,16990.0,21990.0,24999.0,17999.0,15999.0,23999.0,12999.0,12999.0,15599.0,12999.0,11999.0,18499.0,20499.0,18499.0,20499.0,11499.0,10499.0,22999.0,24999.0,22999.0,24999.0,29999.0,33999.0,29999.0,33999.0,13999.0,13999.0,13999.0,13990.0,26999.0,10449.0,38990.0,27999.0,9999.0,35999.0,35999.0,14499.0,32999.0,19490.0,16499.0,35140.0,32999.0,39999.0,29790.0,34999.0,29945.0,34999.0,39999.0,34999.0,25499.0,27999.0,24790.0,34999.0,36999.0,41999.0,34999.0,36999.0,42999.0,34999.0,36999.0,41999.0,49999.0,55999.0,49999.0,55999.0,26999.0,28999.0,26999.0,28999.0,34999.0,36999.0,40999.0,36999.0,40999.0,34999.0,36999.0,65999.0,65999.0,29775.0,49990.0,59999.0,42990.0,50499.0,7999.0,7999.0,23999.0,21999.0,21999.0,10990.0,11990.0,36999.0,9799.0,9499.0,8899.0,9597.0,31780.0,10005.0,64995.0,11899.0,14999.0,8399.0,7999.0,7999.0,8499.0,9499.0,23999.0,23299.0,23490.0,23299.0,24999.0,24999.0,15490.0,29800.0,19490.0,8790.0,43990.0,19985.0,15499.0,15499.0,14499.0,13499.0,14499.0,12499.0,12816.0,13999.0,12999.0,12999.0,12390.0,10449.0,11900.0,9850.0,10999.0,10999.0,12590.0,11999.0,11499.0,11499.0,14441.0,12999.0,15499.0,18999.0,13999.0,18999.0,21999.0,23999.0,21999.0,23999.0,21999.0,23999.0,23999.0,13999.0,14999.0,14999.0,17999.0,17999.0,16332.0,16695.0,9499.0,9999.0,12999.0,17999.0,16999.0,19999.0,22999.0,19999.0,20999.0,21999.0,22999.0,21999.0,23999.0,21999.0,23999.0,20999.0,21999.0,20999.0,21999.0,13499.0,13499.0,13499.0,17999.0,17999.0,19999.0,23999.0,26999.0,21999.0,23999.0,24390.0,21999.0,23999.0,26999.0,26999.0,25999.0,26999.0,28999.0,22999.0,24999.0,22999.0,26999.0,26999.0,24999.0,24999.0,26999.0,29999.0,14999.0,14999.0,14999.0,17999.0,16198.0,16445.0,20990.0,15027.0,20990.0,13499.0,11499.0,13499.0,11499.0,8574.0,8999.0,9999.0,8999.0,8999.0,9499.0,8999.0,11999.0,10999.0,7864.0,7699.0,7699.0,8499.0,8499.0,11299.0,11395.0,12999.0,10999.0,11498.0,11178.0,10499.0,12999.0,11499.0,14999.0,14999.0,21999.0,29999.0,29999.0,37999.0,37999.0,33999.0,37999.0,25280.0,27418.0,29995.0,30999.0,29490.0,32893.0,59999.0,59999.0,11499.0,11490.0,11650.0,11499.0,10999.0,7613.0,10560.0,7990.0,8493.0,8599.0,8990.0,12115.0,10399.0,12140.0,15999.0,18999.0,15999.0,18999.0,15999.0,18999.0,15999.0,17999.0,15999.0,17999.0,17999.0,20999.0,20999.0,18999.0,21890.0,15199.0,20990.0,22450.0,16999.0,13699.0,32999.0,12799.0,32999.0,6990.0,8909.0,12499.0,8114.0,7699.0,8067.0,7899.0,9990.0,9990.0,11499.0,11499.0,11499.0,13499.0,11248.0,18499.0,15499.0,18499.0,20999.0,16999.0,19999.0,14499.0,24498.0,14363.0,19999.0,14973.0,18990.0,15499.0,19999.0,18499.0,16790.0,16999.0,16798.0,22990.0,21042.0,25999.0,25999.0,28999.0,24491.0,28999.0,13599.0,27990.0,31999.0,28999.0,31990.0,27999.0,33999.0,45999.0,34599.0,6499.0,14999.0,10499.0,11499.0,10499.0,11499.0,10499.0,10999.0,9299.0,13490.0,13499.0,13499.0,13499.0,18499.0,21999.0,31999.0,23999.0,26999.0,19498.0,9890.0,24000.0,16499.0,8848.0,8450.0,12999.0,12990.0,12970.0,17999.0,1390.0,14497.0,21026.0,14534.0,22399.0,14482.0,20985.0,7999.0,27820.0,95900.0,49999.0,34999.0,37999.0,74999.0,89999.0,81999.0,64999.0,70999.0,82999.0,59999.0,49859.0,59999.0,49795.0,43999.0,144999.0,62999.0,80999.0,92999.0,80999.0,92999.0,80999.0,79149.0,111999.0,99999.0,129999.0,141999.0,79999.0,96999.0,104999.0,96999.0,97999.0,6967.0,12898.0,12715.0,14060.0,12748.0,16890.0,45999.0,34990.0,11499.0,45999.0,34990.0,31999.0,17999.0,23999.0,14999.0,13999.0,17999.0,19999.0,17999.0,19999.0,15999.0,27525.0,12999.0,9999.0,9999.0,9999.0,12499.0,20999.0,11499.0,18989.0,36999.0,12990.0,13999.0,13500.0,19490.0,17499.0,38999.0,29999.0,15999.0,16999.0,17998.0,79999.0,26999.0,20999.0,25999.0,25999.0,17706.0,21999.0,15999.0,16999.0,22999.0,20499.0,9499.0,19999.0,25999.0,25999.0,20999.0,22999.0,20999.0,22999.0,25999.0,27999.0,27999.0,89999.0,49999.0,74999.0,74999.0,69999.0,11999.0,99999.0,18999.0,12999.0,15999.0,12999.0,16099.0,12999.0,15999.0,32999.0,32999.0,32999.0,36999.0,36999.0,14499.0,40999.0,29440.0,12999.0,37999.0,37999.0,54999.0,27999.0,29999.0,32999.0,37999.0,39999.0,37999.0,39999.0,49999.0,54999.0,49999.0,54999.0,11499.0,40999.0,9499.0,38999.0,38999.0,48900.0,43900.0,48900.0,43900.0,49900.0,106600.0,54900.0,48900.0,48900.0,59900.0,74900.0,44999.0,54999.0,54999.0,74999.0,54999.0,159900.0,49900.0,74900.0,64900.0,74900.0,54999.0,69900.0,79900.0,164900.0,64999.0,164900.0,25000.0,34900.0,31500.0,77000.0,39900.0,84900.0,49900.0,52600.0,52900.0,47900.0,47900.0,45499.0,91900.0,103900.0,89900.0,103900.0,109900.0],\n",
       "\"ratings\":[116399.0,116399.0,181273.0,21239.0,21239.0,20055.0,113403.0,123257.0,448995.0,448995.0,77156.0,448995.0,187114.0,107344.0,107344.0,107344.0,107344.0,82404.0,55964.0,48590.0,48590.0,48590.0,48590.0,12260.0,5996.0,12260.0,5996.0,138072.0,138072.0,138072.0,5651.0,4217.0,4217.0,1807.0,8983.0,1978.0,7632.0,7632.0,7632.0,28151.0,8112.0,9588.0,3004.0,9588.0,6224.0,4.0,1131.0,7721.0,6254.0,2131.0,6254.0,5596.0,5596.0,5596.0,8027.0,8027.0,1050.0,8027.0,8027.0,1050.0,8027.0,8027.0,1050.0,1029.0,778.0,1029.0,778.0,6121.0,6121.0,6121.0,6121.0,454.0,454.0,139.0,454.0,139.0,454.0,454.0,527.0,527.0,3845.0,431.0,431.0,1069.0,502.0,1826.0,1416.0,742.0,742.0,742.0,4790.0,4790.0,1638.0,1638.0,1638.0,1638.0,8331.0,3276.0,3276.0,3276.0,8331.0,1429.0,808.0,1993.0,1993.0,112.0,112.0,3241.0,3241.0,3241.0,3241.0,401.0,401.0,2968.0,15395.0,15395.0,532.0,532.0,2056.0,2056.0,1947.0,2164.0,2164.0,2164.0,2723.0,2723.0,2723.0,298.0,567.0,107.0,107.0,107.0,107.0,620.0,620.0,620.0,620.0,620.0,620.0,857.0,239.0,371.0,315.0,194.0,315.0,1401.0,1401.0,1401.0,1401.0,1401.0,250.0,250.0,4528.0,1369.0,1369.0,4595.0,4595.0,589.0,589.0,4750.0,27420.0,12836.0,2426.0,7935.0,32861.0,12513.0,32861.0,32861.0,26058.0,26058.0,26058.0,13749.0,26058.0,13749.0,19549.0,19549.0,19549.0,19549.0,49675.0,49675.0,49675.0,796.0,796.0,796.0,5997.0,652.0,5997.0,5997.0,652.0,5997.0,5997.0,652.0,6365.0,10119.0,6365.0,6365.0,2374.0,2374.0,2374.0,229.0,229.0,2176.0,2176.0,2176.0,2901.0,3699.0,3699.0,3699.0,267513.0,1865.0,1865.0,306.0,2533.0,306.0,70914.0,175932.0,70914.0,175932.0,139931.0,139931.0,47953.0,47953.0,92232.0,92232.0,92232.0,134463.0,134463.0,10660.0,4579.0,4579.0,9774.0,9774.0,2954.0,14676.0,2954.0,14676.0,11973.0,11973.0,4953.0,1003.0,4953.0,1366.0,1366.0,5539.0,2178.0,2178.0,924.0,3611.0,2155.0,3611.0,2225.0,2225.0,818.0,2225.0,818.0,818.0,4.0,4.0,1174.0,1174.0,3873.0,3873.0,107570.0,3354.0,1099.0,3354.0,2852.0,2852.0,2852.0,116.0,803.0,116.0,45885.0,45885.0,45885.0,45885.0,45885.0,45885.0,29477.0,6430.0,29477.0,6430.0,1864.0,425.0,425.0,8217.0,7398.0,7398.0,7398.0,7398.0,13.0,39.0,5593.0,1725.0,1828.0,165.0,199.0,457.0,457.0,424.0,457.0,424.0,104.0,104.0,28.0,28.0,28.0,556.0,73187.0,42013.0,42013.0,42013.0,73187.0,3610.0,3610.0,1777.0,3610.0,466.0,1254.0,466.0,1254.0,466.0,1254.0,678.0,1409.0,2977.0,1409.0,256.0,7049.0,4644.0,4644.0,4644.0,4644.0,4644.0,1923.0,4670.0,4670.0,4670.0,4670.0,4670.0,1218.0,405.0,1218.0,36030.0,302637.0,302637.0,302637.0,302637.0,302637.0,302637.0,209617.0,9.0,126591.0,31446.0,31446.0,31446.0,224614.0,15797.0,30233.0,1577.0,522.0,13002.0,10731.0,17396.0,1725.0,2833.0,2833.0,7278.0,3077.0,3077.0,13160.0,5458.0,10019.0,752.0,10019.0,752.0,10019.0,752.0,739.0,44.0,73378.0,73378.0,67986.0,67986.0,4088.0,4088.0,4088.0,1683.0,1683.0,1683.0,500.0,500.0,500.0,500.0,500.0,2608.0,5155.0,911.0,911.0,911.0,911.0,911.0,911.0,30.0,30.0,975.0,975.0,790.0,500.0,500.0,500.0,500.0,1190.0,4088.0,287.0,95.0,3077.0,95.0,151064.0,151064.0,151064.0,151064.0,151064.0,1705.0,1705.0,1705.0,690.0,690.0,1790.0,1790.0,1790.0,1790.0,1862.0,1862.0,17882.0,525.0,525.0,21.0,1785.0,1785.0,1785.0,1497.0,2641.0,1848.0,1205.0,1205.0,1319.0,2588.0,1108.0,1108.0,7732.0,7732.0,7732.0,43.0,4492.0,6617.0,1132.0,1132.0,116.0,1656.0,1952.0,1952.0,1936.0,1936.0,6522.0,6522.0,6522.0,6522.0,1395.0,1395.0,1395.0,1395.0,3889.0,3889.0,3889.0,326.0,326.0,537.0,537.0,485.0,4492.0,54.0,39078.0,137954.0,17459.0,137954.0,17459.0,137954.0,17459.0,1147.0,1147.0,1147.0,4492.0,4492.0,54.0,4492.0,43030.0,43030.0,11230.0,11230.0,2393.0,11330.0,11330.0,1949.0,1762.0,1762.0,1762.0,1762.0,519.0,519.0,519.0,519.0,5164.0,2641.0,39078.0,17762.0,17762.0,205974.0,205974.0,205974.0,205974.0,205974.0,8694.0,212000.0,212000.0,212000.0,130710.0,130710.0,287746.0,287746.0,287746.0,287746.0,287746.0,2080.0,3845.0,3845.0,3845.0,3845.0,310216.0,85263.0,85263.0,2397.0,246841.0,2948.0,62684.0,95022.0,95022.0,11369.0,11369.0,3428.0,3428.0,1417.0,100909.0,100909.0,100909.0,100909.0,100909.0,11938.0,11938.0,11938.0,1451.0]\n",
       "},\n",
       "\"mapping\":{\n",
       "\"x\":\"ratings\",\n",
       "\"y\":\"price\",\n",
       "\"color\":\"brand\"\n",
       "},\n",
       "\"data_meta\":{\n",
       "\"series_annotations\":[{\n",
       "\"type\":\"int\",\n",
       "\"column\":\"brand_id\"\n",
       "},{\n",
       "\"type\":\"str\",\n",
       "\"column\":\"brand\"\n",
       "},{\n",
       "\"type\":\"int\",\n",
       "\"column\":\"product_id\"\n",
       "},{\n",
       "\"type\":\"str\",\n",
       "\"column\":\"product_name\"\n",
       "},{\n",
       "\"type\":\"float\",\n",
       "\"column\":\"price\"\n",
       "},{\n",
       "\"type\":\"float\",\n",
       "\"column\":\"discount\"\n",
       "},{\n",
       "\"type\":\"float\",\n",
       "\"column\":\"actual_price\"\n",
       "},{\n",
       "\"type\":\"str\",\n",
       "\"column\":\"battery\"\n",
       "},{\n",
       "\"type\":\"str\",\n",
       "\"column\":\"display\"\n",
       "},{\n",
       "\"type\":\"str\",\n",
       "\"column\":\"camera\"\n",
       "},{\n",
       "\"type\":\"str\",\n",
       "\"column\":\"processor\"\n",
       "},{\n",
       "\"type\":\"float\",\n",
       "\"column\":\"ram\"\n",
       "},{\n",
       "\"type\":\"float\",\n",
       "\"column\":\"rom\"\n",
       "},{\n",
       "\"type\":\"str\",\n",
       "\"column\":\"type\"\n",
       "},{\n",
       "\"type\":\"float\",\n",
       "\"column\":\"ratings\"\n",
       "},{\n",
       "\"type\":\"float\",\n",
       "\"column\":\"reviews\"\n",
       "}]\n",
       "},\n",
       "\"ggtitle\":{\n",
       "\"text\":\"Price vs Ratings by Brand\"\n",
       "},\n",
       "\"kind\":\"plot\",\n",
       "\"scales\":[],\n",
       "\"layers\":[{\n",
       "\"geom\":\"point\",\n",
       "\"mapping\":{\n",
       "},\n",
       "\"data_meta\":{\n",
       "},\n",
       "\"data\":{\n",
       "}\n",
       "}],\n",
       "\"metainfo_list\":[],\n",
       "\"spec_id\":\"4\"\n",
       "};\n",
       "               window.letsPlotCall(function() {\n",
       "       \n",
       "               var toolbar = null;\n",
       "               var plotContainer = containerDiv;               \n",
       "               \n",
       "                   var options = {\n",
       "                       sizing: {\n",
       "                           width_mode: \"min\",\n",
       "                           height_mode: \"scaled\",\n",
       "                           width: width\n",
       "                       }\n",
       "                   };\n",
       "                   var fig = LetsPlot.buildPlotFromProcessedSpecs(plotSpec, -1, -1, plotContainer, options);\n",
       "                   if (toolbar) {\n",
       "                     toolbar.bind(fig);\n",
       "                   }\n",
       "               });\n",
       "               \n",
       "               break;\n",
       "           }\n",
       "       }\n",
       "   });\n",
       "   \n",
       "   observer.observe(containerDiv);\n",
       "   \n",
       "   // ----------\n",
       "   })();\n",
       "   \n",
       "   </script>"
      ],
      "text/plain": [
       "<lets_plot.plot.core.PlotSpec at 0x1cf94a79160>"
      ]
     },
     "execution_count": 43,
     "metadata": {},
     "output_type": "execute_result"
    }
   ],
   "source": [
    "from lets_plot import *\n",
    "LetsPlot.setup_html()\n",
    "\n",
    "ggplot(df_joined, aes(x=\"ratings\", y=\"price\", color=\"brand\")) + \\\n",
    "    geom_point() + ggtitle(\"Price vs Ratings by Brand\")\n"
   ]
  },
  {
   "cell_type": "code",
   "execution_count": null,
   "metadata": {},
   "outputs": [
    {
     "data": {
      "text/html": [
       "   <div id=\"DmId5T\"></div>\n",
       "   <script type=\"text/javascript\" data-lets-plot-script=\"plot\">\n",
       "   \n",
       "   (function() {\n",
       "   // ----------\n",
       "   \n",
       "   var containerDiv = document.getElementById(\"DmId5T\");\n",
       "   var observer = new ResizeObserver(function(entries) {\n",
       "       for (let entry of entries) {\n",
       "           var width = containerDiv.clientWidth\n",
       "           if (entry.contentBoxSize && width > 0) {\n",
       "           \n",
       "               // Render plot\n",
       "               if (observer) {\n",
       "                   observer.disconnect();\n",
       "                   observer = null;\n",
       "               }\n",
       "\n",
       "               var plotSpec={\n",
       "\"data\":{\n",
       "\"brand\":[\"Apple\",\"OPPO\",\"Samsung\",\"realme\",\"vivo\"],\n",
       "\"price\":[68820.27272727272,28602.68085106383,33574.93233082707,18952.26153846154,23910.93125]\n",
       "},\n",
       "\"mapping\":{\n",
       "\"x\":\"brand\",\n",
       "\"y\":\"price\",\n",
       "\"fill\":\"brand\"\n",
       "},\n",
       "\"data_meta\":{\n",
       "\"series_annotations\":[{\n",
       "\"type\":\"str\",\n",
       "\"column\":\"brand\"\n",
       "},{\n",
       "\"type\":\"float\",\n",
       "\"column\":\"price\"\n",
       "}]\n",
       "},\n",
       "\"coord\":{\n",
       "\"name\":\"flip\",\n",
       "\"flip\":true\n",
       "},\n",
       "\"ggtitle\":{\n",
       "\"text\":\"Average Price by Brand\"\n",
       "},\n",
       "\"kind\":\"plot\",\n",
       "\"scales\":[],\n",
       "\"layers\":[{\n",
       "\"geom\":\"bar\",\n",
       "\"stat\":\"identity\",\n",
       "\"mapping\":{\n",
       "},\n",
       "\"data_meta\":{\n",
       "},\n",
       "\"data\":{\n",
       "}\n",
       "}],\n",
       "\"metainfo_list\":[],\n",
       "\"spec_id\":\"5\"\n",
       "};\n",
       "               window.letsPlotCall(function() {\n",
       "       \n",
       "               var toolbar = null;\n",
       "               var plotContainer = containerDiv;               \n",
       "               \n",
       "                   var options = {\n",
       "                       sizing: {\n",
       "                           width_mode: \"min\",\n",
       "                           height_mode: \"scaled\",\n",
       "                           width: width\n",
       "                       }\n",
       "                   };\n",
       "                   var fig = LetsPlot.buildPlotFromProcessedSpecs(plotSpec, -1, -1, plotContainer, options);\n",
       "                   if (toolbar) {\n",
       "                     toolbar.bind(fig);\n",
       "                   }\n",
       "               });\n",
       "               \n",
       "               break;\n",
       "           }\n",
       "       }\n",
       "   });\n",
       "   \n",
       "   observer.observe(containerDiv);\n",
       "   \n",
       "   // ----------\n",
       "   })();\n",
       "   \n",
       "   </script>"
      ],
      "text/plain": [
       "<lets_plot.plot.core.PlotSpec at 0x1cf94bcf410>"
      ]
     },
     "execution_count": 44,
     "metadata": {},
     "output_type": "execute_result"
    }
   ],
   "source": [
    "df_avg_price = df_joined.groupby(\"brand\")[\"price\"].mean().reset_index()\n",
    "\n",
    "ggplot(df_avg_price, aes(x=\"brand\", y=\"price\", fill=\"brand\")) + \\\n",
    "    geom_bar(stat=\"identity\") + coord_flip() + ggtitle(\"Average Price by Brand\")\n"
   ]
  },
  {
   "cell_type": "code",
   "execution_count": null,
   "metadata": {},
   "outputs": [],
   "source": [
    "import plotly.express as px"
   ]
  },
  {
   "cell_type": "code",
   "execution_count": null,
   "metadata": {},
   "outputs": [
    {
     "data": {
      "application/vnd.plotly.v1+json": {
       "config": {
        "plotlyServerURL": "https://plot.ly"
       },
       "data": [
        {
         "alignmentgroup": "True",
         "hovertemplate": "brand=%{x}<br>price=%{y}<extra></extra>",
         "legendgroup": "vivo",
         "marker": {
          "color": "#636efa"
         },
         "name": "vivo",
         "notched": false,
         "offsetgroup": "vivo",
         "orientation": "v",
         "showlegend": true,
         "type": "box",
         "x": [
          "vivo",
          "vivo",
          "vivo",
          "vivo",
          "vivo",
          "vivo",
          "vivo",
          "vivo",
          "vivo",
          "vivo",
          "vivo",
          "vivo",
          "vivo",
          "vivo",
          "vivo",
          "vivo",
          "vivo",
          "vivo",
          "vivo",
          "vivo",
          "vivo",
          "vivo",
          "vivo",
          "vivo",
          "vivo",
          "vivo",
          "vivo",
          "vivo",
          "vivo",
          "vivo",
          "vivo",
          "vivo",
          "vivo",
          "vivo",
          "vivo",
          "vivo",
          "vivo",
          "vivo",
          "vivo",
          "vivo",
          "vivo",
          "vivo",
          "vivo",
          "vivo",
          "vivo",
          "vivo",
          "vivo",
          "vivo",
          "vivo",
          "vivo",
          "vivo",
          "vivo",
          "vivo",
          "vivo",
          "vivo",
          "vivo",
          "vivo",
          "vivo",
          "vivo",
          "vivo",
          "vivo",
          "vivo",
          "vivo",
          "vivo",
          "vivo",
          "vivo",
          "vivo",
          "vivo",
          "vivo",
          "vivo",
          "vivo",
          "vivo",
          "vivo",
          "vivo",
          "vivo",
          "vivo",
          "vivo",
          "vivo",
          "vivo",
          "vivo",
          "vivo",
          "vivo",
          "vivo",
          "vivo",
          "vivo",
          "vivo",
          "vivo",
          "vivo",
          "vivo",
          "vivo",
          "vivo",
          "vivo",
          "vivo",
          "vivo",
          "vivo",
          "vivo",
          "vivo",
          "vivo",
          "vivo",
          "vivo",
          "vivo",
          "vivo",
          "vivo",
          "vivo",
          "vivo",
          "vivo",
          "vivo",
          "vivo",
          "vivo",
          "vivo",
          "vivo",
          "vivo",
          "vivo",
          "vivo",
          "vivo",
          "vivo",
          "vivo",
          "vivo",
          "vivo",
          "vivo",
          "vivo",
          "vivo",
          "vivo",
          "vivo",
          "vivo",
          "vivo",
          "vivo",
          "vivo",
          "vivo",
          "vivo",
          "vivo",
          "vivo",
          "vivo",
          "vivo",
          "vivo",
          "vivo",
          "vivo",
          "vivo",
          "vivo",
          "vivo",
          "vivo",
          "vivo",
          "vivo",
          "vivo",
          "vivo",
          "vivo",
          "vivo",
          "vivo",
          "vivo",
          "vivo",
          "vivo",
          "vivo",
          "vivo",
          "vivo",
          "vivo",
          "vivo",
          "vivo",
          "vivo",
          "vivo",
          "vivo"
         ],
         "x0": " ",
         "xaxis": "x",
         "y": [
          14499,
          14499,
          16990,
          21990,
          24999,
          17999,
          15999,
          23999,
          12999,
          12999,
          15599,
          12999,
          11999,
          18499,
          20499,
          18499,
          20499,
          11499,
          10499,
          22999,
          24999,
          22999,
          24999,
          29999,
          33999,
          29999,
          33999,
          13999,
          13999,
          13999,
          13990,
          26999,
          10449,
          38990,
          27999,
          9999,
          35999,
          35999,
          14499,
          32999,
          19490,
          16499,
          35140,
          32999,
          39999,
          29790,
          34999,
          29945,
          34999,
          39999,
          34999,
          25499,
          27999,
          24790,
          34999,
          36999,
          41999,
          34999,
          36999,
          42999,
          34999,
          36999,
          41999,
          49999,
          55999,
          49999,
          55999,
          26999,
          28999,
          26999,
          28999,
          34999,
          36999,
          40999,
          36999,
          40999,
          34999,
          36999,
          65999,
          65999,
          29775,
          49990,
          59999,
          42990,
          50499,
          7999,
          7999,
          23999,
          21999,
          21999,
          10990,
          11990,
          36999,
          9799,
          9499,
          8899,
          9597,
          31780,
          10005,
          64995,
          11899,
          14999,
          8399,
          7999,
          7999,
          8499,
          9499,
          23999,
          23299,
          23490,
          23299,
          24999,
          24999,
          15490,
          29800,
          19490,
          8790,
          43990,
          19985,
          15499,
          15499,
          14499,
          13499,
          14499,
          12499,
          12816,
          13999,
          12999,
          12999,
          12390,
          10449,
          11900,
          9850,
          10999,
          10999,
          12590,
          11999,
          11499,
          11499,
          14441,
          12999,
          15499,
          18999,
          13999,
          18999,
          21999,
          23999,
          21999,
          23999,
          21999,
          23999,
          23999,
          13999,
          14999,
          14999,
          17999,
          17999,
          16332,
          16695,
          9499
         ],
         "y0": " ",
         "yaxis": "y"
        },
        {
         "alignmentgroup": "True",
         "hovertemplate": "brand=%{x}<br>price=%{y}<extra></extra>",
         "legendgroup": "realme",
         "marker": {
          "color": "#EF553B"
         },
         "name": "realme",
         "notched": false,
         "offsetgroup": "realme",
         "orientation": "v",
         "showlegend": true,
         "type": "box",
         "x": [
          "realme",
          "realme",
          "realme",
          "realme",
          "realme",
          "realme",
          "realme",
          "realme",
          "realme",
          "realme",
          "realme",
          "realme",
          "realme",
          "realme",
          "realme",
          "realme",
          "realme",
          "realme",
          "realme",
          "realme",
          "realme",
          "realme",
          "realme",
          "realme",
          "realme",
          "realme",
          "realme",
          "realme",
          "realme",
          "realme",
          "realme",
          "realme",
          "realme",
          "realme",
          "realme",
          "realme",
          "realme",
          "realme",
          "realme",
          "realme",
          "realme",
          "realme",
          "realme",
          "realme",
          "realme",
          "realme",
          "realme",
          "realme",
          "realme",
          "realme",
          "realme",
          "realme",
          "realme",
          "realme",
          "realme",
          "realme",
          "realme",
          "realme",
          "realme",
          "realme",
          "realme",
          "realme",
          "realme",
          "realme",
          "realme",
          "realme",
          "realme",
          "realme",
          "realme",
          "realme",
          "realme",
          "realme",
          "realme",
          "realme",
          "realme",
          "realme",
          "realme",
          "realme",
          "realme",
          "realme",
          "realme",
          "realme",
          "realme",
          "realme",
          "realme",
          "realme",
          "realme",
          "realme",
          "realme",
          "realme",
          "realme",
          "realme",
          "realme",
          "realme",
          "realme",
          "realme",
          "realme",
          "realme",
          "realme",
          "realme",
          "realme",
          "realme",
          "realme",
          "realme",
          "realme",
          "realme",
          "realme",
          "realme",
          "realme",
          "realme",
          "realme",
          "realme",
          "realme",
          "realme",
          "realme",
          "realme",
          "realme",
          "realme",
          "realme",
          "realme",
          "realme",
          "realme",
          "realme",
          "realme",
          "realme",
          "realme",
          "realme",
          "realme",
          "realme",
          "realme"
         ],
         "x0": " ",
         "xaxis": "x",
         "y": [
          9999,
          12999,
          17999,
          16999,
          19999,
          22999,
          19999,
          20999,
          21999,
          22999,
          21999,
          23999,
          21999,
          23999,
          20999,
          21999,
          20999,
          21999,
          13499,
          13499,
          13499,
          17999,
          17999,
          19999,
          23999,
          26999,
          21999,
          23999,
          24390,
          21999,
          23999,
          26999,
          26999,
          25999,
          26999,
          28999,
          22999,
          24999,
          22999,
          26999,
          26999,
          24999,
          24999,
          26999,
          29999,
          14999,
          14999,
          14999,
          17999,
          16198,
          16445,
          20990,
          15027,
          20990,
          13499,
          11499,
          13499,
          11499,
          8574,
          8999,
          9999,
          8999,
          8999,
          9499,
          8999,
          11999,
          10999,
          7864,
          7699,
          7699,
          8499,
          8499,
          11299,
          11395,
          12999,
          10999,
          11498,
          11178,
          10499,
          12999,
          11499,
          14999,
          14999,
          21999,
          29999,
          29999,
          37999,
          37999,
          33999,
          37999,
          25280,
          27418,
          29995,
          30999,
          29490,
          32893,
          59999,
          59999,
          11499,
          11490,
          11650,
          11499,
          10999,
          7613,
          10560,
          7990,
          8493,
          8599,
          8990,
          12115,
          10399,
          12140,
          15999,
          18999,
          15999,
          18999,
          15999,
          18999,
          15999,
          17999,
          15999,
          17999,
          17999,
          20999,
          20999,
          18999,
          21890,
          15199,
          20990,
          22450
         ],
         "y0": " ",
         "yaxis": "y"
        },
        {
         "alignmentgroup": "True",
         "hovertemplate": "brand=%{x}<br>price=%{y}<extra></extra>",
         "legendgroup": "Samsung",
         "marker": {
          "color": "#00cc96"
         },
         "name": "Samsung",
         "notched": false,
         "offsetgroup": "Samsung",
         "orientation": "v",
         "showlegend": true,
         "type": "box",
         "x": [
          "Samsung",
          "Samsung",
          "Samsung",
          "Samsung",
          "Samsung",
          "Samsung",
          "Samsung",
          "Samsung",
          "Samsung",
          "Samsung",
          "Samsung",
          "Samsung",
          "Samsung",
          "Samsung",
          "Samsung",
          "Samsung",
          "Samsung",
          "Samsung",
          "Samsung",
          "Samsung",
          "Samsung",
          "Samsung",
          "Samsung",
          "Samsung",
          "Samsung",
          "Samsung",
          "Samsung",
          "Samsung",
          "Samsung",
          "Samsung",
          "Samsung",
          "Samsung",
          "Samsung",
          "Samsung",
          "Samsung",
          "Samsung",
          "Samsung",
          "Samsung",
          "Samsung",
          "Samsung",
          "Samsung",
          "Samsung",
          "Samsung",
          "Samsung",
          "Samsung",
          "Samsung",
          "Samsung",
          "Samsung",
          "Samsung",
          "Samsung",
          "Samsung",
          "Samsung",
          "Samsung",
          "Samsung",
          "Samsung",
          "Samsung",
          "Samsung",
          "Samsung",
          "Samsung",
          "Samsung",
          "Samsung",
          "Samsung",
          "Samsung",
          "Samsung",
          "Samsung",
          "Samsung",
          "Samsung",
          "Samsung",
          "Samsung",
          "Samsung",
          "Samsung",
          "Samsung",
          "Samsung",
          "Samsung",
          "Samsung",
          "Samsung",
          "Samsung",
          "Samsung",
          "Samsung",
          "Samsung",
          "Samsung",
          "Samsung",
          "Samsung",
          "Samsung",
          "Samsung",
          "Samsung",
          "Samsung",
          "Samsung",
          "Samsung",
          "Samsung",
          "Samsung",
          "Samsung",
          "Samsung",
          "Samsung",
          "Samsung",
          "Samsung",
          "Samsung",
          "Samsung",
          "Samsung",
          "Samsung",
          "Samsung",
          "Samsung",
          "Samsung",
          "Samsung",
          "Samsung",
          "Samsung",
          "Samsung",
          "Samsung",
          "Samsung",
          "Samsung",
          "Samsung",
          "Samsung",
          "Samsung",
          "Samsung",
          "Samsung",
          "Samsung",
          "Samsung",
          "Samsung",
          "Samsung",
          "Samsung",
          "Samsung",
          "Samsung",
          "Samsung",
          "Samsung",
          "Samsung",
          "Samsung",
          "Samsung",
          "Samsung",
          "Samsung",
          "Samsung",
          "Samsung",
          "Samsung",
          "Samsung"
         ],
         "x0": " ",
         "xaxis": "x",
         "y": [
          16999,
          13699,
          32999,
          12799,
          32999,
          6990,
          8909,
          12499,
          8114,
          7699,
          8067,
          7899,
          9990,
          9990,
          11499,
          11499,
          11499,
          13499,
          11248,
          18499,
          15499,
          18499,
          20999,
          16999,
          19999,
          14499,
          24498,
          14363,
          19999,
          14973,
          18990,
          15499,
          19999,
          18499,
          16790,
          16999,
          16798,
          22990,
          21042,
          25999,
          25999,
          28999,
          24491,
          28999,
          13599,
          27990,
          31999,
          28999,
          31990,
          27999,
          33999,
          45999,
          34599,
          6499,
          14999,
          10499,
          11499,
          10499,
          11499,
          10499,
          10999,
          9299,
          13490,
          13499,
          13499,
          13499,
          18499,
          21999,
          31999,
          23999,
          26999,
          19498,
          9890,
          24000,
          16499,
          8848,
          8450,
          12999,
          12990,
          12970,
          17999,
          1390,
          14497,
          21026,
          14534,
          22399,
          14482,
          20985,
          7999,
          27820,
          95900,
          49999,
          34999,
          37999,
          74999,
          89999,
          81999,
          64999,
          70999,
          82999,
          59999,
          49859,
          59999,
          49795,
          43999,
          144999,
          62999,
          80999,
          92999,
          80999,
          92999,
          80999,
          79149,
          111999,
          99999,
          129999,
          141999,
          79999,
          96999,
          104999,
          96999,
          97999,
          6967,
          12898,
          12715,
          14060,
          12748,
          16890,
          45999,
          34990,
          11499,
          45999,
          34990
         ],
         "y0": " ",
         "yaxis": "y"
        },
        {
         "alignmentgroup": "True",
         "hovertemplate": "brand=%{x}<br>price=%{y}<extra></extra>",
         "legendgroup": "OPPO",
         "marker": {
          "color": "#ab63fa"
         },
         "name": "OPPO",
         "notched": false,
         "offsetgroup": "OPPO",
         "orientation": "v",
         "showlegend": true,
         "type": "box",
         "x": [
          "OPPO",
          "OPPO",
          "OPPO",
          "OPPO",
          "OPPO",
          "OPPO",
          "OPPO",
          "OPPO",
          "OPPO",
          "OPPO",
          "OPPO",
          "OPPO",
          "OPPO",
          "OPPO",
          "OPPO",
          "OPPO",
          "OPPO",
          "OPPO",
          "OPPO",
          "OPPO",
          "OPPO",
          "OPPO",
          "OPPO",
          "OPPO",
          "OPPO",
          "OPPO",
          "OPPO",
          "OPPO",
          "OPPO",
          "OPPO",
          "OPPO",
          "OPPO",
          "OPPO",
          "OPPO",
          "OPPO",
          "OPPO",
          "OPPO",
          "OPPO",
          "OPPO",
          "OPPO",
          "OPPO",
          "OPPO",
          "OPPO",
          "OPPO",
          "OPPO",
          "OPPO",
          "OPPO",
          "OPPO",
          "OPPO",
          "OPPO",
          "OPPO",
          "OPPO",
          "OPPO",
          "OPPO",
          "OPPO",
          "OPPO",
          "OPPO",
          "OPPO",
          "OPPO",
          "OPPO",
          "OPPO",
          "OPPO",
          "OPPO",
          "OPPO",
          "OPPO",
          "OPPO",
          "OPPO",
          "OPPO",
          "OPPO",
          "OPPO",
          "OPPO",
          "OPPO",
          "OPPO",
          "OPPO",
          "OPPO",
          "OPPO",
          "OPPO",
          "OPPO",
          "OPPO",
          "OPPO",
          "OPPO",
          "OPPO",
          "OPPO",
          "OPPO",
          "OPPO",
          "OPPO",
          "OPPO",
          "OPPO",
          "OPPO",
          "OPPO",
          "OPPO",
          "OPPO",
          "OPPO",
          "OPPO"
         ],
         "x0": " ",
         "xaxis": "x",
         "y": [
          31999,
          17999,
          23999,
          14999,
          13999,
          17999,
          19999,
          17999,
          19999,
          15999,
          27525,
          12999,
          9999,
          9999,
          9999,
          12499,
          20999,
          11499,
          18989,
          36999,
          12990,
          13999,
          13500,
          19490,
          17499,
          38999,
          29999,
          15999,
          16999,
          17998,
          79999,
          26999,
          20999,
          25999,
          25999,
          17706,
          21999,
          15999,
          16999,
          22999,
          20499,
          9499,
          19999,
          25999,
          25999,
          20999,
          22999,
          20999,
          22999,
          25999,
          27999,
          27999,
          89999,
          49999,
          74999,
          74999,
          69999,
          11999,
          99999,
          18999,
          12999,
          15999,
          12999,
          16099,
          12999,
          15999,
          32999,
          32999,
          32999,
          36999,
          36999,
          14499,
          40999,
          29440,
          12999,
          37999,
          37999,
          54999,
          27999,
          29999,
          32999,
          37999,
          39999,
          37999,
          39999,
          49999,
          54999,
          49999,
          54999,
          11499,
          40999,
          9499,
          38999,
          38999
         ],
         "y0": " ",
         "yaxis": "y"
        },
        {
         "alignmentgroup": "True",
         "hovertemplate": "brand=%{x}<br>price=%{y}<extra></extra>",
         "legendgroup": "Apple",
         "marker": {
          "color": "#FFA15A"
         },
         "name": "Apple",
         "notched": false,
         "offsetgroup": "Apple",
         "orientation": "v",
         "showlegend": true,
         "type": "box",
         "x": [
          "Apple",
          "Apple",
          "Apple",
          "Apple",
          "Apple",
          "Apple",
          "Apple",
          "Apple",
          "Apple",
          "Apple",
          "Apple",
          "Apple",
          "Apple",
          "Apple",
          "Apple",
          "Apple",
          "Apple",
          "Apple",
          "Apple",
          "Apple",
          "Apple",
          "Apple",
          "Apple",
          "Apple",
          "Apple",
          "Apple",
          "Apple",
          "Apple",
          "Apple",
          "Apple",
          "Apple",
          "Apple",
          "Apple",
          "Apple",
          "Apple",
          "Apple",
          "Apple",
          "Apple",
          "Apple",
          "Apple",
          "Apple",
          "Apple",
          "Apple",
          "Apple"
         ],
         "x0": " ",
         "xaxis": "x",
         "y": [
          48900,
          43900,
          48900,
          43900,
          49900,
          106600,
          54900,
          48900,
          48900,
          59900,
          74900,
          44999,
          54999,
          54999,
          74999,
          54999,
          159900,
          49900,
          74900,
          64900,
          74900,
          54999,
          69900,
          79900,
          164900,
          64999,
          164900,
          25000,
          34900,
          31500,
          77000,
          39900,
          84900,
          49900,
          52600,
          52900,
          47900,
          47900,
          45499,
          91900,
          103900,
          89900,
          103900,
          109900
         ],
         "y0": " ",
         "yaxis": "y"
        }
       ],
       "layout": {
        "boxmode": "overlay",
        "legend": {
         "title": {
          "text": "brand"
         },
         "tracegroupgap": 0
        },
        "template": {
         "data": {
          "bar": [
           {
            "error_x": {
             "color": "#2a3f5f"
            },
            "error_y": {
             "color": "#2a3f5f"
            },
            "marker": {
             "line": {
              "color": "#E5ECF6",
              "width": 0.5
             },
             "pattern": {
              "fillmode": "overlay",
              "size": 10,
              "solidity": 0.2
             }
            },
            "type": "bar"
           }
          ],
          "barpolar": [
           {
            "marker": {
             "line": {
              "color": "#E5ECF6",
              "width": 0.5
             },
             "pattern": {
              "fillmode": "overlay",
              "size": 10,
              "solidity": 0.2
             }
            },
            "type": "barpolar"
           }
          ],
          "carpet": [
           {
            "aaxis": {
             "endlinecolor": "#2a3f5f",
             "gridcolor": "white",
             "linecolor": "white",
             "minorgridcolor": "white",
             "startlinecolor": "#2a3f5f"
            },
            "baxis": {
             "endlinecolor": "#2a3f5f",
             "gridcolor": "white",
             "linecolor": "white",
             "minorgridcolor": "white",
             "startlinecolor": "#2a3f5f"
            },
            "type": "carpet"
           }
          ],
          "choropleth": [
           {
            "colorbar": {
             "outlinewidth": 0,
             "ticks": ""
            },
            "type": "choropleth"
           }
          ],
          "contour": [
           {
            "colorbar": {
             "outlinewidth": 0,
             "ticks": ""
            },
            "colorscale": [
             [
              0,
              "#0d0887"
             ],
             [
              0.1111111111111111,
              "#46039f"
             ],
             [
              0.2222222222222222,
              "#7201a8"
             ],
             [
              0.3333333333333333,
              "#9c179e"
             ],
             [
              0.4444444444444444,
              "#bd3786"
             ],
             [
              0.5555555555555556,
              "#d8576b"
             ],
             [
              0.6666666666666666,
              "#ed7953"
             ],
             [
              0.7777777777777778,
              "#fb9f3a"
             ],
             [
              0.8888888888888888,
              "#fdca26"
             ],
             [
              1,
              "#f0f921"
             ]
            ],
            "type": "contour"
           }
          ],
          "contourcarpet": [
           {
            "colorbar": {
             "outlinewidth": 0,
             "ticks": ""
            },
            "type": "contourcarpet"
           }
          ],
          "heatmap": [
           {
            "colorbar": {
             "outlinewidth": 0,
             "ticks": ""
            },
            "colorscale": [
             [
              0,
              "#0d0887"
             ],
             [
              0.1111111111111111,
              "#46039f"
             ],
             [
              0.2222222222222222,
              "#7201a8"
             ],
             [
              0.3333333333333333,
              "#9c179e"
             ],
             [
              0.4444444444444444,
              "#bd3786"
             ],
             [
              0.5555555555555556,
              "#d8576b"
             ],
             [
              0.6666666666666666,
              "#ed7953"
             ],
             [
              0.7777777777777778,
              "#fb9f3a"
             ],
             [
              0.8888888888888888,
              "#fdca26"
             ],
             [
              1,
              "#f0f921"
             ]
            ],
            "type": "heatmap"
           }
          ],
          "heatmapgl": [
           {
            "colorbar": {
             "outlinewidth": 0,
             "ticks": ""
            },
            "colorscale": [
             [
              0,
              "#0d0887"
             ],
             [
              0.1111111111111111,
              "#46039f"
             ],
             [
              0.2222222222222222,
              "#7201a8"
             ],
             [
              0.3333333333333333,
              "#9c179e"
             ],
             [
              0.4444444444444444,
              "#bd3786"
             ],
             [
              0.5555555555555556,
              "#d8576b"
             ],
             [
              0.6666666666666666,
              "#ed7953"
             ],
             [
              0.7777777777777778,
              "#fb9f3a"
             ],
             [
              0.8888888888888888,
              "#fdca26"
             ],
             [
              1,
              "#f0f921"
             ]
            ],
            "type": "heatmapgl"
           }
          ],
          "histogram": [
           {
            "marker": {
             "pattern": {
              "fillmode": "overlay",
              "size": 10,
              "solidity": 0.2
             }
            },
            "type": "histogram"
           }
          ],
          "histogram2d": [
           {
            "colorbar": {
             "outlinewidth": 0,
             "ticks": ""
            },
            "colorscale": [
             [
              0,
              "#0d0887"
             ],
             [
              0.1111111111111111,
              "#46039f"
             ],
             [
              0.2222222222222222,
              "#7201a8"
             ],
             [
              0.3333333333333333,
              "#9c179e"
             ],
             [
              0.4444444444444444,
              "#bd3786"
             ],
             [
              0.5555555555555556,
              "#d8576b"
             ],
             [
              0.6666666666666666,
              "#ed7953"
             ],
             [
              0.7777777777777778,
              "#fb9f3a"
             ],
             [
              0.8888888888888888,
              "#fdca26"
             ],
             [
              1,
              "#f0f921"
             ]
            ],
            "type": "histogram2d"
           }
          ],
          "histogram2dcontour": [
           {
            "colorbar": {
             "outlinewidth": 0,
             "ticks": ""
            },
            "colorscale": [
             [
              0,
              "#0d0887"
             ],
             [
              0.1111111111111111,
              "#46039f"
             ],
             [
              0.2222222222222222,
              "#7201a8"
             ],
             [
              0.3333333333333333,
              "#9c179e"
             ],
             [
              0.4444444444444444,
              "#bd3786"
             ],
             [
              0.5555555555555556,
              "#d8576b"
             ],
             [
              0.6666666666666666,
              "#ed7953"
             ],
             [
              0.7777777777777778,
              "#fb9f3a"
             ],
             [
              0.8888888888888888,
              "#fdca26"
             ],
             [
              1,
              "#f0f921"
             ]
            ],
            "type": "histogram2dcontour"
           }
          ],
          "mesh3d": [
           {
            "colorbar": {
             "outlinewidth": 0,
             "ticks": ""
            },
            "type": "mesh3d"
           }
          ],
          "parcoords": [
           {
            "line": {
             "colorbar": {
              "outlinewidth": 0,
              "ticks": ""
             }
            },
            "type": "parcoords"
           }
          ],
          "pie": [
           {
            "automargin": true,
            "type": "pie"
           }
          ],
          "scatter": [
           {
            "fillpattern": {
             "fillmode": "overlay",
             "size": 10,
             "solidity": 0.2
            },
            "type": "scatter"
           }
          ],
          "scatter3d": [
           {
            "line": {
             "colorbar": {
              "outlinewidth": 0,
              "ticks": ""
             }
            },
            "marker": {
             "colorbar": {
              "outlinewidth": 0,
              "ticks": ""
             }
            },
            "type": "scatter3d"
           }
          ],
          "scattercarpet": [
           {
            "marker": {
             "colorbar": {
              "outlinewidth": 0,
              "ticks": ""
             }
            },
            "type": "scattercarpet"
           }
          ],
          "scattergeo": [
           {
            "marker": {
             "colorbar": {
              "outlinewidth": 0,
              "ticks": ""
             }
            },
            "type": "scattergeo"
           }
          ],
          "scattergl": [
           {
            "marker": {
             "colorbar": {
              "outlinewidth": 0,
              "ticks": ""
             }
            },
            "type": "scattergl"
           }
          ],
          "scattermapbox": [
           {
            "marker": {
             "colorbar": {
              "outlinewidth": 0,
              "ticks": ""
             }
            },
            "type": "scattermapbox"
           }
          ],
          "scatterpolar": [
           {
            "marker": {
             "colorbar": {
              "outlinewidth": 0,
              "ticks": ""
             }
            },
            "type": "scatterpolar"
           }
          ],
          "scatterpolargl": [
           {
            "marker": {
             "colorbar": {
              "outlinewidth": 0,
              "ticks": ""
             }
            },
            "type": "scatterpolargl"
           }
          ],
          "scatterternary": [
           {
            "marker": {
             "colorbar": {
              "outlinewidth": 0,
              "ticks": ""
             }
            },
            "type": "scatterternary"
           }
          ],
          "surface": [
           {
            "colorbar": {
             "outlinewidth": 0,
             "ticks": ""
            },
            "colorscale": [
             [
              0,
              "#0d0887"
             ],
             [
              0.1111111111111111,
              "#46039f"
             ],
             [
              0.2222222222222222,
              "#7201a8"
             ],
             [
              0.3333333333333333,
              "#9c179e"
             ],
             [
              0.4444444444444444,
              "#bd3786"
             ],
             [
              0.5555555555555556,
              "#d8576b"
             ],
             [
              0.6666666666666666,
              "#ed7953"
             ],
             [
              0.7777777777777778,
              "#fb9f3a"
             ],
             [
              0.8888888888888888,
              "#fdca26"
             ],
             [
              1,
              "#f0f921"
             ]
            ],
            "type": "surface"
           }
          ],
          "table": [
           {
            "cells": {
             "fill": {
              "color": "#EBF0F8"
             },
             "line": {
              "color": "white"
             }
            },
            "header": {
             "fill": {
              "color": "#C8D4E3"
             },
             "line": {
              "color": "white"
             }
            },
            "type": "table"
           }
          ]
         },
         "layout": {
          "annotationdefaults": {
           "arrowcolor": "#2a3f5f",
           "arrowhead": 0,
           "arrowwidth": 1
          },
          "autotypenumbers": "strict",
          "coloraxis": {
           "colorbar": {
            "outlinewidth": 0,
            "ticks": ""
           }
          },
          "colorscale": {
           "diverging": [
            [
             0,
             "#8e0152"
            ],
            [
             0.1,
             "#c51b7d"
            ],
            [
             0.2,
             "#de77ae"
            ],
            [
             0.3,
             "#f1b6da"
            ],
            [
             0.4,
             "#fde0ef"
            ],
            [
             0.5,
             "#f7f7f7"
            ],
            [
             0.6,
             "#e6f5d0"
            ],
            [
             0.7,
             "#b8e186"
            ],
            [
             0.8,
             "#7fbc41"
            ],
            [
             0.9,
             "#4d9221"
            ],
            [
             1,
             "#276419"
            ]
           ],
           "sequential": [
            [
             0,
             "#0d0887"
            ],
            [
             0.1111111111111111,
             "#46039f"
            ],
            [
             0.2222222222222222,
             "#7201a8"
            ],
            [
             0.3333333333333333,
             "#9c179e"
            ],
            [
             0.4444444444444444,
             "#bd3786"
            ],
            [
             0.5555555555555556,
             "#d8576b"
            ],
            [
             0.6666666666666666,
             "#ed7953"
            ],
            [
             0.7777777777777778,
             "#fb9f3a"
            ],
            [
             0.8888888888888888,
             "#fdca26"
            ],
            [
             1,
             "#f0f921"
            ]
           ],
           "sequentialminus": [
            [
             0,
             "#0d0887"
            ],
            [
             0.1111111111111111,
             "#46039f"
            ],
            [
             0.2222222222222222,
             "#7201a8"
            ],
            [
             0.3333333333333333,
             "#9c179e"
            ],
            [
             0.4444444444444444,
             "#bd3786"
            ],
            [
             0.5555555555555556,
             "#d8576b"
            ],
            [
             0.6666666666666666,
             "#ed7953"
            ],
            [
             0.7777777777777778,
             "#fb9f3a"
            ],
            [
             0.8888888888888888,
             "#fdca26"
            ],
            [
             1,
             "#f0f921"
            ]
           ]
          },
          "colorway": [
           "#636efa",
           "#EF553B",
           "#00cc96",
           "#ab63fa",
           "#FFA15A",
           "#19d3f3",
           "#FF6692",
           "#B6E880",
           "#FF97FF",
           "#FECB52"
          ],
          "font": {
           "color": "#2a3f5f"
          },
          "geo": {
           "bgcolor": "white",
           "lakecolor": "white",
           "landcolor": "#E5ECF6",
           "showlakes": true,
           "showland": true,
           "subunitcolor": "white"
          },
          "hoverlabel": {
           "align": "left"
          },
          "hovermode": "closest",
          "mapbox": {
           "style": "light"
          },
          "paper_bgcolor": "white",
          "plot_bgcolor": "#E5ECF6",
          "polar": {
           "angularaxis": {
            "gridcolor": "white",
            "linecolor": "white",
            "ticks": ""
           },
           "bgcolor": "#E5ECF6",
           "radialaxis": {
            "gridcolor": "white",
            "linecolor": "white",
            "ticks": ""
           }
          },
          "scene": {
           "xaxis": {
            "backgroundcolor": "#E5ECF6",
            "gridcolor": "white",
            "gridwidth": 2,
            "linecolor": "white",
            "showbackground": true,
            "ticks": "",
            "zerolinecolor": "white"
           },
           "yaxis": {
            "backgroundcolor": "#E5ECF6",
            "gridcolor": "white",
            "gridwidth": 2,
            "linecolor": "white",
            "showbackground": true,
            "ticks": "",
            "zerolinecolor": "white"
           },
           "zaxis": {
            "backgroundcolor": "#E5ECF6",
            "gridcolor": "white",
            "gridwidth": 2,
            "linecolor": "white",
            "showbackground": true,
            "ticks": "",
            "zerolinecolor": "white"
           }
          },
          "shapedefaults": {
           "line": {
            "color": "#2a3f5f"
           }
          },
          "ternary": {
           "aaxis": {
            "gridcolor": "white",
            "linecolor": "white",
            "ticks": ""
           },
           "baxis": {
            "gridcolor": "white",
            "linecolor": "white",
            "ticks": ""
           },
           "bgcolor": "#E5ECF6",
           "caxis": {
            "gridcolor": "white",
            "linecolor": "white",
            "ticks": ""
           }
          },
          "title": {
           "x": 0.05
          },
          "xaxis": {
           "automargin": true,
           "gridcolor": "white",
           "linecolor": "white",
           "ticks": "",
           "title": {
            "standoff": 15
           },
           "zerolinecolor": "white",
           "zerolinewidth": 2
          },
          "yaxis": {
           "automargin": true,
           "gridcolor": "white",
           "linecolor": "white",
           "ticks": "",
           "title": {
            "standoff": 15
           },
           "zerolinecolor": "white",
           "zerolinewidth": 2
          }
         }
        },
        "title": {
         "text": "Price Distribution by Brand"
        },
        "xaxis": {
         "anchor": "y",
         "categoryarray": [
          "vivo",
          "realme",
          "Samsung",
          "OPPO",
          "Apple"
         ],
         "categoryorder": "array",
         "domain": [
          0,
          1
         ],
         "title": {
          "text": "brand"
         }
        },
        "yaxis": {
         "anchor": "x",
         "domain": [
          0,
          1
         ],
         "title": {
          "text": "price"
         }
        }
       }
      }
     },
     "metadata": {},
     "output_type": "display_data"
    }
   ],
   "source": [
    "fig = px.box(df_joined, x=\"brand\", y=\"price\", color=\"brand\", title=\"Price Distribution by Brand\")\n",
    "fig.show()\n"
   ]
  }
 ],
 "metadata": {
  "kernelspec": {
   "display_name": "Python 3",
   "language": "python",
   "name": "python3"
  },
  "language_info": {
   "codemirror_mode": {
    "name": "ipython",
    "version": 3
   },
   "file_extension": ".py",
   "mimetype": "text/x-python",
   "name": "python",
   "nbconvert_exporter": "python",
   "pygments_lexer": "ipython3",
   "version": "3.12.9"
  }
 },
 "nbformat": 4,
 "nbformat_minor": 2
}
