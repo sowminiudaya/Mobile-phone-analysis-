{
 "cells": [
  {
   "cell_type": "code",
   "execution_count": 1,
   "metadata": {},
   "outputs": [
    {
     "data": {
      "text/html": [
       "\n",
       "            <div id=\"m4qq6F\"></div>\n",
       "            <script type=\"text/javascript\" data-lets-plot-script=\"library\">\n",
       "                if(!window.letsPlotCallQueue) {\n",
       "                    window.letsPlotCallQueue = [];\n",
       "                }; \n",
       "                window.letsPlotCall = function(f) {\n",
       "                    window.letsPlotCallQueue.push(f);\n",
       "                };\n",
       "                (function() {\n",
       "                    var script = document.createElement(\"script\");\n",
       "                    script.type = \"text/javascript\";\n",
       "                    script.src = \"https://cdn.jsdelivr.net/gh/JetBrains/lets-plot@v4.5.1/js-package/distr/lets-plot.min.js\";\n",
       "                    script.onload = function() {\n",
       "                        window.letsPlotCall = function(f) {f();};\n",
       "                        window.letsPlotCallQueue.forEach(function(f) {f();});\n",
       "                        window.letsPlotCallQueue = [];\n",
       "                        \n",
       "                    };\n",
       "                    script.onerror = function(event) {\n",
       "                        window.letsPlotCall = function(f) {};    // noop\n",
       "                        window.letsPlotCallQueue = [];\n",
       "                        var div = document.createElement(\"div\");\n",
       "                        div.style.color = 'darkred';\n",
       "                        div.textContent = 'Error loading Lets-Plot JS';\n",
       "                        document.getElementById(\"m4qq6F\").appendChild(div);\n",
       "                    };\n",
       "                    var e = document.getElementById(\"m4qq6F\");\n",
       "                    e.appendChild(script);\n",
       "                })()\n",
       "            </script>\n",
       "            "
      ]
     },
     "metadata": {},
     "output_type": "display_data"
    }
   ],
   "source": [
    "import pandas as pd\n",
    "import sqlite3\n",
    "import os\n",
    "import matplotlib.pyplot as plt\n",
    "import seaborn as sns\n",
    "import plotly.express as px\n",
    "from lets_plot import *\n",
    "LetsPlot.setup_html()"
   ]
  },
  {
   "cell_type": "code",
   "execution_count": 2,
   "metadata": {},
   "outputs": [],
   "source": [
    "csv_path = \"E:/capstone_data_engeneering/code/flipkart_clean_df.csv\"\n",
    "db_path = \"E:/capstone_data_engeneering/code/android_iphone.db\""
   ]
  },
  {
   "cell_type": "code",
   "execution_count": 3,
   "metadata": {},
   "outputs": [],
   "source": [
    "import sqlite3\n",
    "import pandas as pd\n",
    "\n",
    "# Connect to the database\n",
    "db_path = \"E:/capstone_data_engeneering/code/android_iphone.db\"\n",
    "conn = sqlite3.connect(db_path)\n",
    "\n",
    "# Query to join all necessary tables\n",
    "query = \"\"\"\n",
    "SELECT \n",
    "    b.brand_id, b.brand, \n",
    "    p.product_id, p.product_name, \n",
    "    s.battery, s.display, s.camera, s.processor, s.ram, s.rom, s.type, \n",
    "    r.ratings, r.reviews, \n",
    "    pr.price, pr.discount, pr.actual_price\n",
    "FROM brands b\n",
    "LEFT JOIN products p ON b.brand_id = p.brand_id\n",
    "LEFT JOIN specifications s ON p.product_id = s.product_id\n",
    "LEFT JOIN ratings_reviews r ON p.product_id = r.product_id\n",
    "LEFT JOIN price pr ON p.product_id = pr.product_id\n",
    "\"\"\"\n",
    "\n",
    "# Load the combined DataFrame\n",
    "df_combined = pd.read_sql(query, conn)\n",
    "\n",
    "# Close the connection\n",
    "conn.close()\n",
    "\n",
    "# Display the first few rows\n",
    "#print(df_combined.head())\n"
   ]
  },
  {
   "cell_type": "code",
   "execution_count": 4,
   "metadata": {},
   "outputs": [
    {
     "data": {
      "text/html": [
       "<div>\n",
       "<style scoped>\n",
       "    .dataframe tbody tr th:only-of-type {\n",
       "        vertical-align: middle;\n",
       "    }\n",
       "\n",
       "    .dataframe tbody tr th {\n",
       "        vertical-align: top;\n",
       "    }\n",
       "\n",
       "    .dataframe thead th {\n",
       "        text-align: right;\n",
       "    }\n",
       "</style>\n",
       "<table border=\"1\" class=\"dataframe\">\n",
       "  <thead>\n",
       "    <tr style=\"text-align: right;\">\n",
       "      <th></th>\n",
       "      <th>brand_id</th>\n",
       "      <th>brand</th>\n",
       "      <th>product_id</th>\n",
       "      <th>product_name</th>\n",
       "      <th>battery</th>\n",
       "      <th>display</th>\n",
       "      <th>camera</th>\n",
       "      <th>processor</th>\n",
       "      <th>ram</th>\n",
       "      <th>rom</th>\n",
       "      <th>type</th>\n",
       "      <th>ratings</th>\n",
       "      <th>reviews</th>\n",
       "      <th>price</th>\n",
       "      <th>discount</th>\n",
       "      <th>actual_price</th>\n",
       "    </tr>\n",
       "  </thead>\n",
       "  <tbody>\n",
       "    <tr>\n",
       "      <th>0</th>\n",
       "      <td>1</td>\n",
       "      <td>vivo</td>\n",
       "      <td>112</td>\n",
       "      <td>vivo T1 44W (Midnight Galaxy, 128 GB)</td>\n",
       "      <td>5000 mAh Lithium Battery</td>\n",
       "      <td>16.36 cm (6.44 inch) Full HD+ AMOLED Display</td>\n",
       "      <td>50MP + 2MP + 2MP | 16MP Front Camera</td>\n",
       "      <td>Qualcomm Snapdragon 680 Processor</td>\n",
       "      <td>4.0</td>\n",
       "      <td>128.0</td>\n",
       "      <td>Android</td>\n",
       "      <td>116399.0</td>\n",
       "      <td>7312.0</td>\n",
       "      <td>14499.0</td>\n",
       "      <td>30.0</td>\n",
       "      <td>11999.0</td>\n",
       "    </tr>\n",
       "    <tr>\n",
       "      <th>1</th>\n",
       "      <td>1</td>\n",
       "      <td>vivo</td>\n",
       "      <td>111</td>\n",
       "      <td>vivo T1 44W (Starry Sky, 128 GB)</td>\n",
       "      <td>5000 mAh Lithium Battery</td>\n",
       "      <td>16.36 cm (6.44 inch) Full HD+ AMOLED Display</td>\n",
       "      <td>50MP + 2MP + 2MP | 16MP Front Camera</td>\n",
       "      <td>Qualcomm Snapdragon 680 Processor</td>\n",
       "      <td>4.0</td>\n",
       "      <td>128.0</td>\n",
       "      <td>Android</td>\n",
       "      <td>116399.0</td>\n",
       "      <td>7312.0</td>\n",
       "      <td>14499.0</td>\n",
       "      <td>27.0</td>\n",
       "      <td>19990.0</td>\n",
       "    </tr>\n",
       "    <tr>\n",
       "      <th>2</th>\n",
       "      <td>1</td>\n",
       "      <td>vivo</td>\n",
       "      <td>132</td>\n",
       "      <td>vivo T1 5G (Starlight Black, 128 GB)</td>\n",
       "      <td>5000 mAh Lithium Battery</td>\n",
       "      <td>16.71 cm (6.58 inch) Full HD+ Display</td>\n",
       "      <td>50MP + 2MP + 2MP | 16MP Front Camera</td>\n",
       "      <td>Qualcomm Snapdragon 695 Processor</td>\n",
       "      <td>6.0</td>\n",
       "      <td>128.0</td>\n",
       "      <td>Android</td>\n",
       "      <td>181273.0</td>\n",
       "      <td>13965.0</td>\n",
       "      <td>16990.0</td>\n",
       "      <td>19.0</td>\n",
       "      <td>20990.0</td>\n",
       "    </tr>\n",
       "    <tr>\n",
       "      <th>3</th>\n",
       "      <td>1</td>\n",
       "      <td>vivo</td>\n",
       "      <td>101</td>\n",
       "      <td>vivo T1 Pro 5G (Turbo Black, 128 GB)</td>\n",
       "      <td>4700 mAh Lithium Battery</td>\n",
       "      <td>16.36 cm (6.44 inch) Full HD+ AMOLED Display</td>\n",
       "      <td>64MP + 8MP + 2MP | 16MP Front Camera</td>\n",
       "      <td>Qualcomm Snapdragon 778G 5G Mobile Platform Pr...</td>\n",
       "      <td>8.0</td>\n",
       "      <td>128.0</td>\n",
       "      <td>Android</td>\n",
       "      <td>21239.0</td>\n",
       "      <td>1962.0</td>\n",
       "      <td>21990.0</td>\n",
       "      <td>26.0</td>\n",
       "      <td>18999.0</td>\n",
       "    </tr>\n",
       "    <tr>\n",
       "      <th>4</th>\n",
       "      <td>1</td>\n",
       "      <td>vivo</td>\n",
       "      <td>114</td>\n",
       "      <td>vivo T1 Pro 5G (Turbo Cyan, 128 GB)</td>\n",
       "      <td>4700 mAh Lithium Battery</td>\n",
       "      <td>16.36 cm (6.44 inch) Full HD+ AMOLED Display</td>\n",
       "      <td>64MP + 8MP + 2MP | 16MP Front Camera</td>\n",
       "      <td>Qualcomm Snapdragon 778G 5G Mobile Platform Pr...</td>\n",
       "      <td>8.0</td>\n",
       "      <td>128.0</td>\n",
       "      <td>Android</td>\n",
       "      <td>21239.0</td>\n",
       "      <td>1962.0</td>\n",
       "      <td>24999.0</td>\n",
       "      <td>43.0</td>\n",
       "      <td>16999.0</td>\n",
       "    </tr>\n",
       "    <tr>\n",
       "      <th>...</th>\n",
       "      <td>...</td>\n",
       "      <td>...</td>\n",
       "      <td>...</td>\n",
       "      <td>...</td>\n",
       "      <td>...</td>\n",
       "      <td>...</td>\n",
       "      <td>...</td>\n",
       "      <td>...</td>\n",
       "      <td>...</td>\n",
       "      <td>...</td>\n",
       "      <td>...</td>\n",
       "      <td>...</td>\n",
       "      <td>...</td>\n",
       "      <td>...</td>\n",
       "      <td>...</td>\n",
       "      <td>...</td>\n",
       "    </tr>\n",
       "    <tr>\n",
       "      <th>556</th>\n",
       "      <td>5</td>\n",
       "      <td>Apple</td>\n",
       "      <td>526</td>\n",
       "      <td>Apple iPhone XR (Yellow, 256 GB) (Includes Ear...</td>\n",
       "      <td>A12 Bionic Chip Processor</td>\n",
       "      <td>15.49 cm (6.1 inch) Display</td>\n",
       "      <td>12MP Rear Camera | 7MP Front Camera</td>\n",
       "      <td>A12 Bionic Chip Processor</td>\n",
       "      <td>NaN</td>\n",
       "      <td>256.0</td>\n",
       "      <td>Iphone</td>\n",
       "      <td>100909.0</td>\n",
       "      <td>8480.0</td>\n",
       "      <td>91900.0</td>\n",
       "      <td>2.0</td>\n",
       "      <td>49900.0</td>\n",
       "    </tr>\n",
       "    <tr>\n",
       "      <th>557</th>\n",
       "      <td>5</td>\n",
       "      <td>Apple</td>\n",
       "      <td>520</td>\n",
       "      <td>Apple iPhone XS (Gold, 256 GB)</td>\n",
       "      <td>A12 Bionic Chip Processor</td>\n",
       "      <td>14.73 cm (5.8 inch) Super Retina HD Display</td>\n",
       "      <td>12MP + 12MP | 7MP Front Camera</td>\n",
       "      <td>A12 Bionic Chip Processor</td>\n",
       "      <td>NaN</td>\n",
       "      <td>256.0</td>\n",
       "      <td>Iphone</td>\n",
       "      <td>11938.0</td>\n",
       "      <td>866.0</td>\n",
       "      <td>103900.0</td>\n",
       "      <td>6.0</td>\n",
       "      <td>79900.0</td>\n",
       "    </tr>\n",
       "    <tr>\n",
       "      <th>558</th>\n",
       "      <td>5</td>\n",
       "      <td>Apple</td>\n",
       "      <td>527</td>\n",
       "      <td>Apple iPhone XS (Gold, 64 GB)</td>\n",
       "      <td>A12 Bionic Chip Processor</td>\n",
       "      <td>14.73 cm (5.8 inch) Super Retina HD Display</td>\n",
       "      <td>12MP + 12MP | 7MP Front Camera</td>\n",
       "      <td>A12 Bionic Chip Processor</td>\n",
       "      <td>NaN</td>\n",
       "      <td>64.0</td>\n",
       "      <td>Iphone</td>\n",
       "      <td>11938.0</td>\n",
       "      <td>866.0</td>\n",
       "      <td>89900.0</td>\n",
       "      <td>8.0</td>\n",
       "      <td>59900.0</td>\n",
       "    </tr>\n",
       "    <tr>\n",
       "      <th>559</th>\n",
       "      <td>5</td>\n",
       "      <td>Apple</td>\n",
       "      <td>560</td>\n",
       "      <td>Apple iPhone XS (Space Grey, 256 GB)</td>\n",
       "      <td>A12 Bionic Chip Processor</td>\n",
       "      <td>14.73 cm (5.8 inch) Super Retina HD Display</td>\n",
       "      <td>12MP + 12MP | 7MP Front Camera</td>\n",
       "      <td>A12 Bionic Chip Processor</td>\n",
       "      <td>NaN</td>\n",
       "      <td>256.0</td>\n",
       "      <td>Iphone</td>\n",
       "      <td>11938.0</td>\n",
       "      <td>866.0</td>\n",
       "      <td>103900.0</td>\n",
       "      <td>2.0</td>\n",
       "      <td>49900.0</td>\n",
       "    </tr>\n",
       "    <tr>\n",
       "      <th>560</th>\n",
       "      <td>5</td>\n",
       "      <td>Apple</td>\n",
       "      <td>521</td>\n",
       "      <td>Apple iPhone XS Max (Space Grey, 64 GB)</td>\n",
       "      <td>A12 Bionic Chip Processor</td>\n",
       "      <td>16.51 cm (6.5 inch) Super Retina HD Display</td>\n",
       "      <td>12MP + 12MP | 7MP Front Camera</td>\n",
       "      <td>A12 Bionic Chip Processor</td>\n",
       "      <td>NaN</td>\n",
       "      <td>64.0</td>\n",
       "      <td>Iphone</td>\n",
       "      <td>1451.0</td>\n",
       "      <td>146.0</td>\n",
       "      <td>109900.0</td>\n",
       "      <td>8.0</td>\n",
       "      <td>29990.0</td>\n",
       "    </tr>\n",
       "  </tbody>\n",
       "</table>\n",
       "<p>561 rows × 16 columns</p>\n",
       "</div>"
      ],
      "text/plain": [
       "     brand_id  brand  product_id  \\\n",
       "0           1   vivo         112   \n",
       "1           1   vivo         111   \n",
       "2           1   vivo         132   \n",
       "3           1   vivo         101   \n",
       "4           1   vivo         114   \n",
       "..        ...    ...         ...   \n",
       "556         5  Apple         526   \n",
       "557         5  Apple         520   \n",
       "558         5  Apple         527   \n",
       "559         5  Apple         560   \n",
       "560         5  Apple         521   \n",
       "\n",
       "                                          product_name  \\\n",
       "0                vivo T1 44W (Midnight Galaxy, 128 GB)   \n",
       "1                     vivo T1 44W (Starry Sky, 128 GB)   \n",
       "2                 vivo T1 5G (Starlight Black, 128 GB)   \n",
       "3                 vivo T1 Pro 5G (Turbo Black, 128 GB)   \n",
       "4                  vivo T1 Pro 5G (Turbo Cyan, 128 GB)   \n",
       "..                                                 ...   \n",
       "556  Apple iPhone XR (Yellow, 256 GB) (Includes Ear...   \n",
       "557                     Apple iPhone XS (Gold, 256 GB)   \n",
       "558                      Apple iPhone XS (Gold, 64 GB)   \n",
       "559               Apple iPhone XS (Space Grey, 256 GB)   \n",
       "560            Apple iPhone XS Max (Space Grey, 64 GB)   \n",
       "\n",
       "                       battery                                       display  \\\n",
       "0     5000 mAh Lithium Battery  16.36 cm (6.44 inch) Full HD+ AMOLED Display   \n",
       "1     5000 mAh Lithium Battery  16.36 cm (6.44 inch) Full HD+ AMOLED Display   \n",
       "2     5000 mAh Lithium Battery         16.71 cm (6.58 inch) Full HD+ Display   \n",
       "3     4700 mAh Lithium Battery  16.36 cm (6.44 inch) Full HD+ AMOLED Display   \n",
       "4     4700 mAh Lithium Battery  16.36 cm (6.44 inch) Full HD+ AMOLED Display   \n",
       "..                         ...                                           ...   \n",
       "556  A12 Bionic Chip Processor                   15.49 cm (6.1 inch) Display   \n",
       "557  A12 Bionic Chip Processor   14.73 cm (5.8 inch) Super Retina HD Display   \n",
       "558  A12 Bionic Chip Processor   14.73 cm (5.8 inch) Super Retina HD Display   \n",
       "559  A12 Bionic Chip Processor   14.73 cm (5.8 inch) Super Retina HD Display   \n",
       "560  A12 Bionic Chip Processor   16.51 cm (6.5 inch) Super Retina HD Display   \n",
       "\n",
       "                                   camera  \\\n",
       "0    50MP + 2MP + 2MP | 16MP Front Camera   \n",
       "1    50MP + 2MP + 2MP | 16MP Front Camera   \n",
       "2    50MP + 2MP + 2MP | 16MP Front Camera   \n",
       "3    64MP + 8MP + 2MP | 16MP Front Camera   \n",
       "4    64MP + 8MP + 2MP | 16MP Front Camera   \n",
       "..                                    ...   \n",
       "556   12MP Rear Camera | 7MP Front Camera   \n",
       "557        12MP + 12MP | 7MP Front Camera   \n",
       "558        12MP + 12MP | 7MP Front Camera   \n",
       "559        12MP + 12MP | 7MP Front Camera   \n",
       "560        12MP + 12MP | 7MP Front Camera   \n",
       "\n",
       "                                             processor  ram    rom     type  \\\n",
       "0                    Qualcomm Snapdragon 680 Processor  4.0  128.0  Android   \n",
       "1                    Qualcomm Snapdragon 680 Processor  4.0  128.0  Android   \n",
       "2                    Qualcomm Snapdragon 695 Processor  6.0  128.0  Android   \n",
       "3    Qualcomm Snapdragon 778G 5G Mobile Platform Pr...  8.0  128.0  Android   \n",
       "4    Qualcomm Snapdragon 778G 5G Mobile Platform Pr...  8.0  128.0  Android   \n",
       "..                                                 ...  ...    ...      ...   \n",
       "556                          A12 Bionic Chip Processor  NaN  256.0   Iphone   \n",
       "557                          A12 Bionic Chip Processor  NaN  256.0   Iphone   \n",
       "558                          A12 Bionic Chip Processor  NaN   64.0   Iphone   \n",
       "559                          A12 Bionic Chip Processor  NaN  256.0   Iphone   \n",
       "560                          A12 Bionic Chip Processor  NaN   64.0   Iphone   \n",
       "\n",
       "      ratings  reviews     price  discount  actual_price  \n",
       "0    116399.0   7312.0   14499.0      30.0       11999.0  \n",
       "1    116399.0   7312.0   14499.0      27.0       19990.0  \n",
       "2    181273.0  13965.0   16990.0      19.0       20990.0  \n",
       "3     21239.0   1962.0   21990.0      26.0       18999.0  \n",
       "4     21239.0   1962.0   24999.0      43.0       16999.0  \n",
       "..        ...      ...       ...       ...           ...  \n",
       "556  100909.0   8480.0   91900.0       2.0       49900.0  \n",
       "557   11938.0    866.0  103900.0       6.0       79900.0  \n",
       "558   11938.0    866.0   89900.0       8.0       59900.0  \n",
       "559   11938.0    866.0  103900.0       2.0       49900.0  \n",
       "560    1451.0    146.0  109900.0       8.0       29990.0  \n",
       "\n",
       "[561 rows x 16 columns]"
      ]
     },
     "execution_count": 4,
     "metadata": {},
     "output_type": "execute_result"
    }
   ],
   "source": [
    "df_combined"
   ]
  },
  {
   "cell_type": "code",
   "execution_count": 45,
   "metadata": {},
   "outputs": [
    {
     "data": {
      "text/html": [
       "   <div id=\"TUrp0y\"></div>\n",
       "   <script type=\"text/javascript\" data-lets-plot-script=\"plot\">\n",
       "   \n",
       "   (function() {\n",
       "   // ----------\n",
       "   \n",
       "   var containerDiv = document.getElementById(\"TUrp0y\");\n",
       "   var observer = new ResizeObserver(function(entries) {\n",
       "       for (let entry of entries) {\n",
       "           var width = containerDiv.clientWidth\n",
       "           if (entry.contentBoxSize && width > 0) {\n",
       "           \n",
       "               // Render plot\n",
       "               if (observer) {\n",
       "                   observer.disconnect();\n",
       "                   observer = null;\n",
       "               }\n",
       "\n",
       "               var plotSpec={\n",
       "\"data\":{\n",
       "},\n",
       "\"mapping\":{\n",
       "\"x\":\"ram\",\n",
       "\"y\":\"price\"\n",
       "},\n",
       "\"data_meta\":{\n",
       "\"series_annotations\":[{\n",
       "\"type\":\"int\",\n",
       "\"column\":\"brand_id\"\n",
       "},{\n",
       "\"type\":\"str\",\n",
       "\"column\":\"brand\"\n",
       "},{\n",
       "\"type\":\"int\",\n",
       "\"column\":\"product_id\"\n",
       "},{\n",
       "\"type\":\"str\",\n",
       "\"column\":\"product_name\"\n",
       "},{\n",
       "\"type\":\"str\",\n",
       "\"column\":\"battery\"\n",
       "},{\n",
       "\"type\":\"str\",\n",
       "\"column\":\"display\"\n",
       "},{\n",
       "\"type\":\"str\",\n",
       "\"column\":\"camera\"\n",
       "},{\n",
       "\"type\":\"str\",\n",
       "\"column\":\"processor\"\n",
       "},{\n",
       "\"type\":\"float\",\n",
       "\"column\":\"ram\"\n",
       "},{\n",
       "\"type\":\"float\",\n",
       "\"column\":\"rom\"\n",
       "},{\n",
       "\"type\":\"str\",\n",
       "\"column\":\"type\"\n",
       "},{\n",
       "\"type\":\"float\",\n",
       "\"column\":\"ratings\"\n",
       "},{\n",
       "\"type\":\"float\",\n",
       "\"column\":\"reviews\"\n",
       "},{\n",
       "\"type\":\"float\",\n",
       "\"column\":\"price\"\n",
       "},{\n",
       "\"type\":\"float\",\n",
       "\"column\":\"discount\"\n",
       "},{\n",
       "\"type\":\"float\",\n",
       "\"column\":\"actual_price\"\n",
       "},{\n",
       "\"type\":\"int\",\n",
       "\"column\":\"type_encoded\"\n",
       "}]\n",
       "},\n",
       "\"ggtitle\":{\n",
       "\"text\":\"RAM vs Price (Box Plot)\"\n",
       "},\n",
       "\"guides\":{\n",
       "\"x\":{\n",
       "\"title\":\"RAM (GB)\"\n",
       "},\n",
       "\"y\":{\n",
       "\"title\":\"Price (INR)\"\n",
       "}\n",
       "},\n",
       "\"kind\":\"plot\",\n",
       "\"scales\":[],\n",
       "\"layers\":[{\n",
       "\"geom\":\"boxplot\",\n",
       "\"mapping\":{\n",
       "},\n",
       "\"data_meta\":{\n",
       "},\n",
       "\"fill\":\"red\",\n",
       "\"data\":{\n",
       "\"..middle..\":[11499.0,13499.0,23744.5,40499.0,7999.0,10005.0,37999.0],\n",
       "\"..lower..\":[9149.0,12731.5,18499.0,26999.0,7999.0,9499.0,28499.0],\n",
       "\"..upper..\":[13999.0,14999.0,30499.0,67999.0,7999.0,23635.0,59999.0],\n",
       "\"..ymin..\":[6499.0,10560.0,7999.0,9999.0,7999.0,7999.0,11999.0],\n",
       "\"..ymax..\":[20999.0,17999.0,45999.0,111999.0,7999.0,43990.0,99999.0],\n",
       "\"ram\":[4.0,6.0,8.0,12.0,2.0,3.0,16.0]\n",
       "}\n",
       "},{\n",
       "\"geom\":\"point\",\n",
       "\"stat\":\"boxplot_outlier\",\n",
       "\"mapping\":{\n",
       "},\n",
       "\"show_legend\":false,\n",
       "\"data_meta\":{\n",
       "},\n",
       "\"fill\":\"red\",\n",
       "\"data\":{\n",
       "\"..middle..\":[11499.0,11499.0,11499.0,11499.0,11499.0,11499.0,11499.0,13499.0,13499.0,13499.0,13499.0,13499.0,13499.0,13499.0,13499.0,23744.5,23744.5,23744.5,23744.5,23744.5,23744.5,23744.5,23744.5,23744.5,23744.5,23744.5,23744.5,23744.5,23744.5,23744.5,40499.0,40499.0,40499.0,7999.0,10005.0,37999.0],\n",
       "\"..lower..\":[9149.0,9149.0,9149.0,9149.0,9149.0,9149.0,9149.0,12731.5,12731.5,12731.5,12731.5,12731.5,12731.5,12731.5,12731.5,18499.0,18499.0,18499.0,18499.0,18499.0,18499.0,18499.0,18499.0,18499.0,18499.0,18499.0,18499.0,18499.0,18499.0,18499.0,26999.0,26999.0,26999.0,7999.0,9499.0,28499.0],\n",
       "\"..upper..\":[13999.0,13999.0,13999.0,13999.0,13999.0,13999.0,13999.0,14999.0,14999.0,14999.0,14999.0,14999.0,14999.0,14999.0,14999.0,30499.0,30499.0,30499.0,30499.0,30499.0,30499.0,30499.0,30499.0,30499.0,30499.0,30499.0,30499.0,30499.0,30499.0,30499.0,67999.0,67999.0,67999.0,7999.0,23635.0,59999.0],\n",
       "\"..ymin..\":[6499.0,6499.0,6499.0,6499.0,6499.0,6499.0,6499.0,10560.0,10560.0,10560.0,10560.0,10560.0,10560.0,10560.0,10560.0,7999.0,7999.0,7999.0,7999.0,7999.0,7999.0,7999.0,7999.0,7999.0,7999.0,7999.0,7999.0,7999.0,7999.0,7999.0,9999.0,9999.0,9999.0,7999.0,7999.0,11999.0],\n",
       "\"..ymax..\":[20999.0,20999.0,20999.0,20999.0,20999.0,20999.0,20999.0,17999.0,17999.0,17999.0,17999.0,17999.0,17999.0,17999.0,17999.0,45999.0,45999.0,45999.0,45999.0,45999.0,45999.0,45999.0,45999.0,45999.0,45999.0,45999.0,45999.0,45999.0,45999.0,45999.0,111999.0,111999.0,111999.0,7999.0,43990.0,99999.0],\n",
       "\"ram\":[4.0,4.0,4.0,4.0,4.0,4.0,4.0,6.0,6.0,6.0,6.0,6.0,6.0,6.0,6.0,8.0,8.0,8.0,8.0,8.0,8.0,8.0,8.0,8.0,8.0,8.0,8.0,8.0,8.0,8.0,12.0,12.0,12.0,2.0,3.0,16.0],\n",
       "\"price\":[29800.0,32999.0,24000.0,31999.0,23999.0,27525.0,36999.0,7864.0,32999.0,8114.0,8067.0,20999.0,18499.0,1390.0,19490.0,49999.0,49999.0,95900.0,49999.0,64999.0,70999.0,82999.0,59999.0,49859.0,59999.0,49795.0,79999.0,79999.0,89999.0,49999.0,144999.0,129999.0,141999.0,NaN,64995.0,NaN]\n",
       "}\n",
       "}],\n",
       "\"metainfo_list\":[],\n",
       "\"spec_id\":\"8\"\n",
       "};\n",
       "               window.letsPlotCall(function() {\n",
       "       \n",
       "               var toolbar = null;\n",
       "               var plotContainer = containerDiv;               \n",
       "               \n",
       "                   var options = {\n",
       "                       sizing: {\n",
       "                           width_mode: \"min\",\n",
       "                           height_mode: \"scaled\",\n",
       "                           width: width\n",
       "                       }\n",
       "                   };\n",
       "                   var fig = LetsPlot.buildPlotFromProcessedSpecs(plotSpec, -1, -1, plotContainer, options);\n",
       "                   if (toolbar) {\n",
       "                     toolbar.bind(fig);\n",
       "                   }\n",
       "               });\n",
       "               \n",
       "               break;\n",
       "           }\n",
       "       }\n",
       "   });\n",
       "   \n",
       "   observer.observe(containerDiv);\n",
       "   \n",
       "   // ----------\n",
       "   })();\n",
       "   \n",
       "   </script>"
      ],
      "text/plain": [
       "<lets_plot.plot.core.PlotSpec at 0x16efea4b0e0>"
      ]
     },
     "execution_count": 45,
     "metadata": {},
     "output_type": "execute_result"
    }
   ],
   "source": [
    "#from lets_plot import ggplot, aes, geom_boxplot\n",
    "\n",
    "ggplot(df_combined, aes(x=\"ram\", y=\"price\")) + \\\n",
    "    geom_boxplot(fill=\"red\") + \\\n",
    "    ggtitle(\"RAM vs Price (Box Plot)\") + \\\n",
    "    xlab(\"RAM (GB)\") + \\\n",
    "    ylab(\"Price (INR)\")\n"
   ]
  },
  {
   "cell_type": "code",
   "execution_count": 22,
   "metadata": {},
   "outputs": [
    {
     "data": {
      "text/html": [
       "   <div id=\"KilGDf\"></div>\n",
       "   <script type=\"text/javascript\" data-lets-plot-script=\"plot\">\n",
       "   \n",
       "   (function() {\n",
       "   // ----------\n",
       "   \n",
       "   var containerDiv = document.getElementById(\"KilGDf\");\n",
       "   var observer = new ResizeObserver(function(entries) {\n",
       "       for (let entry of entries) {\n",
       "           var width = containerDiv.clientWidth\n",
       "           if (entry.contentBoxSize && width > 0) {\n",
       "           \n",
       "               // Render plot\n",
       "               if (observer) {\n",
       "                   observer.disconnect();\n",
       "                   observer = null;\n",
       "               }\n",
       "\n",
       "               var plotSpec={\n",
       "\"data\":{\n",
       "},\n",
       "\"mapping\":{\n",
       "\"x\":\"discount\"\n",
       "},\n",
       "\"data_meta\":{\n",
       "\"series_annotations\":[{\n",
       "\"type\":\"int\",\n",
       "\"column\":\"brand_id\"\n",
       "},{\n",
       "\"type\":\"str\",\n",
       "\"column\":\"brand\"\n",
       "},{\n",
       "\"type\":\"int\",\n",
       "\"column\":\"product_id\"\n",
       "},{\n",
       "\"type\":\"str\",\n",
       "\"column\":\"product_name\"\n",
       "},{\n",
       "\"type\":\"str\",\n",
       "\"column\":\"battery\"\n",
       "},{\n",
       "\"type\":\"str\",\n",
       "\"column\":\"display\"\n",
       "},{\n",
       "\"type\":\"str\",\n",
       "\"column\":\"camera\"\n",
       "},{\n",
       "\"type\":\"str\",\n",
       "\"column\":\"processor\"\n",
       "},{\n",
       "\"type\":\"float\",\n",
       "\"column\":\"ram\"\n",
       "},{\n",
       "\"type\":\"float\",\n",
       "\"column\":\"rom\"\n",
       "},{\n",
       "\"type\":\"str\",\n",
       "\"column\":\"type\"\n",
       "},{\n",
       "\"type\":\"float\",\n",
       "\"column\":\"ratings\"\n",
       "},{\n",
       "\"type\":\"float\",\n",
       "\"column\":\"reviews\"\n",
       "},{\n",
       "\"type\":\"float\",\n",
       "\"column\":\"price\"\n",
       "},{\n",
       "\"type\":\"float\",\n",
       "\"column\":\"discount\"\n",
       "},{\n",
       "\"type\":\"float\",\n",
       "\"column\":\"actual_price\"\n",
       "}]\n",
       "},\n",
       "\"ggtitle\":{\n",
       "\"text\":\"Discount Distribution\"\n",
       "},\n",
       "\"guides\":{\n",
       "\"x\":{\n",
       "\"title\":\"Discount (%)\"\n",
       "},\n",
       "\"y\":{\n",
       "\"title\":\"Count of Products\"\n",
       "}\n",
       "},\n",
       "\"kind\":\"plot\",\n",
       "\"scales\":[],\n",
       "\"layers\":[{\n",
       "\"geom\":\"histogram\",\n",
       "\"mapping\":{\n",
       "},\n",
       "\"data_meta\":{\n",
       "},\n",
       "\"binwidth\":5.0,\n",
       "\"fill\":\"orange\",\n",
       "\"color\":\"black\",\n",
       "\"data\":{\n",
       "\"..count..\":[8.0,45.0,62.0,75.0,110.0,112.0,69.0,42.0,18.0,12.0,4.0,3.0,1.0,0.0],\n",
       "\"discount\":[1.0,6.0,11.0,16.0,21.0,26.0,31.0,36.0,41.0,46.0,51.0,56.0,61.0,66.0]\n",
       "}\n",
       "}],\n",
       "\"metainfo_list\":[],\n",
       "\"spec_id\":\"3\"\n",
       "};\n",
       "               window.letsPlotCall(function() {\n",
       "       \n",
       "               var toolbar = null;\n",
       "               var plotContainer = containerDiv;               \n",
       "               \n",
       "                   var options = {\n",
       "                       sizing: {\n",
       "                           width_mode: \"min\",\n",
       "                           height_mode: \"scaled\",\n",
       "                           width: width\n",
       "                       }\n",
       "                   };\n",
       "                   var fig = LetsPlot.buildPlotFromProcessedSpecs(plotSpec, -1, -1, plotContainer, options);\n",
       "                   if (toolbar) {\n",
       "                     toolbar.bind(fig);\n",
       "                   }\n",
       "               });\n",
       "               \n",
       "               break;\n",
       "           }\n",
       "       }\n",
       "   });\n",
       "   \n",
       "   observer.observe(containerDiv);\n",
       "   \n",
       "   // ----------\n",
       "   })();\n",
       "   \n",
       "   </script>"
      ],
      "text/plain": [
       "<lets_plot.plot.core.PlotSpec at 0x16efaed3da0>"
      ]
     },
     "execution_count": 22,
     "metadata": {},
     "output_type": "execute_result"
    }
   ],
   "source": [
    "#from lets_plot import geom_histogram\n",
    "\n",
    "ggplot(df_combined, aes(x=\"discount\")) + \\\n",
    "    geom_histogram(binwidth=5, fill=\"orange\", color=\"black\") + \\\n",
    "    ggtitle(\"Discount Distribution\") + \\\n",
    "    xlab(\"Discount (%)\") + \\\n",
    "    ylab(\"Count of Products\")\n"
   ]
  },
  {
   "cell_type": "code",
   "execution_count": 23,
   "metadata": {},
   "outputs": [
    {
     "data": {
      "text/html": [
       "   <div id=\"Zd0AcT\"></div>\n",
       "   <script type=\"text/javascript\" data-lets-plot-script=\"plot\">\n",
       "   \n",
       "   (function() {\n",
       "   // ----------\n",
       "   \n",
       "   var containerDiv = document.getElementById(\"Zd0AcT\");\n",
       "   var observer = new ResizeObserver(function(entries) {\n",
       "       for (let entry of entries) {\n",
       "           var width = containerDiv.clientWidth\n",
       "           if (entry.contentBoxSize && width > 0) {\n",
       "           \n",
       "               // Render plot\n",
       "               if (observer) {\n",
       "                   observer.disconnect();\n",
       "                   observer = null;\n",
       "               }\n",
       "\n",
       "               var plotSpec={\n",
       "\"data\":{\n",
       "\"brand\":[\"vivo\",\"vivo\",\"vivo\",\"vivo\",\"vivo\",\"vivo\",\"vivo\",\"vivo\",\"vivo\",\"vivo\",\"vivo\",\"vivo\",\"vivo\",\"vivo\",\"vivo\",\"vivo\",\"vivo\",\"vivo\",\"vivo\",\"vivo\",\"vivo\",\"vivo\",\"vivo\",\"vivo\",\"vivo\",\"vivo\",\"vivo\",\"vivo\",\"vivo\",\"vivo\",\"vivo\",\"vivo\",\"vivo\",\"vivo\",\"vivo\",\"vivo\",\"vivo\",\"vivo\",\"vivo\",\"vivo\",\"vivo\",\"vivo\",\"vivo\",\"vivo\",\"vivo\",\"vivo\",\"vivo\",\"vivo\",\"vivo\",\"vivo\",\"vivo\",\"vivo\",\"vivo\",\"vivo\",\"vivo\",\"vivo\",\"vivo\",\"vivo\",\"vivo\",\"vivo\",\"vivo\",\"vivo\",\"vivo\",\"vivo\",\"vivo\",\"vivo\",\"vivo\",\"vivo\",\"vivo\",\"vivo\",\"vivo\",\"vivo\",\"vivo\",\"vivo\",\"vivo\",\"vivo\",\"vivo\",\"vivo\",\"vivo\",\"vivo\",\"vivo\",\"vivo\",\"vivo\",\"vivo\",\"vivo\",\"vivo\",\"vivo\",\"vivo\",\"vivo\",\"vivo\",\"vivo\",\"vivo\",\"vivo\",\"vivo\",\"vivo\",\"vivo\",\"vivo\",\"vivo\",\"vivo\",\"vivo\",\"vivo\",\"vivo\",\"vivo\",\"vivo\",\"vivo\",\"vivo\",\"vivo\",\"vivo\",\"vivo\",\"vivo\",\"vivo\",\"vivo\",\"vivo\",\"vivo\",\"vivo\",\"vivo\",\"vivo\",\"vivo\",\"vivo\",\"vivo\",\"vivo\",\"vivo\",\"vivo\",\"vivo\",\"vivo\",\"vivo\",\"vivo\",\"vivo\",\"vivo\",\"vivo\",\"vivo\",\"vivo\",\"vivo\",\"vivo\",\"vivo\",\"vivo\",\"vivo\",\"vivo\",\"vivo\",\"vivo\",\"vivo\",\"vivo\",\"vivo\",\"vivo\",\"vivo\",\"vivo\",\"vivo\",\"vivo\",\"vivo\",\"vivo\",\"vivo\",\"vivo\",\"vivo\",\"vivo\",\"vivo\",\"vivo\",\"vivo\",\"vivo\",\"vivo\",\"vivo\",\"realme\",\"realme\",\"realme\",\"realme\",\"realme\",\"realme\",\"realme\",\"realme\",\"realme\",\"realme\",\"realme\",\"realme\",\"realme\",\"realme\",\"realme\",\"realme\",\"realme\",\"realme\",\"realme\",\"realme\",\"realme\",\"realme\",\"realme\",\"realme\",\"realme\",\"realme\",\"realme\",\"realme\",\"realme\",\"realme\",\"realme\",\"realme\",\"realme\",\"realme\",\"realme\",\"realme\",\"realme\",\"realme\",\"realme\",\"realme\",\"realme\",\"realme\",\"realme\",\"realme\",\"realme\",\"realme\",\"realme\",\"realme\",\"realme\",\"realme\",\"realme\",\"realme\",\"realme\",\"realme\",\"realme\",\"realme\",\"realme\",\"realme\",\"realme\",\"realme\",\"realme\",\"realme\",\"realme\",\"realme\",\"realme\",\"realme\",\"realme\",\"realme\",\"realme\",\"realme\",\"realme\",\"realme\",\"realme\",\"realme\",\"realme\",\"realme\",\"realme\",\"realme\",\"realme\",\"realme\",\"realme\",\"realme\",\"realme\",\"realme\",\"realme\",\"realme\",\"realme\",\"realme\",\"realme\",\"realme\",\"realme\",\"realme\",\"realme\",\"realme\",\"realme\",\"realme\",\"realme\",\"realme\",\"realme\",\"realme\",\"realme\",\"realme\",\"realme\",\"realme\",\"realme\",\"realme\",\"realme\",\"realme\",\"realme\",\"realme\",\"realme\",\"realme\",\"realme\",\"realme\",\"realme\",\"realme\",\"realme\",\"realme\",\"realme\",\"realme\",\"realme\",\"realme\",\"realme\",\"realme\",\"realme\",\"realme\",\"realme\",\"realme\",\"realme\",\"realme\",\"Samsung\",\"Samsung\",\"Samsung\",\"Samsung\",\"Samsung\",\"Samsung\",\"Samsung\",\"Samsung\",\"Samsung\",\"Samsung\",\"Samsung\",\"Samsung\",\"Samsung\",\"Samsung\",\"Samsung\",\"Samsung\",\"Samsung\",\"Samsung\",\"Samsung\",\"Samsung\",\"Samsung\",\"Samsung\",\"Samsung\",\"Samsung\",\"Samsung\",\"Samsung\",\"Samsung\",\"Samsung\",\"Samsung\",\"Samsung\",\"Samsung\",\"Samsung\",\"Samsung\",\"Samsung\",\"Samsung\",\"Samsung\",\"Samsung\",\"Samsung\",\"Samsung\",\"Samsung\",\"Samsung\",\"Samsung\",\"Samsung\",\"Samsung\",\"Samsung\",\"Samsung\",\"Samsung\",\"Samsung\",\"Samsung\",\"Samsung\",\"Samsung\",\"Samsung\",\"Samsung\",\"Samsung\",\"Samsung\",\"Samsung\",\"Samsung\",\"Samsung\",\"Samsung\",\"Samsung\",\"Samsung\",\"Samsung\",\"Samsung\",\"Samsung\",\"Samsung\",\"Samsung\",\"Samsung\",\"Samsung\",\"Samsung\",\"Samsung\",\"Samsung\",\"Samsung\",\"Samsung\",\"Samsung\",\"Samsung\",\"Samsung\",\"Samsung\",\"Samsung\",\"Samsung\",\"Samsung\",\"Samsung\",\"Samsung\",\"Samsung\",\"Samsung\",\"Samsung\",\"Samsung\",\"Samsung\",\"Samsung\",\"Samsung\",\"Samsung\",\"Samsung\",\"Samsung\",\"Samsung\",\"Samsung\",\"Samsung\",\"Samsung\",\"Samsung\",\"Samsung\",\"Samsung\",\"Samsung\",\"Samsung\",\"Samsung\",\"Samsung\",\"Samsung\",\"Samsung\",\"Samsung\",\"Samsung\",\"Samsung\",\"Samsung\",\"Samsung\",\"Samsung\",\"Samsung\",\"Samsung\",\"Samsung\",\"Samsung\",\"Samsung\",\"Samsung\",\"Samsung\",\"Samsung\",\"Samsung\",\"Samsung\",\"Samsung\",\"Samsung\",\"Samsung\",\"Samsung\",\"Samsung\",\"Samsung\",\"Samsung\",\"Samsung\",\"Samsung\",\"Samsung\",\"Samsung\",\"Samsung\",\"OPPO\",\"OPPO\",\"OPPO\",\"OPPO\",\"OPPO\",\"OPPO\",\"OPPO\",\"OPPO\",\"OPPO\",\"OPPO\",\"OPPO\",\"OPPO\",\"OPPO\",\"OPPO\",\"OPPO\",\"OPPO\",\"OPPO\",\"OPPO\",\"OPPO\",\"OPPO\",\"OPPO\",\"OPPO\",\"OPPO\",\"OPPO\",\"OPPO\",\"OPPO\",\"OPPO\",\"OPPO\",\"OPPO\",\"OPPO\",\"OPPO\",\"OPPO\",\"OPPO\",\"OPPO\",\"OPPO\",\"OPPO\",\"OPPO\",\"OPPO\",\"OPPO\",\"OPPO\",\"OPPO\",\"OPPO\",\"OPPO\",\"OPPO\",\"OPPO\",\"OPPO\",\"OPPO\",\"OPPO\",\"OPPO\",\"OPPO\",\"OPPO\",\"OPPO\",\"OPPO\",\"OPPO\",\"OPPO\",\"OPPO\",\"OPPO\",\"OPPO\",\"OPPO\",\"OPPO\",\"OPPO\",\"OPPO\",\"OPPO\",\"OPPO\",\"OPPO\",\"OPPO\",\"OPPO\",\"OPPO\",\"OPPO\",\"OPPO\",\"OPPO\",\"OPPO\",\"OPPO\",\"OPPO\",\"OPPO\",\"OPPO\",\"OPPO\",\"OPPO\",\"OPPO\",\"OPPO\",\"OPPO\",\"OPPO\",\"OPPO\",\"OPPO\",\"OPPO\",\"OPPO\",\"OPPO\",\"OPPO\",\"OPPO\",\"OPPO\",\"OPPO\",\"OPPO\",\"OPPO\",\"OPPO\",\"Apple\",\"Apple\",\"Apple\",\"Apple\",\"Apple\",\"Apple\",\"Apple\",\"Apple\",\"Apple\",\"Apple\",\"Apple\",\"Apple\",\"Apple\",\"Apple\",\"Apple\",\"Apple\",\"Apple\",\"Apple\",\"Apple\",\"Apple\",\"Apple\",\"Apple\",\"Apple\",\"Apple\",\"Apple\",\"Apple\",\"Apple\",\"Apple\",\"Apple\",\"Apple\",\"Apple\",\"Apple\",\"Apple\",\"Apple\",\"Apple\",\"Apple\",\"Apple\",\"Apple\",\"Apple\",\"Apple\",\"Apple\",\"Apple\",\"Apple\",\"Apple\"],\n",
       "\"ratings\":[116399.0,116399.0,181273.0,21239.0,21239.0,20055.0,113403.0,123257.0,448995.0,448995.0,77156.0,448995.0,187114.0,107344.0,107344.0,107344.0,107344.0,82404.0,55964.0,48590.0,48590.0,48590.0,48590.0,12260.0,5996.0,12260.0,5996.0,138072.0,138072.0,138072.0,5651.0,4217.0,4217.0,1807.0,8983.0,1978.0,7632.0,7632.0,7632.0,28151.0,8112.0,9588.0,3004.0,9588.0,6224.0,4.0,1131.0,7721.0,6254.0,2131.0,6254.0,5596.0,5596.0,5596.0,8027.0,8027.0,1050.0,8027.0,8027.0,1050.0,8027.0,8027.0,1050.0,1029.0,778.0,1029.0,778.0,6121.0,6121.0,6121.0,6121.0,454.0,454.0,139.0,454.0,139.0,454.0,454.0,527.0,527.0,3845.0,431.0,431.0,1069.0,502.0,1826.0,1416.0,742.0,742.0,742.0,4790.0,4790.0,1638.0,1638.0,1638.0,1638.0,8331.0,3276.0,3276.0,3276.0,8331.0,1429.0,808.0,1993.0,1993.0,112.0,112.0,3241.0,3241.0,3241.0,3241.0,401.0,401.0,2968.0,15395.0,15395.0,532.0,532.0,2056.0,2056.0,1947.0,2164.0,2164.0,2164.0,2723.0,2723.0,2723.0,298.0,567.0,107.0,107.0,107.0,107.0,620.0,620.0,620.0,620.0,620.0,620.0,857.0,239.0,371.0,315.0,194.0,315.0,1401.0,1401.0,1401.0,1401.0,1401.0,250.0,250.0,4528.0,1369.0,1369.0,4595.0,4595.0,589.0,589.0,4750.0,27420.0,12836.0,2426.0,7935.0,32861.0,12513.0,32861.0,32861.0,26058.0,26058.0,26058.0,13749.0,26058.0,13749.0,19549.0,19549.0,19549.0,19549.0,49675.0,49675.0,49675.0,796.0,796.0,796.0,5997.0,652.0,5997.0,5997.0,652.0,5997.0,5997.0,652.0,6365.0,10119.0,6365.0,6365.0,2374.0,2374.0,2374.0,229.0,229.0,2176.0,2176.0,2176.0,2901.0,3699.0,3699.0,3699.0,267513.0,1865.0,1865.0,306.0,2533.0,306.0,70914.0,175932.0,70914.0,175932.0,139931.0,139931.0,47953.0,47953.0,92232.0,92232.0,92232.0,134463.0,134463.0,10660.0,4579.0,4579.0,9774.0,9774.0,2954.0,14676.0,2954.0,14676.0,11973.0,11973.0,4953.0,1003.0,4953.0,1366.0,1366.0,5539.0,2178.0,2178.0,924.0,3611.0,2155.0,3611.0,2225.0,2225.0,818.0,2225.0,818.0,818.0,4.0,4.0,1174.0,1174.0,3873.0,3873.0,107570.0,3354.0,1099.0,3354.0,2852.0,2852.0,2852.0,116.0,803.0,116.0,45885.0,45885.0,45885.0,45885.0,45885.0,45885.0,29477.0,6430.0,29477.0,6430.0,1864.0,425.0,425.0,8217.0,7398.0,7398.0,7398.0,7398.0,13.0,39.0,5593.0,1725.0,1828.0,165.0,199.0,457.0,457.0,424.0,457.0,424.0,104.0,104.0,28.0,28.0,28.0,556.0,73187.0,42013.0,42013.0,42013.0,73187.0,3610.0,3610.0,1777.0,3610.0,466.0,1254.0,466.0,1254.0,466.0,1254.0,678.0,1409.0,2977.0,1409.0,256.0,7049.0,4644.0,4644.0,4644.0,4644.0,4644.0,1923.0,4670.0,4670.0,4670.0,4670.0,4670.0,1218.0,405.0,1218.0,36030.0,302637.0,302637.0,302637.0,302637.0,302637.0,302637.0,209617.0,9.0,126591.0,31446.0,31446.0,31446.0,224614.0,15797.0,30233.0,1577.0,522.0,13002.0,10731.0,17396.0,1725.0,2833.0,2833.0,7278.0,3077.0,3077.0,13160.0,5458.0,10019.0,752.0,10019.0,752.0,10019.0,752.0,739.0,44.0,73378.0,73378.0,67986.0,67986.0,4088.0,4088.0,4088.0,1683.0,1683.0,1683.0,500.0,500.0,500.0,500.0,500.0,2608.0,5155.0,911.0,911.0,911.0,911.0,911.0,911.0,30.0,30.0,975.0,975.0,790.0,500.0,500.0,500.0,500.0,1190.0,4088.0,287.0,95.0,3077.0,95.0,151064.0,151064.0,151064.0,151064.0,151064.0,1705.0,1705.0,1705.0,690.0,690.0,1790.0,1790.0,1790.0,1790.0,1862.0,1862.0,17882.0,525.0,525.0,21.0,1785.0,1785.0,1785.0,1497.0,2641.0,1848.0,1205.0,1205.0,1319.0,2588.0,1108.0,1108.0,7732.0,7732.0,7732.0,43.0,4492.0,6617.0,1132.0,1132.0,116.0,1656.0,1952.0,1952.0,1936.0,1936.0,6522.0,6522.0,6522.0,6522.0,1395.0,1395.0,1395.0,1395.0,3889.0,3889.0,3889.0,326.0,326.0,537.0,537.0,485.0,4492.0,54.0,39078.0,137954.0,17459.0,137954.0,17459.0,137954.0,17459.0,1147.0,1147.0,1147.0,4492.0,4492.0,54.0,4492.0,43030.0,43030.0,11230.0,11230.0,2393.0,11330.0,11330.0,1949.0,1762.0,1762.0,1762.0,1762.0,519.0,519.0,519.0,519.0,5164.0,2641.0,39078.0,17762.0,17762.0,205974.0,205974.0,205974.0,205974.0,205974.0,8694.0,212000.0,212000.0,212000.0,130710.0,130710.0,287746.0,287746.0,287746.0,287746.0,287746.0,2080.0,3845.0,3845.0,3845.0,3845.0,310216.0,85263.0,85263.0,2397.0,246841.0,2948.0,62684.0,95022.0,95022.0,11369.0,11369.0,3428.0,3428.0,1417.0,100909.0,100909.0,100909.0,100909.0,100909.0,11938.0,11938.0,11938.0,1451.0],\n",
       "\"price\":[14499.0,14499.0,16990.0,21990.0,24999.0,17999.0,15999.0,23999.0,12999.0,12999.0,15599.0,12999.0,11999.0,18499.0,20499.0,18499.0,20499.0,11499.0,10499.0,22999.0,24999.0,22999.0,24999.0,29999.0,33999.0,29999.0,33999.0,13999.0,13999.0,13999.0,13990.0,26999.0,10449.0,38990.0,27999.0,9999.0,35999.0,35999.0,14499.0,32999.0,19490.0,16499.0,35140.0,32999.0,39999.0,29790.0,34999.0,29945.0,34999.0,39999.0,34999.0,25499.0,27999.0,24790.0,34999.0,36999.0,41999.0,34999.0,36999.0,42999.0,34999.0,36999.0,41999.0,49999.0,55999.0,49999.0,55999.0,26999.0,28999.0,26999.0,28999.0,34999.0,36999.0,40999.0,36999.0,40999.0,34999.0,36999.0,65999.0,65999.0,29775.0,49990.0,59999.0,42990.0,50499.0,7999.0,7999.0,23999.0,21999.0,21999.0,10990.0,11990.0,36999.0,9799.0,9499.0,8899.0,9597.0,31780.0,10005.0,64995.0,11899.0,14999.0,8399.0,7999.0,7999.0,8499.0,9499.0,23999.0,23299.0,23490.0,23299.0,24999.0,24999.0,15490.0,29800.0,19490.0,8790.0,43990.0,19985.0,15499.0,15499.0,14499.0,13499.0,14499.0,12499.0,12816.0,13999.0,12999.0,12999.0,12390.0,10449.0,11900.0,9850.0,10999.0,10999.0,12590.0,11999.0,11499.0,11499.0,14441.0,12999.0,15499.0,18999.0,13999.0,18999.0,21999.0,23999.0,21999.0,23999.0,21999.0,23999.0,23999.0,13999.0,14999.0,14999.0,17999.0,17999.0,16332.0,16695.0,9499.0,9999.0,12999.0,17999.0,16999.0,19999.0,22999.0,19999.0,20999.0,21999.0,22999.0,21999.0,23999.0,21999.0,23999.0,20999.0,21999.0,20999.0,21999.0,13499.0,13499.0,13499.0,17999.0,17999.0,19999.0,23999.0,26999.0,21999.0,23999.0,24390.0,21999.0,23999.0,26999.0,26999.0,25999.0,26999.0,28999.0,22999.0,24999.0,22999.0,26999.0,26999.0,24999.0,24999.0,26999.0,29999.0,14999.0,14999.0,14999.0,17999.0,16198.0,16445.0,20990.0,15027.0,20990.0,13499.0,11499.0,13499.0,11499.0,8574.0,8999.0,9999.0,8999.0,8999.0,9499.0,8999.0,11999.0,10999.0,7864.0,7699.0,7699.0,8499.0,8499.0,11299.0,11395.0,12999.0,10999.0,11498.0,11178.0,10499.0,12999.0,11499.0,14999.0,14999.0,21999.0,29999.0,29999.0,37999.0,37999.0,33999.0,37999.0,25280.0,27418.0,29995.0,30999.0,29490.0,32893.0,59999.0,59999.0,11499.0,11490.0,11650.0,11499.0,10999.0,7613.0,10560.0,7990.0,8493.0,8599.0,8990.0,12115.0,10399.0,12140.0,15999.0,18999.0,15999.0,18999.0,15999.0,18999.0,15999.0,17999.0,15999.0,17999.0,17999.0,20999.0,20999.0,18999.0,21890.0,15199.0,20990.0,22450.0,16999.0,13699.0,32999.0,12799.0,32999.0,6990.0,8909.0,12499.0,8114.0,7699.0,8067.0,7899.0,9990.0,9990.0,11499.0,11499.0,11499.0,13499.0,11248.0,18499.0,15499.0,18499.0,20999.0,16999.0,19999.0,14499.0,24498.0,14363.0,19999.0,14973.0,18990.0,15499.0,19999.0,18499.0,16790.0,16999.0,16798.0,22990.0,21042.0,25999.0,25999.0,28999.0,24491.0,28999.0,13599.0,27990.0,31999.0,28999.0,31990.0,27999.0,33999.0,45999.0,34599.0,6499.0,14999.0,10499.0,11499.0,10499.0,11499.0,10499.0,10999.0,9299.0,13490.0,13499.0,13499.0,13499.0,18499.0,21999.0,31999.0,23999.0,26999.0,19498.0,9890.0,24000.0,16499.0,8848.0,8450.0,12999.0,12990.0,12970.0,17999.0,1390.0,14497.0,21026.0,14534.0,22399.0,14482.0,20985.0,7999.0,27820.0,95900.0,49999.0,34999.0,37999.0,74999.0,89999.0,81999.0,64999.0,70999.0,82999.0,59999.0,49859.0,59999.0,49795.0,43999.0,144999.0,62999.0,80999.0,92999.0,80999.0,92999.0,80999.0,79149.0,111999.0,99999.0,129999.0,141999.0,79999.0,96999.0,104999.0,96999.0,97999.0,6967.0,12898.0,12715.0,14060.0,12748.0,16890.0,45999.0,34990.0,11499.0,45999.0,34990.0,31999.0,17999.0,23999.0,14999.0,13999.0,17999.0,19999.0,17999.0,19999.0,15999.0,27525.0,12999.0,9999.0,9999.0,9999.0,12499.0,20999.0,11499.0,18989.0,36999.0,12990.0,13999.0,13500.0,19490.0,17499.0,38999.0,29999.0,15999.0,16999.0,17998.0,79999.0,26999.0,20999.0,25999.0,25999.0,17706.0,21999.0,15999.0,16999.0,22999.0,20499.0,9499.0,19999.0,25999.0,25999.0,20999.0,22999.0,20999.0,22999.0,25999.0,27999.0,27999.0,89999.0,49999.0,74999.0,74999.0,69999.0,11999.0,99999.0,18999.0,12999.0,15999.0,12999.0,16099.0,12999.0,15999.0,32999.0,32999.0,32999.0,36999.0,36999.0,14499.0,40999.0,29440.0,12999.0,37999.0,37999.0,54999.0,27999.0,29999.0,32999.0,37999.0,39999.0,37999.0,39999.0,49999.0,54999.0,49999.0,54999.0,11499.0,40999.0,9499.0,38999.0,38999.0,48900.0,43900.0,48900.0,43900.0,49900.0,106600.0,54900.0,48900.0,48900.0,59900.0,74900.0,44999.0,54999.0,54999.0,74999.0,54999.0,159900.0,49900.0,74900.0,64900.0,74900.0,54999.0,69900.0,79900.0,164900.0,64999.0,164900.0,25000.0,34900.0,31500.0,77000.0,39900.0,84900.0,49900.0,52600.0,52900.0,47900.0,47900.0,45499.0,91900.0,103900.0,89900.0,103900.0,109900.0]\n",
       "},\n",
       "\"mapping\":{\n",
       "\"x\":\"ratings\",\n",
       "\"y\":\"price\",\n",
       "\"color\":\"brand\"\n",
       "},\n",
       "\"data_meta\":{\n",
       "\"series_annotations\":[{\n",
       "\"type\":\"int\",\n",
       "\"column\":\"brand_id\"\n",
       "},{\n",
       "\"type\":\"str\",\n",
       "\"column\":\"brand\"\n",
       "},{\n",
       "\"type\":\"int\",\n",
       "\"column\":\"product_id\"\n",
       "},{\n",
       "\"type\":\"str\",\n",
       "\"column\":\"product_name\"\n",
       "},{\n",
       "\"type\":\"str\",\n",
       "\"column\":\"battery\"\n",
       "},{\n",
       "\"type\":\"str\",\n",
       "\"column\":\"display\"\n",
       "},{\n",
       "\"type\":\"str\",\n",
       "\"column\":\"camera\"\n",
       "},{\n",
       "\"type\":\"str\",\n",
       "\"column\":\"processor\"\n",
       "},{\n",
       "\"type\":\"float\",\n",
       "\"column\":\"ram\"\n",
       "},{\n",
       "\"type\":\"float\",\n",
       "\"column\":\"rom\"\n",
       "},{\n",
       "\"type\":\"str\",\n",
       "\"column\":\"type\"\n",
       "},{\n",
       "\"type\":\"float\",\n",
       "\"column\":\"ratings\"\n",
       "},{\n",
       "\"type\":\"float\",\n",
       "\"column\":\"reviews\"\n",
       "},{\n",
       "\"type\":\"float\",\n",
       "\"column\":\"price\"\n",
       "},{\n",
       "\"type\":\"float\",\n",
       "\"column\":\"discount\"\n",
       "},{\n",
       "\"type\":\"float\",\n",
       "\"column\":\"actual_price\"\n",
       "}]\n",
       "},\n",
       "\"ggtitle\":{\n",
       "\"text\":\"Price vs Ratings\"\n",
       "},\n",
       "\"guides\":{\n",
       "\"x\":{\n",
       "\"title\":\"Ratings\"\n",
       "},\n",
       "\"y\":{\n",
       "\"title\":\"Price (INR)\"\n",
       "}\n",
       "},\n",
       "\"kind\":\"plot\",\n",
       "\"scales\":[],\n",
       "\"layers\":[{\n",
       "\"geom\":\"point\",\n",
       "\"mapping\":{\n",
       "},\n",
       "\"data_meta\":{\n",
       "},\n",
       "\"data\":{\n",
       "}\n",
       "}],\n",
       "\"metainfo_list\":[],\n",
       "\"spec_id\":\"4\"\n",
       "};\n",
       "               window.letsPlotCall(function() {\n",
       "       \n",
       "               var toolbar = null;\n",
       "               var plotContainer = containerDiv;               \n",
       "               \n",
       "                   var options = {\n",
       "                       sizing: {\n",
       "                           width_mode: \"min\",\n",
       "                           height_mode: \"scaled\",\n",
       "                           width: width\n",
       "                       }\n",
       "                   };\n",
       "                   var fig = LetsPlot.buildPlotFromProcessedSpecs(plotSpec, -1, -1, plotContainer, options);\n",
       "                   if (toolbar) {\n",
       "                     toolbar.bind(fig);\n",
       "                   }\n",
       "               });\n",
       "               \n",
       "               break;\n",
       "           }\n",
       "       }\n",
       "   });\n",
       "   \n",
       "   observer.observe(containerDiv);\n",
       "   \n",
       "   // ----------\n",
       "   })();\n",
       "   \n",
       "   </script>"
      ],
      "text/plain": [
       "<lets_plot.plot.core.PlotSpec at 0x16efe4f8b90>"
      ]
     },
     "execution_count": 23,
     "metadata": {},
     "output_type": "execute_result"
    }
   ],
   "source": [
    "ggplot(df_combined, aes(x=\"ratings\", y=\"price\", color=\"brand\")) + \\\n",
    "    geom_point() + \\\n",
    "    ggtitle(\"Price vs Ratings\") + \\\n",
    "    xlab(\"Ratings\") + \\\n",
    "    ylab(\"Price (INR)\")\n"
   ]
  },
  {
   "cell_type": "code",
   "execution_count": 24,
   "metadata": {},
   "outputs": [
    {
     "data": {
      "text/html": [
       "   <div id=\"n7W5zt\"></div>\n",
       "   <script type=\"text/javascript\" data-lets-plot-script=\"plot\">\n",
       "   \n",
       "   (function() {\n",
       "   // ----------\n",
       "   \n",
       "   var containerDiv = document.getElementById(\"n7W5zt\");\n",
       "   var observer = new ResizeObserver(function(entries) {\n",
       "       for (let entry of entries) {\n",
       "           var width = containerDiv.clientWidth\n",
       "           if (entry.contentBoxSize && width > 0) {\n",
       "           \n",
       "               // Render plot\n",
       "               if (observer) {\n",
       "                   observer.disconnect();\n",
       "                   observer = null;\n",
       "               }\n",
       "\n",
       "               var plotSpec={\n",
       "\"data\":{\n",
       "},\n",
       "\"mapping\":{\n",
       "\"x\":\"price\",\n",
       "\"fill\":\"brand\"\n",
       "},\n",
       "\"data_meta\":{\n",
       "\"series_annotations\":[{\n",
       "\"type\":\"int\",\n",
       "\"column\":\"brand_id\"\n",
       "},{\n",
       "\"type\":\"str\",\n",
       "\"column\":\"brand\"\n",
       "},{\n",
       "\"type\":\"int\",\n",
       "\"column\":\"product_id\"\n",
       "},{\n",
       "\"type\":\"str\",\n",
       "\"column\":\"product_name\"\n",
       "},{\n",
       "\"type\":\"str\",\n",
       "\"column\":\"battery\"\n",
       "},{\n",
       "\"type\":\"str\",\n",
       "\"column\":\"display\"\n",
       "},{\n",
       "\"type\":\"str\",\n",
       "\"column\":\"camera\"\n",
       "},{\n",
       "\"type\":\"str\",\n",
       "\"column\":\"processor\"\n",
       "},{\n",
       "\"type\":\"float\",\n",
       "\"column\":\"ram\"\n",
       "},{\n",
       "\"type\":\"float\",\n",
       "\"column\":\"rom\"\n",
       "},{\n",
       "\"type\":\"str\",\n",
       "\"column\":\"type\"\n",
       "},{\n",
       "\"type\":\"float\",\n",
       "\"column\":\"ratings\"\n",
       "},{\n",
       "\"type\":\"float\",\n",
       "\"column\":\"reviews\"\n",
       "},{\n",
       "\"type\":\"float\",\n",
       "\"column\":\"price\"\n",
       "},{\n",
       "\"type\":\"float\",\n",
       "\"column\":\"discount\"\n",
       "},{\n",
       "\"type\":\"float\",\n",
       "\"column\":\"actual_price\"\n",
       "}]\n",
       "},\n",
       "\"ggtitle\":{\n",
       "\"text\":\"Density Plot of Mobile Prices\"\n",
       "},\n",
       "\"guides\":{\n",
       "\"x\":{\n",
       "\"title\":\"Price (INR)\"\n",
       "},\n",
       "\"y\":{\n",
       "\"title\":\"Density\"\n",
       "}\n",
       "},\n",
       "\"kind\":\"plot\",\n",
       "\"scales\":[],\n",
       "\"layers\":[{\n",
       "\"geom\":\"density\",\n",
       "\"mapping\":{\n",
       "},\n",
       "\"data_meta\":{\n",
       "},\n",
       "\"alpha\":0.6,\n",
       "\"data\":{\n",
       "\"..density..\":[2.7970659199034526E-6,3.2325925981583103E-6,3.718601616054439E-6,4.257982879233069E-6,4.853324242183752E-6,5.506831416708286E-6,6.220247145531359E-6,6.994771641157509E-6,7.830986436461494E-6,8.728783879078488E-6,9.68730451943315E-6,1.0704884587842491E-5,1.1779015628091742E-5,1.290631815478919E-5,1.4082530934196945E-5,1.530251716037288E-5,1.6560288419939408E-5,1.7849046921024505E-5,1.9161246017519096E-5,2.0488668601973497E-5,2.182252248240219E-5,2.3153551412610474E-5,2.447216002404076E-5,2.576855051990372E-5,2.703286864840622E-5,2.825535617863928E-5,2.9426506866193446E-5,3.053722272067194E-5,3.157896727785024E-5,3.2543912538369945E-5,3.342507626504956E-5,3.421644643406648E-5,3.491308981275788E-5,3.5511241889185656E-5,3.600837570542474E-5,3.640324754590098E-5,3.669591790027621E-5,3.688774665140642E-5,3.688774665140642E-5,3.69813620241943E-5,3.698060345932816E-5,3.689043923263199E-5,3.671686030897225E-5,3.646675257989975E-5,3.6147750265134455E-5,3.576807383727877E-5,3.5336356334332126E-5,3.4861462334203837E-5,3.435230416010765E-5,3.381766004927095E-5,3.3265999037777636E-5,3.2705317184589445E-5,3.2142989476506716E-5,3.1585641327684145E-5,3.103904302309227E-5,3.0508029771629708E-5,2.9996449253470778E-5,2.9507137694253583E-5,2.9041924606017196E-5,2.8601665433814384E-5,2.8186300471061495E-5,2.7794937588783147E-5,2.7425955594866E-5,2.7425955594866E-5,2.7077124426711588E-5,2.674573790709682E-5,2.642875447563375E-5,2.6122941157447086E-5,2.5825016049928585E-5,2.5531784793821153E-5,2.5240266835546303E-5,2.4947807766301815E-5,2.4652174617187897E-5,2.4351631671392314E-5,2.4044995094353172E-5,2.373166544971713E-5,2.341163793209039E-5,2.308549087831385E-5,2.275435379187603E-5,2.2419856709163168E-5,2.2084063235798597E-5,2.1749389976174215E-5,2.1418515364795185E-5,2.1094281084734432E-5,2.0779589331183282E-5,2.0477299155044067E-5,2.0190125013263374E-5,1.9920540470812804E-5,1.9670689755644233E-5,1.9442309573583637E-5,1.9236663254661198E-5,1.9054488933901125E-5,1.8895963074693285E-5,1.8760680226960063E-5,1.8647649480262018E-5,1.8555307628741634E-5,1.848154861625288E-5,1.8423768383556485E-5,1.8378923804430996E-5,1.8378923804430996E-5,1.834360398543983E-5,1.8314111828326592E-5,1.828655342940475E-5,1.8256932632232587E-5,1.822124787309306E-5,1.8175588376238933E-5,1.811622677723838E-5,1.8039705383383256E-5,1.7942913519949307E-5,1.7823153754077028E-5,1.7678195221959535E-5,1.7506312791817168E-5,1.7306311351707325E-5,1.7077535090700162E-5,1.681986221533789E-5,1.6533686081327657E-5,1.6219884195527114E-5,1.5879776931511075E-5,1.5515078084669884E-5,1.5127839557788097E-5,1.472039251070882E-5,1.4295287231039086E-5,1.3855233797358954E-5,1.340304532913353E-5,1.2941585270853968E-5,1.2473719767832665E-5,1.2002275785220027E-5,1.1530005227558391E-5,1.1059554958654721E-5,1.0593442321885731E-5,1.0134035535053693E-5,9.683538191124604E-6,9.24397703943112E-6,8.817192247421313E-6,8.404829440950149E-6,8.008332976587982E-6,7.628940093937291E-6,7.267675808899957E-6,6.9253486192184895E-6,6.602547281673461E-6,6.2996390690459345E-6,6.016770011309194E-6,5.753867661304076E-6,5.510646897502427E-6,5.286619187861435E-6,5.0811055967011535E-6,4.893253632734539E-6,4.722057825786118E-6,4.566383699243953E-6,4.424994592368461E-6,4.296580597907092E-6,4.179788730647856E-6,4.073253343062998E-6,3.975625762584364E-6,3.885602144437902E-6,3.801948612930329E-6,3.7235228968942513E-6,3.6492918421557132E-6,3.578344392928055E-6,3.509899860546835E-6,3.4433115267043623E-6,3.378065844399606E-6,3.3137776896684854E-6,3.250182269611994E-6,3.1871243991619045E-6,3.124545915805193E-6,3.062472007225243E-6,3.000997184217184E-6,2.940271546254996E-6,2.8804878683594594E-6,2.821869895993006E-6,2.764662081220315E-6,2.709120840144587E-6,2.65550726982427E-6,2.604081142245068E-6,2.555095901189194E-6,2.508794330261556E-6,2.4654045394430073E-6,2.4251359331302416E-6,2.388174871866957E-6,2.3546798177486827E-6,2.3247758528183095E-6,2.2985485723732473E-6,2.2760374719766857E-6,2.2572290590018574E-6,2.2420500181259066E-6,2.230360837739655E-6,2.2219503546389824E-6,2.2165316933265447E-6,2.2137400615518725E-6,2.213132815292198E-6,2.214192126312364E-6,2.2163304778342514E-6,2.2188990845447545E-6,2.2211991894329854E-6,2.22249604000706E-6,2.222035199027159E-6,2.2190607087132583E-6,2.212834510615073E-6,2.20265643311554E-6,2.187884000567212E-6,2.167951296215939E-6,2.142386127180558E-6,2.1108247934922395E-6,2.073023852055279E-6,2.0288683858624084E-6,1.9783764326321517E-6,1.9216993876255154E-6,1.8591183642459585E-6,1.7910366642616577E-6,1.7179686684140413E-6,1.6405255997832368E-6,1.5593987297193506E-6,1.4753406841084328E-6,1.3891455627263556E-6,1.3016286049051783E-6,1.2136061211321445E-6,1.1258763648198497E-6,1.0392019452587492E-6,9.542942869319539E-7,8.718005280999178E-7,7.922931295077668E-7,7.162623389553145E-7,6.441115356862117E-7,5.761553657955622E-7,5.126204808529032E-7,4.536486102546672E-7,3.993016357566363E-7,3.4956829521443447E-7,3.0437212159351353E-7,2.635802215463748E-7,2.2701251316508887E-7,1.9445107212194693E-7,1.6564927611949517E-7,1.4034048601685038E-7,1.1824605485643713E-7,9.908251018446403E-8,8.25678078112017E-8,6.842660423851576E-8,5.639453866762901E-8,4.6221552612216705E-8,3.7674305029589725E-8,3.0537763372306555E-8,2.4616066287577246E-8,1.973276240979959E-8,1.5730532595654678E-8,1.2470500983375487E-8,9.831234429060204E-9,7.707521194158948E-9,6.009009184705872E-9,4.658772432528667E-9,3.591862595175473E-9,2.7538906296396594E-9,2.0996729184756817E-9,1.5919663133079595E-9,1.2003080048670188E-9,8.999689196050601E-10,6.710234833809687E-10,4.975340190730491E-10,3.6684464651485143E-10,2.689771892322451E-10,1.9612010741741675E-10,1.4220071169945595E-10,1.025307149696868E-10,7.351540977228671E-11,5.2417293179541464E-11,3.7165694891690013E-11,2.620481186218313E-11,1.837344667380184E-11,1.2810636497692665E-11,8.882208674571648E-12,6.1240839627761755E-12,4.198855436900191E-12,2.862793753208687E-12,1.9409676191413396E-12,1.3086254335053215E-12,8.773664308574189E-13,5.849449840791837E-13,3.8780834054491953E-13,2.5567434800488686E-13,1.6761961316352318E-13,1.0927730043782641E-13,7.084387608235816E-14,4.567112355335325E-14,2.927843748962049E-14,1.8664687105863825E-14,1.1832048797250863E-14,7.45873910840126E-15,4.675595337601017E-15,2.914568489297437E-15,1.806663527686822E-15,1.1136424354315129E-15,6.8262088098336075E-16,4.1608158382410565E-16,2.5219842664941356E-16,1.5200960657503658E-16,9.110963606272887E-17,5.430277673114552E-17,3.218429854804625E-17,1.8968377430286506E-17,1.1116812519341754E-17,6.478794248307114E-18,3.75466977885271E-18,2.1637785240324465E-18,1.2399872342347878E-18,7.06618205570311E-19,4.004197449726683E-19,2.2563634476563454E-19,1.2643444096784994E-19,7.045054459515534E-20,3.90360443275983E-20,2.1508474007875482E-20,1.1784620693060445E-20,6.4207195049063154E-21,3.478674026569568E-21,1.8741553579225724E-21,1.0040587662531204E-21,5.34902020151405E-22,2.8336798463126963E-22,1.4927553586532879E-22,7.819656733929114E-23,4.0733132642743313E-23,2.1099340857512356E-23,1.0868029343091904E-23,5.5666438806497514E-24,2.8352847619921633E-24,1.4360197917210413E-24,7.232435237150139E-25,3.62217107829356E-25,1.803904464775148E-25,8.93342863163029E-26,4.399291811682359E-26,2.1543051758061013E-26,1.0490385169326991E-26,5.0796676490803306E-27,2.44590012079342E-27,1.1711205383863695E-27,5.576013791460563E-28,2.6400086476293953E-28,1.2429281808235897E-28,5.818965786074251E-29,2.7089723070245194E-29,1.2540713056387639E-29,5.7729621788350016E-30,2.6426151651143544E-30,1.2028951604449205E-30,5.4447781913905365E-31,2.4507052659175414E-31,1.0968831656935124E-31,4.881889821559758E-32,2.1605972157726102E-32,9.50862693629285E-33,4.1612124203595926E-33,1.8108395414224907E-33,7.836064158994773E-34,3.3718935437226673E-34,1.442804577843886E-34,6.139017657304392E-35,2.597454193090197E-35,1.0928347270616849E-35,4.572130143224522E-36,1.9021296729388327E-36,7.868990687083519E-37,3.2370935563752346E-37,1.3241851601452655E-37,5.386409459580138E-38,2.1787486562521393E-38,8.763386371805352E-39,3.5050465242891195E-39,1.3940313944663488E-39,5.513256576922803E-40,2.1682066845791996E-40,8.479103226552006E-41,3.2972803863086486E-41,1.2750243961993336E-41,4.9027270447281316E-42,1.874621041249818E-42,7.1276400563554796E-43,2.6948492838527112E-43,1.013163652682017E-43,3.787747932533287E-44,1.4081173145391436E-44,5.20538504148748E-45,1.9134762918207762E-45,6.9943839686679646E-46,2.5423302618547314E-46,9.189048245039938E-47,3.3026695309834197E-47,1.1803632727573478E-47,4.1949056078333905E-48,1.4824654920349814E-48,5.2095816156856135E-49,1.8204422748909044E-49,6.325673190492087E-50,2.18570890812982E-50,7.509890211224143E-51,2.5658455443991112E-51,8.717321229110866E-52,2.945039820898378E-52,9.893611169998251E-53,3.305019408219628E-53,1.0978643033831982E-53,3.626425452807488E-54,1.1911439512071374E-54,3.890497290855288E-55,1.263575870705156E-55,4.08087072837439E-56,1.3105682012435597E-56,4.1852524443886186E-57,1.329042607375384E-57,4.196732925114172E-58,1.3177678663028566E-58,4.11454311677808E-59,1.2774956123176774E-59,3.9441396466192564E-60,1.2108774402718664E-60,3.696605489342124E-61,1.122176073507786E-61,3.3874575628465003E-62,1.0168143196552322E-62,3.0350395205559323E-63,9.008281078853869E-64,2.658730779358876E-64,7.803000416089562E-65,2.277213265835649E-65,6.608464554179049E-66,1.9070065571974572E-66,5.4721569700680896E-67,1.5614195894048592E-67,4.430323050086777E-68,1.2499879886970205E-68,3.506960999913515E-69,9.783869775084853E-70,2.714219718418704E-70,7.487449895893406E-71,2.0538911689544915E-71,5.602417589632934E-72,1.5195957068316832E-72,4.0985963774557126E-73,1.0992506730893226E-73,2.931654621836009E-74,7.774694406852575E-75,2.0502569424192E-75,5.376351790062907E-76,1.4019143186067902E-76,3.635043853260799E-77,9.372430117641551E-78,2.402974291314763E-78,6.126329893953484E-79,1.5531233880892332E-79,3.915307267127418E-80,9.814767960949033E-81,2.446518493940871E-81,6.064168155340925E-82,1.4946799867135645E-82,3.663358666839772E-83,8.928220063420863E-84,2.163737348655033E-84,5.214328567628417E-85,1.2495292570596014E-85,2.977478510925924E-86,7.055129668961927E-87,1.6623233690424848E-87,3.89475509048496E-88,9.074002994522942E-89,2.102189160170198E-89,4.842824872376648E-90,1.1093786983425866E-90,2.527056523315374E-91,5.724059685767075E-92,1.2892804711432454E-92,2.8876509626877703E-93,6.431259348696625E-94,1.4242996605801175E-94,3.1366114961102375E-95,6.8686927615282945E-96,1.4956894953890053E-96,3.2386407694754536E-97,6.973295781414461E-98,1.4930259579489055E-98,3.178707632726717E-99,6.729576842881705E-100,1.416703168198332E-100,2.9656773600149974E-101,6.173377831156226E-102,1.2778377840445564E-102,2.630161982668708E-103,5.383232800123822E-104,1.0956143551756841E-104,2.2173086211326082E-105,4.46219400922005E-106,8.929448072244294E-107,1.7768658470513466E-107,3.515916182096819E-108,6.917931040689978E-109,1.3535296670043963E-109,2.6333777275900592E-110,5.094626596632892E-111,9.800886814654296E-112,1.8748744785713717E-112,3.566422760671668E-113,6.746014087240044E-114,1.2688651051092524E-114,2.373216983409311E-115,4.413805773116261E-116,8.162867751999716E-117,1.5011568354034725E-117,2.7451313882811286E-118,4.991762996840166E-119,9.026066478983453E-120,1.622918988942315E-120,2.9016758396772886E-121,5.158871120590783E-122,9.120406404796473E-123,1.6033466401412093E-123,1.2521976747067712E-6,1.6005156270403683E-6,2.025687195877911E-6,2.538899793005846E-6,3.1514979742374427E-6,3.874599121180136E-6,4.718644301695212E-6,5.692898281719173E-6,6.80491850847717E-6,8.06001809127673E-6,9.46075181551804E-6,1.1006456533834594E-5,1.2692877495014098E-5,1.4511910074928263E-5,1.6451481948969173E-5,1.8495594197875573E-5,2.0624531581567275E-5,2.281524283099317E-5,2.5041881987746536E-5,2.727649229454397E-5,2.9489805599665297E-5,3.1652123277224245E-5,3.37342397263785E-5,3.5708366866494795E-5,3.754901778627347E-5,3.923380976828603E-5,4.074415110146908E-5,4.206578212044987E-5,4.318914841121716E-5,4.410959268870654E-5,4.482736103777963E-5,4.5347428537388204E-5,4.567915825333024E-5,4.583581566559534E-5,4.583581566559534E-5,4.583396727480613E-5,4.569279693388204E-5,4.543337599268957E-5,4.50779233894077E-5,4.464908933557401E-5,4.4169291419504864E-5,4.36601252354833E-5,4.3141863693100816E-5,4.263305079132694E-5,4.2150187744611586E-5,4.1707502775271054E-5,4.131679133995689E-5,4.098731149266424E-5,4.0725719639851515E-5,4.053603490650592E-5,4.041962516988919E-5,4.0375213731971824E-5,4.039891163365727E-5,4.039891163365727E-5,4.0484285772196956E-5,4.062247637777071E-5,4.080237837173498E-5,4.101089932493868E-5,4.1233302193810235E-5,4.1453634150906026E-5,4.1655234398653326E-5,4.182130485986333E-5,4.19355191973342E-5,4.19826388267615E-5,4.194910038698436E-5,4.182353816649257E-5,4.159720752787383E-5,4.1264281282161974E-5,4.082199970445846E-5,4.02706655808791E-5,3.9613487242619E-5,3.8856283797500876E-5,3.800707659306657E-5,3.800707659306657E-5,3.707559840979962E-5,3.607275635486716E-5,3.5010085627780235E-5,3.3899229348721284E-5,3.2751474898123944E-5,3.1577370387519096E-5,3.038643679439338E-5,2.918698281603101E-5,2.7986021432411712E-5,2.6789280170631592E-5,2.5601291584773668E-5,2.4425546735438238E-5,2.3264692492791486E-5,2.212075314528204E-5,2.0995357804327394E-5,1.9889957123899683E-5,1.8806015565091458E-5,1.7745168522566853E-5,1.670933684048959E-5,1.570079439179828E-5,1.47221873480032E-5,1.3776506446640967E-5,1.286701592373447E-5,1.1997144793552996E-5,1.1170347813399768E-5,1.0389944758374992E-5,9.658947544190358E-6,8.979885270798992E-6,8.354637411844755E-6,7.78428513941894E-6,7.268990142182529E-6,6.807909256452898E-6,6.3991517732522514E-6,6.039784405596218E-6,5.725886613862207E-6,5.4526563393992765E-6,5.214563279311893E-6,5.005543794080481E-6,4.819228573988427E-6,4.649191543210606E-6,4.489206415937617E-6,4.333496090176813E-6,4.176959876812896E-6,4.015364534558837E-6,3.8454872229594184E-6,3.665201675183781E-6,3.473502884715696E-6,3.2704700469560434E-6,3.057171985119424E-6,2.83552339106125E-6,2.6081035347230167E-6,2.3779513356650997E-6,2.1483516643175027E-6,1.922627408976706E-6,1.70395030912679E-6,1.4951810413342323E-6,1.298745864631171E-6,1.1165536472877656E-6,9.499536650561897E-7,7.997314990633155E-7,6.661379119726579E-7,5.489438928424928E-7,4.4751418478788146E-7,3.6089150498053725E-7,2.878842208751357E-7,2.2715129847235183E-7,1.7727970416077638E-7,1.3685093943584464E-7,1.0449485745916965E-7,7.893022688204943E-8,5.899258796308406E-8,4.36507467297914E-8,3.201376949867166E-8,2.33305958158836E-8,1.6984425075932373E-8,1.248390227288763E-8,9.452883994421141E-9,7.620253859889871E-9,6.8109145755006935E-9,6.938737797107039E-9,8.001918202361968E-9,1.0080860551039853E-8,1.333842777117116E-8,1.8022091204549765E-8,2.4467248873210808E-8,3.3100715893447367E-8,4.444315152226252E-8,5.910898643299713E-8,7.78022764968128E-8,1.0130686698380849E-7,1.3046933834910186E-7,1.6617345462834433E-7,2.0930527305774892E-7,2.607087092742305E-7,3.211321755074408E-7,3.911678823327492E-7,4.7118645171633853E-7,5.612705364888336E-7,6.611520632863969E-7,7.701583849970944E-7,8.871729202064616E-7,1.0106156663105915E-6,1.138448232758591E-6,1.2682067375461206E-6,1.3970640940771026E-6,1.5219210050937164E-6,1.6395225561407244E-6,1.7465948910088616E-6,1.8399943078880367E-6,1.9168594843806666E-6,1.97475663207967E-6,2.0118073409651876E-6,2.0267897555734295E-6,2.0192054831515666E-6,1.9893071233688886E-6,1.9380842985139014E-6,1.8672092618049948E-6,1.778946253654604E-6,1.6760314584424376E-6,1.5615324335316013E-6,1.4386970620935925E-6,1.310802342619189E-6,1.181012693552499E-6,1.052256038037041E-6,9.271239325512781E-7,8.077996524105026E-7,6.960157004899844E-7,5.930399019151438E-7,4.996872850889716E-7,4.1635346801009216E-7,3.430643410287579E-7,2.7953646929819957E-7,2.2524277887122327E-7,1.7947864510614056E-7,1.4142435036997206E-7,1.1020089130105144E-7,8.491717273103672E-8,6.470762346612939E-8,4.876013256269487E-8,3.633488668241223E-8,2.677517062182798E-8,1.9511478889881365E-8,1.406039864810572E-8,1.001969690851279E-8,7.060915907611631E-9,4.920587947203107E-9,3.390958402006553E-9,2.310880193808425E-9,1.5573344935613715E-9,1.0378530836094594E-9,6.839736352701429E-10,4.4575102196557235E-10,2.872730186833408E-10,1.8308249950590506E-10,1.1538472845233081E-10,7.19116636598803E-11,4.432000946680123E-11,2.7011571849601E-11,1.6279811594060205E-11,9.702829416469582E-12,5.718694839316464E-12,3.3330739780362132E-12,1.92106689519519E-12,1.0949379983497838E-12,6.171433756038718E-13,3.4397915090733416E-13,1.8959534624896E-13,1.0334101682437333E-13,5.570155153136114E-14,2.969007937536523E-14,1.5649660822738464E-14,8.157329491426219E-15,4.204753922962539E-15,2.1432985424147543E-15,1.0803743314347406E-15,5.38536756518076E-16,2.65464191867279E-16,1.294035080528907E-16,6.237860474739317E-17,2.973546726436234E-17,1.4017268194101325E-17,6.534336606058408E-18,3.0122369188405083E-18,1.3731761629185452E-18,6.190316996509748E-19,2.7596183675097954E-19,1.2165631825658252E-19,5.303588444835655E-20,2.2864118738634765E-20,9.747396275065394E-21,4.109341957890289E-21,1.7131896696564356E-21,7.0629822684014815E-22,2.8795212602924296E-22,1.160919128908446E-22,4.628424136017524E-23,1.824793967153222E-23,7.11449416898001E-24,2.7429868369104834E-24,1.0458103214750944E-24,3.9430440458611934E-25,1.4701438704723345E-25,5.420477563618269E-26,1.9763541462828687E-26,7.125929013584423E-27,2.5407838410108466E-27,8.958668161453528E-28,3.123695457806461E-28,1.0770687524048405E-28,3.67254961167303E-29,1.2383443317259727E-29,4.129188169323547E-30,1.3615620327752086E-30,4.439762056585992E-31,1.4316322149421744E-31,4.5651256346411295E-32,1.4395392480756808E-32,4.488939897522135E-33,1.3842469512553017E-33,4.22117021581647E-34,1.2729216089258189E-34,3.79594540393554E-35,1.1194063348860461E-35,3.264412766512757E-36,9.413949828545439E-37,2.684653222208896E-37,7.57101342643759E-38,2.111394284196309E-38,5.8228308082457256E-39,1.5879927132132364E-39,4.282647640507061E-40,1.142156687160207E-40,3.0122328076506444E-41,7.855989354297377E-42,2.026108705975892E-42,5.1674240665430694E-43,1.3032717121222494E-43,3.2504638370751164E-44,8.016876861655099E-45,1.955305363899609E-45,4.715996507936625E-46,1.1248169767488953E-46,2.6530153001376923E-47,6.187955062774363E-48,1.4272631472562704E-48,3.255445714117938E-49,7.342878931425105E-50,1.6378411640648262E-50,3.6126567595622384E-51,7.880089032004699E-52,1.6997500089810296E-52,3.6256717642320194E-53,7.647886272355428E-54,1.595305499548916E-54,3.290756956284012E-55,6.712700305373792E-56,1.354092126138654E-56,2.7011498117268373E-57,5.328422276681665E-58,1.0394368355382112E-58,2.0051509655012157E-59,3.825124301835243E-60,7.215950310855157E-61,1.346142450195706E-61,2.4833504423439577E-62,4.5303786803042096E-63,8.172981278038985E-64,1.4580620544714125E-64,2.57229643537843E-65,4.4876143542424657E-66,7.742113709435976E-67,1.3208486817855568E-67,2.2284151023903692E-68,3.7178222614995677E-69,6.133814791513104E-70,1.0007421632314778E-70,1.6145936558363685E-71,2.576047044686509E-72,4.064375668371119E-73,6.341374472313548E-74,9.784135569961825E-75,1.4928323159561151E-75,2.2524185661849228E-76,3.3607536080774842E-77,4.958767579371794E-78,7.235363207403147E-79,1.043990208775585E-79,1.4896423770004764E-80,2.1019245172841274E-81,2.9329301346985254E-82,4.047024412005082E-83,5.522292864190658E-84,7.451651750311871E-85,9.943405939498487E-86,1.3121010831956184E-86,1.712178040266723E-87,2.2094290289320684E-88,2.8194259541985376E-89,3.5578762250735164E-90,4.4398723281472704E-91,5.478978961156122E-92,6.686183449385378E-93,8.068753501399657E-94,9.629064867723841E-95,1.136347814995446E-95,1.3261356630922747E-96,1.5304323325497475E-97,1.7465853553368936E-98,1.971128789180577E-99,2.1998328960991827E-100,2.4278054820674944E-101,2.64964437043824E-102,2.8596362404245017E-103,3.0519927755034826E-104,3.221111176092023E-105,3.3618430371062155E-106,3.469753758910829E-107,3.5413543259181025E-108,3.5742885757056783E-109,3.5674619423611107E-110,3.521101862052578E-111,3.436745191001138E-112,3.317153606734386E-113,3.1661634882146544E-114,2.9884816562897415E-115,2.789442136474213E-116,2.5747414456815697E-117,2.3501706341272004E-118,2.1213614441953436E-119,1.893561660156807E-120,1.671451335107514E-121,1.4590075046718905E-122,1.2594206779214163E-123,1.0750622637345913E-124,9.074985095517423E-126,7.575437641618202E-127,6.253440747669268E-128,5.1048132076804926E-129,4.120881971223681E-130,3.289652324276483E-131,2.59692453961945E-132,2.027300671290173E-133,1.565043822204208E-134,1.1947700996946209E-135,9.01969168866017E-137,6.733619076015249E-138,4.9711274843146815E-139,3.629198823706564E-140,2.6200894994354142E-141,1.8705572135608607E-142,1.320612398535669E-143,9.219964499883089E-145,6.365501603584411E-146,4.34595794439679E-147,2.934187828934618E-148,1.9590242306535983E-149,1.2934248737289313E-150,8.444853383228604E-152,5.452460445274427E-153,3.481307918540809E-154,2.1980717094461067E-155,1.3724318236681888E-156,8.474014591338816E-158,5.174127657886788E-159,3.1241694129988475E-160,1.8654409974546603E-161,1.1014834157331216E-162,6.43167235993834E-164,3.713807312709855E-165,2.120627192099616E-166,1.1974538627148814E-167,6.686560170734767E-169,3.6922936155713826E-170,2.0162259778864952E-171,1.0887588225838317E-172,5.813981866879138E-174,3.070189365438208E-175,1.6032681223996076E-176,8.279357899918316E-178,4.228016370424963E-179,2.135139072764553E-180,1.0662650657978788E-181,5.265670716956081E-183,2.5715307317694825E-184,1.241878889555719E-185,5.930840914860921E-187,2.800933576141962E-188,1.3080936845649094E-189,6.041216398358078E-191,2.7590491728591714E-192,1.2460744561627534E-193,5.565165067144052E-195,2.457885298415028E-196,1.0734817806142303E-197,4.636361046421158E-199,1.9802012177411856E-200,8.363554718589094E-202,3.493188216255753E-203,1.4427881768326027E-204,5.89294879615881E-206,2.3801934994241338E-207,9.506953428388372E-209,3.755086733291677E-210,1.4667229355122013E-211,5.6653363413239505E-213,2.1639778834356436E-214,8.173902288748008E-216,3.0532022256651896E-217,1.1277976965121298E-218,4.119612247417731E-220,1.4880961136277164E-221,5.3156347120786036E-223,1.877711125815413E-224,6.559216030474188E-226,2.2658157666817293E-227,7.740103332594593E-229,2.614679291859722E-230,8.734531198426057E-232,2.8854282399404853E-233,9.426065645605419E-235,3.04509009386745E-236,9.727905372950283E-238,3.073180245086428E-239,9.600773691765785E-241,2.9660190564448825E-242,9.061313282578258E-244,2.7375235191685235E-245,8.178507886108923E-247,2.4162384940743955E-248,7.0591925098053E-250,2.039481436640098E-251,5.826852066977031E-253,1.646257370364217E-254,4.599503745230593E-256,1.2707898160463093E-257,3.472050068026096E-259,9.38096978373343E-261,2.5064497342041676E-262,6.622466441667173E-264,1.7303343826580729E-265,4.47084705599397E-267,8.001571736302475E-6,8.559492440901755E-6,9.139975412564973E-6,9.742380688181602E-6,1.0365904925768654E-5,1.1009577837729865E-5,1.1672260098846674E-5,1.2352642839710164E-5,1.3049248819319633E-5,1.3760435351115438E-5,1.4484399035024845E-5,1.5219182324484132E-5,1.5962681932216222E-5,1.671265905219478E-5,1.746675134816421E-5,1.822248663178557E-5,1.8977298126445776E-5,1.9728541186514783E-5,2.0473511316876072E-5,2.1209463314392958E-5,2.1933631332086654E-5,2.2643249648636338E-5,2.3335573910766007E-5,2.400790260450133E-5,2.4657598503440816E-5,2.5282109838297352E-5,2.587899093215469E-5,2.6445922050199964E-5,2.6980728221096037E-5,2.7481396799528897E-5,2.794609355559964E-5,2.8373177096349335E-5,2.876121144745262E-5,2.910897664857849E-5,2.941547724362038E-5,2.9679948576430618E-5,2.990186083330922E-5,2.990186083330922E-5,3.008092080472555E-5,3.021707137002953E-5,3.0310488739664245E-5,3.0361577519086477E-5,3.037096368671951E-5,3.0339485604337312E-5,3.02681832018915E-5,3.0158285499591936E-5,3.0011196647746506E-5,2.9828480679245342E-5,2.961184518049726E-5,2.9363124094030245E-5,2.908425986986422E-5,2.877728518323425E-5,2.844430443344001E-5,2.808747523272539E-5,2.77089900854204E-5,2.7311058446404793E-5,2.6895889334623853E-5,2.6465674662261938E-5,2.6022573423638155E-5,2.556869687031063E-5,2.510609478063902E-5,2.463674291351822E-5,2.416253171749891E-5,2.368525634836311E-5,2.3206608030696776E-5,2.2728166782334877E-5,2.2728166782334877E-5,2.2251395504938154E-5,2.1777635429544054E-5,2.13081028928259E-5,2.08438874080538E-5,2.0385950984405273E-5,1.9935128639307287E-5,1.9492130040862223E-5,1.90575422110426E-5,1.8631833215143702E-5,1.821535675884494E-5,1.780835761103604E-5,1.741097776818434E-5,1.7023263274337338E-5,1.6645171609750825E-5,1.627657956050788E-5,1.5917291481254308E-5,1.5567047863254543E-5,1.5225534120315031E-5,1.4892389505701671E-5,1.456721607398447E-5,1.4249587602789829E-5,1.3939058390758835E-5,1.3635171849648561E-5,1.3337468810531929E-5,1.3045495466524023E-5,1.275881087746217E-5,1.2476993965574554E-5,1.2199649935457346E-5,1.1926416056710066E-5,1.1656966753403727E-5,1.1391017951208804E-5,1.1128330640504114E-5,1.086871362210912E-5,1.0612025411394691E-5,1.0358175286360823E-5,1.0107123475733327E-5,9.858880494096829E-6,9.613505642404459E-6,9.371104703707929E-6,9.131826875444967E-6,8.895860990894501E-6,8.66343109324373E-6,8.434791435881655E-6,8.210220991816993E-6,7.990017563298699E-6,7.7744915895929E-6,7.56395975625836E-6,7.358738513006545E-6,7.159137609206788E-6,6.9654537562103395E-6,6.777964523867135E-6,6.5969225748850514E-6,6.422550335063993E-6,6.2550351900009514E-6,6.094525289722245E-6,5.941126032011553E-6,5.794897283158305E-6,5.655851381674964E-6,5.523951956474787E-6,5.399113576336724E-6,5.281202232498895E-6,5.170036641212444E-6,5.065390338352215E-6,4.966994524010182E-6,4.8745416016738165E-6,4.8745416016738165E-6,4.787689344374899E-6,4.706065609322645E-6,4.629273513216538E-6,4.556896972842744E-6,4.488506509830837E-6,4.423665214681742E-6,4.3619347634293726E-6,4.30288138058109E-6,4.246081644268353E-6,4.191128033760606E-6,4.137634125546606E-6,4.085239351926254E-6,4.03361324530995E-6,3.982459101990563E-6,3.931517010812098E-6,3.8805662046678325E-6,3.829426705864913E-6,3.7779602498312707E-6,3.7260704851506314E-6,3.6737024612326973E-6,3.620841427806426E-6,3.5675109826260505E-6,3.5137706150809932E-6,3.4597127036020144E-6,3.4054590336820875E-6,3.3511569108339462E-6,3.296974948770092E-6,3.2430986174297653E-6,3.1897256381383054E-6,3.137061314148592E-6,3.0853138840956536E-6,3.03468998354052E-6,2.9853902958653677E-6,2.9376054684153667E-6,2.8915123630957704E-6,2.8472707027824052E-6,2.805020166065389E-6,2.764877973212177E-6,2.7269369960108493E-6,2.6912644135501284E-6,2.657900925223481E-6,2.6268605215252164E-6,2.59813080274424E-6,2.571673825654685E-6,2.5474274489357452E-6,2.5253071394925657E-6,2.505208194241363E-6,2.4870083253874427E-6,2.4705705518605026E-6,2.4557463354468807E-6,2.4423788973140753E-6,2.4303066490714973E-6,2.4193666722378103E-6,2.4093981809474635E-6,2.4002459048601742E-6,2.3917633324478476E-6,2.3838157590146855E-6,2.3762830888326606E-6,2.36906234650801E-6,2.3620698589883514E-6,2.3552430763226534E-6,2.348542006245631E-6,2.3419502447250332E-6,2.335475591642806E-6,2.3291502476474408E-6,2.3230305947965594E-6,2.3171965698031615E-6,2.311750644420859E-6,2.3068164326864224E-6,2.3025369493352583E-6,2.2990725476893393E-6,2.2965985686785785E-6,2.2953027354039794E-6,2.2953823298075776E-6,2.297041189616665E-6,2.30048656482476E-6,2.3059258736128736E-6,2.3135633978595113E-6,2.323596958294658E-6,2.336214608977563E-6,2.3515913901706407E-6,2.3698861778846024E-6,2.3912386674151747E-6,2.4157665270999245E-6,2.443562757302883E-6,2.474693288279674E-6,2.5091948490697158E-6,2.5470731378760027E-6,2.588301322489201E-6,2.6328188971463345E-6,2.6805309197362076E-6,2.7313076504242437E-6,2.784984609521802E-6,2.8413630687291555E-6,2.9002109857072866E-6,2.9612643872654563E-6,3.024229201289966E-6,3.0887835319049285E-6,3.15458036628988E-6,3.221250695145738E-6,3.2884070220867777E-6,3.3556472303507056E-6,3.4225587682905276E-6,3.488723108287402E-6,3.553720427164196E-6,3.6171344500550765E-6,3.67855739417321E-6,3.7375949441912E-6,3.793871187175378E-6,3.8470334323517346E-6,3.896756839565682E-6,3.942748780243841E-6,3.984752856058906E-6,4.02255250339063E-6,4.05597411608284E-6,4.084889624895678E-6,4.10921847938179E-6,4.128928986573191E-6,4.144038970712498E-6,4.154615729123415E-6,4.160775270984253E-6,4.162680838012493E-6,4.160540718634584E-6,4.154605379835994E-6,4.145163953288283E-6,4.132540124258605E-6,4.117087482957457E-6,4.099184408121859E-6,4.079228561535175E-6,4.057631079650924E-6,4.034810554349004E-6,4.011186898979321E-6,3.98717519815079E-6,3.96317964015708E-6,3.9395876294910905E-6,3.916764173628192E-6,3.8950466332342445E-6,3.874739918297763E-6,3.856112204549762E-6,3.83939123510312E-6,3.824761261724046E-6,3.8123606687677775E-6,3.8022803108093924E-6,3.7945625826246746E-6,3.7892012276731523E-6,3.7861418788484197E-6,3.7852833132222012E-6,3.786479391036325E-6,3.7895416384897146E-6,3.7942424241023E-6,3.8003186697661046E-6,3.807476030140317E-6,3.815393467908656E-6,3.82372814766177E-6,3.832120567834469E-6,3.840199848229355E-6,3.847589090180409E-6,3.853910727313405E-6,3.8587917870828705E-6,3.861868986725714E-6,3.862793591869722E-6,3.861235971655801E-6,3.856889790748489E-6,3.849475785882528E-6,3.838745082479488E-6,3.8244820152184905E-6,3.8065064251080295E-6,3.784675414430714E-6,3.7588845497719146E-6,3.7290685120533268E-6,3.695201200937507E-6,3.657295309022075E-6,3.6154013887855537E-6,3.5696064421761104E-6,3.5200320689581434E-6,3.466832215372728E-6,3.410190569264731E-6,3.3503176515360724E-6,3.28744765657179E-6,3.2218350961400193E-6,3.1537513021920613E-6,3.0834808440029534E-6,3.011317914230234E-6,2.9375627367764996E-6,2.8625180468800526E-6,2.7864856906987644E-6,2.709763387875819E-6,2.632641696270579E-6,2.5554012132970453E-6,2.478310043233834E-6,2.4016215545519716E-6,2.3255724458489304E-6,2.250381133475367E-6,2.176246468487387E-6,2.103346785238779E-6,2.0318392788244766E-6,1.961859703770638E-6,1.8935223819013434E-6,1.8269205032507764E-6,1.762126700276805E-6,1.699193872500884E-6,1.6381562360743266E-6,1.5790305706662545E-6,1.5218176344892015E-6,1.4665037172205162E-6,1.4130623000299135E-6,1.3614557918665315E-6,1.3116373115676245E-6,1.2635524861941796E-6,1.2171412372408699E-6,1.1723395279690086E-6,1.1290810470290086E-6,1.0872988057282626E-6,1.0469266287150634E-6,1.0079005204419984E-6,9.701598924961267E-7,9.336486396917115E-7,8.983160556691312E-7,8.641175815875452E-7,8.31015384297994E-7,7.989787630998705E-7,7.679843867823788E-7,7.380163651027498E-7,7.090661611276237E-7,6.811323529404308E-7,6.542202550775307E-7,6.283414116854586E-7,6.035129747815224E-7,5.797569821451226E-7,5.57099550266566E-7,5.35569998436605E-7,5.151999204796644E-7,4.960222208257754E-7,4.780701315921148E-7,4.613762271180379E-7,4.4597145198214173E-7,4.318841779414616E-7,4.191393044867797E-7,4.0775741681936434E-7,3.9775401403764477E-7,3.891388191908778E-7,3.819151816230142E-7,3.7607958070488507E-7,3.716212386463702E-7,3.685218486014139E-7,3.6675542273584754E-7,3.662882633289879E-7,3.670790583330041E-7,3.6907910112786035E-7,3.7223263249415903E-7,3.764773010929354E-7,3.817447370040124E-7,3.879612311488757E-7,3.9504851172881916E-7,4.029246071657131E-7,4.115047834651866E-7,4.20702542456788E-7,4.304306660313312E-7,4.406022903221209E-7,4.5113199279481005E-7,4.619368744508749E-7,4.729376188415198E-7,4.840595093595252E-7,4.952333863500779E-7,5.063965259775224E-7,5.174934235173578E-7,5.284764648193321E-7,5.393064711085891E-7,5.499531040500148E-7,5.603951200803565E-7,5.706204653889677E-7,5.806262055682128E-7,5.904182868175325E-7,6.00011128622188E-7,6.094270509832042E-7,6.186955424878665E-7,6.278523787146731E-7,6.369386035944754E-7,6.459993893309817E-7,6.550827932496706E-7,6.642384324276365E-7,6.735160990951682E-7,6.829643415360741E-7,6.926290364983945E-7,7.025519799196526E-7,7.127695230408743E-7,7.233112807120702E-7,7.341989378715997E-7,7.454451788180773E-7,7.57052762004064E-7,7.690137606959202E-7,7.813089870059607E-7,7.939076135645766E-7,8.067670035243732E-7,8.198327557472572E-7,8.330389679974225E-7,8.463087168321243E-7,8.595547487350189E-7,8.726803729618552E-7,8.855805426527623E-7,8.981431070935716E-7,9.102502146598443E-7,9.217798430239811E-7,9.326074307116906E-7,9.426075821127738E-7,9.516558166247739E-7,9.59630331766121E-7,9.66413749854507E-7,9.718948182092061E-7,9.759700337923249E-7,9.785451647295228E-7,9.79536643209111E-7,9.788728068012687E-7,9.764949682077565E-7,9.723582967792448E-7,9.664324987472594E-7,9.587022869304514E-7,9.491676346066741E-7,9.378438122081289E-7,9.247612094122744E-7,9.099649489846769E-7,8.935143023045835E-7,8.754819197992309E-7,8.559528924662598E-7,8.350236632219668E-7,8.128008089337244E-7,7.893997156461972E-7,7.649431706730464E-7,7.395598958904987E-7,7.133830467399516E-7,6.86548701138307E-7,6.591943617320107E-7,6.314574937482427E-7,6.03474119137093E-7,5.753774858111217E-7,5.472968286285486E-7,5.193562363916304E-7,4.916736366034181E-7,4.643599071050626E-7,4.375181210622757E-7,4.112429291410903E-7,3.8562008016352554E-7,3.607260791121022E-7,3.366279791014702E-7,3.133833018922333E-7,2.91040079715821E-7,2.6963700963207597E-7,2.4920371036770695E-7,2.2976107059127755E-7,2.1132167686929952E-7,1.938903091121635E-7,1.7746449114606457E-7,1.6203508412066905E-7,1.4758691076059946E-7,1.3409939896707308E-7,1.2154723394686252E-7,1.0990100886019014E-7,9.91278649074863E-8,8.919211278746356E-8,8.00558285267814E-8,7.167941777726089E-8,6.402214377467537E-8,5.7042615230579855E-8,5.069923146517962E-8,4.495058306762572E-8,3.975580727623023E-8,3.50748980939301E-8,3.086897188600804E-8,2.7100489842652822E-8,2.3733439226220324E-8,2.0733475762328128E-8,1.8068029877682847E-8,1.570637974016195E-8,1.3619694224076806E-8,1.1781049012852342E-8,1.0165419070585064E-8,8.749650671672733E-9,7.512416082814552E-9,6.434153853067416E-9,5.4969974940149326E-9,4.6846951317869204E-9,3.982522493437504E-9,2.9639451164043455E-6,3.286544110225123E-6,3.6348094344683457E-6,4.009620004630382E-6,4.411749610962021E-6,4.8418509749595515E-6,5.300440050594191E-6,5.787880821751321E-6,6.3043708553748205E-6,6.849927872978339E-6,7.4243776011452145E-6,8.02734315416399E-6,8.658236188947638E-6,9.316250053911215E-6,1.000035512973949E-5,1.0709296531311113E-5,1.1441594306950602E-5,1.2195546234279675E-5,1.2969233271971854E-5,1.3760527684515463E-5,1.4567103813568154E-5,1.5386451425591754E-5,1.621589152216223E-5,1.705259445761285E-5,1.789360016940766E-5,1.8735840290707844E-5,1.957616188274317E-5,2.041135249747822E-5,2.1238166259187857E-5,2.2053350637294204E-5,2.28536735724046E-5,2.3635950612993914E-5,2.4397071721539186E-5,2.5134027415931904E-5,2.5843933924350452E-5,2.6524057049045567E-5,2.717183445617414E-5,2.7784896134345126E-5,2.8361082793310065E-5,2.8898462005625035E-5,2.9395341927499842E-5,2.98502824698462E-5,3.0262103826158065E-5,3.062989229978734E-5,3.095300340892496E-5,3.095300340892496E-5,3.123106228274483E-5,3.14639613963149E-5,3.165185572470013E-5,3.179515542785938E-5,3.1894516207196966E-5,3.1950827501705285E-5,3.1965198716278495E-5,3.193894369672803E-5,3.1873563685045565E-5,3.1770729004270086E-5,3.163225973466672E-5,3.1460105651556074E-5,3.125632569979935E-5,3.102306728042305E-5,3.076254562098161E-5,3.0477023492875786E-5,3.0168791525926318E-5,2.9840149353082492E-5,2.9493387796377303E-5,2.91307722793919E-5,2.8754527621956304E-5,2.836682434012968E-5,2.7969766539314556E-5,2.7565381451462937E-5,2.7155610629596336E-5,2.674230277526903E-5,2.674230277526903E-5,2.6327208138170795E-5,2.5911974392852503E-5,2.549814386659708E-5,2.508715196575098E-5,2.4680326626270695E-5,2.427888859861258E-5,2.3883952368008506E-5,2.3496527509052176E-5,2.3117520278570808E-5,2.2747735262940997E-5,2.238787691504209E-5,2.2038550841396034E-5,2.1700264730946415E-5,2.1373428852389253E-5,2.1058356085794376E-5,2.075526149510069E-5,2.046426148946598E-5,2.0185372661866715E-5,1.9918510431229345E-5,1.966348764821725E-5,1.9420013353186894E-5,1.91876918964952E-5,1.896602264522127E-5,1.8754400505639914E-5,1.8552117486904877E-5,1.8358365518138336E-5,1.81722407085669E-5,1.7992749208919113E-5,1.7818814792755484E-5,1.7649288229795777E-5,1.74829584709816E-5,1.7318565608543738E-5,1.7154815515503847E-5,1.6990396009736578E-5,1.6823994329928278E-5,1.6654315656474544E-5,1.6480102361478795E-5,1.6300153630337242E-5,1.6113345064509796E-5,1.6113345064509796E-5,1.59186478523221E-5,1.571514708305028E-5,1.5502058779795753E-5,1.527874523907543E-5,1.504472828955441E-5,1.4799700118466538E-5,1.4543531361152318E-5,1.4276276205587561E-5,1.3998174328258596E-5,1.3709649548468034E-5,1.3411305163129494E-5,1.3103916001186922E-5,1.2788417313758088E-5,1.2465890690742014E-5,1.2137547264807924E-5,1.1804708527408445E-5,1.1468785136952603E-5,1.1131254145019563E-5,1.0793635101292705E-5,1.0457465520891885E-5,1.0124276208496503E-5,9.795566931977272E-6,9.47278292445774E-6,9.157292668429883E-6,8.85036737969817E-6,8.553162563755849E-6,8.266701964174015E-6,7.991864163356405E-6,7.72937203235117E-6,7.479785160144573E-6,7.243495325818441E-6,7.020725010904212E-6,6.8115288858672436E-6,6.615798145406745E-6,6.433267513459679E-6,6.263524691528913E-6,6.106021984045916E-6,5.960089802501055E-6,5.824951726348034E-6,5.699740783282859E-6,5.583516604250534E-6,5.475283109073949E-6,5.374006386378702E-6,5.2786324458065384E-6,5.188104540555481E-6,5.101379783166369E-6,5.0174448062563364E-6,4.935330251632528E-6,4.854123904971482E-6,4.772982328132136E-6,4.691140876355578E-6,4.6079220223444654E-6,4.522741942850093E-6,4.435115355363158E-6,4.344658622340907E-6,4.2510911677413805E-6,4.154235275200031E-6,4.054014358785923E-6,3.9504498158015145E-6,3.843656586497157E-6,3.733837557871898E-6,3.6212769579877913E-6,3.5063328935366534E-6,3.38942918689986E-6,3.2710466697919477E-6,3.1517140889570576E-6,3.0319987754890153E-6,2.912497223380114E-6,2.7938257150905284E-6,2.6766111224992135E-6,2.5614820007860757E-6,2.4490600808488384E-6,2.3399522530264308E-6,2.234743121437669E-6,2.133988194404069E-6,2.038207762461631E-6,1.947881501625665E-6,1.8634438260928663E-6,1.7852800016698367E-6,1.7137230191125166E-6,1.64905121542936E-6,1.5914866211982118E-6,1.5411940031981559E-6,1.4982805642549664E-6,1.4627962561987912E-6,1.4347346572556621E-6,1.4140343620245759E-6,1.4005808303786018E-6,1.3942086410887469E-6,1.3947040965910642E-6,1.4018081269640937E-6,1.415219443698539E-6,1.4345978970536662E-6,1.4595679945262206E-6,1.4897225420264282E-6,1.5246263735841713E-6,1.5638201396278537E-6,1.60682412793414E-6,1.6531420951023968E-6,1.70226508974893E-6,1.7536752514535181E-6,1.8068495717611181E-6,1.8612636052092467E-6,1.916395119407714E-6,1.971727673659682E-6,2.0267541155230203E-6,2.0809799841320697E-6,2.1339268081137737E-6,2.1851352846350152E-6,2.2341683246167734E-6,2.2806139475583837E-6,2.3240880078469903E-6,2.3642367329959697E-6,2.400739053068549E-6,2.433308699696208E-6,2.461696052680121E-6,2.4856897122373557E-6,2.505117775574144E-6,2.5198487976706712E-6,2.5297924179612988E-6,2.5348996369882414E-6,2.535162730075259E-6,2.530614788573922E-6,2.521328883226865E-6,2.5074168486054478E-6,2.4890276923376547E-6,2.46634563786159E-6,2.439587814629287E-6,2.4090016149489016E-6,2.3748617418918418E-6,2.3374669778048393E-6,2.297136707855151E-6,2.2542072376012086E-6,2.2090279477242612E-6,2.1619573326856745E-6,2.113358973100227E-6,2.063597493954162E-6,2.013034562370569E-6,1.962024979364266E-6,1.9109129198741784E-6,1.860028374264822E-6,1.809683842415689E-6,1.7601713284498563E-6,1.711759680091568E-6,1.6646923116084526E-6,1.6191853433324022E-6,1.5754261839339777E-6,1.533572574044859E-6,1.4937521016044681E-6,1.4560621905997957E-6,1.4205705558458016E-6,1.3873161073135349E-6,1.356310278468487E-6,1.327538744359701E-6,1.3009634870347319E-6,1.2765251584802306E-6,1.2541456849283493E-6,1.2337310512346144E-6,1.215174200308314E-6,1.1983579804141926E-6,1.1831580726770172E-6,1.169445832374919E-6,1.1570909806188052E-6,1.1459640877448157E-6,1.1359387961000925E-6,1.1268937377294821E-6,1.1187141115703E-6,1.1112928948847705E-6,1.1045316745158633E-6,1.0983410948209847E-6,1.0926409304774159E-6,1.0873598034118284E-6,1.0824345735346137E-6,1.077809442424231E-6,1.0734348173006316E-6,1.0692659892821495E-6,1.065261684818235E-6,1.0613825521696085E-6,1.0575896457705027E-6,1.053842970225485E-6,1.050100142606437E-6,1.0463152267329842E-6,1.0424377864163938E-6,1.0384121964560678E-6,1.0341772407831953E-6,1.0296660168720105E-6,1.0248061547380878E-6,1.0195203478832033E-6,1.0137271827978081E-6,1.007342243453919E-6,1.000279457948059E-6,9.924526463844788E-7,9.83777222475696E-7,9.741719963781326E-7,9.635610231119245E-7,9.518754396078669E-7,9.390552339866756E-7,9.250508930473936E-7,9.098248780027017E-7,8.933528840737004E-7,8.756248464226554E-7,8.566456627983998E-7,8.364356119073731E-7,8.150304555992324E-7,7.924812221606282E-7,7.68853677041704E-7,7.442274959120864E-7,7.186951627982923E-7,6.923606229692947E-7,6.653377260295476E-7,6.377484992132869E-7,6.097212940632394E-7,5.813888514833671E-7,5.528863305893955E-7,5.24349345898512E-7,4.95912055297268E-7,4.677053380359993E-7,4.3985509787880486E-7,4.1248072167099353E-7,3.856937181647938E-7,3.5959655616832945E-7,3.3428171514983804E-7,3.09830955527575E-7,2.863148101798595E-7,2.6379229337372456E-7,2.4231081846556865E-7,2.219063114777443E-7,2.0260350407833904E-7,1.8441638663643758E-7,1.673487999137509E-7,1.513951425817862E-7,1.3654117109474917E-7,1.2276486845509722E-7,1.1003735901759248E-7,9.832384761260373E-8,8.758456284524833E-8,7.77756863536841E-8,6.885025199598501E-8,6.075900129091926E-8,5.345118387861465E-8,4.687529421456142E-8,4.097973809551629E-8,3.571342487957414E-8,3.102628335677269E-8,2.6869701114037156E-8,2.319688889297941E-8,1.996317284539243E-8,1.7126218743184174E-8,1.464619309943908E-8,1.2485866815031606E-8,1.0610667396439565E-8,8.988686015412958E-9,7.590645723511128E-9,6.389837019811567E-9,5.3620267247878945E-9,4.485345763805711E-9,3.7401610352895134E-9,3.108936055136521E-9,2.5760845520103043E-9,2.127820656854615E-9,1.7520088007304318E-9,1.4380159215118868E-9,1.1765680929354706E-9,9.596132372015486E-10,7.801911705558169E-10,6.323118636108129E-10,5.108424762641427E-10,4.114034509654294E-10,3.3027371648426336E-10,2.6430486490184904E-10,2.1084401418443454E-10,1.6766495376572575E-10,1.3290708712772066E-10,1.050216293589198E-10,8.272448504717925E-11,6.49552187414889E-11,5.0841532942299954E-11,3.966868380775276E-11,3.085328949263246E-11,2.3921017633180524E-11,1.8487674688823372E-11,1.4243258746415543E-11,1.0938577419248261E-11,8.374072381232895E-12,6.390530898160938E-12,4.86140173325018E-12,3.686467507965732E-12,2.786657666416333E-12,2.0998154460122956E-12,1.5772586410848545E-12,1.1809974949540027E-12,8.814938740072112E-13,6.558641186870451E-13,4.864438175919505E-13,3.5964641793849173E-13,2.6505928230682983E-13,1.9473074145543624E-13,1.4261008296094089E-13,1.0410945129626843E-13,7.576249838295113E-14,5.495948047540261E-14,3.9742496676752236E-14,2.864783902798086E-14,2.0585090414994385E-14,1.474476574387579E-14,1.0528031115602507E-14,7.493429480144067E-15,5.316652422817281E-15,3.7602791932560106E-15,2.651099880813717E-15,1.8631862186918506E-15,1.305300815241879E-15,9.115681171534843E-16,6.345879412202659E-16,4.403709607636167E-16,3.0462791546342493E-16,2.1006074049811224E-16,1.443923724776679E-16,9.893905964370325E-17,6.757957710076209E-17,4.601371792033823E-17,3.123081703248942E-17,2.1130196211525293E-17,1.4251083244350827E-17,9.581122364844227E-18,6.421094463478647E-18,4.289689851546935E-18,2.8567148318093218E-18,1.8964091728239102E-18,1.2549353883294596E-18,8.278179635591181E-19,5.4434280537237475E-19,3.568077581161353E-19,2.3314185668698347E-19,1.5185544652388486E-19,9.859721677775835E-20,6.381504773789612E-20,4.117235427869496E-20,2.64796636112309E-20,1.697631347245231E-20,1.0849218804465099E-20,6.911585895467241E-21,4.389156950358199E-21,2.7784889351528542E-21,1.7533167903492556E-21,1.1029003418106043E-21,6.915702622626954E-22,4.322753871191082E-22,2.693449677117943E-22,1.6729439185854338E-22,1.0358051319299801E-22,6.39291446067526E-23,3.93318059352787E-23,2.412198488492173E-23,1.4747090771059394E-23,8.987187964461091E-24,5.459658210137357E-24,3.3062161664938064E-24,1.995819188652123E-24,1.200978690225203E-24,7.203997744838174E-25,4.307606205201608E-25,2.567571690498813E-25,1.5255741537245934E-25,9.035833608362216E-26,5.334912325462922E-26,3.139861612080019E-26,1.842119868440745E-26,1.077331665954395E-26,6.280657670641369E-27,3.6499337284608204E-27,2.1144089791201184E-27,1.2210042305351E-27,7.028610903519177E-28,4.0331650402152467E-28,2.3069949566240735E-28,1.315441245815678E-28,7.47688023244411E-29,4.2363667608503367E-29,2.392714263899288E-29,1.3471386123281963E-29,7.560628322803257E-30,4.229876158437374E-30,2.3589654208730828E-30,1.311413518217104E-30,7.267447387010976E-31,4.01465560513666E-31,2.210746028929334E-31,1.2135385321457542E-31,6.64037256269633E-32,3.6220586742804973E-32,1.9694396399211693E-32,1.0674659419963993E-32,5.7675257087341934E-33,3.106341576519718E-33,1.6677580239510043E-33,8.925674130801951E-34,4.7618221867178255E-34,2.5323835295552598E-34,1.3424865557851333E-34,7.094381991989624E-35,3.737174284509375E-35,4.612637611269896E-8,5.051618155534868E-8,5.5265033102299093E-8,6.039633375738622E-8,6.59344627180191E-8,7.190476962030047E-8,7.833356443789259E-8,8.524810285220595E-8,9.267656693866494E-8,1.0064804104485326E-7,1.091924827712378E-7,1.1834068900389079E-7,1.281242569910406E-7,1.3857554050127358E-7,1.497276011505493E-7,1.616141550376398E-7,1.7426951488284033E-7,1.8772852792246293E-7,2.0202650987127697E-7,2.1719917532623676E-7,2.3328256504698123E-7,2.5031297061114216E-7,2.6832685700478187E-7,2.8736078376965647E-7,3.074513253887067E-7,3.286349916484846E-7,3.50948148771314E-7,3.7442694216006643E-7,3.9910722164366654E-7,4.250244701509974E-7,4.5221373677389504E-7,4.807095752056214E-7,5.105459885587155E-7,5.417563815747165E-7,5.74373521237153E-7,6.084295067877205E-7,6.439557501230701E-7,6.809829675155574E-7,7.195411835551288E-7,7.596597481508949E-7,8.013673673594694E-7,8.44692148722729E-7,8.896616617000862E-7,9.363030136697982E-7,9.846429418502765E-7,1.034707921356277E-6,1.0865242894565067E-6,1.1401183859392536E-6,1.1955167093218325E-6,1.2527460884587566E-6,1.3118338689137073E-6,1.3728081132626252E-6,1.4356978142910494E-6,1.5005331198394667E-6,1.5673455678377196E-6,1.6361683298549477E-6,1.7070364612772283E-6,1.7799871560127937E-6,1.855060003416657E-6,1.932297244924936E-6,2.011744027696082E-6,2.0934486523744754E-6,2.177462811923247E-6,2.263841818320669E-6,2.3526448137801114E-6,2.4439349630400637E-6,2.537779623180377E-6,2.6342504873560054E-6,2.7334236988025414E-6,2.835379931460874E-6,2.9402044335930854E-6,3.047987030820838E-6,3.158822085111774E-6,3.272808406370943E-6,3.3900491134641604E-6,3.5106514417089234E-6,3.634726494117221E-6,3.762388933963487E-6,3.893756616579444E-6,4.028950158645927E-6,4.168092443658728E-6,4.311308062689429E-6,4.458722690042228E-6,4.6104623939205524E-6,4.766652882761225E-6,4.927418688465187E-6,5.092882288348891E-6,5.2631631682558345E-6,5.438376829897891E-6,5.618633746137329E-6,5.8040382685662485E-6,5.994687492385809E-6,6.19067008422672E-6,6.392065079178308E-6,6.598940653900752E-6,6.811352883275416E-6,7.029344488596652E-6,7.252943585816478E-6,7.4821624428158605E-6,7.716996255084897E-6,7.957421949543861E-6,8.203397026520424E-6,8.45485845011049E-6,8.711721597284772E-6,8.973879276156627E-6,9.241200823792956E-6,9.513531293827301E-6,9.790690743918414E-6,1.0072473632786887E-5,1.0358648336156474E-5,1.064895679042363E-5,1.094311427228118E-5,1.1240809321830167E-5,1.1541703815931137E-5,1.1845433197676406E-5,1.215160686691226E-5,1.2459808735711467E-5,1.2769597951597468E-5,1.3080509790161044E-5,1.3392056717496127E-5,1.370372962162325E-5,1.401499921077718E-5,1.4325317575120638E-5,1.4634119907119728E-5,1.4940826374490576E-5,1.5244844138313459E-5,1.554556950762184E-5,1.5842390220522956E-5,1.61346878407044E-5,1.6421840257041542E-5,1.670322427295486E-5,1.6978218271184044E-5,1.724620493876083E-5,1.7506574036182068E-5,1.7758725194119025E-5,1.8002070720456206E-5,1.8236038400039722E-5,1.8460074269238416E-5,1.8673645347282617E-5,1.8876242306352314E-5,1.8876242306352314E-5,1.9067382062537327E-5,1.9246610270089043E-5,1.941350370182502E-5,1.9567672499131985E-5,1.9708762275734662E-5,1.98364560602542E-5,1.9950476063562527E-5,2.0050585258040178E-5,2.0136588757057306E-5,2.020833498430867E-5,2.026571662403441E-5,2.030867134463542E-5,2.0337182289734216E-5,2.0351278332325177E-5,2.0351034089287896E-5,2.033656969519125E-5,2.0308050335978356E-5,2.0265685544780086E-5,2.0209728263743238E-5,2.0140473677364958E-5,2.005825782438404E-5,1.9963455996779712E-5,1.985648093585717E-5,1.97377808367454E-5,1.960783717388567E-5,1.946716236123963E-5,1.931629726198596E-5,1.9155808563395758E-5,1.898628603337464E-5,1.8808339675828192E-5,1.8622596802542914E-5,1.842969903967657E-5,1.823029928721658E-5,1.8025058649894597E-5,1.7814643358040025E-5,1.7599721696717987E-5,1.7380960961231E-5,1.7159024456673533E-5,1.693456855871985E-5,1.693456855871985E-5,1.6708239852203948E-5,1.6480672363324188E-5,1.625248490048018E-5,1.6024278517836538E-5,1.579663411471287E-5,1.557011018283385E-5,1.534524071234456E-5,1.5122533266315776E-5,1.4902467232239425E-5,1.4685492257757464E-5,1.4472026876586468E-5,1.4262457329304074E-5,1.4057136582363811E-5,1.3856383547407236E-5,1.3660482501658292E-5,1.346968270892109E-5,1.328419823946704E-5,1.3104207985897746E-5,1.2929855870913865E-5,1.2761251241812479E-5,1.2598469445483553E-5,1.244155257668446E-5,1.2290510391445454E-5,1.2145321376602822E-5,1.2005933965674084E-5,1.1872267890584183E-5,1.1744215658126692E-5,1.1621644139500691E-5,1.1504396260805705E-5,1.1392292782003735E-5,1.1285134151570784E-5,1.1182702423860668E-5,1.1084763226090757E-5,1.099106776183259E-5,1.09013548379487E-5,1.0815352902059448E-5,1.0732782077846935E-5,1.0653356185806968E-5,1.0576784737439062E-5,1.0502774891317242E-5,1.0431033360006266E-5,1.0361268257374355E-5,1.0293190876500564E-5,1.022651738907682E-5,1.0160970457956314E-5,1.0096280755294917E-5,1.0032188379565258E-5,9.968444165586233E-6,9.90481088259875E-6,9.841064316322675E-6,9.776994231844822E-6,9.712405215104506E-6,9.647117391655522E-6,9.580967022283218E-6,9.513806975935992E-6,9.445507081284374E-6,9.375954359041607E-6,9.305053137960083E-6,9.232725058152653E-6,9.158908966070397E-6,9.083560706094078E-6,9.006652814260475E-6,8.928174120143213E-6,8.848129263337155E-6,8.766538131353718E-6,8.766538131353718E-6,8.683435226019481E-6,8.598868965681727E-6,8.512900930661496E-6,8.425605059458704E-6,8.337066803205925E-6,8.247382245790187E-6,8.15665719691895E-6,8.065006265200842E-6,7.97255191804867E-6,7.879423534896833E-6,7.78575645986326E-6,7.691691059583726E-6,7.59737179151058E-6,7.5029462875053336E-6,7.408564457072367E-6,7.314377614086708E-6,7.220537630369054E-6,7.127196118963721E-6,7.034503649486199E-6,6.9426089974334816E-6,6.851658428898099E-6,6.761795021701635E-6,6.673158023570259E-6,6.585882247617852E-6,6.500097505085381E-6,6.415928075010887E-6,6.333492210275108E-6,6.252901679284228E-6,6.174261342414373E-6,6.097668762251298E-6,6.023213846612318E-6,5.950978523333773E-6,5.881036445843277E-6,5.813452728608539E-6,5.748283711659059E-6,5.685576753509587E-6,5.625370051969131E-6,5.567692492491587E-6,5.512563523907941E-6,5.459993061569468E-6,5.409981418121005E-6,5.362519262306779E-6,5.317587606383504E-6,5.275157822870491E-6,5.2351916914998755E-6,5.197641477336736E-6,5.162450041115206E-6,5.12955098287891E-6,5.098868820019689E-6,5.070319200775276E-6,5.043809154173248E-6,5.019237377294539E-6,4.996494560575324E-6,4.9754637516721185E-6,4.956020758183396E-6,4.938034589254248E-6,4.9213679357918795E-6,4.905877688692892E-6,4.891415494132769E-6,4.8778283445985385E-6,4.864959203962934E-6,4.852647664507591E-6,4.840730633410574E-6,4.829043045825181E-6,4.8174186012991575E-6,4.8056905199219196E-6,4.793692314248239E-6,4.781258572735548E-6,4.768225750154218E-6,4.754432960190374E-6,4.739722765263779E-6,4.7239419584327345E-6,4.706942332156972E-6,4.688581428640887E-6,4.668723266484749E-6,4.647239038432059E-6,4.624007775117043E-6,4.5989169698872265E-6,4.571863160000663E-6,4.542752459773909E-6,4.511501041582521E-6,4.478035560987445E-6,4.4422935226742E-6,4.404223584342759E-6,4.363785796169564E-6,4.320951773973729E-6,4.2757048047515415E-6,4.22803988379084E-6,4.17796368313357E-6,4.125494451714674E-6,4.070661848062025E-6,4.01350670698957E-6,3.95408074224776E-6,3.892446187606495E-6,3.828675379330477E-6,3.76285028346002E-6,3.6950619717277625E-6,3.6254100503187795E-6,3.5540020460153446E-6,3.4809527545546026E-6,3.406383556265647E-6,3.3304217042400744E-6,3.253199590426051E-6,3.1748539951196137E-6,3.095525325358717E-6,3.01535684770606E-6,2.934493920837303E-6,2.8530832332339347E-6,2.77127205111698E-6,2.68920748155199E-6,2.6070357554104234E-6,2.5249015345913163E-6,2.4429472475940444E-6,2.3613124571919384E-6,2.2801332635921633E-6,2.1995417460838485E-6,2.1196654457786064E-6,2.040626891639837E-6,1.962543171584017E-6,1.8855255500229585E-6,1.8096791328049531E-6,1.7351025801089227E-6,1.6618878674528038E-6,1.5901200945991065E-6,1.5198773417799042E-6,1.4512305723234752E-6,1.384243580447823E-6,1.3189729826945067E-6,1.2554682512114688E-6,1.1937717868571258E-6,1.1339190298909346E-6,1.075938605838648E-6,1.0198525039736876E-6,9.656762857394915E-7,9.13419320350905E-7,8.630850447549095E-7,8.146712451013024E-7,7.681703568709873E-7,7.235697808319253E-7,6.808522120387292E-7,6.39995979159594E-7,6.009753915016693E-7,5.637610912110657E-7,5.283204082441606E-7,4.946177158406403E-7,4.6261478437340524E-7,4.322711316039289E-7,4.035443675316433E-7,3.7639053219032075E-7,3.507644249111306E-7,3.2661992373912517E-7,3.0391029385549695E-7,2.825884840203148E-7,2.626074102080184E-7,2.4392022575928743E-7,2.2648057751673915E-7,2.1024284754712567E-7,1.9516238017836114E-7,1.8119569419503617E-7,1.6830068014044724E-7,1.5643678276616112E-7,1.455651687514343E-7,1.3564887988431276E-7,1.266529719539459E-7,1.1854463964973055E-7,1.1129332779765014E-7,1.0487082928799908E-7,9.925137006212571E-8,9.441168152951139E-8,9.033106078117137E-8,8.699141895181382E-8,8.437731806232289E-8,8.247599664687815E-8,8.127738443638972E-8,8.077410633294844E-8,8.096147586973484E-8,8.183747830838235E-8,8.340274348224646E-8,8.566050845048451E-8,8.861656998538391E-8,9.227922687504948E-8,9.665921198640484E-8,1.017696140004688E-7,1.0762578870397521E-7,1.1424525969949728E-7,1.2164760838113064E-7,1.2985435301522383E-7,1.388888167662769E-7,1.4877598451752152E-7,1.5954234835432148E-7,1.712157416067425E-7,1.838251613856908E-7,1.9740057959503492E-7,2.1197274246011484E-7,2.2757295868088185E-7,2.4423287639534857E-7,2.6198424922568026E-7,2.8085869177459157E-7,3.0088742504308255E-7,3.2210101235115114E-7,3.445290864600366E-7,3.682000687167265E-7,3.931408811677202E-7,4.1937665271809713E-7,4.46930420542388E-7,4.758228280840946E-7,5.060718211093844E-7,5.376923434058206E-7,5.706960338373146E-7,6.050909265800303E-7,6.408811564689745E-7,6.780666714797319E-7,7.16642954452483E-7,7.566007562343908E-7,7.979258424700299E-7,8.405987563061965E-7,8.845945992957814E-7,9.298828327840464E-7,9.76427102038579E-7,1.024185085340238E-6,1.0731083701861493E-6,1.1231423586661955E-6,1.1742262039616464E-6,1.2262927797782077E-6,1.2792686843661494E-6,1.333074280597747E-6,1.3876237733677762E-6,1.4428253253572586E-6,1.4985812119553992E-6,1.554788015871237E-6,1.611336861686829E-6,1.668113690309926E-6,1.7249995729784153E-6,1.781871064153927E-6,1.8386005923206726E-6,1.8950568873808466E-6,1.951105443012806E-6,2.0066090120360655E-6,2.06142813251119E-6,2.115421681996261E-6,2.1684474570881706E-6,2.220362775099842E-6,2.271025094466804E-6,2.32029265024162E-6,2.3680251008252625E-6,2.41408418190362E-6,2.4583343634072713E-6,2.5006435051958255E-6,2.5408835070864335E-6,2.57893094880105E-6,2.6146677154000575E-6,2.6479816038015796E-6,2.6787669060568792E-6,2.706924965162463E-6,2.7323646993385826E-6,2.755003090890894E-6,2.7747656359957042E-6,2.791586752007964E-6,2.805410139182645E-6,2.8161890940220655E-6,2.8238867718110655E-6,2.8284763962755932E-6,2.8299414146947223E-6,2.8282755972076056E-6,2.823483079481484E-6,2.815578348340415E-6,2.80458617039264E-6,2.790541464133235E-6],\n",
       "\"..quantile..\":[0.25,0.25,0.25,0.25,0.25,0.25,0.25,0.25,0.25,0.25,0.25,0.25,0.25,0.25,0.25,0.25,0.25,0.25,0.25,0.25,0.25,0.25,0.25,0.25,0.25,0.25,0.25,0.25,0.25,0.25,0.25,0.25,0.25,0.25,0.25,0.25,0.25,0.25,0.5,0.5,0.5,0.5,0.5,0.5,0.5,0.5,0.5,0.5,0.5,0.5,0.5,0.5,0.5,0.5,0.5,0.5,0.5,0.5,0.5,0.5,0.5,0.5,0.5,0.75,0.75,0.75,0.75,0.75,0.75,0.75,0.75,0.75,0.75,0.75,0.75,0.75,0.75,0.75,0.75,0.75,0.75,0.75,0.75,0.75,0.75,0.75,0.75,0.75,0.75,0.75,0.75,0.75,0.75,0.75,0.75,0.75,0.75,0.75,0.75,1.0,1.0,1.0,1.0,1.0,1.0,1.0,1.0,1.0,1.0,1.0,1.0,1.0,1.0,1.0,1.0,1.0,1.0,1.0,1.0,1.0,1.0,1.0,1.0,1.0,1.0,1.0,1.0,1.0,1.0,1.0,1.0,1.0,1.0,1.0,1.0,1.0,1.0,1.0,1.0,1.0,1.0,1.0,1.0,1.0,1.0,1.0,1.0,1.0,1.0,1.0,1.0,1.0,1.0,1.0,1.0,1.0,1.0,1.0,1.0,1.0,1.0,1.0,1.0,1.0,1.0,1.0,1.0,1.0,1.0,1.0,1.0,1.0,1.0,1.0,1.0,1.0,1.0,1.0,1.0,1.0,1.0,1.0,1.0,1.0,1.0,1.0,1.0,1.0,1.0,1.0,1.0,1.0,1.0,1.0,1.0,1.0,1.0,1.0,1.0,1.0,1.0,1.0,1.0,1.0,1.0,1.0,1.0,1.0,1.0,1.0,1.0,1.0,1.0,1.0,1.0,1.0,1.0,1.0,1.0,1.0,1.0,1.0,1.0,1.0,1.0,1.0,1.0,1.0,1.0,1.0,1.0,1.0,1.0,1.0,1.0,1.0,1.0,1.0,1.0,1.0,1.0,1.0,1.0,1.0,1.0,1.0,1.0,1.0,1.0,1.0,1.0,1.0,1.0,1.0,1.0,1.0,1.0,1.0,1.0,1.0,1.0,1.0,1.0,1.0,1.0,1.0,1.0,1.0,1.0,1.0,1.0,1.0,1.0,1.0,1.0,1.0,1.0,1.0,1.0,1.0,1.0,1.0,1.0,1.0,1.0,1.0,1.0,1.0,1.0,1.0,1.0,1.0,1.0,1.0,1.0,1.0,1.0,1.0,1.0,1.0,1.0,1.0,1.0,1.0,1.0,1.0,1.0,1.0,1.0,1.0,1.0,1.0,1.0,1.0,1.0,1.0,1.0,1.0,1.0,1.0,1.0,1.0,1.0,1.0,1.0,1.0,1.0,1.0,1.0,1.0,1.0,1.0,1.0,1.0,1.0,1.0,1.0,1.0,1.0,1.0,1.0,1.0,1.0,1.0,1.0,1.0,1.0,1.0,1.0,1.0,1.0,1.0,1.0,1.0,1.0,1.0,1.0,1.0,1.0,1.0,1.0,1.0,1.0,1.0,1.0,1.0,1.0,1.0,1.0,1.0,1.0,1.0,1.0,1.0,1.0,1.0,1.0,1.0,1.0,1.0,1.0,1.0,1.0,1.0,1.0,1.0,1.0,1.0,1.0,1.0,1.0,1.0,1.0,1.0,1.0,1.0,1.0,1.0,1.0,1.0,1.0,1.0,1.0,1.0,1.0,1.0,1.0,1.0,1.0,1.0,1.0,1.0,1.0,1.0,1.0,1.0,1.0,1.0,1.0,1.0,1.0,1.0,1.0,1.0,1.0,1.0,1.0,1.0,1.0,1.0,1.0,1.0,1.0,1.0,1.0,1.0,1.0,1.0,1.0,1.0,1.0,1.0,1.0,1.0,1.0,1.0,1.0,1.0,1.0,1.0,1.0,1.0,1.0,1.0,1.0,1.0,1.0,1.0,1.0,1.0,1.0,1.0,1.0,1.0,1.0,1.0,1.0,1.0,1.0,1.0,1.0,1.0,1.0,1.0,1.0,1.0,1.0,1.0,1.0,1.0,1.0,1.0,1.0,1.0,1.0,1.0,1.0,1.0,1.0,1.0,1.0,1.0,1.0,1.0,1.0,1.0,1.0,1.0,1.0,1.0,1.0,1.0,1.0,1.0,1.0,1.0,1.0,1.0,1.0,1.0,1.0,1.0,1.0,1.0,1.0,0.25,0.25,0.25,0.25,0.25,0.25,0.25,0.25,0.25,0.25,0.25,0.25,0.25,0.25,0.25,0.25,0.25,0.25,0.25,0.25,0.25,0.25,0.25,0.25,0.25,0.25,0.25,0.25,0.25,0.25,0.25,0.25,0.25,0.25,0.5,0.5,0.5,0.5,0.5,0.5,0.5,0.5,0.5,0.5,0.5,0.5,0.5,0.5,0.5,0.5,0.5,0.5,0.5,0.75,0.75,0.75,0.75,0.75,0.75,0.75,0.75,0.75,0.75,0.75,0.75,0.75,0.75,0.75,0.75,0.75,0.75,0.75,0.75,1.0,1.0,1.0,1.0,1.0,1.0,1.0,1.0,1.0,1.0,1.0,1.0,1.0,1.0,1.0,1.0,1.0,1.0,1.0,1.0,1.0,1.0,1.0,1.0,1.0,1.0,1.0,1.0,1.0,1.0,1.0,1.0,1.0,1.0,1.0,1.0,1.0,1.0,1.0,1.0,1.0,1.0,1.0,1.0,1.0,1.0,1.0,1.0,1.0,1.0,1.0,1.0,1.0,1.0,1.0,1.0,1.0,1.0,1.0,1.0,1.0,1.0,1.0,1.0,1.0,1.0,1.0,1.0,1.0,1.0,1.0,1.0,1.0,1.0,1.0,1.0,1.0,1.0,1.0,1.0,1.0,1.0,1.0,1.0,1.0,1.0,1.0,1.0,1.0,1.0,1.0,1.0,1.0,1.0,1.0,1.0,1.0,1.0,1.0,1.0,1.0,1.0,1.0,1.0,1.0,1.0,1.0,1.0,1.0,1.0,1.0,1.0,1.0,1.0,1.0,1.0,1.0,1.0,1.0,1.0,1.0,1.0,1.0,1.0,1.0,1.0,1.0,1.0,1.0,1.0,1.0,1.0,1.0,1.0,1.0,1.0,1.0,1.0,1.0,1.0,1.0,1.0,1.0,1.0,1.0,1.0,1.0,1.0,1.0,1.0,1.0,1.0,1.0,1.0,1.0,1.0,1.0,1.0,1.0,1.0,1.0,1.0,1.0,1.0,1.0,1.0,1.0,1.0,1.0,1.0,1.0,1.0,1.0,1.0,1.0,1.0,1.0,1.0,1.0,1.0,1.0,1.0,1.0,1.0,1.0,1.0,1.0,1.0,1.0,1.0,1.0,1.0,1.0,1.0,1.0,1.0,1.0,1.0,1.0,1.0,1.0,1.0,1.0,1.0,1.0,1.0,1.0,1.0,1.0,1.0,1.0,1.0,1.0,1.0,1.0,1.0,1.0,1.0,1.0,1.0,1.0,1.0,1.0,1.0,1.0,1.0,1.0,1.0,1.0,1.0,1.0,1.0,1.0,1.0,1.0,1.0,1.0,1.0,1.0,1.0,1.0,1.0,1.0,1.0,1.0,1.0,1.0,1.0,1.0,1.0,1.0,1.0,1.0,1.0,1.0,1.0,1.0,1.0,1.0,1.0,1.0,1.0,1.0,1.0,1.0,1.0,1.0,1.0,1.0,1.0,1.0,1.0,1.0,1.0,1.0,1.0,1.0,1.0,1.0,1.0,1.0,1.0,1.0,1.0,1.0,1.0,1.0,1.0,1.0,1.0,1.0,1.0,1.0,1.0,1.0,1.0,1.0,1.0,1.0,1.0,1.0,1.0,1.0,1.0,1.0,1.0,1.0,1.0,1.0,1.0,1.0,1.0,1.0,1.0,1.0,1.0,1.0,1.0,1.0,1.0,1.0,1.0,1.0,1.0,1.0,1.0,1.0,1.0,1.0,1.0,1.0,1.0,1.0,1.0,1.0,1.0,1.0,1.0,1.0,1.0,1.0,1.0,1.0,1.0,1.0,1.0,1.0,1.0,1.0,1.0,1.0,1.0,1.0,1.0,1.0,1.0,1.0,1.0,1.0,1.0,1.0,1.0,1.0,1.0,1.0,1.0,1.0,1.0,1.0,1.0,1.0,1.0,1.0,1.0,1.0,1.0,1.0,1.0,1.0,1.0,1.0,1.0,1.0,1.0,1.0,1.0,1.0,1.0,1.0,1.0,1.0,1.0,1.0,1.0,1.0,1.0,1.0,1.0,1.0,1.0,1.0,1.0,1.0,1.0,1.0,1.0,1.0,1.0,1.0,1.0,1.0,1.0,1.0,1.0,1.0,1.0,1.0,1.0,1.0,1.0,1.0,1.0,1.0,1.0,1.0,1.0,1.0,1.0,1.0,1.0,1.0,1.0,1.0,1.0,1.0,1.0,1.0,1.0,1.0,1.0,1.0,1.0,0.25,0.25,0.25,0.25,0.25,0.25,0.25,0.25,0.25,0.25,0.25,0.25,0.25,0.25,0.25,0.25,0.25,0.25,0.25,0.25,0.25,0.25,0.25,0.25,0.25,0.25,0.25,0.25,0.25,0.25,0.25,0.25,0.25,0.25,0.25,0.25,0.25,0.5,0.5,0.5,0.5,0.5,0.5,0.5,0.5,0.5,0.5,0.5,0.5,0.5,0.5,0.5,0.5,0.5,0.5,0.5,0.5,0.5,0.5,0.5,0.5,0.5,0.5,0.5,0.5,0.5,0.75,0.75,0.75,0.75,0.75,0.75,0.75,0.75,0.75,0.75,0.75,0.75,0.75,0.75,0.75,0.75,0.75,0.75,0.75,0.75,0.75,0.75,0.75,0.75,0.75,0.75,0.75,0.75,0.75,0.75,0.75,0.75,0.75,0.75,0.75,0.75,0.75,0.75,0.75,0.75,0.75,0.75,0.75,0.75,0.75,0.75,0.75,0.75,0.75,0.75,0.75,0.75,0.75,0.75,0.75,0.75,0.75,0.75,0.75,0.75,0.75,0.75,0.75,0.75,0.75,0.75,1.0,1.0,1.0,1.0,1.0,1.0,1.0,1.0,1.0,1.0,1.0,1.0,1.0,1.0,1.0,1.0,1.0,1.0,1.0,1.0,1.0,1.0,1.0,1.0,1.0,1.0,1.0,1.0,1.0,1.0,1.0,1.0,1.0,1.0,1.0,1.0,1.0,1.0,1.0,1.0,1.0,1.0,1.0,1.0,1.0,1.0,1.0,1.0,1.0,1.0,1.0,1.0,1.0,1.0,1.0,1.0,1.0,1.0,1.0,1.0,1.0,1.0,1.0,1.0,1.0,1.0,1.0,1.0,1.0,1.0,1.0,1.0,1.0,1.0,1.0,1.0,1.0,1.0,1.0,1.0,1.0,1.0,1.0,1.0,1.0,1.0,1.0,1.0,1.0,1.0,1.0,1.0,1.0,1.0,1.0,1.0,1.0,1.0,1.0,1.0,1.0,1.0,1.0,1.0,1.0,1.0,1.0,1.0,1.0,1.0,1.0,1.0,1.0,1.0,1.0,1.0,1.0,1.0,1.0,1.0,1.0,1.0,1.0,1.0,1.0,1.0,1.0,1.0,1.0,1.0,1.0,1.0,1.0,1.0,1.0,1.0,1.0,1.0,1.0,1.0,1.0,1.0,1.0,1.0,1.0,1.0,1.0,1.0,1.0,1.0,1.0,1.0,1.0,1.0,1.0,1.0,1.0,1.0,1.0,1.0,1.0,1.0,1.0,1.0,1.0,1.0,1.0,1.0,1.0,1.0,1.0,1.0,1.0,1.0,1.0,1.0,1.0,1.0,1.0,1.0,1.0,1.0,1.0,1.0,1.0,1.0,1.0,1.0,1.0,1.0,1.0,1.0,1.0,1.0,1.0,1.0,1.0,1.0,1.0,1.0,1.0,1.0,1.0,1.0,1.0,1.0,1.0,1.0,1.0,1.0,1.0,1.0,1.0,1.0,1.0,1.0,1.0,1.0,1.0,1.0,1.0,1.0,1.0,1.0,1.0,1.0,1.0,1.0,1.0,1.0,1.0,1.0,1.0,1.0,1.0,1.0,1.0,1.0,1.0,1.0,1.0,1.0,1.0,1.0,1.0,1.0,1.0,1.0,1.0,1.0,1.0,1.0,1.0,1.0,1.0,1.0,1.0,1.0,1.0,1.0,1.0,1.0,1.0,1.0,1.0,1.0,1.0,1.0,1.0,1.0,1.0,1.0,1.0,1.0,1.0,1.0,1.0,1.0,1.0,1.0,1.0,1.0,1.0,1.0,1.0,1.0,1.0,1.0,1.0,1.0,1.0,1.0,1.0,1.0,1.0,1.0,1.0,1.0,1.0,1.0,1.0,1.0,1.0,1.0,1.0,1.0,1.0,1.0,1.0,1.0,1.0,1.0,1.0,1.0,1.0,1.0,1.0,1.0,1.0,1.0,1.0,1.0,1.0,1.0,1.0,1.0,1.0,1.0,1.0,1.0,1.0,1.0,1.0,1.0,1.0,1.0,1.0,1.0,1.0,1.0,1.0,1.0,1.0,1.0,1.0,1.0,1.0,1.0,1.0,1.0,1.0,1.0,1.0,1.0,1.0,1.0,1.0,1.0,1.0,1.0,1.0,1.0,1.0,1.0,1.0,1.0,1.0,1.0,1.0,1.0,1.0,1.0,1.0,1.0,1.0,1.0,1.0,1.0,1.0,1.0,1.0,1.0,1.0,0.25,0.25,0.25,0.25,0.25,0.25,0.25,0.25,0.25,0.25,0.25,0.25,0.25,0.25,0.25,0.25,0.25,0.25,0.25,0.25,0.25,0.25,0.25,0.25,0.25,0.25,0.25,0.25,0.25,0.25,0.25,0.25,0.25,0.25,0.25,0.25,0.25,0.25,0.25,0.25,0.25,0.25,0.25,0.25,0.25,0.5,0.5,0.5,0.5,0.5,0.5,0.5,0.5,0.5,0.5,0.5,0.5,0.5,0.5,0.5,0.5,0.5,0.5,0.5,0.5,0.5,0.5,0.5,0.5,0.5,0.5,0.5,0.75,0.75,0.75,0.75,0.75,0.75,0.75,0.75,0.75,0.75,0.75,0.75,0.75,0.75,0.75,0.75,0.75,0.75,0.75,0.75,0.75,0.75,0.75,0.75,0.75,0.75,0.75,0.75,0.75,0.75,0.75,0.75,0.75,0.75,0.75,0.75,0.75,0.75,0.75,0.75,1.0,1.0,1.0,1.0,1.0,1.0,1.0,1.0,1.0,1.0,1.0,1.0,1.0,1.0,1.0,1.0,1.0,1.0,1.0,1.0,1.0,1.0,1.0,1.0,1.0,1.0,1.0,1.0,1.0,1.0,1.0,1.0,1.0,1.0,1.0,1.0,1.0,1.0,1.0,1.0,1.0,1.0,1.0,1.0,1.0,1.0,1.0,1.0,1.0,1.0,1.0,1.0,1.0,1.0,1.0,1.0,1.0,1.0,1.0,1.0,1.0,1.0,1.0,1.0,1.0,1.0,1.0,1.0,1.0,1.0,1.0,1.0,1.0,1.0,1.0,1.0,1.0,1.0,1.0,1.0,1.0,1.0,1.0,1.0,1.0,1.0,1.0,1.0,1.0,1.0,1.0,1.0,1.0,1.0,1.0,1.0,1.0,1.0,1.0,1.0,1.0,1.0,1.0,1.0,1.0,1.0,1.0,1.0,1.0,1.0,1.0,1.0,1.0,1.0,1.0,1.0,1.0,1.0,1.0,1.0,1.0,1.0,1.0,1.0,1.0,1.0,1.0,1.0,1.0,1.0,1.0,1.0,1.0,1.0,1.0,1.0,1.0,1.0,1.0,1.0,1.0,1.0,1.0,1.0,1.0,1.0,1.0,1.0,1.0,1.0,1.0,1.0,1.0,1.0,1.0,1.0,1.0,1.0,1.0,1.0,1.0,1.0,1.0,1.0,1.0,1.0,1.0,1.0,1.0,1.0,1.0,1.0,1.0,1.0,1.0,1.0,1.0,1.0,1.0,1.0,1.0,1.0,1.0,1.0,1.0,1.0,1.0,1.0,1.0,1.0,1.0,1.0,1.0,1.0,1.0,1.0,1.0,1.0,1.0,1.0,1.0,1.0,1.0,1.0,1.0,1.0,1.0,1.0,1.0,1.0,1.0,1.0,1.0,1.0,1.0,1.0,1.0,1.0,1.0,1.0,1.0,1.0,1.0,1.0,1.0,1.0,1.0,1.0,1.0,1.0,1.0,1.0,1.0,1.0,1.0,1.0,1.0,1.0,1.0,1.0,1.0,1.0,1.0,1.0,1.0,1.0,1.0,1.0,1.0,1.0,1.0,1.0,1.0,1.0,1.0,1.0,1.0,1.0,1.0,1.0,1.0,1.0,1.0,1.0,1.0,1.0,1.0,1.0,1.0,1.0,1.0,1.0,1.0,1.0,1.0,1.0,1.0,1.0,1.0,1.0,1.0,1.0,1.0,1.0,1.0,1.0,1.0,1.0,1.0,1.0,1.0,1.0,1.0,1.0,1.0,1.0,1.0,1.0,1.0,1.0,1.0,1.0,1.0,1.0,1.0,1.0,1.0,1.0,1.0,1.0,1.0,1.0,1.0,1.0,1.0,1.0,1.0,1.0,1.0,1.0,1.0,1.0,1.0,1.0,1.0,1.0,1.0,1.0,1.0,1.0,1.0,1.0,1.0,1.0,1.0,1.0,1.0,1.0,1.0,1.0,1.0,1.0,1.0,1.0,1.0,1.0,1.0,1.0,1.0,1.0,1.0,1.0,1.0,1.0,1.0,1.0,1.0,1.0,1.0,1.0,1.0,1.0,1.0,1.0,1.0,1.0,1.0,1.0,1.0,1.0,1.0,1.0,1.0,1.0,1.0,1.0,1.0,1.0,1.0,1.0,1.0,1.0,1.0,1.0,1.0,1.0,1.0,1.0,1.0,1.0,1.0,1.0,1.0,1.0,1.0,1.0,1.0,1.0,1.0,1.0,1.0,1.0,1.0,0.25,0.25,0.25,0.25,0.25,0.25,0.25,0.25,0.25,0.25,0.25,0.25,0.25,0.25,0.25,0.25,0.25,0.25,0.25,0.25,0.25,0.25,0.25,0.25,0.25,0.25,0.25,0.25,0.25,0.25,0.25,0.25,0.25,0.25,0.25,0.25,0.25,0.25,0.25,0.25,0.25,0.25,0.25,0.25,0.25,0.25,0.25,0.25,0.25,0.25,0.25,0.25,0.25,0.25,0.25,0.25,0.25,0.25,0.25,0.25,0.25,0.25,0.25,0.25,0.25,0.25,0.25,0.25,0.25,0.25,0.25,0.25,0.25,0.25,0.25,0.25,0.25,0.25,0.25,0.25,0.25,0.25,0.25,0.25,0.25,0.25,0.25,0.25,0.25,0.25,0.25,0.25,0.25,0.25,0.25,0.25,0.25,0.25,0.25,0.25,0.25,0.25,0.25,0.25,0.25,0.25,0.25,0.25,0.25,0.25,0.25,0.25,0.25,0.25,0.25,0.25,0.25,0.25,0.25,0.25,0.25,0.25,0.25,0.25,0.25,0.25,0.25,0.25,0.25,0.25,0.25,0.25,0.25,0.25,0.25,0.25,0.25,0.25,0.25,0.25,0.5,0.5,0.5,0.5,0.5,0.5,0.5,0.5,0.5,0.5,0.5,0.5,0.5,0.5,0.5,0.5,0.5,0.5,0.5,0.5,0.5,0.5,0.5,0.5,0.5,0.5,0.5,0.5,0.5,0.5,0.5,0.5,0.5,0.5,0.5,0.5,0.5,0.5,0.5,0.5,0.75,0.75,0.75,0.75,0.75,0.75,0.75,0.75,0.75,0.75,0.75,0.75,0.75,0.75,0.75,0.75,0.75,0.75,0.75,0.75,0.75,0.75,0.75,0.75,0.75,0.75,0.75,0.75,0.75,0.75,0.75,0.75,0.75,0.75,0.75,0.75,0.75,0.75,0.75,0.75,0.75,0.75,0.75,0.75,0.75,0.75,0.75,0.75,0.75,0.75,0.75,0.75,0.75,0.75,0.75,0.75,0.75,0.75,0.75,0.75,0.75,0.75,0.75,0.75,0.75,0.75,1.0,1.0,1.0,1.0,1.0,1.0,1.0,1.0,1.0,1.0,1.0,1.0,1.0,1.0,1.0,1.0,1.0,1.0,1.0,1.0,1.0,1.0,1.0,1.0,1.0,1.0,1.0,1.0,1.0,1.0,1.0,1.0,1.0,1.0,1.0,1.0,1.0,1.0,1.0,1.0,1.0,1.0,1.0,1.0,1.0,1.0,1.0,1.0,1.0,1.0,1.0,1.0,1.0,1.0,1.0,1.0,1.0,1.0,1.0,1.0,1.0,1.0,1.0,1.0,1.0,1.0,1.0,1.0,1.0,1.0,1.0,1.0,1.0,1.0,1.0,1.0,1.0,1.0,1.0,1.0,1.0,1.0,1.0,1.0,1.0,1.0,1.0,1.0,1.0,1.0,1.0,1.0,1.0,1.0,1.0,1.0,1.0,1.0,1.0,1.0,1.0,1.0,1.0,1.0,1.0,1.0,1.0,1.0,1.0,1.0,1.0,1.0,1.0,1.0,1.0,1.0,1.0,1.0,1.0,1.0,1.0,1.0,1.0,1.0,1.0,1.0,1.0,1.0,1.0,1.0,1.0,1.0,1.0,1.0,1.0,1.0,1.0,1.0,1.0,1.0,1.0,1.0,1.0,1.0,1.0,1.0,1.0,1.0,1.0,1.0,1.0,1.0,1.0,1.0,1.0,1.0,1.0,1.0,1.0,1.0,1.0,1.0,1.0,1.0,1.0,1.0,1.0,1.0,1.0,1.0,1.0,1.0,1.0,1.0,1.0,1.0,1.0,1.0,1.0,1.0,1.0,1.0,1.0,1.0,1.0,1.0,1.0,1.0,1.0,1.0,1.0,1.0,1.0,1.0,1.0,1.0,1.0,1.0,1.0,1.0,1.0,1.0,1.0,1.0,1.0,1.0,1.0,1.0,1.0,1.0,1.0,1.0,1.0,1.0,1.0,1.0,1.0,1.0,1.0,1.0,1.0,1.0,1.0,1.0,1.0,1.0,1.0,1.0,1.0,1.0,1.0,1.0,1.0,1.0,1.0,1.0,1.0,1.0,1.0,1.0,1.0,1.0,1.0,1.0,1.0,1.0,1.0,1.0,1.0,1.0,1.0,1.0,1.0,1.0,1.0,1.0,1.0,1.0,1.0,1.0,1.0,1.0,1.0,1.0,1.0,1.0,1.0,1.0,1.0],\n",
       "\"price\":[1390.0,1709.9804305283758,2029.9608610567516,2349.941291585127,2669.921722113503,2989.9021526418787,3309.8825831702543,3629.8630136986303,3949.843444227006,4269.823874755381,4589.8043052837575,4909.784735812133,5229.765166340509,5549.745596868885,5869.726027397261,6189.706457925636,6509.686888454012,6829.667318982388,7149.647749510763,7469.628180039139,7789.608610567515,8109.58904109589,8429.569471624265,8749.549902152641,9069.530332681017,9389.510763209393,9709.49119373777,10029.471624266145,10349.452054794521,10669.432485322895,10989.412915851271,11309.393346379647,11629.373776908024,11949.3542074364,12269.334637964776,12589.315068493152,12909.295499021526,13229.275929549902,13229.275929549902,13549.256360078278,13869.236790606654,14189.21722113503,14509.197651663406,14829.17808219178,15149.158512720156,15469.138943248532,15789.119373776908,16109.099804305284,16429.08023483366,16749.060665362034,17069.04109589041,17389.021526418786,17709.001956947162,18028.98238747554,18348.962818003914,18668.94324853229,18988.923679060666,19308.904109589042,19628.88454011742,19948.86497064579,20268.845401174167,20588.825831702543,20908.80626223092,20908.80626223092,21228.786692759295,21548.76712328767,21868.747553816047,22188.727984344423,22508.7084148728,22828.688845401175,23148.66927592955,23468.649706457927,23788.630136986303,24108.610567514675,24428.59099804305,24748.571428571428,25068.551859099804,25388.53228962818,25708.512720156556,26028.49315068493,26348.473581213308,26668.454011741684,26988.43444227006,27308.414872798436,27628.39530332681,27948.375733855188,28268.35616438356,28588.336594911936,28908.317025440312,29228.297455968688,29548.277886497064,29868.25831702544,30188.238747553816,30508.219178082192,30828.19960861057,31148.180039138944,31468.16046966732,31788.140900195696,32108.12133072407,32108.12133072407,32428.101761252445,32748.08219178082,33068.0626223092,33388.04305283757,33708.02348336595,34028.003913894325,34347.9843444227,34667.96477495108,34987.94520547945,35307.92563600783,35627.906066536205,35947.88649706458,36267.86692759296,36587.84735812133,36907.82778864971,37227.808219178085,37547.78864970646,37867.76908023484,38187.74951076321,38507.72994129158,38827.71037181996,39147.690802348334,39467.67123287671,39787.651663405086,40107.63209393346,40427.61252446184,40747.592954990214,41067.57338551859,41387.553816046966,41707.53424657534,42027.51467710372,42347.495107632094,42667.47553816047,42987.455968688846,43307.43639921722,43627.4168297456,43947.397260273974,44267.37769080235,44587.358121330726,44907.3385518591,45227.31898238748,45547.299412915854,45867.27984344423,46187.260273972606,46507.240704500975,46827.22113502935,47147.20156555773,47467.1819960861,47787.16242661448,48107.142857142855,48427.12328767123,48747.10371819961,49067.08414872798,49387.06457925636,49707.045009784735,50027.02544031311,50347.00587084149,50666.98630136986,50986.96673189824,51306.947162426615,51626.92759295499,51946.90802348337,52266.88845401174,52586.86888454012,52906.849315068495,53226.82974559687,53546.81017612525,53866.79060665362,54186.771037182,54506.751467710375,54826.731898238744,55146.71232876712,55466.692759295496,55786.67318982387,56106.65362035225,56426.634050880624,56746.614481409,57066.594911937376,57386.57534246575,57706.55577299413,58026.536203522504,58346.51663405088,58666.49706457926,58986.47749510763,59306.45792563601,59626.438356164384,59946.41878669276,60266.39921722114,60586.37964774951,60906.36007827789,61226.340508806265,61546.32093933464,61866.30136986302,62186.28180039139,62506.26223091977,62826.24266144814,63146.22309197651,63466.20352250489,63786.183953033265,64106.16438356164,64426.14481409002,64746.12524461839,65066.10567514677,65386.086105675146,65706.06653620352,66026.0469667319,66346.02739726027,66666.00782778865,66985.98825831703,67305.9686888454,67625.94911937378,67945.92954990215,68265.90998043053,68585.8904109589,68905.87084148728,69225.85127201566,69545.83170254403,69865.81213307241,70185.79256360079,70505.77299412916,70825.75342465754,71145.73385518591,71465.71428571429,71785.69471624267,72105.67514677104,72425.65557729942,72745.6360078278,73065.61643835617,73385.59686888455,73705.57729941292,74025.5577299413,74345.53816046967,74665.51859099805,74985.49902152643,75305.47945205479,75625.45988258316,75945.44031311154,76265.42074363992,76585.40117416829,76905.38160469667,77225.36203522504,77545.34246575342,77865.3228962818,78185.30332681017,78505.28375733855,78825.26418786692,79145.2446183953,79465.22504892368,79785.20547945205,80105.18590998043,80425.1663405088,80745.14677103718,81065.12720156556,81385.10763209393,81705.08806262231,82025.06849315068,82345.04892367906,82665.02935420744,82985.00978473581,83304.99021526419,83624.97064579256,83944.95107632094,84264.93150684932,84584.91193737769,84904.89236790607,85224.87279843444,85544.85322896282,85864.8336594912,86184.81409001957,86504.79452054795,86824.77495107632,87144.7553816047,87464.73581213308,87784.71624266145,88104.69667318983,88424.6771037182,88744.65753424658,89064.63796477496,89384.61839530333,89704.59882583171,90024.57925636008,90344.55968688846,90664.54011741684,90984.52054794521,91304.50097847359,91624.48140900195,91944.46183953033,92264.4422700587,92584.42270058708,92904.40313111545,93224.38356164383,93544.3639921722,93864.34442270058,94184.32485322896,94504.30528375733,94824.28571428571,95144.26614481409,95464.24657534246,95784.22700587084,96104.20743639921,96424.18786692759,96744.16829745597,97064.14872798434,97384.12915851272,97704.1095890411,98024.09001956947,98344.07045009785,98664.05088062622,98984.0313111546,99304.01174168297,99623.99217221135,99943.97260273973,100263.9530332681,100583.93346379648,100903.91389432485,101223.89432485323,101543.8747553816,101863.85518590998,102183.83561643836,102503.81604696673,102823.79647749511,103143.77690802349,103463.75733855186,103783.73776908024,104103.71819960861,104423.69863013699,104743.67906066537,105063.65949119374,105383.63992172212,105703.6203522505,106023.60078277887,106343.58121330725,106663.56164383562,106983.542074364,107303.52250489237,107623.50293542075,107943.48336594911,108263.46379647749,108583.44422700586,108903.42465753424,109223.40508806262,109543.38551859099,109863.36594911937,110183.34637964774,110503.32681017612,110823.3072407045,111143.28767123287,111463.26810176125,111783.24853228962,112103.228962818,112423.20939334638,112743.18982387475,113063.17025440313,113383.1506849315,113703.13111545988,114023.11154598826,114343.09197651663,114663.07240704501,114983.05283757338,115303.03326810176,115623.01369863014,115942.99412915851,116262.97455968689,116582.95499021526,116902.93542074364,117222.91585127202,117542.8962818004,117862.87671232877,118182.85714285714,118502.83757338552,118822.8180039139,119142.79843444227,119462.77886497065,119782.75929549903,120102.7397260274,120422.72015655578,120742.70058708415,121062.68101761253,121382.6614481409,121702.64187866928,122022.62230919766,122342.60273972603,122662.58317025441,122982.56360078279,123302.54403131116,123622.52446183954,123942.50489236791,124262.48532289627,124582.46575342465,124902.44618395303,125222.4266144814,125542.40704500978,125862.38747553815,126182.36790606653,126502.3483365949,126822.32876712328,127142.30919765166,127462.28962818003,127782.27005870841,128102.25048923679,128422.23091976516,128742.21135029354,129062.19178082192,129382.17221135029,129702.15264187867,130022.13307240704,130342.11350293542,130662.0939334638,130982.07436399217,131302.05479452055,131622.03522504892,131942.0156555773,132261.99608610568,132581.97651663405,132901.95694716243,133221.9373776908,133541.91780821918,133861.89823874756,134181.87866927593,134501.8590998043,134821.83953033268,135141.81996086106,135461.80039138944,135781.7808219178,136101.7612524462,136421.74168297456,136741.72211350294,137061.70254403132,137381.6829745597,137701.66340508807,138021.64383561644,138341.62426614482,138661.6046966732,138981.58512720157,139301.56555772995,139621.54598825832,139941.5264187867,140261.50684931508,140581.48727984345,140901.46771037183,141221.4481409002,141541.42857142858,141861.40900195696,142181.38943248533,142501.3698630137,142821.35029354208,143141.33072407046,143461.31115459884,143781.2915851272,144101.2720156556,144421.25244618396,144741.23287671234,145061.21330724072,145381.1937377691,145701.17416829747,146021.15459882584,146341.13502935422,146661.1154598826,146981.09589041097,147301.07632093935,147621.05675146772,147941.0371819961,148261.01761252448,148580.99804305285,148900.9784735812,149220.95890410958,149540.93933463795,149860.91976516633,150180.9001956947,150500.88062622308,150820.86105675146,151140.84148727983,151460.8219178082,151780.80234833658,152100.78277886496,152420.76320939334,152740.7436399217,153060.7240704501,153380.70450097846,153700.68493150684,154020.66536203522,154340.6457925636,154660.62622309197,154980.60665362034,155300.58708414872,155620.5675146771,155940.54794520547,156260.52837573385,156580.50880626222,156900.4892367906,157220.46966731898,157540.45009784735,157860.43052837573,158180.4109589041,158500.39138943248,158820.37181996086,159140.35225048923,159460.3326810176,159780.31311154598,160100.29354207436,160420.27397260274,160740.2544031311,161060.2348336595,161380.21526418786,161700.19569471624,162020.17612524462,162340.156555773,162660.13698630137,162980.11741682974,163300.09784735812,163620.0782778865,163940.05870841487,164260.03913894325,164580.01956947162,164900.0,1390.0,1709.9804305283758,2029.9608610567516,2349.941291585127,2669.921722113503,2989.9021526418787,3309.8825831702543,3629.8630136986303,3949.843444227006,4269.823874755381,4589.8043052837575,4909.784735812133,5229.765166340509,5549.745596868885,5869.726027397261,6189.706457925636,6509.686888454012,6829.667318982388,7149.647749510763,7469.628180039139,7789.608610567515,8109.58904109589,8429.569471624265,8749.549902152641,9069.530332681017,9389.510763209393,9709.49119373777,10029.471624266145,10349.452054794521,10669.432485322895,10989.412915851271,11309.393346379647,11629.373776908024,11949.3542074364,11949.3542074364,12269.334637964776,12589.315068493152,12909.295499021526,13229.275929549902,13549.256360078278,13869.236790606654,14189.21722113503,14509.197651663406,14829.17808219178,15149.158512720156,15469.138943248532,15789.119373776908,16109.099804305284,16429.08023483366,16749.060665362034,17069.04109589041,17389.021526418786,17709.001956947162,17709.001956947162,18028.98238747554,18348.962818003914,18668.94324853229,18988.923679060666,19308.904109589042,19628.88454011742,19948.86497064579,20268.845401174167,20588.825831702543,20908.80626223092,21228.786692759295,21548.76712328767,21868.747553816047,22188.727984344423,22508.7084148728,22828.688845401175,23148.66927592955,23468.649706457927,23788.630136986303,23788.630136986303,24108.610567514675,24428.59099804305,24748.571428571428,25068.551859099804,25388.53228962818,25708.512720156556,26028.49315068493,26348.473581213308,26668.454011741684,26988.43444227006,27308.414872798436,27628.39530332681,27948.375733855188,28268.35616438356,28588.336594911936,28908.317025440312,29228.297455968688,29548.277886497064,29868.25831702544,30188.238747553816,30508.219178082192,30828.19960861057,31148.180039138944,31468.16046966732,31788.140900195696,32108.12133072407,32428.101761252445,32748.08219178082,33068.0626223092,33388.04305283757,33708.02348336595,34028.003913894325,34347.9843444227,34667.96477495108,34987.94520547945,35307.92563600783,35627.906066536205,35947.88649706458,36267.86692759296,36587.84735812133,36907.82778864971,37227.808219178085,37547.78864970646,37867.76908023484,38187.74951076321,38507.72994129158,38827.71037181996,39147.690802348334,39467.67123287671,39787.651663405086,40107.63209393346,40427.61252446184,40747.592954990214,41067.57338551859,41387.553816046966,41707.53424657534,42027.51467710372,42347.495107632094,42667.47553816047,42987.455968688846,43307.43639921722,43627.4168297456,43947.397260273974,44267.37769080235,44587.358121330726,44907.3385518591,45227.31898238748,45547.299412915854,45867.27984344423,46187.260273972606,46507.240704500975,46827.22113502935,47147.20156555773,47467.1819960861,47787.16242661448,48107.142857142855,48427.12328767123,48747.10371819961,49067.08414872798,49387.06457925636,49707.045009784735,50027.02544031311,50347.00587084149,50666.98630136986,50986.96673189824,51306.947162426615,51626.92759295499,51946.90802348337,52266.88845401174,52586.86888454012,52906.849315068495,53226.82974559687,53546.81017612525,53866.79060665362,54186.771037182,54506.751467710375,54826.731898238744,55146.71232876712,55466.692759295496,55786.67318982387,56106.65362035225,56426.634050880624,56746.614481409,57066.594911937376,57386.57534246575,57706.55577299413,58026.536203522504,58346.51663405088,58666.49706457926,58986.47749510763,59306.45792563601,59626.438356164384,59946.41878669276,60266.39921722114,60586.37964774951,60906.36007827789,61226.340508806265,61546.32093933464,61866.30136986302,62186.28180039139,62506.26223091977,62826.24266144814,63146.22309197651,63466.20352250489,63786.183953033265,64106.16438356164,64426.14481409002,64746.12524461839,65066.10567514677,65386.086105675146,65706.06653620352,66026.0469667319,66346.02739726027,66666.00782778865,66985.98825831703,67305.9686888454,67625.94911937378,67945.92954990215,68265.90998043053,68585.8904109589,68905.87084148728,69225.85127201566,69545.83170254403,69865.81213307241,70185.79256360079,70505.77299412916,70825.75342465754,71145.73385518591,71465.71428571429,71785.69471624267,72105.67514677104,72425.65557729942,72745.6360078278,73065.61643835617,73385.59686888455,73705.57729941292,74025.5577299413,74345.53816046967,74665.51859099805,74985.49902152643,75305.47945205479,75625.45988258316,75945.44031311154,76265.42074363992,76585.40117416829,76905.38160469667,77225.36203522504,77545.34246575342,77865.3228962818,78185.30332681017,78505.28375733855,78825.26418786692,79145.2446183953,79465.22504892368,79785.20547945205,80105.18590998043,80425.1663405088,80745.14677103718,81065.12720156556,81385.10763209393,81705.08806262231,82025.06849315068,82345.04892367906,82665.02935420744,82985.00978473581,83304.99021526419,83624.97064579256,83944.95107632094,84264.93150684932,84584.91193737769,84904.89236790607,85224.87279843444,85544.85322896282,85864.8336594912,86184.81409001957,86504.79452054795,86824.77495107632,87144.7553816047,87464.73581213308,87784.71624266145,88104.69667318983,88424.6771037182,88744.65753424658,89064.63796477496,89384.61839530333,89704.59882583171,90024.57925636008,90344.55968688846,90664.54011741684,90984.52054794521,91304.50097847359,91624.48140900195,91944.46183953033,92264.4422700587,92584.42270058708,92904.40313111545,93224.38356164383,93544.3639921722,93864.34442270058,94184.32485322896,94504.30528375733,94824.28571428571,95144.26614481409,95464.24657534246,95784.22700587084,96104.20743639921,96424.18786692759,96744.16829745597,97064.14872798434,97384.12915851272,97704.1095890411,98024.09001956947,98344.07045009785,98664.05088062622,98984.0313111546,99304.01174168297,99623.99217221135,99943.97260273973,100263.9530332681,100583.93346379648,100903.91389432485,101223.89432485323,101543.8747553816,101863.85518590998,102183.83561643836,102503.81604696673,102823.79647749511,103143.77690802349,103463.75733855186,103783.73776908024,104103.71819960861,104423.69863013699,104743.67906066537,105063.65949119374,105383.63992172212,105703.6203522505,106023.60078277887,106343.58121330725,106663.56164383562,106983.542074364,107303.52250489237,107623.50293542075,107943.48336594911,108263.46379647749,108583.44422700586,108903.42465753424,109223.40508806262,109543.38551859099,109863.36594911937,110183.34637964774,110503.32681017612,110823.3072407045,111143.28767123287,111463.26810176125,111783.24853228962,112103.228962818,112423.20939334638,112743.18982387475,113063.17025440313,113383.1506849315,113703.13111545988,114023.11154598826,114343.09197651663,114663.07240704501,114983.05283757338,115303.03326810176,115623.01369863014,115942.99412915851,116262.97455968689,116582.95499021526,116902.93542074364,117222.91585127202,117542.8962818004,117862.87671232877,118182.85714285714,118502.83757338552,118822.8180039139,119142.79843444227,119462.77886497065,119782.75929549903,120102.7397260274,120422.72015655578,120742.70058708415,121062.68101761253,121382.6614481409,121702.64187866928,122022.62230919766,122342.60273972603,122662.58317025441,122982.56360078279,123302.54403131116,123622.52446183954,123942.50489236791,124262.48532289627,124582.46575342465,124902.44618395303,125222.4266144814,125542.40704500978,125862.38747553815,126182.36790606653,126502.3483365949,126822.32876712328,127142.30919765166,127462.28962818003,127782.27005870841,128102.25048923679,128422.23091976516,128742.21135029354,129062.19178082192,129382.17221135029,129702.15264187867,130022.13307240704,130342.11350293542,130662.0939334638,130982.07436399217,131302.05479452055,131622.03522504892,131942.0156555773,132261.99608610568,132581.97651663405,132901.95694716243,133221.9373776908,133541.91780821918,133861.89823874756,134181.87866927593,134501.8590998043,134821.83953033268,135141.81996086106,135461.80039138944,135781.7808219178,136101.7612524462,136421.74168297456,136741.72211350294,137061.70254403132,137381.6829745597,137701.66340508807,138021.64383561644,138341.62426614482,138661.6046966732,138981.58512720157,139301.56555772995,139621.54598825832,139941.5264187867,140261.50684931508,140581.48727984345,140901.46771037183,141221.4481409002,141541.42857142858,141861.40900195696,142181.38943248533,142501.3698630137,142821.35029354208,143141.33072407046,143461.31115459884,143781.2915851272,144101.2720156556,144421.25244618396,144741.23287671234,145061.21330724072,145381.1937377691,145701.17416829747,146021.15459882584,146341.13502935422,146661.1154598826,146981.09589041097,147301.07632093935,147621.05675146772,147941.0371819961,148261.01761252448,148580.99804305285,148900.9784735812,149220.95890410958,149540.93933463795,149860.91976516633,150180.9001956947,150500.88062622308,150820.86105675146,151140.84148727983,151460.8219178082,151780.80234833658,152100.78277886496,152420.76320939334,152740.7436399217,153060.7240704501,153380.70450097846,153700.68493150684,154020.66536203522,154340.6457925636,154660.62622309197,154980.60665362034,155300.58708414872,155620.5675146771,155940.54794520547,156260.52837573385,156580.50880626222,156900.4892367906,157220.46966731898,157540.45009784735,157860.43052837573,158180.4109589041,158500.39138943248,158820.37181996086,159140.35225048923,159460.3326810176,159780.31311154598,160100.29354207436,160420.27397260274,160740.2544031311,161060.2348336595,161380.21526418786,161700.19569471624,162020.17612524462,162340.156555773,162660.13698630137,162980.11741682974,163300.09784735812,163620.0782778865,163940.05870841487,164260.03913894325,164580.01956947162,164900.0,1390.0,1709.9804305283758,2029.9608610567516,2349.941291585127,2669.921722113503,2989.9021526418787,3309.8825831702543,3629.8630136986303,3949.843444227006,4269.823874755381,4589.8043052837575,4909.784735812133,5229.765166340509,5549.745596868885,5869.726027397261,6189.706457925636,6509.686888454012,6829.667318982388,7149.647749510763,7469.628180039139,7789.608610567515,8109.58904109589,8429.569471624265,8749.549902152641,9069.530332681017,9389.510763209393,9709.49119373777,10029.471624266145,10349.452054794521,10669.432485322895,10989.412915851271,11309.393346379647,11629.373776908024,11949.3542074364,12269.334637964776,12589.315068493152,12909.295499021526,12909.295499021526,13229.275929549902,13549.256360078278,13869.236790606654,14189.21722113503,14509.197651663406,14829.17808219178,15149.158512720156,15469.138943248532,15789.119373776908,16109.099804305284,16429.08023483366,16749.060665362034,17069.04109589041,17389.021526418786,17709.001956947162,18028.98238747554,18348.962818003914,18668.94324853229,18988.923679060666,19308.904109589042,19628.88454011742,19948.86497064579,20268.845401174167,20588.825831702543,20908.80626223092,21228.786692759295,21548.76712328767,21868.747553816047,21868.747553816047,22188.727984344423,22508.7084148728,22828.688845401175,23148.66927592955,23468.649706457927,23788.630136986303,24108.610567514675,24428.59099804305,24748.571428571428,25068.551859099804,25388.53228962818,25708.512720156556,26028.49315068493,26348.473581213308,26668.454011741684,26988.43444227006,27308.414872798436,27628.39530332681,27948.375733855188,28268.35616438356,28588.336594911936,28908.317025440312,29228.297455968688,29548.277886497064,29868.25831702544,30188.238747553816,30508.219178082192,30828.19960861057,31148.180039138944,31468.16046966732,31788.140900195696,32108.12133072407,32428.101761252445,32748.08219178082,33068.0626223092,33388.04305283757,33708.02348336595,34028.003913894325,34347.9843444227,34667.96477495108,34987.94520547945,35307.92563600783,35627.906066536205,35947.88649706458,36267.86692759296,36587.84735812133,36907.82778864971,37227.808219178085,37547.78864970646,37867.76908023484,38187.74951076321,38507.72994129158,38827.71037181996,39147.690802348334,39467.67123287671,39787.651663405086,40107.63209393346,40427.61252446184,40747.592954990214,41067.57338551859,41387.553816046966,41707.53424657534,42027.51467710372,42347.495107632094,42667.47553816047,42667.47553816047,42987.455968688846,43307.43639921722,43627.4168297456,43947.397260273974,44267.37769080235,44587.358121330726,44907.3385518591,45227.31898238748,45547.299412915854,45867.27984344423,46187.260273972606,46507.240704500975,46827.22113502935,47147.20156555773,47467.1819960861,47787.16242661448,48107.142857142855,48427.12328767123,48747.10371819961,49067.08414872798,49387.06457925636,49707.045009784735,50027.02544031311,50347.00587084149,50666.98630136986,50986.96673189824,51306.947162426615,51626.92759295499,51946.90802348337,52266.88845401174,52586.86888454012,52906.849315068495,53226.82974559687,53546.81017612525,53866.79060665362,54186.771037182,54506.751467710375,54826.731898238744,55146.71232876712,55466.692759295496,55786.67318982387,56106.65362035225,56426.634050880624,56746.614481409,57066.594911937376,57386.57534246575,57706.55577299413,58026.536203522504,58346.51663405088,58666.49706457926,58986.47749510763,59306.45792563601,59626.438356164384,59946.41878669276,60266.39921722114,60586.37964774951,60906.36007827789,61226.340508806265,61546.32093933464,61866.30136986302,62186.28180039139,62506.26223091977,62826.24266144814,63146.22309197651,63466.20352250489,63786.183953033265,64106.16438356164,64426.14481409002,64746.12524461839,65066.10567514677,65386.086105675146,65706.06653620352,66026.0469667319,66346.02739726027,66666.00782778865,66985.98825831703,67305.9686888454,67625.94911937378,67945.92954990215,68265.90998043053,68585.8904109589,68905.87084148728,69225.85127201566,69545.83170254403,69865.81213307241,70185.79256360079,70505.77299412916,70825.75342465754,71145.73385518591,71465.71428571429,71785.69471624267,72105.67514677104,72425.65557729942,72745.6360078278,73065.61643835617,73385.59686888455,73705.57729941292,74025.5577299413,74345.53816046967,74665.51859099805,74985.49902152643,75305.47945205479,75625.45988258316,75945.44031311154,76265.42074363992,76585.40117416829,76905.38160469667,77225.36203522504,77545.34246575342,77865.3228962818,78185.30332681017,78505.28375733855,78825.26418786692,79145.2446183953,79465.22504892368,79785.20547945205,80105.18590998043,80425.1663405088,80745.14677103718,81065.12720156556,81385.10763209393,81705.08806262231,82025.06849315068,82345.04892367906,82665.02935420744,82985.00978473581,83304.99021526419,83624.97064579256,83944.95107632094,84264.93150684932,84584.91193737769,84904.89236790607,85224.87279843444,85544.85322896282,85864.8336594912,86184.81409001957,86504.79452054795,86824.77495107632,87144.7553816047,87464.73581213308,87784.71624266145,88104.69667318983,88424.6771037182,88744.65753424658,89064.63796477496,89384.61839530333,89704.59882583171,90024.57925636008,90344.55968688846,90664.54011741684,90984.52054794521,91304.50097847359,91624.48140900195,91944.46183953033,92264.4422700587,92584.42270058708,92904.40313111545,93224.38356164383,93544.3639921722,93864.34442270058,94184.32485322896,94504.30528375733,94824.28571428571,95144.26614481409,95464.24657534246,95784.22700587084,96104.20743639921,96424.18786692759,96744.16829745597,97064.14872798434,97384.12915851272,97704.1095890411,98024.09001956947,98344.07045009785,98664.05088062622,98984.0313111546,99304.01174168297,99623.99217221135,99943.97260273973,100263.9530332681,100583.93346379648,100903.91389432485,101223.89432485323,101543.8747553816,101863.85518590998,102183.83561643836,102503.81604696673,102823.79647749511,103143.77690802349,103463.75733855186,103783.73776908024,104103.71819960861,104423.69863013699,104743.67906066537,105063.65949119374,105383.63992172212,105703.6203522505,106023.60078277887,106343.58121330725,106663.56164383562,106983.542074364,107303.52250489237,107623.50293542075,107943.48336594911,108263.46379647749,108583.44422700586,108903.42465753424,109223.40508806262,109543.38551859099,109863.36594911937,110183.34637964774,110503.32681017612,110823.3072407045,111143.28767123287,111463.26810176125,111783.24853228962,112103.228962818,112423.20939334638,112743.18982387475,113063.17025440313,113383.1506849315,113703.13111545988,114023.11154598826,114343.09197651663,114663.07240704501,114983.05283757338,115303.03326810176,115623.01369863014,115942.99412915851,116262.97455968689,116582.95499021526,116902.93542074364,117222.91585127202,117542.8962818004,117862.87671232877,118182.85714285714,118502.83757338552,118822.8180039139,119142.79843444227,119462.77886497065,119782.75929549903,120102.7397260274,120422.72015655578,120742.70058708415,121062.68101761253,121382.6614481409,121702.64187866928,122022.62230919766,122342.60273972603,122662.58317025441,122982.56360078279,123302.54403131116,123622.52446183954,123942.50489236791,124262.48532289627,124582.46575342465,124902.44618395303,125222.4266144814,125542.40704500978,125862.38747553815,126182.36790606653,126502.3483365949,126822.32876712328,127142.30919765166,127462.28962818003,127782.27005870841,128102.25048923679,128422.23091976516,128742.21135029354,129062.19178082192,129382.17221135029,129702.15264187867,130022.13307240704,130342.11350293542,130662.0939334638,130982.07436399217,131302.05479452055,131622.03522504892,131942.0156555773,132261.99608610568,132581.97651663405,132901.95694716243,133221.9373776908,133541.91780821918,133861.89823874756,134181.87866927593,134501.8590998043,134821.83953033268,135141.81996086106,135461.80039138944,135781.7808219178,136101.7612524462,136421.74168297456,136741.72211350294,137061.70254403132,137381.6829745597,137701.66340508807,138021.64383561644,138341.62426614482,138661.6046966732,138981.58512720157,139301.56555772995,139621.54598825832,139941.5264187867,140261.50684931508,140581.48727984345,140901.46771037183,141221.4481409002,141541.42857142858,141861.40900195696,142181.38943248533,142501.3698630137,142821.35029354208,143141.33072407046,143461.31115459884,143781.2915851272,144101.2720156556,144421.25244618396,144741.23287671234,145061.21330724072,145381.1937377691,145701.17416829747,146021.15459882584,146341.13502935422,146661.1154598826,146981.09589041097,147301.07632093935,147621.05675146772,147941.0371819961,148261.01761252448,148580.99804305285,148900.9784735812,149220.95890410958,149540.93933463795,149860.91976516633,150180.9001956947,150500.88062622308,150820.86105675146,151140.84148727983,151460.8219178082,151780.80234833658,152100.78277886496,152420.76320939334,152740.7436399217,153060.7240704501,153380.70450097846,153700.68493150684,154020.66536203522,154340.6457925636,154660.62622309197,154980.60665362034,155300.58708414872,155620.5675146771,155940.54794520547,156260.52837573385,156580.50880626222,156900.4892367906,157220.46966731898,157540.45009784735,157860.43052837573,158180.4109589041,158500.39138943248,158820.37181996086,159140.35225048923,159460.3326810176,159780.31311154598,160100.29354207436,160420.27397260274,160740.2544031311,161060.2348336595,161380.21526418786,161700.19569471624,162020.17612524462,162340.156555773,162660.13698630137,162980.11741682974,163300.09784735812,163620.0782778865,163940.05870841487,164260.03913894325,164580.01956947162,164900.0,1390.0,1709.9804305283758,2029.9608610567516,2349.941291585127,2669.921722113503,2989.9021526418787,3309.8825831702543,3629.8630136986303,3949.843444227006,4269.823874755381,4589.8043052837575,4909.784735812133,5229.765166340509,5549.745596868885,5869.726027397261,6189.706457925636,6509.686888454012,6829.667318982388,7149.647749510763,7469.628180039139,7789.608610567515,8109.58904109589,8429.569471624265,8749.549902152641,9069.530332681017,9389.510763209393,9709.49119373777,10029.471624266145,10349.452054794521,10669.432485322895,10989.412915851271,11309.393346379647,11629.373776908024,11949.3542074364,12269.334637964776,12589.315068493152,12909.295499021526,13229.275929549902,13549.256360078278,13869.236790606654,14189.21722113503,14509.197651663406,14829.17808219178,15149.158512720156,15469.138943248532,15469.138943248532,15789.119373776908,16109.099804305284,16429.08023483366,16749.060665362034,17069.04109589041,17389.021526418786,17709.001956947162,18028.98238747554,18348.962818003914,18668.94324853229,18988.923679060666,19308.904109589042,19628.88454011742,19948.86497064579,20268.845401174167,20588.825831702543,20908.80626223092,21228.786692759295,21548.76712328767,21868.747553816047,22188.727984344423,22508.7084148728,22828.688845401175,23148.66927592955,23468.649706457927,23788.630136986303,23788.630136986303,24108.610567514675,24428.59099804305,24748.571428571428,25068.551859099804,25388.53228962818,25708.512720156556,26028.49315068493,26348.473581213308,26668.454011741684,26988.43444227006,27308.414872798436,27628.39530332681,27948.375733855188,28268.35616438356,28588.336594911936,28908.317025440312,29228.297455968688,29548.277886497064,29868.25831702544,30188.238747553816,30508.219178082192,30828.19960861057,31148.180039138944,31468.16046966732,31788.140900195696,32108.12133072407,32428.101761252445,32748.08219178082,33068.0626223092,33388.04305283757,33708.02348336595,34028.003913894325,34347.9843444227,34667.96477495108,34987.94520547945,35307.92563600783,35627.906066536205,35947.88649706458,36267.86692759296,36267.86692759296,36587.84735812133,36907.82778864971,37227.808219178085,37547.78864970646,37867.76908023484,38187.74951076321,38507.72994129158,38827.71037181996,39147.690802348334,39467.67123287671,39787.651663405086,40107.63209393346,40427.61252446184,40747.592954990214,41067.57338551859,41387.553816046966,41707.53424657534,42027.51467710372,42347.495107632094,42667.47553816047,42987.455968688846,43307.43639921722,43627.4168297456,43947.397260273974,44267.37769080235,44587.358121330726,44907.3385518591,45227.31898238748,45547.299412915854,45867.27984344423,46187.260273972606,46507.240704500975,46827.22113502935,47147.20156555773,47467.1819960861,47787.16242661448,48107.142857142855,48427.12328767123,48747.10371819961,49067.08414872798,49387.06457925636,49707.045009784735,50027.02544031311,50347.00587084149,50666.98630136986,50986.96673189824,51306.947162426615,51626.92759295499,51946.90802348337,52266.88845401174,52586.86888454012,52906.849315068495,53226.82974559687,53546.81017612525,53866.79060665362,54186.771037182,54506.751467710375,54826.731898238744,55146.71232876712,55466.692759295496,55786.67318982387,56106.65362035225,56426.634050880624,56746.614481409,57066.594911937376,57386.57534246575,57706.55577299413,58026.536203522504,58346.51663405088,58666.49706457926,58986.47749510763,59306.45792563601,59626.438356164384,59946.41878669276,60266.39921722114,60586.37964774951,60906.36007827789,61226.340508806265,61546.32093933464,61866.30136986302,62186.28180039139,62506.26223091977,62826.24266144814,63146.22309197651,63466.20352250489,63786.183953033265,64106.16438356164,64426.14481409002,64746.12524461839,65066.10567514677,65386.086105675146,65706.06653620352,66026.0469667319,66346.02739726027,66666.00782778865,66985.98825831703,67305.9686888454,67625.94911937378,67945.92954990215,68265.90998043053,68585.8904109589,68905.87084148728,69225.85127201566,69545.83170254403,69865.81213307241,70185.79256360079,70505.77299412916,70825.75342465754,71145.73385518591,71465.71428571429,71785.69471624267,72105.67514677104,72425.65557729942,72745.6360078278,73065.61643835617,73385.59686888455,73705.57729941292,74025.5577299413,74345.53816046967,74665.51859099805,74985.49902152643,75305.47945205479,75625.45988258316,75945.44031311154,76265.42074363992,76585.40117416829,76905.38160469667,77225.36203522504,77545.34246575342,77865.3228962818,78185.30332681017,78505.28375733855,78825.26418786692,79145.2446183953,79465.22504892368,79785.20547945205,80105.18590998043,80425.1663405088,80745.14677103718,81065.12720156556,81385.10763209393,81705.08806262231,82025.06849315068,82345.04892367906,82665.02935420744,82985.00978473581,83304.99021526419,83624.97064579256,83944.95107632094,84264.93150684932,84584.91193737769,84904.89236790607,85224.87279843444,85544.85322896282,85864.8336594912,86184.81409001957,86504.79452054795,86824.77495107632,87144.7553816047,87464.73581213308,87784.71624266145,88104.69667318983,88424.6771037182,88744.65753424658,89064.63796477496,89384.61839530333,89704.59882583171,90024.57925636008,90344.55968688846,90664.54011741684,90984.52054794521,91304.50097847359,91624.48140900195,91944.46183953033,92264.4422700587,92584.42270058708,92904.40313111545,93224.38356164383,93544.3639921722,93864.34442270058,94184.32485322896,94504.30528375733,94824.28571428571,95144.26614481409,95464.24657534246,95784.22700587084,96104.20743639921,96424.18786692759,96744.16829745597,97064.14872798434,97384.12915851272,97704.1095890411,98024.09001956947,98344.07045009785,98664.05088062622,98984.0313111546,99304.01174168297,99623.99217221135,99943.97260273973,100263.9530332681,100583.93346379648,100903.91389432485,101223.89432485323,101543.8747553816,101863.85518590998,102183.83561643836,102503.81604696673,102823.79647749511,103143.77690802349,103463.75733855186,103783.73776908024,104103.71819960861,104423.69863013699,104743.67906066537,105063.65949119374,105383.63992172212,105703.6203522505,106023.60078277887,106343.58121330725,106663.56164383562,106983.542074364,107303.52250489237,107623.50293542075,107943.48336594911,108263.46379647749,108583.44422700586,108903.42465753424,109223.40508806262,109543.38551859099,109863.36594911937,110183.34637964774,110503.32681017612,110823.3072407045,111143.28767123287,111463.26810176125,111783.24853228962,112103.228962818,112423.20939334638,112743.18982387475,113063.17025440313,113383.1506849315,113703.13111545988,114023.11154598826,114343.09197651663,114663.07240704501,114983.05283757338,115303.03326810176,115623.01369863014,115942.99412915851,116262.97455968689,116582.95499021526,116902.93542074364,117222.91585127202,117542.8962818004,117862.87671232877,118182.85714285714,118502.83757338552,118822.8180039139,119142.79843444227,119462.77886497065,119782.75929549903,120102.7397260274,120422.72015655578,120742.70058708415,121062.68101761253,121382.6614481409,121702.64187866928,122022.62230919766,122342.60273972603,122662.58317025441,122982.56360078279,123302.54403131116,123622.52446183954,123942.50489236791,124262.48532289627,124582.46575342465,124902.44618395303,125222.4266144814,125542.40704500978,125862.38747553815,126182.36790606653,126502.3483365949,126822.32876712328,127142.30919765166,127462.28962818003,127782.27005870841,128102.25048923679,128422.23091976516,128742.21135029354,129062.19178082192,129382.17221135029,129702.15264187867,130022.13307240704,130342.11350293542,130662.0939334638,130982.07436399217,131302.05479452055,131622.03522504892,131942.0156555773,132261.99608610568,132581.97651663405,132901.95694716243,133221.9373776908,133541.91780821918,133861.89823874756,134181.87866927593,134501.8590998043,134821.83953033268,135141.81996086106,135461.80039138944,135781.7808219178,136101.7612524462,136421.74168297456,136741.72211350294,137061.70254403132,137381.6829745597,137701.66340508807,138021.64383561644,138341.62426614482,138661.6046966732,138981.58512720157,139301.56555772995,139621.54598825832,139941.5264187867,140261.50684931508,140581.48727984345,140901.46771037183,141221.4481409002,141541.42857142858,141861.40900195696,142181.38943248533,142501.3698630137,142821.35029354208,143141.33072407046,143461.31115459884,143781.2915851272,144101.2720156556,144421.25244618396,144741.23287671234,145061.21330724072,145381.1937377691,145701.17416829747,146021.15459882584,146341.13502935422,146661.1154598826,146981.09589041097,147301.07632093935,147621.05675146772,147941.0371819961,148261.01761252448,148580.99804305285,148900.9784735812,149220.95890410958,149540.93933463795,149860.91976516633,150180.9001956947,150500.88062622308,150820.86105675146,151140.84148727983,151460.8219178082,151780.80234833658,152100.78277886496,152420.76320939334,152740.7436399217,153060.7240704501,153380.70450097846,153700.68493150684,154020.66536203522,154340.6457925636,154660.62622309197,154980.60665362034,155300.58708414872,155620.5675146771,155940.54794520547,156260.52837573385,156580.50880626222,156900.4892367906,157220.46966731898,157540.45009784735,157860.43052837573,158180.4109589041,158500.39138943248,158820.37181996086,159140.35225048923,159460.3326810176,159780.31311154598,160100.29354207436,160420.27397260274,160740.2544031311,161060.2348336595,161380.21526418786,161700.19569471624,162020.17612524462,162340.156555773,162660.13698630137,162980.11741682974,163300.09784735812,163620.0782778865,163940.05870841487,164260.03913894325,164580.01956947162,164900.0,1390.0,1709.9804305283758,2029.9608610567516,2349.941291585127,2669.921722113503,2989.9021526418787,3309.8825831702543,3629.8630136986303,3949.843444227006,4269.823874755381,4589.8043052837575,4909.784735812133,5229.765166340509,5549.745596868885,5869.726027397261,6189.706457925636,6509.686888454012,6829.667318982388,7149.647749510763,7469.628180039139,7789.608610567515,8109.58904109589,8429.569471624265,8749.549902152641,9069.530332681017,9389.510763209393,9709.49119373777,10029.471624266145,10349.452054794521,10669.432485322895,10989.412915851271,11309.393346379647,11629.373776908024,11949.3542074364,12269.334637964776,12589.315068493152,12909.295499021526,13229.275929549902,13549.256360078278,13869.236790606654,14189.21722113503,14509.197651663406,14829.17808219178,15149.158512720156,15469.138943248532,15789.119373776908,16109.099804305284,16429.08023483366,16749.060665362034,17069.04109589041,17389.021526418786,17709.001956947162,18028.98238747554,18348.962818003914,18668.94324853229,18988.923679060666,19308.904109589042,19628.88454011742,19948.86497064579,20268.845401174167,20588.825831702543,20908.80626223092,21228.786692759295,21548.76712328767,21868.747553816047,22188.727984344423,22508.7084148728,22828.688845401175,23148.66927592955,23468.649706457927,23788.630136986303,24108.610567514675,24428.59099804305,24748.571428571428,25068.551859099804,25388.53228962818,25708.512720156556,26028.49315068493,26348.473581213308,26668.454011741684,26988.43444227006,27308.414872798436,27628.39530332681,27948.375733855188,28268.35616438356,28588.336594911936,28908.317025440312,29228.297455968688,29548.277886497064,29868.25831702544,30188.238747553816,30508.219178082192,30828.19960861057,31148.180039138944,31468.16046966732,31788.140900195696,32108.12133072407,32428.101761252445,32748.08219178082,33068.0626223092,33388.04305283757,33708.02348336595,34028.003913894325,34347.9843444227,34667.96477495108,34987.94520547945,35307.92563600783,35627.906066536205,35947.88649706458,36267.86692759296,36587.84735812133,36907.82778864971,37227.808219178085,37547.78864970646,37867.76908023484,38187.74951076321,38507.72994129158,38827.71037181996,39147.690802348334,39467.67123287671,39787.651663405086,40107.63209393346,40427.61252446184,40747.592954990214,41067.57338551859,41387.553816046966,41707.53424657534,42027.51467710372,42347.495107632094,42667.47553816047,42987.455968688846,43307.43639921722,43627.4168297456,43947.397260273974,44267.37769080235,44587.358121330726,44907.3385518591,45227.31898238748,45547.299412915854,45867.27984344423,45867.27984344423,46187.260273972606,46507.240704500975,46827.22113502935,47147.20156555773,47467.1819960861,47787.16242661448,48107.142857142855,48427.12328767123,48747.10371819961,49067.08414872798,49387.06457925636,49707.045009784735,50027.02544031311,50347.00587084149,50666.98630136986,50986.96673189824,51306.947162426615,51626.92759295499,51946.90802348337,52266.88845401174,52586.86888454012,52906.849315068495,53226.82974559687,53546.81017612525,53866.79060665362,54186.771037182,54506.751467710375,54826.731898238744,55146.71232876712,55466.692759295496,55786.67318982387,56106.65362035225,56426.634050880624,56746.614481409,57066.594911937376,57386.57534246575,57706.55577299413,58026.536203522504,58346.51663405088,58346.51663405088,58666.49706457926,58986.47749510763,59306.45792563601,59626.438356164384,59946.41878669276,60266.39921722114,60586.37964774951,60906.36007827789,61226.340508806265,61546.32093933464,61866.30136986302,62186.28180039139,62506.26223091977,62826.24266144814,63146.22309197651,63466.20352250489,63786.183953033265,64106.16438356164,64426.14481409002,64746.12524461839,65066.10567514677,65386.086105675146,65706.06653620352,66026.0469667319,66346.02739726027,66666.00782778865,66985.98825831703,67305.9686888454,67625.94911937378,67945.92954990215,68265.90998043053,68585.8904109589,68905.87084148728,69225.85127201566,69545.83170254403,69865.81213307241,70185.79256360079,70505.77299412916,70825.75342465754,71145.73385518591,71465.71428571429,71785.69471624267,72105.67514677104,72425.65557729942,72745.6360078278,73065.61643835617,73385.59686888455,73705.57729941292,74025.5577299413,74345.53816046967,74665.51859099805,74985.49902152643,75305.47945205479,75625.45988258316,75945.44031311154,76265.42074363992,76585.40117416829,76905.38160469667,77225.36203522504,77545.34246575342,77865.3228962818,78185.30332681017,78505.28375733855,78825.26418786692,79145.2446183953,79145.2446183953,79465.22504892368,79785.20547945205,80105.18590998043,80425.1663405088,80745.14677103718,81065.12720156556,81385.10763209393,81705.08806262231,82025.06849315068,82345.04892367906,82665.02935420744,82985.00978473581,83304.99021526419,83624.97064579256,83944.95107632094,84264.93150684932,84584.91193737769,84904.89236790607,85224.87279843444,85544.85322896282,85864.8336594912,86184.81409001957,86504.79452054795,86824.77495107632,87144.7553816047,87464.73581213308,87784.71624266145,88104.69667318983,88424.6771037182,88744.65753424658,89064.63796477496,89384.61839530333,89704.59882583171,90024.57925636008,90344.55968688846,90664.54011741684,90984.52054794521,91304.50097847359,91624.48140900195,91944.46183953033,92264.4422700587,92584.42270058708,92904.40313111545,93224.38356164383,93544.3639921722,93864.34442270058,94184.32485322896,94504.30528375733,94824.28571428571,95144.26614481409,95464.24657534246,95784.22700587084,96104.20743639921,96424.18786692759,96744.16829745597,97064.14872798434,97384.12915851272,97704.1095890411,98024.09001956947,98344.07045009785,98664.05088062622,98984.0313111546,99304.01174168297,99623.99217221135,99943.97260273973,100263.9530332681,100583.93346379648,100903.91389432485,101223.89432485323,101543.8747553816,101863.85518590998,102183.83561643836,102503.81604696673,102823.79647749511,103143.77690802349,103463.75733855186,103783.73776908024,104103.71819960861,104423.69863013699,104743.67906066537,105063.65949119374,105383.63992172212,105703.6203522505,106023.60078277887,106343.58121330725,106663.56164383562,106983.542074364,107303.52250489237,107623.50293542075,107943.48336594911,108263.46379647749,108583.44422700586,108903.42465753424,109223.40508806262,109543.38551859099,109863.36594911937,110183.34637964774,110503.32681017612,110823.3072407045,111143.28767123287,111463.26810176125,111783.24853228962,112103.228962818,112423.20939334638,112743.18982387475,113063.17025440313,113383.1506849315,113703.13111545988,114023.11154598826,114343.09197651663,114663.07240704501,114983.05283757338,115303.03326810176,115623.01369863014,115942.99412915851,116262.97455968689,116582.95499021526,116902.93542074364,117222.91585127202,117542.8962818004,117862.87671232877,118182.85714285714,118502.83757338552,118822.8180039139,119142.79843444227,119462.77886497065,119782.75929549903,120102.7397260274,120422.72015655578,120742.70058708415,121062.68101761253,121382.6614481409,121702.64187866928,122022.62230919766,122342.60273972603,122662.58317025441,122982.56360078279,123302.54403131116,123622.52446183954,123942.50489236791,124262.48532289627,124582.46575342465,124902.44618395303,125222.4266144814,125542.40704500978,125862.38747553815,126182.36790606653,126502.3483365949,126822.32876712328,127142.30919765166,127462.28962818003,127782.27005870841,128102.25048923679,128422.23091976516,128742.21135029354,129062.19178082192,129382.17221135029,129702.15264187867,130022.13307240704,130342.11350293542,130662.0939334638,130982.07436399217,131302.05479452055,131622.03522504892,131942.0156555773,132261.99608610568,132581.97651663405,132901.95694716243,133221.9373776908,133541.91780821918,133861.89823874756,134181.87866927593,134501.8590998043,134821.83953033268,135141.81996086106,135461.80039138944,135781.7808219178,136101.7612524462,136421.74168297456,136741.72211350294,137061.70254403132,137381.6829745597,137701.66340508807,138021.64383561644,138341.62426614482,138661.6046966732,138981.58512720157,139301.56555772995,139621.54598825832,139941.5264187867,140261.50684931508,140581.48727984345,140901.46771037183,141221.4481409002,141541.42857142858,141861.40900195696,142181.38943248533,142501.3698630137,142821.35029354208,143141.33072407046,143461.31115459884,143781.2915851272,144101.2720156556,144421.25244618396,144741.23287671234,145061.21330724072,145381.1937377691,145701.17416829747,146021.15459882584,146341.13502935422,146661.1154598826,146981.09589041097,147301.07632093935,147621.05675146772,147941.0371819961,148261.01761252448,148580.99804305285,148900.9784735812,149220.95890410958,149540.93933463795,149860.91976516633,150180.9001956947,150500.88062622308,150820.86105675146,151140.84148727983,151460.8219178082,151780.80234833658,152100.78277886496,152420.76320939334,152740.7436399217,153060.7240704501,153380.70450097846,153700.68493150684,154020.66536203522,154340.6457925636,154660.62622309197,154980.60665362034,155300.58708414872,155620.5675146771,155940.54794520547,156260.52837573385,156580.50880626222,156900.4892367906,157220.46966731898,157540.45009784735,157860.43052837573,158180.4109589041,158500.39138943248,158820.37181996086,159140.35225048923,159460.3326810176,159780.31311154598,160100.29354207436,160420.27397260274,160740.2544031311,161060.2348336595,161380.21526418786,161700.19569471624,162020.17612524462,162340.156555773,162660.13698630137,162980.11741682974,163300.09784735812,163620.0782778865,163940.05870841487,164260.03913894325,164580.01956947162,164900.0],\n",
       "\"brand\":[\"vivo\",\"vivo\",\"vivo\",\"vivo\",\"vivo\",\"vivo\",\"vivo\",\"vivo\",\"vivo\",\"vivo\",\"vivo\",\"vivo\",\"vivo\",\"vivo\",\"vivo\",\"vivo\",\"vivo\",\"vivo\",\"vivo\",\"vivo\",\"vivo\",\"vivo\",\"vivo\",\"vivo\",\"vivo\",\"vivo\",\"vivo\",\"vivo\",\"vivo\",\"vivo\",\"vivo\",\"vivo\",\"vivo\",\"vivo\",\"vivo\",\"vivo\",\"vivo\",\"vivo\",\"vivo\",\"vivo\",\"vivo\",\"vivo\",\"vivo\",\"vivo\",\"vivo\",\"vivo\",\"vivo\",\"vivo\",\"vivo\",\"vivo\",\"vivo\",\"vivo\",\"vivo\",\"vivo\",\"vivo\",\"vivo\",\"vivo\",\"vivo\",\"vivo\",\"vivo\",\"vivo\",\"vivo\",\"vivo\",\"vivo\",\"vivo\",\"vivo\",\"vivo\",\"vivo\",\"vivo\",\"vivo\",\"vivo\",\"vivo\",\"vivo\",\"vivo\",\"vivo\",\"vivo\",\"vivo\",\"vivo\",\"vivo\",\"vivo\",\"vivo\",\"vivo\",\"vivo\",\"vivo\",\"vivo\",\"vivo\",\"vivo\",\"vivo\",\"vivo\",\"vivo\",\"vivo\",\"vivo\",\"vivo\",\"vivo\",\"vivo\",\"vivo\",\"vivo\",\"vivo\",\"vivo\",\"vivo\",\"vivo\",\"vivo\",\"vivo\",\"vivo\",\"vivo\",\"vivo\",\"vivo\",\"vivo\",\"vivo\",\"vivo\",\"vivo\",\"vivo\",\"vivo\",\"vivo\",\"vivo\",\"vivo\",\"vivo\",\"vivo\",\"vivo\",\"vivo\",\"vivo\",\"vivo\",\"vivo\",\"vivo\",\"vivo\",\"vivo\",\"vivo\",\"vivo\",\"vivo\",\"vivo\",\"vivo\",\"vivo\",\"vivo\",\"vivo\",\"vivo\",\"vivo\",\"vivo\",\"vivo\",\"vivo\",\"vivo\",\"vivo\",\"vivo\",\"vivo\",\"vivo\",\"vivo\",\"vivo\",\"vivo\",\"vivo\",\"vivo\",\"vivo\",\"vivo\",\"vivo\",\"vivo\",\"vivo\",\"vivo\",\"vivo\",\"vivo\",\"vivo\",\"vivo\",\"vivo\",\"vivo\",\"vivo\",\"vivo\",\"vivo\",\"vivo\",\"vivo\",\"vivo\",\"vivo\",\"vivo\",\"vivo\",\"vivo\",\"vivo\",\"vivo\",\"vivo\",\"vivo\",\"vivo\",\"vivo\",\"vivo\",\"vivo\",\"vivo\",\"vivo\",\"vivo\",\"vivo\",\"vivo\",\"vivo\",\"vivo\",\"vivo\",\"vivo\",\"vivo\",\"vivo\",\"vivo\",\"vivo\",\"vivo\",\"vivo\",\"vivo\",\"vivo\",\"vivo\",\"vivo\",\"vivo\",\"vivo\",\"vivo\",\"vivo\",\"vivo\",\"vivo\",\"vivo\",\"vivo\",\"vivo\",\"vivo\",\"vivo\",\"vivo\",\"vivo\",\"vivo\",\"vivo\",\"vivo\",\"vivo\",\"vivo\",\"vivo\",\"vivo\",\"vivo\",\"vivo\",\"vivo\",\"vivo\",\"vivo\",\"vivo\",\"vivo\",\"vivo\",\"vivo\",\"vivo\",\"vivo\",\"vivo\",\"vivo\",\"vivo\",\"vivo\",\"vivo\",\"vivo\",\"vivo\",\"vivo\",\"vivo\",\"vivo\",\"vivo\",\"vivo\",\"vivo\",\"vivo\",\"vivo\",\"vivo\",\"vivo\",\"vivo\",\"vivo\",\"vivo\",\"vivo\",\"vivo\",\"vivo\",\"vivo\",\"vivo\",\"vivo\",\"vivo\",\"vivo\",\"vivo\",\"vivo\",\"vivo\",\"vivo\",\"vivo\",\"vivo\",\"vivo\",\"vivo\",\"vivo\",\"vivo\",\"vivo\",\"vivo\",\"vivo\",\"vivo\",\"vivo\",\"vivo\",\"vivo\",\"vivo\",\"vivo\",\"vivo\",\"vivo\",\"vivo\",\"vivo\",\"vivo\",\"vivo\",\"vivo\",\"vivo\",\"vivo\",\"vivo\",\"vivo\",\"vivo\",\"vivo\",\"vivo\",\"vivo\",\"vivo\",\"vivo\",\"vivo\",\"vivo\",\"vivo\",\"vivo\",\"vivo\",\"vivo\",\"vivo\",\"vivo\",\"vivo\",\"vivo\",\"vivo\",\"vivo\",\"vivo\",\"vivo\",\"vivo\",\"vivo\",\"vivo\",\"vivo\",\"vivo\",\"vivo\",\"vivo\",\"vivo\",\"vivo\",\"vivo\",\"vivo\",\"vivo\",\"vivo\",\"vivo\",\"vivo\",\"vivo\",\"vivo\",\"vivo\",\"vivo\",\"vivo\",\"vivo\",\"vivo\",\"vivo\",\"vivo\",\"vivo\",\"vivo\",\"vivo\",\"vivo\",\"vivo\",\"vivo\",\"vivo\",\"vivo\",\"vivo\",\"vivo\",\"vivo\",\"vivo\",\"vivo\",\"vivo\",\"vivo\",\"vivo\",\"vivo\",\"vivo\",\"vivo\",\"vivo\",\"vivo\",\"vivo\",\"vivo\",\"vivo\",\"vivo\",\"vivo\",\"vivo\",\"vivo\",\"vivo\",\"vivo\",\"vivo\",\"vivo\",\"vivo\",\"vivo\",\"vivo\",\"vivo\",\"vivo\",\"vivo\",\"vivo\",\"vivo\",\"vivo\",\"vivo\",\"vivo\",\"vivo\",\"vivo\",\"vivo\",\"vivo\",\"vivo\",\"vivo\",\"vivo\",\"vivo\",\"vivo\",\"vivo\",\"vivo\",\"vivo\",\"vivo\",\"vivo\",\"vivo\",\"vivo\",\"vivo\",\"vivo\",\"vivo\",\"vivo\",\"vivo\",\"vivo\",\"vivo\",\"vivo\",\"vivo\",\"vivo\",\"vivo\",\"vivo\",\"vivo\",\"vivo\",\"vivo\",\"vivo\",\"vivo\",\"vivo\",\"vivo\",\"vivo\",\"vivo\",\"vivo\",\"vivo\",\"vivo\",\"vivo\",\"vivo\",\"vivo\",\"vivo\",\"vivo\",\"vivo\",\"vivo\",\"vivo\",\"vivo\",\"vivo\",\"vivo\",\"vivo\",\"vivo\",\"vivo\",\"vivo\",\"vivo\",\"vivo\",\"vivo\",\"vivo\",\"vivo\",\"vivo\",\"vivo\",\"vivo\",\"vivo\",\"vivo\",\"vivo\",\"vivo\",\"vivo\",\"vivo\",\"vivo\",\"vivo\",\"vivo\",\"vivo\",\"vivo\",\"vivo\",\"vivo\",\"vivo\",\"vivo\",\"vivo\",\"vivo\",\"vivo\",\"vivo\",\"vivo\",\"vivo\",\"vivo\",\"vivo\",\"vivo\",\"vivo\",\"vivo\",\"vivo\",\"vivo\",\"vivo\",\"vivo\",\"vivo\",\"vivo\",\"vivo\",\"vivo\",\"vivo\",\"vivo\",\"vivo\",\"vivo\",\"vivo\",\"vivo\",\"vivo\",\"vivo\",\"vivo\",\"vivo\",\"vivo\",\"vivo\",\"vivo\",\"vivo\",\"vivo\",\"vivo\",\"vivo\",\"vivo\",\"vivo\",\"vivo\",\"vivo\",\"vivo\",\"vivo\",\"vivo\",\"vivo\",\"vivo\",\"vivo\",\"vivo\",\"vivo\",\"vivo\",\"vivo\",\"vivo\",\"vivo\",\"vivo\",\"vivo\",\"vivo\",\"vivo\",\"vivo\",\"vivo\",\"vivo\",\"vivo\",\"vivo\",\"vivo\",\"vivo\",\"realme\",\"realme\",\"realme\",\"realme\",\"realme\",\"realme\",\"realme\",\"realme\",\"realme\",\"realme\",\"realme\",\"realme\",\"realme\",\"realme\",\"realme\",\"realme\",\"realme\",\"realme\",\"realme\",\"realme\",\"realme\",\"realme\",\"realme\",\"realme\",\"realme\",\"realme\",\"realme\",\"realme\",\"realme\",\"realme\",\"realme\",\"realme\",\"realme\",\"realme\",\"realme\",\"realme\",\"realme\",\"realme\",\"realme\",\"realme\",\"realme\",\"realme\",\"realme\",\"realme\",\"realme\",\"realme\",\"realme\",\"realme\",\"realme\",\"realme\",\"realme\",\"realme\",\"realme\",\"realme\",\"realme\",\"realme\",\"realme\",\"realme\",\"realme\",\"realme\",\"realme\",\"realme\",\"realme\",\"realme\",\"realme\",\"realme\",\"realme\",\"realme\",\"realme\",\"realme\",\"realme\",\"realme\",\"realme\",\"realme\",\"realme\",\"realme\",\"realme\",\"realme\",\"realme\",\"realme\",\"realme\",\"realme\",\"realme\",\"realme\",\"realme\",\"realme\",\"realme\",\"realme\",\"realme\",\"realme\",\"realme\",\"realme\",\"realme\",\"realme\",\"realme\",\"realme\",\"realme\",\"realme\",\"realme\",\"realme\",\"realme\",\"realme\",\"realme\",\"realme\",\"realme\",\"realme\",\"realme\",\"realme\",\"realme\",\"realme\",\"realme\",\"realme\",\"realme\",\"realme\",\"realme\",\"realme\",\"realme\",\"realme\",\"realme\",\"realme\",\"realme\",\"realme\",\"realme\",\"realme\",\"realme\",\"realme\",\"realme\",\"realme\",\"realme\",\"realme\",\"realme\",\"realme\",\"realme\",\"realme\",\"realme\",\"realme\",\"realme\",\"realme\",\"realme\",\"realme\",\"realme\",\"realme\",\"realme\",\"realme\",\"realme\",\"realme\",\"realme\",\"realme\",\"realme\",\"realme\",\"realme\",\"realme\",\"realme\",\"realme\",\"realme\",\"realme\",\"realme\",\"realme\",\"realme\",\"realme\",\"realme\",\"realme\",\"realme\",\"realme\",\"realme\",\"realme\",\"realme\",\"realme\",\"realme\",\"realme\",\"realme\",\"realme\",\"realme\",\"realme\",\"realme\",\"realme\",\"realme\",\"realme\",\"realme\",\"realme\",\"realme\",\"realme\",\"realme\",\"realme\",\"realme\",\"realme\",\"realme\",\"realme\",\"realme\",\"realme\",\"realme\",\"realme\",\"realme\",\"realme\",\"realme\",\"realme\",\"realme\",\"realme\",\"realme\",\"realme\",\"realme\",\"realme\",\"realme\",\"realme\",\"realme\",\"realme\",\"realme\",\"realme\",\"realme\",\"realme\",\"realme\",\"realme\",\"realme\",\"realme\",\"realme\",\"realme\",\"realme\",\"realme\",\"realme\",\"realme\",\"realme\",\"realme\",\"realme\",\"realme\",\"realme\",\"realme\",\"realme\",\"realme\",\"realme\",\"realme\",\"realme\",\"realme\",\"realme\",\"realme\",\"realme\",\"realme\",\"realme\",\"realme\",\"realme\",\"realme\",\"realme\",\"realme\",\"realme\",\"realme\",\"realme\",\"realme\",\"realme\",\"realme\",\"realme\",\"realme\",\"realme\",\"realme\",\"realme\",\"realme\",\"realme\",\"realme\",\"realme\",\"realme\",\"realme\",\"realme\",\"realme\",\"realme\",\"realme\",\"realme\",\"realme\",\"realme\",\"realme\",\"realme\",\"realme\",\"realme\",\"realme\",\"realme\",\"realme\",\"realme\",\"realme\",\"realme\",\"realme\",\"realme\",\"realme\",\"realme\",\"realme\",\"realme\",\"realme\",\"realme\",\"realme\",\"realme\",\"realme\",\"realme\",\"realme\",\"realme\",\"realme\",\"realme\",\"realme\",\"realme\",\"realme\",\"realme\",\"realme\",\"realme\",\"realme\",\"realme\",\"realme\",\"realme\",\"realme\",\"realme\",\"realme\",\"realme\",\"realme\",\"realme\",\"realme\",\"realme\",\"realme\",\"realme\",\"realme\",\"realme\",\"realme\",\"realme\",\"realme\",\"realme\",\"realme\",\"realme\",\"realme\",\"realme\",\"realme\",\"realme\",\"realme\",\"realme\",\"realme\",\"realme\",\"realme\",\"realme\",\"realme\",\"realme\",\"realme\",\"realme\",\"realme\",\"realme\",\"realme\",\"realme\",\"realme\",\"realme\",\"realme\",\"realme\",\"realme\",\"realme\",\"realme\",\"realme\",\"realme\",\"realme\",\"realme\",\"realme\",\"realme\",\"realme\",\"realme\",\"realme\",\"realme\",\"realme\",\"realme\",\"realme\",\"realme\",\"realme\",\"realme\",\"realme\",\"realme\",\"realme\",\"realme\",\"realme\",\"realme\",\"realme\",\"realme\",\"realme\",\"realme\",\"realme\",\"realme\",\"realme\",\"realme\",\"realme\",\"realme\",\"realme\",\"realme\",\"realme\",\"realme\",\"realme\",\"realme\",\"realme\",\"realme\",\"realme\",\"realme\",\"realme\",\"realme\",\"realme\",\"realme\",\"realme\",\"realme\",\"realme\",\"realme\",\"realme\",\"realme\",\"realme\",\"realme\",\"realme\",\"realme\",\"realme\",\"realme\",\"realme\",\"realme\",\"realme\",\"realme\",\"realme\",\"realme\",\"realme\",\"realme\",\"realme\",\"realme\",\"realme\",\"realme\",\"realme\",\"realme\",\"realme\",\"realme\",\"realme\",\"realme\",\"realme\",\"realme\",\"realme\",\"realme\",\"realme\",\"realme\",\"realme\",\"realme\",\"realme\",\"realme\",\"realme\",\"realme\",\"realme\",\"realme\",\"realme\",\"realme\",\"realme\",\"realme\",\"realme\",\"realme\",\"realme\",\"realme\",\"realme\",\"realme\",\"realme\",\"realme\",\"realme\",\"realme\",\"realme\",\"realme\",\"realme\",\"realme\",\"realme\",\"realme\",\"realme\",\"realme\",\"realme\",\"realme\",\"realme\",\"realme\",\"realme\",\"realme\",\"realme\",\"realme\",\"realme\",\"realme\",\"realme\",\"realme\",\"realme\",\"realme\",\"realme\",\"realme\",\"realme\",\"realme\",\"realme\",\"realme\",\"realme\",\"realme\",\"realme\",\"realme\",\"realme\",\"realme\",\"realme\",\"realme\",\"realme\",\"realme\",\"realme\",\"realme\",\"realme\",\"realme\",\"realme\",\"realme\",\"realme\",\"realme\",\"realme\",\"realme\",\"realme\",\"realme\",\"realme\",\"realme\",\"realme\",\"realme\",\"realme\",\"realme\",\"realme\",\"realme\",\"realme\",\"realme\",\"realme\",\"realme\",\"realme\",\"realme\",\"realme\",\"realme\",\"Samsung\",\"Samsung\",\"Samsung\",\"Samsung\",\"Samsung\",\"Samsung\",\"Samsung\",\"Samsung\",\"Samsung\",\"Samsung\",\"Samsung\",\"Samsung\",\"Samsung\",\"Samsung\",\"Samsung\",\"Samsung\",\"Samsung\",\"Samsung\",\"Samsung\",\"Samsung\",\"Samsung\",\"Samsung\",\"Samsung\",\"Samsung\",\"Samsung\",\"Samsung\",\"Samsung\",\"Samsung\",\"Samsung\",\"Samsung\",\"Samsung\",\"Samsung\",\"Samsung\",\"Samsung\",\"Samsung\",\"Samsung\",\"Samsung\",\"Samsung\",\"Samsung\",\"Samsung\",\"Samsung\",\"Samsung\",\"Samsung\",\"Samsung\",\"Samsung\",\"Samsung\",\"Samsung\",\"Samsung\",\"Samsung\",\"Samsung\",\"Samsung\",\"Samsung\",\"Samsung\",\"Samsung\",\"Samsung\",\"Samsung\",\"Samsung\",\"Samsung\",\"Samsung\",\"Samsung\",\"Samsung\",\"Samsung\",\"Samsung\",\"Samsung\",\"Samsung\",\"Samsung\",\"Samsung\",\"Samsung\",\"Samsung\",\"Samsung\",\"Samsung\",\"Samsung\",\"Samsung\",\"Samsung\",\"Samsung\",\"Samsung\",\"Samsung\",\"Samsung\",\"Samsung\",\"Samsung\",\"Samsung\",\"Samsung\",\"Samsung\",\"Samsung\",\"Samsung\",\"Samsung\",\"Samsung\",\"Samsung\",\"Samsung\",\"Samsung\",\"Samsung\",\"Samsung\",\"Samsung\",\"Samsung\",\"Samsung\",\"Samsung\",\"Samsung\",\"Samsung\",\"Samsung\",\"Samsung\",\"Samsung\",\"Samsung\",\"Samsung\",\"Samsung\",\"Samsung\",\"Samsung\",\"Samsung\",\"Samsung\",\"Samsung\",\"Samsung\",\"Samsung\",\"Samsung\",\"Samsung\",\"Samsung\",\"Samsung\",\"Samsung\",\"Samsung\",\"Samsung\",\"Samsung\",\"Samsung\",\"Samsung\",\"Samsung\",\"Samsung\",\"Samsung\",\"Samsung\",\"Samsung\",\"Samsung\",\"Samsung\",\"Samsung\",\"Samsung\",\"Samsung\",\"Samsung\",\"Samsung\",\"Samsung\",\"Samsung\",\"Samsung\",\"Samsung\",\"Samsung\",\"Samsung\",\"Samsung\",\"Samsung\",\"Samsung\",\"Samsung\",\"Samsung\",\"Samsung\",\"Samsung\",\"Samsung\",\"Samsung\",\"Samsung\",\"Samsung\",\"Samsung\",\"Samsung\",\"Samsung\",\"Samsung\",\"Samsung\",\"Samsung\",\"Samsung\",\"Samsung\",\"Samsung\",\"Samsung\",\"Samsung\",\"Samsung\",\"Samsung\",\"Samsung\",\"Samsung\",\"Samsung\",\"Samsung\",\"Samsung\",\"Samsung\",\"Samsung\",\"Samsung\",\"Samsung\",\"Samsung\",\"Samsung\",\"Samsung\",\"Samsung\",\"Samsung\",\"Samsung\",\"Samsung\",\"Samsung\",\"Samsung\",\"Samsung\",\"Samsung\",\"Samsung\",\"Samsung\",\"Samsung\",\"Samsung\",\"Samsung\",\"Samsung\",\"Samsung\",\"Samsung\",\"Samsung\",\"Samsung\",\"Samsung\",\"Samsung\",\"Samsung\",\"Samsung\",\"Samsung\",\"Samsung\",\"Samsung\",\"Samsung\",\"Samsung\",\"Samsung\",\"Samsung\",\"Samsung\",\"Samsung\",\"Samsung\",\"Samsung\",\"Samsung\",\"Samsung\",\"Samsung\",\"Samsung\",\"Samsung\",\"Samsung\",\"Samsung\",\"Samsung\",\"Samsung\",\"Samsung\",\"Samsung\",\"Samsung\",\"Samsung\",\"Samsung\",\"Samsung\",\"Samsung\",\"Samsung\",\"Samsung\",\"Samsung\",\"Samsung\",\"Samsung\",\"Samsung\",\"Samsung\",\"Samsung\",\"Samsung\",\"Samsung\",\"Samsung\",\"Samsung\",\"Samsung\",\"Samsung\",\"Samsung\",\"Samsung\",\"Samsung\",\"Samsung\",\"Samsung\",\"Samsung\",\"Samsung\",\"Samsung\",\"Samsung\",\"Samsung\",\"Samsung\",\"Samsung\",\"Samsung\",\"Samsung\",\"Samsung\",\"Samsung\",\"Samsung\",\"Samsung\",\"Samsung\",\"Samsung\",\"Samsung\",\"Samsung\",\"Samsung\",\"Samsung\",\"Samsung\",\"Samsung\",\"Samsung\",\"Samsung\",\"Samsung\",\"Samsung\",\"Samsung\",\"Samsung\",\"Samsung\",\"Samsung\",\"Samsung\",\"Samsung\",\"Samsung\",\"Samsung\",\"Samsung\",\"Samsung\",\"Samsung\",\"Samsung\",\"Samsung\",\"Samsung\",\"Samsung\",\"Samsung\",\"Samsung\",\"Samsung\",\"Samsung\",\"Samsung\",\"Samsung\",\"Samsung\",\"Samsung\",\"Samsung\",\"Samsung\",\"Samsung\",\"Samsung\",\"Samsung\",\"Samsung\",\"Samsung\",\"Samsung\",\"Samsung\",\"Samsung\",\"Samsung\",\"Samsung\",\"Samsung\",\"Samsung\",\"Samsung\",\"Samsung\",\"Samsung\",\"Samsung\",\"Samsung\",\"Samsung\",\"Samsung\",\"Samsung\",\"Samsung\",\"Samsung\",\"Samsung\",\"Samsung\",\"Samsung\",\"Samsung\",\"Samsung\",\"Samsung\",\"Samsung\",\"Samsung\",\"Samsung\",\"Samsung\",\"Samsung\",\"Samsung\",\"Samsung\",\"Samsung\",\"Samsung\",\"Samsung\",\"Samsung\",\"Samsung\",\"Samsung\",\"Samsung\",\"Samsung\",\"Samsung\",\"Samsung\",\"Samsung\",\"Samsung\",\"Samsung\",\"Samsung\",\"Samsung\",\"Samsung\",\"Samsung\",\"Samsung\",\"Samsung\",\"Samsung\",\"Samsung\",\"Samsung\",\"Samsung\",\"Samsung\",\"Samsung\",\"Samsung\",\"Samsung\",\"Samsung\",\"Samsung\",\"Samsung\",\"Samsung\",\"Samsung\",\"Samsung\",\"Samsung\",\"Samsung\",\"Samsung\",\"Samsung\",\"Samsung\",\"Samsung\",\"Samsung\",\"Samsung\",\"Samsung\",\"Samsung\",\"Samsung\",\"Samsung\",\"Samsung\",\"Samsung\",\"Samsung\",\"Samsung\",\"Samsung\",\"Samsung\",\"Samsung\",\"Samsung\",\"Samsung\",\"Samsung\",\"Samsung\",\"Samsung\",\"Samsung\",\"Samsung\",\"Samsung\",\"Samsung\",\"Samsung\",\"Samsung\",\"Samsung\",\"Samsung\",\"Samsung\",\"Samsung\",\"Samsung\",\"Samsung\",\"Samsung\",\"Samsung\",\"Samsung\",\"Samsung\",\"Samsung\",\"Samsung\",\"Samsung\",\"Samsung\",\"Samsung\",\"Samsung\",\"Samsung\",\"Samsung\",\"Samsung\",\"Samsung\",\"Samsung\",\"Samsung\",\"Samsung\",\"Samsung\",\"Samsung\",\"Samsung\",\"Samsung\",\"Samsung\",\"Samsung\",\"Samsung\",\"Samsung\",\"Samsung\",\"Samsung\",\"Samsung\",\"Samsung\",\"Samsung\",\"Samsung\",\"Samsung\",\"Samsung\",\"Samsung\",\"Samsung\",\"Samsung\",\"Samsung\",\"Samsung\",\"Samsung\",\"Samsung\",\"Samsung\",\"Samsung\",\"Samsung\",\"Samsung\",\"Samsung\",\"Samsung\",\"Samsung\",\"Samsung\",\"Samsung\",\"Samsung\",\"Samsung\",\"Samsung\",\"Samsung\",\"Samsung\",\"Samsung\",\"Samsung\",\"Samsung\",\"Samsung\",\"Samsung\",\"Samsung\",\"Samsung\",\"Samsung\",\"Samsung\",\"Samsung\",\"Samsung\",\"Samsung\",\"Samsung\",\"Samsung\",\"Samsung\",\"Samsung\",\"Samsung\",\"Samsung\",\"Samsung\",\"Samsung\",\"Samsung\",\"Samsung\",\"Samsung\",\"Samsung\",\"Samsung\",\"Samsung\",\"Samsung\",\"Samsung\",\"Samsung\",\"Samsung\",\"Samsung\",\"Samsung\",\"Samsung\",\"Samsung\",\"Samsung\",\"Samsung\",\"Samsung\",\"Samsung\",\"Samsung\",\"Samsung\",\"Samsung\",\"Samsung\",\"Samsung\",\"Samsung\",\"Samsung\",\"Samsung\",\"Samsung\",\"Samsung\",\"Samsung\",\"Samsung\",\"Samsung\",\"Samsung\",\"Samsung\",\"Samsung\",\"Samsung\",\"Samsung\",\"Samsung\",\"Samsung\",\"Samsung\",\"Samsung\",\"Samsung\",\"Samsung\",\"Samsung\",\"Samsung\",\"OPPO\",\"OPPO\",\"OPPO\",\"OPPO\",\"OPPO\",\"OPPO\",\"OPPO\",\"OPPO\",\"OPPO\",\"OPPO\",\"OPPO\",\"OPPO\",\"OPPO\",\"OPPO\",\"OPPO\",\"OPPO\",\"OPPO\",\"OPPO\",\"OPPO\",\"OPPO\",\"OPPO\",\"OPPO\",\"OPPO\",\"OPPO\",\"OPPO\",\"OPPO\",\"OPPO\",\"OPPO\",\"OPPO\",\"OPPO\",\"OPPO\",\"OPPO\",\"OPPO\",\"OPPO\",\"OPPO\",\"OPPO\",\"OPPO\",\"OPPO\",\"OPPO\",\"OPPO\",\"OPPO\",\"OPPO\",\"OPPO\",\"OPPO\",\"OPPO\",\"OPPO\",\"OPPO\",\"OPPO\",\"OPPO\",\"OPPO\",\"OPPO\",\"OPPO\",\"OPPO\",\"OPPO\",\"OPPO\",\"OPPO\",\"OPPO\",\"OPPO\",\"OPPO\",\"OPPO\",\"OPPO\",\"OPPO\",\"OPPO\",\"OPPO\",\"OPPO\",\"OPPO\",\"OPPO\",\"OPPO\",\"OPPO\",\"OPPO\",\"OPPO\",\"OPPO\",\"OPPO\",\"OPPO\",\"OPPO\",\"OPPO\",\"OPPO\",\"OPPO\",\"OPPO\",\"OPPO\",\"OPPO\",\"OPPO\",\"OPPO\",\"OPPO\",\"OPPO\",\"OPPO\",\"OPPO\",\"OPPO\",\"OPPO\",\"OPPO\",\"OPPO\",\"OPPO\",\"OPPO\",\"OPPO\",\"OPPO\",\"OPPO\",\"OPPO\",\"OPPO\",\"OPPO\",\"OPPO\",\"OPPO\",\"OPPO\",\"OPPO\",\"OPPO\",\"OPPO\",\"OPPO\",\"OPPO\",\"OPPO\",\"OPPO\",\"OPPO\",\"OPPO\",\"OPPO\",\"OPPO\",\"OPPO\",\"OPPO\",\"OPPO\",\"OPPO\",\"OPPO\",\"OPPO\",\"OPPO\",\"OPPO\",\"OPPO\",\"OPPO\",\"OPPO\",\"OPPO\",\"OPPO\",\"OPPO\",\"OPPO\",\"OPPO\",\"OPPO\",\"OPPO\",\"OPPO\",\"OPPO\",\"OPPO\",\"OPPO\",\"OPPO\",\"OPPO\",\"OPPO\",\"OPPO\",\"OPPO\",\"OPPO\",\"OPPO\",\"OPPO\",\"OPPO\",\"OPPO\",\"OPPO\",\"OPPO\",\"OPPO\",\"OPPO\",\"OPPO\",\"OPPO\",\"OPPO\",\"OPPO\",\"OPPO\",\"OPPO\",\"OPPO\",\"OPPO\",\"OPPO\",\"OPPO\",\"OPPO\",\"OPPO\",\"OPPO\",\"OPPO\",\"OPPO\",\"OPPO\",\"OPPO\",\"OPPO\",\"OPPO\",\"OPPO\",\"OPPO\",\"OPPO\",\"OPPO\",\"OPPO\",\"OPPO\",\"OPPO\",\"OPPO\",\"OPPO\",\"OPPO\",\"OPPO\",\"OPPO\",\"OPPO\",\"OPPO\",\"OPPO\",\"OPPO\",\"OPPO\",\"OPPO\",\"OPPO\",\"OPPO\",\"OPPO\",\"OPPO\",\"OPPO\",\"OPPO\",\"OPPO\",\"OPPO\",\"OPPO\",\"OPPO\",\"OPPO\",\"OPPO\",\"OPPO\",\"OPPO\",\"OPPO\",\"OPPO\",\"OPPO\",\"OPPO\",\"OPPO\",\"OPPO\",\"OPPO\",\"OPPO\",\"OPPO\",\"OPPO\",\"OPPO\",\"OPPO\",\"OPPO\",\"OPPO\",\"OPPO\",\"OPPO\",\"OPPO\",\"OPPO\",\"OPPO\",\"OPPO\",\"OPPO\",\"OPPO\",\"OPPO\",\"OPPO\",\"OPPO\",\"OPPO\",\"OPPO\",\"OPPO\",\"OPPO\",\"OPPO\",\"OPPO\",\"OPPO\",\"OPPO\",\"OPPO\",\"OPPO\",\"OPPO\",\"OPPO\",\"OPPO\",\"OPPO\",\"OPPO\",\"OPPO\",\"OPPO\",\"OPPO\",\"OPPO\",\"OPPO\",\"OPPO\",\"OPPO\",\"OPPO\",\"OPPO\",\"OPPO\",\"OPPO\",\"OPPO\",\"OPPO\",\"OPPO\",\"OPPO\",\"OPPO\",\"OPPO\",\"OPPO\",\"OPPO\",\"OPPO\",\"OPPO\",\"OPPO\",\"OPPO\",\"OPPO\",\"OPPO\",\"OPPO\",\"OPPO\",\"OPPO\",\"OPPO\",\"OPPO\",\"OPPO\",\"OPPO\",\"OPPO\",\"OPPO\",\"OPPO\",\"OPPO\",\"OPPO\",\"OPPO\",\"OPPO\",\"OPPO\",\"OPPO\",\"OPPO\",\"OPPO\",\"OPPO\",\"OPPO\",\"OPPO\",\"OPPO\",\"OPPO\",\"OPPO\",\"OPPO\",\"OPPO\",\"OPPO\",\"OPPO\",\"OPPO\",\"OPPO\",\"OPPO\",\"OPPO\",\"OPPO\",\"OPPO\",\"OPPO\",\"OPPO\",\"OPPO\",\"OPPO\",\"OPPO\",\"OPPO\",\"OPPO\",\"OPPO\",\"OPPO\",\"OPPO\",\"OPPO\",\"OPPO\",\"OPPO\",\"OPPO\",\"OPPO\",\"OPPO\",\"OPPO\",\"OPPO\",\"OPPO\",\"OPPO\",\"OPPO\",\"OPPO\",\"OPPO\",\"OPPO\",\"OPPO\",\"OPPO\",\"OPPO\",\"OPPO\",\"OPPO\",\"OPPO\",\"OPPO\",\"OPPO\",\"OPPO\",\"OPPO\",\"OPPO\",\"OPPO\",\"OPPO\",\"OPPO\",\"OPPO\",\"OPPO\",\"OPPO\",\"OPPO\",\"OPPO\",\"OPPO\",\"OPPO\",\"OPPO\",\"OPPO\",\"OPPO\",\"OPPO\",\"OPPO\",\"OPPO\",\"OPPO\",\"OPPO\",\"OPPO\",\"OPPO\",\"OPPO\",\"OPPO\",\"OPPO\",\"OPPO\",\"OPPO\",\"OPPO\",\"OPPO\",\"OPPO\",\"OPPO\",\"OPPO\",\"OPPO\",\"OPPO\",\"OPPO\",\"OPPO\",\"OPPO\",\"OPPO\",\"OPPO\",\"OPPO\",\"OPPO\",\"OPPO\",\"OPPO\",\"OPPO\",\"OPPO\",\"OPPO\",\"OPPO\",\"OPPO\",\"OPPO\",\"OPPO\",\"OPPO\",\"OPPO\",\"OPPO\",\"OPPO\",\"OPPO\",\"OPPO\",\"OPPO\",\"OPPO\",\"OPPO\",\"OPPO\",\"OPPO\",\"OPPO\",\"OPPO\",\"OPPO\",\"OPPO\",\"OPPO\",\"OPPO\",\"OPPO\",\"OPPO\",\"OPPO\",\"OPPO\",\"OPPO\",\"OPPO\",\"OPPO\",\"OPPO\",\"OPPO\",\"OPPO\",\"OPPO\",\"OPPO\",\"OPPO\",\"OPPO\",\"OPPO\",\"OPPO\",\"OPPO\",\"OPPO\",\"OPPO\",\"OPPO\",\"OPPO\",\"OPPO\",\"OPPO\",\"OPPO\",\"OPPO\",\"OPPO\",\"OPPO\",\"OPPO\",\"OPPO\",\"OPPO\",\"OPPO\",\"OPPO\",\"OPPO\",\"OPPO\",\"OPPO\",\"OPPO\",\"OPPO\",\"OPPO\",\"OPPO\",\"OPPO\",\"OPPO\",\"OPPO\",\"OPPO\",\"OPPO\",\"OPPO\",\"OPPO\",\"OPPO\",\"OPPO\",\"OPPO\",\"OPPO\",\"OPPO\",\"OPPO\",\"OPPO\",\"OPPO\",\"OPPO\",\"OPPO\",\"OPPO\",\"OPPO\",\"OPPO\",\"OPPO\",\"OPPO\",\"OPPO\",\"OPPO\",\"OPPO\",\"OPPO\",\"OPPO\",\"OPPO\",\"OPPO\",\"OPPO\",\"OPPO\",\"OPPO\",\"OPPO\",\"OPPO\",\"OPPO\",\"OPPO\",\"OPPO\",\"OPPO\",\"OPPO\",\"OPPO\",\"OPPO\",\"OPPO\",\"OPPO\",\"OPPO\",\"OPPO\",\"OPPO\",\"OPPO\",\"OPPO\",\"OPPO\",\"OPPO\",\"OPPO\",\"OPPO\",\"OPPO\",\"OPPO\",\"OPPO\",\"OPPO\",\"OPPO\",\"OPPO\",\"OPPO\",\"OPPO\",\"OPPO\",\"OPPO\",\"OPPO\",\"OPPO\",\"OPPO\",\"OPPO\",\"OPPO\",\"OPPO\",\"OPPO\",\"OPPO\",\"OPPO\",\"OPPO\",\"OPPO\",\"OPPO\",\"OPPO\",\"OPPO\",\"OPPO\",\"Apple\",\"Apple\",\"Apple\",\"Apple\",\"Apple\",\"Apple\",\"Apple\",\"Apple\",\"Apple\",\"Apple\",\"Apple\",\"Apple\",\"Apple\",\"Apple\",\"Apple\",\"Apple\",\"Apple\",\"Apple\",\"Apple\",\"Apple\",\"Apple\",\"Apple\",\"Apple\",\"Apple\",\"Apple\",\"Apple\",\"Apple\",\"Apple\",\"Apple\",\"Apple\",\"Apple\",\"Apple\",\"Apple\",\"Apple\",\"Apple\",\"Apple\",\"Apple\",\"Apple\",\"Apple\",\"Apple\",\"Apple\",\"Apple\",\"Apple\",\"Apple\",\"Apple\",\"Apple\",\"Apple\",\"Apple\",\"Apple\",\"Apple\",\"Apple\",\"Apple\",\"Apple\",\"Apple\",\"Apple\",\"Apple\",\"Apple\",\"Apple\",\"Apple\",\"Apple\",\"Apple\",\"Apple\",\"Apple\",\"Apple\",\"Apple\",\"Apple\",\"Apple\",\"Apple\",\"Apple\",\"Apple\",\"Apple\",\"Apple\",\"Apple\",\"Apple\",\"Apple\",\"Apple\",\"Apple\",\"Apple\",\"Apple\",\"Apple\",\"Apple\",\"Apple\",\"Apple\",\"Apple\",\"Apple\",\"Apple\",\"Apple\",\"Apple\",\"Apple\",\"Apple\",\"Apple\",\"Apple\",\"Apple\",\"Apple\",\"Apple\",\"Apple\",\"Apple\",\"Apple\",\"Apple\",\"Apple\",\"Apple\",\"Apple\",\"Apple\",\"Apple\",\"Apple\",\"Apple\",\"Apple\",\"Apple\",\"Apple\",\"Apple\",\"Apple\",\"Apple\",\"Apple\",\"Apple\",\"Apple\",\"Apple\",\"Apple\",\"Apple\",\"Apple\",\"Apple\",\"Apple\",\"Apple\",\"Apple\",\"Apple\",\"Apple\",\"Apple\",\"Apple\",\"Apple\",\"Apple\",\"Apple\",\"Apple\",\"Apple\",\"Apple\",\"Apple\",\"Apple\",\"Apple\",\"Apple\",\"Apple\",\"Apple\",\"Apple\",\"Apple\",\"Apple\",\"Apple\",\"Apple\",\"Apple\",\"Apple\",\"Apple\",\"Apple\",\"Apple\",\"Apple\",\"Apple\",\"Apple\",\"Apple\",\"Apple\",\"Apple\",\"Apple\",\"Apple\",\"Apple\",\"Apple\",\"Apple\",\"Apple\",\"Apple\",\"Apple\",\"Apple\",\"Apple\",\"Apple\",\"Apple\",\"Apple\",\"Apple\",\"Apple\",\"Apple\",\"Apple\",\"Apple\",\"Apple\",\"Apple\",\"Apple\",\"Apple\",\"Apple\",\"Apple\",\"Apple\",\"Apple\",\"Apple\",\"Apple\",\"Apple\",\"Apple\",\"Apple\",\"Apple\",\"Apple\",\"Apple\",\"Apple\",\"Apple\",\"Apple\",\"Apple\",\"Apple\",\"Apple\",\"Apple\",\"Apple\",\"Apple\",\"Apple\",\"Apple\",\"Apple\",\"Apple\",\"Apple\",\"Apple\",\"Apple\",\"Apple\",\"Apple\",\"Apple\",\"Apple\",\"Apple\",\"Apple\",\"Apple\",\"Apple\",\"Apple\",\"Apple\",\"Apple\",\"Apple\",\"Apple\",\"Apple\",\"Apple\",\"Apple\",\"Apple\",\"Apple\",\"Apple\",\"Apple\",\"Apple\",\"Apple\",\"Apple\",\"Apple\",\"Apple\",\"Apple\",\"Apple\",\"Apple\",\"Apple\",\"Apple\",\"Apple\",\"Apple\",\"Apple\",\"Apple\",\"Apple\",\"Apple\",\"Apple\",\"Apple\",\"Apple\",\"Apple\",\"Apple\",\"Apple\",\"Apple\",\"Apple\",\"Apple\",\"Apple\",\"Apple\",\"Apple\",\"Apple\",\"Apple\",\"Apple\",\"Apple\",\"Apple\",\"Apple\",\"Apple\",\"Apple\",\"Apple\",\"Apple\",\"Apple\",\"Apple\",\"Apple\",\"Apple\",\"Apple\",\"Apple\",\"Apple\",\"Apple\",\"Apple\",\"Apple\",\"Apple\",\"Apple\",\"Apple\",\"Apple\",\"Apple\",\"Apple\",\"Apple\",\"Apple\",\"Apple\",\"Apple\",\"Apple\",\"Apple\",\"Apple\",\"Apple\",\"Apple\",\"Apple\",\"Apple\",\"Apple\",\"Apple\",\"Apple\",\"Apple\",\"Apple\",\"Apple\",\"Apple\",\"Apple\",\"Apple\",\"Apple\",\"Apple\",\"Apple\",\"Apple\",\"Apple\",\"Apple\",\"Apple\",\"Apple\",\"Apple\",\"Apple\",\"Apple\",\"Apple\",\"Apple\",\"Apple\",\"Apple\",\"Apple\",\"Apple\",\"Apple\",\"Apple\",\"Apple\",\"Apple\",\"Apple\",\"Apple\",\"Apple\",\"Apple\",\"Apple\",\"Apple\",\"Apple\",\"Apple\",\"Apple\",\"Apple\",\"Apple\",\"Apple\",\"Apple\",\"Apple\",\"Apple\",\"Apple\",\"Apple\",\"Apple\",\"Apple\",\"Apple\",\"Apple\",\"Apple\",\"Apple\",\"Apple\",\"Apple\",\"Apple\",\"Apple\",\"Apple\",\"Apple\",\"Apple\",\"Apple\",\"Apple\",\"Apple\",\"Apple\",\"Apple\",\"Apple\",\"Apple\",\"Apple\",\"Apple\",\"Apple\",\"Apple\",\"Apple\",\"Apple\",\"Apple\",\"Apple\",\"Apple\",\"Apple\",\"Apple\",\"Apple\",\"Apple\",\"Apple\",\"Apple\",\"Apple\",\"Apple\",\"Apple\",\"Apple\",\"Apple\",\"Apple\",\"Apple\",\"Apple\",\"Apple\",\"Apple\",\"Apple\",\"Apple\",\"Apple\",\"Apple\",\"Apple\",\"Apple\",\"Apple\",\"Apple\",\"Apple\",\"Apple\",\"Apple\",\"Apple\",\"Apple\",\"Apple\",\"Apple\",\"Apple\",\"Apple\",\"Apple\",\"Apple\",\"Apple\",\"Apple\",\"Apple\",\"Apple\",\"Apple\",\"Apple\",\"Apple\",\"Apple\",\"Apple\",\"Apple\",\"Apple\",\"Apple\",\"Apple\",\"Apple\",\"Apple\",\"Apple\",\"Apple\",\"Apple\",\"Apple\",\"Apple\",\"Apple\",\"Apple\",\"Apple\",\"Apple\",\"Apple\",\"Apple\",\"Apple\",\"Apple\",\"Apple\",\"Apple\",\"Apple\",\"Apple\",\"Apple\",\"Apple\",\"Apple\",\"Apple\",\"Apple\",\"Apple\",\"Apple\",\"Apple\",\"Apple\",\"Apple\",\"Apple\",\"Apple\",\"Apple\",\"Apple\",\"Apple\",\"Apple\",\"Apple\",\"Apple\",\"Apple\",\"Apple\",\"Apple\",\"Apple\",\"Apple\",\"Apple\",\"Apple\",\"Apple\",\"Apple\",\"Apple\",\"Apple\",\"Apple\",\"Apple\",\"Apple\",\"Apple\",\"Apple\",\"Apple\",\"Apple\",\"Apple\",\"Apple\",\"Apple\",\"Apple\",\"Apple\",\"Apple\",\"Apple\",\"Apple\",\"Apple\",\"Apple\",\"Apple\",\"Apple\",\"Apple\",\"Apple\",\"Apple\",\"Apple\",\"Apple\",\"Apple\",\"Apple\",\"Apple\",\"Apple\",\"Apple\",\"Apple\",\"Apple\",\"Apple\",\"Apple\",\"Apple\",\"Apple\",\"Apple\",\"Apple\",\"Apple\",\"Apple\",\"Apple\",\"Apple\",\"Apple\",\"Apple\",\"Apple\",\"Apple\",\"Apple\",\"Apple\",\"Apple\",\"Apple\",\"Apple\",\"Apple\",\"Apple\",\"Apple\"]\n",
       "}\n",
       "}],\n",
       "\"metainfo_list\":[],\n",
       "\"spec_id\":\"5\"\n",
       "};\n",
       "               window.letsPlotCall(function() {\n",
       "       \n",
       "               var toolbar = null;\n",
       "               var plotContainer = containerDiv;               \n",
       "               \n",
       "                   var options = {\n",
       "                       sizing: {\n",
       "                           width_mode: \"min\",\n",
       "                           height_mode: \"scaled\",\n",
       "                           width: width\n",
       "                       }\n",
       "                   };\n",
       "                   var fig = LetsPlot.buildPlotFromProcessedSpecs(plotSpec, -1, -1, plotContainer, options);\n",
       "                   if (toolbar) {\n",
       "                     toolbar.bind(fig);\n",
       "                   }\n",
       "               });\n",
       "               \n",
       "               break;\n",
       "           }\n",
       "       }\n",
       "   });\n",
       "   \n",
       "   observer.observe(containerDiv);\n",
       "   \n",
       "   // ----------\n",
       "   })();\n",
       "   \n",
       "   </script>"
      ],
      "text/plain": [
       "<lets_plot.plot.core.PlotSpec at 0x16efaed3fb0>"
      ]
     },
     "execution_count": 24,
     "metadata": {},
     "output_type": "execute_result"
    }
   ],
   "source": [
    "ggplot(df_combined, aes(x=\"price\", fill=\"brand\")) + \\\n",
    "    geom_density(alpha=0.6) + \\\n",
    "    ggtitle(\"Density Plot of Mobile Prices\") + \\\n",
    "    xlab(\"Price (INR)\") + \\\n",
    "    ylab(\"Density\")\n"
   ]
  },
  {
   "cell_type": "code",
   "execution_count": 25,
   "metadata": {},
   "outputs": [
    {
     "data": {
      "text/html": [
       "   <div id=\"soooP8\"></div>\n",
       "   <script type=\"text/javascript\" data-lets-plot-script=\"plot\">\n",
       "   \n",
       "   (function() {\n",
       "   // ----------\n",
       "   \n",
       "   var containerDiv = document.getElementById(\"soooP8\");\n",
       "   var observer = new ResizeObserver(function(entries) {\n",
       "       for (let entry of entries) {\n",
       "           var width = containerDiv.clientWidth\n",
       "           if (entry.contentBoxSize && width > 0) {\n",
       "           \n",
       "               // Render plot\n",
       "               if (observer) {\n",
       "                   observer.disconnect();\n",
       "                   observer = null;\n",
       "               }\n",
       "\n",
       "               var plotSpec={\n",
       "\"data\":{\n",
       "},\n",
       "\"mapping\":{\n",
       "\"x\":\"price\",\n",
       "\"fill\":\"brand\",\n",
       "\"color\":\"brand\"\n",
       "},\n",
       "\"data_meta\":{\n",
       "\"series_annotations\":[{\n",
       "\"type\":\"int\",\n",
       "\"column\":\"brand_id\"\n",
       "},{\n",
       "\"type\":\"str\",\n",
       "\"column\":\"brand\"\n",
       "},{\n",
       "\"type\":\"int\",\n",
       "\"column\":\"product_id\"\n",
       "},{\n",
       "\"type\":\"str\",\n",
       "\"column\":\"product_name\"\n",
       "},{\n",
       "\"type\":\"str\",\n",
       "\"column\":\"battery\"\n",
       "},{\n",
       "\"type\":\"str\",\n",
       "\"column\":\"display\"\n",
       "},{\n",
       "\"type\":\"str\",\n",
       "\"column\":\"camera\"\n",
       "},{\n",
       "\"type\":\"str\",\n",
       "\"column\":\"processor\"\n",
       "},{\n",
       "\"type\":\"float\",\n",
       "\"column\":\"ram\"\n",
       "},{\n",
       "\"type\":\"float\",\n",
       "\"column\":\"rom\"\n",
       "},{\n",
       "\"type\":\"str\",\n",
       "\"column\":\"type\"\n",
       "},{\n",
       "\"type\":\"float\",\n",
       "\"column\":\"ratings\"\n",
       "},{\n",
       "\"type\":\"float\",\n",
       "\"column\":\"reviews\"\n",
       "},{\n",
       "\"type\":\"float\",\n",
       "\"column\":\"price\"\n",
       "},{\n",
       "\"type\":\"float\",\n",
       "\"column\":\"discount\"\n",
       "},{\n",
       "\"type\":\"float\",\n",
       "\"column\":\"actual_price\"\n",
       "}]\n",
       "},\n",
       "\"facet\":{\n",
       "\"name\":\"wrap\",\n",
       "\"facets\":\"brand\",\n",
       "\"order\":1.0,\n",
       "\"dir\":\"h\"\n",
       "},\n",
       "\"ggtitle\":{\n",
       "\"text\":\"Price Density by Brand\"\n",
       "},\n",
       "\"guides\":{\n",
       "\"x\":{\n",
       "\"title\":\"Price (INR)\"\n",
       "},\n",
       "\"y\":{\n",
       "\"title\":\"Density\"\n",
       "}\n",
       "},\n",
       "\"kind\":\"plot\",\n",
       "\"scales\":[],\n",
       "\"layers\":[{\n",
       "\"geom\":\"density\",\n",
       "\"mapping\":{\n",
       "},\n",
       "\"data_meta\":{\n",
       "\"series_annotations\":[{\n",
       "\"column\":\"brand\",\n",
       "\"factor_levels\":[\"vivo\",\"realme\",\"Samsung\",\"OPPO\",\"Apple\"]\n",
       "}]\n",
       "},\n",
       "\"alpha\":0.5,\n",
       "\"size\":1.0,\n",
       "\"data\":{\n",
       "\"..density..\":[4.612637611269896E-8,5.051618155534868E-8,5.5265033102299093E-8,6.039633375738622E-8,6.59344627180191E-8,7.190476962030047E-8,7.833356443789259E-8,8.524810285220595E-8,9.267656693866494E-8,1.0064804104485326E-7,1.091924827712378E-7,1.1834068900389079E-7,1.281242569910406E-7,1.3857554050127358E-7,1.497276011505493E-7,1.616141550376398E-7,1.7426951488284033E-7,1.8772852792246293E-7,2.0202650987127697E-7,2.1719917532623676E-7,2.3328256504698123E-7,2.5031297061114216E-7,2.6832685700478187E-7,2.8736078376965647E-7,3.074513253887067E-7,3.286349916484846E-7,3.50948148771314E-7,3.7442694216006643E-7,3.9910722164366654E-7,4.250244701509974E-7,4.5221373677389504E-7,4.807095752056214E-7,5.105459885587155E-7,5.417563815747165E-7,5.74373521237153E-7,6.084295067877205E-7,6.439557501230701E-7,6.809829675155574E-7,7.195411835551288E-7,7.596597481508949E-7,8.013673673594694E-7,8.44692148722729E-7,8.896616617000862E-7,9.363030136697982E-7,9.846429418502765E-7,1.034707921356277E-6,1.0865242894565067E-6,1.1401183859392536E-6,1.1955167093218325E-6,1.2527460884587566E-6,1.3118338689137073E-6,1.3728081132626252E-6,1.4356978142910494E-6,1.5005331198394667E-6,1.5673455678377196E-6,1.6361683298549477E-6,1.7070364612772283E-6,1.7799871560127937E-6,1.855060003416657E-6,1.932297244924936E-6,2.011744027696082E-6,2.0934486523744754E-6,2.177462811923247E-6,2.263841818320669E-6,2.3526448137801114E-6,2.4439349630400637E-6,2.537779623180377E-6,2.6342504873560054E-6,2.7334236988025414E-6,2.835379931460874E-6,2.9402044335930854E-6,3.047987030820838E-6,3.158822085111774E-6,3.272808406370943E-6,3.3900491134641604E-6,3.5106514417089234E-6,3.634726494117221E-6,3.762388933963487E-6,3.893756616579444E-6,4.028950158645927E-6,4.168092443658728E-6,4.311308062689429E-6,4.458722690042228E-6,4.6104623939205524E-6,4.766652882761225E-6,4.927418688465187E-6,5.092882288348891E-6,5.2631631682558345E-6,5.438376829897891E-6,5.618633746137329E-6,5.8040382685662485E-6,5.994687492385809E-6,6.19067008422672E-6,6.392065079178308E-6,6.598940653900752E-6,6.811352883275416E-6,7.029344488596652E-6,7.252943585816478E-6,7.4821624428158605E-6,7.716996255084897E-6,7.957421949543861E-6,8.203397026520424E-6,8.45485845011049E-6,8.711721597284772E-6,8.973879276156627E-6,9.241200823792956E-6,9.513531293827301E-6,9.790690743918414E-6,1.0072473632786887E-5,1.0358648336156474E-5,1.064895679042363E-5,1.094311427228118E-5,1.1240809321830167E-5,1.1541703815931137E-5,1.1845433197676406E-5,1.215160686691226E-5,1.2459808735711467E-5,1.2769597951597468E-5,1.3080509790161044E-5,1.3392056717496127E-5,1.370372962162325E-5,1.401499921077718E-5,1.4325317575120638E-5,1.4634119907119728E-5,1.4940826374490576E-5,1.5244844138313459E-5,1.554556950762184E-5,1.5842390220522956E-5,1.61346878407044E-5,1.6421840257041542E-5,1.670322427295486E-5,1.6978218271184044E-5,1.724620493876083E-5,1.7506574036182068E-5,1.7758725194119025E-5,1.8002070720456206E-5,1.8236038400039722E-5,1.8460074269238416E-5,1.8673645347282617E-5,1.8876242306352314E-5,1.8876242306352314E-5,1.9067382062537327E-5,1.9246610270089043E-5,1.941350370182502E-5,1.9567672499131985E-5,1.9708762275734662E-5,1.98364560602542E-5,1.9950476063562527E-5,2.0050585258040178E-5,2.0136588757057306E-5,2.020833498430867E-5,2.026571662403441E-5,2.030867134463542E-5,2.0337182289734216E-5,2.0351278332325177E-5,2.0351034089287896E-5,2.033656969519125E-5,2.0308050335978356E-5,2.0265685544780086E-5,2.0209728263743238E-5,2.0140473677364958E-5,2.005825782438404E-5,1.9963455996779712E-5,1.985648093585717E-5,1.97377808367454E-5,1.960783717388567E-5,1.946716236123963E-5,1.931629726198596E-5,1.9155808563395758E-5,1.898628603337464E-5,1.8808339675828192E-5,1.8622596802542914E-5,1.842969903967657E-5,1.823029928721658E-5,1.8025058649894597E-5,1.7814643358040025E-5,1.7599721696717987E-5,1.7380960961231E-5,1.7159024456673533E-5,1.693456855871985E-5,1.693456855871985E-5,1.6708239852203948E-5,1.6480672363324188E-5,1.625248490048018E-5,1.6024278517836538E-5,1.579663411471287E-5,1.557011018283385E-5,1.534524071234456E-5,1.5122533266315776E-5,1.4902467232239425E-5,1.4685492257757464E-5,1.4472026876586468E-5,1.4262457329304074E-5,1.4057136582363811E-5,1.3856383547407236E-5,1.3660482501658292E-5,1.346968270892109E-5,1.328419823946704E-5,1.3104207985897746E-5,1.2929855870913865E-5,1.2761251241812479E-5,1.2598469445483553E-5,1.244155257668446E-5,1.2290510391445454E-5,1.2145321376602822E-5,1.2005933965674084E-5,1.1872267890584183E-5,1.1744215658126692E-5,1.1621644139500691E-5,1.1504396260805705E-5,1.1392292782003735E-5,1.1285134151570784E-5,1.1182702423860668E-5,1.1084763226090757E-5,1.099106776183259E-5,1.09013548379487E-5,1.0815352902059448E-5,1.0732782077846935E-5,1.0653356185806968E-5,1.0576784737439062E-5,1.0502774891317242E-5,1.0431033360006266E-5,1.0361268257374355E-5,1.0293190876500564E-5,1.022651738907682E-5,1.0160970457956314E-5,1.0096280755294917E-5,1.0032188379565258E-5,9.968444165586233E-6,9.90481088259875E-6,9.841064316322675E-6,9.776994231844822E-6,9.712405215104506E-6,9.647117391655522E-6,9.580967022283218E-6,9.513806975935992E-6,9.445507081284374E-6,9.375954359041607E-6,9.305053137960083E-6,9.232725058152653E-6,9.158908966070397E-6,9.083560706094078E-6,9.006652814260475E-6,8.928174120143213E-6,8.848129263337155E-6,8.766538131353718E-6,8.766538131353718E-6,8.683435226019481E-6,8.598868965681727E-6,8.512900930661496E-6,8.425605059458704E-6,8.337066803205925E-6,8.247382245790187E-6,8.15665719691895E-6,8.065006265200842E-6,7.97255191804867E-6,7.879423534896833E-6,7.78575645986326E-6,7.691691059583726E-6,7.59737179151058E-6,7.5029462875053336E-6,7.408564457072367E-6,7.314377614086708E-6,7.220537630369054E-6,7.127196118963721E-6,7.034503649486199E-6,6.9426089974334816E-6,6.851658428898099E-6,6.761795021701635E-6,6.673158023570259E-6,6.585882247617852E-6,6.500097505085381E-6,6.415928075010887E-6,6.333492210275108E-6,6.252901679284228E-6,6.174261342414373E-6,6.097668762251298E-6,6.023213846612318E-6,5.950978523333773E-6,5.881036445843277E-6,5.813452728608539E-6,5.748283711659059E-6,5.685576753509587E-6,5.625370051969131E-6,5.567692492491587E-6,5.512563523907941E-6,5.459993061569468E-6,5.409981418121005E-6,5.362519262306779E-6,5.317587606383504E-6,5.275157822870491E-6,5.2351916914998755E-6,5.197641477336736E-6,5.162450041115206E-6,5.12955098287891E-6,5.098868820019689E-6,5.070319200775276E-6,5.043809154173248E-6,5.019237377294539E-6,4.996494560575324E-6,4.9754637516721185E-6,4.956020758183396E-6,4.938034589254248E-6,4.9213679357918795E-6,4.905877688692892E-6,4.891415494132769E-6,4.8778283445985385E-6,4.864959203962934E-6,4.852647664507591E-6,4.840730633410574E-6,4.829043045825181E-6,4.8174186012991575E-6,4.8056905199219196E-6,4.793692314248239E-6,4.781258572735548E-6,4.768225750154218E-6,4.754432960190374E-6,4.739722765263779E-6,4.7239419584327345E-6,4.706942332156972E-6,4.688581428640887E-6,4.668723266484749E-6,4.647239038432059E-6,4.624007775117043E-6,4.5989169698872265E-6,4.571863160000663E-6,4.542752459773909E-6,4.511501041582521E-6,4.478035560987445E-6,4.4422935226742E-6,4.404223584342759E-6,4.363785796169564E-6,4.320951773973729E-6,4.2757048047515415E-6,4.22803988379084E-6,4.17796368313357E-6,4.125494451714674E-6,4.070661848062025E-6,4.01350670698957E-6,3.95408074224776E-6,3.892446187606495E-6,3.828675379330477E-6,3.76285028346002E-6,3.6950619717277625E-6,3.6254100503187795E-6,3.5540020460153446E-6,3.4809527545546026E-6,3.406383556265647E-6,3.3304217042400744E-6,3.253199590426051E-6,3.1748539951196137E-6,3.095525325358717E-6,3.01535684770606E-6,2.934493920837303E-6,2.8530832332339347E-6,2.77127205111698E-6,2.68920748155199E-6,2.6070357554104234E-6,2.5249015345913163E-6,2.4429472475940444E-6,2.3613124571919384E-6,2.2801332635921633E-6,2.1995417460838485E-6,2.1196654457786064E-6,2.040626891639837E-6,1.962543171584017E-6,1.8855255500229585E-6,1.8096791328049531E-6,1.7351025801089227E-6,1.6618878674528038E-6,1.5901200945991065E-6,1.5198773417799042E-6,1.4512305723234752E-6,1.384243580447823E-6,1.3189729826945067E-6,1.2554682512114688E-6,1.1937717868571258E-6,1.1339190298909346E-6,1.075938605838648E-6,1.0198525039736876E-6,9.656762857394915E-7,9.13419320350905E-7,8.630850447549095E-7,8.146712451013024E-7,7.681703568709873E-7,7.235697808319253E-7,6.808522120387292E-7,6.39995979159594E-7,6.009753915016693E-7,5.637610912110657E-7,5.283204082441606E-7,4.946177158406403E-7,4.6261478437340524E-7,4.322711316039289E-7,4.035443675316433E-7,3.7639053219032075E-7,3.507644249111306E-7,3.2661992373912517E-7,3.0391029385549695E-7,2.825884840203148E-7,2.626074102080184E-7,2.4392022575928743E-7,2.2648057751673915E-7,2.1024284754712567E-7,1.9516238017836114E-7,1.8119569419503617E-7,1.6830068014044724E-7,1.5643678276616112E-7,1.455651687514343E-7,1.3564887988431276E-7,1.266529719539459E-7,1.1854463964973055E-7,1.1129332779765014E-7,1.0487082928799908E-7,9.925137006212571E-8,9.441168152951139E-8,9.033106078117137E-8,8.699141895181382E-8,8.437731806232289E-8,8.247599664687815E-8,8.127738443638972E-8,8.077410633294844E-8,8.096147586973484E-8,8.183747830838235E-8,8.340274348224646E-8,8.566050845048451E-8,8.861656998538391E-8,9.227922687504948E-8,9.665921198640484E-8,1.017696140004688E-7,1.0762578870397521E-7,1.1424525969949728E-7,1.2164760838113064E-7,1.2985435301522383E-7,1.388888167662769E-7,1.4877598451752152E-7,1.5954234835432148E-7,1.712157416067425E-7,1.838251613856908E-7,1.9740057959503492E-7,2.1197274246011484E-7,2.2757295868088185E-7,2.4423287639534857E-7,2.6198424922568026E-7,2.8085869177459157E-7,3.0088742504308255E-7,3.2210101235115114E-7,3.445290864600366E-7,3.682000687167265E-7,3.931408811677202E-7,4.1937665271809713E-7,4.46930420542388E-7,4.758228280840946E-7,5.060718211093844E-7,5.376923434058206E-7,5.706960338373146E-7,6.050909265800303E-7,6.408811564689745E-7,6.780666714797319E-7,7.16642954452483E-7,7.566007562343908E-7,7.979258424700299E-7,8.405987563061965E-7,8.845945992957814E-7,9.298828327840464E-7,9.76427102038579E-7,1.024185085340238E-6,1.0731083701861493E-6,1.1231423586661955E-6,1.1742262039616464E-6,1.2262927797782077E-6,1.2792686843661494E-6,1.333074280597747E-6,1.3876237733677762E-6,1.4428253253572586E-6,1.4985812119553992E-6,1.554788015871237E-6,1.611336861686829E-6,1.668113690309926E-6,1.7249995729784153E-6,1.781871064153927E-6,1.8386005923206726E-6,1.8950568873808466E-6,1.951105443012806E-6,2.0066090120360655E-6,2.06142813251119E-6,2.115421681996261E-6,2.1684474570881706E-6,2.220362775099842E-6,2.271025094466804E-6,2.32029265024162E-6,2.3680251008252625E-6,2.41408418190362E-6,2.4583343634072713E-6,2.5006435051958255E-6,2.5408835070864335E-6,2.57893094880105E-6,2.6146677154000575E-6,2.6479816038015796E-6,2.6787669060568792E-6,2.706924965162463E-6,2.7323646993385826E-6,2.755003090890894E-6,2.7747656359957042E-6,2.791586752007964E-6,2.805410139182645E-6,2.8161890940220655E-6,2.8238867718110655E-6,2.8284763962755932E-6,2.8299414146947223E-6,2.8282755972076056E-6,2.823483079481484E-6,2.815578348340415E-6,2.80458617039264E-6,2.790541464133235E-6,2.9639451164043455E-6,3.286544110225123E-6,3.6348094344683457E-6,4.009620004630382E-6,4.411749610962021E-6,4.8418509749595515E-6,5.300440050594191E-6,5.787880821751321E-6,6.3043708553748205E-6,6.849927872978339E-6,7.4243776011452145E-6,8.02734315416399E-6,8.658236188947638E-6,9.316250053911215E-6,1.000035512973949E-5,1.0709296531311113E-5,1.1441594306950602E-5,1.2195546234279675E-5,1.2969233271971854E-5,1.3760527684515463E-5,1.4567103813568154E-5,1.5386451425591754E-5,1.621589152216223E-5,1.705259445761285E-5,1.789360016940766E-5,1.8735840290707844E-5,1.957616188274317E-5,2.041135249747822E-5,2.1238166259187857E-5,2.2053350637294204E-5,2.28536735724046E-5,2.3635950612993914E-5,2.4397071721539186E-5,2.5134027415931904E-5,2.5843933924350452E-5,2.6524057049045567E-5,2.717183445617414E-5,2.7784896134345126E-5,2.8361082793310065E-5,2.8898462005625035E-5,2.9395341927499842E-5,2.98502824698462E-5,3.0262103826158065E-5,3.062989229978734E-5,3.095300340892496E-5,3.095300340892496E-5,3.123106228274483E-5,3.14639613963149E-5,3.165185572470013E-5,3.179515542785938E-5,3.1894516207196966E-5,3.1950827501705285E-5,3.1965198716278495E-5,3.193894369672803E-5,3.1873563685045565E-5,3.1770729004270086E-5,3.163225973466672E-5,3.1460105651556074E-5,3.125632569979935E-5,3.102306728042305E-5,3.076254562098161E-5,3.0477023492875786E-5,3.0168791525926318E-5,2.9840149353082492E-5,2.9493387796377303E-5,2.91307722793919E-5,2.8754527621956304E-5,2.836682434012968E-5,2.7969766539314556E-5,2.7565381451462937E-5,2.7155610629596336E-5,2.674230277526903E-5,2.674230277526903E-5,2.6327208138170795E-5,2.5911974392852503E-5,2.549814386659708E-5,2.508715196575098E-5,2.4680326626270695E-5,2.427888859861258E-5,2.3883952368008506E-5,2.3496527509052176E-5,2.3117520278570808E-5,2.2747735262940997E-5,2.238787691504209E-5,2.2038550841396034E-5,2.1700264730946415E-5,2.1373428852389253E-5,2.1058356085794376E-5,2.075526149510069E-5,2.046426148946598E-5,2.0185372661866715E-5,1.9918510431229345E-5,1.966348764821725E-5,1.9420013353186894E-5,1.91876918964952E-5,1.896602264522127E-5,1.8754400505639914E-5,1.8552117486904877E-5,1.8358365518138336E-5,1.81722407085669E-5,1.7992749208919113E-5,1.7818814792755484E-5,1.7649288229795777E-5,1.74829584709816E-5,1.7318565608543738E-5,1.7154815515503847E-5,1.6990396009736578E-5,1.6823994329928278E-5,1.6654315656474544E-5,1.6480102361478795E-5,1.6300153630337242E-5,1.6113345064509796E-5,1.6113345064509796E-5,1.59186478523221E-5,1.571514708305028E-5,1.5502058779795753E-5,1.527874523907543E-5,1.504472828955441E-5,1.4799700118466538E-5,1.4543531361152318E-5,1.4276276205587561E-5,1.3998174328258596E-5,1.3709649548468034E-5,1.3411305163129494E-5,1.3103916001186922E-5,1.2788417313758088E-5,1.2465890690742014E-5,1.2137547264807924E-5,1.1804708527408445E-5,1.1468785136952603E-5,1.1131254145019563E-5,1.0793635101292705E-5,1.0457465520891885E-5,1.0124276208496503E-5,9.795566931977272E-6,9.47278292445774E-6,9.157292668429883E-6,8.85036737969817E-6,8.553162563755849E-6,8.266701964174015E-6,7.991864163356405E-6,7.72937203235117E-6,7.479785160144573E-6,7.243495325818441E-6,7.020725010904212E-6,6.8115288858672436E-6,6.615798145406745E-6,6.433267513459679E-6,6.263524691528913E-6,6.106021984045916E-6,5.960089802501055E-6,5.824951726348034E-6,5.699740783282859E-6,5.583516604250534E-6,5.475283109073949E-6,5.374006386378702E-6,5.2786324458065384E-6,5.188104540555481E-6,5.101379783166369E-6,5.0174448062563364E-6,4.935330251632528E-6,4.854123904971482E-6,4.772982328132136E-6,4.691140876355578E-6,4.6079220223444654E-6,4.522741942850093E-6,4.435115355363158E-6,4.344658622340907E-6,4.2510911677413805E-6,4.154235275200031E-6,4.054014358785923E-6,3.9504498158015145E-6,3.843656586497157E-6,3.733837557871898E-6,3.6212769579877913E-6,3.5063328935366534E-6,3.38942918689986E-6,3.2710466697919477E-6,3.1517140889570576E-6,3.0319987754890153E-6,2.912497223380114E-6,2.7938257150905284E-6,2.6766111224992135E-6,2.5614820007860757E-6,2.4490600808488384E-6,2.3399522530264308E-6,2.234743121437669E-6,2.133988194404069E-6,2.038207762461631E-6,1.947881501625665E-6,1.8634438260928663E-6,1.7852800016698367E-6,1.7137230191125166E-6,1.64905121542936E-6,1.5914866211982118E-6,1.5411940031981559E-6,1.4982805642549664E-6,1.4627962561987912E-6,1.4347346572556621E-6,1.4140343620245759E-6,1.4005808303786018E-6,1.3942086410887469E-6,1.3947040965910642E-6,1.4018081269640937E-6,1.415219443698539E-6,1.4345978970536662E-6,1.4595679945262206E-6,1.4897225420264282E-6,1.5246263735841713E-6,1.5638201396278537E-6,1.60682412793414E-6,1.6531420951023968E-6,1.70226508974893E-6,1.7536752514535181E-6,1.8068495717611181E-6,1.8612636052092467E-6,1.916395119407714E-6,1.971727673659682E-6,2.0267541155230203E-6,2.0809799841320697E-6,2.1339268081137737E-6,2.1851352846350152E-6,2.2341683246167734E-6,2.2806139475583837E-6,2.3240880078469903E-6,2.3642367329959697E-6,2.400739053068549E-6,2.433308699696208E-6,2.461696052680121E-6,2.4856897122373557E-6,2.505117775574144E-6,2.5198487976706712E-6,2.5297924179612988E-6,2.5348996369882414E-6,2.535162730075259E-6,2.530614788573922E-6,2.521328883226865E-6,2.5074168486054478E-6,2.4890276923376547E-6,2.46634563786159E-6,2.439587814629287E-6,2.4090016149489016E-6,2.3748617418918418E-6,2.3374669778048393E-6,2.297136707855151E-6,2.2542072376012086E-6,2.2090279477242612E-6,2.1619573326856745E-6,2.113358973100227E-6,2.063597493954162E-6,2.013034562370569E-6,1.962024979364266E-6,1.9109129198741784E-6,1.860028374264822E-6,1.809683842415689E-6,1.7601713284498563E-6,1.711759680091568E-6,1.6646923116084526E-6,1.6191853433324022E-6,1.5754261839339777E-6,1.533572574044859E-6,1.4937521016044681E-6,1.4560621905997957E-6,1.4205705558458016E-6,1.3873161073135349E-6,1.356310278468487E-6,1.327538744359701E-6,1.3009634870347319E-6,1.2765251584802306E-6,1.2541456849283493E-6,1.2337310512346144E-6,1.215174200308314E-6,1.1983579804141926E-6,1.1831580726770172E-6,1.169445832374919E-6,1.1570909806188052E-6,1.1459640877448157E-6,1.1359387961000925E-6,1.1268937377294821E-6,1.1187141115703E-6,1.1112928948847705E-6,1.1045316745158633E-6,1.0983410948209847E-6,1.0926409304774159E-6,1.0873598034118284E-6,1.0824345735346137E-6,1.077809442424231E-6,1.0734348173006316E-6,1.0692659892821495E-6,1.065261684818235E-6,1.0613825521696085E-6,1.0575896457705027E-6,1.053842970225485E-6,1.050100142606437E-6,1.0463152267329842E-6,1.0424377864163938E-6,1.0384121964560678E-6,1.0341772407831953E-6,1.0296660168720105E-6,1.0248061547380878E-6,1.0195203478832033E-6,1.0137271827978081E-6,1.007342243453919E-6,1.000279457948059E-6,9.924526463844788E-7,9.83777222475696E-7,9.741719963781326E-7,9.635610231119245E-7,9.518754396078669E-7,9.390552339866756E-7,9.250508930473936E-7,9.098248780027017E-7,8.933528840737004E-7,8.756248464226554E-7,8.566456627983998E-7,8.364356119073731E-7,8.150304555992324E-7,7.924812221606282E-7,7.68853677041704E-7,7.442274959120864E-7,7.186951627982923E-7,6.923606229692947E-7,6.653377260295476E-7,6.377484992132869E-7,6.097212940632394E-7,5.813888514833671E-7,5.528863305893955E-7,5.24349345898512E-7,4.95912055297268E-7,4.677053380359993E-7,4.3985509787880486E-7,4.1248072167099353E-7,3.856937181647938E-7,3.5959655616832945E-7,3.3428171514983804E-7,3.09830955527575E-7,2.863148101798595E-7,2.6379229337372456E-7,2.4231081846556865E-7,2.219063114777443E-7,2.0260350407833904E-7,1.8441638663643758E-7,1.673487999137509E-7,1.513951425817862E-7,1.3654117109474917E-7,1.2276486845509722E-7,1.1003735901759248E-7,9.832384761260373E-8,8.758456284524833E-8,7.77756863536841E-8,6.885025199598501E-8,6.075900129091926E-8,5.345118387861465E-8,4.687529421456142E-8,4.097973809551629E-8,3.571342487957414E-8,3.102628335677269E-8,2.6869701114037156E-8,2.319688889297941E-8,1.996317284539243E-8,1.7126218743184174E-8,1.464619309943908E-8,1.2485866815031606E-8,1.0610667396439565E-8,8.988686015412958E-9,7.590645723511128E-9,6.389837019811567E-9,5.3620267247878945E-9,4.485345763805711E-9,3.7401610352895134E-9,3.108936055136521E-9,2.5760845520103043E-9,2.127820656854615E-9,1.7520088007304318E-9,1.4380159215118868E-9,1.1765680929354706E-9,9.596132372015486E-10,7.801911705558169E-10,6.323118636108129E-10,5.108424762641427E-10,4.114034509654294E-10,3.3027371648426336E-10,2.6430486490184904E-10,2.1084401418443454E-10,1.6766495376572575E-10,1.3290708712772066E-10,1.050216293589198E-10,8.272448504717925E-11,6.49552187414889E-11,5.0841532942299954E-11,3.966868380775276E-11,3.085328949263246E-11,2.3921017633180524E-11,1.8487674688823372E-11,1.4243258746415543E-11,1.0938577419248261E-11,8.374072381232895E-12,6.390530898160938E-12,4.86140173325018E-12,3.686467507965732E-12,2.786657666416333E-12,2.0998154460122956E-12,1.5772586410848545E-12,1.1809974949540027E-12,8.814938740072112E-13,6.558641186870451E-13,4.864438175919505E-13,3.5964641793849173E-13,2.6505928230682983E-13,1.9473074145543624E-13,1.4261008296094089E-13,1.0410945129626843E-13,7.576249838295113E-14,5.495948047540261E-14,3.9742496676752236E-14,2.864783902798086E-14,2.0585090414994385E-14,1.474476574387579E-14,1.0528031115602507E-14,7.493429480144067E-15,5.316652422817281E-15,3.7602791932560106E-15,2.651099880813717E-15,1.8631862186918506E-15,1.305300815241879E-15,9.115681171534843E-16,6.345879412202659E-16,4.403709607636167E-16,3.0462791546342493E-16,2.1006074049811224E-16,1.443923724776679E-16,9.893905964370325E-17,6.757957710076209E-17,4.601371792033823E-17,3.123081703248942E-17,2.1130196211525293E-17,1.4251083244350827E-17,9.581122364844227E-18,6.421094463478647E-18,4.289689851546935E-18,2.8567148318093218E-18,1.8964091728239102E-18,1.2549353883294596E-18,8.278179635591181E-19,5.4434280537237475E-19,3.568077581161353E-19,2.3314185668698347E-19,1.5185544652388486E-19,9.859721677775835E-20,6.381504773789612E-20,4.117235427869496E-20,2.64796636112309E-20,1.697631347245231E-20,1.0849218804465099E-20,6.911585895467241E-21,4.389156950358199E-21,2.7784889351528542E-21,1.7533167903492556E-21,1.1029003418106043E-21,6.915702622626954E-22,4.322753871191082E-22,2.693449677117943E-22,1.6729439185854338E-22,1.0358051319299801E-22,6.39291446067526E-23,3.93318059352787E-23,2.412198488492173E-23,1.4747090771059394E-23,8.987187964461091E-24,5.459658210137357E-24,3.3062161664938064E-24,1.995819188652123E-24,1.200978690225203E-24,7.203997744838174E-25,4.307606205201608E-25,2.567571690498813E-25,1.5255741537245934E-25,9.035833608362216E-26,5.334912325462922E-26,3.139861612080019E-26,1.842119868440745E-26,1.077331665954395E-26,6.280657670641369E-27,3.6499337284608204E-27,2.1144089791201184E-27,1.2210042305351E-27,7.028610903519177E-28,4.0331650402152467E-28,2.3069949566240735E-28,1.315441245815678E-28,7.47688023244411E-29,4.2363667608503367E-29,2.392714263899288E-29,1.3471386123281963E-29,7.560628322803257E-30,4.229876158437374E-30,2.3589654208730828E-30,1.311413518217104E-30,7.267447387010976E-31,4.01465560513666E-31,2.210746028929334E-31,1.2135385321457542E-31,6.64037256269633E-32,3.6220586742804973E-32,1.9694396399211693E-32,1.0674659419963993E-32,5.7675257087341934E-33,3.106341576519718E-33,1.6677580239510043E-33,8.925674130801951E-34,4.7618221867178255E-34,2.5323835295552598E-34,1.3424865557851333E-34,7.094381991989624E-35,3.737174284509375E-35,8.001571736302475E-6,8.559492440901755E-6,9.139975412564973E-6,9.742380688181602E-6,1.0365904925768654E-5,1.1009577837729865E-5,1.1672260098846674E-5,1.2352642839710164E-5,1.3049248819319633E-5,1.3760435351115438E-5,1.4484399035024845E-5,1.5219182324484132E-5,1.5962681932216222E-5,1.671265905219478E-5,1.746675134816421E-5,1.822248663178557E-5,1.8977298126445776E-5,1.9728541186514783E-5,2.0473511316876072E-5,2.1209463314392958E-5,2.1933631332086654E-5,2.2643249648636338E-5,2.3335573910766007E-5,2.400790260450133E-5,2.4657598503440816E-5,2.5282109838297352E-5,2.587899093215469E-5,2.6445922050199964E-5,2.6980728221096037E-5,2.7481396799528897E-5,2.794609355559964E-5,2.8373177096349335E-5,2.876121144745262E-5,2.910897664857849E-5,2.941547724362038E-5,2.9679948576430618E-5,2.990186083330922E-5,2.990186083330922E-5,3.008092080472555E-5,3.021707137002953E-5,3.0310488739664245E-5,3.0361577519086477E-5,3.037096368671951E-5,3.0339485604337312E-5,3.02681832018915E-5,3.0158285499591936E-5,3.0011196647746506E-5,2.9828480679245342E-5,2.961184518049726E-5,2.9363124094030245E-5,2.908425986986422E-5,2.877728518323425E-5,2.844430443344001E-5,2.808747523272539E-5,2.77089900854204E-5,2.7311058446404793E-5,2.6895889334623853E-5,2.6465674662261938E-5,2.6022573423638155E-5,2.556869687031063E-5,2.510609478063902E-5,2.463674291351822E-5,2.416253171749891E-5,2.368525634836311E-5,2.3206608030696776E-5,2.2728166782334877E-5,2.2728166782334877E-5,2.2251395504938154E-5,2.1777635429544054E-5,2.13081028928259E-5,2.08438874080538E-5,2.0385950984405273E-5,1.9935128639307287E-5,1.9492130040862223E-5,1.90575422110426E-5,1.8631833215143702E-5,1.821535675884494E-5,1.780835761103604E-5,1.741097776818434E-5,1.7023263274337338E-5,1.6645171609750825E-5,1.627657956050788E-5,1.5917291481254308E-5,1.5567047863254543E-5,1.5225534120315031E-5,1.4892389505701671E-5,1.456721607398447E-5,1.4249587602789829E-5,1.3939058390758835E-5,1.3635171849648561E-5,1.3337468810531929E-5,1.3045495466524023E-5,1.275881087746217E-5,1.2476993965574554E-5,1.2199649935457346E-5,1.1926416056710066E-5,1.1656966753403727E-5,1.1391017951208804E-5,1.1128330640504114E-5,1.086871362210912E-5,1.0612025411394691E-5,1.0358175286360823E-5,1.0107123475733327E-5,9.858880494096829E-6,9.613505642404459E-6,9.371104703707929E-6,9.131826875444967E-6,8.895860990894501E-6,8.66343109324373E-6,8.434791435881655E-6,8.210220991816993E-6,7.990017563298699E-6,7.7744915895929E-6,7.56395975625836E-6,7.358738513006545E-6,7.159137609206788E-6,6.9654537562103395E-6,6.777964523867135E-6,6.5969225748850514E-6,6.422550335063993E-6,6.2550351900009514E-6,6.094525289722245E-6,5.941126032011553E-6,5.794897283158305E-6,5.655851381674964E-6,5.523951956474787E-6,5.399113576336724E-6,5.281202232498895E-6,5.170036641212444E-6,5.065390338352215E-6,4.966994524010182E-6,4.8745416016738165E-6,4.8745416016738165E-6,4.787689344374899E-6,4.706065609322645E-6,4.629273513216538E-6,4.556896972842744E-6,4.488506509830837E-6,4.423665214681742E-6,4.3619347634293726E-6,4.30288138058109E-6,4.246081644268353E-6,4.191128033760606E-6,4.137634125546606E-6,4.085239351926254E-6,4.03361324530995E-6,3.982459101990563E-6,3.931517010812098E-6,3.8805662046678325E-6,3.829426705864913E-6,3.7779602498312707E-6,3.7260704851506314E-6,3.6737024612326973E-6,3.620841427806426E-6,3.5675109826260505E-6,3.5137706150809932E-6,3.4597127036020144E-6,3.4054590336820875E-6,3.3511569108339462E-6,3.296974948770092E-6,3.2430986174297653E-6,3.1897256381383054E-6,3.137061314148592E-6,3.0853138840956536E-6,3.03468998354052E-6,2.9853902958653677E-6,2.9376054684153667E-6,2.8915123630957704E-6,2.8472707027824052E-6,2.805020166065389E-6,2.764877973212177E-6,2.7269369960108493E-6,2.6912644135501284E-6,2.657900925223481E-6,2.6268605215252164E-6,2.59813080274424E-6,2.571673825654685E-6,2.5474274489357452E-6,2.5253071394925657E-6,2.505208194241363E-6,2.4870083253874427E-6,2.4705705518605026E-6,2.4557463354468807E-6,2.4423788973140753E-6,2.4303066490714973E-6,2.4193666722378103E-6,2.4093981809474635E-6,2.4002459048601742E-6,2.3917633324478476E-6,2.3838157590146855E-6,2.3762830888326606E-6,2.36906234650801E-6,2.3620698589883514E-6,2.3552430763226534E-6,2.348542006245631E-6,2.3419502447250332E-6,2.335475591642806E-6,2.3291502476474408E-6,2.3230305947965594E-6,2.3171965698031615E-6,2.311750644420859E-6,2.3068164326864224E-6,2.3025369493352583E-6,2.2990725476893393E-6,2.2965985686785785E-6,2.2953027354039794E-6,2.2953823298075776E-6,2.297041189616665E-6,2.30048656482476E-6,2.3059258736128736E-6,2.3135633978595113E-6,2.323596958294658E-6,2.336214608977563E-6,2.3515913901706407E-6,2.3698861778846024E-6,2.3912386674151747E-6,2.4157665270999245E-6,2.443562757302883E-6,2.474693288279674E-6,2.5091948490697158E-6,2.5470731378760027E-6,2.588301322489201E-6,2.6328188971463345E-6,2.6805309197362076E-6,2.7313076504242437E-6,2.784984609521802E-6,2.8413630687291555E-6,2.9002109857072866E-6,2.9612643872654563E-6,3.024229201289966E-6,3.0887835319049285E-6,3.15458036628988E-6,3.221250695145738E-6,3.2884070220867777E-6,3.3556472303507056E-6,3.4225587682905276E-6,3.488723108287402E-6,3.553720427164196E-6,3.6171344500550765E-6,3.67855739417321E-6,3.7375949441912E-6,3.793871187175378E-6,3.8470334323517346E-6,3.896756839565682E-6,3.942748780243841E-6,3.984752856058906E-6,4.02255250339063E-6,4.05597411608284E-6,4.084889624895678E-6,4.10921847938179E-6,4.128928986573191E-6,4.144038970712498E-6,4.154615729123415E-6,4.160775270984253E-6,4.162680838012493E-6,4.160540718634584E-6,4.154605379835994E-6,4.145163953288283E-6,4.132540124258605E-6,4.117087482957457E-6,4.099184408121859E-6,4.079228561535175E-6,4.057631079650924E-6,4.034810554349004E-6,4.011186898979321E-6,3.98717519815079E-6,3.96317964015708E-6,3.9395876294910905E-6,3.916764173628192E-6,3.8950466332342445E-6,3.874739918297763E-6,3.856112204549762E-6,3.83939123510312E-6,3.824761261724046E-6,3.8123606687677775E-6,3.8022803108093924E-6,3.7945625826246746E-6,3.7892012276731523E-6,3.7861418788484197E-6,3.7852833132222012E-6,3.786479391036325E-6,3.7895416384897146E-6,3.7942424241023E-6,3.8003186697661046E-6,3.807476030140317E-6,3.815393467908656E-6,3.82372814766177E-6,3.832120567834469E-6,3.840199848229355E-6,3.847589090180409E-6,3.853910727313405E-6,3.8587917870828705E-6,3.861868986725714E-6,3.862793591869722E-6,3.861235971655801E-6,3.856889790748489E-6,3.849475785882528E-6,3.838745082479488E-6,3.8244820152184905E-6,3.8065064251080295E-6,3.784675414430714E-6,3.7588845497719146E-6,3.7290685120533268E-6,3.695201200937507E-6,3.657295309022075E-6,3.6154013887855537E-6,3.5696064421761104E-6,3.5200320689581434E-6,3.466832215372728E-6,3.410190569264731E-6,3.3503176515360724E-6,3.28744765657179E-6,3.2218350961400193E-6,3.1537513021920613E-6,3.0834808440029534E-6,3.011317914230234E-6,2.9375627367764996E-6,2.8625180468800526E-6,2.7864856906987644E-6,2.709763387875819E-6,2.632641696270579E-6,2.5554012132970453E-6,2.478310043233834E-6,2.4016215545519716E-6,2.3255724458489304E-6,2.250381133475367E-6,2.176246468487387E-6,2.103346785238779E-6,2.0318392788244766E-6,1.961859703770638E-6,1.8935223819013434E-6,1.8269205032507764E-6,1.762126700276805E-6,1.699193872500884E-6,1.6381562360743266E-6,1.5790305706662545E-6,1.5218176344892015E-6,1.4665037172205162E-6,1.4130623000299135E-6,1.3614557918665315E-6,1.3116373115676245E-6,1.2635524861941796E-6,1.2171412372408699E-6,1.1723395279690086E-6,1.1290810470290086E-6,1.0872988057282626E-6,1.0469266287150634E-6,1.0079005204419984E-6,9.701598924961267E-7,9.336486396917115E-7,8.983160556691312E-7,8.641175815875452E-7,8.31015384297994E-7,7.989787630998705E-7,7.679843867823788E-7,7.380163651027498E-7,7.090661611276237E-7,6.811323529404308E-7,6.542202550775307E-7,6.283414116854586E-7,6.035129747815224E-7,5.797569821451226E-7,5.57099550266566E-7,5.35569998436605E-7,5.151999204796644E-7,4.960222208257754E-7,4.780701315921148E-7,4.613762271180379E-7,4.4597145198214173E-7,4.318841779414616E-7,4.191393044867797E-7,4.0775741681936434E-7,3.9775401403764477E-7,3.891388191908778E-7,3.819151816230142E-7,3.7607958070488507E-7,3.716212386463702E-7,3.685218486014139E-7,3.6675542273584754E-7,3.662882633289879E-7,3.670790583330041E-7,3.6907910112786035E-7,3.7223263249415903E-7,3.764773010929354E-7,3.817447370040124E-7,3.879612311488757E-7,3.9504851172881916E-7,4.029246071657131E-7,4.115047834651866E-7,4.20702542456788E-7,4.304306660313312E-7,4.406022903221209E-7,4.5113199279481005E-7,4.619368744508749E-7,4.729376188415198E-7,4.840595093595252E-7,4.952333863500779E-7,5.063965259775224E-7,5.174934235173578E-7,5.284764648193321E-7,5.393064711085891E-7,5.499531040500148E-7,5.603951200803565E-7,5.706204653889677E-7,5.806262055682128E-7,5.904182868175325E-7,6.00011128622188E-7,6.094270509832042E-7,6.186955424878665E-7,6.278523787146731E-7,6.369386035944754E-7,6.459993893309817E-7,6.550827932496706E-7,6.642384324276365E-7,6.735160990951682E-7,6.829643415360741E-7,6.926290364983945E-7,7.025519799196526E-7,7.127695230408743E-7,7.233112807120702E-7,7.341989378715997E-7,7.454451788180773E-7,7.57052762004064E-7,7.690137606959202E-7,7.813089870059607E-7,7.939076135645766E-7,8.067670035243732E-7,8.198327557472572E-7,8.330389679974225E-7,8.463087168321243E-7,8.595547487350189E-7,8.726803729618552E-7,8.855805426527623E-7,8.981431070935716E-7,9.102502146598443E-7,9.217798430239811E-7,9.326074307116906E-7,9.426075821127738E-7,9.516558166247739E-7,9.59630331766121E-7,9.66413749854507E-7,9.718948182092061E-7,9.759700337923249E-7,9.785451647295228E-7,9.79536643209111E-7,9.788728068012687E-7,9.764949682077565E-7,9.723582967792448E-7,9.664324987472594E-7,9.587022869304514E-7,9.491676346066741E-7,9.378438122081289E-7,9.247612094122744E-7,9.099649489846769E-7,8.935143023045835E-7,8.754819197992309E-7,8.559528924662598E-7,8.350236632219668E-7,8.128008089337244E-7,7.893997156461972E-7,7.649431706730464E-7,7.395598958904987E-7,7.133830467399516E-7,6.86548701138307E-7,6.591943617320107E-7,6.314574937482427E-7,6.03474119137093E-7,5.753774858111217E-7,5.472968286285486E-7,5.193562363916304E-7,4.916736366034181E-7,4.643599071050626E-7,4.375181210622757E-7,4.112429291410903E-7,3.8562008016352554E-7,3.607260791121022E-7,3.366279791014702E-7,3.133833018922333E-7,2.91040079715821E-7,2.6963700963207597E-7,2.4920371036770695E-7,2.2976107059127755E-7,2.1132167686929952E-7,1.938903091121635E-7,1.7746449114606457E-7,1.6203508412066905E-7,1.4758691076059946E-7,1.3409939896707308E-7,1.2154723394686252E-7,1.0990100886019014E-7,9.91278649074863E-8,8.919211278746356E-8,8.00558285267814E-8,7.167941777726089E-8,6.402214377467537E-8,5.7042615230579855E-8,5.069923146517962E-8,4.495058306762572E-8,3.975580727623023E-8,3.50748980939301E-8,3.086897188600804E-8,2.7100489842652822E-8,2.3733439226220324E-8,2.0733475762328128E-8,1.8068029877682847E-8,1.570637974016195E-8,1.3619694224076806E-8,1.1781049012852342E-8,1.0165419070585064E-8,8.749650671672733E-9,7.512416082814552E-9,6.434153853067416E-9,5.4969974940149326E-9,4.6846951317869204E-9,3.982522493437504E-9,1.2521976747067712E-6,1.6005156270403683E-6,2.025687195877911E-6,2.538899793005846E-6,3.1514979742374427E-6,3.874599121180136E-6,4.718644301695212E-6,5.692898281719173E-6,6.80491850847717E-6,8.06001809127673E-6,9.46075181551804E-6,1.1006456533834594E-5,1.2692877495014098E-5,1.4511910074928263E-5,1.6451481948969173E-5,1.8495594197875573E-5,2.0624531581567275E-5,2.281524283099317E-5,2.5041881987746536E-5,2.727649229454397E-5,2.9489805599665297E-5,3.1652123277224245E-5,3.37342397263785E-5,3.5708366866494795E-5,3.754901778627347E-5,3.923380976828603E-5,4.074415110146908E-5,4.206578212044987E-5,4.318914841121716E-5,4.410959268870654E-5,4.482736103777963E-5,4.5347428537388204E-5,4.567915825333024E-5,4.583581566559534E-5,4.583581566559534E-5,4.583396727480613E-5,4.569279693388204E-5,4.543337599268957E-5,4.50779233894077E-5,4.464908933557401E-5,4.4169291419504864E-5,4.36601252354833E-5,4.3141863693100816E-5,4.263305079132694E-5,4.2150187744611586E-5,4.1707502775271054E-5,4.131679133995689E-5,4.098731149266424E-5,4.0725719639851515E-5,4.053603490650592E-5,4.041962516988919E-5,4.0375213731971824E-5,4.039891163365727E-5,4.039891163365727E-5,4.0484285772196956E-5,4.062247637777071E-5,4.080237837173498E-5,4.101089932493868E-5,4.1233302193810235E-5,4.1453634150906026E-5,4.1655234398653326E-5,4.182130485986333E-5,4.19355191973342E-5,4.19826388267615E-5,4.194910038698436E-5,4.182353816649257E-5,4.159720752787383E-5,4.1264281282161974E-5,4.082199970445846E-5,4.02706655808791E-5,3.9613487242619E-5,3.8856283797500876E-5,3.800707659306657E-5,3.800707659306657E-5,3.707559840979962E-5,3.607275635486716E-5,3.5010085627780235E-5,3.3899229348721284E-5,3.2751474898123944E-5,3.1577370387519096E-5,3.038643679439338E-5,2.918698281603101E-5,2.7986021432411712E-5,2.6789280170631592E-5,2.5601291584773668E-5,2.4425546735438238E-5,2.3264692492791486E-5,2.212075314528204E-5,2.0995357804327394E-5,1.9889957123899683E-5,1.8806015565091458E-5,1.7745168522566853E-5,1.670933684048959E-5,1.570079439179828E-5,1.47221873480032E-5,1.3776506446640967E-5,1.286701592373447E-5,1.1997144793552996E-5,1.1170347813399768E-5,1.0389944758374992E-5,9.658947544190358E-6,8.979885270798992E-6,8.354637411844755E-6,7.78428513941894E-6,7.268990142182529E-6,6.807909256452898E-6,6.3991517732522514E-6,6.039784405596218E-6,5.725886613862207E-6,5.4526563393992765E-6,5.214563279311893E-6,5.005543794080481E-6,4.819228573988427E-6,4.649191543210606E-6,4.489206415937617E-6,4.333496090176813E-6,4.176959876812896E-6,4.015364534558837E-6,3.8454872229594184E-6,3.665201675183781E-6,3.473502884715696E-6,3.2704700469560434E-6,3.057171985119424E-6,2.83552339106125E-6,2.6081035347230167E-6,2.3779513356650997E-6,2.1483516643175027E-6,1.922627408976706E-6,1.70395030912679E-6,1.4951810413342323E-6,1.298745864631171E-6,1.1165536472877656E-6,9.499536650561897E-7,7.997314990633155E-7,6.661379119726579E-7,5.489438928424928E-7,4.4751418478788146E-7,3.6089150498053725E-7,2.878842208751357E-7,2.2715129847235183E-7,1.7727970416077638E-7,1.3685093943584464E-7,1.0449485745916965E-7,7.893022688204943E-8,5.899258796308406E-8,4.36507467297914E-8,3.201376949867166E-8,2.33305958158836E-8,1.6984425075932373E-8,1.248390227288763E-8,9.452883994421141E-9,7.620253859889871E-9,6.8109145755006935E-9,6.938737797107039E-9,8.001918202361968E-9,1.0080860551039853E-8,1.333842777117116E-8,1.8022091204549765E-8,2.4467248873210808E-8,3.3100715893447367E-8,4.444315152226252E-8,5.910898643299713E-8,7.78022764968128E-8,1.0130686698380849E-7,1.3046933834910186E-7,1.6617345462834433E-7,2.0930527305774892E-7,2.607087092742305E-7,3.211321755074408E-7,3.911678823327492E-7,4.7118645171633853E-7,5.612705364888336E-7,6.611520632863969E-7,7.701583849970944E-7,8.871729202064616E-7,1.0106156663105915E-6,1.138448232758591E-6,1.2682067375461206E-6,1.3970640940771026E-6,1.5219210050937164E-6,1.6395225561407244E-6,1.7465948910088616E-6,1.8399943078880367E-6,1.9168594843806666E-6,1.97475663207967E-6,2.0118073409651876E-6,2.0267897555734295E-6,2.0192054831515666E-6,1.9893071233688886E-6,1.9380842985139014E-6,1.8672092618049948E-6,1.778946253654604E-6,1.6760314584424376E-6,1.5615324335316013E-6,1.4386970620935925E-6,1.310802342619189E-6,1.181012693552499E-6,1.052256038037041E-6,9.271239325512781E-7,8.077996524105026E-7,6.960157004899844E-7,5.930399019151438E-7,4.996872850889716E-7,4.1635346801009216E-7,3.430643410287579E-7,2.7953646929819957E-7,2.2524277887122327E-7,1.7947864510614056E-7,1.4142435036997206E-7,1.1020089130105144E-7,8.491717273103672E-8,6.470762346612939E-8,4.876013256269487E-8,3.633488668241223E-8,2.677517062182798E-8,1.9511478889881365E-8,1.406039864810572E-8,1.001969690851279E-8,7.060915907611631E-9,4.920587947203107E-9,3.390958402006553E-9,2.310880193808425E-9,1.5573344935613715E-9,1.0378530836094594E-9,6.839736352701429E-10,4.4575102196557235E-10,2.872730186833408E-10,1.8308249950590506E-10,1.1538472845233081E-10,7.19116636598803E-11,4.432000946680123E-11,2.7011571849601E-11,1.6279811594060205E-11,9.702829416469582E-12,5.718694839316464E-12,3.3330739780362132E-12,1.92106689519519E-12,1.0949379983497838E-12,6.171433756038718E-13,3.4397915090733416E-13,1.8959534624896E-13,1.0334101682437333E-13,5.570155153136114E-14,2.969007937536523E-14,1.5649660822738464E-14,8.157329491426219E-15,4.204753922962539E-15,2.1432985424147543E-15,1.0803743314347406E-15,5.38536756518076E-16,2.65464191867279E-16,1.294035080528907E-16,6.237860474739317E-17,2.973546726436234E-17,1.4017268194101325E-17,6.534336606058408E-18,3.0122369188405083E-18,1.3731761629185452E-18,6.190316996509748E-19,2.7596183675097954E-19,1.2165631825658252E-19,5.303588444835655E-20,2.2864118738634765E-20,9.747396275065394E-21,4.109341957890289E-21,1.7131896696564356E-21,7.0629822684014815E-22,2.8795212602924296E-22,1.160919128908446E-22,4.628424136017524E-23,1.824793967153222E-23,7.11449416898001E-24,2.7429868369104834E-24,1.0458103214750944E-24,3.9430440458611934E-25,1.4701438704723345E-25,5.420477563618269E-26,1.9763541462828687E-26,7.125929013584423E-27,2.5407838410108466E-27,8.958668161453528E-28,3.123695457806461E-28,1.0770687524048405E-28,3.67254961167303E-29,1.2383443317259727E-29,4.129188169323547E-30,1.3615620327752086E-30,4.439762056585992E-31,1.4316322149421744E-31,4.5651256346411295E-32,1.4395392480756808E-32,4.488939897522135E-33,1.3842469512553017E-33,4.22117021581647E-34,1.2729216089258189E-34,3.79594540393554E-35,1.1194063348860461E-35,3.264412766512757E-36,9.413949828545439E-37,2.684653222208896E-37,7.57101342643759E-38,2.111394284196309E-38,5.8228308082457256E-39,1.5879927132132364E-39,4.282647640507061E-40,1.142156687160207E-40,3.0122328076506444E-41,7.855989354297377E-42,2.026108705975892E-42,5.1674240665430694E-43,1.3032717121222494E-43,3.2504638370751164E-44,8.016876861655099E-45,1.955305363899609E-45,4.715996507936625E-46,1.1248169767488953E-46,2.6530153001376923E-47,6.187955062774363E-48,1.4272631472562704E-48,3.255445714117938E-49,7.342878931425105E-50,1.6378411640648262E-50,3.6126567595622384E-51,7.880089032004699E-52,1.6997500089810296E-52,3.6256717642320194E-53,7.647886272355428E-54,1.595305499548916E-54,3.290756956284012E-55,6.712700305373792E-56,1.354092126138654E-56,2.7011498117268373E-57,5.328422276681665E-58,1.0394368355382112E-58,2.0051509655012157E-59,3.825124301835243E-60,7.215950310855157E-61,1.346142450195706E-61,2.4833504423439577E-62,4.5303786803042096E-63,8.172981278038985E-64,1.4580620544714125E-64,2.57229643537843E-65,4.4876143542424657E-66,7.742113709435976E-67,1.3208486817855568E-67,2.2284151023903692E-68,3.7178222614995677E-69,6.133814791513104E-70,1.0007421632314778E-70,1.6145936558363685E-71,2.576047044686509E-72,4.064375668371119E-73,6.341374472313548E-74,9.784135569961825E-75,1.4928323159561151E-75,2.2524185661849228E-76,3.3607536080774842E-77,4.958767579371794E-78,7.235363207403147E-79,1.043990208775585E-79,1.4896423770004764E-80,2.1019245172841274E-81,2.9329301346985254E-82,4.047024412005082E-83,5.522292864190658E-84,7.451651750311871E-85,9.943405939498487E-86,1.3121010831956184E-86,1.712178040266723E-87,2.2094290289320684E-88,2.8194259541985376E-89,3.5578762250735164E-90,4.4398723281472704E-91,5.478978961156122E-92,6.686183449385378E-93,8.068753501399657E-94,9.629064867723841E-95,1.136347814995446E-95,1.3261356630922747E-96,1.5304323325497475E-97,1.7465853553368936E-98,1.971128789180577E-99,2.1998328960991827E-100,2.4278054820674944E-101,2.64964437043824E-102,2.8596362404245017E-103,3.0519927755034826E-104,3.221111176092023E-105,3.3618430371062155E-106,3.469753758910829E-107,3.5413543259181025E-108,3.5742885757056783E-109,3.5674619423611107E-110,3.521101862052578E-111,3.436745191001138E-112,3.317153606734386E-113,3.1661634882146544E-114,2.9884816562897415E-115,2.789442136474213E-116,2.5747414456815697E-117,2.3501706341272004E-118,2.1213614441953436E-119,1.893561660156807E-120,1.671451335107514E-121,1.4590075046718905E-122,1.2594206779214163E-123,1.0750622637345913E-124,9.074985095517423E-126,7.575437641618202E-127,6.253440747669268E-128,5.1048132076804926E-129,4.120881971223681E-130,3.289652324276483E-131,2.59692453961945E-132,2.027300671290173E-133,1.565043822204208E-134,1.1947700996946209E-135,9.01969168866017E-137,6.733619076015249E-138,4.9711274843146815E-139,3.629198823706564E-140,2.6200894994354142E-141,1.8705572135608607E-142,1.320612398535669E-143,9.219964499883089E-145,6.365501603584411E-146,4.34595794439679E-147,2.934187828934618E-148,1.9590242306535983E-149,1.2934248737289313E-150,8.444853383228604E-152,5.452460445274427E-153,3.481307918540809E-154,2.1980717094461067E-155,1.3724318236681888E-156,8.474014591338816E-158,5.174127657886788E-159,3.1241694129988475E-160,1.8654409974546603E-161,1.1014834157331216E-162,6.43167235993834E-164,3.713807312709855E-165,2.120627192099616E-166,1.1974538627148814E-167,6.686560170734767E-169,3.6922936155713826E-170,2.0162259778864952E-171,1.0887588225838317E-172,5.813981866879138E-174,3.070189365438208E-175,1.6032681223996076E-176,8.279357899918316E-178,4.228016370424963E-179,2.135139072764553E-180,1.0662650657978788E-181,5.265670716956081E-183,2.5715307317694825E-184,1.241878889555719E-185,5.930840914860921E-187,2.800933576141962E-188,1.3080936845649094E-189,6.041216398358078E-191,2.7590491728591714E-192,1.2460744561627534E-193,5.565165067144052E-195,2.457885298415028E-196,1.0734817806142303E-197,4.636361046421158E-199,1.9802012177411856E-200,8.363554718589094E-202,3.493188216255753E-203,1.4427881768326027E-204,5.89294879615881E-206,2.3801934994241338E-207,9.506953428388372E-209,3.755086733291677E-210,1.4667229355122013E-211,5.6653363413239505E-213,2.1639778834356436E-214,8.173902288748008E-216,3.0532022256651896E-217,1.1277976965121298E-218,4.119612247417731E-220,1.4880961136277164E-221,5.3156347120786036E-223,1.877711125815413E-224,6.559216030474188E-226,2.2658157666817293E-227,7.740103332594593E-229,2.614679291859722E-230,8.734531198426057E-232,2.8854282399404853E-233,9.426065645605419E-235,3.04509009386745E-236,9.727905372950283E-238,3.073180245086428E-239,9.600773691765785E-241,2.9660190564448825E-242,9.061313282578258E-244,2.7375235191685235E-245,8.178507886108923E-247,2.4162384940743955E-248,7.0591925098053E-250,2.039481436640098E-251,5.826852066977031E-253,1.646257370364217E-254,4.599503745230593E-256,1.2707898160463093E-257,3.472050068026096E-259,9.38096978373343E-261,2.5064497342041676E-262,6.622466441667173E-264,1.7303343826580729E-265,4.47084705599397E-267,2.7970659199034526E-6,3.2325925981583103E-6,3.718601616054439E-6,4.257982879233069E-6,4.853324242183752E-6,5.506831416708286E-6,6.220247145531359E-6,6.994771641157509E-6,7.830986436461494E-6,8.728783879078488E-6,9.68730451943315E-6,1.0704884587842491E-5,1.1779015628091742E-5,1.290631815478919E-5,1.4082530934196945E-5,1.530251716037288E-5,1.6560288419939408E-5,1.7849046921024505E-5,1.9161246017519096E-5,2.0488668601973497E-5,2.182252248240219E-5,2.3153551412610474E-5,2.447216002404076E-5,2.576855051990372E-5,2.703286864840622E-5,2.825535617863928E-5,2.9426506866193446E-5,3.053722272067194E-5,3.157896727785024E-5,3.2543912538369945E-5,3.342507626504956E-5,3.421644643406648E-5,3.491308981275788E-5,3.5511241889185656E-5,3.600837570542474E-5,3.640324754590098E-5,3.669591790027621E-5,3.688774665140642E-5,3.688774665140642E-5,3.69813620241943E-5,3.698060345932816E-5,3.689043923263199E-5,3.671686030897225E-5,3.646675257989975E-5,3.6147750265134455E-5,3.576807383727877E-5,3.5336356334332126E-5,3.4861462334203837E-5,3.435230416010765E-5,3.381766004927095E-5,3.3265999037777636E-5,3.2705317184589445E-5,3.2142989476506716E-5,3.1585641327684145E-5,3.103904302309227E-5,3.0508029771629708E-5,2.9996449253470778E-5,2.9507137694253583E-5,2.9041924606017196E-5,2.8601665433814384E-5,2.8186300471061495E-5,2.7794937588783147E-5,2.7425955594866E-5,2.7425955594866E-5,2.7077124426711588E-5,2.674573790709682E-5,2.642875447563375E-5,2.6122941157447086E-5,2.5825016049928585E-5,2.5531784793821153E-5,2.5240266835546303E-5,2.4947807766301815E-5,2.4652174617187897E-5,2.4351631671392314E-5,2.4044995094353172E-5,2.373166544971713E-5,2.341163793209039E-5,2.308549087831385E-5,2.275435379187603E-5,2.2419856709163168E-5,2.2084063235798597E-5,2.1749389976174215E-5,2.1418515364795185E-5,2.1094281084734432E-5,2.0779589331183282E-5,2.0477299155044067E-5,2.0190125013263374E-5,1.9920540470812804E-5,1.9670689755644233E-5,1.9442309573583637E-5,1.9236663254661198E-5,1.9054488933901125E-5,1.8895963074693285E-5,1.8760680226960063E-5,1.8647649480262018E-5,1.8555307628741634E-5,1.848154861625288E-5,1.8423768383556485E-5,1.8378923804430996E-5,1.8378923804430996E-5,1.834360398543983E-5,1.8314111828326592E-5,1.828655342940475E-5,1.8256932632232587E-5,1.822124787309306E-5,1.8175588376238933E-5,1.811622677723838E-5,1.8039705383383256E-5,1.7942913519949307E-5,1.7823153754077028E-5,1.7678195221959535E-5,1.7506312791817168E-5,1.7306311351707325E-5,1.7077535090700162E-5,1.681986221533789E-5,1.6533686081327657E-5,1.6219884195527114E-5,1.5879776931511075E-5,1.5515078084669884E-5,1.5127839557788097E-5,1.472039251070882E-5,1.4295287231039086E-5,1.3855233797358954E-5,1.340304532913353E-5,1.2941585270853968E-5,1.2473719767832665E-5,1.2002275785220027E-5,1.1530005227558391E-5,1.1059554958654721E-5,1.0593442321885731E-5,1.0134035535053693E-5,9.683538191124604E-6,9.24397703943112E-6,8.817192247421313E-6,8.404829440950149E-6,8.008332976587982E-6,7.628940093937291E-6,7.267675808899957E-6,6.9253486192184895E-6,6.602547281673461E-6,6.2996390690459345E-6,6.016770011309194E-6,5.753867661304076E-6,5.510646897502427E-6,5.286619187861435E-6,5.0811055967011535E-6,4.893253632734539E-6,4.722057825786118E-6,4.566383699243953E-6,4.424994592368461E-6,4.296580597907092E-6,4.179788730647856E-6,4.073253343062998E-6,3.975625762584364E-6,3.885602144437902E-6,3.801948612930329E-6,3.7235228968942513E-6,3.6492918421557132E-6,3.578344392928055E-6,3.509899860546835E-6,3.4433115267043623E-6,3.378065844399606E-6,3.3137776896684854E-6,3.250182269611994E-6,3.1871243991619045E-6,3.124545915805193E-6,3.062472007225243E-6,3.000997184217184E-6,2.940271546254996E-6,2.8804878683594594E-6,2.821869895993006E-6,2.764662081220315E-6,2.709120840144587E-6,2.65550726982427E-6,2.604081142245068E-6,2.555095901189194E-6,2.508794330261556E-6,2.4654045394430073E-6,2.4251359331302416E-6,2.388174871866957E-6,2.3546798177486827E-6,2.3247758528183095E-6,2.2985485723732473E-6,2.2760374719766857E-6,2.2572290590018574E-6,2.2420500181259066E-6,2.230360837739655E-6,2.2219503546389824E-6,2.2165316933265447E-6,2.2137400615518725E-6,2.213132815292198E-6,2.214192126312364E-6,2.2163304778342514E-6,2.2188990845447545E-6,2.2211991894329854E-6,2.22249604000706E-6,2.222035199027159E-6,2.2190607087132583E-6,2.212834510615073E-6,2.20265643311554E-6,2.187884000567212E-6,2.167951296215939E-6,2.142386127180558E-6,2.1108247934922395E-6,2.073023852055279E-6,2.0288683858624084E-6,1.9783764326321517E-6,1.9216993876255154E-6,1.8591183642459585E-6,1.7910366642616577E-6,1.7179686684140413E-6,1.6405255997832368E-6,1.5593987297193506E-6,1.4753406841084328E-6,1.3891455627263556E-6,1.3016286049051783E-6,1.2136061211321445E-6,1.1258763648198497E-6,1.0392019452587492E-6,9.542942869319539E-7,8.718005280999178E-7,7.922931295077668E-7,7.162623389553145E-7,6.441115356862117E-7,5.761553657955622E-7,5.126204808529032E-7,4.536486102546672E-7,3.993016357566363E-7,3.4956829521443447E-7,3.0437212159351353E-7,2.635802215463748E-7,2.2701251316508887E-7,1.9445107212194693E-7,1.6564927611949517E-7,1.4034048601685038E-7,1.1824605485643713E-7,9.908251018446403E-8,8.25678078112017E-8,6.842660423851576E-8,5.639453866762901E-8,4.6221552612216705E-8,3.7674305029589725E-8,3.0537763372306555E-8,2.4616066287577246E-8,1.973276240979959E-8,1.5730532595654678E-8,1.2470500983375487E-8,9.831234429060204E-9,7.707521194158948E-9,6.009009184705872E-9,4.658772432528667E-9,3.591862595175473E-9,2.7538906296396594E-9,2.0996729184756817E-9,1.5919663133079595E-9,1.2003080048670188E-9,8.999689196050601E-10,6.710234833809687E-10,4.975340190730491E-10,3.6684464651485143E-10,2.689771892322451E-10,1.9612010741741675E-10,1.4220071169945595E-10,1.025307149696868E-10,7.351540977228671E-11,5.2417293179541464E-11,3.7165694891690013E-11,2.620481186218313E-11,1.837344667380184E-11,1.2810636497692665E-11,8.882208674571648E-12,6.1240839627761755E-12,4.198855436900191E-12,2.862793753208687E-12,1.9409676191413396E-12,1.3086254335053215E-12,8.773664308574189E-13,5.849449840791837E-13,3.8780834054491953E-13,2.5567434800488686E-13,1.6761961316352318E-13,1.0927730043782641E-13,7.084387608235816E-14,4.567112355335325E-14,2.927843748962049E-14,1.8664687105863825E-14,1.1832048797250863E-14,7.45873910840126E-15,4.675595337601017E-15,2.914568489297437E-15,1.806663527686822E-15,1.1136424354315129E-15,6.8262088098336075E-16,4.1608158382410565E-16,2.5219842664941356E-16,1.5200960657503658E-16,9.110963606272887E-17,5.430277673114552E-17,3.218429854804625E-17,1.8968377430286506E-17,1.1116812519341754E-17,6.478794248307114E-18,3.75466977885271E-18,2.1637785240324465E-18,1.2399872342347878E-18,7.06618205570311E-19,4.004197449726683E-19,2.2563634476563454E-19,1.2643444096784994E-19,7.045054459515534E-20,3.90360443275983E-20,2.1508474007875482E-20,1.1784620693060445E-20,6.4207195049063154E-21,3.478674026569568E-21,1.8741553579225724E-21,1.0040587662531204E-21,5.34902020151405E-22,2.8336798463126963E-22,1.4927553586532879E-22,7.819656733929114E-23,4.0733132642743313E-23,2.1099340857512356E-23,1.0868029343091904E-23,5.5666438806497514E-24,2.8352847619921633E-24,1.4360197917210413E-24,7.232435237150139E-25,3.62217107829356E-25,1.803904464775148E-25,8.93342863163029E-26,4.399291811682359E-26,2.1543051758061013E-26,1.0490385169326991E-26,5.0796676490803306E-27,2.44590012079342E-27,1.1711205383863695E-27,5.576013791460563E-28,2.6400086476293953E-28,1.2429281808235897E-28,5.818965786074251E-29,2.7089723070245194E-29,1.2540713056387639E-29,5.7729621788350016E-30,2.6426151651143544E-30,1.2028951604449205E-30,5.4447781913905365E-31,2.4507052659175414E-31,1.0968831656935124E-31,4.881889821559758E-32,2.1605972157726102E-32,9.50862693629285E-33,4.1612124203595926E-33,1.8108395414224907E-33,7.836064158994773E-34,3.3718935437226673E-34,1.442804577843886E-34,6.139017657304392E-35,2.597454193090197E-35,1.0928347270616849E-35,4.572130143224522E-36,1.9021296729388327E-36,7.868990687083519E-37,3.2370935563752346E-37,1.3241851601452655E-37,5.386409459580138E-38,2.1787486562521393E-38,8.763386371805352E-39,3.5050465242891195E-39,1.3940313944663488E-39,5.513256576922803E-40,2.1682066845791996E-40,8.479103226552006E-41,3.2972803863086486E-41,1.2750243961993336E-41,4.9027270447281316E-42,1.874621041249818E-42,7.1276400563554796E-43,2.6948492838527112E-43,1.013163652682017E-43,3.787747932533287E-44,1.4081173145391436E-44,5.20538504148748E-45,1.9134762918207762E-45,6.9943839686679646E-46,2.5423302618547314E-46,9.189048245039938E-47,3.3026695309834197E-47,1.1803632727573478E-47,4.1949056078333905E-48,1.4824654920349814E-48,5.2095816156856135E-49,1.8204422748909044E-49,6.325673190492087E-50,2.18570890812982E-50,7.509890211224143E-51,2.5658455443991112E-51,8.717321229110866E-52,2.945039820898378E-52,9.893611169998251E-53,3.305019408219628E-53,1.0978643033831982E-53,3.626425452807488E-54,1.1911439512071374E-54,3.890497290855288E-55,1.263575870705156E-55,4.08087072837439E-56,1.3105682012435597E-56,4.1852524443886186E-57,1.329042607375384E-57,4.196732925114172E-58,1.3177678663028566E-58,4.11454311677808E-59,1.2774956123176774E-59,3.9441396466192564E-60,1.2108774402718664E-60,3.696605489342124E-61,1.122176073507786E-61,3.3874575628465003E-62,1.0168143196552322E-62,3.0350395205559323E-63,9.008281078853869E-64,2.658730779358876E-64,7.803000416089562E-65,2.277213265835649E-65,6.608464554179049E-66,1.9070065571974572E-66,5.4721569700680896E-67,1.5614195894048592E-67,4.430323050086777E-68,1.2499879886970205E-68,3.506960999913515E-69,9.783869775084853E-70,2.714219718418704E-70,7.487449895893406E-71,2.0538911689544915E-71,5.602417589632934E-72,1.5195957068316832E-72,4.0985963774557126E-73,1.0992506730893226E-73,2.931654621836009E-74,7.774694406852575E-75,2.0502569424192E-75,5.376351790062907E-76,1.4019143186067902E-76,3.635043853260799E-77,9.372430117641551E-78,2.402974291314763E-78,6.126329893953484E-79,1.5531233880892332E-79,3.915307267127418E-80,9.814767960949033E-81,2.446518493940871E-81,6.064168155340925E-82,1.4946799867135645E-82,3.663358666839772E-83,8.928220063420863E-84,2.163737348655033E-84,5.214328567628417E-85,1.2495292570596014E-85,2.977478510925924E-86,7.055129668961927E-87,1.6623233690424848E-87,3.89475509048496E-88,9.074002994522942E-89,2.102189160170198E-89,4.842824872376648E-90,1.1093786983425866E-90,2.527056523315374E-91,5.724059685767075E-92,1.2892804711432454E-92,2.8876509626877703E-93,6.431259348696625E-94,1.4242996605801175E-94,3.1366114961102375E-95,6.8686927615282945E-96,1.4956894953890053E-96,3.2386407694754536E-97,6.973295781414461E-98,1.4930259579489055E-98,3.178707632726717E-99,6.729576842881705E-100,1.416703168198332E-100,2.9656773600149974E-101,6.173377831156226E-102,1.2778377840445564E-102,2.630161982668708E-103,5.383232800123822E-104,1.0956143551756841E-104,2.2173086211326082E-105,4.46219400922005E-106,8.929448072244294E-107,1.7768658470513466E-107,3.515916182096819E-108,6.917931040689978E-109,1.3535296670043963E-109,2.6333777275900592E-110,5.094626596632892E-111,9.800886814654296E-112,1.8748744785713717E-112,3.566422760671668E-113,6.746014087240044E-114,1.2688651051092524E-114,2.373216983409311E-115,4.413805773116261E-116,8.162867751999716E-117,1.5011568354034725E-117,2.7451313882811286E-118,4.991762996840166E-119,9.026066478983453E-120,1.622918988942315E-120,2.9016758396772886E-121,5.158871120590783E-122,9.120406404796473E-123,1.6033466401412093E-123],\n",
       "\"..quantile..\":[0.25,0.25,0.25,0.25,0.25,0.25,0.25,0.25,0.25,0.25,0.25,0.25,0.25,0.25,0.25,0.25,0.25,0.25,0.25,0.25,0.25,0.25,0.25,0.25,0.25,0.25,0.25,0.25,0.25,0.25,0.25,0.25,0.25,0.25,0.25,0.25,0.25,0.25,0.25,0.25,0.25,0.25,0.25,0.25,0.25,0.25,0.25,0.25,0.25,0.25,0.25,0.25,0.25,0.25,0.25,0.25,0.25,0.25,0.25,0.25,0.25,0.25,0.25,0.25,0.25,0.25,0.25,0.25,0.25,0.25,0.25,0.25,0.25,0.25,0.25,0.25,0.25,0.25,0.25,0.25,0.25,0.25,0.25,0.25,0.25,0.25,0.25,0.25,0.25,0.25,0.25,0.25,0.25,0.25,0.25,0.25,0.25,0.25,0.25,0.25,0.25,0.25,0.25,0.25,0.25,0.25,0.25,0.25,0.25,0.25,0.25,0.25,0.25,0.25,0.25,0.25,0.25,0.25,0.25,0.25,0.25,0.25,0.25,0.25,0.25,0.25,0.25,0.25,0.25,0.25,0.25,0.25,0.25,0.25,0.25,0.25,0.25,0.25,0.25,0.25,0.5,0.5,0.5,0.5,0.5,0.5,0.5,0.5,0.5,0.5,0.5,0.5,0.5,0.5,0.5,0.5,0.5,0.5,0.5,0.5,0.5,0.5,0.5,0.5,0.5,0.5,0.5,0.5,0.5,0.5,0.5,0.5,0.5,0.5,0.5,0.5,0.5,0.5,0.5,0.5,0.75,0.75,0.75,0.75,0.75,0.75,0.75,0.75,0.75,0.75,0.75,0.75,0.75,0.75,0.75,0.75,0.75,0.75,0.75,0.75,0.75,0.75,0.75,0.75,0.75,0.75,0.75,0.75,0.75,0.75,0.75,0.75,0.75,0.75,0.75,0.75,0.75,0.75,0.75,0.75,0.75,0.75,0.75,0.75,0.75,0.75,0.75,0.75,0.75,0.75,0.75,0.75,0.75,0.75,0.75,0.75,0.75,0.75,0.75,0.75,0.75,0.75,0.75,0.75,0.75,0.75,1.0,1.0,1.0,1.0,1.0,1.0,1.0,1.0,1.0,1.0,1.0,1.0,1.0,1.0,1.0,1.0,1.0,1.0,1.0,1.0,1.0,1.0,1.0,1.0,1.0,1.0,1.0,1.0,1.0,1.0,1.0,1.0,1.0,1.0,1.0,1.0,1.0,1.0,1.0,1.0,1.0,1.0,1.0,1.0,1.0,1.0,1.0,1.0,1.0,1.0,1.0,1.0,1.0,1.0,1.0,1.0,1.0,1.0,1.0,1.0,1.0,1.0,1.0,1.0,1.0,1.0,1.0,1.0,1.0,1.0,1.0,1.0,1.0,1.0,1.0,1.0,1.0,1.0,1.0,1.0,1.0,1.0,1.0,1.0,1.0,1.0,1.0,1.0,1.0,1.0,1.0,1.0,1.0,1.0,1.0,1.0,1.0,1.0,1.0,1.0,1.0,1.0,1.0,1.0,1.0,1.0,1.0,1.0,1.0,1.0,1.0,1.0,1.0,1.0,1.0,1.0,1.0,1.0,1.0,1.0,1.0,1.0,1.0,1.0,1.0,1.0,1.0,1.0,1.0,1.0,1.0,1.0,1.0,1.0,1.0,1.0,1.0,1.0,1.0,1.0,1.0,1.0,1.0,1.0,1.0,1.0,1.0,1.0,1.0,1.0,1.0,1.0,1.0,1.0,1.0,1.0,1.0,1.0,1.0,1.0,1.0,1.0,1.0,1.0,1.0,1.0,1.0,1.0,1.0,1.0,1.0,1.0,1.0,1.0,1.0,1.0,1.0,1.0,1.0,1.0,1.0,1.0,1.0,1.0,1.0,1.0,1.0,1.0,1.0,1.0,1.0,1.0,1.0,1.0,1.0,1.0,1.0,1.0,1.0,1.0,1.0,1.0,1.0,1.0,1.0,1.0,1.0,1.0,1.0,1.0,1.0,1.0,1.0,1.0,1.0,1.0,1.0,1.0,1.0,1.0,1.0,1.0,1.0,1.0,1.0,1.0,1.0,1.0,1.0,1.0,1.0,1.0,1.0,1.0,1.0,1.0,1.0,1.0,1.0,1.0,1.0,1.0,1.0,1.0,1.0,1.0,1.0,1.0,1.0,1.0,1.0,1.0,1.0,1.0,1.0,1.0,1.0,1.0,1.0,1.0,1.0,1.0,1.0,1.0,1.0,1.0,1.0,1.0,1.0,0.25,0.25,0.25,0.25,0.25,0.25,0.25,0.25,0.25,0.25,0.25,0.25,0.25,0.25,0.25,0.25,0.25,0.25,0.25,0.25,0.25,0.25,0.25,0.25,0.25,0.25,0.25,0.25,0.25,0.25,0.25,0.25,0.25,0.25,0.25,0.25,0.25,0.25,0.25,0.25,0.25,0.25,0.25,0.25,0.25,0.5,0.5,0.5,0.5,0.5,0.5,0.5,0.5,0.5,0.5,0.5,0.5,0.5,0.5,0.5,0.5,0.5,0.5,0.5,0.5,0.5,0.5,0.5,0.5,0.5,0.5,0.5,0.75,0.75,0.75,0.75,0.75,0.75,0.75,0.75,0.75,0.75,0.75,0.75,0.75,0.75,0.75,0.75,0.75,0.75,0.75,0.75,0.75,0.75,0.75,0.75,0.75,0.75,0.75,0.75,0.75,0.75,0.75,0.75,0.75,0.75,0.75,0.75,0.75,0.75,0.75,0.75,1.0,1.0,1.0,1.0,1.0,1.0,1.0,1.0,1.0,1.0,1.0,1.0,1.0,1.0,1.0,1.0,1.0,1.0,1.0,1.0,1.0,1.0,1.0,1.0,1.0,1.0,1.0,1.0,1.0,1.0,1.0,1.0,1.0,1.0,1.0,1.0,1.0,1.0,1.0,1.0,1.0,1.0,1.0,1.0,1.0,1.0,1.0,1.0,1.0,1.0,1.0,1.0,1.0,1.0,1.0,1.0,1.0,1.0,1.0,1.0,1.0,1.0,1.0,1.0,1.0,1.0,1.0,1.0,1.0,1.0,1.0,1.0,1.0,1.0,1.0,1.0,1.0,1.0,1.0,1.0,1.0,1.0,1.0,1.0,1.0,1.0,1.0,1.0,1.0,1.0,1.0,1.0,1.0,1.0,1.0,1.0,1.0,1.0,1.0,1.0,1.0,1.0,1.0,1.0,1.0,1.0,1.0,1.0,1.0,1.0,1.0,1.0,1.0,1.0,1.0,1.0,1.0,1.0,1.0,1.0,1.0,1.0,1.0,1.0,1.0,1.0,1.0,1.0,1.0,1.0,1.0,1.0,1.0,1.0,1.0,1.0,1.0,1.0,1.0,1.0,1.0,1.0,1.0,1.0,1.0,1.0,1.0,1.0,1.0,1.0,1.0,1.0,1.0,1.0,1.0,1.0,1.0,1.0,1.0,1.0,1.0,1.0,1.0,1.0,1.0,1.0,1.0,1.0,1.0,1.0,1.0,1.0,1.0,1.0,1.0,1.0,1.0,1.0,1.0,1.0,1.0,1.0,1.0,1.0,1.0,1.0,1.0,1.0,1.0,1.0,1.0,1.0,1.0,1.0,1.0,1.0,1.0,1.0,1.0,1.0,1.0,1.0,1.0,1.0,1.0,1.0,1.0,1.0,1.0,1.0,1.0,1.0,1.0,1.0,1.0,1.0,1.0,1.0,1.0,1.0,1.0,1.0,1.0,1.0,1.0,1.0,1.0,1.0,1.0,1.0,1.0,1.0,1.0,1.0,1.0,1.0,1.0,1.0,1.0,1.0,1.0,1.0,1.0,1.0,1.0,1.0,1.0,1.0,1.0,1.0,1.0,1.0,1.0,1.0,1.0,1.0,1.0,1.0,1.0,1.0,1.0,1.0,1.0,1.0,1.0,1.0,1.0,1.0,1.0,1.0,1.0,1.0,1.0,1.0,1.0,1.0,1.0,1.0,1.0,1.0,1.0,1.0,1.0,1.0,1.0,1.0,1.0,1.0,1.0,1.0,1.0,1.0,1.0,1.0,1.0,1.0,1.0,1.0,1.0,1.0,1.0,1.0,1.0,1.0,1.0,1.0,1.0,1.0,1.0,1.0,1.0,1.0,1.0,1.0,1.0,1.0,1.0,1.0,1.0,1.0,1.0,1.0,1.0,1.0,1.0,1.0,1.0,1.0,1.0,1.0,1.0,1.0,1.0,1.0,1.0,1.0,1.0,1.0,1.0,1.0,1.0,1.0,1.0,1.0,1.0,1.0,1.0,1.0,1.0,1.0,1.0,1.0,1.0,1.0,1.0,1.0,1.0,1.0,1.0,1.0,1.0,1.0,1.0,1.0,1.0,1.0,1.0,1.0,1.0,1.0,1.0,1.0,1.0,1.0,1.0,1.0,1.0,1.0,1.0,1.0,1.0,1.0,1.0,1.0,1.0,1.0,1.0,1.0,1.0,1.0,1.0,1.0,1.0,1.0,1.0,1.0,1.0,1.0,1.0,1.0,1.0,1.0,1.0,0.25,0.25,0.25,0.25,0.25,0.25,0.25,0.25,0.25,0.25,0.25,0.25,0.25,0.25,0.25,0.25,0.25,0.25,0.25,0.25,0.25,0.25,0.25,0.25,0.25,0.25,0.25,0.25,0.25,0.25,0.25,0.25,0.25,0.25,0.25,0.25,0.25,0.5,0.5,0.5,0.5,0.5,0.5,0.5,0.5,0.5,0.5,0.5,0.5,0.5,0.5,0.5,0.5,0.5,0.5,0.5,0.5,0.5,0.5,0.5,0.5,0.5,0.5,0.5,0.5,0.5,0.75,0.75,0.75,0.75,0.75,0.75,0.75,0.75,0.75,0.75,0.75,0.75,0.75,0.75,0.75,0.75,0.75,0.75,0.75,0.75,0.75,0.75,0.75,0.75,0.75,0.75,0.75,0.75,0.75,0.75,0.75,0.75,0.75,0.75,0.75,0.75,0.75,0.75,0.75,0.75,0.75,0.75,0.75,0.75,0.75,0.75,0.75,0.75,0.75,0.75,0.75,0.75,0.75,0.75,0.75,0.75,0.75,0.75,0.75,0.75,0.75,0.75,0.75,0.75,0.75,0.75,1.0,1.0,1.0,1.0,1.0,1.0,1.0,1.0,1.0,1.0,1.0,1.0,1.0,1.0,1.0,1.0,1.0,1.0,1.0,1.0,1.0,1.0,1.0,1.0,1.0,1.0,1.0,1.0,1.0,1.0,1.0,1.0,1.0,1.0,1.0,1.0,1.0,1.0,1.0,1.0,1.0,1.0,1.0,1.0,1.0,1.0,1.0,1.0,1.0,1.0,1.0,1.0,1.0,1.0,1.0,1.0,1.0,1.0,1.0,1.0,1.0,1.0,1.0,1.0,1.0,1.0,1.0,1.0,1.0,1.0,1.0,1.0,1.0,1.0,1.0,1.0,1.0,1.0,1.0,1.0,1.0,1.0,1.0,1.0,1.0,1.0,1.0,1.0,1.0,1.0,1.0,1.0,1.0,1.0,1.0,1.0,1.0,1.0,1.0,1.0,1.0,1.0,1.0,1.0,1.0,1.0,1.0,1.0,1.0,1.0,1.0,1.0,1.0,1.0,1.0,1.0,1.0,1.0,1.0,1.0,1.0,1.0,1.0,1.0,1.0,1.0,1.0,1.0,1.0,1.0,1.0,1.0,1.0,1.0,1.0,1.0,1.0,1.0,1.0,1.0,1.0,1.0,1.0,1.0,1.0,1.0,1.0,1.0,1.0,1.0,1.0,1.0,1.0,1.0,1.0,1.0,1.0,1.0,1.0,1.0,1.0,1.0,1.0,1.0,1.0,1.0,1.0,1.0,1.0,1.0,1.0,1.0,1.0,1.0,1.0,1.0,1.0,1.0,1.0,1.0,1.0,1.0,1.0,1.0,1.0,1.0,1.0,1.0,1.0,1.0,1.0,1.0,1.0,1.0,1.0,1.0,1.0,1.0,1.0,1.0,1.0,1.0,1.0,1.0,1.0,1.0,1.0,1.0,1.0,1.0,1.0,1.0,1.0,1.0,1.0,1.0,1.0,1.0,1.0,1.0,1.0,1.0,1.0,1.0,1.0,1.0,1.0,1.0,1.0,1.0,1.0,1.0,1.0,1.0,1.0,1.0,1.0,1.0,1.0,1.0,1.0,1.0,1.0,1.0,1.0,1.0,1.0,1.0,1.0,1.0,1.0,1.0,1.0,1.0,1.0,1.0,1.0,1.0,1.0,1.0,1.0,1.0,1.0,1.0,1.0,1.0,1.0,1.0,1.0,1.0,1.0,1.0,1.0,1.0,1.0,1.0,1.0,1.0,1.0,1.0,1.0,1.0,1.0,1.0,1.0,1.0,1.0,1.0,1.0,1.0,1.0,1.0,1.0,1.0,1.0,1.0,1.0,1.0,1.0,1.0,1.0,1.0,1.0,1.0,1.0,1.0,1.0,1.0,1.0,1.0,1.0,1.0,1.0,1.0,1.0,1.0,1.0,1.0,1.0,1.0,1.0,1.0,1.0,1.0,1.0,1.0,1.0,1.0,1.0,1.0,1.0,1.0,1.0,1.0,1.0,1.0,1.0,1.0,1.0,1.0,1.0,1.0,1.0,1.0,1.0,1.0,1.0,1.0,1.0,1.0,1.0,1.0,1.0,1.0,1.0,1.0,1.0,1.0,1.0,1.0,1.0,1.0,1.0,1.0,1.0,1.0,1.0,1.0,1.0,1.0,1.0,1.0,1.0,1.0,1.0,1.0,1.0,1.0,1.0,1.0,1.0,1.0,1.0,0.25,0.25,0.25,0.25,0.25,0.25,0.25,0.25,0.25,0.25,0.25,0.25,0.25,0.25,0.25,0.25,0.25,0.25,0.25,0.25,0.25,0.25,0.25,0.25,0.25,0.25,0.25,0.25,0.25,0.25,0.25,0.25,0.25,0.25,0.5,0.5,0.5,0.5,0.5,0.5,0.5,0.5,0.5,0.5,0.5,0.5,0.5,0.5,0.5,0.5,0.5,0.5,0.5,0.75,0.75,0.75,0.75,0.75,0.75,0.75,0.75,0.75,0.75,0.75,0.75,0.75,0.75,0.75,0.75,0.75,0.75,0.75,0.75,1.0,1.0,1.0,1.0,1.0,1.0,1.0,1.0,1.0,1.0,1.0,1.0,1.0,1.0,1.0,1.0,1.0,1.0,1.0,1.0,1.0,1.0,1.0,1.0,1.0,1.0,1.0,1.0,1.0,1.0,1.0,1.0,1.0,1.0,1.0,1.0,1.0,1.0,1.0,1.0,1.0,1.0,1.0,1.0,1.0,1.0,1.0,1.0,1.0,1.0,1.0,1.0,1.0,1.0,1.0,1.0,1.0,1.0,1.0,1.0,1.0,1.0,1.0,1.0,1.0,1.0,1.0,1.0,1.0,1.0,1.0,1.0,1.0,1.0,1.0,1.0,1.0,1.0,1.0,1.0,1.0,1.0,1.0,1.0,1.0,1.0,1.0,1.0,1.0,1.0,1.0,1.0,1.0,1.0,1.0,1.0,1.0,1.0,1.0,1.0,1.0,1.0,1.0,1.0,1.0,1.0,1.0,1.0,1.0,1.0,1.0,1.0,1.0,1.0,1.0,1.0,1.0,1.0,1.0,1.0,1.0,1.0,1.0,1.0,1.0,1.0,1.0,1.0,1.0,1.0,1.0,1.0,1.0,1.0,1.0,1.0,1.0,1.0,1.0,1.0,1.0,1.0,1.0,1.0,1.0,1.0,1.0,1.0,1.0,1.0,1.0,1.0,1.0,1.0,1.0,1.0,1.0,1.0,1.0,1.0,1.0,1.0,1.0,1.0,1.0,1.0,1.0,1.0,1.0,1.0,1.0,1.0,1.0,1.0,1.0,1.0,1.0,1.0,1.0,1.0,1.0,1.0,1.0,1.0,1.0,1.0,1.0,1.0,1.0,1.0,1.0,1.0,1.0,1.0,1.0,1.0,1.0,1.0,1.0,1.0,1.0,1.0,1.0,1.0,1.0,1.0,1.0,1.0,1.0,1.0,1.0,1.0,1.0,1.0,1.0,1.0,1.0,1.0,1.0,1.0,1.0,1.0,1.0,1.0,1.0,1.0,1.0,1.0,1.0,1.0,1.0,1.0,1.0,1.0,1.0,1.0,1.0,1.0,1.0,1.0,1.0,1.0,1.0,1.0,1.0,1.0,1.0,1.0,1.0,1.0,1.0,1.0,1.0,1.0,1.0,1.0,1.0,1.0,1.0,1.0,1.0,1.0,1.0,1.0,1.0,1.0,1.0,1.0,1.0,1.0,1.0,1.0,1.0,1.0,1.0,1.0,1.0,1.0,1.0,1.0,1.0,1.0,1.0,1.0,1.0,1.0,1.0,1.0,1.0,1.0,1.0,1.0,1.0,1.0,1.0,1.0,1.0,1.0,1.0,1.0,1.0,1.0,1.0,1.0,1.0,1.0,1.0,1.0,1.0,1.0,1.0,1.0,1.0,1.0,1.0,1.0,1.0,1.0,1.0,1.0,1.0,1.0,1.0,1.0,1.0,1.0,1.0,1.0,1.0,1.0,1.0,1.0,1.0,1.0,1.0,1.0,1.0,1.0,1.0,1.0,1.0,1.0,1.0,1.0,1.0,1.0,1.0,1.0,1.0,1.0,1.0,1.0,1.0,1.0,1.0,1.0,1.0,1.0,1.0,1.0,1.0,1.0,1.0,1.0,1.0,1.0,1.0,1.0,1.0,1.0,1.0,1.0,1.0,1.0,1.0,1.0,1.0,1.0,1.0,1.0,1.0,1.0,1.0,1.0,1.0,1.0,1.0,1.0,1.0,1.0,1.0,1.0,1.0,1.0,1.0,1.0,1.0,1.0,1.0,1.0,1.0,1.0,1.0,1.0,1.0,1.0,1.0,1.0,1.0,1.0,1.0,1.0,1.0,1.0,1.0,1.0,1.0,1.0,1.0,1.0,1.0,1.0,1.0,1.0,1.0,1.0,1.0,1.0,1.0,1.0,1.0,1.0,1.0,1.0,1.0,1.0,1.0,1.0,1.0,1.0,1.0,1.0,0.25,0.25,0.25,0.25,0.25,0.25,0.25,0.25,0.25,0.25,0.25,0.25,0.25,0.25,0.25,0.25,0.25,0.25,0.25,0.25,0.25,0.25,0.25,0.25,0.25,0.25,0.25,0.25,0.25,0.25,0.25,0.25,0.25,0.25,0.25,0.25,0.25,0.25,0.5,0.5,0.5,0.5,0.5,0.5,0.5,0.5,0.5,0.5,0.5,0.5,0.5,0.5,0.5,0.5,0.5,0.5,0.5,0.5,0.5,0.5,0.5,0.5,0.5,0.75,0.75,0.75,0.75,0.75,0.75,0.75,0.75,0.75,0.75,0.75,0.75,0.75,0.75,0.75,0.75,0.75,0.75,0.75,0.75,0.75,0.75,0.75,0.75,0.75,0.75,0.75,0.75,0.75,0.75,0.75,0.75,0.75,0.75,0.75,0.75,1.0,1.0,1.0,1.0,1.0,1.0,1.0,1.0,1.0,1.0,1.0,1.0,1.0,1.0,1.0,1.0,1.0,1.0,1.0,1.0,1.0,1.0,1.0,1.0,1.0,1.0,1.0,1.0,1.0,1.0,1.0,1.0,1.0,1.0,1.0,1.0,1.0,1.0,1.0,1.0,1.0,1.0,1.0,1.0,1.0,1.0,1.0,1.0,1.0,1.0,1.0,1.0,1.0,1.0,1.0,1.0,1.0,1.0,1.0,1.0,1.0,1.0,1.0,1.0,1.0,1.0,1.0,1.0,1.0,1.0,1.0,1.0,1.0,1.0,1.0,1.0,1.0,1.0,1.0,1.0,1.0,1.0,1.0,1.0,1.0,1.0,1.0,1.0,1.0,1.0,1.0,1.0,1.0,1.0,1.0,1.0,1.0,1.0,1.0,1.0,1.0,1.0,1.0,1.0,1.0,1.0,1.0,1.0,1.0,1.0,1.0,1.0,1.0,1.0,1.0,1.0,1.0,1.0,1.0,1.0,1.0,1.0,1.0,1.0,1.0,1.0,1.0,1.0,1.0,1.0,1.0,1.0,1.0,1.0,1.0,1.0,1.0,1.0,1.0,1.0,1.0,1.0,1.0,1.0,1.0,1.0,1.0,1.0,1.0,1.0,1.0,1.0,1.0,1.0,1.0,1.0,1.0,1.0,1.0,1.0,1.0,1.0,1.0,1.0,1.0,1.0,1.0,1.0,1.0,1.0,1.0,1.0,1.0,1.0,1.0,1.0,1.0,1.0,1.0,1.0,1.0,1.0,1.0,1.0,1.0,1.0,1.0,1.0,1.0,1.0,1.0,1.0,1.0,1.0,1.0,1.0,1.0,1.0,1.0,1.0,1.0,1.0,1.0,1.0,1.0,1.0,1.0,1.0,1.0,1.0,1.0,1.0,1.0,1.0,1.0,1.0,1.0,1.0,1.0,1.0,1.0,1.0,1.0,1.0,1.0,1.0,1.0,1.0,1.0,1.0,1.0,1.0,1.0,1.0,1.0,1.0,1.0,1.0,1.0,1.0,1.0,1.0,1.0,1.0,1.0,1.0,1.0,1.0,1.0,1.0,1.0,1.0,1.0,1.0,1.0,1.0,1.0,1.0,1.0,1.0,1.0,1.0,1.0,1.0,1.0,1.0,1.0,1.0,1.0,1.0,1.0,1.0,1.0,1.0,1.0,1.0,1.0,1.0,1.0,1.0,1.0,1.0,1.0,1.0,1.0,1.0,1.0,1.0,1.0,1.0,1.0,1.0,1.0,1.0,1.0,1.0,1.0,1.0,1.0,1.0,1.0,1.0,1.0,1.0,1.0,1.0,1.0,1.0,1.0,1.0,1.0,1.0,1.0,1.0,1.0,1.0,1.0,1.0,1.0,1.0,1.0,1.0,1.0,1.0,1.0,1.0,1.0,1.0,1.0,1.0,1.0,1.0,1.0,1.0,1.0,1.0,1.0,1.0,1.0,1.0,1.0,1.0,1.0,1.0,1.0,1.0,1.0,1.0,1.0,1.0,1.0,1.0,1.0,1.0,1.0,1.0,1.0,1.0,1.0,1.0,1.0,1.0,1.0,1.0,1.0,1.0,1.0,1.0,1.0,1.0,1.0,1.0,1.0,1.0,1.0,1.0,1.0,1.0,1.0,1.0,1.0,1.0,1.0,1.0,1.0,1.0,1.0,1.0,1.0,1.0,1.0,1.0,1.0,1.0,1.0,1.0,1.0,1.0,1.0,1.0,1.0,1.0,1.0,1.0,1.0,1.0,1.0,1.0,1.0,1.0,1.0,1.0,1.0,1.0,1.0,1.0],\n",
       "\"price\":[1390.0,1709.9804305283758,2029.9608610567516,2349.941291585127,2669.921722113503,2989.9021526418787,3309.8825831702543,3629.8630136986303,3949.843444227006,4269.823874755381,4589.8043052837575,4909.784735812133,5229.765166340509,5549.745596868885,5869.726027397261,6189.706457925636,6509.686888454012,6829.667318982388,7149.647749510763,7469.628180039139,7789.608610567515,8109.58904109589,8429.569471624265,8749.549902152641,9069.530332681017,9389.510763209393,9709.49119373777,10029.471624266145,10349.452054794521,10669.432485322895,10989.412915851271,11309.393346379647,11629.373776908024,11949.3542074364,12269.334637964776,12589.315068493152,12909.295499021526,13229.275929549902,13549.256360078278,13869.236790606654,14189.21722113503,14509.197651663406,14829.17808219178,15149.158512720156,15469.138943248532,15789.119373776908,16109.099804305284,16429.08023483366,16749.060665362034,17069.04109589041,17389.021526418786,17709.001956947162,18028.98238747554,18348.962818003914,18668.94324853229,18988.923679060666,19308.904109589042,19628.88454011742,19948.86497064579,20268.845401174167,20588.825831702543,20908.80626223092,21228.786692759295,21548.76712328767,21868.747553816047,22188.727984344423,22508.7084148728,22828.688845401175,23148.66927592955,23468.649706457927,23788.630136986303,24108.610567514675,24428.59099804305,24748.571428571428,25068.551859099804,25388.53228962818,25708.512720156556,26028.49315068493,26348.473581213308,26668.454011741684,26988.43444227006,27308.414872798436,27628.39530332681,27948.375733855188,28268.35616438356,28588.336594911936,28908.317025440312,29228.297455968688,29548.277886497064,29868.25831702544,30188.238747553816,30508.219178082192,30828.19960861057,31148.180039138944,31468.16046966732,31788.140900195696,32108.12133072407,32428.101761252445,32748.08219178082,33068.0626223092,33388.04305283757,33708.02348336595,34028.003913894325,34347.9843444227,34667.96477495108,34987.94520547945,35307.92563600783,35627.906066536205,35947.88649706458,36267.86692759296,36587.84735812133,36907.82778864971,37227.808219178085,37547.78864970646,37867.76908023484,38187.74951076321,38507.72994129158,38827.71037181996,39147.690802348334,39467.67123287671,39787.651663405086,40107.63209393346,40427.61252446184,40747.592954990214,41067.57338551859,41387.553816046966,41707.53424657534,42027.51467710372,42347.495107632094,42667.47553816047,42987.455968688846,43307.43639921722,43627.4168297456,43947.397260273974,44267.37769080235,44587.358121330726,44907.3385518591,45227.31898238748,45547.299412915854,45867.27984344423,45867.27984344423,46187.260273972606,46507.240704500975,46827.22113502935,47147.20156555773,47467.1819960861,47787.16242661448,48107.142857142855,48427.12328767123,48747.10371819961,49067.08414872798,49387.06457925636,49707.045009784735,50027.02544031311,50347.00587084149,50666.98630136986,50986.96673189824,51306.947162426615,51626.92759295499,51946.90802348337,52266.88845401174,52586.86888454012,52906.849315068495,53226.82974559687,53546.81017612525,53866.79060665362,54186.771037182,54506.751467710375,54826.731898238744,55146.71232876712,55466.692759295496,55786.67318982387,56106.65362035225,56426.634050880624,56746.614481409,57066.594911937376,57386.57534246575,57706.55577299413,58026.536203522504,58346.51663405088,58346.51663405088,58666.49706457926,58986.47749510763,59306.45792563601,59626.438356164384,59946.41878669276,60266.39921722114,60586.37964774951,60906.36007827789,61226.340508806265,61546.32093933464,61866.30136986302,62186.28180039139,62506.26223091977,62826.24266144814,63146.22309197651,63466.20352250489,63786.183953033265,64106.16438356164,64426.14481409002,64746.12524461839,65066.10567514677,65386.086105675146,65706.06653620352,66026.0469667319,66346.02739726027,66666.00782778865,66985.98825831703,67305.9686888454,67625.94911937378,67945.92954990215,68265.90998043053,68585.8904109589,68905.87084148728,69225.85127201566,69545.83170254403,69865.81213307241,70185.79256360079,70505.77299412916,70825.75342465754,71145.73385518591,71465.71428571429,71785.69471624267,72105.67514677104,72425.65557729942,72745.6360078278,73065.61643835617,73385.59686888455,73705.57729941292,74025.5577299413,74345.53816046967,74665.51859099805,74985.49902152643,75305.47945205479,75625.45988258316,75945.44031311154,76265.42074363992,76585.40117416829,76905.38160469667,77225.36203522504,77545.34246575342,77865.3228962818,78185.30332681017,78505.28375733855,78825.26418786692,79145.2446183953,79145.2446183953,79465.22504892368,79785.20547945205,80105.18590998043,80425.1663405088,80745.14677103718,81065.12720156556,81385.10763209393,81705.08806262231,82025.06849315068,82345.04892367906,82665.02935420744,82985.00978473581,83304.99021526419,83624.97064579256,83944.95107632094,84264.93150684932,84584.91193737769,84904.89236790607,85224.87279843444,85544.85322896282,85864.8336594912,86184.81409001957,86504.79452054795,86824.77495107632,87144.7553816047,87464.73581213308,87784.71624266145,88104.69667318983,88424.6771037182,88744.65753424658,89064.63796477496,89384.61839530333,89704.59882583171,90024.57925636008,90344.55968688846,90664.54011741684,90984.52054794521,91304.50097847359,91624.48140900195,91944.46183953033,92264.4422700587,92584.42270058708,92904.40313111545,93224.38356164383,93544.3639921722,93864.34442270058,94184.32485322896,94504.30528375733,94824.28571428571,95144.26614481409,95464.24657534246,95784.22700587084,96104.20743639921,96424.18786692759,96744.16829745597,97064.14872798434,97384.12915851272,97704.1095890411,98024.09001956947,98344.07045009785,98664.05088062622,98984.0313111546,99304.01174168297,99623.99217221135,99943.97260273973,100263.9530332681,100583.93346379648,100903.91389432485,101223.89432485323,101543.8747553816,101863.85518590998,102183.83561643836,102503.81604696673,102823.79647749511,103143.77690802349,103463.75733855186,103783.73776908024,104103.71819960861,104423.69863013699,104743.67906066537,105063.65949119374,105383.63992172212,105703.6203522505,106023.60078277887,106343.58121330725,106663.56164383562,106983.542074364,107303.52250489237,107623.50293542075,107943.48336594911,108263.46379647749,108583.44422700586,108903.42465753424,109223.40508806262,109543.38551859099,109863.36594911937,110183.34637964774,110503.32681017612,110823.3072407045,111143.28767123287,111463.26810176125,111783.24853228962,112103.228962818,112423.20939334638,112743.18982387475,113063.17025440313,113383.1506849315,113703.13111545988,114023.11154598826,114343.09197651663,114663.07240704501,114983.05283757338,115303.03326810176,115623.01369863014,115942.99412915851,116262.97455968689,116582.95499021526,116902.93542074364,117222.91585127202,117542.8962818004,117862.87671232877,118182.85714285714,118502.83757338552,118822.8180039139,119142.79843444227,119462.77886497065,119782.75929549903,120102.7397260274,120422.72015655578,120742.70058708415,121062.68101761253,121382.6614481409,121702.64187866928,122022.62230919766,122342.60273972603,122662.58317025441,122982.56360078279,123302.54403131116,123622.52446183954,123942.50489236791,124262.48532289627,124582.46575342465,124902.44618395303,125222.4266144814,125542.40704500978,125862.38747553815,126182.36790606653,126502.3483365949,126822.32876712328,127142.30919765166,127462.28962818003,127782.27005870841,128102.25048923679,128422.23091976516,128742.21135029354,129062.19178082192,129382.17221135029,129702.15264187867,130022.13307240704,130342.11350293542,130662.0939334638,130982.07436399217,131302.05479452055,131622.03522504892,131942.0156555773,132261.99608610568,132581.97651663405,132901.95694716243,133221.9373776908,133541.91780821918,133861.89823874756,134181.87866927593,134501.8590998043,134821.83953033268,135141.81996086106,135461.80039138944,135781.7808219178,136101.7612524462,136421.74168297456,136741.72211350294,137061.70254403132,137381.6829745597,137701.66340508807,138021.64383561644,138341.62426614482,138661.6046966732,138981.58512720157,139301.56555772995,139621.54598825832,139941.5264187867,140261.50684931508,140581.48727984345,140901.46771037183,141221.4481409002,141541.42857142858,141861.40900195696,142181.38943248533,142501.3698630137,142821.35029354208,143141.33072407046,143461.31115459884,143781.2915851272,144101.2720156556,144421.25244618396,144741.23287671234,145061.21330724072,145381.1937377691,145701.17416829747,146021.15459882584,146341.13502935422,146661.1154598826,146981.09589041097,147301.07632093935,147621.05675146772,147941.0371819961,148261.01761252448,148580.99804305285,148900.9784735812,149220.95890410958,149540.93933463795,149860.91976516633,150180.9001956947,150500.88062622308,150820.86105675146,151140.84148727983,151460.8219178082,151780.80234833658,152100.78277886496,152420.76320939334,152740.7436399217,153060.7240704501,153380.70450097846,153700.68493150684,154020.66536203522,154340.6457925636,154660.62622309197,154980.60665362034,155300.58708414872,155620.5675146771,155940.54794520547,156260.52837573385,156580.50880626222,156900.4892367906,157220.46966731898,157540.45009784735,157860.43052837573,158180.4109589041,158500.39138943248,158820.37181996086,159140.35225048923,159460.3326810176,159780.31311154598,160100.29354207436,160420.27397260274,160740.2544031311,161060.2348336595,161380.21526418786,161700.19569471624,162020.17612524462,162340.156555773,162660.13698630137,162980.11741682974,163300.09784735812,163620.0782778865,163940.05870841487,164260.03913894325,164580.01956947162,164900.0,1390.0,1709.9804305283758,2029.9608610567516,2349.941291585127,2669.921722113503,2989.9021526418787,3309.8825831702543,3629.8630136986303,3949.843444227006,4269.823874755381,4589.8043052837575,4909.784735812133,5229.765166340509,5549.745596868885,5869.726027397261,6189.706457925636,6509.686888454012,6829.667318982388,7149.647749510763,7469.628180039139,7789.608610567515,8109.58904109589,8429.569471624265,8749.549902152641,9069.530332681017,9389.510763209393,9709.49119373777,10029.471624266145,10349.452054794521,10669.432485322895,10989.412915851271,11309.393346379647,11629.373776908024,11949.3542074364,12269.334637964776,12589.315068493152,12909.295499021526,13229.275929549902,13549.256360078278,13869.236790606654,14189.21722113503,14509.197651663406,14829.17808219178,15149.158512720156,15469.138943248532,15469.138943248532,15789.119373776908,16109.099804305284,16429.08023483366,16749.060665362034,17069.04109589041,17389.021526418786,17709.001956947162,18028.98238747554,18348.962818003914,18668.94324853229,18988.923679060666,19308.904109589042,19628.88454011742,19948.86497064579,20268.845401174167,20588.825831702543,20908.80626223092,21228.786692759295,21548.76712328767,21868.747553816047,22188.727984344423,22508.7084148728,22828.688845401175,23148.66927592955,23468.649706457927,23788.630136986303,23788.630136986303,24108.610567514675,24428.59099804305,24748.571428571428,25068.551859099804,25388.53228962818,25708.512720156556,26028.49315068493,26348.473581213308,26668.454011741684,26988.43444227006,27308.414872798436,27628.39530332681,27948.375733855188,28268.35616438356,28588.336594911936,28908.317025440312,29228.297455968688,29548.277886497064,29868.25831702544,30188.238747553816,30508.219178082192,30828.19960861057,31148.180039138944,31468.16046966732,31788.140900195696,32108.12133072407,32428.101761252445,32748.08219178082,33068.0626223092,33388.04305283757,33708.02348336595,34028.003913894325,34347.9843444227,34667.96477495108,34987.94520547945,35307.92563600783,35627.906066536205,35947.88649706458,36267.86692759296,36267.86692759296,36587.84735812133,36907.82778864971,37227.808219178085,37547.78864970646,37867.76908023484,38187.74951076321,38507.72994129158,38827.71037181996,39147.690802348334,39467.67123287671,39787.651663405086,40107.63209393346,40427.61252446184,40747.592954990214,41067.57338551859,41387.553816046966,41707.53424657534,42027.51467710372,42347.495107632094,42667.47553816047,42987.455968688846,43307.43639921722,43627.4168297456,43947.397260273974,44267.37769080235,44587.358121330726,44907.3385518591,45227.31898238748,45547.299412915854,45867.27984344423,46187.260273972606,46507.240704500975,46827.22113502935,47147.20156555773,47467.1819960861,47787.16242661448,48107.142857142855,48427.12328767123,48747.10371819961,49067.08414872798,49387.06457925636,49707.045009784735,50027.02544031311,50347.00587084149,50666.98630136986,50986.96673189824,51306.947162426615,51626.92759295499,51946.90802348337,52266.88845401174,52586.86888454012,52906.849315068495,53226.82974559687,53546.81017612525,53866.79060665362,54186.771037182,54506.751467710375,54826.731898238744,55146.71232876712,55466.692759295496,55786.67318982387,56106.65362035225,56426.634050880624,56746.614481409,57066.594911937376,57386.57534246575,57706.55577299413,58026.536203522504,58346.51663405088,58666.49706457926,58986.47749510763,59306.45792563601,59626.438356164384,59946.41878669276,60266.39921722114,60586.37964774951,60906.36007827789,61226.340508806265,61546.32093933464,61866.30136986302,62186.28180039139,62506.26223091977,62826.24266144814,63146.22309197651,63466.20352250489,63786.183953033265,64106.16438356164,64426.14481409002,64746.12524461839,65066.10567514677,65386.086105675146,65706.06653620352,66026.0469667319,66346.02739726027,66666.00782778865,66985.98825831703,67305.9686888454,67625.94911937378,67945.92954990215,68265.90998043053,68585.8904109589,68905.87084148728,69225.85127201566,69545.83170254403,69865.81213307241,70185.79256360079,70505.77299412916,70825.75342465754,71145.73385518591,71465.71428571429,71785.69471624267,72105.67514677104,72425.65557729942,72745.6360078278,73065.61643835617,73385.59686888455,73705.57729941292,74025.5577299413,74345.53816046967,74665.51859099805,74985.49902152643,75305.47945205479,75625.45988258316,75945.44031311154,76265.42074363992,76585.40117416829,76905.38160469667,77225.36203522504,77545.34246575342,77865.3228962818,78185.30332681017,78505.28375733855,78825.26418786692,79145.2446183953,79465.22504892368,79785.20547945205,80105.18590998043,80425.1663405088,80745.14677103718,81065.12720156556,81385.10763209393,81705.08806262231,82025.06849315068,82345.04892367906,82665.02935420744,82985.00978473581,83304.99021526419,83624.97064579256,83944.95107632094,84264.93150684932,84584.91193737769,84904.89236790607,85224.87279843444,85544.85322896282,85864.8336594912,86184.81409001957,86504.79452054795,86824.77495107632,87144.7553816047,87464.73581213308,87784.71624266145,88104.69667318983,88424.6771037182,88744.65753424658,89064.63796477496,89384.61839530333,89704.59882583171,90024.57925636008,90344.55968688846,90664.54011741684,90984.52054794521,91304.50097847359,91624.48140900195,91944.46183953033,92264.4422700587,92584.42270058708,92904.40313111545,93224.38356164383,93544.3639921722,93864.34442270058,94184.32485322896,94504.30528375733,94824.28571428571,95144.26614481409,95464.24657534246,95784.22700587084,96104.20743639921,96424.18786692759,96744.16829745597,97064.14872798434,97384.12915851272,97704.1095890411,98024.09001956947,98344.07045009785,98664.05088062622,98984.0313111546,99304.01174168297,99623.99217221135,99943.97260273973,100263.9530332681,100583.93346379648,100903.91389432485,101223.89432485323,101543.8747553816,101863.85518590998,102183.83561643836,102503.81604696673,102823.79647749511,103143.77690802349,103463.75733855186,103783.73776908024,104103.71819960861,104423.69863013699,104743.67906066537,105063.65949119374,105383.63992172212,105703.6203522505,106023.60078277887,106343.58121330725,106663.56164383562,106983.542074364,107303.52250489237,107623.50293542075,107943.48336594911,108263.46379647749,108583.44422700586,108903.42465753424,109223.40508806262,109543.38551859099,109863.36594911937,110183.34637964774,110503.32681017612,110823.3072407045,111143.28767123287,111463.26810176125,111783.24853228962,112103.228962818,112423.20939334638,112743.18982387475,113063.17025440313,113383.1506849315,113703.13111545988,114023.11154598826,114343.09197651663,114663.07240704501,114983.05283757338,115303.03326810176,115623.01369863014,115942.99412915851,116262.97455968689,116582.95499021526,116902.93542074364,117222.91585127202,117542.8962818004,117862.87671232877,118182.85714285714,118502.83757338552,118822.8180039139,119142.79843444227,119462.77886497065,119782.75929549903,120102.7397260274,120422.72015655578,120742.70058708415,121062.68101761253,121382.6614481409,121702.64187866928,122022.62230919766,122342.60273972603,122662.58317025441,122982.56360078279,123302.54403131116,123622.52446183954,123942.50489236791,124262.48532289627,124582.46575342465,124902.44618395303,125222.4266144814,125542.40704500978,125862.38747553815,126182.36790606653,126502.3483365949,126822.32876712328,127142.30919765166,127462.28962818003,127782.27005870841,128102.25048923679,128422.23091976516,128742.21135029354,129062.19178082192,129382.17221135029,129702.15264187867,130022.13307240704,130342.11350293542,130662.0939334638,130982.07436399217,131302.05479452055,131622.03522504892,131942.0156555773,132261.99608610568,132581.97651663405,132901.95694716243,133221.9373776908,133541.91780821918,133861.89823874756,134181.87866927593,134501.8590998043,134821.83953033268,135141.81996086106,135461.80039138944,135781.7808219178,136101.7612524462,136421.74168297456,136741.72211350294,137061.70254403132,137381.6829745597,137701.66340508807,138021.64383561644,138341.62426614482,138661.6046966732,138981.58512720157,139301.56555772995,139621.54598825832,139941.5264187867,140261.50684931508,140581.48727984345,140901.46771037183,141221.4481409002,141541.42857142858,141861.40900195696,142181.38943248533,142501.3698630137,142821.35029354208,143141.33072407046,143461.31115459884,143781.2915851272,144101.2720156556,144421.25244618396,144741.23287671234,145061.21330724072,145381.1937377691,145701.17416829747,146021.15459882584,146341.13502935422,146661.1154598826,146981.09589041097,147301.07632093935,147621.05675146772,147941.0371819961,148261.01761252448,148580.99804305285,148900.9784735812,149220.95890410958,149540.93933463795,149860.91976516633,150180.9001956947,150500.88062622308,150820.86105675146,151140.84148727983,151460.8219178082,151780.80234833658,152100.78277886496,152420.76320939334,152740.7436399217,153060.7240704501,153380.70450097846,153700.68493150684,154020.66536203522,154340.6457925636,154660.62622309197,154980.60665362034,155300.58708414872,155620.5675146771,155940.54794520547,156260.52837573385,156580.50880626222,156900.4892367906,157220.46966731898,157540.45009784735,157860.43052837573,158180.4109589041,158500.39138943248,158820.37181996086,159140.35225048923,159460.3326810176,159780.31311154598,160100.29354207436,160420.27397260274,160740.2544031311,161060.2348336595,161380.21526418786,161700.19569471624,162020.17612524462,162340.156555773,162660.13698630137,162980.11741682974,163300.09784735812,163620.0782778865,163940.05870841487,164260.03913894325,164580.01956947162,164900.0,1390.0,1709.9804305283758,2029.9608610567516,2349.941291585127,2669.921722113503,2989.9021526418787,3309.8825831702543,3629.8630136986303,3949.843444227006,4269.823874755381,4589.8043052837575,4909.784735812133,5229.765166340509,5549.745596868885,5869.726027397261,6189.706457925636,6509.686888454012,6829.667318982388,7149.647749510763,7469.628180039139,7789.608610567515,8109.58904109589,8429.569471624265,8749.549902152641,9069.530332681017,9389.510763209393,9709.49119373777,10029.471624266145,10349.452054794521,10669.432485322895,10989.412915851271,11309.393346379647,11629.373776908024,11949.3542074364,12269.334637964776,12589.315068493152,12909.295499021526,12909.295499021526,13229.275929549902,13549.256360078278,13869.236790606654,14189.21722113503,14509.197651663406,14829.17808219178,15149.158512720156,15469.138943248532,15789.119373776908,16109.099804305284,16429.08023483366,16749.060665362034,17069.04109589041,17389.021526418786,17709.001956947162,18028.98238747554,18348.962818003914,18668.94324853229,18988.923679060666,19308.904109589042,19628.88454011742,19948.86497064579,20268.845401174167,20588.825831702543,20908.80626223092,21228.786692759295,21548.76712328767,21868.747553816047,21868.747553816047,22188.727984344423,22508.7084148728,22828.688845401175,23148.66927592955,23468.649706457927,23788.630136986303,24108.610567514675,24428.59099804305,24748.571428571428,25068.551859099804,25388.53228962818,25708.512720156556,26028.49315068493,26348.473581213308,26668.454011741684,26988.43444227006,27308.414872798436,27628.39530332681,27948.375733855188,28268.35616438356,28588.336594911936,28908.317025440312,29228.297455968688,29548.277886497064,29868.25831702544,30188.238747553816,30508.219178082192,30828.19960861057,31148.180039138944,31468.16046966732,31788.140900195696,32108.12133072407,32428.101761252445,32748.08219178082,33068.0626223092,33388.04305283757,33708.02348336595,34028.003913894325,34347.9843444227,34667.96477495108,34987.94520547945,35307.92563600783,35627.906066536205,35947.88649706458,36267.86692759296,36587.84735812133,36907.82778864971,37227.808219178085,37547.78864970646,37867.76908023484,38187.74951076321,38507.72994129158,38827.71037181996,39147.690802348334,39467.67123287671,39787.651663405086,40107.63209393346,40427.61252446184,40747.592954990214,41067.57338551859,41387.553816046966,41707.53424657534,42027.51467710372,42347.495107632094,42667.47553816047,42667.47553816047,42987.455968688846,43307.43639921722,43627.4168297456,43947.397260273974,44267.37769080235,44587.358121330726,44907.3385518591,45227.31898238748,45547.299412915854,45867.27984344423,46187.260273972606,46507.240704500975,46827.22113502935,47147.20156555773,47467.1819960861,47787.16242661448,48107.142857142855,48427.12328767123,48747.10371819961,49067.08414872798,49387.06457925636,49707.045009784735,50027.02544031311,50347.00587084149,50666.98630136986,50986.96673189824,51306.947162426615,51626.92759295499,51946.90802348337,52266.88845401174,52586.86888454012,52906.849315068495,53226.82974559687,53546.81017612525,53866.79060665362,54186.771037182,54506.751467710375,54826.731898238744,55146.71232876712,55466.692759295496,55786.67318982387,56106.65362035225,56426.634050880624,56746.614481409,57066.594911937376,57386.57534246575,57706.55577299413,58026.536203522504,58346.51663405088,58666.49706457926,58986.47749510763,59306.45792563601,59626.438356164384,59946.41878669276,60266.39921722114,60586.37964774951,60906.36007827789,61226.340508806265,61546.32093933464,61866.30136986302,62186.28180039139,62506.26223091977,62826.24266144814,63146.22309197651,63466.20352250489,63786.183953033265,64106.16438356164,64426.14481409002,64746.12524461839,65066.10567514677,65386.086105675146,65706.06653620352,66026.0469667319,66346.02739726027,66666.00782778865,66985.98825831703,67305.9686888454,67625.94911937378,67945.92954990215,68265.90998043053,68585.8904109589,68905.87084148728,69225.85127201566,69545.83170254403,69865.81213307241,70185.79256360079,70505.77299412916,70825.75342465754,71145.73385518591,71465.71428571429,71785.69471624267,72105.67514677104,72425.65557729942,72745.6360078278,73065.61643835617,73385.59686888455,73705.57729941292,74025.5577299413,74345.53816046967,74665.51859099805,74985.49902152643,75305.47945205479,75625.45988258316,75945.44031311154,76265.42074363992,76585.40117416829,76905.38160469667,77225.36203522504,77545.34246575342,77865.3228962818,78185.30332681017,78505.28375733855,78825.26418786692,79145.2446183953,79465.22504892368,79785.20547945205,80105.18590998043,80425.1663405088,80745.14677103718,81065.12720156556,81385.10763209393,81705.08806262231,82025.06849315068,82345.04892367906,82665.02935420744,82985.00978473581,83304.99021526419,83624.97064579256,83944.95107632094,84264.93150684932,84584.91193737769,84904.89236790607,85224.87279843444,85544.85322896282,85864.8336594912,86184.81409001957,86504.79452054795,86824.77495107632,87144.7553816047,87464.73581213308,87784.71624266145,88104.69667318983,88424.6771037182,88744.65753424658,89064.63796477496,89384.61839530333,89704.59882583171,90024.57925636008,90344.55968688846,90664.54011741684,90984.52054794521,91304.50097847359,91624.48140900195,91944.46183953033,92264.4422700587,92584.42270058708,92904.40313111545,93224.38356164383,93544.3639921722,93864.34442270058,94184.32485322896,94504.30528375733,94824.28571428571,95144.26614481409,95464.24657534246,95784.22700587084,96104.20743639921,96424.18786692759,96744.16829745597,97064.14872798434,97384.12915851272,97704.1095890411,98024.09001956947,98344.07045009785,98664.05088062622,98984.0313111546,99304.01174168297,99623.99217221135,99943.97260273973,100263.9530332681,100583.93346379648,100903.91389432485,101223.89432485323,101543.8747553816,101863.85518590998,102183.83561643836,102503.81604696673,102823.79647749511,103143.77690802349,103463.75733855186,103783.73776908024,104103.71819960861,104423.69863013699,104743.67906066537,105063.65949119374,105383.63992172212,105703.6203522505,106023.60078277887,106343.58121330725,106663.56164383562,106983.542074364,107303.52250489237,107623.50293542075,107943.48336594911,108263.46379647749,108583.44422700586,108903.42465753424,109223.40508806262,109543.38551859099,109863.36594911937,110183.34637964774,110503.32681017612,110823.3072407045,111143.28767123287,111463.26810176125,111783.24853228962,112103.228962818,112423.20939334638,112743.18982387475,113063.17025440313,113383.1506849315,113703.13111545988,114023.11154598826,114343.09197651663,114663.07240704501,114983.05283757338,115303.03326810176,115623.01369863014,115942.99412915851,116262.97455968689,116582.95499021526,116902.93542074364,117222.91585127202,117542.8962818004,117862.87671232877,118182.85714285714,118502.83757338552,118822.8180039139,119142.79843444227,119462.77886497065,119782.75929549903,120102.7397260274,120422.72015655578,120742.70058708415,121062.68101761253,121382.6614481409,121702.64187866928,122022.62230919766,122342.60273972603,122662.58317025441,122982.56360078279,123302.54403131116,123622.52446183954,123942.50489236791,124262.48532289627,124582.46575342465,124902.44618395303,125222.4266144814,125542.40704500978,125862.38747553815,126182.36790606653,126502.3483365949,126822.32876712328,127142.30919765166,127462.28962818003,127782.27005870841,128102.25048923679,128422.23091976516,128742.21135029354,129062.19178082192,129382.17221135029,129702.15264187867,130022.13307240704,130342.11350293542,130662.0939334638,130982.07436399217,131302.05479452055,131622.03522504892,131942.0156555773,132261.99608610568,132581.97651663405,132901.95694716243,133221.9373776908,133541.91780821918,133861.89823874756,134181.87866927593,134501.8590998043,134821.83953033268,135141.81996086106,135461.80039138944,135781.7808219178,136101.7612524462,136421.74168297456,136741.72211350294,137061.70254403132,137381.6829745597,137701.66340508807,138021.64383561644,138341.62426614482,138661.6046966732,138981.58512720157,139301.56555772995,139621.54598825832,139941.5264187867,140261.50684931508,140581.48727984345,140901.46771037183,141221.4481409002,141541.42857142858,141861.40900195696,142181.38943248533,142501.3698630137,142821.35029354208,143141.33072407046,143461.31115459884,143781.2915851272,144101.2720156556,144421.25244618396,144741.23287671234,145061.21330724072,145381.1937377691,145701.17416829747,146021.15459882584,146341.13502935422,146661.1154598826,146981.09589041097,147301.07632093935,147621.05675146772,147941.0371819961,148261.01761252448,148580.99804305285,148900.9784735812,149220.95890410958,149540.93933463795,149860.91976516633,150180.9001956947,150500.88062622308,150820.86105675146,151140.84148727983,151460.8219178082,151780.80234833658,152100.78277886496,152420.76320939334,152740.7436399217,153060.7240704501,153380.70450097846,153700.68493150684,154020.66536203522,154340.6457925636,154660.62622309197,154980.60665362034,155300.58708414872,155620.5675146771,155940.54794520547,156260.52837573385,156580.50880626222,156900.4892367906,157220.46966731898,157540.45009784735,157860.43052837573,158180.4109589041,158500.39138943248,158820.37181996086,159140.35225048923,159460.3326810176,159780.31311154598,160100.29354207436,160420.27397260274,160740.2544031311,161060.2348336595,161380.21526418786,161700.19569471624,162020.17612524462,162340.156555773,162660.13698630137,162980.11741682974,163300.09784735812,163620.0782778865,163940.05870841487,164260.03913894325,164580.01956947162,164900.0,1390.0,1709.9804305283758,2029.9608610567516,2349.941291585127,2669.921722113503,2989.9021526418787,3309.8825831702543,3629.8630136986303,3949.843444227006,4269.823874755381,4589.8043052837575,4909.784735812133,5229.765166340509,5549.745596868885,5869.726027397261,6189.706457925636,6509.686888454012,6829.667318982388,7149.647749510763,7469.628180039139,7789.608610567515,8109.58904109589,8429.569471624265,8749.549902152641,9069.530332681017,9389.510763209393,9709.49119373777,10029.471624266145,10349.452054794521,10669.432485322895,10989.412915851271,11309.393346379647,11629.373776908024,11949.3542074364,11949.3542074364,12269.334637964776,12589.315068493152,12909.295499021526,13229.275929549902,13549.256360078278,13869.236790606654,14189.21722113503,14509.197651663406,14829.17808219178,15149.158512720156,15469.138943248532,15789.119373776908,16109.099804305284,16429.08023483366,16749.060665362034,17069.04109589041,17389.021526418786,17709.001956947162,17709.001956947162,18028.98238747554,18348.962818003914,18668.94324853229,18988.923679060666,19308.904109589042,19628.88454011742,19948.86497064579,20268.845401174167,20588.825831702543,20908.80626223092,21228.786692759295,21548.76712328767,21868.747553816047,22188.727984344423,22508.7084148728,22828.688845401175,23148.66927592955,23468.649706457927,23788.630136986303,23788.630136986303,24108.610567514675,24428.59099804305,24748.571428571428,25068.551859099804,25388.53228962818,25708.512720156556,26028.49315068493,26348.473581213308,26668.454011741684,26988.43444227006,27308.414872798436,27628.39530332681,27948.375733855188,28268.35616438356,28588.336594911936,28908.317025440312,29228.297455968688,29548.277886497064,29868.25831702544,30188.238747553816,30508.219178082192,30828.19960861057,31148.180039138944,31468.16046966732,31788.140900195696,32108.12133072407,32428.101761252445,32748.08219178082,33068.0626223092,33388.04305283757,33708.02348336595,34028.003913894325,34347.9843444227,34667.96477495108,34987.94520547945,35307.92563600783,35627.906066536205,35947.88649706458,36267.86692759296,36587.84735812133,36907.82778864971,37227.808219178085,37547.78864970646,37867.76908023484,38187.74951076321,38507.72994129158,38827.71037181996,39147.690802348334,39467.67123287671,39787.651663405086,40107.63209393346,40427.61252446184,40747.592954990214,41067.57338551859,41387.553816046966,41707.53424657534,42027.51467710372,42347.495107632094,42667.47553816047,42987.455968688846,43307.43639921722,43627.4168297456,43947.397260273974,44267.37769080235,44587.358121330726,44907.3385518591,45227.31898238748,45547.299412915854,45867.27984344423,46187.260273972606,46507.240704500975,46827.22113502935,47147.20156555773,47467.1819960861,47787.16242661448,48107.142857142855,48427.12328767123,48747.10371819961,49067.08414872798,49387.06457925636,49707.045009784735,50027.02544031311,50347.00587084149,50666.98630136986,50986.96673189824,51306.947162426615,51626.92759295499,51946.90802348337,52266.88845401174,52586.86888454012,52906.849315068495,53226.82974559687,53546.81017612525,53866.79060665362,54186.771037182,54506.751467710375,54826.731898238744,55146.71232876712,55466.692759295496,55786.67318982387,56106.65362035225,56426.634050880624,56746.614481409,57066.594911937376,57386.57534246575,57706.55577299413,58026.536203522504,58346.51663405088,58666.49706457926,58986.47749510763,59306.45792563601,59626.438356164384,59946.41878669276,60266.39921722114,60586.37964774951,60906.36007827789,61226.340508806265,61546.32093933464,61866.30136986302,62186.28180039139,62506.26223091977,62826.24266144814,63146.22309197651,63466.20352250489,63786.183953033265,64106.16438356164,64426.14481409002,64746.12524461839,65066.10567514677,65386.086105675146,65706.06653620352,66026.0469667319,66346.02739726027,66666.00782778865,66985.98825831703,67305.9686888454,67625.94911937378,67945.92954990215,68265.90998043053,68585.8904109589,68905.87084148728,69225.85127201566,69545.83170254403,69865.81213307241,70185.79256360079,70505.77299412916,70825.75342465754,71145.73385518591,71465.71428571429,71785.69471624267,72105.67514677104,72425.65557729942,72745.6360078278,73065.61643835617,73385.59686888455,73705.57729941292,74025.5577299413,74345.53816046967,74665.51859099805,74985.49902152643,75305.47945205479,75625.45988258316,75945.44031311154,76265.42074363992,76585.40117416829,76905.38160469667,77225.36203522504,77545.34246575342,77865.3228962818,78185.30332681017,78505.28375733855,78825.26418786692,79145.2446183953,79465.22504892368,79785.20547945205,80105.18590998043,80425.1663405088,80745.14677103718,81065.12720156556,81385.10763209393,81705.08806262231,82025.06849315068,82345.04892367906,82665.02935420744,82985.00978473581,83304.99021526419,83624.97064579256,83944.95107632094,84264.93150684932,84584.91193737769,84904.89236790607,85224.87279843444,85544.85322896282,85864.8336594912,86184.81409001957,86504.79452054795,86824.77495107632,87144.7553816047,87464.73581213308,87784.71624266145,88104.69667318983,88424.6771037182,88744.65753424658,89064.63796477496,89384.61839530333,89704.59882583171,90024.57925636008,90344.55968688846,90664.54011741684,90984.52054794521,91304.50097847359,91624.48140900195,91944.46183953033,92264.4422700587,92584.42270058708,92904.40313111545,93224.38356164383,93544.3639921722,93864.34442270058,94184.32485322896,94504.30528375733,94824.28571428571,95144.26614481409,95464.24657534246,95784.22700587084,96104.20743639921,96424.18786692759,96744.16829745597,97064.14872798434,97384.12915851272,97704.1095890411,98024.09001956947,98344.07045009785,98664.05088062622,98984.0313111546,99304.01174168297,99623.99217221135,99943.97260273973,100263.9530332681,100583.93346379648,100903.91389432485,101223.89432485323,101543.8747553816,101863.85518590998,102183.83561643836,102503.81604696673,102823.79647749511,103143.77690802349,103463.75733855186,103783.73776908024,104103.71819960861,104423.69863013699,104743.67906066537,105063.65949119374,105383.63992172212,105703.6203522505,106023.60078277887,106343.58121330725,106663.56164383562,106983.542074364,107303.52250489237,107623.50293542075,107943.48336594911,108263.46379647749,108583.44422700586,108903.42465753424,109223.40508806262,109543.38551859099,109863.36594911937,110183.34637964774,110503.32681017612,110823.3072407045,111143.28767123287,111463.26810176125,111783.24853228962,112103.228962818,112423.20939334638,112743.18982387475,113063.17025440313,113383.1506849315,113703.13111545988,114023.11154598826,114343.09197651663,114663.07240704501,114983.05283757338,115303.03326810176,115623.01369863014,115942.99412915851,116262.97455968689,116582.95499021526,116902.93542074364,117222.91585127202,117542.8962818004,117862.87671232877,118182.85714285714,118502.83757338552,118822.8180039139,119142.79843444227,119462.77886497065,119782.75929549903,120102.7397260274,120422.72015655578,120742.70058708415,121062.68101761253,121382.6614481409,121702.64187866928,122022.62230919766,122342.60273972603,122662.58317025441,122982.56360078279,123302.54403131116,123622.52446183954,123942.50489236791,124262.48532289627,124582.46575342465,124902.44618395303,125222.4266144814,125542.40704500978,125862.38747553815,126182.36790606653,126502.3483365949,126822.32876712328,127142.30919765166,127462.28962818003,127782.27005870841,128102.25048923679,128422.23091976516,128742.21135029354,129062.19178082192,129382.17221135029,129702.15264187867,130022.13307240704,130342.11350293542,130662.0939334638,130982.07436399217,131302.05479452055,131622.03522504892,131942.0156555773,132261.99608610568,132581.97651663405,132901.95694716243,133221.9373776908,133541.91780821918,133861.89823874756,134181.87866927593,134501.8590998043,134821.83953033268,135141.81996086106,135461.80039138944,135781.7808219178,136101.7612524462,136421.74168297456,136741.72211350294,137061.70254403132,137381.6829745597,137701.66340508807,138021.64383561644,138341.62426614482,138661.6046966732,138981.58512720157,139301.56555772995,139621.54598825832,139941.5264187867,140261.50684931508,140581.48727984345,140901.46771037183,141221.4481409002,141541.42857142858,141861.40900195696,142181.38943248533,142501.3698630137,142821.35029354208,143141.33072407046,143461.31115459884,143781.2915851272,144101.2720156556,144421.25244618396,144741.23287671234,145061.21330724072,145381.1937377691,145701.17416829747,146021.15459882584,146341.13502935422,146661.1154598826,146981.09589041097,147301.07632093935,147621.05675146772,147941.0371819961,148261.01761252448,148580.99804305285,148900.9784735812,149220.95890410958,149540.93933463795,149860.91976516633,150180.9001956947,150500.88062622308,150820.86105675146,151140.84148727983,151460.8219178082,151780.80234833658,152100.78277886496,152420.76320939334,152740.7436399217,153060.7240704501,153380.70450097846,153700.68493150684,154020.66536203522,154340.6457925636,154660.62622309197,154980.60665362034,155300.58708414872,155620.5675146771,155940.54794520547,156260.52837573385,156580.50880626222,156900.4892367906,157220.46966731898,157540.45009784735,157860.43052837573,158180.4109589041,158500.39138943248,158820.37181996086,159140.35225048923,159460.3326810176,159780.31311154598,160100.29354207436,160420.27397260274,160740.2544031311,161060.2348336595,161380.21526418786,161700.19569471624,162020.17612524462,162340.156555773,162660.13698630137,162980.11741682974,163300.09784735812,163620.0782778865,163940.05870841487,164260.03913894325,164580.01956947162,164900.0,1390.0,1709.9804305283758,2029.9608610567516,2349.941291585127,2669.921722113503,2989.9021526418787,3309.8825831702543,3629.8630136986303,3949.843444227006,4269.823874755381,4589.8043052837575,4909.784735812133,5229.765166340509,5549.745596868885,5869.726027397261,6189.706457925636,6509.686888454012,6829.667318982388,7149.647749510763,7469.628180039139,7789.608610567515,8109.58904109589,8429.569471624265,8749.549902152641,9069.530332681017,9389.510763209393,9709.49119373777,10029.471624266145,10349.452054794521,10669.432485322895,10989.412915851271,11309.393346379647,11629.373776908024,11949.3542074364,12269.334637964776,12589.315068493152,12909.295499021526,13229.275929549902,13229.275929549902,13549.256360078278,13869.236790606654,14189.21722113503,14509.197651663406,14829.17808219178,15149.158512720156,15469.138943248532,15789.119373776908,16109.099804305284,16429.08023483366,16749.060665362034,17069.04109589041,17389.021526418786,17709.001956947162,18028.98238747554,18348.962818003914,18668.94324853229,18988.923679060666,19308.904109589042,19628.88454011742,19948.86497064579,20268.845401174167,20588.825831702543,20908.80626223092,20908.80626223092,21228.786692759295,21548.76712328767,21868.747553816047,22188.727984344423,22508.7084148728,22828.688845401175,23148.66927592955,23468.649706457927,23788.630136986303,24108.610567514675,24428.59099804305,24748.571428571428,25068.551859099804,25388.53228962818,25708.512720156556,26028.49315068493,26348.473581213308,26668.454011741684,26988.43444227006,27308.414872798436,27628.39530332681,27948.375733855188,28268.35616438356,28588.336594911936,28908.317025440312,29228.297455968688,29548.277886497064,29868.25831702544,30188.238747553816,30508.219178082192,30828.19960861057,31148.180039138944,31468.16046966732,31788.140900195696,32108.12133072407,32108.12133072407,32428.101761252445,32748.08219178082,33068.0626223092,33388.04305283757,33708.02348336595,34028.003913894325,34347.9843444227,34667.96477495108,34987.94520547945,35307.92563600783,35627.906066536205,35947.88649706458,36267.86692759296,36587.84735812133,36907.82778864971,37227.808219178085,37547.78864970646,37867.76908023484,38187.74951076321,38507.72994129158,38827.71037181996,39147.690802348334,39467.67123287671,39787.651663405086,40107.63209393346,40427.61252446184,40747.592954990214,41067.57338551859,41387.553816046966,41707.53424657534,42027.51467710372,42347.495107632094,42667.47553816047,42987.455968688846,43307.43639921722,43627.4168297456,43947.397260273974,44267.37769080235,44587.358121330726,44907.3385518591,45227.31898238748,45547.299412915854,45867.27984344423,46187.260273972606,46507.240704500975,46827.22113502935,47147.20156555773,47467.1819960861,47787.16242661448,48107.142857142855,48427.12328767123,48747.10371819961,49067.08414872798,49387.06457925636,49707.045009784735,50027.02544031311,50347.00587084149,50666.98630136986,50986.96673189824,51306.947162426615,51626.92759295499,51946.90802348337,52266.88845401174,52586.86888454012,52906.849315068495,53226.82974559687,53546.81017612525,53866.79060665362,54186.771037182,54506.751467710375,54826.731898238744,55146.71232876712,55466.692759295496,55786.67318982387,56106.65362035225,56426.634050880624,56746.614481409,57066.594911937376,57386.57534246575,57706.55577299413,58026.536203522504,58346.51663405088,58666.49706457926,58986.47749510763,59306.45792563601,59626.438356164384,59946.41878669276,60266.39921722114,60586.37964774951,60906.36007827789,61226.340508806265,61546.32093933464,61866.30136986302,62186.28180039139,62506.26223091977,62826.24266144814,63146.22309197651,63466.20352250489,63786.183953033265,64106.16438356164,64426.14481409002,64746.12524461839,65066.10567514677,65386.086105675146,65706.06653620352,66026.0469667319,66346.02739726027,66666.00782778865,66985.98825831703,67305.9686888454,67625.94911937378,67945.92954990215,68265.90998043053,68585.8904109589,68905.87084148728,69225.85127201566,69545.83170254403,69865.81213307241,70185.79256360079,70505.77299412916,70825.75342465754,71145.73385518591,71465.71428571429,71785.69471624267,72105.67514677104,72425.65557729942,72745.6360078278,73065.61643835617,73385.59686888455,73705.57729941292,74025.5577299413,74345.53816046967,74665.51859099805,74985.49902152643,75305.47945205479,75625.45988258316,75945.44031311154,76265.42074363992,76585.40117416829,76905.38160469667,77225.36203522504,77545.34246575342,77865.3228962818,78185.30332681017,78505.28375733855,78825.26418786692,79145.2446183953,79465.22504892368,79785.20547945205,80105.18590998043,80425.1663405088,80745.14677103718,81065.12720156556,81385.10763209393,81705.08806262231,82025.06849315068,82345.04892367906,82665.02935420744,82985.00978473581,83304.99021526419,83624.97064579256,83944.95107632094,84264.93150684932,84584.91193737769,84904.89236790607,85224.87279843444,85544.85322896282,85864.8336594912,86184.81409001957,86504.79452054795,86824.77495107632,87144.7553816047,87464.73581213308,87784.71624266145,88104.69667318983,88424.6771037182,88744.65753424658,89064.63796477496,89384.61839530333,89704.59882583171,90024.57925636008,90344.55968688846,90664.54011741684,90984.52054794521,91304.50097847359,91624.48140900195,91944.46183953033,92264.4422700587,92584.42270058708,92904.40313111545,93224.38356164383,93544.3639921722,93864.34442270058,94184.32485322896,94504.30528375733,94824.28571428571,95144.26614481409,95464.24657534246,95784.22700587084,96104.20743639921,96424.18786692759,96744.16829745597,97064.14872798434,97384.12915851272,97704.1095890411,98024.09001956947,98344.07045009785,98664.05088062622,98984.0313111546,99304.01174168297,99623.99217221135,99943.97260273973,100263.9530332681,100583.93346379648,100903.91389432485,101223.89432485323,101543.8747553816,101863.85518590998,102183.83561643836,102503.81604696673,102823.79647749511,103143.77690802349,103463.75733855186,103783.73776908024,104103.71819960861,104423.69863013699,104743.67906066537,105063.65949119374,105383.63992172212,105703.6203522505,106023.60078277887,106343.58121330725,106663.56164383562,106983.542074364,107303.52250489237,107623.50293542075,107943.48336594911,108263.46379647749,108583.44422700586,108903.42465753424,109223.40508806262,109543.38551859099,109863.36594911937,110183.34637964774,110503.32681017612,110823.3072407045,111143.28767123287,111463.26810176125,111783.24853228962,112103.228962818,112423.20939334638,112743.18982387475,113063.17025440313,113383.1506849315,113703.13111545988,114023.11154598826,114343.09197651663,114663.07240704501,114983.05283757338,115303.03326810176,115623.01369863014,115942.99412915851,116262.97455968689,116582.95499021526,116902.93542074364,117222.91585127202,117542.8962818004,117862.87671232877,118182.85714285714,118502.83757338552,118822.8180039139,119142.79843444227,119462.77886497065,119782.75929549903,120102.7397260274,120422.72015655578,120742.70058708415,121062.68101761253,121382.6614481409,121702.64187866928,122022.62230919766,122342.60273972603,122662.58317025441,122982.56360078279,123302.54403131116,123622.52446183954,123942.50489236791,124262.48532289627,124582.46575342465,124902.44618395303,125222.4266144814,125542.40704500978,125862.38747553815,126182.36790606653,126502.3483365949,126822.32876712328,127142.30919765166,127462.28962818003,127782.27005870841,128102.25048923679,128422.23091976516,128742.21135029354,129062.19178082192,129382.17221135029,129702.15264187867,130022.13307240704,130342.11350293542,130662.0939334638,130982.07436399217,131302.05479452055,131622.03522504892,131942.0156555773,132261.99608610568,132581.97651663405,132901.95694716243,133221.9373776908,133541.91780821918,133861.89823874756,134181.87866927593,134501.8590998043,134821.83953033268,135141.81996086106,135461.80039138944,135781.7808219178,136101.7612524462,136421.74168297456,136741.72211350294,137061.70254403132,137381.6829745597,137701.66340508807,138021.64383561644,138341.62426614482,138661.6046966732,138981.58512720157,139301.56555772995,139621.54598825832,139941.5264187867,140261.50684931508,140581.48727984345,140901.46771037183,141221.4481409002,141541.42857142858,141861.40900195696,142181.38943248533,142501.3698630137,142821.35029354208,143141.33072407046,143461.31115459884,143781.2915851272,144101.2720156556,144421.25244618396,144741.23287671234,145061.21330724072,145381.1937377691,145701.17416829747,146021.15459882584,146341.13502935422,146661.1154598826,146981.09589041097,147301.07632093935,147621.05675146772,147941.0371819961,148261.01761252448,148580.99804305285,148900.9784735812,149220.95890410958,149540.93933463795,149860.91976516633,150180.9001956947,150500.88062622308,150820.86105675146,151140.84148727983,151460.8219178082,151780.80234833658,152100.78277886496,152420.76320939334,152740.7436399217,153060.7240704501,153380.70450097846,153700.68493150684,154020.66536203522,154340.6457925636,154660.62622309197,154980.60665362034,155300.58708414872,155620.5675146771,155940.54794520547,156260.52837573385,156580.50880626222,156900.4892367906,157220.46966731898,157540.45009784735,157860.43052837573,158180.4109589041,158500.39138943248,158820.37181996086,159140.35225048923,159460.3326810176,159780.31311154598,160100.29354207436,160420.27397260274,160740.2544031311,161060.2348336595,161380.21526418786,161700.19569471624,162020.17612524462,162340.156555773,162660.13698630137,162980.11741682974,163300.09784735812,163620.0782778865,163940.05870841487,164260.03913894325,164580.01956947162,164900.0],\n",
       "\"brand\":[\"Apple\",\"Apple\",\"Apple\",\"Apple\",\"Apple\",\"Apple\",\"Apple\",\"Apple\",\"Apple\",\"Apple\",\"Apple\",\"Apple\",\"Apple\",\"Apple\",\"Apple\",\"Apple\",\"Apple\",\"Apple\",\"Apple\",\"Apple\",\"Apple\",\"Apple\",\"Apple\",\"Apple\",\"Apple\",\"Apple\",\"Apple\",\"Apple\",\"Apple\",\"Apple\",\"Apple\",\"Apple\",\"Apple\",\"Apple\",\"Apple\",\"Apple\",\"Apple\",\"Apple\",\"Apple\",\"Apple\",\"Apple\",\"Apple\",\"Apple\",\"Apple\",\"Apple\",\"Apple\",\"Apple\",\"Apple\",\"Apple\",\"Apple\",\"Apple\",\"Apple\",\"Apple\",\"Apple\",\"Apple\",\"Apple\",\"Apple\",\"Apple\",\"Apple\",\"Apple\",\"Apple\",\"Apple\",\"Apple\",\"Apple\",\"Apple\",\"Apple\",\"Apple\",\"Apple\",\"Apple\",\"Apple\",\"Apple\",\"Apple\",\"Apple\",\"Apple\",\"Apple\",\"Apple\",\"Apple\",\"Apple\",\"Apple\",\"Apple\",\"Apple\",\"Apple\",\"Apple\",\"Apple\",\"Apple\",\"Apple\",\"Apple\",\"Apple\",\"Apple\",\"Apple\",\"Apple\",\"Apple\",\"Apple\",\"Apple\",\"Apple\",\"Apple\",\"Apple\",\"Apple\",\"Apple\",\"Apple\",\"Apple\",\"Apple\",\"Apple\",\"Apple\",\"Apple\",\"Apple\",\"Apple\",\"Apple\",\"Apple\",\"Apple\",\"Apple\",\"Apple\",\"Apple\",\"Apple\",\"Apple\",\"Apple\",\"Apple\",\"Apple\",\"Apple\",\"Apple\",\"Apple\",\"Apple\",\"Apple\",\"Apple\",\"Apple\",\"Apple\",\"Apple\",\"Apple\",\"Apple\",\"Apple\",\"Apple\",\"Apple\",\"Apple\",\"Apple\",\"Apple\",\"Apple\",\"Apple\",\"Apple\",\"Apple\",\"Apple\",\"Apple\",\"Apple\",\"Apple\",\"Apple\",\"Apple\",\"Apple\",\"Apple\",\"Apple\",\"Apple\",\"Apple\",\"Apple\",\"Apple\",\"Apple\",\"Apple\",\"Apple\",\"Apple\",\"Apple\",\"Apple\",\"Apple\",\"Apple\",\"Apple\",\"Apple\",\"Apple\",\"Apple\",\"Apple\",\"Apple\",\"Apple\",\"Apple\",\"Apple\",\"Apple\",\"Apple\",\"Apple\",\"Apple\",\"Apple\",\"Apple\",\"Apple\",\"Apple\",\"Apple\",\"Apple\",\"Apple\",\"Apple\",\"Apple\",\"Apple\",\"Apple\",\"Apple\",\"Apple\",\"Apple\",\"Apple\",\"Apple\",\"Apple\",\"Apple\",\"Apple\",\"Apple\",\"Apple\",\"Apple\",\"Apple\",\"Apple\",\"Apple\",\"Apple\",\"Apple\",\"Apple\",\"Apple\",\"Apple\",\"Apple\",\"Apple\",\"Apple\",\"Apple\",\"Apple\",\"Apple\",\"Apple\",\"Apple\",\"Apple\",\"Apple\",\"Apple\",\"Apple\",\"Apple\",\"Apple\",\"Apple\",\"Apple\",\"Apple\",\"Apple\",\"Apple\",\"Apple\",\"Apple\",\"Apple\",\"Apple\",\"Apple\",\"Apple\",\"Apple\",\"Apple\",\"Apple\",\"Apple\",\"Apple\",\"Apple\",\"Apple\",\"Apple\",\"Apple\",\"Apple\",\"Apple\",\"Apple\",\"Apple\",\"Apple\",\"Apple\",\"Apple\",\"Apple\",\"Apple\",\"Apple\",\"Apple\",\"Apple\",\"Apple\",\"Apple\",\"Apple\",\"Apple\",\"Apple\",\"Apple\",\"Apple\",\"Apple\",\"Apple\",\"Apple\",\"Apple\",\"Apple\",\"Apple\",\"Apple\",\"Apple\",\"Apple\",\"Apple\",\"Apple\",\"Apple\",\"Apple\",\"Apple\",\"Apple\",\"Apple\",\"Apple\",\"Apple\",\"Apple\",\"Apple\",\"Apple\",\"Apple\",\"Apple\",\"Apple\",\"Apple\",\"Apple\",\"Apple\",\"Apple\",\"Apple\",\"Apple\",\"Apple\",\"Apple\",\"Apple\",\"Apple\",\"Apple\",\"Apple\",\"Apple\",\"Apple\",\"Apple\",\"Apple\",\"Apple\",\"Apple\",\"Apple\",\"Apple\",\"Apple\",\"Apple\",\"Apple\",\"Apple\",\"Apple\",\"Apple\",\"Apple\",\"Apple\",\"Apple\",\"Apple\",\"Apple\",\"Apple\",\"Apple\",\"Apple\",\"Apple\",\"Apple\",\"Apple\",\"Apple\",\"Apple\",\"Apple\",\"Apple\",\"Apple\",\"Apple\",\"Apple\",\"Apple\",\"Apple\",\"Apple\",\"Apple\",\"Apple\",\"Apple\",\"Apple\",\"Apple\",\"Apple\",\"Apple\",\"Apple\",\"Apple\",\"Apple\",\"Apple\",\"Apple\",\"Apple\",\"Apple\",\"Apple\",\"Apple\",\"Apple\",\"Apple\",\"Apple\",\"Apple\",\"Apple\",\"Apple\",\"Apple\",\"Apple\",\"Apple\",\"Apple\",\"Apple\",\"Apple\",\"Apple\",\"Apple\",\"Apple\",\"Apple\",\"Apple\",\"Apple\",\"Apple\",\"Apple\",\"Apple\",\"Apple\",\"Apple\",\"Apple\",\"Apple\",\"Apple\",\"Apple\",\"Apple\",\"Apple\",\"Apple\",\"Apple\",\"Apple\",\"Apple\",\"Apple\",\"Apple\",\"Apple\",\"Apple\",\"Apple\",\"Apple\",\"Apple\",\"Apple\",\"Apple\",\"Apple\",\"Apple\",\"Apple\",\"Apple\",\"Apple\",\"Apple\",\"Apple\",\"Apple\",\"Apple\",\"Apple\",\"Apple\",\"Apple\",\"Apple\",\"Apple\",\"Apple\",\"Apple\",\"Apple\",\"Apple\",\"Apple\",\"Apple\",\"Apple\",\"Apple\",\"Apple\",\"Apple\",\"Apple\",\"Apple\",\"Apple\",\"Apple\",\"Apple\",\"Apple\",\"Apple\",\"Apple\",\"Apple\",\"Apple\",\"Apple\",\"Apple\",\"Apple\",\"Apple\",\"Apple\",\"Apple\",\"Apple\",\"Apple\",\"Apple\",\"Apple\",\"Apple\",\"Apple\",\"Apple\",\"Apple\",\"Apple\",\"Apple\",\"Apple\",\"Apple\",\"Apple\",\"Apple\",\"Apple\",\"Apple\",\"Apple\",\"Apple\",\"Apple\",\"Apple\",\"Apple\",\"Apple\",\"Apple\",\"Apple\",\"Apple\",\"Apple\",\"Apple\",\"Apple\",\"Apple\",\"Apple\",\"Apple\",\"Apple\",\"Apple\",\"Apple\",\"Apple\",\"Apple\",\"Apple\",\"Apple\",\"Apple\",\"Apple\",\"Apple\",\"Apple\",\"Apple\",\"Apple\",\"Apple\",\"Apple\",\"Apple\",\"Apple\",\"Apple\",\"Apple\",\"Apple\",\"Apple\",\"Apple\",\"Apple\",\"Apple\",\"Apple\",\"Apple\",\"Apple\",\"Apple\",\"Apple\",\"Apple\",\"Apple\",\"Apple\",\"Apple\",\"Apple\",\"Apple\",\"Apple\",\"Apple\",\"Apple\",\"Apple\",\"Apple\",\"Apple\",\"Apple\",\"Apple\",\"Apple\",\"Apple\",\"Apple\",\"Apple\",\"Apple\",\"Apple\",\"Apple\",\"Apple\",\"Apple\",\"Apple\",\"Apple\",\"Apple\",\"Apple\",\"Apple\",\"Apple\",\"Apple\",\"OPPO\",\"OPPO\",\"OPPO\",\"OPPO\",\"OPPO\",\"OPPO\",\"OPPO\",\"OPPO\",\"OPPO\",\"OPPO\",\"OPPO\",\"OPPO\",\"OPPO\",\"OPPO\",\"OPPO\",\"OPPO\",\"OPPO\",\"OPPO\",\"OPPO\",\"OPPO\",\"OPPO\",\"OPPO\",\"OPPO\",\"OPPO\",\"OPPO\",\"OPPO\",\"OPPO\",\"OPPO\",\"OPPO\",\"OPPO\",\"OPPO\",\"OPPO\",\"OPPO\",\"OPPO\",\"OPPO\",\"OPPO\",\"OPPO\",\"OPPO\",\"OPPO\",\"OPPO\",\"OPPO\",\"OPPO\",\"OPPO\",\"OPPO\",\"OPPO\",\"OPPO\",\"OPPO\",\"OPPO\",\"OPPO\",\"OPPO\",\"OPPO\",\"OPPO\",\"OPPO\",\"OPPO\",\"OPPO\",\"OPPO\",\"OPPO\",\"OPPO\",\"OPPO\",\"OPPO\",\"OPPO\",\"OPPO\",\"OPPO\",\"OPPO\",\"OPPO\",\"OPPO\",\"OPPO\",\"OPPO\",\"OPPO\",\"OPPO\",\"OPPO\",\"OPPO\",\"OPPO\",\"OPPO\",\"OPPO\",\"OPPO\",\"OPPO\",\"OPPO\",\"OPPO\",\"OPPO\",\"OPPO\",\"OPPO\",\"OPPO\",\"OPPO\",\"OPPO\",\"OPPO\",\"OPPO\",\"OPPO\",\"OPPO\",\"OPPO\",\"OPPO\",\"OPPO\",\"OPPO\",\"OPPO\",\"OPPO\",\"OPPO\",\"OPPO\",\"OPPO\",\"OPPO\",\"OPPO\",\"OPPO\",\"OPPO\",\"OPPO\",\"OPPO\",\"OPPO\",\"OPPO\",\"OPPO\",\"OPPO\",\"OPPO\",\"OPPO\",\"OPPO\",\"OPPO\",\"OPPO\",\"OPPO\",\"OPPO\",\"OPPO\",\"OPPO\",\"OPPO\",\"OPPO\",\"OPPO\",\"OPPO\",\"OPPO\",\"OPPO\",\"OPPO\",\"OPPO\",\"OPPO\",\"OPPO\",\"OPPO\",\"OPPO\",\"OPPO\",\"OPPO\",\"OPPO\",\"OPPO\",\"OPPO\",\"OPPO\",\"OPPO\",\"OPPO\",\"OPPO\",\"OPPO\",\"OPPO\",\"OPPO\",\"OPPO\",\"OPPO\",\"OPPO\",\"OPPO\",\"OPPO\",\"OPPO\",\"OPPO\",\"OPPO\",\"OPPO\",\"OPPO\",\"OPPO\",\"OPPO\",\"OPPO\",\"OPPO\",\"OPPO\",\"OPPO\",\"OPPO\",\"OPPO\",\"OPPO\",\"OPPO\",\"OPPO\",\"OPPO\",\"OPPO\",\"OPPO\",\"OPPO\",\"OPPO\",\"OPPO\",\"OPPO\",\"OPPO\",\"OPPO\",\"OPPO\",\"OPPO\",\"OPPO\",\"OPPO\",\"OPPO\",\"OPPO\",\"OPPO\",\"OPPO\",\"OPPO\",\"OPPO\",\"OPPO\",\"OPPO\",\"OPPO\",\"OPPO\",\"OPPO\",\"OPPO\",\"OPPO\",\"OPPO\",\"OPPO\",\"OPPO\",\"OPPO\",\"OPPO\",\"OPPO\",\"OPPO\",\"OPPO\",\"OPPO\",\"OPPO\",\"OPPO\",\"OPPO\",\"OPPO\",\"OPPO\",\"OPPO\",\"OPPO\",\"OPPO\",\"OPPO\",\"OPPO\",\"OPPO\",\"OPPO\",\"OPPO\",\"OPPO\",\"OPPO\",\"OPPO\",\"OPPO\",\"OPPO\",\"OPPO\",\"OPPO\",\"OPPO\",\"OPPO\",\"OPPO\",\"OPPO\",\"OPPO\",\"OPPO\",\"OPPO\",\"OPPO\",\"OPPO\",\"OPPO\",\"OPPO\",\"OPPO\",\"OPPO\",\"OPPO\",\"OPPO\",\"OPPO\",\"OPPO\",\"OPPO\",\"OPPO\",\"OPPO\",\"OPPO\",\"OPPO\",\"OPPO\",\"OPPO\",\"OPPO\",\"OPPO\",\"OPPO\",\"OPPO\",\"OPPO\",\"OPPO\",\"OPPO\",\"OPPO\",\"OPPO\",\"OPPO\",\"OPPO\",\"OPPO\",\"OPPO\",\"OPPO\",\"OPPO\",\"OPPO\",\"OPPO\",\"OPPO\",\"OPPO\",\"OPPO\",\"OPPO\",\"OPPO\",\"OPPO\",\"OPPO\",\"OPPO\",\"OPPO\",\"OPPO\",\"OPPO\",\"OPPO\",\"OPPO\",\"OPPO\",\"OPPO\",\"OPPO\",\"OPPO\",\"OPPO\",\"OPPO\",\"OPPO\",\"OPPO\",\"OPPO\",\"OPPO\",\"OPPO\",\"OPPO\",\"OPPO\",\"OPPO\",\"OPPO\",\"OPPO\",\"OPPO\",\"OPPO\",\"OPPO\",\"OPPO\",\"OPPO\",\"OPPO\",\"OPPO\",\"OPPO\",\"OPPO\",\"OPPO\",\"OPPO\",\"OPPO\",\"OPPO\",\"OPPO\",\"OPPO\",\"OPPO\",\"OPPO\",\"OPPO\",\"OPPO\",\"OPPO\",\"OPPO\",\"OPPO\",\"OPPO\",\"OPPO\",\"OPPO\",\"OPPO\",\"OPPO\",\"OPPO\",\"OPPO\",\"OPPO\",\"OPPO\",\"OPPO\",\"OPPO\",\"OPPO\",\"OPPO\",\"OPPO\",\"OPPO\",\"OPPO\",\"OPPO\",\"OPPO\",\"OPPO\",\"OPPO\",\"OPPO\",\"OPPO\",\"OPPO\",\"OPPO\",\"OPPO\",\"OPPO\",\"OPPO\",\"OPPO\",\"OPPO\",\"OPPO\",\"OPPO\",\"OPPO\",\"OPPO\",\"OPPO\",\"OPPO\",\"OPPO\",\"OPPO\",\"OPPO\",\"OPPO\",\"OPPO\",\"OPPO\",\"OPPO\",\"OPPO\",\"OPPO\",\"OPPO\",\"OPPO\",\"OPPO\",\"OPPO\",\"OPPO\",\"OPPO\",\"OPPO\",\"OPPO\",\"OPPO\",\"OPPO\",\"OPPO\",\"OPPO\",\"OPPO\",\"OPPO\",\"OPPO\",\"OPPO\",\"OPPO\",\"OPPO\",\"OPPO\",\"OPPO\",\"OPPO\",\"OPPO\",\"OPPO\",\"OPPO\",\"OPPO\",\"OPPO\",\"OPPO\",\"OPPO\",\"OPPO\",\"OPPO\",\"OPPO\",\"OPPO\",\"OPPO\",\"OPPO\",\"OPPO\",\"OPPO\",\"OPPO\",\"OPPO\",\"OPPO\",\"OPPO\",\"OPPO\",\"OPPO\",\"OPPO\",\"OPPO\",\"OPPO\",\"OPPO\",\"OPPO\",\"OPPO\",\"OPPO\",\"OPPO\",\"OPPO\",\"OPPO\",\"OPPO\",\"OPPO\",\"OPPO\",\"OPPO\",\"OPPO\",\"OPPO\",\"OPPO\",\"OPPO\",\"OPPO\",\"OPPO\",\"OPPO\",\"OPPO\",\"OPPO\",\"OPPO\",\"OPPO\",\"OPPO\",\"OPPO\",\"OPPO\",\"OPPO\",\"OPPO\",\"OPPO\",\"OPPO\",\"OPPO\",\"OPPO\",\"OPPO\",\"OPPO\",\"OPPO\",\"OPPO\",\"OPPO\",\"OPPO\",\"OPPO\",\"OPPO\",\"OPPO\",\"OPPO\",\"OPPO\",\"OPPO\",\"OPPO\",\"OPPO\",\"OPPO\",\"OPPO\",\"OPPO\",\"OPPO\",\"OPPO\",\"OPPO\",\"OPPO\",\"OPPO\",\"OPPO\",\"OPPO\",\"OPPO\",\"OPPO\",\"OPPO\",\"OPPO\",\"OPPO\",\"OPPO\",\"OPPO\",\"OPPO\",\"OPPO\",\"OPPO\",\"OPPO\",\"OPPO\",\"OPPO\",\"OPPO\",\"OPPO\",\"OPPO\",\"OPPO\",\"OPPO\",\"OPPO\",\"OPPO\",\"OPPO\",\"OPPO\",\"OPPO\",\"OPPO\",\"OPPO\",\"OPPO\",\"OPPO\",\"OPPO\",\"OPPO\",\"OPPO\",\"OPPO\",\"OPPO\",\"OPPO\",\"OPPO\",\"OPPO\",\"OPPO\",\"OPPO\",\"OPPO\",\"OPPO\",\"OPPO\",\"OPPO\",\"OPPO\",\"OPPO\",\"OPPO\",\"OPPO\",\"OPPO\",\"OPPO\",\"OPPO\",\"OPPO\",\"OPPO\",\"OPPO\",\"OPPO\",\"OPPO\",\"OPPO\",\"OPPO\",\"OPPO\",\"OPPO\",\"OPPO\",\"OPPO\",\"OPPO\",\"OPPO\",\"OPPO\",\"Samsung\",\"Samsung\",\"Samsung\",\"Samsung\",\"Samsung\",\"Samsung\",\"Samsung\",\"Samsung\",\"Samsung\",\"Samsung\",\"Samsung\",\"Samsung\",\"Samsung\",\"Samsung\",\"Samsung\",\"Samsung\",\"Samsung\",\"Samsung\",\"Samsung\",\"Samsung\",\"Samsung\",\"Samsung\",\"Samsung\",\"Samsung\",\"Samsung\",\"Samsung\",\"Samsung\",\"Samsung\",\"Samsung\",\"Samsung\",\"Samsung\",\"Samsung\",\"Samsung\",\"Samsung\",\"Samsung\",\"Samsung\",\"Samsung\",\"Samsung\",\"Samsung\",\"Samsung\",\"Samsung\",\"Samsung\",\"Samsung\",\"Samsung\",\"Samsung\",\"Samsung\",\"Samsung\",\"Samsung\",\"Samsung\",\"Samsung\",\"Samsung\",\"Samsung\",\"Samsung\",\"Samsung\",\"Samsung\",\"Samsung\",\"Samsung\",\"Samsung\",\"Samsung\",\"Samsung\",\"Samsung\",\"Samsung\",\"Samsung\",\"Samsung\",\"Samsung\",\"Samsung\",\"Samsung\",\"Samsung\",\"Samsung\",\"Samsung\",\"Samsung\",\"Samsung\",\"Samsung\",\"Samsung\",\"Samsung\",\"Samsung\",\"Samsung\",\"Samsung\",\"Samsung\",\"Samsung\",\"Samsung\",\"Samsung\",\"Samsung\",\"Samsung\",\"Samsung\",\"Samsung\",\"Samsung\",\"Samsung\",\"Samsung\",\"Samsung\",\"Samsung\",\"Samsung\",\"Samsung\",\"Samsung\",\"Samsung\",\"Samsung\",\"Samsung\",\"Samsung\",\"Samsung\",\"Samsung\",\"Samsung\",\"Samsung\",\"Samsung\",\"Samsung\",\"Samsung\",\"Samsung\",\"Samsung\",\"Samsung\",\"Samsung\",\"Samsung\",\"Samsung\",\"Samsung\",\"Samsung\",\"Samsung\",\"Samsung\",\"Samsung\",\"Samsung\",\"Samsung\",\"Samsung\",\"Samsung\",\"Samsung\",\"Samsung\",\"Samsung\",\"Samsung\",\"Samsung\",\"Samsung\",\"Samsung\",\"Samsung\",\"Samsung\",\"Samsung\",\"Samsung\",\"Samsung\",\"Samsung\",\"Samsung\",\"Samsung\",\"Samsung\",\"Samsung\",\"Samsung\",\"Samsung\",\"Samsung\",\"Samsung\",\"Samsung\",\"Samsung\",\"Samsung\",\"Samsung\",\"Samsung\",\"Samsung\",\"Samsung\",\"Samsung\",\"Samsung\",\"Samsung\",\"Samsung\",\"Samsung\",\"Samsung\",\"Samsung\",\"Samsung\",\"Samsung\",\"Samsung\",\"Samsung\",\"Samsung\",\"Samsung\",\"Samsung\",\"Samsung\",\"Samsung\",\"Samsung\",\"Samsung\",\"Samsung\",\"Samsung\",\"Samsung\",\"Samsung\",\"Samsung\",\"Samsung\",\"Samsung\",\"Samsung\",\"Samsung\",\"Samsung\",\"Samsung\",\"Samsung\",\"Samsung\",\"Samsung\",\"Samsung\",\"Samsung\",\"Samsung\",\"Samsung\",\"Samsung\",\"Samsung\",\"Samsung\",\"Samsung\",\"Samsung\",\"Samsung\",\"Samsung\",\"Samsung\",\"Samsung\",\"Samsung\",\"Samsung\",\"Samsung\",\"Samsung\",\"Samsung\",\"Samsung\",\"Samsung\",\"Samsung\",\"Samsung\",\"Samsung\",\"Samsung\",\"Samsung\",\"Samsung\",\"Samsung\",\"Samsung\",\"Samsung\",\"Samsung\",\"Samsung\",\"Samsung\",\"Samsung\",\"Samsung\",\"Samsung\",\"Samsung\",\"Samsung\",\"Samsung\",\"Samsung\",\"Samsung\",\"Samsung\",\"Samsung\",\"Samsung\",\"Samsung\",\"Samsung\",\"Samsung\",\"Samsung\",\"Samsung\",\"Samsung\",\"Samsung\",\"Samsung\",\"Samsung\",\"Samsung\",\"Samsung\",\"Samsung\",\"Samsung\",\"Samsung\",\"Samsung\",\"Samsung\",\"Samsung\",\"Samsung\",\"Samsung\",\"Samsung\",\"Samsung\",\"Samsung\",\"Samsung\",\"Samsung\",\"Samsung\",\"Samsung\",\"Samsung\",\"Samsung\",\"Samsung\",\"Samsung\",\"Samsung\",\"Samsung\",\"Samsung\",\"Samsung\",\"Samsung\",\"Samsung\",\"Samsung\",\"Samsung\",\"Samsung\",\"Samsung\",\"Samsung\",\"Samsung\",\"Samsung\",\"Samsung\",\"Samsung\",\"Samsung\",\"Samsung\",\"Samsung\",\"Samsung\",\"Samsung\",\"Samsung\",\"Samsung\",\"Samsung\",\"Samsung\",\"Samsung\",\"Samsung\",\"Samsung\",\"Samsung\",\"Samsung\",\"Samsung\",\"Samsung\",\"Samsung\",\"Samsung\",\"Samsung\",\"Samsung\",\"Samsung\",\"Samsung\",\"Samsung\",\"Samsung\",\"Samsung\",\"Samsung\",\"Samsung\",\"Samsung\",\"Samsung\",\"Samsung\",\"Samsung\",\"Samsung\",\"Samsung\",\"Samsung\",\"Samsung\",\"Samsung\",\"Samsung\",\"Samsung\",\"Samsung\",\"Samsung\",\"Samsung\",\"Samsung\",\"Samsung\",\"Samsung\",\"Samsung\",\"Samsung\",\"Samsung\",\"Samsung\",\"Samsung\",\"Samsung\",\"Samsung\",\"Samsung\",\"Samsung\",\"Samsung\",\"Samsung\",\"Samsung\",\"Samsung\",\"Samsung\",\"Samsung\",\"Samsung\",\"Samsung\",\"Samsung\",\"Samsung\",\"Samsung\",\"Samsung\",\"Samsung\",\"Samsung\",\"Samsung\",\"Samsung\",\"Samsung\",\"Samsung\",\"Samsung\",\"Samsung\",\"Samsung\",\"Samsung\",\"Samsung\",\"Samsung\",\"Samsung\",\"Samsung\",\"Samsung\",\"Samsung\",\"Samsung\",\"Samsung\",\"Samsung\",\"Samsung\",\"Samsung\",\"Samsung\",\"Samsung\",\"Samsung\",\"Samsung\",\"Samsung\",\"Samsung\",\"Samsung\",\"Samsung\",\"Samsung\",\"Samsung\",\"Samsung\",\"Samsung\",\"Samsung\",\"Samsung\",\"Samsung\",\"Samsung\",\"Samsung\",\"Samsung\",\"Samsung\",\"Samsung\",\"Samsung\",\"Samsung\",\"Samsung\",\"Samsung\",\"Samsung\",\"Samsung\",\"Samsung\",\"Samsung\",\"Samsung\",\"Samsung\",\"Samsung\",\"Samsung\",\"Samsung\",\"Samsung\",\"Samsung\",\"Samsung\",\"Samsung\",\"Samsung\",\"Samsung\",\"Samsung\",\"Samsung\",\"Samsung\",\"Samsung\",\"Samsung\",\"Samsung\",\"Samsung\",\"Samsung\",\"Samsung\",\"Samsung\",\"Samsung\",\"Samsung\",\"Samsung\",\"Samsung\",\"Samsung\",\"Samsung\",\"Samsung\",\"Samsung\",\"Samsung\",\"Samsung\",\"Samsung\",\"Samsung\",\"Samsung\",\"Samsung\",\"Samsung\",\"Samsung\",\"Samsung\",\"Samsung\",\"Samsung\",\"Samsung\",\"Samsung\",\"Samsung\",\"Samsung\",\"Samsung\",\"Samsung\",\"Samsung\",\"Samsung\",\"Samsung\",\"Samsung\",\"Samsung\",\"Samsung\",\"Samsung\",\"Samsung\",\"Samsung\",\"Samsung\",\"Samsung\",\"Samsung\",\"Samsung\",\"Samsung\",\"Samsung\",\"Samsung\",\"Samsung\",\"Samsung\",\"Samsung\",\"Samsung\",\"Samsung\",\"Samsung\",\"Samsung\",\"Samsung\",\"Samsung\",\"Samsung\",\"Samsung\",\"Samsung\",\"Samsung\",\"Samsung\",\"Samsung\",\"Samsung\",\"Samsung\",\"Samsung\",\"Samsung\",\"Samsung\",\"Samsung\",\"Samsung\",\"Samsung\",\"Samsung\",\"Samsung\",\"Samsung\",\"Samsung\",\"Samsung\",\"Samsung\",\"Samsung\",\"Samsung\",\"Samsung\",\"Samsung\",\"Samsung\",\"Samsung\",\"Samsung\",\"Samsung\",\"Samsung\",\"Samsung\",\"Samsung\",\"Samsung\",\"Samsung\",\"Samsung\",\"Samsung\",\"Samsung\",\"Samsung\",\"Samsung\",\"Samsung\",\"Samsung\",\"Samsung\",\"Samsung\",\"Samsung\",\"Samsung\",\"Samsung\",\"Samsung\",\"Samsung\",\"Samsung\",\"Samsung\",\"Samsung\",\"Samsung\",\"Samsung\",\"Samsung\",\"Samsung\",\"Samsung\",\"Samsung\",\"Samsung\",\"Samsung\",\"Samsung\",\"Samsung\",\"Samsung\",\"Samsung\",\"realme\",\"realme\",\"realme\",\"realme\",\"realme\",\"realme\",\"realme\",\"realme\",\"realme\",\"realme\",\"realme\",\"realme\",\"realme\",\"realme\",\"realme\",\"realme\",\"realme\",\"realme\",\"realme\",\"realme\",\"realme\",\"realme\",\"realme\",\"realme\",\"realme\",\"realme\",\"realme\",\"realme\",\"realme\",\"realme\",\"realme\",\"realme\",\"realme\",\"realme\",\"realme\",\"realme\",\"realme\",\"realme\",\"realme\",\"realme\",\"realme\",\"realme\",\"realme\",\"realme\",\"realme\",\"realme\",\"realme\",\"realme\",\"realme\",\"realme\",\"realme\",\"realme\",\"realme\",\"realme\",\"realme\",\"realme\",\"realme\",\"realme\",\"realme\",\"realme\",\"realme\",\"realme\",\"realme\",\"realme\",\"realme\",\"realme\",\"realme\",\"realme\",\"realme\",\"realme\",\"realme\",\"realme\",\"realme\",\"realme\",\"realme\",\"realme\",\"realme\",\"realme\",\"realme\",\"realme\",\"realme\",\"realme\",\"realme\",\"realme\",\"realme\",\"realme\",\"realme\",\"realme\",\"realme\",\"realme\",\"realme\",\"realme\",\"realme\",\"realme\",\"realme\",\"realme\",\"realme\",\"realme\",\"realme\",\"realme\",\"realme\",\"realme\",\"realme\",\"realme\",\"realme\",\"realme\",\"realme\",\"realme\",\"realme\",\"realme\",\"realme\",\"realme\",\"realme\",\"realme\",\"realme\",\"realme\",\"realme\",\"realme\",\"realme\",\"realme\",\"realme\",\"realme\",\"realme\",\"realme\",\"realme\",\"realme\",\"realme\",\"realme\",\"realme\",\"realme\",\"realme\",\"realme\",\"realme\",\"realme\",\"realme\",\"realme\",\"realme\",\"realme\",\"realme\",\"realme\",\"realme\",\"realme\",\"realme\",\"realme\",\"realme\",\"realme\",\"realme\",\"realme\",\"realme\",\"realme\",\"realme\",\"realme\",\"realme\",\"realme\",\"realme\",\"realme\",\"realme\",\"realme\",\"realme\",\"realme\",\"realme\",\"realme\",\"realme\",\"realme\",\"realme\",\"realme\",\"realme\",\"realme\",\"realme\",\"realme\",\"realme\",\"realme\",\"realme\",\"realme\",\"realme\",\"realme\",\"realme\",\"realme\",\"realme\",\"realme\",\"realme\",\"realme\",\"realme\",\"realme\",\"realme\",\"realme\",\"realme\",\"realme\",\"realme\",\"realme\",\"realme\",\"realme\",\"realme\",\"realme\",\"realme\",\"realme\",\"realme\",\"realme\",\"realme\",\"realme\",\"realme\",\"realme\",\"realme\",\"realme\",\"realme\",\"realme\",\"realme\",\"realme\",\"realme\",\"realme\",\"realme\",\"realme\",\"realme\",\"realme\",\"realme\",\"realme\",\"realme\",\"realme\",\"realme\",\"realme\",\"realme\",\"realme\",\"realme\",\"realme\",\"realme\",\"realme\",\"realme\",\"realme\",\"realme\",\"realme\",\"realme\",\"realme\",\"realme\",\"realme\",\"realme\",\"realme\",\"realme\",\"realme\",\"realme\",\"realme\",\"realme\",\"realme\",\"realme\",\"realme\",\"realme\",\"realme\",\"realme\",\"realme\",\"realme\",\"realme\",\"realme\",\"realme\",\"realme\",\"realme\",\"realme\",\"realme\",\"realme\",\"realme\",\"realme\",\"realme\",\"realme\",\"realme\",\"realme\",\"realme\",\"realme\",\"realme\",\"realme\",\"realme\",\"realme\",\"realme\",\"realme\",\"realme\",\"realme\",\"realme\",\"realme\",\"realme\",\"realme\",\"realme\",\"realme\",\"realme\",\"realme\",\"realme\",\"realme\",\"realme\",\"realme\",\"realme\",\"realme\",\"realme\",\"realme\",\"realme\",\"realme\",\"realme\",\"realme\",\"realme\",\"realme\",\"realme\",\"realme\",\"realme\",\"realme\",\"realme\",\"realme\",\"realme\",\"realme\",\"realme\",\"realme\",\"realme\",\"realme\",\"realme\",\"realme\",\"realme\",\"realme\",\"realme\",\"realme\",\"realme\",\"realme\",\"realme\",\"realme\",\"realme\",\"realme\",\"realme\",\"realme\",\"realme\",\"realme\",\"realme\",\"realme\",\"realme\",\"realme\",\"realme\",\"realme\",\"realme\",\"realme\",\"realme\",\"realme\",\"realme\",\"realme\",\"realme\",\"realme\",\"realme\",\"realme\",\"realme\",\"realme\",\"realme\",\"realme\",\"realme\",\"realme\",\"realme\",\"realme\",\"realme\",\"realme\",\"realme\",\"realme\",\"realme\",\"realme\",\"realme\",\"realme\",\"realme\",\"realme\",\"realme\",\"realme\",\"realme\",\"realme\",\"realme\",\"realme\",\"realme\",\"realme\",\"realme\",\"realme\",\"realme\",\"realme\",\"realme\",\"realme\",\"realme\",\"realme\",\"realme\",\"realme\",\"realme\",\"realme\",\"realme\",\"realme\",\"realme\",\"realme\",\"realme\",\"realme\",\"realme\",\"realme\",\"realme\",\"realme\",\"realme\",\"realme\",\"realme\",\"realme\",\"realme\",\"realme\",\"realme\",\"realme\",\"realme\",\"realme\",\"realme\",\"realme\",\"realme\",\"realme\",\"realme\",\"realme\",\"realme\",\"realme\",\"realme\",\"realme\",\"realme\",\"realme\",\"realme\",\"realme\",\"realme\",\"realme\",\"realme\",\"realme\",\"realme\",\"realme\",\"realme\",\"realme\",\"realme\",\"realme\",\"realme\",\"realme\",\"realme\",\"realme\",\"realme\",\"realme\",\"realme\",\"realme\",\"realme\",\"realme\",\"realme\",\"realme\",\"realme\",\"realme\",\"realme\",\"realme\",\"realme\",\"realme\",\"realme\",\"realme\",\"realme\",\"realme\",\"realme\",\"realme\",\"realme\",\"realme\",\"realme\",\"realme\",\"realme\",\"realme\",\"realme\",\"realme\",\"realme\",\"realme\",\"realme\",\"realme\",\"realme\",\"realme\",\"realme\",\"realme\",\"realme\",\"realme\",\"realme\",\"realme\",\"realme\",\"realme\",\"realme\",\"realme\",\"realme\",\"realme\",\"realme\",\"realme\",\"realme\",\"realme\",\"realme\",\"realme\",\"realme\",\"realme\",\"realme\",\"realme\",\"realme\",\"realme\",\"realme\",\"realme\",\"realme\",\"realme\",\"realme\",\"realme\",\"realme\",\"realme\",\"realme\",\"realme\",\"realme\",\"realme\",\"realme\",\"realme\",\"realme\",\"realme\",\"realme\",\"realme\",\"realme\",\"realme\",\"realme\",\"realme\",\"realme\",\"realme\",\"realme\",\"realme\",\"realme\",\"realme\",\"realme\",\"realme\",\"realme\",\"realme\",\"vivo\",\"vivo\",\"vivo\",\"vivo\",\"vivo\",\"vivo\",\"vivo\",\"vivo\",\"vivo\",\"vivo\",\"vivo\",\"vivo\",\"vivo\",\"vivo\",\"vivo\",\"vivo\",\"vivo\",\"vivo\",\"vivo\",\"vivo\",\"vivo\",\"vivo\",\"vivo\",\"vivo\",\"vivo\",\"vivo\",\"vivo\",\"vivo\",\"vivo\",\"vivo\",\"vivo\",\"vivo\",\"vivo\",\"vivo\",\"vivo\",\"vivo\",\"vivo\",\"vivo\",\"vivo\",\"vivo\",\"vivo\",\"vivo\",\"vivo\",\"vivo\",\"vivo\",\"vivo\",\"vivo\",\"vivo\",\"vivo\",\"vivo\",\"vivo\",\"vivo\",\"vivo\",\"vivo\",\"vivo\",\"vivo\",\"vivo\",\"vivo\",\"vivo\",\"vivo\",\"vivo\",\"vivo\",\"vivo\",\"vivo\",\"vivo\",\"vivo\",\"vivo\",\"vivo\",\"vivo\",\"vivo\",\"vivo\",\"vivo\",\"vivo\",\"vivo\",\"vivo\",\"vivo\",\"vivo\",\"vivo\",\"vivo\",\"vivo\",\"vivo\",\"vivo\",\"vivo\",\"vivo\",\"vivo\",\"vivo\",\"vivo\",\"vivo\",\"vivo\",\"vivo\",\"vivo\",\"vivo\",\"vivo\",\"vivo\",\"vivo\",\"vivo\",\"vivo\",\"vivo\",\"vivo\",\"vivo\",\"vivo\",\"vivo\",\"vivo\",\"vivo\",\"vivo\",\"vivo\",\"vivo\",\"vivo\",\"vivo\",\"vivo\",\"vivo\",\"vivo\",\"vivo\",\"vivo\",\"vivo\",\"vivo\",\"vivo\",\"vivo\",\"vivo\",\"vivo\",\"vivo\",\"vivo\",\"vivo\",\"vivo\",\"vivo\",\"vivo\",\"vivo\",\"vivo\",\"vivo\",\"vivo\",\"vivo\",\"vivo\",\"vivo\",\"vivo\",\"vivo\",\"vivo\",\"vivo\",\"vivo\",\"vivo\",\"vivo\",\"vivo\",\"vivo\",\"vivo\",\"vivo\",\"vivo\",\"vivo\",\"vivo\",\"vivo\",\"vivo\",\"vivo\",\"vivo\",\"vivo\",\"vivo\",\"vivo\",\"vivo\",\"vivo\",\"vivo\",\"vivo\",\"vivo\",\"vivo\",\"vivo\",\"vivo\",\"vivo\",\"vivo\",\"vivo\",\"vivo\",\"vivo\",\"vivo\",\"vivo\",\"vivo\",\"vivo\",\"vivo\",\"vivo\",\"vivo\",\"vivo\",\"vivo\",\"vivo\",\"vivo\",\"vivo\",\"vivo\",\"vivo\",\"vivo\",\"vivo\",\"vivo\",\"vivo\",\"vivo\",\"vivo\",\"vivo\",\"vivo\",\"vivo\",\"vivo\",\"vivo\",\"vivo\",\"vivo\",\"vivo\",\"vivo\",\"vivo\",\"vivo\",\"vivo\",\"vivo\",\"vivo\",\"vivo\",\"vivo\",\"vivo\",\"vivo\",\"vivo\",\"vivo\",\"vivo\",\"vivo\",\"vivo\",\"vivo\",\"vivo\",\"vivo\",\"vivo\",\"vivo\",\"vivo\",\"vivo\",\"vivo\",\"vivo\",\"vivo\",\"vivo\",\"vivo\",\"vivo\",\"vivo\",\"vivo\",\"vivo\",\"vivo\",\"vivo\",\"vivo\",\"vivo\",\"vivo\",\"vivo\",\"vivo\",\"vivo\",\"vivo\",\"vivo\",\"vivo\",\"vivo\",\"vivo\",\"vivo\",\"vivo\",\"vivo\",\"vivo\",\"vivo\",\"vivo\",\"vivo\",\"vivo\",\"vivo\",\"vivo\",\"vivo\",\"vivo\",\"vivo\",\"vivo\",\"vivo\",\"vivo\",\"vivo\",\"vivo\",\"vivo\",\"vivo\",\"vivo\",\"vivo\",\"vivo\",\"vivo\",\"vivo\",\"vivo\",\"vivo\",\"vivo\",\"vivo\",\"vivo\",\"vivo\",\"vivo\",\"vivo\",\"vivo\",\"vivo\",\"vivo\",\"vivo\",\"vivo\",\"vivo\",\"vivo\",\"vivo\",\"vivo\",\"vivo\",\"vivo\",\"vivo\",\"vivo\",\"vivo\",\"vivo\",\"vivo\",\"vivo\",\"vivo\",\"vivo\",\"vivo\",\"vivo\",\"vivo\",\"vivo\",\"vivo\",\"vivo\",\"vivo\",\"vivo\",\"vivo\",\"vivo\",\"vivo\",\"vivo\",\"vivo\",\"vivo\",\"vivo\",\"vivo\",\"vivo\",\"vivo\",\"vivo\",\"vivo\",\"vivo\",\"vivo\",\"vivo\",\"vivo\",\"vivo\",\"vivo\",\"vivo\",\"vivo\",\"vivo\",\"vivo\",\"vivo\",\"vivo\",\"vivo\",\"vivo\",\"vivo\",\"vivo\",\"vivo\",\"vivo\",\"vivo\",\"vivo\",\"vivo\",\"vivo\",\"vivo\",\"vivo\",\"vivo\",\"vivo\",\"vivo\",\"vivo\",\"vivo\",\"vivo\",\"vivo\",\"vivo\",\"vivo\",\"vivo\",\"vivo\",\"vivo\",\"vivo\",\"vivo\",\"vivo\",\"vivo\",\"vivo\",\"vivo\",\"vivo\",\"vivo\",\"vivo\",\"vivo\",\"vivo\",\"vivo\",\"vivo\",\"vivo\",\"vivo\",\"vivo\",\"vivo\",\"vivo\",\"vivo\",\"vivo\",\"vivo\",\"vivo\",\"vivo\",\"vivo\",\"vivo\",\"vivo\",\"vivo\",\"vivo\",\"vivo\",\"vivo\",\"vivo\",\"vivo\",\"vivo\",\"vivo\",\"vivo\",\"vivo\",\"vivo\",\"vivo\",\"vivo\",\"vivo\",\"vivo\",\"vivo\",\"vivo\",\"vivo\",\"vivo\",\"vivo\",\"vivo\",\"vivo\",\"vivo\",\"vivo\",\"vivo\",\"vivo\",\"vivo\",\"vivo\",\"vivo\",\"vivo\",\"vivo\",\"vivo\",\"vivo\",\"vivo\",\"vivo\",\"vivo\",\"vivo\",\"vivo\",\"vivo\",\"vivo\",\"vivo\",\"vivo\",\"vivo\",\"vivo\",\"vivo\",\"vivo\",\"vivo\",\"vivo\",\"vivo\",\"vivo\",\"vivo\",\"vivo\",\"vivo\",\"vivo\",\"vivo\",\"vivo\",\"vivo\",\"vivo\",\"vivo\",\"vivo\",\"vivo\",\"vivo\",\"vivo\",\"vivo\",\"vivo\",\"vivo\",\"vivo\",\"vivo\",\"vivo\",\"vivo\",\"vivo\",\"vivo\",\"vivo\",\"vivo\",\"vivo\",\"vivo\",\"vivo\",\"vivo\",\"vivo\",\"vivo\",\"vivo\",\"vivo\",\"vivo\",\"vivo\",\"vivo\",\"vivo\",\"vivo\",\"vivo\",\"vivo\",\"vivo\",\"vivo\",\"vivo\",\"vivo\",\"vivo\",\"vivo\",\"vivo\",\"vivo\",\"vivo\",\"vivo\",\"vivo\",\"vivo\",\"vivo\",\"vivo\",\"vivo\",\"vivo\",\"vivo\",\"vivo\",\"vivo\",\"vivo\",\"vivo\",\"vivo\",\"vivo\",\"vivo\",\"vivo\",\"vivo\",\"vivo\",\"vivo\",\"vivo\",\"vivo\",\"vivo\",\"vivo\",\"vivo\",\"vivo\",\"vivo\",\"vivo\",\"vivo\",\"vivo\",\"vivo\",\"vivo\",\"vivo\",\"vivo\",\"vivo\",\"vivo\",\"vivo\",\"vivo\",\"vivo\",\"vivo\",\"vivo\",\"vivo\",\"vivo\",\"vivo\",\"vivo\"]\n",
       "}\n",
       "}],\n",
       "\"metainfo_list\":[],\n",
       "\"spec_id\":\"6\"\n",
       "};\n",
       "               window.letsPlotCall(function() {\n",
       "       \n",
       "               var toolbar = null;\n",
       "               var plotContainer = containerDiv;               \n",
       "               \n",
       "                   var options = {\n",
       "                       sizing: {\n",
       "                           width_mode: \"min\",\n",
       "                           height_mode: \"scaled\",\n",
       "                           width: width\n",
       "                       }\n",
       "                   };\n",
       "                   var fig = LetsPlot.buildPlotFromProcessedSpecs(plotSpec, -1, -1, plotContainer, options);\n",
       "                   if (toolbar) {\n",
       "                     toolbar.bind(fig);\n",
       "                   }\n",
       "               });\n",
       "               \n",
       "               break;\n",
       "           }\n",
       "       }\n",
       "   });\n",
       "   \n",
       "   observer.observe(containerDiv);\n",
       "   \n",
       "   // ----------\n",
       "   })();\n",
       "   \n",
       "   </script>"
      ],
      "text/plain": [
       "<lets_plot.plot.core.PlotSpec at 0x16efe4b8080>"
      ]
     },
     "execution_count": 25,
     "metadata": {},
     "output_type": "execute_result"
    }
   ],
   "source": [
    "#from lets_plot import *\n",
    "#LetsPlot.setup_html()\n",
    "\n",
    "ggplot(df_combined, aes(x=\"price\", fill=\"brand\", color=\"brand\")) + \\\n",
    "    geom_density(alpha=0.5, size=1) + \\\n",
    "    facet_wrap(facets=\"brand\") + \\\n",
    "    ggtitle(\"Price Density by Brand\") + \\\n",
    "    xlab(\"Price (INR)\") + \\\n",
    "    ylab(\"Density\")\n"
   ]
  },
  {
   "cell_type": "code",
   "execution_count": 27,
   "metadata": {},
   "outputs": [
    {
     "data": {
      "application/vnd.plotly.v1+json": {
       "config": {
        "plotlyServerURL": "https://plot.ly"
       },
       "data": [
        {
         "dimensions": [
          {
           "label": "price",
           "values": [
            14499,
            14499,
            16990,
            21990,
            24999,
            17999,
            15999,
            23999,
            12999,
            12999,
            15599,
            12999,
            11999,
            18499,
            20499,
            18499,
            20499,
            11499,
            10499,
            22999,
            24999,
            22999,
            24999,
            29999,
            33999,
            29999,
            33999,
            13999,
            13999,
            13999,
            13990,
            26999,
            10449,
            38990,
            27999,
            9999,
            35999,
            35999,
            14499,
            32999,
            19490,
            16499,
            35140,
            32999,
            39999,
            29790,
            34999,
            29945,
            34999,
            39999,
            34999,
            25499,
            27999,
            24790,
            34999,
            36999,
            41999,
            34999,
            36999,
            42999,
            34999,
            36999,
            41999,
            49999,
            55999,
            49999,
            55999,
            26999,
            28999,
            26999,
            28999,
            34999,
            36999,
            40999,
            36999,
            40999,
            34999,
            36999,
            65999,
            65999,
            29775,
            49990,
            59999,
            42990,
            50499,
            7999,
            7999,
            23999,
            21999,
            21999,
            10990,
            11990,
            36999,
            9799,
            9499,
            8899,
            9597,
            31780,
            10005,
            64995,
            11899,
            14999,
            8399,
            7999,
            7999,
            8499,
            9499,
            23999,
            23299,
            23490,
            23299,
            24999,
            24999,
            15490,
            29800,
            19490,
            8790,
            43990,
            19985,
            15499,
            15499,
            14499,
            13499,
            14499,
            12499,
            12816,
            13999,
            12999,
            12999,
            12390,
            10449,
            11900,
            9850,
            10999,
            10999,
            12590,
            11999,
            11499,
            11499,
            14441,
            12999,
            15499,
            18999,
            13999,
            18999,
            21999,
            23999,
            21999,
            23999,
            21999,
            23999,
            23999,
            13999,
            14999,
            14999,
            17999,
            17999,
            16332,
            16695,
            9499,
            9999,
            12999,
            17999,
            16999,
            19999,
            22999,
            19999,
            20999,
            21999,
            22999,
            21999,
            23999,
            21999,
            23999,
            20999,
            21999,
            20999,
            21999,
            13499,
            13499,
            13499,
            17999,
            17999,
            19999,
            23999,
            26999,
            21999,
            23999,
            24390,
            21999,
            23999,
            26999,
            26999,
            25999,
            26999,
            28999,
            22999,
            24999,
            22999,
            26999,
            26999,
            24999,
            24999,
            26999,
            29999,
            14999,
            14999,
            14999,
            17999,
            16198,
            16445,
            20990,
            15027,
            20990,
            13499,
            11499,
            13499,
            11499,
            8574,
            8999,
            9999,
            8999,
            8999,
            9499,
            8999,
            11999,
            10999,
            7864,
            7699,
            7699,
            8499,
            8499,
            11299,
            11395,
            12999,
            10999,
            11498,
            11178,
            10499,
            12999,
            11499,
            14999,
            14999,
            21999,
            29999,
            29999,
            37999,
            37999,
            33999,
            37999,
            25280,
            27418,
            29995,
            30999,
            29490,
            32893,
            59999,
            59999,
            11499,
            11490,
            11650,
            11499,
            10999,
            7613,
            10560,
            7990,
            8493,
            8599,
            8990,
            12115,
            10399,
            12140,
            15999,
            18999,
            15999,
            18999,
            15999,
            18999,
            15999,
            17999,
            15999,
            17999,
            17999,
            20999,
            20999,
            18999,
            21890,
            15199,
            20990,
            22450,
            16999,
            13699,
            32999,
            12799,
            32999,
            6990,
            8909,
            12499,
            8114,
            7699,
            8067,
            7899,
            9990,
            9990,
            11499,
            11499,
            11499,
            13499,
            11248,
            18499,
            15499,
            18499,
            20999,
            16999,
            19999,
            14499,
            24498,
            14363,
            19999,
            14973,
            18990,
            15499,
            19999,
            18499,
            16790,
            16999,
            16798,
            22990,
            21042,
            25999,
            25999,
            28999,
            24491,
            28999,
            13599,
            27990,
            31999,
            28999,
            31990,
            27999,
            33999,
            45999,
            34599,
            6499,
            14999,
            10499,
            11499,
            10499,
            11499,
            10499,
            10999,
            9299,
            13490,
            13499,
            13499,
            13499,
            18499,
            21999,
            31999,
            23999,
            26999,
            19498,
            9890,
            24000,
            16499,
            8848,
            8450,
            12999,
            12990,
            12970,
            17999,
            1390,
            14497,
            21026,
            14534,
            22399,
            14482,
            20985,
            7999,
            27820,
            95900,
            49999,
            34999,
            37999,
            74999,
            89999,
            81999,
            64999,
            70999,
            82999,
            59999,
            49859,
            59999,
            49795,
            43999,
            144999,
            62999,
            80999,
            92999,
            80999,
            92999,
            80999,
            79149,
            111999,
            99999,
            129999,
            141999,
            79999,
            96999,
            104999,
            96999,
            97999,
            6967,
            12898,
            12715,
            14060,
            12748,
            16890,
            45999,
            34990,
            11499,
            45999,
            34990,
            31999,
            17999,
            23999,
            14999,
            13999,
            17999,
            19999,
            17999,
            19999,
            15999,
            27525,
            12999,
            9999,
            9999,
            9999,
            12499,
            20999,
            11499,
            18989,
            36999,
            12990,
            13999,
            13500,
            19490,
            17499,
            38999,
            29999,
            15999,
            16999,
            17998,
            79999,
            26999,
            20999,
            25999,
            25999,
            17706,
            21999,
            15999,
            16999,
            22999,
            20499,
            9499,
            19999,
            25999,
            25999,
            20999,
            22999,
            20999,
            22999,
            25999,
            27999,
            27999,
            89999,
            49999,
            74999,
            74999,
            69999,
            11999,
            99999,
            18999,
            12999,
            15999,
            12999,
            16099,
            12999,
            15999,
            32999,
            32999,
            32999,
            36999,
            36999,
            14499,
            40999,
            29440,
            12999,
            37999,
            37999,
            54999,
            27999,
            29999,
            32999,
            37999,
            39999,
            37999,
            39999,
            49999,
            54999,
            49999,
            54999,
            11499,
            40999,
            9499,
            38999,
            38999,
            48900,
            43900,
            48900,
            43900,
            49900,
            106600,
            54900,
            48900,
            48900,
            59900,
            74900,
            44999,
            54999,
            54999,
            74999,
            54999,
            159900,
            49900,
            74900,
            64900,
            74900,
            54999,
            69900,
            79900,
            164900,
            64999,
            164900,
            25000,
            34900,
            31500,
            77000,
            39900,
            84900,
            49900,
            52600,
            52900,
            47900,
            47900,
            45499,
            91900,
            103900,
            89900,
            103900,
            109900
           ]
          },
          {
           "label": "ram",
           "values": [
            4,
            4,
            6,
            8,
            8,
            8,
            6,
            8,
            6,
            6,
            8,
            6,
            4,
            8,
            8,
            8,
            8,
            6,
            4,
            8,
            8,
            8,
            8,
            8,
            12,
            8,
            12,
            6,
            6,
            6,
            4,
            8,
            8,
            12,
            8,
            12,
            8,
            8,
            8,
            8,
            8,
            8,
            12,
            8,
            8,
            8,
            12,
            8,
            8,
            12,
            8,
            8,
            8,
            8,
            8,
            8,
            12,
            8,
            8,
            12,
            8,
            8,
            12,
            8,
            12,
            8,
            12,
            8,
            8,
            8,
            8,
            8,
            8,
            12,
            8,
            12,
            8,
            8,
            12,
            12,
            8,
            12,
            12,
            8,
            12,
            2,
            3,
            8,
            8,
            8,
            3,
            3,
            3,
            3,
            3,
            3,
            4,
            3,
            3,
            3,
            4,
            4,
            4,
            4,
            4,
            4,
            4,
            8,
            8,
            8,
            8,
            8,
            8,
            3,
            4,
            4,
            3,
            3,
            4,
            4,
            6,
            4,
            4,
            4,
            6,
            6,
            6,
            8,
            4,
            4,
            4,
            4,
            4,
            4,
            4,
            4,
            4,
            4,
            4,
            6,
            4,
            6,
            8,
            4,
            8,
            8,
            8,
            8,
            8,
            8,
            8,
            8,
            8,
            8,
            8,
            8,
            8,
            8,
            8,
            3,
            4,
            8,
            8,
            6,
            8,
            12,
            8,
            8,
            8,
            8,
            8,
            12,
            8,
            12,
            8,
            8,
            8,
            8,
            8,
            8,
            8,
            8,
            8,
            8,
            8,
            12,
            8,
            8,
            12,
            8,
            8,
            12,
            12,
            8,
            12,
            12,
            8,
            8,
            8,
            12,
            12,
            8,
            8,
            8,
            8,
            6,
            6,
            6,
            6,
            8,
            8,
            12,
            6,
            12,
            6,
            4,
            6,
            4,
            4,
            4,
            4,
            4,
            4,
            4,
            4,
            6,
            6,
            6,
            4,
            4,
            4,
            4,
            8,
            6,
            8,
            6,
            6,
            6,
            4,
            8,
            4,
            6,
            6,
            8,
            12,
            12,
            12,
            16,
            8,
            16,
            8,
            8,
            12,
            8,
            12,
            12,
            16,
            16,
            4,
            4,
            6,
            6,
            4,
            4,
            6,
            4,
            4,
            4,
            4,
            8,
            4,
            8,
            8,
            8,
            8,
            8,
            8,
            8,
            8,
            12,
            8,
            12,
            8,
            12,
            12,
            8,
            12,
            12,
            12,
            12,
            8,
            6,
            4,
            6,
            6,
            4,
            4,
            6,
            6,
            4,
            6,
            4,
            4,
            4,
            4,
            4,
            4,
            6,
            6,
            4,
            4,
            4,
            6,
            8,
            8,
            6,
            8,
            6,
            8,
            6,
            8,
            6,
            8,
            8,
            8,
            6,
            8,
            8,
            8,
            8,
            8,
            8,
            8,
            8,
            8,
            8,
            8,
            8,
            8,
            8,
            8,
            12,
            8,
            4,
            4,
            4,
            4,
            4,
            4,
            4,
            4,
            4,
            6,
            6,
            6,
            6,
            6,
            8,
            8,
            8,
            12,
            4,
            3,
            4,
            6,
            4,
            4,
            4,
            6,
            6,
            6,
            6,
            6,
            8,
            6,
            8,
            6,
            8,
            8,
            12,
            8,
            8,
            8,
            8,
            12,
            12,
            12,
            8,
            8,
            8,
            8,
            8,
            8,
            8,
            8,
            12,
            12,
            12,
            12,
            12,
            12,
            12,
            12,
            12,
            12,
            12,
            12,
            8,
            12,
            12,
            12,
            12,
            4,
            8,
            6,
            8,
            6,
            8,
            8,
            8,
            8,
            8,
            8,
            4,
            4,
            4,
            6,
            6,
            8,
            8,
            8,
            8,
            4,
            4,
            4,
            4,
            4,
            4,
            4,
            4,
            4,
            4,
            4,
            6,
            4,
            4,
            6,
            4,
            8,
            8,
            8,
            8,
            8,
            8,
            8,
            8,
            8,
            8,
            8,
            8,
            8,
            8,
            8,
            8,
            8,
            8,
            8,
            8,
            8,
            8,
            8,
            8,
            8,
            8,
            8,
            8,
            8,
            12,
            12,
            12,
            16,
            16,
            16,
            6,
            8,
            6,
            8,
            6,
            8,
            8,
            8,
            8,
            12,
            12,
            12,
            12,
            8,
            8,
            12,
            12,
            12,
            8,
            8,
            8,
            8,
            8,
            8,
            8,
            12,
            12,
            12,
            12,
            8,
            8,
            8,
            8,
            8,
            null,
            null,
            null,
            null,
            null,
            null,
            null,
            null,
            null,
            null,
            null,
            null,
            null,
            null,
            null,
            null,
            null,
            null,
            null,
            null,
            null,
            null,
            null,
            null,
            null,
            null,
            null,
            null,
            null,
            null,
            null,
            null,
            null,
            null,
            null,
            null,
            null,
            null,
            null,
            null,
            null,
            null,
            null,
            null
           ]
          },
          {
           "label": "rom",
           "values": [
            128,
            128,
            128,
            128,
            128,
            128,
            128,
            256,
            128,
            128,
            128,
            128,
            128,
            128,
            256,
            128,
            256,
            128,
            128,
            128,
            256,
            128,
            256,
            128,
            256,
            128,
            256,
            128,
            128,
            128,
            64,
            128,
            128,
            256,
            128,
            256,
            128,
            128,
            128,
            128,
            128,
            128,
            256,
            128,
            256,
            128,
            256,
            128,
            256,
            512,
            256,
            128,
            256,
            128,
            128,
            256,
            512,
            128,
            256,
            512,
            128,
            256,
            512,
            256,
            512,
            256,
            512,
            128,
            256,
            128,
            256,
            128,
            256,
            512,
            256,
            512,
            128,
            256,
            256,
            256,
            256,
            256,
            256,
            256,
            256,
            32,
            32,
            256,
            128,
            128,
            32,
            64,
            32,
            64,
            32,
            64,
            128,
            32,
            64,
            32,
            64,
            128,
            64,
            64,
            64,
            128,
            128,
            128,
            256,
            128,
            256,
            128,
            128,
            64,
            128,
            128,
            64,
            64,
            128,
            128,
            128,
            64,
            128,
            64,
            128,
            128,
            128,
            128,
            128,
            128,
            64,
            128,
            64,
            128,
            64,
            128,
            64,
            128,
            128,
            128,
            128,
            128,
            256,
            128,
            256,
            128,
            256,
            128,
            256,
            128,
            128,
            128,
            128,
            128,
            128,
            128,
            128,
            128,
            128,
            32,
            64,
            128,
            128,
            128,
            128,
            256,
            128,
            256,
            128,
            256,
            128,
            256,
            128,
            256,
            128,
            256,
            128,
            256,
            128,
            128,
            128,
            128,
            128,
            256,
            256,
            512,
            128,
            256,
            512,
            128,
            256,
            512,
            256,
            256,
            256,
            512,
            128,
            256,
            128,
            256,
            256,
            128,
            128,
            256,
            128,
            128,
            128,
            128,
            64,
            128,
            128,
            256,
            128,
            256,
            128,
            64,
            128,
            64,
            128,
            64,
            128,
            64,
            64,
            128,
            64,
            128,
            64,
            128,
            64,
            64,
            64,
            64,
            128,
            128,
            128,
            128,
            128,
            128,
            64,
            128,
            64,
            128,
            128,
            128,
            256,
            256,
            256,
            512,
            256,
            512,
            128,
            256,
            256,
            128,
            256,
            512,
            512,
            512,
            128,
            128,
            128,
            128,
            64,
            64,
            128,
            64,
            128,
            128,
            64,
            128,
            128,
            128,
            128,
            256,
            128,
            256,
            128,
            256,
            128,
            256,
            128,
            256,
            128,
            256,
            256,
            128,
            256,
            512,
            256,
            512,
            128,
            128,
            64,
            128,
            128,
            64,
            64,
            128,
            128,
            64,
            128,
            64,
            128,
            128,
            128,
            64,
            64,
            128,
            128,
            64,
            128,
            64,
            128,
            128,
            256,
            128,
            256,
            128,
            256,
            128,
            256,
            128,
            256,
            128,
            128,
            128,
            128,
            256,
            128,
            128,
            128,
            256,
            128,
            256,
            128,
            128,
            256,
            128,
            256,
            128,
            128,
            256,
            128,
            64,
            128,
            64,
            128,
            64,
            128,
            64,
            64,
            64,
            128,
            128,
            128,
            128,
            128,
            128,
            256,
            256,
            256,
            128,
            32,
            64,
            128,
            64,
            64,
            128,
            128,
            128,
            128,
            128,
            128,
            256,
            128,
            256,
            128,
            256,
            128,
            256,
            256,
            256,
            128,
            256,
            256,
            256,
            256,
            128,
            256,
            512,
            128,
            256,
            128,
            256,
            128,
            512,
            256,
            256,
            512,
            256,
            512,
            256,
            512,
            512,
            256,
            256,
            512,
            256,
            256,
            512,
            256,
            256,
            64,
            128,
            128,
            128,
            128,
            128,
            128,
            256,
            256,
            128,
            256,
            128,
            128,
            64,
            128,
            128,
            128,
            256,
            128,
            256,
            128,
            128,
            64,
            128,
            128,
            64,
            128,
            64,
            64,
            128,
            64,
            128,
            128,
            128,
            128,
            128,
            128,
            128,
            128,
            128,
            128,
            128,
            128,
            128,
            128,
            128,
            128,
            128,
            128,
            128,
            256,
            256,
            128,
            128,
            256,
            256,
            128,
            256,
            128,
            256,
            128,
            256,
            256,
            256,
            256,
            256,
            256,
            256,
            512,
            512,
            512,
            128,
            256,
            128,
            256,
            128,
            256,
            256,
            256,
            256,
            256,
            256,
            256,
            512,
            256,
            256,
            256,
            256,
            256,
            128,
            256,
            256,
            128,
            256,
            128,
            256,
            256,
            512,
            256,
            512,
            256,
            128,
            128,
            128,
            128,
            128,
            64,
            128,
            64,
            64,
            64,
            128,
            64,
            64,
            64,
            256,
            128,
            256,
            256,
            512,
            256,
            512,
            128,
            256,
            128,
            256,
            128,
            128,
            256,
            512,
            128,
            512,
            16,
            128,
            32,
            256,
            64,
            256,
            64,
            128,
            128,
            64,
            64,
            128,
            256,
            256,
            64,
            256,
            64
           ]
          }
         ],
         "domain": {
          "x": [
           0,
           1
          ],
          "y": [
           0,
           1
          ]
         },
         "line": {
          "color": [
           14499,
           14499,
           16990,
           21990,
           24999,
           17999,
           15999,
           23999,
           12999,
           12999,
           15599,
           12999,
           11999,
           18499,
           20499,
           18499,
           20499,
           11499,
           10499,
           22999,
           24999,
           22999,
           24999,
           29999,
           33999,
           29999,
           33999,
           13999,
           13999,
           13999,
           13990,
           26999,
           10449,
           38990,
           27999,
           9999,
           35999,
           35999,
           14499,
           32999,
           19490,
           16499,
           35140,
           32999,
           39999,
           29790,
           34999,
           29945,
           34999,
           39999,
           34999,
           25499,
           27999,
           24790,
           34999,
           36999,
           41999,
           34999,
           36999,
           42999,
           34999,
           36999,
           41999,
           49999,
           55999,
           49999,
           55999,
           26999,
           28999,
           26999,
           28999,
           34999,
           36999,
           40999,
           36999,
           40999,
           34999,
           36999,
           65999,
           65999,
           29775,
           49990,
           59999,
           42990,
           50499,
           7999,
           7999,
           23999,
           21999,
           21999,
           10990,
           11990,
           36999,
           9799,
           9499,
           8899,
           9597,
           31780,
           10005,
           64995,
           11899,
           14999,
           8399,
           7999,
           7999,
           8499,
           9499,
           23999,
           23299,
           23490,
           23299,
           24999,
           24999,
           15490,
           29800,
           19490,
           8790,
           43990,
           19985,
           15499,
           15499,
           14499,
           13499,
           14499,
           12499,
           12816,
           13999,
           12999,
           12999,
           12390,
           10449,
           11900,
           9850,
           10999,
           10999,
           12590,
           11999,
           11499,
           11499,
           14441,
           12999,
           15499,
           18999,
           13999,
           18999,
           21999,
           23999,
           21999,
           23999,
           21999,
           23999,
           23999,
           13999,
           14999,
           14999,
           17999,
           17999,
           16332,
           16695,
           9499,
           9999,
           12999,
           17999,
           16999,
           19999,
           22999,
           19999,
           20999,
           21999,
           22999,
           21999,
           23999,
           21999,
           23999,
           20999,
           21999,
           20999,
           21999,
           13499,
           13499,
           13499,
           17999,
           17999,
           19999,
           23999,
           26999,
           21999,
           23999,
           24390,
           21999,
           23999,
           26999,
           26999,
           25999,
           26999,
           28999,
           22999,
           24999,
           22999,
           26999,
           26999,
           24999,
           24999,
           26999,
           29999,
           14999,
           14999,
           14999,
           17999,
           16198,
           16445,
           20990,
           15027,
           20990,
           13499,
           11499,
           13499,
           11499,
           8574,
           8999,
           9999,
           8999,
           8999,
           9499,
           8999,
           11999,
           10999,
           7864,
           7699,
           7699,
           8499,
           8499,
           11299,
           11395,
           12999,
           10999,
           11498,
           11178,
           10499,
           12999,
           11499,
           14999,
           14999,
           21999,
           29999,
           29999,
           37999,
           37999,
           33999,
           37999,
           25280,
           27418,
           29995,
           30999,
           29490,
           32893,
           59999,
           59999,
           11499,
           11490,
           11650,
           11499,
           10999,
           7613,
           10560,
           7990,
           8493,
           8599,
           8990,
           12115,
           10399,
           12140,
           15999,
           18999,
           15999,
           18999,
           15999,
           18999,
           15999,
           17999,
           15999,
           17999,
           17999,
           20999,
           20999,
           18999,
           21890,
           15199,
           20990,
           22450,
           16999,
           13699,
           32999,
           12799,
           32999,
           6990,
           8909,
           12499,
           8114,
           7699,
           8067,
           7899,
           9990,
           9990,
           11499,
           11499,
           11499,
           13499,
           11248,
           18499,
           15499,
           18499,
           20999,
           16999,
           19999,
           14499,
           24498,
           14363,
           19999,
           14973,
           18990,
           15499,
           19999,
           18499,
           16790,
           16999,
           16798,
           22990,
           21042,
           25999,
           25999,
           28999,
           24491,
           28999,
           13599,
           27990,
           31999,
           28999,
           31990,
           27999,
           33999,
           45999,
           34599,
           6499,
           14999,
           10499,
           11499,
           10499,
           11499,
           10499,
           10999,
           9299,
           13490,
           13499,
           13499,
           13499,
           18499,
           21999,
           31999,
           23999,
           26999,
           19498,
           9890,
           24000,
           16499,
           8848,
           8450,
           12999,
           12990,
           12970,
           17999,
           1390,
           14497,
           21026,
           14534,
           22399,
           14482,
           20985,
           7999,
           27820,
           95900,
           49999,
           34999,
           37999,
           74999,
           89999,
           81999,
           64999,
           70999,
           82999,
           59999,
           49859,
           59999,
           49795,
           43999,
           144999,
           62999,
           80999,
           92999,
           80999,
           92999,
           80999,
           79149,
           111999,
           99999,
           129999,
           141999,
           79999,
           96999,
           104999,
           96999,
           97999,
           6967,
           12898,
           12715,
           14060,
           12748,
           16890,
           45999,
           34990,
           11499,
           45999,
           34990,
           31999,
           17999,
           23999,
           14999,
           13999,
           17999,
           19999,
           17999,
           19999,
           15999,
           27525,
           12999,
           9999,
           9999,
           9999,
           12499,
           20999,
           11499,
           18989,
           36999,
           12990,
           13999,
           13500,
           19490,
           17499,
           38999,
           29999,
           15999,
           16999,
           17998,
           79999,
           26999,
           20999,
           25999,
           25999,
           17706,
           21999,
           15999,
           16999,
           22999,
           20499,
           9499,
           19999,
           25999,
           25999,
           20999,
           22999,
           20999,
           22999,
           25999,
           27999,
           27999,
           89999,
           49999,
           74999,
           74999,
           69999,
           11999,
           99999,
           18999,
           12999,
           15999,
           12999,
           16099,
           12999,
           15999,
           32999,
           32999,
           32999,
           36999,
           36999,
           14499,
           40999,
           29440,
           12999,
           37999,
           37999,
           54999,
           27999,
           29999,
           32999,
           37999,
           39999,
           37999,
           39999,
           49999,
           54999,
           49999,
           54999,
           11499,
           40999,
           9499,
           38999,
           38999,
           48900,
           43900,
           48900,
           43900,
           49900,
           106600,
           54900,
           48900,
           48900,
           59900,
           74900,
           44999,
           54999,
           54999,
           74999,
           54999,
           159900,
           49900,
           74900,
           64900,
           74900,
           54999,
           69900,
           79900,
           164900,
           64999,
           164900,
           25000,
           34900,
           31500,
           77000,
           39900,
           84900,
           49900,
           52600,
           52900,
           47900,
           47900,
           45499,
           91900,
           103900,
           89900,
           103900,
           109900
          ],
          "coloraxis": "coloraxis"
         },
         "name": "",
         "type": "parcoords"
        }
       ],
       "layout": {
        "coloraxis": {
         "colorbar": {
          "title": {
           "text": "price"
          }
         },
         "colorscale": [
          [
           0,
           "#0d0887"
          ],
          [
           0.1111111111111111,
           "#46039f"
          ],
          [
           0.2222222222222222,
           "#7201a8"
          ],
          [
           0.3333333333333333,
           "#9c179e"
          ],
          [
           0.4444444444444444,
           "#bd3786"
          ],
          [
           0.5555555555555556,
           "#d8576b"
          ],
          [
           0.6666666666666666,
           "#ed7953"
          ],
          [
           0.7777777777777778,
           "#fb9f3a"
          ],
          [
           0.8888888888888888,
           "#fdca26"
          ],
          [
           1,
           "#f0f921"
          ]
         ]
        },
        "legend": {
         "tracegroupgap": 0
        },
        "template": {
         "data": {
          "bar": [
           {
            "error_x": {
             "color": "#2a3f5f"
            },
            "error_y": {
             "color": "#2a3f5f"
            },
            "marker": {
             "line": {
              "color": "#E5ECF6",
              "width": 0.5
             },
             "pattern": {
              "fillmode": "overlay",
              "size": 10,
              "solidity": 0.2
             }
            },
            "type": "bar"
           }
          ],
          "barpolar": [
           {
            "marker": {
             "line": {
              "color": "#E5ECF6",
              "width": 0.5
             },
             "pattern": {
              "fillmode": "overlay",
              "size": 10,
              "solidity": 0.2
             }
            },
            "type": "barpolar"
           }
          ],
          "carpet": [
           {
            "aaxis": {
             "endlinecolor": "#2a3f5f",
             "gridcolor": "white",
             "linecolor": "white",
             "minorgridcolor": "white",
             "startlinecolor": "#2a3f5f"
            },
            "baxis": {
             "endlinecolor": "#2a3f5f",
             "gridcolor": "white",
             "linecolor": "white",
             "minorgridcolor": "white",
             "startlinecolor": "#2a3f5f"
            },
            "type": "carpet"
           }
          ],
          "choropleth": [
           {
            "colorbar": {
             "outlinewidth": 0,
             "ticks": ""
            },
            "type": "choropleth"
           }
          ],
          "contour": [
           {
            "colorbar": {
             "outlinewidth": 0,
             "ticks": ""
            },
            "colorscale": [
             [
              0,
              "#0d0887"
             ],
             [
              0.1111111111111111,
              "#46039f"
             ],
             [
              0.2222222222222222,
              "#7201a8"
             ],
             [
              0.3333333333333333,
              "#9c179e"
             ],
             [
              0.4444444444444444,
              "#bd3786"
             ],
             [
              0.5555555555555556,
              "#d8576b"
             ],
             [
              0.6666666666666666,
              "#ed7953"
             ],
             [
              0.7777777777777778,
              "#fb9f3a"
             ],
             [
              0.8888888888888888,
              "#fdca26"
             ],
             [
              1,
              "#f0f921"
             ]
            ],
            "type": "contour"
           }
          ],
          "contourcarpet": [
           {
            "colorbar": {
             "outlinewidth": 0,
             "ticks": ""
            },
            "type": "contourcarpet"
           }
          ],
          "heatmap": [
           {
            "colorbar": {
             "outlinewidth": 0,
             "ticks": ""
            },
            "colorscale": [
             [
              0,
              "#0d0887"
             ],
             [
              0.1111111111111111,
              "#46039f"
             ],
             [
              0.2222222222222222,
              "#7201a8"
             ],
             [
              0.3333333333333333,
              "#9c179e"
             ],
             [
              0.4444444444444444,
              "#bd3786"
             ],
             [
              0.5555555555555556,
              "#d8576b"
             ],
             [
              0.6666666666666666,
              "#ed7953"
             ],
             [
              0.7777777777777778,
              "#fb9f3a"
             ],
             [
              0.8888888888888888,
              "#fdca26"
             ],
             [
              1,
              "#f0f921"
             ]
            ],
            "type": "heatmap"
           }
          ],
          "heatmapgl": [
           {
            "colorbar": {
             "outlinewidth": 0,
             "ticks": ""
            },
            "colorscale": [
             [
              0,
              "#0d0887"
             ],
             [
              0.1111111111111111,
              "#46039f"
             ],
             [
              0.2222222222222222,
              "#7201a8"
             ],
             [
              0.3333333333333333,
              "#9c179e"
             ],
             [
              0.4444444444444444,
              "#bd3786"
             ],
             [
              0.5555555555555556,
              "#d8576b"
             ],
             [
              0.6666666666666666,
              "#ed7953"
             ],
             [
              0.7777777777777778,
              "#fb9f3a"
             ],
             [
              0.8888888888888888,
              "#fdca26"
             ],
             [
              1,
              "#f0f921"
             ]
            ],
            "type": "heatmapgl"
           }
          ],
          "histogram": [
           {
            "marker": {
             "pattern": {
              "fillmode": "overlay",
              "size": 10,
              "solidity": 0.2
             }
            },
            "type": "histogram"
           }
          ],
          "histogram2d": [
           {
            "colorbar": {
             "outlinewidth": 0,
             "ticks": ""
            },
            "colorscale": [
             [
              0,
              "#0d0887"
             ],
             [
              0.1111111111111111,
              "#46039f"
             ],
             [
              0.2222222222222222,
              "#7201a8"
             ],
             [
              0.3333333333333333,
              "#9c179e"
             ],
             [
              0.4444444444444444,
              "#bd3786"
             ],
             [
              0.5555555555555556,
              "#d8576b"
             ],
             [
              0.6666666666666666,
              "#ed7953"
             ],
             [
              0.7777777777777778,
              "#fb9f3a"
             ],
             [
              0.8888888888888888,
              "#fdca26"
             ],
             [
              1,
              "#f0f921"
             ]
            ],
            "type": "histogram2d"
           }
          ],
          "histogram2dcontour": [
           {
            "colorbar": {
             "outlinewidth": 0,
             "ticks": ""
            },
            "colorscale": [
             [
              0,
              "#0d0887"
             ],
             [
              0.1111111111111111,
              "#46039f"
             ],
             [
              0.2222222222222222,
              "#7201a8"
             ],
             [
              0.3333333333333333,
              "#9c179e"
             ],
             [
              0.4444444444444444,
              "#bd3786"
             ],
             [
              0.5555555555555556,
              "#d8576b"
             ],
             [
              0.6666666666666666,
              "#ed7953"
             ],
             [
              0.7777777777777778,
              "#fb9f3a"
             ],
             [
              0.8888888888888888,
              "#fdca26"
             ],
             [
              1,
              "#f0f921"
             ]
            ],
            "type": "histogram2dcontour"
           }
          ],
          "mesh3d": [
           {
            "colorbar": {
             "outlinewidth": 0,
             "ticks": ""
            },
            "type": "mesh3d"
           }
          ],
          "parcoords": [
           {
            "line": {
             "colorbar": {
              "outlinewidth": 0,
              "ticks": ""
             }
            },
            "type": "parcoords"
           }
          ],
          "pie": [
           {
            "automargin": true,
            "type": "pie"
           }
          ],
          "scatter": [
           {
            "fillpattern": {
             "fillmode": "overlay",
             "size": 10,
             "solidity": 0.2
            },
            "type": "scatter"
           }
          ],
          "scatter3d": [
           {
            "line": {
             "colorbar": {
              "outlinewidth": 0,
              "ticks": ""
             }
            },
            "marker": {
             "colorbar": {
              "outlinewidth": 0,
              "ticks": ""
             }
            },
            "type": "scatter3d"
           }
          ],
          "scattercarpet": [
           {
            "marker": {
             "colorbar": {
              "outlinewidth": 0,
              "ticks": ""
             }
            },
            "type": "scattercarpet"
           }
          ],
          "scattergeo": [
           {
            "marker": {
             "colorbar": {
              "outlinewidth": 0,
              "ticks": ""
             }
            },
            "type": "scattergeo"
           }
          ],
          "scattergl": [
           {
            "marker": {
             "colorbar": {
              "outlinewidth": 0,
              "ticks": ""
             }
            },
            "type": "scattergl"
           }
          ],
          "scattermapbox": [
           {
            "marker": {
             "colorbar": {
              "outlinewidth": 0,
              "ticks": ""
             }
            },
            "type": "scattermapbox"
           }
          ],
          "scatterpolar": [
           {
            "marker": {
             "colorbar": {
              "outlinewidth": 0,
              "ticks": ""
             }
            },
            "type": "scatterpolar"
           }
          ],
          "scatterpolargl": [
           {
            "marker": {
             "colorbar": {
              "outlinewidth": 0,
              "ticks": ""
             }
            },
            "type": "scatterpolargl"
           }
          ],
          "scatterternary": [
           {
            "marker": {
             "colorbar": {
              "outlinewidth": 0,
              "ticks": ""
             }
            },
            "type": "scatterternary"
           }
          ],
          "surface": [
           {
            "colorbar": {
             "outlinewidth": 0,
             "ticks": ""
            },
            "colorscale": [
             [
              0,
              "#0d0887"
             ],
             [
              0.1111111111111111,
              "#46039f"
             ],
             [
              0.2222222222222222,
              "#7201a8"
             ],
             [
              0.3333333333333333,
              "#9c179e"
             ],
             [
              0.4444444444444444,
              "#bd3786"
             ],
             [
              0.5555555555555556,
              "#d8576b"
             ],
             [
              0.6666666666666666,
              "#ed7953"
             ],
             [
              0.7777777777777778,
              "#fb9f3a"
             ],
             [
              0.8888888888888888,
              "#fdca26"
             ],
             [
              1,
              "#f0f921"
             ]
            ],
            "type": "surface"
           }
          ],
          "table": [
           {
            "cells": {
             "fill": {
              "color": "#EBF0F8"
             },
             "line": {
              "color": "white"
             }
            },
            "header": {
             "fill": {
              "color": "#C8D4E3"
             },
             "line": {
              "color": "white"
             }
            },
            "type": "table"
           }
          ]
         },
         "layout": {
          "annotationdefaults": {
           "arrowcolor": "#2a3f5f",
           "arrowhead": 0,
           "arrowwidth": 1
          },
          "autotypenumbers": "strict",
          "coloraxis": {
           "colorbar": {
            "outlinewidth": 0,
            "ticks": ""
           }
          },
          "colorscale": {
           "diverging": [
            [
             0,
             "#8e0152"
            ],
            [
             0.1,
             "#c51b7d"
            ],
            [
             0.2,
             "#de77ae"
            ],
            [
             0.3,
             "#f1b6da"
            ],
            [
             0.4,
             "#fde0ef"
            ],
            [
             0.5,
             "#f7f7f7"
            ],
            [
             0.6,
             "#e6f5d0"
            ],
            [
             0.7,
             "#b8e186"
            ],
            [
             0.8,
             "#7fbc41"
            ],
            [
             0.9,
             "#4d9221"
            ],
            [
             1,
             "#276419"
            ]
           ],
           "sequential": [
            [
             0,
             "#0d0887"
            ],
            [
             0.1111111111111111,
             "#46039f"
            ],
            [
             0.2222222222222222,
             "#7201a8"
            ],
            [
             0.3333333333333333,
             "#9c179e"
            ],
            [
             0.4444444444444444,
             "#bd3786"
            ],
            [
             0.5555555555555556,
             "#d8576b"
            ],
            [
             0.6666666666666666,
             "#ed7953"
            ],
            [
             0.7777777777777778,
             "#fb9f3a"
            ],
            [
             0.8888888888888888,
             "#fdca26"
            ],
            [
             1,
             "#f0f921"
            ]
           ],
           "sequentialminus": [
            [
             0,
             "#0d0887"
            ],
            [
             0.1111111111111111,
             "#46039f"
            ],
            [
             0.2222222222222222,
             "#7201a8"
            ],
            [
             0.3333333333333333,
             "#9c179e"
            ],
            [
             0.4444444444444444,
             "#bd3786"
            ],
            [
             0.5555555555555556,
             "#d8576b"
            ],
            [
             0.6666666666666666,
             "#ed7953"
            ],
            [
             0.7777777777777778,
             "#fb9f3a"
            ],
            [
             0.8888888888888888,
             "#fdca26"
            ],
            [
             1,
             "#f0f921"
            ]
           ]
          },
          "colorway": [
           "#636efa",
           "#EF553B",
           "#00cc96",
           "#ab63fa",
           "#FFA15A",
           "#19d3f3",
           "#FF6692",
           "#B6E880",
           "#FF97FF",
           "#FECB52"
          ],
          "font": {
           "color": "#2a3f5f"
          },
          "geo": {
           "bgcolor": "white",
           "lakecolor": "white",
           "landcolor": "#E5ECF6",
           "showlakes": true,
           "showland": true,
           "subunitcolor": "white"
          },
          "hoverlabel": {
           "align": "left"
          },
          "hovermode": "closest",
          "mapbox": {
           "style": "light"
          },
          "paper_bgcolor": "white",
          "plot_bgcolor": "#E5ECF6",
          "polar": {
           "angularaxis": {
            "gridcolor": "white",
            "linecolor": "white",
            "ticks": ""
           },
           "bgcolor": "#E5ECF6",
           "radialaxis": {
            "gridcolor": "white",
            "linecolor": "white",
            "ticks": ""
           }
          },
          "scene": {
           "xaxis": {
            "backgroundcolor": "#E5ECF6",
            "gridcolor": "white",
            "gridwidth": 2,
            "linecolor": "white",
            "showbackground": true,
            "ticks": "",
            "zerolinecolor": "white"
           },
           "yaxis": {
            "backgroundcolor": "#E5ECF6",
            "gridcolor": "white",
            "gridwidth": 2,
            "linecolor": "white",
            "showbackground": true,
            "ticks": "",
            "zerolinecolor": "white"
           },
           "zaxis": {
            "backgroundcolor": "#E5ECF6",
            "gridcolor": "white",
            "gridwidth": 2,
            "linecolor": "white",
            "showbackground": true,
            "ticks": "",
            "zerolinecolor": "white"
           }
          },
          "shapedefaults": {
           "line": {
            "color": "#2a3f5f"
           }
          },
          "ternary": {
           "aaxis": {
            "gridcolor": "white",
            "linecolor": "white",
            "ticks": ""
           },
           "baxis": {
            "gridcolor": "white",
            "linecolor": "white",
            "ticks": ""
           },
           "bgcolor": "#E5ECF6",
           "caxis": {
            "gridcolor": "white",
            "linecolor": "white",
            "ticks": ""
           }
          },
          "title": {
           "x": 0.05
          },
          "xaxis": {
           "automargin": true,
           "gridcolor": "white",
           "linecolor": "white",
           "ticks": "",
           "title": {
            "standoff": 15
           },
           "zerolinecolor": "white",
           "zerolinewidth": 2
          },
          "yaxis": {
           "automargin": true,
           "gridcolor": "white",
           "linecolor": "white",
           "ticks": "",
           "title": {
            "standoff": 15
           },
           "zerolinecolor": "white",
           "zerolinewidth": 2
          }
         }
        },
        "title": {
         "text": "Mobile Specifications Comparison"
        }
       }
      }
     },
     "metadata": {},
     "output_type": "display_data"
    }
   ],
   "source": [
    "fig = px.parallel_coordinates(df_combined, \n",
    "                              dimensions=[\"price\", \"battery\", \"display\", \"camera\", \"ram\", \"rom\"], \n",
    "                              color=\"price\",\n",
    "                              title=\"Mobile Specifications Comparison\")\n",
    "fig.show()\n"
   ]
  },
  {
   "cell_type": "code",
   "execution_count": 31,
   "metadata": {},
   "outputs": [
    {
     "data": {
      "application/vnd.plotly.v1+json": {
       "config": {
        "plotlyServerURL": "https://plot.ly"
       },
       "data": [
        {
         "hovertemplate": "<b>%{hovertext}</b><br><br>brand=vivo<br>battery=%{x}<br>price=%{y}<br>ram=%{z}<extra></extra>",
         "hovertext": [
          "vivo T1 44W (Midnight Galaxy, 128 GB)",
          "vivo T1 44W (Starry Sky, 128 GB)",
          "vivo T1 5G (Starlight Black, 128 GB)",
          "vivo T1 Pro 5G (Turbo Black, 128 GB)",
          "vivo T1 Pro 5G (Turbo Cyan, 128 GB)",
          "vivo T2 5G (Nitro Blaze, 128 GB)",
          "vivo T2 5G (Velocity Wave, 128 GB)",
          "vivo T2 Pro 5G (New Moon Black, 256 GB)",
          "vivo T2x 5G (Aurora Gold, 128 GB)",
          "vivo T2x 5G (Black Gladiator, 128 GB)",
          "vivo T2x 5G (Glimmer Black, 128 GB)",
          "vivo T2x 5G (Marine Blue, 128 GB)",
          "vivo T2x 5G (Sunstone Orange, 128 GB)",
          "vivo T3 5G (Cosmic Blue, 128 GB)",
          "vivo T3 5G (Cosmic Blue, 256 GB)",
          "vivo T3 5G (Crystal Flake, 128 GB)",
          "vivo T3 5G (Crystal Flake, 256 GB)",
          "vivo T3 Lite 5G (Majestic Black, 128 GB)",
          "vivo T3 Lite 5G (Vibrant Green, 128 GB)",
          "vivo T3 Pro 5G (Emerald Green, 128 GB)",
          "vivo T3 Pro 5G (Emerald Green, 256 GB)",
          "vivo T3 Pro 5G (Sandstone Orange, 128 GB)",
          "vivo T3 Pro 5G (Sandstone Orange, 256 GB)",
          "vivo T3 Ultra (Frost Green, 128 GB)",
          "vivo T3 Ultra (Frost Green, 256 GB)",
          "vivo T3 Ultra (Lunar Gray, 128 GB)",
          "vivo T3 Ultra (Lunar Gray, 256 GB)",
          "vivo T3x 5G (Celestial Green, 128 GB)",
          "vivo T3x 5G (Crimson Bliss, 128 GB)",
          "vivo T3x 5G (Sapphire Blue, 128 GB)",
          "vivo U10 (Electric Blue, 64 GB)",
          "vivo V23 Pro 5G (Stardust Black, 128 GB)",
          "vivo V23 Pro 5G (Sunshine Gold, 128 GB)",
          "vivo V23 Pro 5G (Sunshine Gold, 256 GB)",
          "vivo V25 5G (Elegant Black, 128 GB)",
          "vivo V25 5G (Elegant Black, 256 GB)",
          "vivo V25 Pro 5G (Pure Black, 128 GB)",
          "vivo V25 Pro 5G (Sailing Blue, 128 GB)",
          "vivo V25 Pro 5G (sailing blue, 128 GB)",
          "vivo V27 5G (Noble Black, 128 GB)",
          "vivo V27 Pro 5G (Noble Black, 128 GB)",
          "vivo V29 5G (Black, 128 GB)",
          "vivo V29 5G (Black, 256 GB)",
          "vivo V29 5G (Blue, 128 GB)",
          "vivo V29 Pro 5G (Blue, 256 GB)",
          "vivo V30 (Peacock Green, 128 GB)",
          "vivo V30 5G (Andaman Blue, 256 GB)",
          "vivo V30 5G (Peacock Green, 128 GB)",
          "vivo V30 Pro 5G (Andaman Blue, 256 GB)",
          "vivo V30 Pro 5G (Andaman Blue, 512 GB)",
          "vivo V30 Pro 5G (Classic Black, 256 GB)",
          "vivo V30e (Silk Blue, 128 GB)",
          "vivo V30e (Silk Blue, 256 GB)",
          "vivo V30e (Velvet Red, 128 GB)",
          "vivo V40 5G (Ganges Blue, 128 GB)",
          "vivo V40 5G (Ganges Blue, 256 GB)",
          "vivo V40 5G (Ganges Blue, 512 GB)",
          "vivo V40 5G (Lotus Purple, 128 GB)",
          "vivo V40 5G (Lotus Purple, 256 GB)",
          "vivo V40 5G (Lotus Purple, 512 GB)",
          "vivo V40 5G (Titanium Grey, 128 GB)",
          "vivo V40 5G (Titanium Grey, 256 GB)",
          "vivo V40 5G (Titanium Grey, 512 GB)",
          "vivo V40 Pro 5G (Ganges Blue, 256 GB)",
          "vivo V40 Pro 5G (Ganges Blue, 512 GB)",
          "vivo V40 Pro 5G (Titanium Grey, 256 GB)",
          "vivo V40 Pro 5G (Titanium Grey, 512 GB)",
          "vivo V40e 5G (Mint Green, 128 GB)",
          "vivo V40e 5G (Mint Green, 256 GB)",
          "vivo V40e 5G (Royal Bronze, 128 GB)",
          "vivo V40e 5G (Royal Bronze, 256 GB)",
          "vivo V50 5G (Rose Red, 128 GB)",
          "vivo V50 5G (Rose Red, 256 GB)",
          "vivo V50 5G (Rose Red, 512 GB)",
          "vivo V50 5G (Starry Night, 256 GB)",
          "vivo V50 5G (Starry Night, 512 GB)",
          "vivo V50 5G (Titanium Grey, 128 GB)",
          "vivo V50 5G (Titanium Grey, 256 GB)",
          "vivo X200 5G (Cosmos Black, 256 GB)",
          "vivo X200 5G (Natural Green, 256 GB)",
          "vivo X70 Pro (Cosmic Black, 256 GB)",
          "vivo X80 (Cosmic Black, 256 GB)",
          "vivo X80 (Urban Blue, 256 GB)",
          "vivo X90 (Asteroid Black, 256 GB)",
          "vivo X90 (Breeze Blue, 256 GB)",
          "vivo Y01 (Elegant Black, 32 GB)",
          "vivo Y02 (Sunset Gold, 32 GB)",
          "vivo Y100A (Metal Black, 256 GB)",
          "vivo Y100A (Pacific Blue, 128 GB)",
          "vivo Y100A (Twilight Gold, 128 GB)",
          "vivo Y12G (Glacier Blue, 32 GB)",
          "vivo Y12G (Glacier Blue, 64 GB)",
          "vivo Y15c (Mystic Blue, 32 GB)",
          "vivo Y15c (Mystic Blue, 64 GB)",
          "vivo Y15c (Wave Green, 32 GB)",
          "vivo Y15c (Wave Green, 64 GB)",
          "vivo Y16 (Drizzling Gold, 128 GB)",
          "vivo Y16 (Drizzling Gold, 32 GB)",
          "vivo Y16 (Drizzling Gold, 64 GB)",
          "vivo Y16 (Steller Black, 32 GB)",
          "vivo Y16 (Steller Black, 64 GB)",
          "vivo Y18 (Gem Green, 128 GB)",
          "vivo Y18e (Gem Green, 64 GB)",
          "vivo Y18i (Gem Green, 64 GB)",
          "vivo Y18i (Space Black, 64 GB)",
          "vivo Y18t (Gem Green, 128 GB)",
          "vivo Y18t (Space Black, 128 GB)",
          "vivo Y200 5G (Desert Gold, 128 GB)",
          "vivo Y200 5G (Desert Gold, 256 GB)",
          "vivo Y200 5G (Jungle Green, 128 GB)",
          "vivo Y200 5G (Jungle Green, 256 GB)",
          "vivo Y200 Pro 5G (Silk Black, 128 GB)",
          "vivo Y200 Pro 5G (Silk Green, 128 GB)",
          "vivo Y20A 2021 (Dawn White, 64 GB)",
          "vivo Y21 (Diamond Glow, 128 GB)",
          "vivo Y21 (Midnight Blue, 128 GB)",
          "vivo Y21E (Diamond Glow, 64 GB)",
          "vivo Y21E (Midnight Blue, 64 GB)",
          "vivo Y21T (Midnight Blue, 128 GB)",
          "vivo Y21T (Pearl White, 128 GB)",
          "vivo Y22 (Metaverse Green, 128 GB)",
          "vivo Y22 (Metaverse Green, 64 GB)",
          "vivo Y22 (Starlit Blue, 128 GB)",
          "vivo Y22 (Starlit Blue, 64 GB)",
          "vivo Y27 (Burgundy Black, 128 GB)",
          "vivo Y27 (Garden Green, 128 GB)",
          "vivo Y27 (Sea Blue, 128 GB)",
          "vivo Y28 5G (Crystal Purple, 128 GB)",
          "vivo Y28 5G (Glitter Aqua, 128 GB)",
          "vivo Y28e (Breeze Green, 128 GB)",
          "vivo Y28e (Breeze Green, 64 GB)",
          "vivo Y28e (Vintage Red, 128 GB)",
          "vivo Y28e (Vintage Red, 64 GB)",
          "vivo Y28e 5G (Breeze Green, 128 GB)",
          "vivo Y28e 5G (Breeze Green, 64 GB)",
          "vivo Y28e 5G (Vintage Red, 128 GB)",
          "vivo Y28e 5G (Vintage Red, 64 GB)",
          "vivo Y28e 5G Charger in the Box (Breeze Green, 128 GB)",
          "vivo Y28e 5G Charger in the Box (Vintage Red, 128 GB)",
          "vivo Y28s 5G (Twinkling Purple, 128 GB)",
          "vivo Y28s 5G (Vintage Red, 128 GB)",
          "vivo Y29 5G (Diamond Black, 128 GB)",
          "vivo Y29 5G (Diamond Black, 256 GB)",
          "vivo Y29 5G (Glacier Blue, 128 GB)",
          "vivo Y29 5G (Titanium Gold, 256 GB)",
          "vivo Y300 5G (Emerald Green, 128 GB)",
          "vivo Y300 5G (Emerald Green, 256 GB)",
          "vivo Y300 5G (Phantom Purple, 128 GB)",
          "vivo Y300 5G (Phantom Purple, 256 GB)",
          "vivo Y300 5G (Titanium Silver, 128 GB)",
          "vivo Y300 Plus 5G (Silk Black, 128 GB)",
          "vivo Y300 Plus 5G (Silk Green, 128 GB)",
          "vivo Y35 (Agate Black, 128 GB)",
          "vivo Y36 (Meteor Black, 128 GB)",
          "vivo Y36 (Vibrant Gold, 128 GB)",
          "vivo Y56 5G (Black Engine, 128 GB)",
          "vivo Y56 5G (Orange Shimmer, 128 GB)",
          "vivo Y58 5G (Himalayan Blue, 128 GB)",
          "vivo Y58 5G (Sundarbans Green, 128 GB)",
          "vivo y15s (MYSTIC BLUE, 32 GB)"
         ],
         "legendgroup": "vivo",
         "marker": {
          "color": "#636efa",
          "symbol": "circle"
         },
         "mode": "markers",
         "name": "vivo",
         "scene": "scene",
         "showlegend": true,
         "type": "scatter3d",
         "x": [
          "5000 mAh Lithium Battery",
          "5000 mAh Lithium Battery",
          "5000 mAh Lithium Battery",
          "4700 mAh Lithium Battery",
          "4700 mAh Lithium Battery",
          "4500 mAh Battery",
          "4500 mAh Battery",
          "4600 mAh Battery",
          "5000 mAh Battery",
          "5000 mAh Battery",
          "5000 mAh Battery",
          "5000 mAh Battery",
          "5000 mAh Battery",
          "5000 mAh Battery",
          "5000 mAh Battery",
          "5000 mAh Battery",
          "5000 mAh Battery",
          "5000 mAh Battery",
          "5000 mAh Battery",
          "5500 mAh Battery",
          "5500 mAh Battery",
          "5500 mAh Battery",
          "5500 mAh Battery",
          "5500 mAh Battery",
          "5500 mAh Battery",
          "5500 mAh Battery",
          "5500 mAh Battery",
          "6000 mAh Battery",
          "6000 mAh Battery",
          "6000 mAh Battery",
          "5000 mAh Li-ion Battery",
          "4300 mAh Lithium Battery",
          "4300 mAh Lithium Battery",
          "4300 mAh Lithium Battery",
          "4500 mAh Lithium Battery",
          "4500 mAh Lithium Battery",
          "4830 mAh Lithium Battery",
          "4830 mAh Lithium Battery",
          "4830 mAh Battery",
          "4600 mAh Battery",
          "4600 mAh Battery",
          "4600 mAh Battery",
          "4600 mAh Battery",
          "4600 mAh Battery",
          "4600 mAh Battery",
          "5000 mAh Battery",
          "5000 mAh Battery",
          "5000 mAh Battery",
          "5000 mAh Battery",
          "5000 mAh Battery",
          "5000 mAh Battery",
          "5500 mAh Battery",
          "5500 mAh Battery",
          "5500 mAh Battery",
          "5500 mAh Battery",
          "5500 mAh Battery",
          "5500 mAh Battery",
          "5500 mAh Battery",
          "5500 mAh Battery",
          "5500 mAh Battery",
          "5500 mAh Battery",
          "5500 mAh Battery",
          "5500 mAh Battery",
          "5500 mAh Battery",
          "5500 mAh Battery",
          "5500 mAh Battery",
          "5500 mAh Battery",
          "5500 mAh Battery",
          "5500 mAh Battery",
          "5500 mAh Battery",
          "5500 mAh Battery",
          "6000 mAh Battery",
          "6000 mAh Battery",
          "6000 mAh Battery",
          "6000 mAh Battery",
          "6000 mAh Battery",
          "6000 mAh Battery",
          "6000 mAh Battery",
          "5800 mAh Battery",
          "5800 mAh Battery",
          "4450 mAh Battery",
          "4500 mAh Lithium Battery",
          "4500 mAh Lithium Battery",
          "4810 mAh Battery",
          "4810 mAh Battery",
          "5000 mAh Lithium Battery",
          "5000 mAh Battery",
          "4500 mAh Battery",
          "4500 mAh Battery",
          "4500 mAh Battery",
          "5000 mAh Li-ion Battery",
          "5000 mAh Li-ion Battery",
          "5000 mAh Lithium Battery",
          "5000 mAh Lithium Battery",
          "5000 mAh Lithium Battery",
          "5000 mAh Lithium Battery",
          "5000 mAh Lithium Battery",
          "5000 mAh Lithium Battery",
          "5000 mAh Lithium Battery",
          "5000 mAh Lithium Battery",
          "5000 mAh Lithium Battery",
          "5000 mAh Battery",
          "5000 mAh Battery",
          "5000 mAh Battery",
          "5000 mAh Battery",
          "5000 mAh Battery",
          "5000 mAh Battery",
          "4800 mAh Battery",
          "4800 mAh Battery",
          "4800 mAh Battery",
          "4800 mAh Battery",
          "5000 mAh Battery",
          "5000 mAh Battery",
          "5000 mAh Battery",
          "5000 mAh Lithium Battery",
          "5000 mAh Lithium Battery",
          "5000 mAh Battery",
          "5000 mAh Battery",
          "5000 mAh Lithium Battery",
          "5000 mAh Lithium Battery",
          "5000 mAh Lithium Battery",
          "5000 mAh Lithium Battery",
          "5000 mAh Lithium Battery",
          "5000 mAh Lithium Battery",
          "5000 mAh Battery",
          "5000 mAh Battery",
          "5000 mAh Battery",
          "5000 mAh Battery",
          "5000 mAh Battery",
          "5000 mAh Battery",
          "5000 mAh Battery",
          "5000 mAh Battery",
          "5000 mAh Battery",
          "5000 mAh Battery",
          "5000 mAh Battery",
          "5000 mAh Battery",
          "5000 mAh Battery",
          "5000 mAh Battery",
          "5000 mAh Battery",
          "5000 mAh Battery",
          "5000 mAh Battery",
          "5500 mAh Battery",
          "5500 mAh Battery",
          "5500 mAh Battery",
          "5500 mAh Battery",
          "5000 mAh Battery",
          "5000 mAh Battery",
          "5000 mAh Battery",
          "5000 mAh Battery",
          "5000 mAh Battery",
          "5000 mAh Battery",
          "5000 mAh Battery",
          "5000 mAh Lithium Battery",
          "5000 mAh Battery",
          "5000 mAh Battery",
          "5000 mAh Battery",
          "5000 mAh Battery",
          "6000 mAh Battery",
          "6000 mAh Battery",
          "5000 mAh Battery"
         ],
         "y": [
          14499,
          14499,
          16990,
          21990,
          24999,
          17999,
          15999,
          23999,
          12999,
          12999,
          15599,
          12999,
          11999,
          18499,
          20499,
          18499,
          20499,
          11499,
          10499,
          22999,
          24999,
          22999,
          24999,
          29999,
          33999,
          29999,
          33999,
          13999,
          13999,
          13999,
          13990,
          26999,
          10449,
          38990,
          27999,
          9999,
          35999,
          35999,
          14499,
          32999,
          19490,
          16499,
          35140,
          32999,
          39999,
          29790,
          34999,
          29945,
          34999,
          39999,
          34999,
          25499,
          27999,
          24790,
          34999,
          36999,
          41999,
          34999,
          36999,
          42999,
          34999,
          36999,
          41999,
          49999,
          55999,
          49999,
          55999,
          26999,
          28999,
          26999,
          28999,
          34999,
          36999,
          40999,
          36999,
          40999,
          34999,
          36999,
          65999,
          65999,
          29775,
          49990,
          59999,
          42990,
          50499,
          7999,
          7999,
          23999,
          21999,
          21999,
          10990,
          11990,
          36999,
          9799,
          9499,
          8899,
          9597,
          31780,
          10005,
          64995,
          11899,
          14999,
          8399,
          7999,
          7999,
          8499,
          9499,
          23999,
          23299,
          23490,
          23299,
          24999,
          24999,
          15490,
          29800,
          19490,
          8790,
          43990,
          19985,
          15499,
          15499,
          14499,
          13499,
          14499,
          12499,
          12816,
          13999,
          12999,
          12999,
          12390,
          10449,
          11900,
          9850,
          10999,
          10999,
          12590,
          11999,
          11499,
          11499,
          14441,
          12999,
          15499,
          18999,
          13999,
          18999,
          21999,
          23999,
          21999,
          23999,
          21999,
          23999,
          23999,
          13999,
          14999,
          14999,
          17999,
          17999,
          16332,
          16695,
          9499
         ],
         "z": [
          4,
          4,
          6,
          8,
          8,
          8,
          6,
          8,
          6,
          6,
          8,
          6,
          4,
          8,
          8,
          8,
          8,
          6,
          4,
          8,
          8,
          8,
          8,
          8,
          12,
          8,
          12,
          6,
          6,
          6,
          4,
          8,
          8,
          12,
          8,
          12,
          8,
          8,
          8,
          8,
          8,
          8,
          12,
          8,
          8,
          8,
          12,
          8,
          8,
          12,
          8,
          8,
          8,
          8,
          8,
          8,
          12,
          8,
          8,
          12,
          8,
          8,
          12,
          8,
          12,
          8,
          12,
          8,
          8,
          8,
          8,
          8,
          8,
          12,
          8,
          12,
          8,
          8,
          12,
          12,
          8,
          12,
          12,
          8,
          12,
          2,
          3,
          8,
          8,
          8,
          3,
          3,
          3,
          3,
          3,
          3,
          4,
          3,
          3,
          3,
          4,
          4,
          4,
          4,
          4,
          4,
          4,
          8,
          8,
          8,
          8,
          8,
          8,
          3,
          4,
          4,
          3,
          3,
          4,
          4,
          6,
          4,
          4,
          4,
          6,
          6,
          6,
          8,
          4,
          4,
          4,
          4,
          4,
          4,
          4,
          4,
          4,
          4,
          4,
          6,
          4,
          6,
          8,
          4,
          8,
          8,
          8,
          8,
          8,
          8,
          8,
          8,
          8,
          8,
          8,
          8,
          8,
          8,
          8,
          3
         ]
        },
        {
         "hovertemplate": "<b>%{hovertext}</b><br><br>brand=realme<br>battery=%{x}<br>price=%{y}<br>ram=%{z}<extra></extra>",
         "hovertext": [
          "realme 10 (Clash White, 64 GB)",
          "realme 10 (Rush Black, 128 GB)",
          "realme 12 5G (Twilight Purple, 128 GB)",
          "realme 12 5G (Woodland Green, 128 GB)",
          "realme 12 Pro 5G (Navigator Beige, 128 GB)",
          "realme 12 Pro 5G (Navigator Beige, 256 GB)",
          "realme 12 Pro 5G (Submarine Blue, 128 GB)",
          "realme 12 Pro 5G (Submarine Blue, 256 GB)",
          "realme 12 Pro+ 5G (Explorer Red, 128 GB)",
          "realme 12 Pro+ 5G (Explorer Red, 256 GB)",
          "realme 12 Pro+ 5G (Navigator Beige, 128 GB)",
          "realme 12 Pro+ 5G (Navigator Beige, 256 GB)",
          "realme 12 Pro+ 5G (Submarine Blue, 128 GB)",
          "realme 12 Pro+ 5G (Submarine Blue, 256 GB)",
          "realme 12+ 5G (Navigator Beige, 128 GB)",
          "realme 12+ 5G (Navigator Beige, 256 GB)",
          "realme 12+ 5G (Pioneer Green, 128 GB)",
          "realme 12+ 5G (Pioneer Green, 256 GB)",
          "realme 12x 5G (Coral Red, 128 GB)",
          "realme 12x 5G (Twilight Purple, 128 GB)",
          "realme 12x 5G (Woodland Green, 128 GB)",
          "realme 13 5G (Dark Purple, 128 GB)",
          "realme 13 5G (Speed Green, 128 GB)",
          "realme 13 5G (Speed Green, 256 GB)",
          "realme 13 Pro 5G (Emerald Green, 256 GB)",
          "realme 13 Pro 5G (Emerald Green, 512 GB)",
          "realme 13 Pro 5G (Monet Gold, 128 GB)",
          "realme 13 Pro 5G (Monet Gold, 256 GB)",
          "realme 13 Pro 5G (Monet Gold, 512 GB)",
          "realme 13 Pro 5G (Monet Purple, 128 GB)",
          "realme 13 Pro 5G (Monet Purple, 256 GB)",
          "realme 13 Pro 5G (Monet Purple, 512 GB)",
          "realme 13 Pro+ 5G (Emerald Green, 256 GB)",
          "realme 13 Pro+ 5G (Monet Gold, 256 GB)",
          "realme 13 Pro+ 5G (Monet Purple, 256 GB)",
          "realme 13 Pro+ 5G (Monet Purple, 512 GB)",
          "realme 13+ 5G (Dark Purple, 128 GB)",
          "realme 13+ 5G (Dark Purple, 256 GB)",
          "realme 13+ 5G (Speed Green, 128 GB)",
          "realme 13+ 5G (Speed Green, 256 GB)",
          "realme 13+ 5G (Victory Gold, 256 GB)",
          "realme 14 Pro 5G (Jaipur Pink, 128 GB)",
          "realme 14 Pro 5G (Pearl White, 128 GB)",
          "realme 14 Pro 5G (Pearl White, 256 GB)",
          "realme 14 Pro+ 5G (Bikaner Purple, 128 GB)",
          "realme 14x 5G (Crystal Black, 128 GB)",
          "realme 14x 5G (Golden Glow, 128 GB)",
          "realme 14x 5G (Jewel Red, 128 GB)",
          "realme 7 (Mist White, 64 GB)",
          "realme 70 TURBO 5G (Turbo Green, 128 GB)",
          "realme 70 TURBO 5G (Turbo Purple, 128 GB)",
          "realme 70 TURBO 5G (Turbo Purple, 256 GB)",
          "realme 70 TURBO 5G (Turbo Yellow, 128 GB)",
          "realme 70 TURBO 5G (Turbo Yellow, 256 GB)",
          "realme 8i (Space Black, 128 GB)",
          "realme 8i (Space Black, 64 GB)",
          "realme 8i (Space Purple, 128 GB)",
          "realme 8i (Space Purple, 64 GB)",
          "realme C25Y (Metal Grey, 128 GB)",
          "realme C25Y (Metal Grey, 64 GB)",
          "realme C25_Y (Metal Grey, 128 GB)",
          "realme C25_Y (Metal Grey, 64 GB)",
          "realme C51 (Carbon Black, 64 GB)",
          "realme C51 (Mint Green, 128 GB)",
          "realme C51 (Mint Green, 64 GB)",
          "realme C53 (Champion Black, 128 GB)",
          "realme C53 (Champion Gold, 64 GB)",
          "realme C61 (Marble Black, 128 GB)",
          "realme C61 (Marble Black, 64 GB)",
          "realme C61 (Safari Green, 64 GB)",
          "realme C63 (Jade Green, 64 GB)",
          "realme C63 (Leather Blue, 64 GB)",
          "realme C63 5G (Forest Green, 128 GB)",
          "realme C63 5G (Starry Gold, 128 GB)",
          "realme C63 5G Charger in the Box (Forest Green, 128 GB)",
          "realme C63 5G Charger in the Box (Starry Gold, 128 GB)",
          "realme C65 5G (Feather Green, 128 GB)",
          "realme C65 5G (Glowing Black, 128 GB)",
          "realme C65 5G (Glowing Black, 64 GB)",
          "realme C65 5G (Speedy Red, 128 GB)",
          "realme C65 5G (Speedy Red, 64 GB)",
          "realme C67 5G (Dark Purple, 128 GB)",
          "realme C67 5G (Sunny Oasis, 128 GB)",
          "realme GT 2 Pro (Paper White, 128 GB)",
          "realme GT 2 Pro (Paper White, 256 GB)",
          "realme GT 2 Pro (Steel Black, 256 GB)",
          "realme GT 6 (Fluid Silver, 256 GB)",
          "realme GT 6 (Fluid Silver, 512 GB)",
          "realme GT 6 (Razor Green, 256 GB)",
          "realme GT 6 (Razor Green, 512 GB)",
          "realme GT 6T 5G (Fluid Silver, 128 GB)",
          "realme GT 6T 5G (Fluid Silver, 256 GB)",
          "realme GT 6T 5G (Miracle Purple, 256 GB)",
          "realme GT 6T 5G (Razor Green, 128 GB)",
          "realme GT 6T 5G (Razor Green, 256 GB)",
          "realme GT 6T 5G (Razor Green, 512 GB)",
          "realme GT 7 Pro (Galaxy Grey, 512 GB)",
          "realme GT 7 Pro (Mars Orange, 512 GB)",
          "realme NARZO 70X 5G (FOREST GREEN, 128 GB)",
          "realme NARZO 70X 5G (ICE BLUE, 128 GB)",
          "realme NARZO N65 5G (AMBER GOLD, 128 GB)",
          "realme NARZO N65 5G (DEEP GREEN, 128 GB)",
          "realme Narzo 30 (Racing Blue, 64 GB)",
          "realme Narzo N61 (Marble Black, 64 GB)",
          "realme Narzo N61 (Voyage Blue, 128 GB)",
          "realme Narzo N61 (Voyage Blue, 64 GB)",
          "realme Narzo N63 4G (Leather Blue, 128 GB)",
          "realme Narzo N63 4G (Twilight Purple, 128 GB)",
          "realme Narzo N63 4G (Twilight Purple, 64 GB)",
          "realme Narzo N65 5G (AMBER GOLD, 128 GB)",
          "realme Narzo N65 5G (Amber Gold, 128 GB)",
          "realme Narzo N65 5G (Deep Green, 128 GB)",
          "realme P1 5G (Feather Blue, 128 GB)",
          "realme P1 5G (Feather Blue, 256 GB)",
          "realme P1 5G (Peacock Green, 128 GB)",
          "realme P1 5G (Peacock Green, 256 GB)",
          "realme P1 5G (Phoenix Red, 128 GB)",
          "realme P1 5G (Phoenix Red, 256 GB)",
          "realme P1 Pro 5G (Parrot Blue, 128 GB)",
          "realme P1 Pro 5G (Parrot Blue, 256 GB)",
          "realme P1 Pro 5G (Phoenix Red, 128 GB)",
          "realme P1 Pro 5G (Phoenix Red, 256 GB)",
          "realme P1 Speed 5G (Brushed Blue, 128 GB)",
          "realme P1 Speed 5G (Brushed Blue, 256 GB)",
          "realme P1 Speed 5G (Textured Titanium, 256 GB)",
          "realme P2 Pro 5G (Eagle Grey, 128 GB)",
          "realme P2 Pro 5G (Eagle Grey, 256 GB)",
          "realme P2 Pro 5G (Eagle Grey, 512 GB)",
          "realme P2 Pro 5G (Parrot Green, 256 GB)",
          "realme P2 Pro 5G (Parrot Green, 512 GB)"
         ],
         "legendgroup": "realme",
         "marker": {
          "color": "#EF553B",
          "symbol": "circle"
         },
         "mode": "markers",
         "name": "realme",
         "scene": "scene",
         "showlegend": true,
         "type": "scatter3d",
         "x": [
          "5000 mAh Battery",
          "5000 mAh Battery",
          "5000 mAh Battery",
          "5000 mAh Battery",
          "5000 mAh Battery",
          "5000 mAh Battery",
          "5000 mAh Battery",
          "5000 mAh Battery",
          "5000 mAh Battery",
          "5000 mAh Battery",
          "5000 mAh Battery",
          "5000 mAh Battery",
          "5000 mAh Battery",
          "5000 mAh Battery",
          "5000 mAh Battery",
          "5000 mAh Battery",
          "5000 mAh Battery",
          "5000 mAh Battery",
          "5000 mAh Battery",
          "5000 mAh Battery",
          "5000 mAh Battery",
          "5000 mAh Battery",
          "5000 mAh Battery",
          "5000 mAh Battery",
          "5200 mAh Battery",
          "5200 mAh Battery",
          "5200 mAh Battery",
          "5200 mAh Battery",
          "5200 mAh Battery",
          "5200 mAh Battery",
          "5200 mAh Battery",
          "5200 mAh Battery",
          "5200 mAh Battery",
          "5200 mAh Battery",
          "5200 mAh Battery",
          "5200 mAh Battery",
          "5000 mAh Battery",
          "5000 mAh Battery",
          "5000 mAh Battery",
          "5000 mAh Battery",
          "5000 mAh Battery",
          "6000 mAh Battery",
          "6000 mAh Battery",
          "6000 mAh Battery",
          "6000 mAh Battery",
          "6000 mAh Battery",
          "6000 mAh Battery",
          "6000 mAh Battery",
          "5000 mAh Lithium-ion Battery",
          "5000 mAh Battery",
          "5000 mAh Battery",
          "5000 mAh Battery",
          "5000 mAh Battery",
          "5000 mAh Battery",
          "5000 mAh Battery",
          "5000 mAh Battery",
          "5000 mAh Battery",
          "5000 mAh Battery",
          "5000 mAh Battery",
          "5000 mAh Battery",
          "5000 mAh LiPo Battery",
          "5000 mAh LiPo Battery",
          "5000 mAh Battery",
          "5000 mAh Battery",
          "5000 mAh Battery",
          "5000 mAh Battery",
          "5000 mAh Battery",
          "5000 mAh Battery",
          "5000 mAh Battery",
          "5000 mAh Battery",
          "5000 mAh Battery",
          "5000 mAh Battery",
          "5000 mAh Battery",
          "5000 mAh Battery",
          "5000 mAh Battery",
          "5000 mAh Battery",
          "5000 mAh Battery",
          "5000 mAh Battery",
          "5000 mAh Battery",
          "5000 mAh Battery",
          "5000 mAh Battery",
          "5000 mAh Battery",
          "5000 mAh Battery",
          "5000 mAh Lithium Ion Battery",
          "5000 mAh Lithium Ion Battery",
          "5000 mAh Lithium Ion Battery",
          "5500 mAh Battery",
          "5500 mAh Battery",
          "5500 mAh Battery",
          "5500 mAh Battery",
          "5500 mAh Battery",
          "5500 mAh Battery",
          "5500 mAh Battery",
          "5500 mAh Battery",
          "5500 mAh Battery",
          "5500 mAh Battery",
          "5800 mAh Battery",
          "5800 mAh Battery",
          "5000 mAh Battery",
          "5000 mAh Battery",
          "5000 mAh Battery",
          "5000 mAh Battery",
          "5000 mAh Battery",
          "5000 mAh Battery",
          "5000 mAh Battery",
          "5000 mAh Battery",
          "5000 mAh Battery",
          "5000 mAh Battery",
          "5000 mAh Battery",
          "5000 mAh Battery",
          "5000 mAh Battery",
          "5000 mAh Battery",
          "5000 mAh Battery",
          "5000 mAh Battery",
          "5000 mAh Battery",
          "5000 mAh Battery",
          "5000 mAh Battery",
          "5000 mAh Battery",
          "5000 mAh Battery",
          "5000 mAh Battery",
          "5000 mAh Battery",
          "5000 mAh Battery",
          "5000 mAh Battery",
          "5000 mAh Battery",
          "5000 mAh Battery",
          "5200 mAh Battery",
          "5200 mAh Battery",
          "5200 mAh Battery",
          "5200 mAh Battery",
          "5200 mAh Battery"
         ],
         "y": [
          9999,
          12999,
          17999,
          16999,
          19999,
          22999,
          19999,
          20999,
          21999,
          22999,
          21999,
          23999,
          21999,
          23999,
          20999,
          21999,
          20999,
          21999,
          13499,
          13499,
          13499,
          17999,
          17999,
          19999,
          23999,
          26999,
          21999,
          23999,
          24390,
          21999,
          23999,
          26999,
          26999,
          25999,
          26999,
          28999,
          22999,
          24999,
          22999,
          26999,
          26999,
          24999,
          24999,
          26999,
          29999,
          14999,
          14999,
          14999,
          17999,
          16198,
          16445,
          20990,
          15027,
          20990,
          13499,
          11499,
          13499,
          11499,
          8574,
          8999,
          9999,
          8999,
          8999,
          9499,
          8999,
          11999,
          10999,
          7864,
          7699,
          7699,
          8499,
          8499,
          11299,
          11395,
          12999,
          10999,
          11498,
          11178,
          10499,
          12999,
          11499,
          14999,
          14999,
          21999,
          29999,
          29999,
          37999,
          37999,
          33999,
          37999,
          25280,
          27418,
          29995,
          30999,
          29490,
          32893,
          59999,
          59999,
          11499,
          11490,
          11650,
          11499,
          10999,
          7613,
          10560,
          7990,
          8493,
          8599,
          8990,
          12115,
          10399,
          12140,
          15999,
          18999,
          15999,
          18999,
          15999,
          18999,
          15999,
          17999,
          15999,
          17999,
          17999,
          20999,
          20999,
          18999,
          21890,
          15199,
          20990,
          22450
         ],
         "z": [
          4,
          8,
          8,
          6,
          8,
          12,
          8,
          8,
          8,
          8,
          8,
          12,
          8,
          12,
          8,
          8,
          8,
          8,
          8,
          8,
          8,
          8,
          8,
          8,
          8,
          12,
          8,
          8,
          12,
          8,
          8,
          12,
          12,
          8,
          12,
          12,
          8,
          8,
          8,
          12,
          12,
          8,
          8,
          8,
          8,
          6,
          6,
          6,
          6,
          8,
          8,
          12,
          6,
          12,
          6,
          4,
          6,
          4,
          4,
          4,
          4,
          4,
          4,
          4,
          4,
          6,
          6,
          6,
          4,
          4,
          4,
          4,
          8,
          6,
          8,
          6,
          6,
          6,
          4,
          8,
          4,
          6,
          6,
          8,
          12,
          12,
          12,
          16,
          8,
          16,
          8,
          8,
          12,
          8,
          12,
          12,
          16,
          16,
          4,
          4,
          6,
          6,
          4,
          4,
          6,
          4,
          4,
          4,
          4,
          8,
          4,
          8,
          8,
          8,
          8,
          8,
          8,
          8,
          8,
          12,
          8,
          12,
          8,
          12,
          12,
          8,
          12,
          12,
          12,
          12
         ]
        },
        {
         "hovertemplate": "<b>%{hovertext}</b><br><br>brand=Samsung<br>battery=%{x}<br>price=%{y}<br>ram=%{z}<extra></extra>",
         "hovertext": [
          "SAMSUNG A14 5g (Green, 128 GB)",
          "SAMSUNG A14 5g (Green, Light Green, 128 GB)",
          "SAMSUNG GALAXY M13 (Aqua Green, 64 GB)",
          "SAMSUNG GALAXY M13 (Stardust Brown, 128 GB)",
          "SAMSUNG GALAXY M13 5G (Aqua Green, 128 GB)",
          "SAMSUNG Galaxy A04 (Copper, 64 GB)",
          "SAMSUNG Galaxy A04s (Copper, 64 GB)",
          "SAMSUNG Galaxy A05 (Black, 128 GB)",
          "SAMSUNG Galaxy A05 (Light Green, 128 GB)",
          "SAMSUNG Galaxy A05 (Light Green, 64 GB)",
          "SAMSUNG Galaxy A05 (Silver, 128 GB)",
          "SAMSUNG Galaxy A05 (Silver, 64 GB)",
          "SAMSUNG Galaxy A05s (Black, 128 GB)",
          "SAMSUNG Galaxy A05s (Light Green, 128 GB)",
          "SAMSUNG Galaxy A06 (Black, 128 GB)",
          "SAMSUNG Galaxy A06 (Black, 64 GB)",
          "SAMSUNG Galaxy A06 (Gold, 64 GB)",
          "SAMSUNG Galaxy A13 (White, 128 GB)",
          "SAMSUNG Galaxy A14 5G (Black, 128 GB)",
          "SAMSUNG Galaxy A14 5G (Black, 64 GB)",
          "SAMSUNG Galaxy A14 5G (Dark Red, 128 GB)",
          "SAMSUNG Galaxy A14 5G (Dark Red, 64 GB)",
          "SAMSUNG Galaxy A14 5G (Light Green, 128 GB)",
          "SAMSUNG Galaxy A15 5G (Blue Black, 128 GB)",
          "SAMSUNG Galaxy A15 5G (Blue Black, 256 GB)",
          "SAMSUNG Galaxy A15 5G (Blue, 128 GB)",
          "SAMSUNG Galaxy A15 5G (Light Blue, 256 GB)",
          "SAMSUNG Galaxy A16 5G (Blue Black, 128 GB)",
          "SAMSUNG Galaxy A16 5G (Blue Black, 256 GB)",
          "SAMSUNG Galaxy A16 5G (Gold, 128 GB)",
          "SAMSUNG Galaxy A16 5G (Gold, 256 GB)",
          "SAMSUNG Galaxy A16 5G (Light Green, 128 GB)",
          "SAMSUNG Galaxy A16 5G (Light Green, 256 GB)",
          "SAMSUNG Galaxy A23 (Black, 128 GB)",
          "SAMSUNG Galaxy A23 5G (Light Blue, 128 GB)",
          "SAMSUNG Galaxy A23 5G (Orange, 128 GB)",
          "SAMSUNG Galaxy A23 5G (Silver, 128 GB)",
          "SAMSUNG Galaxy A25 5G (Blue Black, 256 GB)",
          "SAMSUNG Galaxy A34 5G (Awesome Lime, 128 GB)",
          "SAMSUNG Galaxy A35 5G (Awesome Iceblue, 128 GB)",
          "SAMSUNG Galaxy A35 5G (Awesome Lilac, 128 GB)",
          "SAMSUNG Galaxy A35 5G (Awesome Lilac, 256 GB)",
          "SAMSUNG Galaxy A35 5G (Awesome Navy, 128 GB)",
          "SAMSUNG Galaxy A35 5G (Awesome Navy, 256 GB)",
          "SAMSUNG Galaxy A53 (Awesome Peach, 128 GB)",
          "SAMSUNG Galaxy A54 5G (Awesome Graphite, 128 GB)",
          "SAMSUNG Galaxy A54 5G (Awesome Graphite, 256 GB)",
          "SAMSUNG Galaxy A54 5G (Awesome Lime, 128 GB)",
          "SAMSUNG Galaxy A54 5G (Awesome Lime, 256 GB)",
          "SAMSUNG Galaxy A54 5G (Awesome Violet, 128 GB)",
          "SAMSUNG Galaxy A55 5G (Awesome Iceblue, 128 GB)",
          "SAMSUNG Galaxy A55 5G (Awesome Iceblue, 256 GB)",
          "SAMSUNG Galaxy A55 5G (Awesome Navy, 128 GB)",
          "SAMSUNG Galaxy F05 (Twilight Blue, 64 GB)",
          "SAMSUNG Galaxy F12 (Celestial Black, 128 GB)",
          "SAMSUNG Galaxy F12 (Celestial Black, 64 GB)",
          "SAMSUNG Galaxy F12 (Sea Green, 128 GB)",
          "SAMSUNG Galaxy F12 (Sea Green, 64 GB)",
          "SAMSUNG Galaxy F12 (Sky Blue, 128 GB)",
          "SAMSUNG Galaxy F12 (Sky Blue, 64 GB)",
          "SAMSUNG Galaxy F13 (Waterfall Blue, 64 GB)",
          "SAMSUNG Galaxy F14 (Peppermint green, 64 GB)",
          "SAMSUNG Galaxy F14 5G (B.A.E. Purple, 128 GB)",
          "SAMSUNG Galaxy F15 5G (Ash Black, 128 GB)",
          "SAMSUNG Galaxy F15 5G (Groovy Violet, 128 GB)",
          "SAMSUNG Galaxy F15 5G (Jazzy Green, 128 GB)",
          "SAMSUNG Galaxy F23 5G (Aqua Blue, 128 GB)",
          "SAMSUNG Galaxy F34 5G (Mystic Green, 128 GB)",
          "SAMSUNG Galaxy F54 5G (Stardust Silver, 256 GB)",
          "SAMSUNG Galaxy F55 5G (Apricot Crush, 256 GB)",
          "SAMSUNG Galaxy F55 5G (Raisin Black, 256 GB)",
          "SAMSUNG Galaxy M04 (Light Green, 128 GB)",
          "SAMSUNG Galaxy M11 (Violet, 32 GB)",
          "SAMSUNG Galaxy M12 (Black, 64 GB)",
          "SAMSUNG Galaxy M13 (Aqua Green, 128 GB)",
          "SAMSUNG Galaxy M14 4G (Arctic Blue, 64 GB)",
          "SAMSUNG Galaxy M14 4G (Sapphire Blue, 64 GB)",
          "SAMSUNG Galaxy M14 5G (Berry Blue, 128 GB)",
          "SAMSUNG Galaxy M15 5G (Blue Topaz, 128 GB)",
          "SAMSUNG Galaxy M15 5G (Stone Grey, 128 GB)",
          "SAMSUNG Galaxy M33 5G (Mystique Green, 128 GB)",
          "SAMSUNG Galaxy M34 5G without charger (Prism Silver, 128 GB)",
          "SAMSUNG Galaxy M35 5G (DayBreak Blue, 128 GB)",
          "SAMSUNG Galaxy M35 5G (DayBreak Blue, 256 GB)",
          "SAMSUNG Galaxy M35 5G (Moonlight Blue, 128 GB)",
          "SAMSUNG Galaxy M35 5G (Moonlight Blue, 256 GB)",
          "SAMSUNG Galaxy M35 5G (Thunder Grey, 128 GB)",
          "SAMSUNG Galaxy M35 5G (Thunder Grey, 256 GB)",
          "SAMSUNG Galaxy M53 5G (Mystique Green, 128 GB)",
          "SAMSUNG Galaxy M55 5G (Light Green, 256 GB)",
          "SAMSUNG Galaxy S23 5G (Cream, 256 GB)",
          "SAMSUNG Galaxy S23 5G (Green, 256 GB)",
          "SAMSUNG Galaxy S23 FE (Graphite, 128 GB)",
          "SAMSUNG Galaxy S23 FE (Graphite, 256 GB)",
          "SAMSUNG Galaxy S23 Ultra 5G (Cream, 256 GB)",
          "SAMSUNG Galaxy S23 Ultra 5G (Green, 256 GB)",
          "SAMSUNG Galaxy S23 Ultra 5G (Phantom Black, 256 GB)",
          "SAMSUNG Galaxy S24 5G (Cobalt Violet, 128 GB)",
          "SAMSUNG Galaxy S24 5G (Cobalt Violet, 256 GB)",
          "SAMSUNG Galaxy S24 5G (Cobalt Violet, 512 GB)",
          "SAMSUNG Galaxy S24 FE 5G (Blue, 128 GB)",
          "SAMSUNG Galaxy S24 FE 5G (Blue, 256 GB)",
          "SAMSUNG Galaxy S24 FE 5G (Graphite, 128 GB)",
          "SAMSUNG Galaxy S24 FE 5G (Graphite, 256 GB)",
          "SAMSUNG Galaxy S24 FE 5G (Mint, 128 GB)",
          "SAMSUNG Galaxy S24 Ultra 5G (Titanium Black, 512 GB)",
          "SAMSUNG Galaxy S24+ 5G (Onyx Black, 256 GB)",
          "SAMSUNG Galaxy S25 5G (Mint, 256 GB)",
          "SAMSUNG Galaxy S25 5G (Mint, 512 GB)",
          "SAMSUNG Galaxy S25 5G (Navy, 256 GB)",
          "SAMSUNG Galaxy S25 5G (Navy, 512 GB)",
          "SAMSUNG Galaxy S25 5G (Silver Shadow, 256 GB)",
          "SAMSUNG Galaxy S25 5G (Silver Shadow, 512 GB)",
          "SAMSUNG Galaxy S25 Plus 5G (Navy, 512 GB)",
          "SAMSUNG Galaxy S25 Plus 5G (Silver Shadow, 256 GB)",
          "SAMSUNG Galaxy S25 Ultra 5G (Titanium Black, 256 GB)",
          "SAMSUNG Galaxy S25 Ultra 5G (Titanium Silverblue, 512 GB)",
          "SAMSUNG Galaxy Z Flip5 (Graphite, 256 GB)",
          "SAMSUNG Galaxy Z Fold5 (Cream, 256 GB)",
          "SAMSUNG Galaxy Z Fold5 (Cream, 512 GB)",
          "SAMSUNG Galaxy Z Fold5 (Icy Blue, 256 GB)",
          "SAMSUNG Galaxy Z Fold5 (Phantom Black, 256 GB)",
          "SAMSUNG M05 (Mint Green, 64 GB)",
          "SAMSUNG M15 5G Prime Edition (Stone Grey, 128 GB)",
          "SAMSUNG M15 Prime Edition (Celestial Blue, 128 GB)",
          "SAMSUNG galaxy M15 5G (Blue Topaz, 128 GB)",
          "SAMSUNG galaxy M15 5G (Celestrial Blue, 128 GB)",
          "SAMSUNG galaxy M15 5G (Stone Grey, 128 GB)",
          "Samsung Galaxy S21 FE 5G with Snapdragon 888 (Graphite, 128 GB)",
          "Samsung Galaxy S21 FE 5G with Snapdragon 888 (Graphite, 256 GB)",
          "Samsung Galaxy S21 FE 5G with Snapdragon 888 (Lavender, 256 GB)",
          "Samsung Galaxy S21 FE 5G with Snapdragon 888 (Olive, 128 GB)",
          "Samsung Galaxy S21 FE 5G with Snapdragon 888 (Olive, 256 GB)"
         ],
         "legendgroup": "Samsung",
         "marker": {
          "color": "#00cc96",
          "symbol": "circle"
         },
         "mode": "markers",
         "name": "Samsung",
         "scene": "scene",
         "showlegend": true,
         "type": "scatter3d",
         "x": [
          "5000 mAh Battery",
          "5000 mAh Battery",
          "6000 mAh Battery",
          "6000 mAh Battery",
          "5000 mAh Battery",
          "5000 mAh Lithium Ion Battery",
          "5000 mAh Lithium-ion Battery",
          "5000 mAh Battery",
          "5000 mAh Battery",
          "5000 mAh Battery",
          "5000 mAh Battery",
          "5000 mAh Battery",
          "5000 mAh Battery",
          "5000 mAh Battery",
          "5000 mAh Battery",
          "5000 mAh Battery",
          "5000 mAh Battery",
          "5000 mAh Lithium Ion Battery",
          "5000 mAh Lithium Ion Battery",
          "5000 mAh Lithium Ion Battery",
          "5000 mAh Lithium Ion Battery",
          "5000 mAh Lithium Ion Battery",
          "5000 mAh Lithium Ion Battery",
          "5000 mAh Battery",
          "5000 mAh Battery",
          "5000 mAh Battery",
          "5000 mAh Battery",
          "5000 mAh Battery",
          "5000 mAh Battery",
          "5000 mAh Battery",
          "5000 mAh Battery",
          "5000 mAh Battery",
          "5000 mAh Battery",
          "5000 mAh Li-Ion Battery",
          "5000 mAh Lithium Ion Battery",
          "5000 mAh Lithium Ion Battery",
          "5000 mAh Lithium Ion Battery",
          "5000 mAh Battery",
          "5000 mAh Li-ion Battery Battery",
          "5000 mAh Battery",
          "5000 mAh Battery",
          "5000 mAh Battery",
          "5000 mAh Battery",
          "5000 mAh Battery",
          "5000 mAh Lithium Ion Battery",
          "5000 mAh Battery",
          "5000 mAh Battery",
          "5000 mAh Battery",
          "5000 mAh Battery",
          "5000 mAh Battery",
          "5000 mAh Battery",
          "5000 mAh Battery",
          "5000 mAh Battery",
          "5000 mAh Battery",
          "6000 mAh Lithium-ion Battery",
          "6000 mAh Lithium-ion Battery",
          "6000 mAh Lithium-ion Battery",
          "6000 mAh Lithium-ion Battery",
          "6000 mAh Lithium-ion Battery",
          "6000 mAh Lithium-ion Battery",
          "6000 mAh Lithium Ion Battery",
          "5000 mAh Battery",
          "6000 mAh Battery",
          "6000 mAh Lithium ion Battery",
          "6000 mAh Lithium ion Battery",
          "6000 mAh Lithium ion Battery",
          "5000 mAh Lithium Ion Battery",
          "6000 mAh Battery",
          "6000 mAh Battery",
          "5000 mAh Battery",
          "5000 mAh Battery",
          "5000 mAh Battery",
          "5000 mAh Lithium-ion Battery",
          "6000 mAh Battery",
          "6000 mAh Battery",
          "6000 mAh Battery",
          "6000 mAh Battery",
          "6000 mAh Battery",
          "6000 mAh Battery",
          "6000 mAh Battery",
          "6000 mAh Battery",
          "6000 mAh Battery",
          "6000 mAh Battery",
          "6000 mAh Battery",
          "6000 mAh Battery",
          "6000 mAh Battery",
          "6000 mAh Battery",
          "6000 mAh Battery",
          "5000 mAh Battery",
          "5000 mAh Battery",
          "3900 mAh Lithium Ion Battery",
          "3900 mAh Lithium Ion Battery",
          "4500 mAh Battery",
          "4500 mAh Battery",
          "5000 mAh Lithium Ion Battery",
          "5000 mAh Lithium Ion Battery",
          "5000 mAh Lithium Ion Battery",
          "4000 mAh Battery",
          "4000 mAh Battery",
          "4000 mAh Battery",
          "4700 mAh Battery",
          "4700 mAh Battery",
          "4700 mAh Battery",
          "4700 mAh Battery",
          "4700 mAh Battery",
          "5000 mAh Battery",
          "4900 mAh Battery",
          "4000 mAh Battery",
          "4000 mAh Battery",
          "4000 mAh Battery",
          "4000 mAh Battery",
          "4000 mAh Battery",
          "4000 mAh Battery",
          "4900 mAh Battery",
          "4900 mAh Battery",
          "5000 mAh Battery",
          "5000 mAh Battery",
          "3700 mAh Battery",
          "4400 mAh Battery",
          "4400 mAh Battery",
          "4400 mAh Battery",
          "4400 mAh Battery",
          "5000 mAh Battery",
          "6000 mAh Battery",
          "6000 mAh Battery",
          "6000 mAh Battery",
          "6000 mAh Battery",
          "6000 mAh Battery",
          "4500 mAh Lithium-ion Battery",
          "4500 mAh Lithium-ion Battery",
          "4500 mAh Lithium-ion Battery",
          "4500 mAh Lithium-ion Battery",
          "4500 mAh Lithium-ion Battery"
         ],
         "y": [
          16999,
          13699,
          32999,
          12799,
          32999,
          6990,
          8909,
          12499,
          8114,
          7699,
          8067,
          7899,
          9990,
          9990,
          11499,
          11499,
          11499,
          13499,
          11248,
          18499,
          15499,
          18499,
          20999,
          16999,
          19999,
          14499,
          24498,
          14363,
          19999,
          14973,
          18990,
          15499,
          19999,
          18499,
          16790,
          16999,
          16798,
          22990,
          21042,
          25999,
          25999,
          28999,
          24491,
          28999,
          13599,
          27990,
          31999,
          28999,
          31990,
          27999,
          33999,
          45999,
          34599,
          6499,
          14999,
          10499,
          11499,
          10499,
          11499,
          10499,
          10999,
          9299,
          13490,
          13499,
          13499,
          13499,
          18499,
          21999,
          31999,
          23999,
          26999,
          19498,
          9890,
          24000,
          16499,
          8848,
          8450,
          12999,
          12990,
          12970,
          17999,
          1390,
          14497,
          21026,
          14534,
          22399,
          14482,
          20985,
          7999,
          27820,
          95900,
          49999,
          34999,
          37999,
          74999,
          89999,
          81999,
          64999,
          70999,
          82999,
          59999,
          49859,
          59999,
          49795,
          43999,
          144999,
          62999,
          80999,
          92999,
          80999,
          92999,
          80999,
          79149,
          111999,
          99999,
          129999,
          141999,
          79999,
          96999,
          104999,
          96999,
          97999,
          6967,
          12898,
          12715,
          14060,
          12748,
          16890,
          45999,
          34990,
          11499,
          45999,
          34990
         ],
         "z": [
          8,
          6,
          4,
          6,
          6,
          4,
          4,
          6,
          6,
          4,
          6,
          4,
          4,
          4,
          4,
          4,
          4,
          6,
          6,
          4,
          4,
          4,
          6,
          8,
          8,
          6,
          8,
          6,
          8,
          6,
          8,
          6,
          8,
          8,
          8,
          6,
          8,
          8,
          8,
          8,
          8,
          8,
          8,
          8,
          8,
          8,
          8,
          8,
          8,
          8,
          8,
          12,
          8,
          4,
          4,
          4,
          4,
          4,
          4,
          4,
          4,
          4,
          6,
          6,
          6,
          6,
          6,
          8,
          8,
          8,
          12,
          4,
          3,
          4,
          6,
          4,
          4,
          4,
          6,
          6,
          6,
          6,
          6,
          8,
          6,
          8,
          6,
          8,
          8,
          12,
          8,
          8,
          8,
          8,
          12,
          12,
          12,
          8,
          8,
          8,
          8,
          8,
          8,
          8,
          8,
          12,
          12,
          12,
          12,
          12,
          12,
          12,
          12,
          12,
          12,
          12,
          12,
          8,
          12,
          12,
          12,
          12,
          4,
          8,
          6,
          8,
          6,
          8,
          8,
          8,
          8,
          8,
          8
         ]
        },
        {
         "hovertemplate": "<b>%{hovertext}</b><br><br>brand=OPPO<br>battery=%{x}<br>price=%{y}<br>ram=%{z}<extra></extra>",
         "hovertext": [
          "OPPO A18 (Glowing Black, 128 GB)",
          "OPPO A18 (Glowing Blue, 128 GB)",
          "OPPO A18 (Glowing Blue, 64 GB)",
          "OPPO A3 5G (Nebula Red, 128 GB)",
          "OPPO A3 5G (Ocean Blue, 128 GB)",
          "OPPO A3 Pro 5G (Moonlight Purple, 128 GB)",
          "OPPO A3 Pro 5G (Moonlight Purple, 256 GB)",
          "OPPO A3 Pro 5G (Starry Black, 128 GB)",
          "OPPO A3 Pro 5G (Starry Black, 256 GB)",
          "OPPO A38 (Glowing Black, 128 GB)",
          "OPPO A38 (Glowing Gold, 128 GB)",
          "OPPO A3s (Nebula Red, 64 GB)",
          "OPPO A3x (Nebula Red, 128 GB)",
          "OPPO A3x (Ocean Blue, 128 GB)",
          "OPPO A3x 4G (Ocean Blue, 64 GB)",
          "OPPO A3x 5G (Starlight White, 128 GB)",
          "OPPO A3x 5G (Starlight White, 64 GB)",
          "OPPO A3x 5G (Starry Purple, 64 GB)",
          "OPPO A55 (Rainbow Blue, 128 GB)",
          "OPPO A57 4g (Green, 64 GB)",
          "OPPO A58 (Glowing Black, 128 GB)",
          "OPPO A59 5G (Silk Gold, 128 GB)",
          "OPPO A59 5G (Starry Black, 128 GB)",
          "OPPO A74 5G BLACK (Fluid Black, 128 GB)",
          "OPPO A77 (Sunset Orange, 128 GB)",
          "OPPO A78 (Aqua Green, 128 GB)",
          "OPPO A78 (Mist Black, 128 GB)",
          "OPPO A78 5G (Aqua Green, 128 GB)",
          "OPPO A78 5G (Glowing Black, 128 GB)",
          "OPPO A78 5G (Glowing Blue, 128 GB)",
          "OPPO A79 5G (Glowing Green, 128 GB)",
          "OPPO A79 5G (Mystery Black, 128 GB)",
          "OPPO F21 Pro (Sunset Orange, 128 GB)",
          "OPPO F21 Pro 5G (Cosmic Black, 128 GB)",
          "OPPO F21 Pro 5G (Rainbow Spectrum, 128 GB)",
          "OPPO F21SPRO (Orange, 128 GB)",
          "OPPO F21s Pro (Starlight Black, 128 GB)",
          "OPPO F21s Pro 5G (Dawnlight Gold, 128 GB)",
          "OPPO F21s Pro 5G (Starlight Black, 128 GB)",
          "OPPO F23 5G (Bold Gold, 256 GB)",
          "OPPO F23 5G (Cool Black, 256 GB)",
          "OPPO F25 Pro 5G (Coral Purple, 128 GB)",
          "OPPO F25 Pro 5G (Lava Red, 128 GB)",
          "OPPO F25 Pro 5G (Lava Red, 256 GB)",
          "OPPO F25 Pro 5G (Ocean Blue, 256 GB)",
          "OPPO F27 5G (Amber Orange, 128 GB)",
          "OPPO F27 5G (Amber Orange, 256 GB)",
          "OPPO F27 5G (Emerald Green, 128 GB)",
          "OPPO F27 5G (Emerald Green, 256 GB)",
          "OPPO F27 Pro+ (Dusk Pink, 128 GB)",
          "OPPO F27 Pro+ (Dusk Pink, 256 GB)",
          "OPPO F27 Pro+ (Midnight Navy, 256 GB)",
          "OPPO Find N2 Flip (Astral Black, 256 GB)",
          "OPPO Find N2 Flip (Moonlit Purple, 256 GB)",
          "OPPO Find N3 Flip (Cream Gold, 256 GB)",
          "OPPO Find N3 Flip (Sleek Black, 256 GB)",
          "OPPO Find X8 5G (Space Black, 256 GB)",
          "OPPO Find X8 5G (Space Black, 512 GB)",
          "OPPO Find X8 Pro 5G (Pearl White, 512 GB)",
          "OPPO Find X8 Pro 5G (Space Black, 512 GB)",
          "OPPO K12x 5G with 45W SUPERVOOC Charger In-The-Box (Breeze Blue, 128 GB)",
          "OPPO K12x 5G with 45W SUPERVOOC Charger In-The-Box (Breeze Blue, 256 GB)",
          "OPPO K12x 5G with 45W SUPERVOOC Charger In-The-Box (Feather Pink, 128 GB)",
          "OPPO K12x 5G with 45W SUPERVOOC Charger In-The-Box (Feather Pink, 256 GB)",
          "OPPO K12x 5G with 45W SUPERVOOC Charger In-The-Box (Midnight Violet, 128 GB)",
          "OPPO K12x 5G with 45W SUPERVOOC Charger In-The-Box (Midnight Violet, 256 GB)",
          "OPPO Reno 12 5G (Astro Silver, 256 GB)",
          "OPPO Reno 12 5G (Matte Brown, 256 GB)",
          "OPPO Reno 12 5G (Sunset Peach, 256 GB)",
          "OPPO Reno 12 Pro 5G (Manish Malhotra Limited Edition, 256 GB)",
          "OPPO Reno 12 Pro 5G (Space Brown, 256 GB)",
          "OPPO Reno 12 Pro 5G (Sunset Gold, 256 GB)",
          "OPPO Reno 12 Pro 5G (Sunset Gold, 512 GB)",
          "OPPO Reno10 5G (Ice Blue, 256 GB)",
          "OPPO Reno10 5G (Silvery Grey, 256 GB)",
          "OPPO Reno10 Pro 5G (Glossy Purple, 256 GB)",
          "OPPO Reno10 Pro 5G (Silvery Grey, 256 GB)",
          "OPPO Reno10 Pro+ 5G (Silvery Grey, 256 GB)",
          "OPPO Reno11 5G (Rock Grey, 128 GB)",
          "OPPO Reno11 5G (Rock Grey, 256 GB)",
          "OPPO Reno12 5g (Sunset Peach, 256 GB)",
          "OPPO Reno13 5G (Ivory White, 128 GB)",
          "OPPO Reno13 5G (Ivory White, 256 GB)",
          "OPPO Reno13 5G (Luminous Blue, 128 GB)",
          "OPPO Reno13 5G (Luminous Blue, 256 GB)",
          "OPPO Reno13 Pro 5G (Graphite Grey, 256 GB)",
          "OPPO Reno13 Pro 5G (Graphite Grey, 512 GB)",
          "OPPO Reno13 Pro 5G (Mist Lavender, 256 GB)",
          "OPPO Reno13 Pro 5G (Mist Lavender, 512 GB)",
          "OPPO Reno2 Z (Sky, White, 256 GB)",
          "OPPO Reno8 5G (Shimmer Black, 128 GB)",
          "OPPO Reno8 5G (Shimmer Gold, 128 GB)",
          "OPPO Reno8T 5G (Midnight Black, 128 GB)",
          "OPPO Reno8T 5G (Sunrise Gold, 128 GB)"
         ],
         "legendgroup": "OPPO",
         "marker": {
          "color": "#ab63fa",
          "symbol": "circle"
         },
         "mode": "markers",
         "name": "OPPO",
         "scene": "scene",
         "showlegend": true,
         "type": "scatter3d",
         "x": [
          "5000 mAh Battery",
          "5000 mAh Battery",
          "5000 mAh Battery",
          "5100 mAh Battery",
          "5100 mAh Battery",
          "5100 mAh Battery",
          "5100 mAh Battery",
          "5100 mAh Battery",
          "5100 mAh Battery",
          "5000 mAh Battery",
          "5000 mAh Battery",
          "5100 mAh Battery",
          "5100 mAh Battery",
          "5100 mAh Battery",
          "5100 mAh Battery",
          "5100 mAh Battery",
          "5100 mAh Battery",
          "5100 mAh Battery",
          "5000 mAh Lithium-ion Polymer Battery",
          "5000 mAh Battery",
          "5000 mAh Battery",
          "5000 mAh Battery",
          "5000 mAh Battery",
          "5000 mAh Battery",
          "5000 mAh Lithium-ion Polymer Battery",
          "5000 mAh Battery",
          "5000 mAh Battery",
          "5000 mAh Battery",
          "5000 mAh Battery",
          "5000 mAh Battery",
          "5000 mAh Lithium Polymer Battery",
          "5000 mAh Lithium Polymer Battery",
          "4500 mAh Battery",
          "4500 mAh Battery",
          "4500 mAh Battery",
          "4500 mAh Battery",
          "4500 mAh Battery",
          "4500 mAh Battery",
          "4500 mAh Battery",
          "5000 mAh Battery",
          "5000 mAh Battery",
          "5000 mAh Battery",
          "5000 mAh Battery",
          "5000 mAh Battery",
          "5000 mAh Battery",
          "5000 mAh Battery",
          "5000 mAh Battery",
          "5000 mAh Battery",
          "5000 mAh Battery",
          "5000 mAh Battery",
          "5000 mAh Battery",
          "5000 mAh Battery",
          "4300 mAh Battery",
          "4300 mAh Battery",
          "4300 mAh Battery",
          "4300 mAh Battery",
          "5630 mAh Battery",
          "5630 mAh Battery",
          "5910 mAh Battery",
          "5910 mAh Battery",
          "5100 mAh Battery",
          "5100 mAh Battery",
          "5100 mAh Battery",
          "5100 mAh Battery",
          "5100 mAh Battery",
          "5100 mAh Battery",
          "5000 mAh Battery",
          "5000 mAh Battery",
          "5000 mAh Battery",
          "5000 mAh Battery",
          "5000 mAh Battery",
          "5000 mAh Battery",
          "5000 mAh Battery",
          "5000 mAh Battery",
          "5000 mAh Battery",
          "4600 mAh Battery",
          "4600 mAh Battery",
          "4700 mAh Battery",
          "5000 mAh Battery",
          "5000 mAh Battery",
          "5000 mAh Battery",
          "5600 mAh Battery",
          "5600 mAh Battery",
          "5600 mAh Battery",
          "5600 mAh Battery",
          "5800 mAh Battery",
          "5800 mAh Battery",
          "5800 mAh Battery",
          "5800 mAh Battery",
          "4000 mAh Battery",
          "4500 mAh Lithium-ion Polymer Battery",
          "4500 mAh Lithium-ion Polymer Battery",
          "4800 mAh Lithium-ion Polymer Battery",
          "4800 mAh Lithium-ion Polymer Battery"
         ],
         "y": [
          31999,
          17999,
          23999,
          14999,
          13999,
          17999,
          19999,
          17999,
          19999,
          15999,
          27525,
          12999,
          9999,
          9999,
          9999,
          12499,
          20999,
          11499,
          18989,
          36999,
          12990,
          13999,
          13500,
          19490,
          17499,
          38999,
          29999,
          15999,
          16999,
          17998,
          79999,
          26999,
          20999,
          25999,
          25999,
          17706,
          21999,
          15999,
          16999,
          22999,
          20499,
          9499,
          19999,
          25999,
          25999,
          20999,
          22999,
          20999,
          22999,
          25999,
          27999,
          27999,
          89999,
          49999,
          74999,
          74999,
          69999,
          11999,
          99999,
          18999,
          12999,
          15999,
          12999,
          16099,
          12999,
          15999,
          32999,
          32999,
          32999,
          36999,
          36999,
          14499,
          40999,
          29440,
          12999,
          37999,
          37999,
          54999,
          27999,
          29999,
          32999,
          37999,
          39999,
          37999,
          39999,
          49999,
          54999,
          49999,
          54999,
          11499,
          40999,
          9499,
          38999,
          38999
         ],
         "z": [
          4,
          4,
          4,
          6,
          6,
          8,
          8,
          8,
          8,
          4,
          4,
          4,
          4,
          4,
          4,
          4,
          4,
          4,
          4,
          4,
          6,
          4,
          4,
          6,
          4,
          8,
          8,
          8,
          8,
          8,
          8,
          8,
          8,
          8,
          8,
          8,
          8,
          8,
          8,
          8,
          8,
          8,
          8,
          8,
          8,
          8,
          8,
          8,
          8,
          8,
          8,
          8,
          8,
          8,
          12,
          12,
          12,
          16,
          16,
          16,
          6,
          8,
          6,
          8,
          6,
          8,
          8,
          8,
          8,
          12,
          12,
          12,
          12,
          8,
          8,
          12,
          12,
          12,
          8,
          8,
          8,
          8,
          8,
          8,
          8,
          12,
          12,
          12,
          12,
          8,
          8,
          8,
          8,
          8
         ]
        },
        {
         "hovertemplate": "<b>%{hovertext}</b><br><br>brand=Apple<br>battery=%{x}<br>price=%{y}<br>ram=%{z}<extra></extra>",
         "hovertext": [
          "Apple iPhone 11 (Black, 128 GB)",
          "Apple iPhone 11 (Black, 64 GB)",
          "Apple iPhone 11 (Purple, 128 GB)",
          "Apple iPhone 11 (Purple, 64 GB)",
          "Apple iPhone 11 (Purple, 64 GB) (Includes EarPods, Power Adapter)",
          "Apple iPhone 11 Pro (Midnight Green, 64 GB)",
          "Apple iPhone 12 (Black, 128 GB)",
          "Apple iPhone 12 (Black, 64 GB)",
          "Apple iPhone 12 (Blue, 64 GB)",
          "Apple iPhone 12 mini (Black, 64 GB)",
          "Apple iPhone 12 mini (Red, 256 GB)",
          "Apple iPhone 13 ((PRODUCT)RED, 128 GB)",
          "Apple iPhone 13 ((PRODUCT)RED, 256 GB)",
          "Apple iPhone 13 (Green, 256 GB)",
          "Apple iPhone 13 (Green, 512 GB)",
          "Apple iPhone 13 (Starlight, 256 GB)",
          "Apple iPhone 13 Pro Max (Gold, 512 GB)",
          "Apple iPhone 13 mini ((PRODUCT)RED, 128 GB)",
          "Apple iPhone 13 mini ((PRODUCT)RED, 256 GB)",
          "Apple iPhone 13 mini (Green, 128 GB)",
          "Apple iPhone 13 mini (Green, 256 GB)",
          "Apple iPhone 14 (Blue, 128 GB)",
          "Apple iPhone 14 Plus (Blue, 128 GB)",
          "Apple iPhone 14 Plus (Blue, 256 GB)",
          "Apple iPhone 14 Pro Max (Silver, 512 GB)",
          "Apple iPhone 15 (Yellow, 128 GB)",
          "Apple iPhone 15 Pro (Black Titanium, 512 GB)",
          "Apple iPhone 5s (Silver, 16 GB)",
          "Apple iPhone 7 (Black, 128 GB)",
          "Apple iPhone 7 (Black, 32 GB)",
          "Apple iPhone 8 (Silver, 256 GB)",
          "Apple iPhone 8 (Silver, 64 GB)",
          "Apple iPhone 8 Plus (Silver, 256 GB)",
          "Apple iPhone 8 Plus (Silver, 64 GB)",
          "Apple iPhone SE 3rd Gen (Starlight, 128 GB)",
          "Apple iPhone XR (Blue, 128 GB)",
          "Apple iPhone XR (Blue, 64 GB)",
          "Apple iPhone XR (Blue, 64 GB) (Includes EarPods, Power Adapter)",
          "Apple iPhone XR (White, 128 GB) (Includes EarPods, Power Adapter)",
          "Apple iPhone XR (Yellow, 256 GB) (Includes EarPods, Power Adapter)",
          "Apple iPhone XS (Gold, 256 GB)",
          "Apple iPhone XS (Gold, 64 GB)",
          "Apple iPhone XS (Space Grey, 256 GB)",
          "Apple iPhone XS Max (Space Grey, 64 GB)"
         ],
         "legendgroup": "Apple",
         "marker": {
          "color": "#FFA15A",
          "symbol": "circle"
         },
         "mode": "markers",
         "name": "Apple",
         "scene": "scene",
         "showlegend": true,
         "type": "scatter3d",
         "x": [
          "A13 Bionic Chip Processor",
          "A13 Bionic Chip Processor",
          "A13 Bionic Chip Processor",
          "A13 Bionic Chip Processor",
          "A13 Bionic Chip Processor",
          "A13 Bionic Chip Processor",
          "A14 Bionic Chip with Next Generation Neural Engine Processor",
          "A14 Bionic Chip with Next Generation Neural Engine Processor",
          "A14 Bionic Chip with Next Generation Neural Engine Processor",
          "A14 Bionic Chip with Next Generation Neural Engine Processor",
          "A14 Bionic Chip with Next Generation Neural Engine Processor",
          "A15 Bionic Chip Processor",
          "A15 Bionic Chip Processor",
          "A15 Bionic Chip Processor",
          "A15 Bionic Chip Processor",
          "A15 Bionic Chip Processor",
          "A15 Bionic Chip Processor",
          "A15 Bionic Chip Processor",
          "A15 Bionic Chip Processor",
          "A15 Bionic Chip Processor",
          "A15 Bionic Chip Processor",
          "A15 Bionic Chip, 6 Core Processor Processor",
          "A15 Bionic Chip, 6 Core Processor Processor",
          "A15 Bionic Chip, 6 Core Processor Processor",
          "A16 Bionic Chip, 6 Core Processor Processor",
          "A16 Bionic Chip, 6 Core Processor Processor",
          "A17 Pro Chip, 6 Core Processor Processor",
          "Apple A7 64-bit processor and M7 Motion Co-processor",
          "Apple A10 Fusion 64-bit processor and Embedded M10 Motion Co-processor",
          "Apple A10 Fusion 64-bit processor and Embedded M10 Motion Co-processor",
          "A11 Bionic Chip with 64-bit Architecture, Neural Engine, Embedded M11 Motion Coprocessor Processor",
          "A11 Bionic Chip with 64-bit Architecture, Neural Engine, Embedded M11 Motion Coprocessor Processor",
          "A11 Bionic Chip with 64-bit Architecture, Neural Engine, Embedded M11 Motion Coprocessor Processor",
          "A11 Bionic Chip with 64-bit Architecture, Neural Engine, Embedded M11 Motion Coprocessor Processor",
          "A15 Bionic Chip, 6 Core Processor Processor",
          "A12 Bionic Chip Processor",
          "A12 Bionic Chip Processor",
          "A12 Bionic Chip Processor",
          "A12 Bionic Chip Processor",
          "A12 Bionic Chip Processor",
          "A12 Bionic Chip Processor",
          "A12 Bionic Chip Processor",
          "A12 Bionic Chip Processor",
          "A12 Bionic Chip Processor"
         ],
         "y": [
          48900,
          43900,
          48900,
          43900,
          49900,
          106600,
          54900,
          48900,
          48900,
          59900,
          74900,
          44999,
          54999,
          54999,
          74999,
          54999,
          159900,
          49900,
          74900,
          64900,
          74900,
          54999,
          69900,
          79900,
          164900,
          64999,
          164900,
          25000,
          34900,
          31500,
          77000,
          39900,
          84900,
          49900,
          52600,
          52900,
          47900,
          47900,
          45499,
          91900,
          103900,
          89900,
          103900,
          109900
         ],
         "z": [
          null,
          null,
          null,
          null,
          null,
          null,
          null,
          null,
          null,
          null,
          null,
          null,
          null,
          null,
          null,
          null,
          null,
          null,
          null,
          null,
          null,
          null,
          null,
          null,
          null,
          null,
          null,
          null,
          null,
          null,
          null,
          null,
          null,
          null,
          null,
          null,
          null,
          null,
          null,
          null,
          null,
          null,
          null,
          null
         ]
        }
       ],
       "layout": {
        "legend": {
         "title": {
          "text": "brand"
         },
         "tracegroupgap": 0
        },
        "scene": {
         "domain": {
          "x": [
           0,
           1
          ],
          "y": [
           0,
           1
          ]
         },
         "xaxis": {
          "title": {
           "text": "battery"
          }
         },
         "yaxis": {
          "title": {
           "text": "price"
          }
         },
         "zaxis": {
          "title": {
           "text": "ram"
          }
         }
        },
        "template": {
         "data": {
          "bar": [
           {
            "error_x": {
             "color": "#2a3f5f"
            },
            "error_y": {
             "color": "#2a3f5f"
            },
            "marker": {
             "line": {
              "color": "#E5ECF6",
              "width": 0.5
             },
             "pattern": {
              "fillmode": "overlay",
              "size": 10,
              "solidity": 0.2
             }
            },
            "type": "bar"
           }
          ],
          "barpolar": [
           {
            "marker": {
             "line": {
              "color": "#E5ECF6",
              "width": 0.5
             },
             "pattern": {
              "fillmode": "overlay",
              "size": 10,
              "solidity": 0.2
             }
            },
            "type": "barpolar"
           }
          ],
          "carpet": [
           {
            "aaxis": {
             "endlinecolor": "#2a3f5f",
             "gridcolor": "white",
             "linecolor": "white",
             "minorgridcolor": "white",
             "startlinecolor": "#2a3f5f"
            },
            "baxis": {
             "endlinecolor": "#2a3f5f",
             "gridcolor": "white",
             "linecolor": "white",
             "minorgridcolor": "white",
             "startlinecolor": "#2a3f5f"
            },
            "type": "carpet"
           }
          ],
          "choropleth": [
           {
            "colorbar": {
             "outlinewidth": 0,
             "ticks": ""
            },
            "type": "choropleth"
           }
          ],
          "contour": [
           {
            "colorbar": {
             "outlinewidth": 0,
             "ticks": ""
            },
            "colorscale": [
             [
              0,
              "#0d0887"
             ],
             [
              0.1111111111111111,
              "#46039f"
             ],
             [
              0.2222222222222222,
              "#7201a8"
             ],
             [
              0.3333333333333333,
              "#9c179e"
             ],
             [
              0.4444444444444444,
              "#bd3786"
             ],
             [
              0.5555555555555556,
              "#d8576b"
             ],
             [
              0.6666666666666666,
              "#ed7953"
             ],
             [
              0.7777777777777778,
              "#fb9f3a"
             ],
             [
              0.8888888888888888,
              "#fdca26"
             ],
             [
              1,
              "#f0f921"
             ]
            ],
            "type": "contour"
           }
          ],
          "contourcarpet": [
           {
            "colorbar": {
             "outlinewidth": 0,
             "ticks": ""
            },
            "type": "contourcarpet"
           }
          ],
          "heatmap": [
           {
            "colorbar": {
             "outlinewidth": 0,
             "ticks": ""
            },
            "colorscale": [
             [
              0,
              "#0d0887"
             ],
             [
              0.1111111111111111,
              "#46039f"
             ],
             [
              0.2222222222222222,
              "#7201a8"
             ],
             [
              0.3333333333333333,
              "#9c179e"
             ],
             [
              0.4444444444444444,
              "#bd3786"
             ],
             [
              0.5555555555555556,
              "#d8576b"
             ],
             [
              0.6666666666666666,
              "#ed7953"
             ],
             [
              0.7777777777777778,
              "#fb9f3a"
             ],
             [
              0.8888888888888888,
              "#fdca26"
             ],
             [
              1,
              "#f0f921"
             ]
            ],
            "type": "heatmap"
           }
          ],
          "heatmapgl": [
           {
            "colorbar": {
             "outlinewidth": 0,
             "ticks": ""
            },
            "colorscale": [
             [
              0,
              "#0d0887"
             ],
             [
              0.1111111111111111,
              "#46039f"
             ],
             [
              0.2222222222222222,
              "#7201a8"
             ],
             [
              0.3333333333333333,
              "#9c179e"
             ],
             [
              0.4444444444444444,
              "#bd3786"
             ],
             [
              0.5555555555555556,
              "#d8576b"
             ],
             [
              0.6666666666666666,
              "#ed7953"
             ],
             [
              0.7777777777777778,
              "#fb9f3a"
             ],
             [
              0.8888888888888888,
              "#fdca26"
             ],
             [
              1,
              "#f0f921"
             ]
            ],
            "type": "heatmapgl"
           }
          ],
          "histogram": [
           {
            "marker": {
             "pattern": {
              "fillmode": "overlay",
              "size": 10,
              "solidity": 0.2
             }
            },
            "type": "histogram"
           }
          ],
          "histogram2d": [
           {
            "colorbar": {
             "outlinewidth": 0,
             "ticks": ""
            },
            "colorscale": [
             [
              0,
              "#0d0887"
             ],
             [
              0.1111111111111111,
              "#46039f"
             ],
             [
              0.2222222222222222,
              "#7201a8"
             ],
             [
              0.3333333333333333,
              "#9c179e"
             ],
             [
              0.4444444444444444,
              "#bd3786"
             ],
             [
              0.5555555555555556,
              "#d8576b"
             ],
             [
              0.6666666666666666,
              "#ed7953"
             ],
             [
              0.7777777777777778,
              "#fb9f3a"
             ],
             [
              0.8888888888888888,
              "#fdca26"
             ],
             [
              1,
              "#f0f921"
             ]
            ],
            "type": "histogram2d"
           }
          ],
          "histogram2dcontour": [
           {
            "colorbar": {
             "outlinewidth": 0,
             "ticks": ""
            },
            "colorscale": [
             [
              0,
              "#0d0887"
             ],
             [
              0.1111111111111111,
              "#46039f"
             ],
             [
              0.2222222222222222,
              "#7201a8"
             ],
             [
              0.3333333333333333,
              "#9c179e"
             ],
             [
              0.4444444444444444,
              "#bd3786"
             ],
             [
              0.5555555555555556,
              "#d8576b"
             ],
             [
              0.6666666666666666,
              "#ed7953"
             ],
             [
              0.7777777777777778,
              "#fb9f3a"
             ],
             [
              0.8888888888888888,
              "#fdca26"
             ],
             [
              1,
              "#f0f921"
             ]
            ],
            "type": "histogram2dcontour"
           }
          ],
          "mesh3d": [
           {
            "colorbar": {
             "outlinewidth": 0,
             "ticks": ""
            },
            "type": "mesh3d"
           }
          ],
          "parcoords": [
           {
            "line": {
             "colorbar": {
              "outlinewidth": 0,
              "ticks": ""
             }
            },
            "type": "parcoords"
           }
          ],
          "pie": [
           {
            "automargin": true,
            "type": "pie"
           }
          ],
          "scatter": [
           {
            "fillpattern": {
             "fillmode": "overlay",
             "size": 10,
             "solidity": 0.2
            },
            "type": "scatter"
           }
          ],
          "scatter3d": [
           {
            "line": {
             "colorbar": {
              "outlinewidth": 0,
              "ticks": ""
             }
            },
            "marker": {
             "colorbar": {
              "outlinewidth": 0,
              "ticks": ""
             }
            },
            "type": "scatter3d"
           }
          ],
          "scattercarpet": [
           {
            "marker": {
             "colorbar": {
              "outlinewidth": 0,
              "ticks": ""
             }
            },
            "type": "scattercarpet"
           }
          ],
          "scattergeo": [
           {
            "marker": {
             "colorbar": {
              "outlinewidth": 0,
              "ticks": ""
             }
            },
            "type": "scattergeo"
           }
          ],
          "scattergl": [
           {
            "marker": {
             "colorbar": {
              "outlinewidth": 0,
              "ticks": ""
             }
            },
            "type": "scattergl"
           }
          ],
          "scattermapbox": [
           {
            "marker": {
             "colorbar": {
              "outlinewidth": 0,
              "ticks": ""
             }
            },
            "type": "scattermapbox"
           }
          ],
          "scatterpolar": [
           {
            "marker": {
             "colorbar": {
              "outlinewidth": 0,
              "ticks": ""
             }
            },
            "type": "scatterpolar"
           }
          ],
          "scatterpolargl": [
           {
            "marker": {
             "colorbar": {
              "outlinewidth": 0,
              "ticks": ""
             }
            },
            "type": "scatterpolargl"
           }
          ],
          "scatterternary": [
           {
            "marker": {
             "colorbar": {
              "outlinewidth": 0,
              "ticks": ""
             }
            },
            "type": "scatterternary"
           }
          ],
          "surface": [
           {
            "colorbar": {
             "outlinewidth": 0,
             "ticks": ""
            },
            "colorscale": [
             [
              0,
              "#0d0887"
             ],
             [
              0.1111111111111111,
              "#46039f"
             ],
             [
              0.2222222222222222,
              "#7201a8"
             ],
             [
              0.3333333333333333,
              "#9c179e"
             ],
             [
              0.4444444444444444,
              "#bd3786"
             ],
             [
              0.5555555555555556,
              "#d8576b"
             ],
             [
              0.6666666666666666,
              "#ed7953"
             ],
             [
              0.7777777777777778,
              "#fb9f3a"
             ],
             [
              0.8888888888888888,
              "#fdca26"
             ],
             [
              1,
              "#f0f921"
             ]
            ],
            "type": "surface"
           }
          ],
          "table": [
           {
            "cells": {
             "fill": {
              "color": "#EBF0F8"
             },
             "line": {
              "color": "white"
             }
            },
            "header": {
             "fill": {
              "color": "#C8D4E3"
             },
             "line": {
              "color": "white"
             }
            },
            "type": "table"
           }
          ]
         },
         "layout": {
          "annotationdefaults": {
           "arrowcolor": "#2a3f5f",
           "arrowhead": 0,
           "arrowwidth": 1
          },
          "autotypenumbers": "strict",
          "coloraxis": {
           "colorbar": {
            "outlinewidth": 0,
            "ticks": ""
           }
          },
          "colorscale": {
           "diverging": [
            [
             0,
             "#8e0152"
            ],
            [
             0.1,
             "#c51b7d"
            ],
            [
             0.2,
             "#de77ae"
            ],
            [
             0.3,
             "#f1b6da"
            ],
            [
             0.4,
             "#fde0ef"
            ],
            [
             0.5,
             "#f7f7f7"
            ],
            [
             0.6,
             "#e6f5d0"
            ],
            [
             0.7,
             "#b8e186"
            ],
            [
             0.8,
             "#7fbc41"
            ],
            [
             0.9,
             "#4d9221"
            ],
            [
             1,
             "#276419"
            ]
           ],
           "sequential": [
            [
             0,
             "#0d0887"
            ],
            [
             0.1111111111111111,
             "#46039f"
            ],
            [
             0.2222222222222222,
             "#7201a8"
            ],
            [
             0.3333333333333333,
             "#9c179e"
            ],
            [
             0.4444444444444444,
             "#bd3786"
            ],
            [
             0.5555555555555556,
             "#d8576b"
            ],
            [
             0.6666666666666666,
             "#ed7953"
            ],
            [
             0.7777777777777778,
             "#fb9f3a"
            ],
            [
             0.8888888888888888,
             "#fdca26"
            ],
            [
             1,
             "#f0f921"
            ]
           ],
           "sequentialminus": [
            [
             0,
             "#0d0887"
            ],
            [
             0.1111111111111111,
             "#46039f"
            ],
            [
             0.2222222222222222,
             "#7201a8"
            ],
            [
             0.3333333333333333,
             "#9c179e"
            ],
            [
             0.4444444444444444,
             "#bd3786"
            ],
            [
             0.5555555555555556,
             "#d8576b"
            ],
            [
             0.6666666666666666,
             "#ed7953"
            ],
            [
             0.7777777777777778,
             "#fb9f3a"
            ],
            [
             0.8888888888888888,
             "#fdca26"
            ],
            [
             1,
             "#f0f921"
            ]
           ]
          },
          "colorway": [
           "#636efa",
           "#EF553B",
           "#00cc96",
           "#ab63fa",
           "#FFA15A",
           "#19d3f3",
           "#FF6692",
           "#B6E880",
           "#FF97FF",
           "#FECB52"
          ],
          "font": {
           "color": "#2a3f5f"
          },
          "geo": {
           "bgcolor": "white",
           "lakecolor": "white",
           "landcolor": "#E5ECF6",
           "showlakes": true,
           "showland": true,
           "subunitcolor": "white"
          },
          "hoverlabel": {
           "align": "left"
          },
          "hovermode": "closest",
          "mapbox": {
           "style": "light"
          },
          "paper_bgcolor": "white",
          "plot_bgcolor": "#E5ECF6",
          "polar": {
           "angularaxis": {
            "gridcolor": "white",
            "linecolor": "white",
            "ticks": ""
           },
           "bgcolor": "#E5ECF6",
           "radialaxis": {
            "gridcolor": "white",
            "linecolor": "white",
            "ticks": ""
           }
          },
          "scene": {
           "xaxis": {
            "backgroundcolor": "#E5ECF6",
            "gridcolor": "white",
            "gridwidth": 2,
            "linecolor": "white",
            "showbackground": true,
            "ticks": "",
            "zerolinecolor": "white"
           },
           "yaxis": {
            "backgroundcolor": "#E5ECF6",
            "gridcolor": "white",
            "gridwidth": 2,
            "linecolor": "white",
            "showbackground": true,
            "ticks": "",
            "zerolinecolor": "white"
           },
           "zaxis": {
            "backgroundcolor": "#E5ECF6",
            "gridcolor": "white",
            "gridwidth": 2,
            "linecolor": "white",
            "showbackground": true,
            "ticks": "",
            "zerolinecolor": "white"
           }
          },
          "shapedefaults": {
           "line": {
            "color": "#2a3f5f"
           }
          },
          "ternary": {
           "aaxis": {
            "gridcolor": "white",
            "linecolor": "white",
            "ticks": ""
           },
           "baxis": {
            "gridcolor": "white",
            "linecolor": "white",
            "ticks": ""
           },
           "bgcolor": "#E5ECF6",
           "caxis": {
            "gridcolor": "white",
            "linecolor": "white",
            "ticks": ""
           }
          },
          "title": {
           "x": 0.05
          },
          "xaxis": {
           "automargin": true,
           "gridcolor": "white",
           "linecolor": "white",
           "ticks": "",
           "title": {
            "standoff": 15
           },
           "zerolinecolor": "white",
           "zerolinewidth": 2
          },
          "yaxis": {
           "automargin": true,
           "gridcolor": "white",
           "linecolor": "white",
           "ticks": "",
           "title": {
            "standoff": 15
           },
           "zerolinecolor": "white",
           "zerolinewidth": 2
          }
         }
        },
        "title": {
         "text": "3D Scatter Plot - Battery vs. Price vs. RAM"
        }
       }
      }
     },
     "metadata": {},
     "output_type": "display_data"
    }
   ],
   "source": [
    "fig = px.scatter_3d(df_combined, \n",
    "                    x=\"battery\", \n",
    "                    y=\"price\", \n",
    "                    z=\"ram\",  \n",
    "                    color=\"brand\",\n",
    "                    hover_name=\"product_name\",\n",
    "                    title=\"3D Scatter Plot - Battery vs. Price vs. RAM\")\n",
    "\n",
    "fig.show()\n"
   ]
  },
  {
   "cell_type": "code",
   "execution_count": 32,
   "metadata": {},
   "outputs": [
    {
     "data": {
      "application/vnd.plotly.v1+json": {
       "config": {
        "plotlyServerURL": "https://plot.ly"
       },
       "data": [
        {
         "branchvalues": "total",
         "customdata": [
          [
           48900
          ],
          [
           43900
          ],
          [
           48900
          ],
          [
           43900
          ],
          [
           49900
          ],
          [
           106600
          ],
          [
           54900
          ],
          [
           48900
          ],
          [
           48900
          ],
          [
           59900
          ],
          [
           74900
          ],
          [
           44999
          ],
          [
           54999
          ],
          [
           54999
          ],
          [
           74999
          ],
          [
           54999
          ],
          [
           159900
          ],
          [
           49900
          ],
          [
           74900
          ],
          [
           64900
          ],
          [
           74900
          ],
          [
           54999
          ],
          [
           69900
          ],
          [
           79900
          ],
          [
           164900
          ],
          [
           64999
          ],
          [
           164900
          ],
          [
           25000
          ],
          [
           34900
          ],
          [
           31500
          ],
          [
           77000
          ],
          [
           39900
          ],
          [
           84900
          ],
          [
           49900
          ],
          [
           52600
          ],
          [
           52900
          ],
          [
           47900
          ],
          [
           47900
          ],
          [
           45499
          ],
          [
           91900
          ],
          [
           103900
          ],
          [
           89900
          ],
          [
           103900
          ],
          [
           109900
          ],
          [
           31999
          ],
          [
           17999
          ],
          [
           23999
          ],
          [
           14999
          ],
          [
           13999
          ],
          [
           17999
          ],
          [
           19999
          ],
          [
           17999
          ],
          [
           19999
          ],
          [
           15999
          ],
          [
           27525
          ],
          [
           12999
          ],
          [
           9999
          ],
          [
           9999
          ],
          [
           9999
          ],
          [
           12499
          ],
          [
           20999
          ],
          [
           11499
          ],
          [
           18989
          ],
          [
           36999
          ],
          [
           12990
          ],
          [
           13999
          ],
          [
           13500
          ],
          [
           19490
          ],
          [
           17499
          ],
          [
           38999
          ],
          [
           29999
          ],
          [
           15999
          ],
          [
           16999
          ],
          [
           17998
          ],
          [
           79999
          ],
          [
           26999
          ],
          [
           20999
          ],
          [
           25999
          ],
          [
           25999
          ],
          [
           17706
          ],
          [
           21999
          ],
          [
           15999
          ],
          [
           16999
          ],
          [
           22999
          ],
          [
           20499
          ],
          [
           9499
          ],
          [
           19999
          ],
          [
           25999
          ],
          [
           25999
          ],
          [
           20999
          ],
          [
           22999
          ],
          [
           20999
          ],
          [
           22999
          ],
          [
           25999
          ],
          [
           27999
          ],
          [
           27999
          ],
          [
           89999
          ],
          [
           49999
          ],
          [
           74999
          ],
          [
           74999
          ],
          [
           69999
          ],
          [
           11999
          ],
          [
           99999
          ],
          [
           18999
          ],
          [
           12999
          ],
          [
           15999
          ],
          [
           12999
          ],
          [
           16099
          ],
          [
           12999
          ],
          [
           15999
          ],
          [
           32999
          ],
          [
           32999
          ],
          [
           32999
          ],
          [
           36999
          ],
          [
           36999
          ],
          [
           14499
          ],
          [
           40999
          ],
          [
           29440
          ],
          [
           12999
          ],
          [
           37999
          ],
          [
           37999
          ],
          [
           54999
          ],
          [
           27999
          ],
          [
           29999
          ],
          [
           32999
          ],
          [
           37999
          ],
          [
           39999
          ],
          [
           37999
          ],
          [
           39999
          ],
          [
           49999
          ],
          [
           54999
          ],
          [
           49999
          ],
          [
           54999
          ],
          [
           11499
          ],
          [
           40999
          ],
          [
           9499
          ],
          [
           38999
          ],
          [
           38999
          ],
          [
           16999
          ],
          [
           13699
          ],
          [
           32999
          ],
          [
           12799
          ],
          [
           32999
          ],
          [
           6990
          ],
          [
           8909
          ],
          [
           12499
          ],
          [
           8114
          ],
          [
           7699
          ],
          [
           8067
          ],
          [
           7899
          ],
          [
           9990
          ],
          [
           9990
          ],
          [
           11499
          ],
          [
           11499
          ],
          [
           11499
          ],
          [
           13499
          ],
          [
           11248
          ],
          [
           18499
          ],
          [
           15499
          ],
          [
           18499
          ],
          [
           20999
          ],
          [
           16999
          ],
          [
           19999
          ],
          [
           14499
          ],
          [
           24498
          ],
          [
           14363
          ],
          [
           19999
          ],
          [
           14973
          ],
          [
           18990
          ],
          [
           15499
          ],
          [
           19999
          ],
          [
           18499
          ],
          [
           16790
          ],
          [
           16999
          ],
          [
           16798
          ],
          [
           22990
          ],
          [
           21042
          ],
          [
           25999
          ],
          [
           25999
          ],
          [
           28999
          ],
          [
           24491
          ],
          [
           28999
          ],
          [
           13599
          ],
          [
           27990
          ],
          [
           31999
          ],
          [
           28999
          ],
          [
           31990
          ],
          [
           27999
          ],
          [
           33999
          ],
          [
           45999
          ],
          [
           34599
          ],
          [
           6499
          ],
          [
           14999
          ],
          [
           10499
          ],
          [
           11499
          ],
          [
           10499
          ],
          [
           11499
          ],
          [
           10499
          ],
          [
           10999
          ],
          [
           9299
          ],
          [
           13490
          ],
          [
           13499
          ],
          [
           13499
          ],
          [
           13499
          ],
          [
           18499
          ],
          [
           21999
          ],
          [
           31999
          ],
          [
           23999
          ],
          [
           26999
          ],
          [
           19498
          ],
          [
           9890
          ],
          [
           24000
          ],
          [
           16499
          ],
          [
           8848
          ],
          [
           8450
          ],
          [
           12999
          ],
          [
           12990
          ],
          [
           12970
          ],
          [
           17999
          ],
          [
           1390
          ],
          [
           14497
          ],
          [
           21026
          ],
          [
           14534
          ],
          [
           22399
          ],
          [
           14482
          ],
          [
           20985
          ],
          [
           7999
          ],
          [
           27820
          ],
          [
           95900
          ],
          [
           49999
          ],
          [
           34999
          ],
          [
           37999
          ],
          [
           74999
          ],
          [
           89999
          ],
          [
           81999
          ],
          [
           64999
          ],
          [
           70999
          ],
          [
           82999
          ],
          [
           59999
          ],
          [
           49859
          ],
          [
           59999
          ],
          [
           49795
          ],
          [
           43999
          ],
          [
           144999
          ],
          [
           62999
          ],
          [
           80999
          ],
          [
           92999
          ],
          [
           80999
          ],
          [
           92999
          ],
          [
           80999
          ],
          [
           79149
          ],
          [
           111999
          ],
          [
           99999
          ],
          [
           129999
          ],
          [
           141999
          ],
          [
           79999
          ],
          [
           96999
          ],
          [
           104999
          ],
          [
           96999
          ],
          [
           97999
          ],
          [
           6967
          ],
          [
           12898
          ],
          [
           12715
          ],
          [
           14060
          ],
          [
           12748
          ],
          [
           16890
          ],
          [
           45999
          ],
          [
           34990
          ],
          [
           11499
          ],
          [
           45999
          ],
          [
           34990
          ],
          [
           9999
          ],
          [
           12999
          ],
          [
           17999
          ],
          [
           16999
          ],
          [
           19999
          ],
          [
           22999
          ],
          [
           19999
          ],
          [
           20999
          ],
          [
           21999
          ],
          [
           22999
          ],
          [
           21999
          ],
          [
           23999
          ],
          [
           21999
          ],
          [
           23999
          ],
          [
           20999
          ],
          [
           21999
          ],
          [
           20999
          ],
          [
           21999
          ],
          [
           13499
          ],
          [
           13499
          ],
          [
           13499
          ],
          [
           17999
          ],
          [
           17999
          ],
          [
           19999
          ],
          [
           23999
          ],
          [
           26999
          ],
          [
           21999
          ],
          [
           23999
          ],
          [
           24390
          ],
          [
           21999
          ],
          [
           23999
          ],
          [
           26999
          ],
          [
           26999
          ],
          [
           25999
          ],
          [
           26999
          ],
          [
           28999
          ],
          [
           22999
          ],
          [
           24999
          ],
          [
           22999
          ],
          [
           26999
          ],
          [
           26999
          ],
          [
           24999
          ],
          [
           24999
          ],
          [
           26999
          ],
          [
           29999
          ],
          [
           14999
          ],
          [
           14999
          ],
          [
           14999
          ],
          [
           17999
          ],
          [
           16198
          ],
          [
           16445
          ],
          [
           20990
          ],
          [
           15027
          ],
          [
           20990
          ],
          [
           13499
          ],
          [
           11499
          ],
          [
           13499
          ],
          [
           11499
          ],
          [
           8574
          ],
          [
           8999
          ],
          [
           9999
          ],
          [
           8999
          ],
          [
           8999
          ],
          [
           9499
          ],
          [
           8999
          ],
          [
           11999
          ],
          [
           10999
          ],
          [
           7864
          ],
          [
           7699
          ],
          [
           7699
          ],
          [
           8499
          ],
          [
           8499
          ],
          [
           11299
          ],
          [
           11395
          ],
          [
           12999
          ],
          [
           10999
          ],
          [
           11498
          ],
          [
           11178
          ],
          [
           10499
          ],
          [
           12999
          ],
          [
           11499
          ],
          [
           14999
          ],
          [
           14999
          ],
          [
           21999
          ],
          [
           29999
          ],
          [
           29999
          ],
          [
           37999
          ],
          [
           37999
          ],
          [
           33999
          ],
          [
           37999
          ],
          [
           25280
          ],
          [
           27418
          ],
          [
           29995
          ],
          [
           30999
          ],
          [
           29490
          ],
          [
           32893
          ],
          [
           59999
          ],
          [
           59999
          ],
          [
           11499
          ],
          [
           11490
          ],
          [
           11650
          ],
          [
           11499
          ],
          [
           10999
          ],
          [
           7613
          ],
          [
           10560
          ],
          [
           7990
          ],
          [
           8493
          ],
          [
           8599
          ],
          [
           8990
          ],
          [
           12115
          ],
          [
           10399
          ],
          [
           12140
          ],
          [
           15999
          ],
          [
           18999
          ],
          [
           15999
          ],
          [
           18999
          ],
          [
           15999
          ],
          [
           18999
          ],
          [
           15999
          ],
          [
           17999
          ],
          [
           15999
          ],
          [
           17999
          ],
          [
           17999
          ],
          [
           20999
          ],
          [
           20999
          ],
          [
           18999
          ],
          [
           21890
          ],
          [
           15199
          ],
          [
           20990
          ],
          [
           22450
          ],
          [
           14499
          ],
          [
           14499
          ],
          [
           16990
          ],
          [
           21990
          ],
          [
           24999
          ],
          [
           17999
          ],
          [
           15999
          ],
          [
           23999
          ],
          [
           12999
          ],
          [
           12999
          ],
          [
           15599
          ],
          [
           12999
          ],
          [
           11999
          ],
          [
           18499
          ],
          [
           20499
          ],
          [
           18499
          ],
          [
           20499
          ],
          [
           11499
          ],
          [
           10499
          ],
          [
           22999
          ],
          [
           24999
          ],
          [
           22999
          ],
          [
           24999
          ],
          [
           29999
          ],
          [
           33999
          ],
          [
           29999
          ],
          [
           33999
          ],
          [
           13999
          ],
          [
           13999
          ],
          [
           13999
          ],
          [
           13990
          ],
          [
           26999
          ],
          [
           10449
          ],
          [
           38990
          ],
          [
           27999
          ],
          [
           9999
          ],
          [
           35999
          ],
          [
           35999
          ],
          [
           14499
          ],
          [
           32999
          ],
          [
           19490
          ],
          [
           16499
          ],
          [
           35140
          ],
          [
           32999
          ],
          [
           39999
          ],
          [
           29790
          ],
          [
           34999
          ],
          [
           29945
          ],
          [
           34999
          ],
          [
           39999
          ],
          [
           34999
          ],
          [
           25499
          ],
          [
           27999
          ],
          [
           24790
          ],
          [
           34999
          ],
          [
           36999
          ],
          [
           41999
          ],
          [
           34999
          ],
          [
           36999
          ],
          [
           42999
          ],
          [
           34999
          ],
          [
           36999
          ],
          [
           41999
          ],
          [
           49999
          ],
          [
           55999
          ],
          [
           49999
          ],
          [
           55999
          ],
          [
           26999
          ],
          [
           28999
          ],
          [
           26999
          ],
          [
           28999
          ],
          [
           34999
          ],
          [
           36999
          ],
          [
           40999
          ],
          [
           36999
          ],
          [
           40999
          ],
          [
           34999
          ],
          [
           36999
          ],
          [
           65999
          ],
          [
           65999
          ],
          [
           29775
          ],
          [
           49990
          ],
          [
           59999
          ],
          [
           42990
          ],
          [
           50499
          ],
          [
           7999
          ],
          [
           7999
          ],
          [
           23999
          ],
          [
           21999
          ],
          [
           21999
          ],
          [
           10990
          ],
          [
           11990
          ],
          [
           36999
          ],
          [
           9799
          ],
          [
           9499
          ],
          [
           8899
          ],
          [
           9597
          ],
          [
           31780
          ],
          [
           10005
          ],
          [
           64995
          ],
          [
           11899
          ],
          [
           14999
          ],
          [
           8399
          ],
          [
           7999
          ],
          [
           7999
          ],
          [
           8499
          ],
          [
           9499
          ],
          [
           23999
          ],
          [
           23299
          ],
          [
           23490
          ],
          [
           23299
          ],
          [
           24999
          ],
          [
           24999
          ],
          [
           15490
          ],
          [
           29800
          ],
          [
           19490
          ],
          [
           8790
          ],
          [
           43990
          ],
          [
           19985
          ],
          [
           15499
          ],
          [
           15499
          ],
          [
           14499
          ],
          [
           13499
          ],
          [
           14499
          ],
          [
           12499
          ],
          [
           12816
          ],
          [
           13999
          ],
          [
           12999
          ],
          [
           12999
          ],
          [
           12390
          ],
          [
           10449
          ],
          [
           11900
          ],
          [
           9850
          ],
          [
           10999
          ],
          [
           10999
          ],
          [
           12590
          ],
          [
           11999
          ],
          [
           11499
          ],
          [
           11499
          ],
          [
           14441
          ],
          [
           12999
          ],
          [
           15499
          ],
          [
           18999
          ],
          [
           13999
          ],
          [
           18999
          ],
          [
           21999
          ],
          [
           23999
          ],
          [
           21999
          ],
          [
           23999
          ],
          [
           21999
          ],
          [
           23999
          ],
          [
           23999
          ],
          [
           13999
          ],
          [
           14999
          ],
          [
           14999
          ],
          [
           17999
          ],
          [
           17999
          ],
          [
           16332
          ],
          [
           16695
          ],
          [
           9499
          ],
          [
           84237.0803159217
          ],
          [
           40067.420354884154
          ],
          [
           62832.497713788434
          ],
          [
           23137.077079496095
          ],
          [
           31056.57902465635
          ]
         ],
         "domain": {
          "x": [
           0,
           1
          ],
          "y": [
           0,
           1
          ]
         },
         "hovertemplate": "labels=%{label}<br>price_sum=%{value}<br>parent=%{parent}<br>id=%{id}<br>price=%{color}<extra></extra>",
         "ids": [
          "Apple/Apple iPhone 11 (Black, 128 GB)",
          "Apple/Apple iPhone 11 (Black, 64 GB)",
          "Apple/Apple iPhone 11 (Purple, 128 GB)",
          "Apple/Apple iPhone 11 (Purple, 64 GB)",
          "Apple/Apple iPhone 11 (Purple, 64 GB) (Includes EarPods, Power Adapter)",
          "Apple/Apple iPhone 11 Pro (Midnight Green, 64 GB)",
          "Apple/Apple iPhone 12 (Black, 128 GB)",
          "Apple/Apple iPhone 12 (Black, 64 GB)",
          "Apple/Apple iPhone 12 (Blue, 64 GB)",
          "Apple/Apple iPhone 12 mini (Black, 64 GB)",
          "Apple/Apple iPhone 12 mini (Red, 256 GB)",
          "Apple/Apple iPhone 13 ((PRODUCT)RED, 128 GB)",
          "Apple/Apple iPhone 13 ((PRODUCT)RED, 256 GB)",
          "Apple/Apple iPhone 13 (Green, 256 GB)",
          "Apple/Apple iPhone 13 (Green, 512 GB)",
          "Apple/Apple iPhone 13 (Starlight, 256 GB)",
          "Apple/Apple iPhone 13 Pro Max (Gold, 512 GB)",
          "Apple/Apple iPhone 13 mini ((PRODUCT)RED, 128 GB)",
          "Apple/Apple iPhone 13 mini ((PRODUCT)RED, 256 GB)",
          "Apple/Apple iPhone 13 mini (Green, 128 GB)",
          "Apple/Apple iPhone 13 mini (Green, 256 GB)",
          "Apple/Apple iPhone 14 (Blue, 128 GB)",
          "Apple/Apple iPhone 14 Plus (Blue, 128 GB)",
          "Apple/Apple iPhone 14 Plus (Blue, 256 GB)",
          "Apple/Apple iPhone 14 Pro Max (Silver, 512 GB)",
          "Apple/Apple iPhone 15 (Yellow, 128 GB)",
          "Apple/Apple iPhone 15 Pro (Black Titanium, 512 GB)",
          "Apple/Apple iPhone 5s (Silver, 16 GB)",
          "Apple/Apple iPhone 7 (Black, 128 GB)",
          "Apple/Apple iPhone 7 (Black, 32 GB)",
          "Apple/Apple iPhone 8 (Silver, 256 GB)",
          "Apple/Apple iPhone 8 (Silver, 64 GB)",
          "Apple/Apple iPhone 8 Plus (Silver, 256 GB)",
          "Apple/Apple iPhone 8 Plus (Silver, 64 GB)",
          "Apple/Apple iPhone SE 3rd Gen (Starlight, 128 GB)",
          "Apple/Apple iPhone XR (Blue, 128 GB)",
          "Apple/Apple iPhone XR (Blue, 64 GB)",
          "Apple/Apple iPhone XR (Blue, 64 GB) (Includes EarPods, Power Adapter)",
          "Apple/Apple iPhone XR (White, 128 GB) (Includes EarPods, Power Adapter)",
          "Apple/Apple iPhone XR (Yellow, 256 GB) (Includes EarPods, Power Adapter)",
          "Apple/Apple iPhone XS (Gold, 256 GB)",
          "Apple/Apple iPhone XS (Gold, 64 GB)",
          "Apple/Apple iPhone XS (Space Grey, 256 GB)",
          "Apple/Apple iPhone XS Max (Space Grey, 64 GB)",
          "OPPO/OPPO A18 (Glowing Black, 128 GB)",
          "OPPO/OPPO A18 (Glowing Blue, 128 GB)",
          "OPPO/OPPO A18 (Glowing Blue, 64 GB)",
          "OPPO/OPPO A3 5G (Nebula Red, 128 GB)",
          "OPPO/OPPO A3 5G (Ocean Blue, 128 GB)",
          "OPPO/OPPO A3 Pro 5G (Moonlight Purple, 128 GB)",
          "OPPO/OPPO A3 Pro 5G (Moonlight Purple, 256 GB)",
          "OPPO/OPPO A3 Pro 5G (Starry Black, 128 GB)",
          "OPPO/OPPO A3 Pro 5G (Starry Black, 256 GB)",
          "OPPO/OPPO A38 (Glowing Black, 128 GB)",
          "OPPO/OPPO A38 (Glowing Gold, 128 GB)",
          "OPPO/OPPO A3s (Nebula Red, 64 GB)",
          "OPPO/OPPO A3x (Nebula Red, 128 GB)",
          "OPPO/OPPO A3x (Ocean Blue, 128 GB)",
          "OPPO/OPPO A3x 4G (Ocean Blue, 64 GB)",
          "OPPO/OPPO A3x 5G (Starlight White, 128 GB)",
          "OPPO/OPPO A3x 5G (Starlight White, 64 GB)",
          "OPPO/OPPO A3x 5G (Starry Purple, 64 GB)",
          "OPPO/OPPO A55 (Rainbow Blue, 128 GB)",
          "OPPO/OPPO A57 4g (Green, 64 GB)",
          "OPPO/OPPO A58 (Glowing Black, 128 GB)",
          "OPPO/OPPO A59 5G (Silk Gold, 128 GB)",
          "OPPO/OPPO A59 5G (Starry Black, 128 GB)",
          "OPPO/OPPO A74 5G BLACK (Fluid Black, 128 GB)",
          "OPPO/OPPO A77 (Sunset Orange, 128 GB)",
          "OPPO/OPPO A78 (Aqua Green, 128 GB)",
          "OPPO/OPPO A78 (Mist Black, 128 GB)",
          "OPPO/OPPO A78 5G (Aqua Green, 128 GB)",
          "OPPO/OPPO A78 5G (Glowing Black, 128 GB)",
          "OPPO/OPPO A78 5G (Glowing Blue, 128 GB)",
          "OPPO/OPPO A79 5G (Glowing Green, 128 GB)",
          "OPPO/OPPO A79 5G (Mystery Black, 128 GB)",
          "OPPO/OPPO F21 Pro (Sunset Orange, 128 GB)",
          "OPPO/OPPO F21 Pro 5G (Cosmic Black, 128 GB)",
          "OPPO/OPPO F21 Pro 5G (Rainbow Spectrum, 128 GB)",
          "OPPO/OPPO F21SPRO (Orange, 128 GB)",
          "OPPO/OPPO F21s Pro (Starlight Black, 128 GB)",
          "OPPO/OPPO F21s Pro 5G (Dawnlight Gold, 128 GB)",
          "OPPO/OPPO F21s Pro 5G (Starlight Black, 128 GB)",
          "OPPO/OPPO F23 5G (Bold Gold, 256 GB)",
          "OPPO/OPPO F23 5G (Cool Black, 256 GB)",
          "OPPO/OPPO F25 Pro 5G (Coral Purple, 128 GB)",
          "OPPO/OPPO F25 Pro 5G (Lava Red, 128 GB)",
          "OPPO/OPPO F25 Pro 5G (Lava Red, 256 GB)",
          "OPPO/OPPO F25 Pro 5G (Ocean Blue, 256 GB)",
          "OPPO/OPPO F27 5G (Amber Orange, 128 GB)",
          "OPPO/OPPO F27 5G (Amber Orange, 256 GB)",
          "OPPO/OPPO F27 5G (Emerald Green, 128 GB)",
          "OPPO/OPPO F27 5G (Emerald Green, 256 GB)",
          "OPPO/OPPO F27 Pro+ (Dusk Pink, 128 GB)",
          "OPPO/OPPO F27 Pro+ (Dusk Pink, 256 GB)",
          "OPPO/OPPO F27 Pro+ (Midnight Navy, 256 GB)",
          "OPPO/OPPO Find N2 Flip (Astral Black, 256 GB)",
          "OPPO/OPPO Find N2 Flip (Moonlit Purple, 256 GB)",
          "OPPO/OPPO Find N3 Flip (Cream Gold, 256 GB)",
          "OPPO/OPPO Find N3 Flip (Sleek Black, 256 GB)",
          "OPPO/OPPO Find X8 5G (Space Black, 256 GB)",
          "OPPO/OPPO Find X8 5G (Space Black, 512 GB)",
          "OPPO/OPPO Find X8 Pro 5G (Pearl White, 512 GB)",
          "OPPO/OPPO Find X8 Pro 5G (Space Black, 512 GB)",
          "OPPO/OPPO K12x 5G with 45W SUPERVOOC Charger In-The-Box (Breeze Blue, 128 GB)",
          "OPPO/OPPO K12x 5G with 45W SUPERVOOC Charger In-The-Box (Breeze Blue, 256 GB)",
          "OPPO/OPPO K12x 5G with 45W SUPERVOOC Charger In-The-Box (Feather Pink, 128 GB)",
          "OPPO/OPPO K12x 5G with 45W SUPERVOOC Charger In-The-Box (Feather Pink, 256 GB)",
          "OPPO/OPPO K12x 5G with 45W SUPERVOOC Charger In-The-Box (Midnight Violet, 128 GB)",
          "OPPO/OPPO K12x 5G with 45W SUPERVOOC Charger In-The-Box (Midnight Violet, 256 GB)",
          "OPPO/OPPO Reno 12 5G (Astro Silver, 256 GB)",
          "OPPO/OPPO Reno 12 5G (Matte Brown, 256 GB)",
          "OPPO/OPPO Reno 12 5G (Sunset Peach, 256 GB)",
          "OPPO/OPPO Reno 12 Pro 5G (Manish Malhotra Limited Edition, 256 GB)",
          "OPPO/OPPO Reno 12 Pro 5G (Space Brown, 256 GB)",
          "OPPO/OPPO Reno 12 Pro 5G (Sunset Gold, 256 GB)",
          "OPPO/OPPO Reno 12 Pro 5G (Sunset Gold, 512 GB)",
          "OPPO/OPPO Reno10 5G (Ice Blue, 256 GB)",
          "OPPO/OPPO Reno10 5G (Silvery Grey, 256 GB)",
          "OPPO/OPPO Reno10 Pro 5G (Glossy Purple, 256 GB)",
          "OPPO/OPPO Reno10 Pro 5G (Silvery Grey, 256 GB)",
          "OPPO/OPPO Reno10 Pro+ 5G (Silvery Grey, 256 GB)",
          "OPPO/OPPO Reno11 5G (Rock Grey, 128 GB)",
          "OPPO/OPPO Reno11 5G (Rock Grey, 256 GB)",
          "OPPO/OPPO Reno12 5g (Sunset Peach, 256 GB)",
          "OPPO/OPPO Reno13 5G (Ivory White, 128 GB)",
          "OPPO/OPPO Reno13 5G (Ivory White, 256 GB)",
          "OPPO/OPPO Reno13 5G (Luminous Blue, 128 GB)",
          "OPPO/OPPO Reno13 5G (Luminous Blue, 256 GB)",
          "OPPO/OPPO Reno13 Pro 5G (Graphite Grey, 256 GB)",
          "OPPO/OPPO Reno13 Pro 5G (Graphite Grey, 512 GB)",
          "OPPO/OPPO Reno13 Pro 5G (Mist Lavender, 256 GB)",
          "OPPO/OPPO Reno13 Pro 5G (Mist Lavender, 512 GB)",
          "OPPO/OPPO Reno2 Z (Sky, White, 256 GB)",
          "OPPO/OPPO Reno8 5G (Shimmer Black, 128 GB)",
          "OPPO/OPPO Reno8 5G (Shimmer Gold, 128 GB)",
          "OPPO/OPPO Reno8T 5G (Midnight Black, 128 GB)",
          "OPPO/OPPO Reno8T 5G (Sunrise Gold, 128 GB)",
          "Samsung/SAMSUNG A14 5g (Green, 128 GB)",
          "Samsung/SAMSUNG A14 5g (Green, Light Green, 128 GB)",
          "Samsung/SAMSUNG GALAXY M13 (Aqua Green, 64 GB)",
          "Samsung/SAMSUNG GALAXY M13 (Stardust Brown, 128 GB)",
          "Samsung/SAMSUNG GALAXY M13 5G (Aqua Green, 128 GB)",
          "Samsung/SAMSUNG Galaxy A04 (Copper, 64 GB)",
          "Samsung/SAMSUNG Galaxy A04s (Copper, 64 GB)",
          "Samsung/SAMSUNG Galaxy A05 (Black, 128 GB)",
          "Samsung/SAMSUNG Galaxy A05 (Light Green, 128 GB)",
          "Samsung/SAMSUNG Galaxy A05 (Light Green, 64 GB)",
          "Samsung/SAMSUNG Galaxy A05 (Silver, 128 GB)",
          "Samsung/SAMSUNG Galaxy A05 (Silver, 64 GB)",
          "Samsung/SAMSUNG Galaxy A05s (Black, 128 GB)",
          "Samsung/SAMSUNG Galaxy A05s (Light Green, 128 GB)",
          "Samsung/SAMSUNG Galaxy A06 (Black, 128 GB)",
          "Samsung/SAMSUNG Galaxy A06 (Black, 64 GB)",
          "Samsung/SAMSUNG Galaxy A06 (Gold, 64 GB)",
          "Samsung/SAMSUNG Galaxy A13 (White, 128 GB)",
          "Samsung/SAMSUNG Galaxy A14 5G (Black, 128 GB)",
          "Samsung/SAMSUNG Galaxy A14 5G (Black, 64 GB)",
          "Samsung/SAMSUNG Galaxy A14 5G (Dark Red, 128 GB)",
          "Samsung/SAMSUNG Galaxy A14 5G (Dark Red, 64 GB)",
          "Samsung/SAMSUNG Galaxy A14 5G (Light Green, 128 GB)",
          "Samsung/SAMSUNG Galaxy A15 5G (Blue Black, 128 GB)",
          "Samsung/SAMSUNG Galaxy A15 5G (Blue Black, 256 GB)",
          "Samsung/SAMSUNG Galaxy A15 5G (Blue, 128 GB)",
          "Samsung/SAMSUNG Galaxy A15 5G (Light Blue, 256 GB)",
          "Samsung/SAMSUNG Galaxy A16 5G (Blue Black, 128 GB)",
          "Samsung/SAMSUNG Galaxy A16 5G (Blue Black, 256 GB)",
          "Samsung/SAMSUNG Galaxy A16 5G (Gold, 128 GB)",
          "Samsung/SAMSUNG Galaxy A16 5G (Gold, 256 GB)",
          "Samsung/SAMSUNG Galaxy A16 5G (Light Green, 128 GB)",
          "Samsung/SAMSUNG Galaxy A16 5G (Light Green, 256 GB)",
          "Samsung/SAMSUNG Galaxy A23 (Black, 128 GB)",
          "Samsung/SAMSUNG Galaxy A23 5G (Light Blue, 128 GB)",
          "Samsung/SAMSUNG Galaxy A23 5G (Orange, 128 GB)",
          "Samsung/SAMSUNG Galaxy A23 5G (Silver, 128 GB)",
          "Samsung/SAMSUNG Galaxy A25 5G (Blue Black, 256 GB)",
          "Samsung/SAMSUNG Galaxy A34 5G (Awesome Lime, 128 GB)",
          "Samsung/SAMSUNG Galaxy A35 5G (Awesome Iceblue, 128 GB)",
          "Samsung/SAMSUNG Galaxy A35 5G (Awesome Lilac, 128 GB)",
          "Samsung/SAMSUNG Galaxy A35 5G (Awesome Lilac, 256 GB)",
          "Samsung/SAMSUNG Galaxy A35 5G (Awesome Navy, 128 GB)",
          "Samsung/SAMSUNG Galaxy A35 5G (Awesome Navy, 256 GB)",
          "Samsung/SAMSUNG Galaxy A53 (Awesome Peach, 128 GB)",
          "Samsung/SAMSUNG Galaxy A54 5G (Awesome Graphite, 128 GB)",
          "Samsung/SAMSUNG Galaxy A54 5G (Awesome Graphite, 256 GB)",
          "Samsung/SAMSUNG Galaxy A54 5G (Awesome Lime, 128 GB)",
          "Samsung/SAMSUNG Galaxy A54 5G (Awesome Lime, 256 GB)",
          "Samsung/SAMSUNG Galaxy A54 5G (Awesome Violet, 128 GB)",
          "Samsung/SAMSUNG Galaxy A55 5G (Awesome Iceblue, 128 GB)",
          "Samsung/SAMSUNG Galaxy A55 5G (Awesome Iceblue, 256 GB)",
          "Samsung/SAMSUNG Galaxy A55 5G (Awesome Navy, 128 GB)",
          "Samsung/SAMSUNG Galaxy F05 (Twilight Blue, 64 GB)",
          "Samsung/SAMSUNG Galaxy F12 (Celestial Black, 128 GB)",
          "Samsung/SAMSUNG Galaxy F12 (Celestial Black, 64 GB)",
          "Samsung/SAMSUNG Galaxy F12 (Sea Green, 128 GB)",
          "Samsung/SAMSUNG Galaxy F12 (Sea Green, 64 GB)",
          "Samsung/SAMSUNG Galaxy F12 (Sky Blue, 128 GB)",
          "Samsung/SAMSUNG Galaxy F12 (Sky Blue, 64 GB)",
          "Samsung/SAMSUNG Galaxy F13 (Waterfall Blue, 64 GB)",
          "Samsung/SAMSUNG Galaxy F14 (Peppermint green, 64 GB)",
          "Samsung/SAMSUNG Galaxy F14 5G (B.A.E. Purple, 128 GB)",
          "Samsung/SAMSUNG Galaxy F15 5G (Ash Black, 128 GB)",
          "Samsung/SAMSUNG Galaxy F15 5G (Groovy Violet, 128 GB)",
          "Samsung/SAMSUNG Galaxy F15 5G (Jazzy Green, 128 GB)",
          "Samsung/SAMSUNG Galaxy F23 5G (Aqua Blue, 128 GB)",
          "Samsung/SAMSUNG Galaxy F34 5G (Mystic Green, 128 GB)",
          "Samsung/SAMSUNG Galaxy F54 5G (Stardust Silver, 256 GB)",
          "Samsung/SAMSUNG Galaxy F55 5G (Apricot Crush, 256 GB)",
          "Samsung/SAMSUNG Galaxy F55 5G (Raisin Black, 256 GB)",
          "Samsung/SAMSUNG Galaxy M04 (Light Green, 128 GB)",
          "Samsung/SAMSUNG Galaxy M11 (Violet, 32 GB)",
          "Samsung/SAMSUNG Galaxy M12 (Black, 64 GB)",
          "Samsung/SAMSUNG Galaxy M13 (Aqua Green, 128 GB)",
          "Samsung/SAMSUNG Galaxy M14 4G (Arctic Blue, 64 GB)",
          "Samsung/SAMSUNG Galaxy M14 4G (Sapphire Blue, 64 GB)",
          "Samsung/SAMSUNG Galaxy M14 5G (Berry Blue, 128 GB)",
          "Samsung/SAMSUNG Galaxy M15 5G (Blue Topaz, 128 GB)",
          "Samsung/SAMSUNG Galaxy M15 5G (Stone Grey, 128 GB)",
          "Samsung/SAMSUNG Galaxy M33 5G (Mystique Green, 128 GB)",
          "Samsung/SAMSUNG Galaxy M34 5G without charger (Prism Silver, 128 GB)",
          "Samsung/SAMSUNG Galaxy M35 5G (DayBreak Blue, 128 GB)",
          "Samsung/SAMSUNG Galaxy M35 5G (DayBreak Blue, 256 GB)",
          "Samsung/SAMSUNG Galaxy M35 5G (Moonlight Blue, 128 GB)",
          "Samsung/SAMSUNG Galaxy M35 5G (Moonlight Blue, 256 GB)",
          "Samsung/SAMSUNG Galaxy M35 5G (Thunder Grey, 128 GB)",
          "Samsung/SAMSUNG Galaxy M35 5G (Thunder Grey, 256 GB)",
          "Samsung/SAMSUNG Galaxy M53 5G (Mystique Green, 128 GB)",
          "Samsung/SAMSUNG Galaxy M55 5G (Light Green, 256 GB)",
          "Samsung/SAMSUNG Galaxy S23 5G (Cream, 256 GB)",
          "Samsung/SAMSUNG Galaxy S23 5G (Green, 256 GB)",
          "Samsung/SAMSUNG Galaxy S23 FE (Graphite, 128 GB)",
          "Samsung/SAMSUNG Galaxy S23 FE (Graphite, 256 GB)",
          "Samsung/SAMSUNG Galaxy S23 Ultra 5G (Cream, 256 GB)",
          "Samsung/SAMSUNG Galaxy S23 Ultra 5G (Green, 256 GB)",
          "Samsung/SAMSUNG Galaxy S23 Ultra 5G (Phantom Black, 256 GB)",
          "Samsung/SAMSUNG Galaxy S24 5G (Cobalt Violet, 128 GB)",
          "Samsung/SAMSUNG Galaxy S24 5G (Cobalt Violet, 256 GB)",
          "Samsung/SAMSUNG Galaxy S24 5G (Cobalt Violet, 512 GB)",
          "Samsung/SAMSUNG Galaxy S24 FE 5G (Blue, 128 GB)",
          "Samsung/SAMSUNG Galaxy S24 FE 5G (Blue, 256 GB)",
          "Samsung/SAMSUNG Galaxy S24 FE 5G (Graphite, 128 GB)",
          "Samsung/SAMSUNG Galaxy S24 FE 5G (Graphite, 256 GB)",
          "Samsung/SAMSUNG Galaxy S24 FE 5G (Mint, 128 GB)",
          "Samsung/SAMSUNG Galaxy S24 Ultra 5G (Titanium Black, 512 GB)",
          "Samsung/SAMSUNG Galaxy S24+ 5G (Onyx Black, 256 GB)",
          "Samsung/SAMSUNG Galaxy S25 5G (Mint, 256 GB)",
          "Samsung/SAMSUNG Galaxy S25 5G (Mint, 512 GB)",
          "Samsung/SAMSUNG Galaxy S25 5G (Navy, 256 GB)",
          "Samsung/SAMSUNG Galaxy S25 5G (Navy, 512 GB)",
          "Samsung/SAMSUNG Galaxy S25 5G (Silver Shadow, 256 GB)",
          "Samsung/SAMSUNG Galaxy S25 5G (Silver Shadow, 512 GB)",
          "Samsung/SAMSUNG Galaxy S25 Plus 5G (Navy, 512 GB)",
          "Samsung/SAMSUNG Galaxy S25 Plus 5G (Silver Shadow, 256 GB)",
          "Samsung/SAMSUNG Galaxy S25 Ultra 5G (Titanium Black, 256 GB)",
          "Samsung/SAMSUNG Galaxy S25 Ultra 5G (Titanium Silverblue, 512 GB)",
          "Samsung/SAMSUNG Galaxy Z Flip5 (Graphite, 256 GB)",
          "Samsung/SAMSUNG Galaxy Z Fold5 (Cream, 256 GB)",
          "Samsung/SAMSUNG Galaxy Z Fold5 (Cream, 512 GB)",
          "Samsung/SAMSUNG Galaxy Z Fold5 (Icy Blue, 256 GB)",
          "Samsung/SAMSUNG Galaxy Z Fold5 (Phantom Black, 256 GB)",
          "Samsung/SAMSUNG M05 (Mint Green, 64 GB)",
          "Samsung/SAMSUNG M15 5G Prime Edition (Stone Grey, 128 GB)",
          "Samsung/SAMSUNG M15 Prime Edition (Celestial Blue, 128 GB)",
          "Samsung/SAMSUNG galaxy M15 5G (Blue Topaz, 128 GB)",
          "Samsung/SAMSUNG galaxy M15 5G (Celestrial Blue, 128 GB)",
          "Samsung/SAMSUNG galaxy M15 5G (Stone Grey, 128 GB)",
          "Samsung/Samsung Galaxy S21 FE 5G with Snapdragon 888 (Graphite, 128 GB)",
          "Samsung/Samsung Galaxy S21 FE 5G with Snapdragon 888 (Graphite, 256 GB)",
          "Samsung/Samsung Galaxy S21 FE 5G with Snapdragon 888 (Lavender, 256 GB)",
          "Samsung/Samsung Galaxy S21 FE 5G with Snapdragon 888 (Olive, 128 GB)",
          "Samsung/Samsung Galaxy S21 FE 5G with Snapdragon 888 (Olive, 256 GB)",
          "realme/realme 10 (Clash White, 64 GB)",
          "realme/realme 10 (Rush Black, 128 GB)",
          "realme/realme 12 5G (Twilight Purple, 128 GB)",
          "realme/realme 12 5G (Woodland Green, 128 GB)",
          "realme/realme 12 Pro 5G (Navigator Beige, 128 GB)",
          "realme/realme 12 Pro 5G (Navigator Beige, 256 GB)",
          "realme/realme 12 Pro 5G (Submarine Blue, 128 GB)",
          "realme/realme 12 Pro 5G (Submarine Blue, 256 GB)",
          "realme/realme 12 Pro+ 5G (Explorer Red, 128 GB)",
          "realme/realme 12 Pro+ 5G (Explorer Red, 256 GB)",
          "realme/realme 12 Pro+ 5G (Navigator Beige, 128 GB)",
          "realme/realme 12 Pro+ 5G (Navigator Beige, 256 GB)",
          "realme/realme 12 Pro+ 5G (Submarine Blue, 128 GB)",
          "realme/realme 12 Pro+ 5G (Submarine Blue, 256 GB)",
          "realme/realme 12+ 5G (Navigator Beige, 128 GB)",
          "realme/realme 12+ 5G (Navigator Beige, 256 GB)",
          "realme/realme 12+ 5G (Pioneer Green, 128 GB)",
          "realme/realme 12+ 5G (Pioneer Green, 256 GB)",
          "realme/realme 12x 5G (Coral Red, 128 GB)",
          "realme/realme 12x 5G (Twilight Purple, 128 GB)",
          "realme/realme 12x 5G (Woodland Green, 128 GB)",
          "realme/realme 13 5G (Dark Purple, 128 GB)",
          "realme/realme 13 5G (Speed Green, 128 GB)",
          "realme/realme 13 5G (Speed Green, 256 GB)",
          "realme/realme 13 Pro 5G (Emerald Green, 256 GB)",
          "realme/realme 13 Pro 5G (Emerald Green, 512 GB)",
          "realme/realme 13 Pro 5G (Monet Gold, 128 GB)",
          "realme/realme 13 Pro 5G (Monet Gold, 256 GB)",
          "realme/realme 13 Pro 5G (Monet Gold, 512 GB)",
          "realme/realme 13 Pro 5G (Monet Purple, 128 GB)",
          "realme/realme 13 Pro 5G (Monet Purple, 256 GB)",
          "realme/realme 13 Pro 5G (Monet Purple, 512 GB)",
          "realme/realme 13 Pro+ 5G (Emerald Green, 256 GB)",
          "realme/realme 13 Pro+ 5G (Monet Gold, 256 GB)",
          "realme/realme 13 Pro+ 5G (Monet Purple, 256 GB)",
          "realme/realme 13 Pro+ 5G (Monet Purple, 512 GB)",
          "realme/realme 13+ 5G (Dark Purple, 128 GB)",
          "realme/realme 13+ 5G (Dark Purple, 256 GB)",
          "realme/realme 13+ 5G (Speed Green, 128 GB)",
          "realme/realme 13+ 5G (Speed Green, 256 GB)",
          "realme/realme 13+ 5G (Victory Gold, 256 GB)",
          "realme/realme 14 Pro 5G (Jaipur Pink, 128 GB)",
          "realme/realme 14 Pro 5G (Pearl White, 128 GB)",
          "realme/realme 14 Pro 5G (Pearl White, 256 GB)",
          "realme/realme 14 Pro+ 5G (Bikaner Purple, 128 GB)",
          "realme/realme 14x 5G (Crystal Black, 128 GB)",
          "realme/realme 14x 5G (Golden Glow, 128 GB)",
          "realme/realme 14x 5G (Jewel Red, 128 GB)",
          "realme/realme 7 (Mist White, 64 GB)",
          "realme/realme 70 TURBO 5G (Turbo Green, 128 GB)",
          "realme/realme 70 TURBO 5G (Turbo Purple, 128 GB)",
          "realme/realme 70 TURBO 5G (Turbo Purple, 256 GB)",
          "realme/realme 70 TURBO 5G (Turbo Yellow, 128 GB)",
          "realme/realme 70 TURBO 5G (Turbo Yellow, 256 GB)",
          "realme/realme 8i (Space Black, 128 GB)",
          "realme/realme 8i (Space Black, 64 GB)",
          "realme/realme 8i (Space Purple, 128 GB)",
          "realme/realme 8i (Space Purple, 64 GB)",
          "realme/realme C25Y (Metal Grey, 128 GB)",
          "realme/realme C25Y (Metal Grey, 64 GB)",
          "realme/realme C25_Y (Metal Grey, 128 GB)",
          "realme/realme C25_Y (Metal Grey, 64 GB)",
          "realme/realme C51 (Carbon Black, 64 GB)",
          "realme/realme C51 (Mint Green, 128 GB)",
          "realme/realme C51 (Mint Green, 64 GB)",
          "realme/realme C53 (Champion Black, 128 GB)",
          "realme/realme C53 (Champion Gold, 64 GB)",
          "realme/realme C61 (Marble Black, 128 GB)",
          "realme/realme C61 (Marble Black, 64 GB)",
          "realme/realme C61 (Safari Green, 64 GB)",
          "realme/realme C63 (Jade Green, 64 GB)",
          "realme/realme C63 (Leather Blue, 64 GB)",
          "realme/realme C63 5G (Forest Green, 128 GB)",
          "realme/realme C63 5G (Starry Gold, 128 GB)",
          "realme/realme C63 5G Charger in the Box (Forest Green, 128 GB)",
          "realme/realme C63 5G Charger in the Box (Starry Gold, 128 GB)",
          "realme/realme C65 5G (Feather Green, 128 GB)",
          "realme/realme C65 5G (Glowing Black, 128 GB)",
          "realme/realme C65 5G (Glowing Black, 64 GB)",
          "realme/realme C65 5G (Speedy Red, 128 GB)",
          "realme/realme C65 5G (Speedy Red, 64 GB)",
          "realme/realme C67 5G (Dark Purple, 128 GB)",
          "realme/realme C67 5G (Sunny Oasis, 128 GB)",
          "realme/realme GT 2 Pro (Paper White, 128 GB)",
          "realme/realme GT 2 Pro (Paper White, 256 GB)",
          "realme/realme GT 2 Pro (Steel Black, 256 GB)",
          "realme/realme GT 6 (Fluid Silver, 256 GB)",
          "realme/realme GT 6 (Fluid Silver, 512 GB)",
          "realme/realme GT 6 (Razor Green, 256 GB)",
          "realme/realme GT 6 (Razor Green, 512 GB)",
          "realme/realme GT 6T 5G (Fluid Silver, 128 GB)",
          "realme/realme GT 6T 5G (Fluid Silver, 256 GB)",
          "realme/realme GT 6T 5G (Miracle Purple, 256 GB)",
          "realme/realme GT 6T 5G (Razor Green, 128 GB)",
          "realme/realme GT 6T 5G (Razor Green, 256 GB)",
          "realme/realme GT 6T 5G (Razor Green, 512 GB)",
          "realme/realme GT 7 Pro (Galaxy Grey, 512 GB)",
          "realme/realme GT 7 Pro (Mars Orange, 512 GB)",
          "realme/realme NARZO 70X 5G (FOREST GREEN, 128 GB)",
          "realme/realme NARZO 70X 5G (ICE BLUE, 128 GB)",
          "realme/realme NARZO N65 5G (AMBER GOLD, 128 GB)",
          "realme/realme NARZO N65 5G (DEEP GREEN, 128 GB)",
          "realme/realme Narzo 30 (Racing Blue, 64 GB)",
          "realme/realme Narzo N61 (Marble Black, 64 GB)",
          "realme/realme Narzo N61 (Voyage Blue, 128 GB)",
          "realme/realme Narzo N61 (Voyage Blue, 64 GB)",
          "realme/realme Narzo N63 4G (Leather Blue, 128 GB)",
          "realme/realme Narzo N63 4G (Twilight Purple, 128 GB)",
          "realme/realme Narzo N63 4G (Twilight Purple, 64 GB)",
          "realme/realme Narzo N65 5G (AMBER GOLD, 128 GB)",
          "realme/realme Narzo N65 5G (Amber Gold, 128 GB)",
          "realme/realme Narzo N65 5G (Deep Green, 128 GB)",
          "realme/realme P1 5G (Feather Blue, 128 GB)",
          "realme/realme P1 5G (Feather Blue, 256 GB)",
          "realme/realme P1 5G (Peacock Green, 128 GB)",
          "realme/realme P1 5G (Peacock Green, 256 GB)",
          "realme/realme P1 5G (Phoenix Red, 128 GB)",
          "realme/realme P1 5G (Phoenix Red, 256 GB)",
          "realme/realme P1 Pro 5G (Parrot Blue, 128 GB)",
          "realme/realme P1 Pro 5G (Parrot Blue, 256 GB)",
          "realme/realme P1 Pro 5G (Phoenix Red, 128 GB)",
          "realme/realme P1 Pro 5G (Phoenix Red, 256 GB)",
          "realme/realme P1 Speed 5G (Brushed Blue, 128 GB)",
          "realme/realme P1 Speed 5G (Brushed Blue, 256 GB)",
          "realme/realme P1 Speed 5G (Textured Titanium, 256 GB)",
          "realme/realme P2 Pro 5G (Eagle Grey, 128 GB)",
          "realme/realme P2 Pro 5G (Eagle Grey, 256 GB)",
          "realme/realme P2 Pro 5G (Eagle Grey, 512 GB)",
          "realme/realme P2 Pro 5G (Parrot Green, 256 GB)",
          "realme/realme P2 Pro 5G (Parrot Green, 512 GB)",
          "vivo/vivo T1 44W (Midnight Galaxy, 128 GB)",
          "vivo/vivo T1 44W (Starry Sky, 128 GB)",
          "vivo/vivo T1 5G (Starlight Black, 128 GB)",
          "vivo/vivo T1 Pro 5G (Turbo Black, 128 GB)",
          "vivo/vivo T1 Pro 5G (Turbo Cyan, 128 GB)",
          "vivo/vivo T2 5G (Nitro Blaze, 128 GB)",
          "vivo/vivo T2 5G (Velocity Wave, 128 GB)",
          "vivo/vivo T2 Pro 5G (New Moon Black, 256 GB)",
          "vivo/vivo T2x 5G (Aurora Gold, 128 GB)",
          "vivo/vivo T2x 5G (Black Gladiator, 128 GB)",
          "vivo/vivo T2x 5G (Glimmer Black, 128 GB)",
          "vivo/vivo T2x 5G (Marine Blue, 128 GB)",
          "vivo/vivo T2x 5G (Sunstone Orange, 128 GB)",
          "vivo/vivo T3 5G (Cosmic Blue, 128 GB)",
          "vivo/vivo T3 5G (Cosmic Blue, 256 GB)",
          "vivo/vivo T3 5G (Crystal Flake, 128 GB)",
          "vivo/vivo T3 5G (Crystal Flake, 256 GB)",
          "vivo/vivo T3 Lite 5G (Majestic Black, 128 GB)",
          "vivo/vivo T3 Lite 5G (Vibrant Green, 128 GB)",
          "vivo/vivo T3 Pro 5G (Emerald Green, 128 GB)",
          "vivo/vivo T3 Pro 5G (Emerald Green, 256 GB)",
          "vivo/vivo T3 Pro 5G (Sandstone Orange, 128 GB)",
          "vivo/vivo T3 Pro 5G (Sandstone Orange, 256 GB)",
          "vivo/vivo T3 Ultra (Frost Green, 128 GB)",
          "vivo/vivo T3 Ultra (Frost Green, 256 GB)",
          "vivo/vivo T3 Ultra (Lunar Gray, 128 GB)",
          "vivo/vivo T3 Ultra (Lunar Gray, 256 GB)",
          "vivo/vivo T3x 5G (Celestial Green, 128 GB)",
          "vivo/vivo T3x 5G (Crimson Bliss, 128 GB)",
          "vivo/vivo T3x 5G (Sapphire Blue, 128 GB)",
          "vivo/vivo U10 (Electric Blue, 64 GB)",
          "vivo/vivo V23 Pro 5G (Stardust Black, 128 GB)",
          "vivo/vivo V23 Pro 5G (Sunshine Gold, 128 GB)",
          "vivo/vivo V23 Pro 5G (Sunshine Gold, 256 GB)",
          "vivo/vivo V25 5G (Elegant Black, 128 GB)",
          "vivo/vivo V25 5G (Elegant Black, 256 GB)",
          "vivo/vivo V25 Pro 5G (Pure Black, 128 GB)",
          "vivo/vivo V25 Pro 5G (Sailing Blue, 128 GB)",
          "vivo/vivo V25 Pro 5G (sailing blue, 128 GB)",
          "vivo/vivo V27 5G (Noble Black, 128 GB)",
          "vivo/vivo V27 Pro 5G (Noble Black, 128 GB)",
          "vivo/vivo V29 5G (Black, 128 GB)",
          "vivo/vivo V29 5G (Black, 256 GB)",
          "vivo/vivo V29 5G (Blue, 128 GB)",
          "vivo/vivo V29 Pro 5G (Blue, 256 GB)",
          "vivo/vivo V30 (Peacock Green, 128 GB)",
          "vivo/vivo V30 5G (Andaman Blue, 256 GB)",
          "vivo/vivo V30 5G (Peacock Green, 128 GB)",
          "vivo/vivo V30 Pro 5G (Andaman Blue, 256 GB)",
          "vivo/vivo V30 Pro 5G (Andaman Blue, 512 GB)",
          "vivo/vivo V30 Pro 5G (Classic Black, 256 GB)",
          "vivo/vivo V30e (Silk Blue, 128 GB)",
          "vivo/vivo V30e (Silk Blue, 256 GB)",
          "vivo/vivo V30e (Velvet Red, 128 GB)",
          "vivo/vivo V40 5G (Ganges Blue, 128 GB)",
          "vivo/vivo V40 5G (Ganges Blue, 256 GB)",
          "vivo/vivo V40 5G (Ganges Blue, 512 GB)",
          "vivo/vivo V40 5G (Lotus Purple, 128 GB)",
          "vivo/vivo V40 5G (Lotus Purple, 256 GB)",
          "vivo/vivo V40 5G (Lotus Purple, 512 GB)",
          "vivo/vivo V40 5G (Titanium Grey, 128 GB)",
          "vivo/vivo V40 5G (Titanium Grey, 256 GB)",
          "vivo/vivo V40 5G (Titanium Grey, 512 GB)",
          "vivo/vivo V40 Pro 5G (Ganges Blue, 256 GB)",
          "vivo/vivo V40 Pro 5G (Ganges Blue, 512 GB)",
          "vivo/vivo V40 Pro 5G (Titanium Grey, 256 GB)",
          "vivo/vivo V40 Pro 5G (Titanium Grey, 512 GB)",
          "vivo/vivo V40e 5G (Mint Green, 128 GB)",
          "vivo/vivo V40e 5G (Mint Green, 256 GB)",
          "vivo/vivo V40e 5G (Royal Bronze, 128 GB)",
          "vivo/vivo V40e 5G (Royal Bronze, 256 GB)",
          "vivo/vivo V50 5G (Rose Red, 128 GB)",
          "vivo/vivo V50 5G (Rose Red, 256 GB)",
          "vivo/vivo V50 5G (Rose Red, 512 GB)",
          "vivo/vivo V50 5G (Starry Night, 256 GB)",
          "vivo/vivo V50 5G (Starry Night, 512 GB)",
          "vivo/vivo V50 5G (Titanium Grey, 128 GB)",
          "vivo/vivo V50 5G (Titanium Grey, 256 GB)",
          "vivo/vivo X200 5G (Cosmos Black, 256 GB)",
          "vivo/vivo X200 5G (Natural Green, 256 GB)",
          "vivo/vivo X70 Pro (Cosmic Black, 256 GB)",
          "vivo/vivo X80 (Cosmic Black, 256 GB)",
          "vivo/vivo X80 (Urban Blue, 256 GB)",
          "vivo/vivo X90 (Asteroid Black, 256 GB)",
          "vivo/vivo X90 (Breeze Blue, 256 GB)",
          "vivo/vivo Y01 (Elegant Black, 32 GB)",
          "vivo/vivo Y02 (Sunset Gold, 32 GB)",
          "vivo/vivo Y100A (Metal Black, 256 GB)",
          "vivo/vivo Y100A (Pacific Blue, 128 GB)",
          "vivo/vivo Y100A (Twilight Gold, 128 GB)",
          "vivo/vivo Y12G (Glacier Blue, 32 GB)",
          "vivo/vivo Y12G (Glacier Blue, 64 GB)",
          "vivo/vivo Y15c (Mystic Blue, 32 GB)",
          "vivo/vivo Y15c (Mystic Blue, 64 GB)",
          "vivo/vivo Y15c (Wave Green, 32 GB)",
          "vivo/vivo Y15c (Wave Green, 64 GB)",
          "vivo/vivo Y16 (Drizzling Gold, 128 GB)",
          "vivo/vivo Y16 (Drizzling Gold, 32 GB)",
          "vivo/vivo Y16 (Drizzling Gold, 64 GB)",
          "vivo/vivo Y16 (Steller Black, 32 GB)",
          "vivo/vivo Y16 (Steller Black, 64 GB)",
          "vivo/vivo Y18 (Gem Green, 128 GB)",
          "vivo/vivo Y18e (Gem Green, 64 GB)",
          "vivo/vivo Y18i (Gem Green, 64 GB)",
          "vivo/vivo Y18i (Space Black, 64 GB)",
          "vivo/vivo Y18t (Gem Green, 128 GB)",
          "vivo/vivo Y18t (Space Black, 128 GB)",
          "vivo/vivo Y200 5G (Desert Gold, 128 GB)",
          "vivo/vivo Y200 5G (Desert Gold, 256 GB)",
          "vivo/vivo Y200 5G (Jungle Green, 128 GB)",
          "vivo/vivo Y200 5G (Jungle Green, 256 GB)",
          "vivo/vivo Y200 Pro 5G (Silk Black, 128 GB)",
          "vivo/vivo Y200 Pro 5G (Silk Green, 128 GB)",
          "vivo/vivo Y20A 2021 (Dawn White, 64 GB)",
          "vivo/vivo Y21 (Diamond Glow, 128 GB)",
          "vivo/vivo Y21 (Midnight Blue, 128 GB)",
          "vivo/vivo Y21E (Diamond Glow, 64 GB)",
          "vivo/vivo Y21E (Midnight Blue, 64 GB)",
          "vivo/vivo Y21T (Midnight Blue, 128 GB)",
          "vivo/vivo Y21T (Pearl White, 128 GB)",
          "vivo/vivo Y22 (Metaverse Green, 128 GB)",
          "vivo/vivo Y22 (Metaverse Green, 64 GB)",
          "vivo/vivo Y22 (Starlit Blue, 128 GB)",
          "vivo/vivo Y22 (Starlit Blue, 64 GB)",
          "vivo/vivo Y27 (Burgundy Black, 128 GB)",
          "vivo/vivo Y27 (Garden Green, 128 GB)",
          "vivo/vivo Y27 (Sea Blue, 128 GB)",
          "vivo/vivo Y28 5G (Crystal Purple, 128 GB)",
          "vivo/vivo Y28 5G (Glitter Aqua, 128 GB)",
          "vivo/vivo Y28e (Breeze Green, 128 GB)",
          "vivo/vivo Y28e (Breeze Green, 64 GB)",
          "vivo/vivo Y28e (Vintage Red, 128 GB)",
          "vivo/vivo Y28e (Vintage Red, 64 GB)",
          "vivo/vivo Y28e 5G (Breeze Green, 128 GB)",
          "vivo/vivo Y28e 5G (Breeze Green, 64 GB)",
          "vivo/vivo Y28e 5G (Vintage Red, 128 GB)",
          "vivo/vivo Y28e 5G (Vintage Red, 64 GB)",
          "vivo/vivo Y28e 5G Charger in the Box (Breeze Green, 128 GB)",
          "vivo/vivo Y28e 5G Charger in the Box (Vintage Red, 128 GB)",
          "vivo/vivo Y28s 5G (Twinkling Purple, 128 GB)",
          "vivo/vivo Y28s 5G (Vintage Red, 128 GB)",
          "vivo/vivo Y29 5G (Diamond Black, 128 GB)",
          "vivo/vivo Y29 5G (Diamond Black, 256 GB)",
          "vivo/vivo Y29 5G (Glacier Blue, 128 GB)",
          "vivo/vivo Y29 5G (Titanium Gold, 256 GB)",
          "vivo/vivo Y300 5G (Emerald Green, 128 GB)",
          "vivo/vivo Y300 5G (Emerald Green, 256 GB)",
          "vivo/vivo Y300 5G (Phantom Purple, 128 GB)",
          "vivo/vivo Y300 5G (Phantom Purple, 256 GB)",
          "vivo/vivo Y300 5G (Titanium Silver, 128 GB)",
          "vivo/vivo Y300 Plus 5G (Silk Black, 128 GB)",
          "vivo/vivo Y300 Plus 5G (Silk Green, 128 GB)",
          "vivo/vivo Y35 (Agate Black, 128 GB)",
          "vivo/vivo Y36 (Meteor Black, 128 GB)",
          "vivo/vivo Y36 (Vibrant Gold, 128 GB)",
          "vivo/vivo Y56 5G (Black Engine, 128 GB)",
          "vivo/vivo Y56 5G (Orange Shimmer, 128 GB)",
          "vivo/vivo Y58 5G (Himalayan Blue, 128 GB)",
          "vivo/vivo Y58 5G (Sundarbans Green, 128 GB)",
          "vivo/vivo y15s (MYSTIC BLUE, 32 GB)",
          "Apple",
          "OPPO",
          "Samsung",
          "realme",
          "vivo"
         ],
         "labels": [
          "Apple iPhone 11 (Black, 128 GB)",
          "Apple iPhone 11 (Black, 64 GB)",
          "Apple iPhone 11 (Purple, 128 GB)",
          "Apple iPhone 11 (Purple, 64 GB)",
          "Apple iPhone 11 (Purple, 64 GB) (Includes EarPods, Power Adapter)",
          "Apple iPhone 11 Pro (Midnight Green, 64 GB)",
          "Apple iPhone 12 (Black, 128 GB)",
          "Apple iPhone 12 (Black, 64 GB)",
          "Apple iPhone 12 (Blue, 64 GB)",
          "Apple iPhone 12 mini (Black, 64 GB)",
          "Apple iPhone 12 mini (Red, 256 GB)",
          "Apple iPhone 13 ((PRODUCT)RED, 128 GB)",
          "Apple iPhone 13 ((PRODUCT)RED, 256 GB)",
          "Apple iPhone 13 (Green, 256 GB)",
          "Apple iPhone 13 (Green, 512 GB)",
          "Apple iPhone 13 (Starlight, 256 GB)",
          "Apple iPhone 13 Pro Max (Gold, 512 GB)",
          "Apple iPhone 13 mini ((PRODUCT)RED, 128 GB)",
          "Apple iPhone 13 mini ((PRODUCT)RED, 256 GB)",
          "Apple iPhone 13 mini (Green, 128 GB)",
          "Apple iPhone 13 mini (Green, 256 GB)",
          "Apple iPhone 14 (Blue, 128 GB)",
          "Apple iPhone 14 Plus (Blue, 128 GB)",
          "Apple iPhone 14 Plus (Blue, 256 GB)",
          "Apple iPhone 14 Pro Max (Silver, 512 GB)",
          "Apple iPhone 15 (Yellow, 128 GB)",
          "Apple iPhone 15 Pro (Black Titanium, 512 GB)",
          "Apple iPhone 5s (Silver, 16 GB)",
          "Apple iPhone 7 (Black, 128 GB)",
          "Apple iPhone 7 (Black, 32 GB)",
          "Apple iPhone 8 (Silver, 256 GB)",
          "Apple iPhone 8 (Silver, 64 GB)",
          "Apple iPhone 8 Plus (Silver, 256 GB)",
          "Apple iPhone 8 Plus (Silver, 64 GB)",
          "Apple iPhone SE 3rd Gen (Starlight, 128 GB)",
          "Apple iPhone XR (Blue, 128 GB)",
          "Apple iPhone XR (Blue, 64 GB)",
          "Apple iPhone XR (Blue, 64 GB) (Includes EarPods, Power Adapter)",
          "Apple iPhone XR (White, 128 GB) (Includes EarPods, Power Adapter)",
          "Apple iPhone XR (Yellow, 256 GB) (Includes EarPods, Power Adapter)",
          "Apple iPhone XS (Gold, 256 GB)",
          "Apple iPhone XS (Gold, 64 GB)",
          "Apple iPhone XS (Space Grey, 256 GB)",
          "Apple iPhone XS Max (Space Grey, 64 GB)",
          "OPPO A18 (Glowing Black, 128 GB)",
          "OPPO A18 (Glowing Blue, 128 GB)",
          "OPPO A18 (Glowing Blue, 64 GB)",
          "OPPO A3 5G (Nebula Red, 128 GB)",
          "OPPO A3 5G (Ocean Blue, 128 GB)",
          "OPPO A3 Pro 5G (Moonlight Purple, 128 GB)",
          "OPPO A3 Pro 5G (Moonlight Purple, 256 GB)",
          "OPPO A3 Pro 5G (Starry Black, 128 GB)",
          "OPPO A3 Pro 5G (Starry Black, 256 GB)",
          "OPPO A38 (Glowing Black, 128 GB)",
          "OPPO A38 (Glowing Gold, 128 GB)",
          "OPPO A3s (Nebula Red, 64 GB)",
          "OPPO A3x (Nebula Red, 128 GB)",
          "OPPO A3x (Ocean Blue, 128 GB)",
          "OPPO A3x 4G (Ocean Blue, 64 GB)",
          "OPPO A3x 5G (Starlight White, 128 GB)",
          "OPPO A3x 5G (Starlight White, 64 GB)",
          "OPPO A3x 5G (Starry Purple, 64 GB)",
          "OPPO A55 (Rainbow Blue, 128 GB)",
          "OPPO A57 4g (Green, 64 GB)",
          "OPPO A58 (Glowing Black, 128 GB)",
          "OPPO A59 5G (Silk Gold, 128 GB)",
          "OPPO A59 5G (Starry Black, 128 GB)",
          "OPPO A74 5G BLACK (Fluid Black, 128 GB)",
          "OPPO A77 (Sunset Orange, 128 GB)",
          "OPPO A78 (Aqua Green, 128 GB)",
          "OPPO A78 (Mist Black, 128 GB)",
          "OPPO A78 5G (Aqua Green, 128 GB)",
          "OPPO A78 5G (Glowing Black, 128 GB)",
          "OPPO A78 5G (Glowing Blue, 128 GB)",
          "OPPO A79 5G (Glowing Green, 128 GB)",
          "OPPO A79 5G (Mystery Black, 128 GB)",
          "OPPO F21 Pro (Sunset Orange, 128 GB)",
          "OPPO F21 Pro 5G (Cosmic Black, 128 GB)",
          "OPPO F21 Pro 5G (Rainbow Spectrum, 128 GB)",
          "OPPO F21SPRO (Orange, 128 GB)",
          "OPPO F21s Pro (Starlight Black, 128 GB)",
          "OPPO F21s Pro 5G (Dawnlight Gold, 128 GB)",
          "OPPO F21s Pro 5G (Starlight Black, 128 GB)",
          "OPPO F23 5G (Bold Gold, 256 GB)",
          "OPPO F23 5G (Cool Black, 256 GB)",
          "OPPO F25 Pro 5G (Coral Purple, 128 GB)",
          "OPPO F25 Pro 5G (Lava Red, 128 GB)",
          "OPPO F25 Pro 5G (Lava Red, 256 GB)",
          "OPPO F25 Pro 5G (Ocean Blue, 256 GB)",
          "OPPO F27 5G (Amber Orange, 128 GB)",
          "OPPO F27 5G (Amber Orange, 256 GB)",
          "OPPO F27 5G (Emerald Green, 128 GB)",
          "OPPO F27 5G (Emerald Green, 256 GB)",
          "OPPO F27 Pro+ (Dusk Pink, 128 GB)",
          "OPPO F27 Pro+ (Dusk Pink, 256 GB)",
          "OPPO F27 Pro+ (Midnight Navy, 256 GB)",
          "OPPO Find N2 Flip (Astral Black, 256 GB)",
          "OPPO Find N2 Flip (Moonlit Purple, 256 GB)",
          "OPPO Find N3 Flip (Cream Gold, 256 GB)",
          "OPPO Find N3 Flip (Sleek Black, 256 GB)",
          "OPPO Find X8 5G (Space Black, 256 GB)",
          "OPPO Find X8 5G (Space Black, 512 GB)",
          "OPPO Find X8 Pro 5G (Pearl White, 512 GB)",
          "OPPO Find X8 Pro 5G (Space Black, 512 GB)",
          "OPPO K12x 5G with 45W SUPERVOOC Charger In-The-Box (Breeze Blue, 128 GB)",
          "OPPO K12x 5G with 45W SUPERVOOC Charger In-The-Box (Breeze Blue, 256 GB)",
          "OPPO K12x 5G with 45W SUPERVOOC Charger In-The-Box (Feather Pink, 128 GB)",
          "OPPO K12x 5G with 45W SUPERVOOC Charger In-The-Box (Feather Pink, 256 GB)",
          "OPPO K12x 5G with 45W SUPERVOOC Charger In-The-Box (Midnight Violet, 128 GB)",
          "OPPO K12x 5G with 45W SUPERVOOC Charger In-The-Box (Midnight Violet, 256 GB)",
          "OPPO Reno 12 5G (Astro Silver, 256 GB)",
          "OPPO Reno 12 5G (Matte Brown, 256 GB)",
          "OPPO Reno 12 5G (Sunset Peach, 256 GB)",
          "OPPO Reno 12 Pro 5G (Manish Malhotra Limited Edition, 256 GB)",
          "OPPO Reno 12 Pro 5G (Space Brown, 256 GB)",
          "OPPO Reno 12 Pro 5G (Sunset Gold, 256 GB)",
          "OPPO Reno 12 Pro 5G (Sunset Gold, 512 GB)",
          "OPPO Reno10 5G (Ice Blue, 256 GB)",
          "OPPO Reno10 5G (Silvery Grey, 256 GB)",
          "OPPO Reno10 Pro 5G (Glossy Purple, 256 GB)",
          "OPPO Reno10 Pro 5G (Silvery Grey, 256 GB)",
          "OPPO Reno10 Pro+ 5G (Silvery Grey, 256 GB)",
          "OPPO Reno11 5G (Rock Grey, 128 GB)",
          "OPPO Reno11 5G (Rock Grey, 256 GB)",
          "OPPO Reno12 5g (Sunset Peach, 256 GB)",
          "OPPO Reno13 5G (Ivory White, 128 GB)",
          "OPPO Reno13 5G (Ivory White, 256 GB)",
          "OPPO Reno13 5G (Luminous Blue, 128 GB)",
          "OPPO Reno13 5G (Luminous Blue, 256 GB)",
          "OPPO Reno13 Pro 5G (Graphite Grey, 256 GB)",
          "OPPO Reno13 Pro 5G (Graphite Grey, 512 GB)",
          "OPPO Reno13 Pro 5G (Mist Lavender, 256 GB)",
          "OPPO Reno13 Pro 5G (Mist Lavender, 512 GB)",
          "OPPO Reno2 Z (Sky, White, 256 GB)",
          "OPPO Reno8 5G (Shimmer Black, 128 GB)",
          "OPPO Reno8 5G (Shimmer Gold, 128 GB)",
          "OPPO Reno8T 5G (Midnight Black, 128 GB)",
          "OPPO Reno8T 5G (Sunrise Gold, 128 GB)",
          "SAMSUNG A14 5g (Green, 128 GB)",
          "SAMSUNG A14 5g (Green, Light Green, 128 GB)",
          "SAMSUNG GALAXY M13 (Aqua Green, 64 GB)",
          "SAMSUNG GALAXY M13 (Stardust Brown, 128 GB)",
          "SAMSUNG GALAXY M13 5G (Aqua Green, 128 GB)",
          "SAMSUNG Galaxy A04 (Copper, 64 GB)",
          "SAMSUNG Galaxy A04s (Copper, 64 GB)",
          "SAMSUNG Galaxy A05 (Black, 128 GB)",
          "SAMSUNG Galaxy A05 (Light Green, 128 GB)",
          "SAMSUNG Galaxy A05 (Light Green, 64 GB)",
          "SAMSUNG Galaxy A05 (Silver, 128 GB)",
          "SAMSUNG Galaxy A05 (Silver, 64 GB)",
          "SAMSUNG Galaxy A05s (Black, 128 GB)",
          "SAMSUNG Galaxy A05s (Light Green, 128 GB)",
          "SAMSUNG Galaxy A06 (Black, 128 GB)",
          "SAMSUNG Galaxy A06 (Black, 64 GB)",
          "SAMSUNG Galaxy A06 (Gold, 64 GB)",
          "SAMSUNG Galaxy A13 (White, 128 GB)",
          "SAMSUNG Galaxy A14 5G (Black, 128 GB)",
          "SAMSUNG Galaxy A14 5G (Black, 64 GB)",
          "SAMSUNG Galaxy A14 5G (Dark Red, 128 GB)",
          "SAMSUNG Galaxy A14 5G (Dark Red, 64 GB)",
          "SAMSUNG Galaxy A14 5G (Light Green, 128 GB)",
          "SAMSUNG Galaxy A15 5G (Blue Black, 128 GB)",
          "SAMSUNG Galaxy A15 5G (Blue Black, 256 GB)",
          "SAMSUNG Galaxy A15 5G (Blue, 128 GB)",
          "SAMSUNG Galaxy A15 5G (Light Blue, 256 GB)",
          "SAMSUNG Galaxy A16 5G (Blue Black, 128 GB)",
          "SAMSUNG Galaxy A16 5G (Blue Black, 256 GB)",
          "SAMSUNG Galaxy A16 5G (Gold, 128 GB)",
          "SAMSUNG Galaxy A16 5G (Gold, 256 GB)",
          "SAMSUNG Galaxy A16 5G (Light Green, 128 GB)",
          "SAMSUNG Galaxy A16 5G (Light Green, 256 GB)",
          "SAMSUNG Galaxy A23 (Black, 128 GB)",
          "SAMSUNG Galaxy A23 5G (Light Blue, 128 GB)",
          "SAMSUNG Galaxy A23 5G (Orange, 128 GB)",
          "SAMSUNG Galaxy A23 5G (Silver, 128 GB)",
          "SAMSUNG Galaxy A25 5G (Blue Black, 256 GB)",
          "SAMSUNG Galaxy A34 5G (Awesome Lime, 128 GB)",
          "SAMSUNG Galaxy A35 5G (Awesome Iceblue, 128 GB)",
          "SAMSUNG Galaxy A35 5G (Awesome Lilac, 128 GB)",
          "SAMSUNG Galaxy A35 5G (Awesome Lilac, 256 GB)",
          "SAMSUNG Galaxy A35 5G (Awesome Navy, 128 GB)",
          "SAMSUNG Galaxy A35 5G (Awesome Navy, 256 GB)",
          "SAMSUNG Galaxy A53 (Awesome Peach, 128 GB)",
          "SAMSUNG Galaxy A54 5G (Awesome Graphite, 128 GB)",
          "SAMSUNG Galaxy A54 5G (Awesome Graphite, 256 GB)",
          "SAMSUNG Galaxy A54 5G (Awesome Lime, 128 GB)",
          "SAMSUNG Galaxy A54 5G (Awesome Lime, 256 GB)",
          "SAMSUNG Galaxy A54 5G (Awesome Violet, 128 GB)",
          "SAMSUNG Galaxy A55 5G (Awesome Iceblue, 128 GB)",
          "SAMSUNG Galaxy A55 5G (Awesome Iceblue, 256 GB)",
          "SAMSUNG Galaxy A55 5G (Awesome Navy, 128 GB)",
          "SAMSUNG Galaxy F05 (Twilight Blue, 64 GB)",
          "SAMSUNG Galaxy F12 (Celestial Black, 128 GB)",
          "SAMSUNG Galaxy F12 (Celestial Black, 64 GB)",
          "SAMSUNG Galaxy F12 (Sea Green, 128 GB)",
          "SAMSUNG Galaxy F12 (Sea Green, 64 GB)",
          "SAMSUNG Galaxy F12 (Sky Blue, 128 GB)",
          "SAMSUNG Galaxy F12 (Sky Blue, 64 GB)",
          "SAMSUNG Galaxy F13 (Waterfall Blue, 64 GB)",
          "SAMSUNG Galaxy F14 (Peppermint green, 64 GB)",
          "SAMSUNG Galaxy F14 5G (B.A.E. Purple, 128 GB)",
          "SAMSUNG Galaxy F15 5G (Ash Black, 128 GB)",
          "SAMSUNG Galaxy F15 5G (Groovy Violet, 128 GB)",
          "SAMSUNG Galaxy F15 5G (Jazzy Green, 128 GB)",
          "SAMSUNG Galaxy F23 5G (Aqua Blue, 128 GB)",
          "SAMSUNG Galaxy F34 5G (Mystic Green, 128 GB)",
          "SAMSUNG Galaxy F54 5G (Stardust Silver, 256 GB)",
          "SAMSUNG Galaxy F55 5G (Apricot Crush, 256 GB)",
          "SAMSUNG Galaxy F55 5G (Raisin Black, 256 GB)",
          "SAMSUNG Galaxy M04 (Light Green, 128 GB)",
          "SAMSUNG Galaxy M11 (Violet, 32 GB)",
          "SAMSUNG Galaxy M12 (Black, 64 GB)",
          "SAMSUNG Galaxy M13 (Aqua Green, 128 GB)",
          "SAMSUNG Galaxy M14 4G (Arctic Blue, 64 GB)",
          "SAMSUNG Galaxy M14 4G (Sapphire Blue, 64 GB)",
          "SAMSUNG Galaxy M14 5G (Berry Blue, 128 GB)",
          "SAMSUNG Galaxy M15 5G (Blue Topaz, 128 GB)",
          "SAMSUNG Galaxy M15 5G (Stone Grey, 128 GB)",
          "SAMSUNG Galaxy M33 5G (Mystique Green, 128 GB)",
          "SAMSUNG Galaxy M34 5G without charger (Prism Silver, 128 GB)",
          "SAMSUNG Galaxy M35 5G (DayBreak Blue, 128 GB)",
          "SAMSUNG Galaxy M35 5G (DayBreak Blue, 256 GB)",
          "SAMSUNG Galaxy M35 5G (Moonlight Blue, 128 GB)",
          "SAMSUNG Galaxy M35 5G (Moonlight Blue, 256 GB)",
          "SAMSUNG Galaxy M35 5G (Thunder Grey, 128 GB)",
          "SAMSUNG Galaxy M35 5G (Thunder Grey, 256 GB)",
          "SAMSUNG Galaxy M53 5G (Mystique Green, 128 GB)",
          "SAMSUNG Galaxy M55 5G (Light Green, 256 GB)",
          "SAMSUNG Galaxy S23 5G (Cream, 256 GB)",
          "SAMSUNG Galaxy S23 5G (Green, 256 GB)",
          "SAMSUNG Galaxy S23 FE (Graphite, 128 GB)",
          "SAMSUNG Galaxy S23 FE (Graphite, 256 GB)",
          "SAMSUNG Galaxy S23 Ultra 5G (Cream, 256 GB)",
          "SAMSUNG Galaxy S23 Ultra 5G (Green, 256 GB)",
          "SAMSUNG Galaxy S23 Ultra 5G (Phantom Black, 256 GB)",
          "SAMSUNG Galaxy S24 5G (Cobalt Violet, 128 GB)",
          "SAMSUNG Galaxy S24 5G (Cobalt Violet, 256 GB)",
          "SAMSUNG Galaxy S24 5G (Cobalt Violet, 512 GB)",
          "SAMSUNG Galaxy S24 FE 5G (Blue, 128 GB)",
          "SAMSUNG Galaxy S24 FE 5G (Blue, 256 GB)",
          "SAMSUNG Galaxy S24 FE 5G (Graphite, 128 GB)",
          "SAMSUNG Galaxy S24 FE 5G (Graphite, 256 GB)",
          "SAMSUNG Galaxy S24 FE 5G (Mint, 128 GB)",
          "SAMSUNG Galaxy S24 Ultra 5G (Titanium Black, 512 GB)",
          "SAMSUNG Galaxy S24+ 5G (Onyx Black, 256 GB)",
          "SAMSUNG Galaxy S25 5G (Mint, 256 GB)",
          "SAMSUNG Galaxy S25 5G (Mint, 512 GB)",
          "SAMSUNG Galaxy S25 5G (Navy, 256 GB)",
          "SAMSUNG Galaxy S25 5G (Navy, 512 GB)",
          "SAMSUNG Galaxy S25 5G (Silver Shadow, 256 GB)",
          "SAMSUNG Galaxy S25 5G (Silver Shadow, 512 GB)",
          "SAMSUNG Galaxy S25 Plus 5G (Navy, 512 GB)",
          "SAMSUNG Galaxy S25 Plus 5G (Silver Shadow, 256 GB)",
          "SAMSUNG Galaxy S25 Ultra 5G (Titanium Black, 256 GB)",
          "SAMSUNG Galaxy S25 Ultra 5G (Titanium Silverblue, 512 GB)",
          "SAMSUNG Galaxy Z Flip5 (Graphite, 256 GB)",
          "SAMSUNG Galaxy Z Fold5 (Cream, 256 GB)",
          "SAMSUNG Galaxy Z Fold5 (Cream, 512 GB)",
          "SAMSUNG Galaxy Z Fold5 (Icy Blue, 256 GB)",
          "SAMSUNG Galaxy Z Fold5 (Phantom Black, 256 GB)",
          "SAMSUNG M05 (Mint Green, 64 GB)",
          "SAMSUNG M15 5G Prime Edition (Stone Grey, 128 GB)",
          "SAMSUNG M15 Prime Edition (Celestial Blue, 128 GB)",
          "SAMSUNG galaxy M15 5G (Blue Topaz, 128 GB)",
          "SAMSUNG galaxy M15 5G (Celestrial Blue, 128 GB)",
          "SAMSUNG galaxy M15 5G (Stone Grey, 128 GB)",
          "Samsung Galaxy S21 FE 5G with Snapdragon 888 (Graphite, 128 GB)",
          "Samsung Galaxy S21 FE 5G with Snapdragon 888 (Graphite, 256 GB)",
          "Samsung Galaxy S21 FE 5G with Snapdragon 888 (Lavender, 256 GB)",
          "Samsung Galaxy S21 FE 5G with Snapdragon 888 (Olive, 128 GB)",
          "Samsung Galaxy S21 FE 5G with Snapdragon 888 (Olive, 256 GB)",
          "realme 10 (Clash White, 64 GB)",
          "realme 10 (Rush Black, 128 GB)",
          "realme 12 5G (Twilight Purple, 128 GB)",
          "realme 12 5G (Woodland Green, 128 GB)",
          "realme 12 Pro 5G (Navigator Beige, 128 GB)",
          "realme 12 Pro 5G (Navigator Beige, 256 GB)",
          "realme 12 Pro 5G (Submarine Blue, 128 GB)",
          "realme 12 Pro 5G (Submarine Blue, 256 GB)",
          "realme 12 Pro+ 5G (Explorer Red, 128 GB)",
          "realme 12 Pro+ 5G (Explorer Red, 256 GB)",
          "realme 12 Pro+ 5G (Navigator Beige, 128 GB)",
          "realme 12 Pro+ 5G (Navigator Beige, 256 GB)",
          "realme 12 Pro+ 5G (Submarine Blue, 128 GB)",
          "realme 12 Pro+ 5G (Submarine Blue, 256 GB)",
          "realme 12+ 5G (Navigator Beige, 128 GB)",
          "realme 12+ 5G (Navigator Beige, 256 GB)",
          "realme 12+ 5G (Pioneer Green, 128 GB)",
          "realme 12+ 5G (Pioneer Green, 256 GB)",
          "realme 12x 5G (Coral Red, 128 GB)",
          "realme 12x 5G (Twilight Purple, 128 GB)",
          "realme 12x 5G (Woodland Green, 128 GB)",
          "realme 13 5G (Dark Purple, 128 GB)",
          "realme 13 5G (Speed Green, 128 GB)",
          "realme 13 5G (Speed Green, 256 GB)",
          "realme 13 Pro 5G (Emerald Green, 256 GB)",
          "realme 13 Pro 5G (Emerald Green, 512 GB)",
          "realme 13 Pro 5G (Monet Gold, 128 GB)",
          "realme 13 Pro 5G (Monet Gold, 256 GB)",
          "realme 13 Pro 5G (Monet Gold, 512 GB)",
          "realme 13 Pro 5G (Monet Purple, 128 GB)",
          "realme 13 Pro 5G (Monet Purple, 256 GB)",
          "realme 13 Pro 5G (Monet Purple, 512 GB)",
          "realme 13 Pro+ 5G (Emerald Green, 256 GB)",
          "realme 13 Pro+ 5G (Monet Gold, 256 GB)",
          "realme 13 Pro+ 5G (Monet Purple, 256 GB)",
          "realme 13 Pro+ 5G (Monet Purple, 512 GB)",
          "realme 13+ 5G (Dark Purple, 128 GB)",
          "realme 13+ 5G (Dark Purple, 256 GB)",
          "realme 13+ 5G (Speed Green, 128 GB)",
          "realme 13+ 5G (Speed Green, 256 GB)",
          "realme 13+ 5G (Victory Gold, 256 GB)",
          "realme 14 Pro 5G (Jaipur Pink, 128 GB)",
          "realme 14 Pro 5G (Pearl White, 128 GB)",
          "realme 14 Pro 5G (Pearl White, 256 GB)",
          "realme 14 Pro+ 5G (Bikaner Purple, 128 GB)",
          "realme 14x 5G (Crystal Black, 128 GB)",
          "realme 14x 5G (Golden Glow, 128 GB)",
          "realme 14x 5G (Jewel Red, 128 GB)",
          "realme 7 (Mist White, 64 GB)",
          "realme 70 TURBO 5G (Turbo Green, 128 GB)",
          "realme 70 TURBO 5G (Turbo Purple, 128 GB)",
          "realme 70 TURBO 5G (Turbo Purple, 256 GB)",
          "realme 70 TURBO 5G (Turbo Yellow, 128 GB)",
          "realme 70 TURBO 5G (Turbo Yellow, 256 GB)",
          "realme 8i (Space Black, 128 GB)",
          "realme 8i (Space Black, 64 GB)",
          "realme 8i (Space Purple, 128 GB)",
          "realme 8i (Space Purple, 64 GB)",
          "realme C25Y (Metal Grey, 128 GB)",
          "realme C25Y (Metal Grey, 64 GB)",
          "realme C25_Y (Metal Grey, 128 GB)",
          "realme C25_Y (Metal Grey, 64 GB)",
          "realme C51 (Carbon Black, 64 GB)",
          "realme C51 (Mint Green, 128 GB)",
          "realme C51 (Mint Green, 64 GB)",
          "realme C53 (Champion Black, 128 GB)",
          "realme C53 (Champion Gold, 64 GB)",
          "realme C61 (Marble Black, 128 GB)",
          "realme C61 (Marble Black, 64 GB)",
          "realme C61 (Safari Green, 64 GB)",
          "realme C63 (Jade Green, 64 GB)",
          "realme C63 (Leather Blue, 64 GB)",
          "realme C63 5G (Forest Green, 128 GB)",
          "realme C63 5G (Starry Gold, 128 GB)",
          "realme C63 5G Charger in the Box (Forest Green, 128 GB)",
          "realme C63 5G Charger in the Box (Starry Gold, 128 GB)",
          "realme C65 5G (Feather Green, 128 GB)",
          "realme C65 5G (Glowing Black, 128 GB)",
          "realme C65 5G (Glowing Black, 64 GB)",
          "realme C65 5G (Speedy Red, 128 GB)",
          "realme C65 5G (Speedy Red, 64 GB)",
          "realme C67 5G (Dark Purple, 128 GB)",
          "realme C67 5G (Sunny Oasis, 128 GB)",
          "realme GT 2 Pro (Paper White, 128 GB)",
          "realme GT 2 Pro (Paper White, 256 GB)",
          "realme GT 2 Pro (Steel Black, 256 GB)",
          "realme GT 6 (Fluid Silver, 256 GB)",
          "realme GT 6 (Fluid Silver, 512 GB)",
          "realme GT 6 (Razor Green, 256 GB)",
          "realme GT 6 (Razor Green, 512 GB)",
          "realme GT 6T 5G (Fluid Silver, 128 GB)",
          "realme GT 6T 5G (Fluid Silver, 256 GB)",
          "realme GT 6T 5G (Miracle Purple, 256 GB)",
          "realme GT 6T 5G (Razor Green, 128 GB)",
          "realme GT 6T 5G (Razor Green, 256 GB)",
          "realme GT 6T 5G (Razor Green, 512 GB)",
          "realme GT 7 Pro (Galaxy Grey, 512 GB)",
          "realme GT 7 Pro (Mars Orange, 512 GB)",
          "realme NARZO 70X 5G (FOREST GREEN, 128 GB)",
          "realme NARZO 70X 5G (ICE BLUE, 128 GB)",
          "realme NARZO N65 5G (AMBER GOLD, 128 GB)",
          "realme NARZO N65 5G (DEEP GREEN, 128 GB)",
          "realme Narzo 30 (Racing Blue, 64 GB)",
          "realme Narzo N61 (Marble Black, 64 GB)",
          "realme Narzo N61 (Voyage Blue, 128 GB)",
          "realme Narzo N61 (Voyage Blue, 64 GB)",
          "realme Narzo N63 4G (Leather Blue, 128 GB)",
          "realme Narzo N63 4G (Twilight Purple, 128 GB)",
          "realme Narzo N63 4G (Twilight Purple, 64 GB)",
          "realme Narzo N65 5G (AMBER GOLD, 128 GB)",
          "realme Narzo N65 5G (Amber Gold, 128 GB)",
          "realme Narzo N65 5G (Deep Green, 128 GB)",
          "realme P1 5G (Feather Blue, 128 GB)",
          "realme P1 5G (Feather Blue, 256 GB)",
          "realme P1 5G (Peacock Green, 128 GB)",
          "realme P1 5G (Peacock Green, 256 GB)",
          "realme P1 5G (Phoenix Red, 128 GB)",
          "realme P1 5G (Phoenix Red, 256 GB)",
          "realme P1 Pro 5G (Parrot Blue, 128 GB)",
          "realme P1 Pro 5G (Parrot Blue, 256 GB)",
          "realme P1 Pro 5G (Phoenix Red, 128 GB)",
          "realme P1 Pro 5G (Phoenix Red, 256 GB)",
          "realme P1 Speed 5G (Brushed Blue, 128 GB)",
          "realme P1 Speed 5G (Brushed Blue, 256 GB)",
          "realme P1 Speed 5G (Textured Titanium, 256 GB)",
          "realme P2 Pro 5G (Eagle Grey, 128 GB)",
          "realme P2 Pro 5G (Eagle Grey, 256 GB)",
          "realme P2 Pro 5G (Eagle Grey, 512 GB)",
          "realme P2 Pro 5G (Parrot Green, 256 GB)",
          "realme P2 Pro 5G (Parrot Green, 512 GB)",
          "vivo T1 44W (Midnight Galaxy, 128 GB)",
          "vivo T1 44W (Starry Sky, 128 GB)",
          "vivo T1 5G (Starlight Black, 128 GB)",
          "vivo T1 Pro 5G (Turbo Black, 128 GB)",
          "vivo T1 Pro 5G (Turbo Cyan, 128 GB)",
          "vivo T2 5G (Nitro Blaze, 128 GB)",
          "vivo T2 5G (Velocity Wave, 128 GB)",
          "vivo T2 Pro 5G (New Moon Black, 256 GB)",
          "vivo T2x 5G (Aurora Gold, 128 GB)",
          "vivo T2x 5G (Black Gladiator, 128 GB)",
          "vivo T2x 5G (Glimmer Black, 128 GB)",
          "vivo T2x 5G (Marine Blue, 128 GB)",
          "vivo T2x 5G (Sunstone Orange, 128 GB)",
          "vivo T3 5G (Cosmic Blue, 128 GB)",
          "vivo T3 5G (Cosmic Blue, 256 GB)",
          "vivo T3 5G (Crystal Flake, 128 GB)",
          "vivo T3 5G (Crystal Flake, 256 GB)",
          "vivo T3 Lite 5G (Majestic Black, 128 GB)",
          "vivo T3 Lite 5G (Vibrant Green, 128 GB)",
          "vivo T3 Pro 5G (Emerald Green, 128 GB)",
          "vivo T3 Pro 5G (Emerald Green, 256 GB)",
          "vivo T3 Pro 5G (Sandstone Orange, 128 GB)",
          "vivo T3 Pro 5G (Sandstone Orange, 256 GB)",
          "vivo T3 Ultra (Frost Green, 128 GB)",
          "vivo T3 Ultra (Frost Green, 256 GB)",
          "vivo T3 Ultra (Lunar Gray, 128 GB)",
          "vivo T3 Ultra (Lunar Gray, 256 GB)",
          "vivo T3x 5G (Celestial Green, 128 GB)",
          "vivo T3x 5G (Crimson Bliss, 128 GB)",
          "vivo T3x 5G (Sapphire Blue, 128 GB)",
          "vivo U10 (Electric Blue, 64 GB)",
          "vivo V23 Pro 5G (Stardust Black, 128 GB)",
          "vivo V23 Pro 5G (Sunshine Gold, 128 GB)",
          "vivo V23 Pro 5G (Sunshine Gold, 256 GB)",
          "vivo V25 5G (Elegant Black, 128 GB)",
          "vivo V25 5G (Elegant Black, 256 GB)",
          "vivo V25 Pro 5G (Pure Black, 128 GB)",
          "vivo V25 Pro 5G (Sailing Blue, 128 GB)",
          "vivo V25 Pro 5G (sailing blue, 128 GB)",
          "vivo V27 5G (Noble Black, 128 GB)",
          "vivo V27 Pro 5G (Noble Black, 128 GB)",
          "vivo V29 5G (Black, 128 GB)",
          "vivo V29 5G (Black, 256 GB)",
          "vivo V29 5G (Blue, 128 GB)",
          "vivo V29 Pro 5G (Blue, 256 GB)",
          "vivo V30 (Peacock Green, 128 GB)",
          "vivo V30 5G (Andaman Blue, 256 GB)",
          "vivo V30 5G (Peacock Green, 128 GB)",
          "vivo V30 Pro 5G (Andaman Blue, 256 GB)",
          "vivo V30 Pro 5G (Andaman Blue, 512 GB)",
          "vivo V30 Pro 5G (Classic Black, 256 GB)",
          "vivo V30e (Silk Blue, 128 GB)",
          "vivo V30e (Silk Blue, 256 GB)",
          "vivo V30e (Velvet Red, 128 GB)",
          "vivo V40 5G (Ganges Blue, 128 GB)",
          "vivo V40 5G (Ganges Blue, 256 GB)",
          "vivo V40 5G (Ganges Blue, 512 GB)",
          "vivo V40 5G (Lotus Purple, 128 GB)",
          "vivo V40 5G (Lotus Purple, 256 GB)",
          "vivo V40 5G (Lotus Purple, 512 GB)",
          "vivo V40 5G (Titanium Grey, 128 GB)",
          "vivo V40 5G (Titanium Grey, 256 GB)",
          "vivo V40 5G (Titanium Grey, 512 GB)",
          "vivo V40 Pro 5G (Ganges Blue, 256 GB)",
          "vivo V40 Pro 5G (Ganges Blue, 512 GB)",
          "vivo V40 Pro 5G (Titanium Grey, 256 GB)",
          "vivo V40 Pro 5G (Titanium Grey, 512 GB)",
          "vivo V40e 5G (Mint Green, 128 GB)",
          "vivo V40e 5G (Mint Green, 256 GB)",
          "vivo V40e 5G (Royal Bronze, 128 GB)",
          "vivo V40e 5G (Royal Bronze, 256 GB)",
          "vivo V50 5G (Rose Red, 128 GB)",
          "vivo V50 5G (Rose Red, 256 GB)",
          "vivo V50 5G (Rose Red, 512 GB)",
          "vivo V50 5G (Starry Night, 256 GB)",
          "vivo V50 5G (Starry Night, 512 GB)",
          "vivo V50 5G (Titanium Grey, 128 GB)",
          "vivo V50 5G (Titanium Grey, 256 GB)",
          "vivo X200 5G (Cosmos Black, 256 GB)",
          "vivo X200 5G (Natural Green, 256 GB)",
          "vivo X70 Pro (Cosmic Black, 256 GB)",
          "vivo X80 (Cosmic Black, 256 GB)",
          "vivo X80 (Urban Blue, 256 GB)",
          "vivo X90 (Asteroid Black, 256 GB)",
          "vivo X90 (Breeze Blue, 256 GB)",
          "vivo Y01 (Elegant Black, 32 GB)",
          "vivo Y02 (Sunset Gold, 32 GB)",
          "vivo Y100A (Metal Black, 256 GB)",
          "vivo Y100A (Pacific Blue, 128 GB)",
          "vivo Y100A (Twilight Gold, 128 GB)",
          "vivo Y12G (Glacier Blue, 32 GB)",
          "vivo Y12G (Glacier Blue, 64 GB)",
          "vivo Y15c (Mystic Blue, 32 GB)",
          "vivo Y15c (Mystic Blue, 64 GB)",
          "vivo Y15c (Wave Green, 32 GB)",
          "vivo Y15c (Wave Green, 64 GB)",
          "vivo Y16 (Drizzling Gold, 128 GB)",
          "vivo Y16 (Drizzling Gold, 32 GB)",
          "vivo Y16 (Drizzling Gold, 64 GB)",
          "vivo Y16 (Steller Black, 32 GB)",
          "vivo Y16 (Steller Black, 64 GB)",
          "vivo Y18 (Gem Green, 128 GB)",
          "vivo Y18e (Gem Green, 64 GB)",
          "vivo Y18i (Gem Green, 64 GB)",
          "vivo Y18i (Space Black, 64 GB)",
          "vivo Y18t (Gem Green, 128 GB)",
          "vivo Y18t (Space Black, 128 GB)",
          "vivo Y200 5G (Desert Gold, 128 GB)",
          "vivo Y200 5G (Desert Gold, 256 GB)",
          "vivo Y200 5G (Jungle Green, 128 GB)",
          "vivo Y200 5G (Jungle Green, 256 GB)",
          "vivo Y200 Pro 5G (Silk Black, 128 GB)",
          "vivo Y200 Pro 5G (Silk Green, 128 GB)",
          "vivo Y20A 2021 (Dawn White, 64 GB)",
          "vivo Y21 (Diamond Glow, 128 GB)",
          "vivo Y21 (Midnight Blue, 128 GB)",
          "vivo Y21E (Diamond Glow, 64 GB)",
          "vivo Y21E (Midnight Blue, 64 GB)",
          "vivo Y21T (Midnight Blue, 128 GB)",
          "vivo Y21T (Pearl White, 128 GB)",
          "vivo Y22 (Metaverse Green, 128 GB)",
          "vivo Y22 (Metaverse Green, 64 GB)",
          "vivo Y22 (Starlit Blue, 128 GB)",
          "vivo Y22 (Starlit Blue, 64 GB)",
          "vivo Y27 (Burgundy Black, 128 GB)",
          "vivo Y27 (Garden Green, 128 GB)",
          "vivo Y27 (Sea Blue, 128 GB)",
          "vivo Y28 5G (Crystal Purple, 128 GB)",
          "vivo Y28 5G (Glitter Aqua, 128 GB)",
          "vivo Y28e (Breeze Green, 128 GB)",
          "vivo Y28e (Breeze Green, 64 GB)",
          "vivo Y28e (Vintage Red, 128 GB)",
          "vivo Y28e (Vintage Red, 64 GB)",
          "vivo Y28e 5G (Breeze Green, 128 GB)",
          "vivo Y28e 5G (Breeze Green, 64 GB)",
          "vivo Y28e 5G (Vintage Red, 128 GB)",
          "vivo Y28e 5G (Vintage Red, 64 GB)",
          "vivo Y28e 5G Charger in the Box (Breeze Green, 128 GB)",
          "vivo Y28e 5G Charger in the Box (Vintage Red, 128 GB)",
          "vivo Y28s 5G (Twinkling Purple, 128 GB)",
          "vivo Y28s 5G (Vintage Red, 128 GB)",
          "vivo Y29 5G (Diamond Black, 128 GB)",
          "vivo Y29 5G (Diamond Black, 256 GB)",
          "vivo Y29 5G (Glacier Blue, 128 GB)",
          "vivo Y29 5G (Titanium Gold, 256 GB)",
          "vivo Y300 5G (Emerald Green, 128 GB)",
          "vivo Y300 5G (Emerald Green, 256 GB)",
          "vivo Y300 5G (Phantom Purple, 128 GB)",
          "vivo Y300 5G (Phantom Purple, 256 GB)",
          "vivo Y300 5G (Titanium Silver, 128 GB)",
          "vivo Y300 Plus 5G (Silk Black, 128 GB)",
          "vivo Y300 Plus 5G (Silk Green, 128 GB)",
          "vivo Y35 (Agate Black, 128 GB)",
          "vivo Y36 (Meteor Black, 128 GB)",
          "vivo Y36 (Vibrant Gold, 128 GB)",
          "vivo Y56 5G (Black Engine, 128 GB)",
          "vivo Y56 5G (Orange Shimmer, 128 GB)",
          "vivo Y58 5G (Himalayan Blue, 128 GB)",
          "vivo Y58 5G (Sundarbans Green, 128 GB)",
          "vivo y15s (MYSTIC BLUE, 32 GB)",
          "Apple",
          "OPPO",
          "Samsung",
          "realme",
          "vivo"
         ],
         "marker": {
          "coloraxis": "coloraxis",
          "colors": [
           48900,
           43900,
           48900,
           43900,
           49900,
           106600,
           54900,
           48900,
           48900,
           59900,
           74900,
           44999,
           54999,
           54999,
           74999,
           54999,
           159900,
           49900,
           74900,
           64900,
           74900,
           54999,
           69900,
           79900,
           164900,
           64999,
           164900,
           25000,
           34900,
           31500,
           77000,
           39900,
           84900,
           49900,
           52600,
           52900,
           47900,
           47900,
           45499,
           91900,
           103900,
           89900,
           103900,
           109900,
           31999,
           17999,
           23999,
           14999,
           13999,
           17999,
           19999,
           17999,
           19999,
           15999,
           27525,
           12999,
           9999,
           9999,
           9999,
           12499,
           20999,
           11499,
           18989,
           36999,
           12990,
           13999,
           13500,
           19490,
           17499,
           38999,
           29999,
           15999,
           16999,
           17998,
           79999,
           26999,
           20999,
           25999,
           25999,
           17706,
           21999,
           15999,
           16999,
           22999,
           20499,
           9499,
           19999,
           25999,
           25999,
           20999,
           22999,
           20999,
           22999,
           25999,
           27999,
           27999,
           89999,
           49999,
           74999,
           74999,
           69999,
           11999,
           99999,
           18999,
           12999,
           15999,
           12999,
           16099,
           12999,
           15999,
           32999,
           32999,
           32999,
           36999,
           36999,
           14499,
           40999,
           29440,
           12999,
           37999,
           37999,
           54999,
           27999,
           29999,
           32999,
           37999,
           39999,
           37999,
           39999,
           49999,
           54999,
           49999,
           54999,
           11499,
           40999,
           9499,
           38999,
           38999,
           16999,
           13699,
           32999,
           12799,
           32999,
           6990,
           8909,
           12499,
           8114,
           7699,
           8067,
           7899,
           9990,
           9990,
           11499,
           11499,
           11499,
           13499,
           11248,
           18499,
           15499,
           18499,
           20999,
           16999,
           19999,
           14499,
           24498,
           14363,
           19999,
           14973,
           18990,
           15499,
           19999,
           18499,
           16790,
           16999,
           16798,
           22990,
           21042,
           25999,
           25999,
           28999,
           24491,
           28999,
           13599,
           27990,
           31999,
           28999,
           31990,
           27999,
           33999,
           45999,
           34599,
           6499,
           14999,
           10499,
           11499,
           10499,
           11499,
           10499,
           10999,
           9299,
           13490,
           13499,
           13499,
           13499,
           18499,
           21999,
           31999,
           23999,
           26999,
           19498,
           9890,
           24000,
           16499,
           8848,
           8450,
           12999,
           12990,
           12970,
           17999,
           1390,
           14497,
           21026,
           14534,
           22399,
           14482,
           20985,
           7999,
           27820,
           95900,
           49999,
           34999,
           37999,
           74999,
           89999,
           81999,
           64999,
           70999,
           82999,
           59999,
           49859,
           59999,
           49795,
           43999,
           144999,
           62999,
           80999,
           92999,
           80999,
           92999,
           80999,
           79149,
           111999,
           99999,
           129999,
           141999,
           79999,
           96999,
           104999,
           96999,
           97999,
           6967,
           12898,
           12715,
           14060,
           12748,
           16890,
           45999,
           34990,
           11499,
           45999,
           34990,
           9999,
           12999,
           17999,
           16999,
           19999,
           22999,
           19999,
           20999,
           21999,
           22999,
           21999,
           23999,
           21999,
           23999,
           20999,
           21999,
           20999,
           21999,
           13499,
           13499,
           13499,
           17999,
           17999,
           19999,
           23999,
           26999,
           21999,
           23999,
           24390,
           21999,
           23999,
           26999,
           26999,
           25999,
           26999,
           28999,
           22999,
           24999,
           22999,
           26999,
           26999,
           24999,
           24999,
           26999,
           29999,
           14999,
           14999,
           14999,
           17999,
           16198,
           16445,
           20990,
           15027,
           20990,
           13499,
           11499,
           13499,
           11499,
           8574,
           8999,
           9999,
           8999,
           8999,
           9499,
           8999,
           11999,
           10999,
           7864,
           7699,
           7699,
           8499,
           8499,
           11299,
           11395,
           12999,
           10999,
           11498,
           11178,
           10499,
           12999,
           11499,
           14999,
           14999,
           21999,
           29999,
           29999,
           37999,
           37999,
           33999,
           37999,
           25280,
           27418,
           29995,
           30999,
           29490,
           32893,
           59999,
           59999,
           11499,
           11490,
           11650,
           11499,
           10999,
           7613,
           10560,
           7990,
           8493,
           8599,
           8990,
           12115,
           10399,
           12140,
           15999,
           18999,
           15999,
           18999,
           15999,
           18999,
           15999,
           17999,
           15999,
           17999,
           17999,
           20999,
           20999,
           18999,
           21890,
           15199,
           20990,
           22450,
           14499,
           14499,
           16990,
           21990,
           24999,
           17999,
           15999,
           23999,
           12999,
           12999,
           15599,
           12999,
           11999,
           18499,
           20499,
           18499,
           20499,
           11499,
           10499,
           22999,
           24999,
           22999,
           24999,
           29999,
           33999,
           29999,
           33999,
           13999,
           13999,
           13999,
           13990,
           26999,
           10449,
           38990,
           27999,
           9999,
           35999,
           35999,
           14499,
           32999,
           19490,
           16499,
           35140,
           32999,
           39999,
           29790,
           34999,
           29945,
           34999,
           39999,
           34999,
           25499,
           27999,
           24790,
           34999,
           36999,
           41999,
           34999,
           36999,
           42999,
           34999,
           36999,
           41999,
           49999,
           55999,
           49999,
           55999,
           26999,
           28999,
           26999,
           28999,
           34999,
           36999,
           40999,
           36999,
           40999,
           34999,
           36999,
           65999,
           65999,
           29775,
           49990,
           59999,
           42990,
           50499,
           7999,
           7999,
           23999,
           21999,
           21999,
           10990,
           11990,
           36999,
           9799,
           9499,
           8899,
           9597,
           31780,
           10005,
           64995,
           11899,
           14999,
           8399,
           7999,
           7999,
           8499,
           9499,
           23999,
           23299,
           23490,
           23299,
           24999,
           24999,
           15490,
           29800,
           19490,
           8790,
           43990,
           19985,
           15499,
           15499,
           14499,
           13499,
           14499,
           12499,
           12816,
           13999,
           12999,
           12999,
           12390,
           10449,
           11900,
           9850,
           10999,
           10999,
           12590,
           11999,
           11499,
           11499,
           14441,
           12999,
           15499,
           18999,
           13999,
           18999,
           21999,
           23999,
           21999,
           23999,
           21999,
           23999,
           23999,
           13999,
           14999,
           14999,
           17999,
           17999,
           16332,
           16695,
           9499,
           84237.0803159217,
           40067.420354884154,
           62832.497713788434,
           23137.077079496095,
           31056.57902465635
          ]
         },
         "name": "",
         "parents": [
          "Apple",
          "Apple",
          "Apple",
          "Apple",
          "Apple",
          "Apple",
          "Apple",
          "Apple",
          "Apple",
          "Apple",
          "Apple",
          "Apple",
          "Apple",
          "Apple",
          "Apple",
          "Apple",
          "Apple",
          "Apple",
          "Apple",
          "Apple",
          "Apple",
          "Apple",
          "Apple",
          "Apple",
          "Apple",
          "Apple",
          "Apple",
          "Apple",
          "Apple",
          "Apple",
          "Apple",
          "Apple",
          "Apple",
          "Apple",
          "Apple",
          "Apple",
          "Apple",
          "Apple",
          "Apple",
          "Apple",
          "Apple",
          "Apple",
          "Apple",
          "Apple",
          "OPPO",
          "OPPO",
          "OPPO",
          "OPPO",
          "OPPO",
          "OPPO",
          "OPPO",
          "OPPO",
          "OPPO",
          "OPPO",
          "OPPO",
          "OPPO",
          "OPPO",
          "OPPO",
          "OPPO",
          "OPPO",
          "OPPO",
          "OPPO",
          "OPPO",
          "OPPO",
          "OPPO",
          "OPPO",
          "OPPO",
          "OPPO",
          "OPPO",
          "OPPO",
          "OPPO",
          "OPPO",
          "OPPO",
          "OPPO",
          "OPPO",
          "OPPO",
          "OPPO",
          "OPPO",
          "OPPO",
          "OPPO",
          "OPPO",
          "OPPO",
          "OPPO",
          "OPPO",
          "OPPO",
          "OPPO",
          "OPPO",
          "OPPO",
          "OPPO",
          "OPPO",
          "OPPO",
          "OPPO",
          "OPPO",
          "OPPO",
          "OPPO",
          "OPPO",
          "OPPO",
          "OPPO",
          "OPPO",
          "OPPO",
          "OPPO",
          "OPPO",
          "OPPO",
          "OPPO",
          "OPPO",
          "OPPO",
          "OPPO",
          "OPPO",
          "OPPO",
          "OPPO",
          "OPPO",
          "OPPO",
          "OPPO",
          "OPPO",
          "OPPO",
          "OPPO",
          "OPPO",
          "OPPO",
          "OPPO",
          "OPPO",
          "OPPO",
          "OPPO",
          "OPPO",
          "OPPO",
          "OPPO",
          "OPPO",
          "OPPO",
          "OPPO",
          "OPPO",
          "OPPO",
          "OPPO",
          "OPPO",
          "OPPO",
          "OPPO",
          "OPPO",
          "OPPO",
          "OPPO",
          "OPPO",
          "Samsung",
          "Samsung",
          "Samsung",
          "Samsung",
          "Samsung",
          "Samsung",
          "Samsung",
          "Samsung",
          "Samsung",
          "Samsung",
          "Samsung",
          "Samsung",
          "Samsung",
          "Samsung",
          "Samsung",
          "Samsung",
          "Samsung",
          "Samsung",
          "Samsung",
          "Samsung",
          "Samsung",
          "Samsung",
          "Samsung",
          "Samsung",
          "Samsung",
          "Samsung",
          "Samsung",
          "Samsung",
          "Samsung",
          "Samsung",
          "Samsung",
          "Samsung",
          "Samsung",
          "Samsung",
          "Samsung",
          "Samsung",
          "Samsung",
          "Samsung",
          "Samsung",
          "Samsung",
          "Samsung",
          "Samsung",
          "Samsung",
          "Samsung",
          "Samsung",
          "Samsung",
          "Samsung",
          "Samsung",
          "Samsung",
          "Samsung",
          "Samsung",
          "Samsung",
          "Samsung",
          "Samsung",
          "Samsung",
          "Samsung",
          "Samsung",
          "Samsung",
          "Samsung",
          "Samsung",
          "Samsung",
          "Samsung",
          "Samsung",
          "Samsung",
          "Samsung",
          "Samsung",
          "Samsung",
          "Samsung",
          "Samsung",
          "Samsung",
          "Samsung",
          "Samsung",
          "Samsung",
          "Samsung",
          "Samsung",
          "Samsung",
          "Samsung",
          "Samsung",
          "Samsung",
          "Samsung",
          "Samsung",
          "Samsung",
          "Samsung",
          "Samsung",
          "Samsung",
          "Samsung",
          "Samsung",
          "Samsung",
          "Samsung",
          "Samsung",
          "Samsung",
          "Samsung",
          "Samsung",
          "Samsung",
          "Samsung",
          "Samsung",
          "Samsung",
          "Samsung",
          "Samsung",
          "Samsung",
          "Samsung",
          "Samsung",
          "Samsung",
          "Samsung",
          "Samsung",
          "Samsung",
          "Samsung",
          "Samsung",
          "Samsung",
          "Samsung",
          "Samsung",
          "Samsung",
          "Samsung",
          "Samsung",
          "Samsung",
          "Samsung",
          "Samsung",
          "Samsung",
          "Samsung",
          "Samsung",
          "Samsung",
          "Samsung",
          "Samsung",
          "Samsung",
          "Samsung",
          "Samsung",
          "Samsung",
          "Samsung",
          "Samsung",
          "Samsung",
          "Samsung",
          "Samsung",
          "Samsung",
          "realme",
          "realme",
          "realme",
          "realme",
          "realme",
          "realme",
          "realme",
          "realme",
          "realme",
          "realme",
          "realme",
          "realme",
          "realme",
          "realme",
          "realme",
          "realme",
          "realme",
          "realme",
          "realme",
          "realme",
          "realme",
          "realme",
          "realme",
          "realme",
          "realme",
          "realme",
          "realme",
          "realme",
          "realme",
          "realme",
          "realme",
          "realme",
          "realme",
          "realme",
          "realme",
          "realme",
          "realme",
          "realme",
          "realme",
          "realme",
          "realme",
          "realme",
          "realme",
          "realme",
          "realme",
          "realme",
          "realme",
          "realme",
          "realme",
          "realme",
          "realme",
          "realme",
          "realme",
          "realme",
          "realme",
          "realme",
          "realme",
          "realme",
          "realme",
          "realme",
          "realme",
          "realme",
          "realme",
          "realme",
          "realme",
          "realme",
          "realme",
          "realme",
          "realme",
          "realme",
          "realme",
          "realme",
          "realme",
          "realme",
          "realme",
          "realme",
          "realme",
          "realme",
          "realme",
          "realme",
          "realme",
          "realme",
          "realme",
          "realme",
          "realme",
          "realme",
          "realme",
          "realme",
          "realme",
          "realme",
          "realme",
          "realme",
          "realme",
          "realme",
          "realme",
          "realme",
          "realme",
          "realme",
          "realme",
          "realme",
          "realme",
          "realme",
          "realme",
          "realme",
          "realme",
          "realme",
          "realme",
          "realme",
          "realme",
          "realme",
          "realme",
          "realme",
          "realme",
          "realme",
          "realme",
          "realme",
          "realme",
          "realme",
          "realme",
          "realme",
          "realme",
          "realme",
          "realme",
          "realme",
          "realme",
          "realme",
          "realme",
          "realme",
          "realme",
          "realme",
          "vivo",
          "vivo",
          "vivo",
          "vivo",
          "vivo",
          "vivo",
          "vivo",
          "vivo",
          "vivo",
          "vivo",
          "vivo",
          "vivo",
          "vivo",
          "vivo",
          "vivo",
          "vivo",
          "vivo",
          "vivo",
          "vivo",
          "vivo",
          "vivo",
          "vivo",
          "vivo",
          "vivo",
          "vivo",
          "vivo",
          "vivo",
          "vivo",
          "vivo",
          "vivo",
          "vivo",
          "vivo",
          "vivo",
          "vivo",
          "vivo",
          "vivo",
          "vivo",
          "vivo",
          "vivo",
          "vivo",
          "vivo",
          "vivo",
          "vivo",
          "vivo",
          "vivo",
          "vivo",
          "vivo",
          "vivo",
          "vivo",
          "vivo",
          "vivo",
          "vivo",
          "vivo",
          "vivo",
          "vivo",
          "vivo",
          "vivo",
          "vivo",
          "vivo",
          "vivo",
          "vivo",
          "vivo",
          "vivo",
          "vivo",
          "vivo",
          "vivo",
          "vivo",
          "vivo",
          "vivo",
          "vivo",
          "vivo",
          "vivo",
          "vivo",
          "vivo",
          "vivo",
          "vivo",
          "vivo",
          "vivo",
          "vivo",
          "vivo",
          "vivo",
          "vivo",
          "vivo",
          "vivo",
          "vivo",
          "vivo",
          "vivo",
          "vivo",
          "vivo",
          "vivo",
          "vivo",
          "vivo",
          "vivo",
          "vivo",
          "vivo",
          "vivo",
          "vivo",
          "vivo",
          "vivo",
          "vivo",
          "vivo",
          "vivo",
          "vivo",
          "vivo",
          "vivo",
          "vivo",
          "vivo",
          "vivo",
          "vivo",
          "vivo",
          "vivo",
          "vivo",
          "vivo",
          "vivo",
          "vivo",
          "vivo",
          "vivo",
          "vivo",
          "vivo",
          "vivo",
          "vivo",
          "vivo",
          "vivo",
          "vivo",
          "vivo",
          "vivo",
          "vivo",
          "vivo",
          "vivo",
          "vivo",
          "vivo",
          "vivo",
          "vivo",
          "vivo",
          "vivo",
          "vivo",
          "vivo",
          "vivo",
          "vivo",
          "vivo",
          "vivo",
          "vivo",
          "vivo",
          "vivo",
          "vivo",
          "vivo",
          "vivo",
          "vivo",
          "vivo",
          "vivo",
          "vivo",
          "vivo",
          "vivo",
          "vivo",
          "vivo",
          "vivo",
          "vivo",
          "vivo",
          "vivo",
          "vivo",
          "",
          "",
          "",
          "",
          ""
         ],
         "type": "treemap",
         "values": [
          48900,
          43900,
          48900,
          43900,
          49900,
          106600,
          54900,
          48900,
          48900,
          59900,
          74900,
          44999,
          54999,
          54999,
          74999,
          54999,
          159900,
          49900,
          74900,
          64900,
          74900,
          54999,
          69900,
          79900,
          164900,
          64999,
          164900,
          25000,
          34900,
          31500,
          77000,
          39900,
          84900,
          49900,
          52600,
          52900,
          47900,
          47900,
          45499,
          91900,
          103900,
          89900,
          103900,
          109900,
          31999,
          17999,
          23999,
          14999,
          13999,
          17999,
          19999,
          17999,
          19999,
          15999,
          27525,
          12999,
          9999,
          9999,
          9999,
          12499,
          20999,
          11499,
          18989,
          36999,
          12990,
          13999,
          13500,
          19490,
          17499,
          38999,
          29999,
          15999,
          16999,
          17998,
          79999,
          26999,
          20999,
          25999,
          25999,
          17706,
          21999,
          15999,
          16999,
          22999,
          20499,
          9499,
          19999,
          25999,
          25999,
          20999,
          22999,
          20999,
          22999,
          25999,
          27999,
          27999,
          89999,
          49999,
          74999,
          74999,
          69999,
          11999,
          99999,
          18999,
          12999,
          15999,
          12999,
          16099,
          12999,
          15999,
          32999,
          32999,
          32999,
          36999,
          36999,
          14499,
          40999,
          29440,
          12999,
          37999,
          37999,
          54999,
          27999,
          29999,
          32999,
          37999,
          39999,
          37999,
          39999,
          49999,
          54999,
          49999,
          54999,
          11499,
          40999,
          9499,
          38999,
          38999,
          16999,
          13699,
          32999,
          12799,
          32999,
          6990,
          8909,
          12499,
          8114,
          7699,
          8067,
          7899,
          9990,
          9990,
          11499,
          11499,
          11499,
          13499,
          11248,
          18499,
          15499,
          18499,
          20999,
          16999,
          19999,
          14499,
          24498,
          14363,
          19999,
          14973,
          18990,
          15499,
          19999,
          18499,
          16790,
          16999,
          16798,
          22990,
          21042,
          25999,
          25999,
          28999,
          24491,
          28999,
          13599,
          27990,
          31999,
          28999,
          31990,
          27999,
          33999,
          45999,
          34599,
          6499,
          14999,
          10499,
          11499,
          10499,
          11499,
          10499,
          10999,
          9299,
          13490,
          13499,
          13499,
          13499,
          18499,
          21999,
          31999,
          23999,
          26999,
          19498,
          9890,
          24000,
          16499,
          8848,
          8450,
          12999,
          12990,
          12970,
          17999,
          1390,
          14497,
          21026,
          14534,
          22399,
          14482,
          20985,
          7999,
          27820,
          95900,
          49999,
          34999,
          37999,
          74999,
          89999,
          81999,
          64999,
          70999,
          82999,
          59999,
          49859,
          59999,
          49795,
          43999,
          144999,
          62999,
          80999,
          92999,
          80999,
          92999,
          80999,
          79149,
          111999,
          99999,
          129999,
          141999,
          79999,
          96999,
          104999,
          96999,
          97999,
          6967,
          12898,
          12715,
          14060,
          12748,
          16890,
          45999,
          34990,
          11499,
          45999,
          34990,
          9999,
          12999,
          17999,
          16999,
          19999,
          22999,
          19999,
          20999,
          21999,
          22999,
          21999,
          23999,
          21999,
          23999,
          20999,
          21999,
          20999,
          21999,
          13499,
          13499,
          13499,
          17999,
          17999,
          19999,
          23999,
          26999,
          21999,
          23999,
          24390,
          21999,
          23999,
          26999,
          26999,
          25999,
          26999,
          28999,
          22999,
          24999,
          22999,
          26999,
          26999,
          24999,
          24999,
          26999,
          29999,
          14999,
          14999,
          14999,
          17999,
          16198,
          16445,
          20990,
          15027,
          20990,
          13499,
          11499,
          13499,
          11499,
          8574,
          8999,
          9999,
          8999,
          8999,
          9499,
          8999,
          11999,
          10999,
          7864,
          7699,
          7699,
          8499,
          8499,
          11299,
          11395,
          12999,
          10999,
          11498,
          11178,
          10499,
          12999,
          11499,
          14999,
          14999,
          21999,
          29999,
          29999,
          37999,
          37999,
          33999,
          37999,
          25280,
          27418,
          29995,
          30999,
          29490,
          32893,
          59999,
          59999,
          11499,
          11490,
          11650,
          11499,
          10999,
          7613,
          10560,
          7990,
          8493,
          8599,
          8990,
          12115,
          10399,
          12140,
          15999,
          18999,
          15999,
          18999,
          15999,
          18999,
          15999,
          17999,
          15999,
          17999,
          17999,
          20999,
          20999,
          18999,
          21890,
          15199,
          20990,
          22450,
          14499,
          14499,
          16990,
          21990,
          24999,
          17999,
          15999,
          23999,
          12999,
          12999,
          15599,
          12999,
          11999,
          18499,
          20499,
          18499,
          20499,
          11499,
          10499,
          22999,
          24999,
          22999,
          24999,
          29999,
          33999,
          29999,
          33999,
          13999,
          13999,
          13999,
          13990,
          26999,
          10449,
          38990,
          27999,
          9999,
          35999,
          35999,
          14499,
          32999,
          19490,
          16499,
          35140,
          32999,
          39999,
          29790,
          34999,
          29945,
          34999,
          39999,
          34999,
          25499,
          27999,
          24790,
          34999,
          36999,
          41999,
          34999,
          36999,
          42999,
          34999,
          36999,
          41999,
          49999,
          55999,
          49999,
          55999,
          26999,
          28999,
          26999,
          28999,
          34999,
          36999,
          40999,
          36999,
          40999,
          34999,
          36999,
          65999,
          65999,
          29775,
          49990,
          59999,
          42990,
          50499,
          7999,
          7999,
          23999,
          21999,
          21999,
          10990,
          11990,
          36999,
          9799,
          9499,
          8899,
          9597,
          31780,
          10005,
          64995,
          11899,
          14999,
          8399,
          7999,
          7999,
          8499,
          9499,
          23999,
          23299,
          23490,
          23299,
          24999,
          24999,
          15490,
          29800,
          19490,
          8790,
          43990,
          19985,
          15499,
          15499,
          14499,
          13499,
          14499,
          12499,
          12816,
          13999,
          12999,
          12999,
          12390,
          10449,
          11900,
          9850,
          10999,
          10999,
          12590,
          11999,
          11499,
          11499,
          14441,
          12999,
          15499,
          18999,
          13999,
          18999,
          21999,
          23999,
          21999,
          23999,
          21999,
          23999,
          23999,
          13999,
          14999,
          14999,
          17999,
          17999,
          16332,
          16695,
          9499,
          3028092,
          2688652,
          4465466,
          2463794,
          3825749
         ]
        }
       ],
       "layout": {
        "coloraxis": {
         "colorbar": {
          "title": {
           "text": "price"
          }
         },
         "colorscale": [
          [
           0,
           "#440154"
          ],
          [
           0.1111111111111111,
           "#482878"
          ],
          [
           0.2222222222222222,
           "#3e4989"
          ],
          [
           0.3333333333333333,
           "#31688e"
          ],
          [
           0.4444444444444444,
           "#26828e"
          ],
          [
           0.5555555555555556,
           "#1f9e89"
          ],
          [
           0.6666666666666666,
           "#35b779"
          ],
          [
           0.7777777777777778,
           "#6ece58"
          ],
          [
           0.8888888888888888,
           "#b5de2b"
          ],
          [
           1,
           "#fde725"
          ]
         ]
        },
        "legend": {
         "tracegroupgap": 0
        },
        "template": {
         "data": {
          "bar": [
           {
            "error_x": {
             "color": "#2a3f5f"
            },
            "error_y": {
             "color": "#2a3f5f"
            },
            "marker": {
             "line": {
              "color": "#E5ECF6",
              "width": 0.5
             },
             "pattern": {
              "fillmode": "overlay",
              "size": 10,
              "solidity": 0.2
             }
            },
            "type": "bar"
           }
          ],
          "barpolar": [
           {
            "marker": {
             "line": {
              "color": "#E5ECF6",
              "width": 0.5
             },
             "pattern": {
              "fillmode": "overlay",
              "size": 10,
              "solidity": 0.2
             }
            },
            "type": "barpolar"
           }
          ],
          "carpet": [
           {
            "aaxis": {
             "endlinecolor": "#2a3f5f",
             "gridcolor": "white",
             "linecolor": "white",
             "minorgridcolor": "white",
             "startlinecolor": "#2a3f5f"
            },
            "baxis": {
             "endlinecolor": "#2a3f5f",
             "gridcolor": "white",
             "linecolor": "white",
             "minorgridcolor": "white",
             "startlinecolor": "#2a3f5f"
            },
            "type": "carpet"
           }
          ],
          "choropleth": [
           {
            "colorbar": {
             "outlinewidth": 0,
             "ticks": ""
            },
            "type": "choropleth"
           }
          ],
          "contour": [
           {
            "colorbar": {
             "outlinewidth": 0,
             "ticks": ""
            },
            "colorscale": [
             [
              0,
              "#0d0887"
             ],
             [
              0.1111111111111111,
              "#46039f"
             ],
             [
              0.2222222222222222,
              "#7201a8"
             ],
             [
              0.3333333333333333,
              "#9c179e"
             ],
             [
              0.4444444444444444,
              "#bd3786"
             ],
             [
              0.5555555555555556,
              "#d8576b"
             ],
             [
              0.6666666666666666,
              "#ed7953"
             ],
             [
              0.7777777777777778,
              "#fb9f3a"
             ],
             [
              0.8888888888888888,
              "#fdca26"
             ],
             [
              1,
              "#f0f921"
             ]
            ],
            "type": "contour"
           }
          ],
          "contourcarpet": [
           {
            "colorbar": {
             "outlinewidth": 0,
             "ticks": ""
            },
            "type": "contourcarpet"
           }
          ],
          "heatmap": [
           {
            "colorbar": {
             "outlinewidth": 0,
             "ticks": ""
            },
            "colorscale": [
             [
              0,
              "#0d0887"
             ],
             [
              0.1111111111111111,
              "#46039f"
             ],
             [
              0.2222222222222222,
              "#7201a8"
             ],
             [
              0.3333333333333333,
              "#9c179e"
             ],
             [
              0.4444444444444444,
              "#bd3786"
             ],
             [
              0.5555555555555556,
              "#d8576b"
             ],
             [
              0.6666666666666666,
              "#ed7953"
             ],
             [
              0.7777777777777778,
              "#fb9f3a"
             ],
             [
              0.8888888888888888,
              "#fdca26"
             ],
             [
              1,
              "#f0f921"
             ]
            ],
            "type": "heatmap"
           }
          ],
          "heatmapgl": [
           {
            "colorbar": {
             "outlinewidth": 0,
             "ticks": ""
            },
            "colorscale": [
             [
              0,
              "#0d0887"
             ],
             [
              0.1111111111111111,
              "#46039f"
             ],
             [
              0.2222222222222222,
              "#7201a8"
             ],
             [
              0.3333333333333333,
              "#9c179e"
             ],
             [
              0.4444444444444444,
              "#bd3786"
             ],
             [
              0.5555555555555556,
              "#d8576b"
             ],
             [
              0.6666666666666666,
              "#ed7953"
             ],
             [
              0.7777777777777778,
              "#fb9f3a"
             ],
             [
              0.8888888888888888,
              "#fdca26"
             ],
             [
              1,
              "#f0f921"
             ]
            ],
            "type": "heatmapgl"
           }
          ],
          "histogram": [
           {
            "marker": {
             "pattern": {
              "fillmode": "overlay",
              "size": 10,
              "solidity": 0.2
             }
            },
            "type": "histogram"
           }
          ],
          "histogram2d": [
           {
            "colorbar": {
             "outlinewidth": 0,
             "ticks": ""
            },
            "colorscale": [
             [
              0,
              "#0d0887"
             ],
             [
              0.1111111111111111,
              "#46039f"
             ],
             [
              0.2222222222222222,
              "#7201a8"
             ],
             [
              0.3333333333333333,
              "#9c179e"
             ],
             [
              0.4444444444444444,
              "#bd3786"
             ],
             [
              0.5555555555555556,
              "#d8576b"
             ],
             [
              0.6666666666666666,
              "#ed7953"
             ],
             [
              0.7777777777777778,
              "#fb9f3a"
             ],
             [
              0.8888888888888888,
              "#fdca26"
             ],
             [
              1,
              "#f0f921"
             ]
            ],
            "type": "histogram2d"
           }
          ],
          "histogram2dcontour": [
           {
            "colorbar": {
             "outlinewidth": 0,
             "ticks": ""
            },
            "colorscale": [
             [
              0,
              "#0d0887"
             ],
             [
              0.1111111111111111,
              "#46039f"
             ],
             [
              0.2222222222222222,
              "#7201a8"
             ],
             [
              0.3333333333333333,
              "#9c179e"
             ],
             [
              0.4444444444444444,
              "#bd3786"
             ],
             [
              0.5555555555555556,
              "#d8576b"
             ],
             [
              0.6666666666666666,
              "#ed7953"
             ],
             [
              0.7777777777777778,
              "#fb9f3a"
             ],
             [
              0.8888888888888888,
              "#fdca26"
             ],
             [
              1,
              "#f0f921"
             ]
            ],
            "type": "histogram2dcontour"
           }
          ],
          "mesh3d": [
           {
            "colorbar": {
             "outlinewidth": 0,
             "ticks": ""
            },
            "type": "mesh3d"
           }
          ],
          "parcoords": [
           {
            "line": {
             "colorbar": {
              "outlinewidth": 0,
              "ticks": ""
             }
            },
            "type": "parcoords"
           }
          ],
          "pie": [
           {
            "automargin": true,
            "type": "pie"
           }
          ],
          "scatter": [
           {
            "fillpattern": {
             "fillmode": "overlay",
             "size": 10,
             "solidity": 0.2
            },
            "type": "scatter"
           }
          ],
          "scatter3d": [
           {
            "line": {
             "colorbar": {
              "outlinewidth": 0,
              "ticks": ""
             }
            },
            "marker": {
             "colorbar": {
              "outlinewidth": 0,
              "ticks": ""
             }
            },
            "type": "scatter3d"
           }
          ],
          "scattercarpet": [
           {
            "marker": {
             "colorbar": {
              "outlinewidth": 0,
              "ticks": ""
             }
            },
            "type": "scattercarpet"
           }
          ],
          "scattergeo": [
           {
            "marker": {
             "colorbar": {
              "outlinewidth": 0,
              "ticks": ""
             }
            },
            "type": "scattergeo"
           }
          ],
          "scattergl": [
           {
            "marker": {
             "colorbar": {
              "outlinewidth": 0,
              "ticks": ""
             }
            },
            "type": "scattergl"
           }
          ],
          "scattermapbox": [
           {
            "marker": {
             "colorbar": {
              "outlinewidth": 0,
              "ticks": ""
             }
            },
            "type": "scattermapbox"
           }
          ],
          "scatterpolar": [
           {
            "marker": {
             "colorbar": {
              "outlinewidth": 0,
              "ticks": ""
             }
            },
            "type": "scatterpolar"
           }
          ],
          "scatterpolargl": [
           {
            "marker": {
             "colorbar": {
              "outlinewidth": 0,
              "ticks": ""
             }
            },
            "type": "scatterpolargl"
           }
          ],
          "scatterternary": [
           {
            "marker": {
             "colorbar": {
              "outlinewidth": 0,
              "ticks": ""
             }
            },
            "type": "scatterternary"
           }
          ],
          "surface": [
           {
            "colorbar": {
             "outlinewidth": 0,
             "ticks": ""
            },
            "colorscale": [
             [
              0,
              "#0d0887"
             ],
             [
              0.1111111111111111,
              "#46039f"
             ],
             [
              0.2222222222222222,
              "#7201a8"
             ],
             [
              0.3333333333333333,
              "#9c179e"
             ],
             [
              0.4444444444444444,
              "#bd3786"
             ],
             [
              0.5555555555555556,
              "#d8576b"
             ],
             [
              0.6666666666666666,
              "#ed7953"
             ],
             [
              0.7777777777777778,
              "#fb9f3a"
             ],
             [
              0.8888888888888888,
              "#fdca26"
             ],
             [
              1,
              "#f0f921"
             ]
            ],
            "type": "surface"
           }
          ],
          "table": [
           {
            "cells": {
             "fill": {
              "color": "#EBF0F8"
             },
             "line": {
              "color": "white"
             }
            },
            "header": {
             "fill": {
              "color": "#C8D4E3"
             },
             "line": {
              "color": "white"
             }
            },
            "type": "table"
           }
          ]
         },
         "layout": {
          "annotationdefaults": {
           "arrowcolor": "#2a3f5f",
           "arrowhead": 0,
           "arrowwidth": 1
          },
          "autotypenumbers": "strict",
          "coloraxis": {
           "colorbar": {
            "outlinewidth": 0,
            "ticks": ""
           }
          },
          "colorscale": {
           "diverging": [
            [
             0,
             "#8e0152"
            ],
            [
             0.1,
             "#c51b7d"
            ],
            [
             0.2,
             "#de77ae"
            ],
            [
             0.3,
             "#f1b6da"
            ],
            [
             0.4,
             "#fde0ef"
            ],
            [
             0.5,
             "#f7f7f7"
            ],
            [
             0.6,
             "#e6f5d0"
            ],
            [
             0.7,
             "#b8e186"
            ],
            [
             0.8,
             "#7fbc41"
            ],
            [
             0.9,
             "#4d9221"
            ],
            [
             1,
             "#276419"
            ]
           ],
           "sequential": [
            [
             0,
             "#0d0887"
            ],
            [
             0.1111111111111111,
             "#46039f"
            ],
            [
             0.2222222222222222,
             "#7201a8"
            ],
            [
             0.3333333333333333,
             "#9c179e"
            ],
            [
             0.4444444444444444,
             "#bd3786"
            ],
            [
             0.5555555555555556,
             "#d8576b"
            ],
            [
             0.6666666666666666,
             "#ed7953"
            ],
            [
             0.7777777777777778,
             "#fb9f3a"
            ],
            [
             0.8888888888888888,
             "#fdca26"
            ],
            [
             1,
             "#f0f921"
            ]
           ],
           "sequentialminus": [
            [
             0,
             "#0d0887"
            ],
            [
             0.1111111111111111,
             "#46039f"
            ],
            [
             0.2222222222222222,
             "#7201a8"
            ],
            [
             0.3333333333333333,
             "#9c179e"
            ],
            [
             0.4444444444444444,
             "#bd3786"
            ],
            [
             0.5555555555555556,
             "#d8576b"
            ],
            [
             0.6666666666666666,
             "#ed7953"
            ],
            [
             0.7777777777777778,
             "#fb9f3a"
            ],
            [
             0.8888888888888888,
             "#fdca26"
            ],
            [
             1,
             "#f0f921"
            ]
           ]
          },
          "colorway": [
           "#636efa",
           "#EF553B",
           "#00cc96",
           "#ab63fa",
           "#FFA15A",
           "#19d3f3",
           "#FF6692",
           "#B6E880",
           "#FF97FF",
           "#FECB52"
          ],
          "font": {
           "color": "#2a3f5f"
          },
          "geo": {
           "bgcolor": "white",
           "lakecolor": "white",
           "landcolor": "#E5ECF6",
           "showlakes": true,
           "showland": true,
           "subunitcolor": "white"
          },
          "hoverlabel": {
           "align": "left"
          },
          "hovermode": "closest",
          "mapbox": {
           "style": "light"
          },
          "paper_bgcolor": "white",
          "plot_bgcolor": "#E5ECF6",
          "polar": {
           "angularaxis": {
            "gridcolor": "white",
            "linecolor": "white",
            "ticks": ""
           },
           "bgcolor": "#E5ECF6",
           "radialaxis": {
            "gridcolor": "white",
            "linecolor": "white",
            "ticks": ""
           }
          },
          "scene": {
           "xaxis": {
            "backgroundcolor": "#E5ECF6",
            "gridcolor": "white",
            "gridwidth": 2,
            "linecolor": "white",
            "showbackground": true,
            "ticks": "",
            "zerolinecolor": "white"
           },
           "yaxis": {
            "backgroundcolor": "#E5ECF6",
            "gridcolor": "white",
            "gridwidth": 2,
            "linecolor": "white",
            "showbackground": true,
            "ticks": "",
            "zerolinecolor": "white"
           },
           "zaxis": {
            "backgroundcolor": "#E5ECF6",
            "gridcolor": "white",
            "gridwidth": 2,
            "linecolor": "white",
            "showbackground": true,
            "ticks": "",
            "zerolinecolor": "white"
           }
          },
          "shapedefaults": {
           "line": {
            "color": "#2a3f5f"
           }
          },
          "ternary": {
           "aaxis": {
            "gridcolor": "white",
            "linecolor": "white",
            "ticks": ""
           },
           "baxis": {
            "gridcolor": "white",
            "linecolor": "white",
            "ticks": ""
           },
           "bgcolor": "#E5ECF6",
           "caxis": {
            "gridcolor": "white",
            "linecolor": "white",
            "ticks": ""
           }
          },
          "title": {
           "x": 0.05
          },
          "xaxis": {
           "automargin": true,
           "gridcolor": "white",
           "linecolor": "white",
           "ticks": "",
           "title": {
            "standoff": 15
           },
           "zerolinecolor": "white",
           "zerolinewidth": 2
          },
          "yaxis": {
           "automargin": true,
           "gridcolor": "white",
           "linecolor": "white",
           "ticks": "",
           "title": {
            "standoff": 15
           },
           "zerolinecolor": "white",
           "zerolinewidth": 2
          }
         }
        },
        "title": {
         "text": "Treemap of Mobile Prices by Brand"
        }
       }
      }
     },
     "metadata": {},
     "output_type": "display_data"
    }
   ],
   "source": [
    "import plotly.express as px\n",
    "\n",
    "fig = px.treemap(df_combined, \n",
    "                 path=[\"brand\", \"product_name\"], \n",
    "                 values=\"price\",\n",
    "                 title=\"Treemap of Mobile Prices by Brand\",\n",
    "                 color=\"price\",\n",
    "                 color_continuous_scale=\"viridis\")\n",
    "\n",
    "fig.show()\n"
   ]
  },
  {
   "cell_type": "code",
   "execution_count": 33,
   "metadata": {},
   "outputs": [
    {
     "data": {
      "application/vnd.plotly.v1+json": {
       "config": {
        "plotlyServerURL": "https://plot.ly"
       },
       "data": [
        {
         "alignmentgroup": "True",
         "hovertemplate": "type=Android<br>brand=%{x}<br>Average Price (INR)=%{y}<extra></extra>",
         "legendgroup": "Android",
         "marker": {
          "color": "blue",
          "pattern": {
           "shape": ""
          }
         },
         "name": "Android",
         "offsetgroup": "Android",
         "orientation": "v",
         "showlegend": true,
         "textposition": "auto",
         "type": "bar",
         "x": [
          "OPPO",
          "Samsung",
          "realme",
          "vivo"
         ],
         "xaxis": "x",
         "y": [
          28602.68085106383,
          33574.93233082707,
          18952.26153846154,
          23910.93125
         ],
         "yaxis": "y"
        },
        {
         "alignmentgroup": "True",
         "hovertemplate": "type=Iphone<br>brand=%{x}<br>Average Price (INR)=%{y}<extra></extra>",
         "legendgroup": "Iphone",
         "marker": {
          "color": "#00cc96",
          "pattern": {
           "shape": ""
          }
         },
         "name": "Iphone",
         "offsetgroup": "Iphone",
         "orientation": "v",
         "showlegend": true,
         "textposition": "auto",
         "type": "bar",
         "x": [
          "Apple"
         ],
         "xaxis": "x",
         "y": [
          68820.27272727272
         ],
         "yaxis": "y"
        }
       ],
       "layout": {
        "barmode": "stack",
        "legend": {
         "title": {
          "text": "type"
         },
         "tracegroupgap": 0
        },
        "template": {
         "data": {
          "bar": [
           {
            "error_x": {
             "color": "#2a3f5f"
            },
            "error_y": {
             "color": "#2a3f5f"
            },
            "marker": {
             "line": {
              "color": "#E5ECF6",
              "width": 0.5
             },
             "pattern": {
              "fillmode": "overlay",
              "size": 10,
              "solidity": 0.2
             }
            },
            "type": "bar"
           }
          ],
          "barpolar": [
           {
            "marker": {
             "line": {
              "color": "#E5ECF6",
              "width": 0.5
             },
             "pattern": {
              "fillmode": "overlay",
              "size": 10,
              "solidity": 0.2
             }
            },
            "type": "barpolar"
           }
          ],
          "carpet": [
           {
            "aaxis": {
             "endlinecolor": "#2a3f5f",
             "gridcolor": "white",
             "linecolor": "white",
             "minorgridcolor": "white",
             "startlinecolor": "#2a3f5f"
            },
            "baxis": {
             "endlinecolor": "#2a3f5f",
             "gridcolor": "white",
             "linecolor": "white",
             "minorgridcolor": "white",
             "startlinecolor": "#2a3f5f"
            },
            "type": "carpet"
           }
          ],
          "choropleth": [
           {
            "colorbar": {
             "outlinewidth": 0,
             "ticks": ""
            },
            "type": "choropleth"
           }
          ],
          "contour": [
           {
            "colorbar": {
             "outlinewidth": 0,
             "ticks": ""
            },
            "colorscale": [
             [
              0,
              "#0d0887"
             ],
             [
              0.1111111111111111,
              "#46039f"
             ],
             [
              0.2222222222222222,
              "#7201a8"
             ],
             [
              0.3333333333333333,
              "#9c179e"
             ],
             [
              0.4444444444444444,
              "#bd3786"
             ],
             [
              0.5555555555555556,
              "#d8576b"
             ],
             [
              0.6666666666666666,
              "#ed7953"
             ],
             [
              0.7777777777777778,
              "#fb9f3a"
             ],
             [
              0.8888888888888888,
              "#fdca26"
             ],
             [
              1,
              "#f0f921"
             ]
            ],
            "type": "contour"
           }
          ],
          "contourcarpet": [
           {
            "colorbar": {
             "outlinewidth": 0,
             "ticks": ""
            },
            "type": "contourcarpet"
           }
          ],
          "heatmap": [
           {
            "colorbar": {
             "outlinewidth": 0,
             "ticks": ""
            },
            "colorscale": [
             [
              0,
              "#0d0887"
             ],
             [
              0.1111111111111111,
              "#46039f"
             ],
             [
              0.2222222222222222,
              "#7201a8"
             ],
             [
              0.3333333333333333,
              "#9c179e"
             ],
             [
              0.4444444444444444,
              "#bd3786"
             ],
             [
              0.5555555555555556,
              "#d8576b"
             ],
             [
              0.6666666666666666,
              "#ed7953"
             ],
             [
              0.7777777777777778,
              "#fb9f3a"
             ],
             [
              0.8888888888888888,
              "#fdca26"
             ],
             [
              1,
              "#f0f921"
             ]
            ],
            "type": "heatmap"
           }
          ],
          "heatmapgl": [
           {
            "colorbar": {
             "outlinewidth": 0,
             "ticks": ""
            },
            "colorscale": [
             [
              0,
              "#0d0887"
             ],
             [
              0.1111111111111111,
              "#46039f"
             ],
             [
              0.2222222222222222,
              "#7201a8"
             ],
             [
              0.3333333333333333,
              "#9c179e"
             ],
             [
              0.4444444444444444,
              "#bd3786"
             ],
             [
              0.5555555555555556,
              "#d8576b"
             ],
             [
              0.6666666666666666,
              "#ed7953"
             ],
             [
              0.7777777777777778,
              "#fb9f3a"
             ],
             [
              0.8888888888888888,
              "#fdca26"
             ],
             [
              1,
              "#f0f921"
             ]
            ],
            "type": "heatmapgl"
           }
          ],
          "histogram": [
           {
            "marker": {
             "pattern": {
              "fillmode": "overlay",
              "size": 10,
              "solidity": 0.2
             }
            },
            "type": "histogram"
           }
          ],
          "histogram2d": [
           {
            "colorbar": {
             "outlinewidth": 0,
             "ticks": ""
            },
            "colorscale": [
             [
              0,
              "#0d0887"
             ],
             [
              0.1111111111111111,
              "#46039f"
             ],
             [
              0.2222222222222222,
              "#7201a8"
             ],
             [
              0.3333333333333333,
              "#9c179e"
             ],
             [
              0.4444444444444444,
              "#bd3786"
             ],
             [
              0.5555555555555556,
              "#d8576b"
             ],
             [
              0.6666666666666666,
              "#ed7953"
             ],
             [
              0.7777777777777778,
              "#fb9f3a"
             ],
             [
              0.8888888888888888,
              "#fdca26"
             ],
             [
              1,
              "#f0f921"
             ]
            ],
            "type": "histogram2d"
           }
          ],
          "histogram2dcontour": [
           {
            "colorbar": {
             "outlinewidth": 0,
             "ticks": ""
            },
            "colorscale": [
             [
              0,
              "#0d0887"
             ],
             [
              0.1111111111111111,
              "#46039f"
             ],
             [
              0.2222222222222222,
              "#7201a8"
             ],
             [
              0.3333333333333333,
              "#9c179e"
             ],
             [
              0.4444444444444444,
              "#bd3786"
             ],
             [
              0.5555555555555556,
              "#d8576b"
             ],
             [
              0.6666666666666666,
              "#ed7953"
             ],
             [
              0.7777777777777778,
              "#fb9f3a"
             ],
             [
              0.8888888888888888,
              "#fdca26"
             ],
             [
              1,
              "#f0f921"
             ]
            ],
            "type": "histogram2dcontour"
           }
          ],
          "mesh3d": [
           {
            "colorbar": {
             "outlinewidth": 0,
             "ticks": ""
            },
            "type": "mesh3d"
           }
          ],
          "parcoords": [
           {
            "line": {
             "colorbar": {
              "outlinewidth": 0,
              "ticks": ""
             }
            },
            "type": "parcoords"
           }
          ],
          "pie": [
           {
            "automargin": true,
            "type": "pie"
           }
          ],
          "scatter": [
           {
            "fillpattern": {
             "fillmode": "overlay",
             "size": 10,
             "solidity": 0.2
            },
            "type": "scatter"
           }
          ],
          "scatter3d": [
           {
            "line": {
             "colorbar": {
              "outlinewidth": 0,
              "ticks": ""
             }
            },
            "marker": {
             "colorbar": {
              "outlinewidth": 0,
              "ticks": ""
             }
            },
            "type": "scatter3d"
           }
          ],
          "scattercarpet": [
           {
            "marker": {
             "colorbar": {
              "outlinewidth": 0,
              "ticks": ""
             }
            },
            "type": "scattercarpet"
           }
          ],
          "scattergeo": [
           {
            "marker": {
             "colorbar": {
              "outlinewidth": 0,
              "ticks": ""
             }
            },
            "type": "scattergeo"
           }
          ],
          "scattergl": [
           {
            "marker": {
             "colorbar": {
              "outlinewidth": 0,
              "ticks": ""
             }
            },
            "type": "scattergl"
           }
          ],
          "scattermapbox": [
           {
            "marker": {
             "colorbar": {
              "outlinewidth": 0,
              "ticks": ""
             }
            },
            "type": "scattermapbox"
           }
          ],
          "scatterpolar": [
           {
            "marker": {
             "colorbar": {
              "outlinewidth": 0,
              "ticks": ""
             }
            },
            "type": "scatterpolar"
           }
          ],
          "scatterpolargl": [
           {
            "marker": {
             "colorbar": {
              "outlinewidth": 0,
              "ticks": ""
             }
            },
            "type": "scatterpolargl"
           }
          ],
          "scatterternary": [
           {
            "marker": {
             "colorbar": {
              "outlinewidth": 0,
              "ticks": ""
             }
            },
            "type": "scatterternary"
           }
          ],
          "surface": [
           {
            "colorbar": {
             "outlinewidth": 0,
             "ticks": ""
            },
            "colorscale": [
             [
              0,
              "#0d0887"
             ],
             [
              0.1111111111111111,
              "#46039f"
             ],
             [
              0.2222222222222222,
              "#7201a8"
             ],
             [
              0.3333333333333333,
              "#9c179e"
             ],
             [
              0.4444444444444444,
              "#bd3786"
             ],
             [
              0.5555555555555556,
              "#d8576b"
             ],
             [
              0.6666666666666666,
              "#ed7953"
             ],
             [
              0.7777777777777778,
              "#fb9f3a"
             ],
             [
              0.8888888888888888,
              "#fdca26"
             ],
             [
              1,
              "#f0f921"
             ]
            ],
            "type": "surface"
           }
          ],
          "table": [
           {
            "cells": {
             "fill": {
              "color": "#EBF0F8"
             },
             "line": {
              "color": "white"
             }
            },
            "header": {
             "fill": {
              "color": "#C8D4E3"
             },
             "line": {
              "color": "white"
             }
            },
            "type": "table"
           }
          ]
         },
         "layout": {
          "annotationdefaults": {
           "arrowcolor": "#2a3f5f",
           "arrowhead": 0,
           "arrowwidth": 1
          },
          "autotypenumbers": "strict",
          "coloraxis": {
           "colorbar": {
            "outlinewidth": 0,
            "ticks": ""
           }
          },
          "colorscale": {
           "diverging": [
            [
             0,
             "#8e0152"
            ],
            [
             0.1,
             "#c51b7d"
            ],
            [
             0.2,
             "#de77ae"
            ],
            [
             0.3,
             "#f1b6da"
            ],
            [
             0.4,
             "#fde0ef"
            ],
            [
             0.5,
             "#f7f7f7"
            ],
            [
             0.6,
             "#e6f5d0"
            ],
            [
             0.7,
             "#b8e186"
            ],
            [
             0.8,
             "#7fbc41"
            ],
            [
             0.9,
             "#4d9221"
            ],
            [
             1,
             "#276419"
            ]
           ],
           "sequential": [
            [
             0,
             "#0d0887"
            ],
            [
             0.1111111111111111,
             "#46039f"
            ],
            [
             0.2222222222222222,
             "#7201a8"
            ],
            [
             0.3333333333333333,
             "#9c179e"
            ],
            [
             0.4444444444444444,
             "#bd3786"
            ],
            [
             0.5555555555555556,
             "#d8576b"
            ],
            [
             0.6666666666666666,
             "#ed7953"
            ],
            [
             0.7777777777777778,
             "#fb9f3a"
            ],
            [
             0.8888888888888888,
             "#fdca26"
            ],
            [
             1,
             "#f0f921"
            ]
           ],
           "sequentialminus": [
            [
             0,
             "#0d0887"
            ],
            [
             0.1111111111111111,
             "#46039f"
            ],
            [
             0.2222222222222222,
             "#7201a8"
            ],
            [
             0.3333333333333333,
             "#9c179e"
            ],
            [
             0.4444444444444444,
             "#bd3786"
            ],
            [
             0.5555555555555556,
             "#d8576b"
            ],
            [
             0.6666666666666666,
             "#ed7953"
            ],
            [
             0.7777777777777778,
             "#fb9f3a"
            ],
            [
             0.8888888888888888,
             "#fdca26"
            ],
            [
             1,
             "#f0f921"
            ]
           ]
          },
          "colorway": [
           "#636efa",
           "#EF553B",
           "#00cc96",
           "#ab63fa",
           "#FFA15A",
           "#19d3f3",
           "#FF6692",
           "#B6E880",
           "#FF97FF",
           "#FECB52"
          ],
          "font": {
           "color": "#2a3f5f"
          },
          "geo": {
           "bgcolor": "white",
           "lakecolor": "white",
           "landcolor": "#E5ECF6",
           "showlakes": true,
           "showland": true,
           "subunitcolor": "white"
          },
          "hoverlabel": {
           "align": "left"
          },
          "hovermode": "closest",
          "mapbox": {
           "style": "light"
          },
          "paper_bgcolor": "white",
          "plot_bgcolor": "#E5ECF6",
          "polar": {
           "angularaxis": {
            "gridcolor": "white",
            "linecolor": "white",
            "ticks": ""
           },
           "bgcolor": "#E5ECF6",
           "radialaxis": {
            "gridcolor": "white",
            "linecolor": "white",
            "ticks": ""
           }
          },
          "scene": {
           "xaxis": {
            "backgroundcolor": "#E5ECF6",
            "gridcolor": "white",
            "gridwidth": 2,
            "linecolor": "white",
            "showbackground": true,
            "ticks": "",
            "zerolinecolor": "white"
           },
           "yaxis": {
            "backgroundcolor": "#E5ECF6",
            "gridcolor": "white",
            "gridwidth": 2,
            "linecolor": "white",
            "showbackground": true,
            "ticks": "",
            "zerolinecolor": "white"
           },
           "zaxis": {
            "backgroundcolor": "#E5ECF6",
            "gridcolor": "white",
            "gridwidth": 2,
            "linecolor": "white",
            "showbackground": true,
            "ticks": "",
            "zerolinecolor": "white"
           }
          },
          "shapedefaults": {
           "line": {
            "color": "#2a3f5f"
           }
          },
          "ternary": {
           "aaxis": {
            "gridcolor": "white",
            "linecolor": "white",
            "ticks": ""
           },
           "baxis": {
            "gridcolor": "white",
            "linecolor": "white",
            "ticks": ""
           },
           "bgcolor": "#E5ECF6",
           "caxis": {
            "gridcolor": "white",
            "linecolor": "white",
            "ticks": ""
           }
          },
          "title": {
           "x": 0.05
          },
          "xaxis": {
           "automargin": true,
           "gridcolor": "white",
           "linecolor": "white",
           "ticks": "",
           "title": {
            "standoff": 15
           },
           "zerolinecolor": "white",
           "zerolinewidth": 2
          },
          "yaxis": {
           "automargin": true,
           "gridcolor": "white",
           "linecolor": "white",
           "ticks": "",
           "title": {
            "standoff": 15
           },
           "zerolinecolor": "white",
           "zerolinewidth": 2
          }
         }
        },
        "title": {
         "text": "Price Comparison: Android vs iPhone"
        },
        "xaxis": {
         "anchor": "y",
         "domain": [
          0,
          1
         ],
         "title": {
          "text": "brand"
         }
        },
        "yaxis": {
         "anchor": "x",
         "domain": [
          0,
          1
         ],
         "title": {
          "text": "Average Price (INR)"
         }
        }
       }
      }
     },
     "metadata": {},
     "output_type": "display_data"
    }
   ],
   "source": [
    "#import plotly.express as px\n",
    "\n",
    "df_avg_price = df_combined.groupby([\"type\", \"brand\"])[\"price\"].mean().reset_index()\n",
    "\n",
    "fig = px.bar(df_avg_price, \n",
    "             x=\"brand\", \n",
    "             y=\"price\", \n",
    "             color=\"type\", \n",
    "             barmode=\"stack\",\n",
    "             title=\"Price Comparison: Android vs iPhone\",\n",
    "             labels={\"price\": \"Average Price (INR)\"},\n",
    "             color_discrete_map={\"Android\": \"blue\", \"iPhone\": \"red\"})\n",
    "\n",
    "fig.show()\n"
   ]
  },
  {
   "cell_type": "code",
   "execution_count": 34,
   "metadata": {},
   "outputs": [
    {
     "data": {
      "application/vnd.plotly.v1+json": {
       "config": {
        "plotlyServerURL": "https://plot.ly"
       },
       "data": [
        {
         "alignmentgroup": "True",
         "box": {
          "visible": true
         },
         "hovertemplate": "type=%{x}<br>Battery Capacity (mAh)=%{y}<extra></extra>",
         "legendgroup": "Android",
         "marker": {
          "color": "blue"
         },
         "name": "Android",
         "offsetgroup": "Android",
         "orientation": "v",
         "points": "all",
         "scalegroup": "True",
         "showlegend": true,
         "type": "violin",
         "x": [
          "Android",
          "Android",
          "Android",
          "Android",
          "Android",
          "Android",
          "Android",
          "Android",
          "Android",
          "Android",
          "Android",
          "Android",
          "Android",
          "Android",
          "Android",
          "Android",
          "Android",
          "Android",
          "Android",
          "Android",
          "Android",
          "Android",
          "Android",
          "Android",
          "Android",
          "Android",
          "Android",
          "Android",
          "Android",
          "Android",
          "Android",
          "Android",
          "Android",
          "Android",
          "Android",
          "Android",
          "Android",
          "Android",
          "Android",
          "Android",
          "Android",
          "Android",
          "Android",
          "Android",
          "Android",
          "Android",
          "Android",
          "Android",
          "Android",
          "Android",
          "Android",
          "Android",
          "Android",
          "Android",
          "Android",
          "Android",
          "Android",
          "Android",
          "Android",
          "Android",
          "Android",
          "Android",
          "Android",
          "Android",
          "Android",
          "Android",
          "Android",
          "Android",
          "Android",
          "Android",
          "Android",
          "Android",
          "Android",
          "Android",
          "Android",
          "Android",
          "Android",
          "Android",
          "Android",
          "Android",
          "Android",
          "Android",
          "Android",
          "Android",
          "Android",
          "Android",
          "Android",
          "Android",
          "Android",
          "Android",
          "Android",
          "Android",
          "Android",
          "Android",
          "Android",
          "Android",
          "Android",
          "Android",
          "Android",
          "Android",
          "Android",
          "Android",
          "Android",
          "Android",
          "Android",
          "Android",
          "Android",
          "Android",
          "Android",
          "Android",
          "Android",
          "Android",
          "Android",
          "Android",
          "Android",
          "Android",
          "Android",
          "Android",
          "Android",
          "Android",
          "Android",
          "Android",
          "Android",
          "Android",
          "Android",
          "Android",
          "Android",
          "Android",
          "Android",
          "Android",
          "Android",
          "Android",
          "Android",
          "Android",
          "Android",
          "Android",
          "Android",
          "Android",
          "Android",
          "Android",
          "Android",
          "Android",
          "Android",
          "Android",
          "Android",
          "Android",
          "Android",
          "Android",
          "Android",
          "Android",
          "Android",
          "Android",
          "Android",
          "Android",
          "Android",
          "Android",
          "Android",
          "Android",
          "Android",
          "Android",
          "Android",
          "Android",
          "Android",
          "Android",
          "Android",
          "Android",
          "Android",
          "Android",
          "Android",
          "Android",
          "Android",
          "Android",
          "Android",
          "Android",
          "Android",
          "Android",
          "Android",
          "Android",
          "Android",
          "Android",
          "Android",
          "Android",
          "Android",
          "Android",
          "Android",
          "Android",
          "Android",
          "Android",
          "Android",
          "Android",
          "Android",
          "Android",
          "Android",
          "Android",
          "Android",
          "Android",
          "Android",
          "Android",
          "Android",
          "Android",
          "Android",
          "Android",
          "Android",
          "Android",
          "Android",
          "Android",
          "Android",
          "Android",
          "Android",
          "Android",
          "Android",
          "Android",
          "Android",
          "Android",
          "Android",
          "Android",
          "Android",
          "Android",
          "Android",
          "Android",
          "Android",
          "Android",
          "Android",
          "Android",
          "Android",
          "Android",
          "Android",
          "Android",
          "Android",
          "Android",
          "Android",
          "Android",
          "Android",
          "Android",
          "Android",
          "Android",
          "Android",
          "Android",
          "Android",
          "Android",
          "Android",
          "Android",
          "Android",
          "Android",
          "Android",
          "Android",
          "Android",
          "Android",
          "Android",
          "Android",
          "Android",
          "Android",
          "Android",
          "Android",
          "Android",
          "Android",
          "Android",
          "Android",
          "Android",
          "Android",
          "Android",
          "Android",
          "Android",
          "Android",
          "Android",
          "Android",
          "Android",
          "Android",
          "Android",
          "Android",
          "Android",
          "Android",
          "Android",
          "Android",
          "Android",
          "Android",
          "Android",
          "Android",
          "Android",
          "Android",
          "Android",
          "Android",
          "Android",
          "Android",
          "Android",
          "Android",
          "Android",
          "Android",
          "Android",
          "Android",
          "Android",
          "Android",
          "Android",
          "Android",
          "Android",
          "Android",
          "Android",
          "Android",
          "Android",
          "Android",
          "Android",
          "Android",
          "Android",
          "Android",
          "Android",
          "Android",
          "Android",
          "Android",
          "Android",
          "Android",
          "Android",
          "Android",
          "Android",
          "Android",
          "Android",
          "Android",
          "Android",
          "Android",
          "Android",
          "Android",
          "Android",
          "Android",
          "Android",
          "Android",
          "Android",
          "Android",
          "Android",
          "Android",
          "Android",
          "Android",
          "Android",
          "Android",
          "Android",
          "Android",
          "Android",
          "Android",
          "Android",
          "Android",
          "Android",
          "Android",
          "Android",
          "Android",
          "Android",
          "Android",
          "Android",
          "Android",
          "Android",
          "Android",
          "Android",
          "Android",
          "Android",
          "Android",
          "Android",
          "Android",
          "Android",
          "Android",
          "Android",
          "Android",
          "Android",
          "Android",
          "Android",
          "Android",
          "Android",
          "Android",
          "Android",
          "Android",
          "Android",
          "Android",
          "Android",
          "Android",
          "Android",
          "Android",
          "Android",
          "Android",
          "Android",
          "Android",
          "Android",
          "Android",
          "Android",
          "Android",
          "Android",
          "Android",
          "Android",
          "Android",
          "Android",
          "Android",
          "Android",
          "Android",
          "Android",
          "Android",
          "Android",
          "Android",
          "Android",
          "Android",
          "Android",
          "Android",
          "Android",
          "Android",
          "Android",
          "Android",
          "Android",
          "Android",
          "Android",
          "Android",
          "Android",
          "Android",
          "Android",
          "Android",
          "Android",
          "Android",
          "Android",
          "Android",
          "Android",
          "Android",
          "Android",
          "Android",
          "Android",
          "Android",
          "Android",
          "Android",
          "Android",
          "Android",
          "Android",
          "Android",
          "Android",
          "Android",
          "Android",
          "Android",
          "Android",
          "Android",
          "Android",
          "Android",
          "Android",
          "Android",
          "Android",
          "Android",
          "Android",
          "Android",
          "Android",
          "Android",
          "Android",
          "Android",
          "Android",
          "Android",
          "Android",
          "Android",
          "Android",
          "Android",
          "Android",
          "Android",
          "Android",
          "Android",
          "Android",
          "Android",
          "Android",
          "Android",
          "Android",
          "Android",
          "Android",
          "Android",
          "Android",
          "Android",
          "Android",
          "Android",
          "Android",
          "Android",
          "Android",
          "Android",
          "Android",
          "Android",
          "Android",
          "Android",
          "Android",
          "Android",
          "Android",
          "Android",
          "Android",
          "Android",
          "Android",
          "Android",
          "Android",
          "Android",
          "Android",
          "Android",
          "Android",
          "Android",
          "Android",
          "Android",
          "Android",
          "Android",
          "Android",
          "Android",
          "Android",
          "Android",
          "Android",
          "Android",
          "Android",
          "Android",
          "Android",
          "Android",
          "Android",
          "Android",
          "Android",
          "Android",
          "Android",
          "Android",
          "Android",
          "Android",
          "Android",
          "Android",
          "Android",
          "Android",
          "Android",
          "Android",
          "Android",
          "Android",
          "Android"
         ],
         "x0": " ",
         "xaxis": "x",
         "y": [
          "5000 mAh Lithium Battery",
          "5000 mAh Lithium Battery",
          "5000 mAh Lithium Battery",
          "4700 mAh Lithium Battery",
          "4700 mAh Lithium Battery",
          "4500 mAh Battery",
          "4500 mAh Battery",
          "4600 mAh Battery",
          "5000 mAh Battery",
          "5000 mAh Battery",
          "5000 mAh Battery",
          "5000 mAh Battery",
          "5000 mAh Battery",
          "5000 mAh Battery",
          "5000 mAh Battery",
          "5000 mAh Battery",
          "5000 mAh Battery",
          "5000 mAh Battery",
          "5000 mAh Battery",
          "5500 mAh Battery",
          "5500 mAh Battery",
          "5500 mAh Battery",
          "5500 mAh Battery",
          "5500 mAh Battery",
          "5500 mAh Battery",
          "5500 mAh Battery",
          "5500 mAh Battery",
          "6000 mAh Battery",
          "6000 mAh Battery",
          "6000 mAh Battery",
          "5000 mAh Li-ion Battery",
          "4300 mAh Lithium Battery",
          "4300 mAh Lithium Battery",
          "4300 mAh Lithium Battery",
          "4500 mAh Lithium Battery",
          "4500 mAh Lithium Battery",
          "4830 mAh Lithium Battery",
          "4830 mAh Lithium Battery",
          "4830 mAh Battery",
          "4600 mAh Battery",
          "4600 mAh Battery",
          "4600 mAh Battery",
          "4600 mAh Battery",
          "4600 mAh Battery",
          "4600 mAh Battery",
          "5000 mAh Battery",
          "5000 mAh Battery",
          "5000 mAh Battery",
          "5000 mAh Battery",
          "5000 mAh Battery",
          "5000 mAh Battery",
          "5500 mAh Battery",
          "5500 mAh Battery",
          "5500 mAh Battery",
          "5500 mAh Battery",
          "5500 mAh Battery",
          "5500 mAh Battery",
          "5500 mAh Battery",
          "5500 mAh Battery",
          "5500 mAh Battery",
          "5500 mAh Battery",
          "5500 mAh Battery",
          "5500 mAh Battery",
          "5500 mAh Battery",
          "5500 mAh Battery",
          "5500 mAh Battery",
          "5500 mAh Battery",
          "5500 mAh Battery",
          "5500 mAh Battery",
          "5500 mAh Battery",
          "5500 mAh Battery",
          "6000 mAh Battery",
          "6000 mAh Battery",
          "6000 mAh Battery",
          "6000 mAh Battery",
          "6000 mAh Battery",
          "6000 mAh Battery",
          "6000 mAh Battery",
          "5800 mAh Battery",
          "5800 mAh Battery",
          "4450 mAh Battery",
          "4500 mAh Lithium Battery",
          "4500 mAh Lithium Battery",
          "4810 mAh Battery",
          "4810 mAh Battery",
          "5000 mAh Lithium Battery",
          "5000 mAh Battery",
          "4500 mAh Battery",
          "4500 mAh Battery",
          "4500 mAh Battery",
          "5000 mAh Li-ion Battery",
          "5000 mAh Li-ion Battery",
          "5000 mAh Lithium Battery",
          "5000 mAh Lithium Battery",
          "5000 mAh Lithium Battery",
          "5000 mAh Lithium Battery",
          "5000 mAh Lithium Battery",
          "5000 mAh Lithium Battery",
          "5000 mAh Lithium Battery",
          "5000 mAh Lithium Battery",
          "5000 mAh Lithium Battery",
          "5000 mAh Battery",
          "5000 mAh Battery",
          "5000 mAh Battery",
          "5000 mAh Battery",
          "5000 mAh Battery",
          "5000 mAh Battery",
          "4800 mAh Battery",
          "4800 mAh Battery",
          "4800 mAh Battery",
          "4800 mAh Battery",
          "5000 mAh Battery",
          "5000 mAh Battery",
          "5000 mAh Battery",
          "5000 mAh Lithium Battery",
          "5000 mAh Lithium Battery",
          "5000 mAh Battery",
          "5000 mAh Battery",
          "5000 mAh Lithium Battery",
          "5000 mAh Lithium Battery",
          "5000 mAh Lithium Battery",
          "5000 mAh Lithium Battery",
          "5000 mAh Lithium Battery",
          "5000 mAh Lithium Battery",
          "5000 mAh Battery",
          "5000 mAh Battery",
          "5000 mAh Battery",
          "5000 mAh Battery",
          "5000 mAh Battery",
          "5000 mAh Battery",
          "5000 mAh Battery",
          "5000 mAh Battery",
          "5000 mAh Battery",
          "5000 mAh Battery",
          "5000 mAh Battery",
          "5000 mAh Battery",
          "5000 mAh Battery",
          "5000 mAh Battery",
          "5000 mAh Battery",
          "5000 mAh Battery",
          "5000 mAh Battery",
          "5500 mAh Battery",
          "5500 mAh Battery",
          "5500 mAh Battery",
          "5500 mAh Battery",
          "5000 mAh Battery",
          "5000 mAh Battery",
          "5000 mAh Battery",
          "5000 mAh Battery",
          "5000 mAh Battery",
          "5000 mAh Battery",
          "5000 mAh Battery",
          "5000 mAh Lithium Battery",
          "5000 mAh Battery",
          "5000 mAh Battery",
          "5000 mAh Battery",
          "5000 mAh Battery",
          "6000 mAh Battery",
          "6000 mAh Battery",
          "5000 mAh Battery",
          "5000 mAh Battery",
          "5000 mAh Battery",
          "5000 mAh Battery",
          "5000 mAh Battery",
          "5000 mAh Battery",
          "5000 mAh Battery",
          "5000 mAh Battery",
          "5000 mAh Battery",
          "5000 mAh Battery",
          "5000 mAh Battery",
          "5000 mAh Battery",
          "5000 mAh Battery",
          "5000 mAh Battery",
          "5000 mAh Battery",
          "5000 mAh Battery",
          "5000 mAh Battery",
          "5000 mAh Battery",
          "5000 mAh Battery",
          "5000 mAh Battery",
          "5000 mAh Battery",
          "5000 mAh Battery",
          "5000 mAh Battery",
          "5000 mAh Battery",
          "5000 mAh Battery",
          "5200 mAh Battery",
          "5200 mAh Battery",
          "5200 mAh Battery",
          "5200 mAh Battery",
          "5200 mAh Battery",
          "5200 mAh Battery",
          "5200 mAh Battery",
          "5200 mAh Battery",
          "5200 mAh Battery",
          "5200 mAh Battery",
          "5200 mAh Battery",
          "5200 mAh Battery",
          "5000 mAh Battery",
          "5000 mAh Battery",
          "5000 mAh Battery",
          "5000 mAh Battery",
          "5000 mAh Battery",
          "6000 mAh Battery",
          "6000 mAh Battery",
          "6000 mAh Battery",
          "6000 mAh Battery",
          "6000 mAh Battery",
          "6000 mAh Battery",
          "6000 mAh Battery",
          "5000 mAh Lithium-ion Battery",
          "5000 mAh Battery",
          "5000 mAh Battery",
          "5000 mAh Battery",
          "5000 mAh Battery",
          "5000 mAh Battery",
          "5000 mAh Battery",
          "5000 mAh Battery",
          "5000 mAh Battery",
          "5000 mAh Battery",
          "5000 mAh Battery",
          "5000 mAh Battery",
          "5000 mAh LiPo Battery",
          "5000 mAh LiPo Battery",
          "5000 mAh Battery",
          "5000 mAh Battery",
          "5000 mAh Battery",
          "5000 mAh Battery",
          "5000 mAh Battery",
          "5000 mAh Battery",
          "5000 mAh Battery",
          "5000 mAh Battery",
          "5000 mAh Battery",
          "5000 mAh Battery",
          "5000 mAh Battery",
          "5000 mAh Battery",
          "5000 mAh Battery",
          "5000 mAh Battery",
          "5000 mAh Battery",
          "5000 mAh Battery",
          "5000 mAh Battery",
          "5000 mAh Battery",
          "5000 mAh Battery",
          "5000 mAh Battery",
          "5000 mAh Battery",
          "5000 mAh Lithium Ion Battery",
          "5000 mAh Lithium Ion Battery",
          "5000 mAh Lithium Ion Battery",
          "5500 mAh Battery",
          "5500 mAh Battery",
          "5500 mAh Battery",
          "5500 mAh Battery",
          "5500 mAh Battery",
          "5500 mAh Battery",
          "5500 mAh Battery",
          "5500 mAh Battery",
          "5500 mAh Battery",
          "5500 mAh Battery",
          "5800 mAh Battery",
          "5800 mAh Battery",
          "5000 mAh Battery",
          "5000 mAh Battery",
          "5000 mAh Battery",
          "5000 mAh Battery",
          "5000 mAh Battery",
          "5000 mAh Battery",
          "5000 mAh Battery",
          "5000 mAh Battery",
          "5000 mAh Battery",
          "5000 mAh Battery",
          "5000 mAh Battery",
          "5000 mAh Battery",
          "5000 mAh Battery",
          "5000 mAh Battery",
          "5000 mAh Battery",
          "5000 mAh Battery",
          "5000 mAh Battery",
          "5000 mAh Battery",
          "5000 mAh Battery",
          "5000 mAh Battery",
          "5000 mAh Battery",
          "5000 mAh Battery",
          "5000 mAh Battery",
          "5000 mAh Battery",
          "5000 mAh Battery",
          "5000 mAh Battery",
          "5000 mAh Battery",
          "5200 mAh Battery",
          "5200 mAh Battery",
          "5200 mAh Battery",
          "5200 mAh Battery",
          "5200 mAh Battery",
          "5000 mAh Battery",
          "5000 mAh Battery",
          "6000 mAh Battery",
          "6000 mAh Battery",
          "5000 mAh Battery",
          "5000 mAh Lithium Ion Battery",
          "5000 mAh Lithium-ion Battery",
          "5000 mAh Battery",
          "5000 mAh Battery",
          "5000 mAh Battery",
          "5000 mAh Battery",
          "5000 mAh Battery",
          "5000 mAh Battery",
          "5000 mAh Battery",
          "5000 mAh Battery",
          "5000 mAh Battery",
          "5000 mAh Battery",
          "5000 mAh Lithium Ion Battery",
          "5000 mAh Lithium Ion Battery",
          "5000 mAh Lithium Ion Battery",
          "5000 mAh Lithium Ion Battery",
          "5000 mAh Lithium Ion Battery",
          "5000 mAh Lithium Ion Battery",
          "5000 mAh Battery",
          "5000 mAh Battery",
          "5000 mAh Battery",
          "5000 mAh Battery",
          "5000 mAh Battery",
          "5000 mAh Battery",
          "5000 mAh Battery",
          "5000 mAh Battery",
          "5000 mAh Battery",
          "5000 mAh Battery",
          "5000 mAh Li-Ion Battery",
          "5000 mAh Lithium Ion Battery",
          "5000 mAh Lithium Ion Battery",
          "5000 mAh Lithium Ion Battery",
          "5000 mAh Battery",
          "5000 mAh Li-ion Battery Battery",
          "5000 mAh Battery",
          "5000 mAh Battery",
          "5000 mAh Battery",
          "5000 mAh Battery",
          "5000 mAh Battery",
          "5000 mAh Lithium Ion Battery",
          "5000 mAh Battery",
          "5000 mAh Battery",
          "5000 mAh Battery",
          "5000 mAh Battery",
          "5000 mAh Battery",
          "5000 mAh Battery",
          "5000 mAh Battery",
          "5000 mAh Battery",
          "5000 mAh Battery",
          "6000 mAh Lithium-ion Battery",
          "6000 mAh Lithium-ion Battery",
          "6000 mAh Lithium-ion Battery",
          "6000 mAh Lithium-ion Battery",
          "6000 mAh Lithium-ion Battery",
          "6000 mAh Lithium-ion Battery",
          "6000 mAh Lithium Ion Battery",
          "5000 mAh Battery",
          "6000 mAh Battery",
          "6000 mAh Lithium ion Battery",
          "6000 mAh Lithium ion Battery",
          "6000 mAh Lithium ion Battery",
          "5000 mAh Lithium Ion Battery",
          "6000 mAh Battery",
          "6000 mAh Battery",
          "5000 mAh Battery",
          "5000 mAh Battery",
          "5000 mAh Battery",
          "5000 mAh Lithium-ion Battery",
          "6000 mAh Battery",
          "6000 mAh Battery",
          "6000 mAh Battery",
          "6000 mAh Battery",
          "6000 mAh Battery",
          "6000 mAh Battery",
          "6000 mAh Battery",
          "6000 mAh Battery",
          "6000 mAh Battery",
          "6000 mAh Battery",
          "6000 mAh Battery",
          "6000 mAh Battery",
          "6000 mAh Battery",
          "6000 mAh Battery",
          "6000 mAh Battery",
          "5000 mAh Battery",
          "5000 mAh Battery",
          "3900 mAh Lithium Ion Battery",
          "3900 mAh Lithium Ion Battery",
          "4500 mAh Battery",
          "4500 mAh Battery",
          "5000 mAh Lithium Ion Battery",
          "5000 mAh Lithium Ion Battery",
          "5000 mAh Lithium Ion Battery",
          "4000 mAh Battery",
          "4000 mAh Battery",
          "4000 mAh Battery",
          "4700 mAh Battery",
          "4700 mAh Battery",
          "4700 mAh Battery",
          "4700 mAh Battery",
          "4700 mAh Battery",
          "5000 mAh Battery",
          "4900 mAh Battery",
          "4000 mAh Battery",
          "4000 mAh Battery",
          "4000 mAh Battery",
          "4000 mAh Battery",
          "4000 mAh Battery",
          "4000 mAh Battery",
          "4900 mAh Battery",
          "4900 mAh Battery",
          "5000 mAh Battery",
          "5000 mAh Battery",
          "3700 mAh Battery",
          "4400 mAh Battery",
          "4400 mAh Battery",
          "4400 mAh Battery",
          "4400 mAh Battery",
          "5000 mAh Battery",
          "6000 mAh Battery",
          "6000 mAh Battery",
          "6000 mAh Battery",
          "6000 mAh Battery",
          "6000 mAh Battery",
          "4500 mAh Lithium-ion Battery",
          "4500 mAh Lithium-ion Battery",
          "4500 mAh Lithium-ion Battery",
          "4500 mAh Lithium-ion Battery",
          "4500 mAh Lithium-ion Battery",
          "5000 mAh Battery",
          "5000 mAh Battery",
          "5000 mAh Battery",
          "5100 mAh Battery",
          "5100 mAh Battery",
          "5100 mAh Battery",
          "5100 mAh Battery",
          "5100 mAh Battery",
          "5100 mAh Battery",
          "5000 mAh Battery",
          "5000 mAh Battery",
          "5100 mAh Battery",
          "5100 mAh Battery",
          "5100 mAh Battery",
          "5100 mAh Battery",
          "5100 mAh Battery",
          "5100 mAh Battery",
          "5100 mAh Battery",
          "5000 mAh Lithium-ion Polymer Battery",
          "5000 mAh Battery",
          "5000 mAh Battery",
          "5000 mAh Battery",
          "5000 mAh Battery",
          "5000 mAh Battery",
          "5000 mAh Lithium-ion Polymer Battery",
          "5000 mAh Battery",
          "5000 mAh Battery",
          "5000 mAh Battery",
          "5000 mAh Battery",
          "5000 mAh Battery",
          "5000 mAh Lithium Polymer Battery",
          "5000 mAh Lithium Polymer Battery",
          "4500 mAh Battery",
          "4500 mAh Battery",
          "4500 mAh Battery",
          "4500 mAh Battery",
          "4500 mAh Battery",
          "4500 mAh Battery",
          "4500 mAh Battery",
          "5000 mAh Battery",
          "5000 mAh Battery",
          "5000 mAh Battery",
          "5000 mAh Battery",
          "5000 mAh Battery",
          "5000 mAh Battery",
          "5000 mAh Battery",
          "5000 mAh Battery",
          "5000 mAh Battery",
          "5000 mAh Battery",
          "5000 mAh Battery",
          "5000 mAh Battery",
          "5000 mAh Battery",
          "4300 mAh Battery",
          "4300 mAh Battery",
          "4300 mAh Battery",
          "4300 mAh Battery",
          "5630 mAh Battery",
          "5630 mAh Battery",
          "5910 mAh Battery",
          "5910 mAh Battery",
          "5100 mAh Battery",
          "5100 mAh Battery",
          "5100 mAh Battery",
          "5100 mAh Battery",
          "5100 mAh Battery",
          "5100 mAh Battery",
          "5000 mAh Battery",
          "5000 mAh Battery",
          "5000 mAh Battery",
          "5000 mAh Battery",
          "5000 mAh Battery",
          "5000 mAh Battery",
          "5000 mAh Battery",
          "5000 mAh Battery",
          "5000 mAh Battery",
          "4600 mAh Battery",
          "4600 mAh Battery",
          "4700 mAh Battery",
          "5000 mAh Battery",
          "5000 mAh Battery",
          "5000 mAh Battery",
          "5600 mAh Battery",
          "5600 mAh Battery",
          "5600 mAh Battery",
          "5600 mAh Battery",
          "5800 mAh Battery",
          "5800 mAh Battery",
          "5800 mAh Battery",
          "5800 mAh Battery",
          "4000 mAh Battery",
          "4500 mAh Lithium-ion Polymer Battery",
          "4500 mAh Lithium-ion Polymer Battery",
          "4800 mAh Lithium-ion Polymer Battery",
          "4800 mAh Lithium-ion Polymer Battery"
         ],
         "y0": " ",
         "yaxis": "y"
        },
        {
         "alignmentgroup": "True",
         "box": {
          "visible": true
         },
         "hovertemplate": "type=%{x}<br>Battery Capacity (mAh)=%{y}<extra></extra>",
         "legendgroup": "Iphone",
         "marker": {
          "color": "#00cc96"
         },
         "name": "Iphone",
         "offsetgroup": "Iphone",
         "orientation": "v",
         "points": "all",
         "scalegroup": "True",
         "showlegend": true,
         "type": "violin",
         "x": [
          "Iphone",
          "Iphone",
          "Iphone",
          "Iphone",
          "Iphone",
          "Iphone",
          "Iphone",
          "Iphone",
          "Iphone",
          "Iphone",
          "Iphone",
          "Iphone",
          "Iphone",
          "Iphone",
          "Iphone",
          "Iphone",
          "Iphone",
          "Iphone",
          "Iphone",
          "Iphone",
          "Iphone",
          "Iphone",
          "Iphone",
          "Iphone",
          "Iphone",
          "Iphone",
          "Iphone",
          "Iphone",
          "Iphone",
          "Iphone",
          "Iphone",
          "Iphone",
          "Iphone",
          "Iphone",
          "Iphone",
          "Iphone",
          "Iphone",
          "Iphone",
          "Iphone",
          "Iphone",
          "Iphone",
          "Iphone",
          "Iphone",
          "Iphone"
         ],
         "x0": " ",
         "xaxis": "x",
         "y": [
          "A13 Bionic Chip Processor",
          "A13 Bionic Chip Processor",
          "A13 Bionic Chip Processor",
          "A13 Bionic Chip Processor",
          "A13 Bionic Chip Processor",
          "A13 Bionic Chip Processor",
          "A14 Bionic Chip with Next Generation Neural Engine Processor",
          "A14 Bionic Chip with Next Generation Neural Engine Processor",
          "A14 Bionic Chip with Next Generation Neural Engine Processor",
          "A14 Bionic Chip with Next Generation Neural Engine Processor",
          "A14 Bionic Chip with Next Generation Neural Engine Processor",
          "A15 Bionic Chip Processor",
          "A15 Bionic Chip Processor",
          "A15 Bionic Chip Processor",
          "A15 Bionic Chip Processor",
          "A15 Bionic Chip Processor",
          "A15 Bionic Chip Processor",
          "A15 Bionic Chip Processor",
          "A15 Bionic Chip Processor",
          "A15 Bionic Chip Processor",
          "A15 Bionic Chip Processor",
          "A15 Bionic Chip, 6 Core Processor Processor",
          "A15 Bionic Chip, 6 Core Processor Processor",
          "A15 Bionic Chip, 6 Core Processor Processor",
          "A16 Bionic Chip, 6 Core Processor Processor",
          "A16 Bionic Chip, 6 Core Processor Processor",
          "A17 Pro Chip, 6 Core Processor Processor",
          "Apple A7 64-bit processor and M7 Motion Co-processor",
          "Apple A10 Fusion 64-bit processor and Embedded M10 Motion Co-processor",
          "Apple A10 Fusion 64-bit processor and Embedded M10 Motion Co-processor",
          "A11 Bionic Chip with 64-bit Architecture, Neural Engine, Embedded M11 Motion Coprocessor Processor",
          "A11 Bionic Chip with 64-bit Architecture, Neural Engine, Embedded M11 Motion Coprocessor Processor",
          "A11 Bionic Chip with 64-bit Architecture, Neural Engine, Embedded M11 Motion Coprocessor Processor",
          "A11 Bionic Chip with 64-bit Architecture, Neural Engine, Embedded M11 Motion Coprocessor Processor",
          "A15 Bionic Chip, 6 Core Processor Processor",
          "A12 Bionic Chip Processor",
          "A12 Bionic Chip Processor",
          "A12 Bionic Chip Processor",
          "A12 Bionic Chip Processor",
          "A12 Bionic Chip Processor",
          "A12 Bionic Chip Processor",
          "A12 Bionic Chip Processor",
          "A12 Bionic Chip Processor",
          "A12 Bionic Chip Processor"
         ],
         "y0": " ",
         "yaxis": "y"
        }
       ],
       "layout": {
        "legend": {
         "title": {
          "text": "type"
         },
         "tracegroupgap": 0
        },
        "template": {
         "data": {
          "bar": [
           {
            "error_x": {
             "color": "#2a3f5f"
            },
            "error_y": {
             "color": "#2a3f5f"
            },
            "marker": {
             "line": {
              "color": "#E5ECF6",
              "width": 0.5
             },
             "pattern": {
              "fillmode": "overlay",
              "size": 10,
              "solidity": 0.2
             }
            },
            "type": "bar"
           }
          ],
          "barpolar": [
           {
            "marker": {
             "line": {
              "color": "#E5ECF6",
              "width": 0.5
             },
             "pattern": {
              "fillmode": "overlay",
              "size": 10,
              "solidity": 0.2
             }
            },
            "type": "barpolar"
           }
          ],
          "carpet": [
           {
            "aaxis": {
             "endlinecolor": "#2a3f5f",
             "gridcolor": "white",
             "linecolor": "white",
             "minorgridcolor": "white",
             "startlinecolor": "#2a3f5f"
            },
            "baxis": {
             "endlinecolor": "#2a3f5f",
             "gridcolor": "white",
             "linecolor": "white",
             "minorgridcolor": "white",
             "startlinecolor": "#2a3f5f"
            },
            "type": "carpet"
           }
          ],
          "choropleth": [
           {
            "colorbar": {
             "outlinewidth": 0,
             "ticks": ""
            },
            "type": "choropleth"
           }
          ],
          "contour": [
           {
            "colorbar": {
             "outlinewidth": 0,
             "ticks": ""
            },
            "colorscale": [
             [
              0,
              "#0d0887"
             ],
             [
              0.1111111111111111,
              "#46039f"
             ],
             [
              0.2222222222222222,
              "#7201a8"
             ],
             [
              0.3333333333333333,
              "#9c179e"
             ],
             [
              0.4444444444444444,
              "#bd3786"
             ],
             [
              0.5555555555555556,
              "#d8576b"
             ],
             [
              0.6666666666666666,
              "#ed7953"
             ],
             [
              0.7777777777777778,
              "#fb9f3a"
             ],
             [
              0.8888888888888888,
              "#fdca26"
             ],
             [
              1,
              "#f0f921"
             ]
            ],
            "type": "contour"
           }
          ],
          "contourcarpet": [
           {
            "colorbar": {
             "outlinewidth": 0,
             "ticks": ""
            },
            "type": "contourcarpet"
           }
          ],
          "heatmap": [
           {
            "colorbar": {
             "outlinewidth": 0,
             "ticks": ""
            },
            "colorscale": [
             [
              0,
              "#0d0887"
             ],
             [
              0.1111111111111111,
              "#46039f"
             ],
             [
              0.2222222222222222,
              "#7201a8"
             ],
             [
              0.3333333333333333,
              "#9c179e"
             ],
             [
              0.4444444444444444,
              "#bd3786"
             ],
             [
              0.5555555555555556,
              "#d8576b"
             ],
             [
              0.6666666666666666,
              "#ed7953"
             ],
             [
              0.7777777777777778,
              "#fb9f3a"
             ],
             [
              0.8888888888888888,
              "#fdca26"
             ],
             [
              1,
              "#f0f921"
             ]
            ],
            "type": "heatmap"
           }
          ],
          "heatmapgl": [
           {
            "colorbar": {
             "outlinewidth": 0,
             "ticks": ""
            },
            "colorscale": [
             [
              0,
              "#0d0887"
             ],
             [
              0.1111111111111111,
              "#46039f"
             ],
             [
              0.2222222222222222,
              "#7201a8"
             ],
             [
              0.3333333333333333,
              "#9c179e"
             ],
             [
              0.4444444444444444,
              "#bd3786"
             ],
             [
              0.5555555555555556,
              "#d8576b"
             ],
             [
              0.6666666666666666,
              "#ed7953"
             ],
             [
              0.7777777777777778,
              "#fb9f3a"
             ],
             [
              0.8888888888888888,
              "#fdca26"
             ],
             [
              1,
              "#f0f921"
             ]
            ],
            "type": "heatmapgl"
           }
          ],
          "histogram": [
           {
            "marker": {
             "pattern": {
              "fillmode": "overlay",
              "size": 10,
              "solidity": 0.2
             }
            },
            "type": "histogram"
           }
          ],
          "histogram2d": [
           {
            "colorbar": {
             "outlinewidth": 0,
             "ticks": ""
            },
            "colorscale": [
             [
              0,
              "#0d0887"
             ],
             [
              0.1111111111111111,
              "#46039f"
             ],
             [
              0.2222222222222222,
              "#7201a8"
             ],
             [
              0.3333333333333333,
              "#9c179e"
             ],
             [
              0.4444444444444444,
              "#bd3786"
             ],
             [
              0.5555555555555556,
              "#d8576b"
             ],
             [
              0.6666666666666666,
              "#ed7953"
             ],
             [
              0.7777777777777778,
              "#fb9f3a"
             ],
             [
              0.8888888888888888,
              "#fdca26"
             ],
             [
              1,
              "#f0f921"
             ]
            ],
            "type": "histogram2d"
           }
          ],
          "histogram2dcontour": [
           {
            "colorbar": {
             "outlinewidth": 0,
             "ticks": ""
            },
            "colorscale": [
             [
              0,
              "#0d0887"
             ],
             [
              0.1111111111111111,
              "#46039f"
             ],
             [
              0.2222222222222222,
              "#7201a8"
             ],
             [
              0.3333333333333333,
              "#9c179e"
             ],
             [
              0.4444444444444444,
              "#bd3786"
             ],
             [
              0.5555555555555556,
              "#d8576b"
             ],
             [
              0.6666666666666666,
              "#ed7953"
             ],
             [
              0.7777777777777778,
              "#fb9f3a"
             ],
             [
              0.8888888888888888,
              "#fdca26"
             ],
             [
              1,
              "#f0f921"
             ]
            ],
            "type": "histogram2dcontour"
           }
          ],
          "mesh3d": [
           {
            "colorbar": {
             "outlinewidth": 0,
             "ticks": ""
            },
            "type": "mesh3d"
           }
          ],
          "parcoords": [
           {
            "line": {
             "colorbar": {
              "outlinewidth": 0,
              "ticks": ""
             }
            },
            "type": "parcoords"
           }
          ],
          "pie": [
           {
            "automargin": true,
            "type": "pie"
           }
          ],
          "scatter": [
           {
            "fillpattern": {
             "fillmode": "overlay",
             "size": 10,
             "solidity": 0.2
            },
            "type": "scatter"
           }
          ],
          "scatter3d": [
           {
            "line": {
             "colorbar": {
              "outlinewidth": 0,
              "ticks": ""
             }
            },
            "marker": {
             "colorbar": {
              "outlinewidth": 0,
              "ticks": ""
             }
            },
            "type": "scatter3d"
           }
          ],
          "scattercarpet": [
           {
            "marker": {
             "colorbar": {
              "outlinewidth": 0,
              "ticks": ""
             }
            },
            "type": "scattercarpet"
           }
          ],
          "scattergeo": [
           {
            "marker": {
             "colorbar": {
              "outlinewidth": 0,
              "ticks": ""
             }
            },
            "type": "scattergeo"
           }
          ],
          "scattergl": [
           {
            "marker": {
             "colorbar": {
              "outlinewidth": 0,
              "ticks": ""
             }
            },
            "type": "scattergl"
           }
          ],
          "scattermapbox": [
           {
            "marker": {
             "colorbar": {
              "outlinewidth": 0,
              "ticks": ""
             }
            },
            "type": "scattermapbox"
           }
          ],
          "scatterpolar": [
           {
            "marker": {
             "colorbar": {
              "outlinewidth": 0,
              "ticks": ""
             }
            },
            "type": "scatterpolar"
           }
          ],
          "scatterpolargl": [
           {
            "marker": {
             "colorbar": {
              "outlinewidth": 0,
              "ticks": ""
             }
            },
            "type": "scatterpolargl"
           }
          ],
          "scatterternary": [
           {
            "marker": {
             "colorbar": {
              "outlinewidth": 0,
              "ticks": ""
             }
            },
            "type": "scatterternary"
           }
          ],
          "surface": [
           {
            "colorbar": {
             "outlinewidth": 0,
             "ticks": ""
            },
            "colorscale": [
             [
              0,
              "#0d0887"
             ],
             [
              0.1111111111111111,
              "#46039f"
             ],
             [
              0.2222222222222222,
              "#7201a8"
             ],
             [
              0.3333333333333333,
              "#9c179e"
             ],
             [
              0.4444444444444444,
              "#bd3786"
             ],
             [
              0.5555555555555556,
              "#d8576b"
             ],
             [
              0.6666666666666666,
              "#ed7953"
             ],
             [
              0.7777777777777778,
              "#fb9f3a"
             ],
             [
              0.8888888888888888,
              "#fdca26"
             ],
             [
              1,
              "#f0f921"
             ]
            ],
            "type": "surface"
           }
          ],
          "table": [
           {
            "cells": {
             "fill": {
              "color": "#EBF0F8"
             },
             "line": {
              "color": "white"
             }
            },
            "header": {
             "fill": {
              "color": "#C8D4E3"
             },
             "line": {
              "color": "white"
             }
            },
            "type": "table"
           }
          ]
         },
         "layout": {
          "annotationdefaults": {
           "arrowcolor": "#2a3f5f",
           "arrowhead": 0,
           "arrowwidth": 1
          },
          "autotypenumbers": "strict",
          "coloraxis": {
           "colorbar": {
            "outlinewidth": 0,
            "ticks": ""
           }
          },
          "colorscale": {
           "diverging": [
            [
             0,
             "#8e0152"
            ],
            [
             0.1,
             "#c51b7d"
            ],
            [
             0.2,
             "#de77ae"
            ],
            [
             0.3,
             "#f1b6da"
            ],
            [
             0.4,
             "#fde0ef"
            ],
            [
             0.5,
             "#f7f7f7"
            ],
            [
             0.6,
             "#e6f5d0"
            ],
            [
             0.7,
             "#b8e186"
            ],
            [
             0.8,
             "#7fbc41"
            ],
            [
             0.9,
             "#4d9221"
            ],
            [
             1,
             "#276419"
            ]
           ],
           "sequential": [
            [
             0,
             "#0d0887"
            ],
            [
             0.1111111111111111,
             "#46039f"
            ],
            [
             0.2222222222222222,
             "#7201a8"
            ],
            [
             0.3333333333333333,
             "#9c179e"
            ],
            [
             0.4444444444444444,
             "#bd3786"
            ],
            [
             0.5555555555555556,
             "#d8576b"
            ],
            [
             0.6666666666666666,
             "#ed7953"
            ],
            [
             0.7777777777777778,
             "#fb9f3a"
            ],
            [
             0.8888888888888888,
             "#fdca26"
            ],
            [
             1,
             "#f0f921"
            ]
           ],
           "sequentialminus": [
            [
             0,
             "#0d0887"
            ],
            [
             0.1111111111111111,
             "#46039f"
            ],
            [
             0.2222222222222222,
             "#7201a8"
            ],
            [
             0.3333333333333333,
             "#9c179e"
            ],
            [
             0.4444444444444444,
             "#bd3786"
            ],
            [
             0.5555555555555556,
             "#d8576b"
            ],
            [
             0.6666666666666666,
             "#ed7953"
            ],
            [
             0.7777777777777778,
             "#fb9f3a"
            ],
            [
             0.8888888888888888,
             "#fdca26"
            ],
            [
             1,
             "#f0f921"
            ]
           ]
          },
          "colorway": [
           "#636efa",
           "#EF553B",
           "#00cc96",
           "#ab63fa",
           "#FFA15A",
           "#19d3f3",
           "#FF6692",
           "#B6E880",
           "#FF97FF",
           "#FECB52"
          ],
          "font": {
           "color": "#2a3f5f"
          },
          "geo": {
           "bgcolor": "white",
           "lakecolor": "white",
           "landcolor": "#E5ECF6",
           "showlakes": true,
           "showland": true,
           "subunitcolor": "white"
          },
          "hoverlabel": {
           "align": "left"
          },
          "hovermode": "closest",
          "mapbox": {
           "style": "light"
          },
          "paper_bgcolor": "white",
          "plot_bgcolor": "#E5ECF6",
          "polar": {
           "angularaxis": {
            "gridcolor": "white",
            "linecolor": "white",
            "ticks": ""
           },
           "bgcolor": "#E5ECF6",
           "radialaxis": {
            "gridcolor": "white",
            "linecolor": "white",
            "ticks": ""
           }
          },
          "scene": {
           "xaxis": {
            "backgroundcolor": "#E5ECF6",
            "gridcolor": "white",
            "gridwidth": 2,
            "linecolor": "white",
            "showbackground": true,
            "ticks": "",
            "zerolinecolor": "white"
           },
           "yaxis": {
            "backgroundcolor": "#E5ECF6",
            "gridcolor": "white",
            "gridwidth": 2,
            "linecolor": "white",
            "showbackground": true,
            "ticks": "",
            "zerolinecolor": "white"
           },
           "zaxis": {
            "backgroundcolor": "#E5ECF6",
            "gridcolor": "white",
            "gridwidth": 2,
            "linecolor": "white",
            "showbackground": true,
            "ticks": "",
            "zerolinecolor": "white"
           }
          },
          "shapedefaults": {
           "line": {
            "color": "#2a3f5f"
           }
          },
          "ternary": {
           "aaxis": {
            "gridcolor": "white",
            "linecolor": "white",
            "ticks": ""
           },
           "baxis": {
            "gridcolor": "white",
            "linecolor": "white",
            "ticks": ""
           },
           "bgcolor": "#E5ECF6",
           "caxis": {
            "gridcolor": "white",
            "linecolor": "white",
            "ticks": ""
           }
          },
          "title": {
           "x": 0.05
          },
          "xaxis": {
           "automargin": true,
           "gridcolor": "white",
           "linecolor": "white",
           "ticks": "",
           "title": {
            "standoff": 15
           },
           "zerolinecolor": "white",
           "zerolinewidth": 2
          },
          "yaxis": {
           "automargin": true,
           "gridcolor": "white",
           "linecolor": "white",
           "ticks": "",
           "title": {
            "standoff": 15
           },
           "zerolinecolor": "white",
           "zerolinewidth": 2
          }
         }
        },
        "title": {
         "text": "Battery Life Distribution: Android vs iPhone"
        },
        "violinmode": "overlay",
        "xaxis": {
         "anchor": "y",
         "categoryarray": [
          "Android",
          "Iphone"
         ],
         "categoryorder": "array",
         "domain": [
          0,
          1
         ],
         "title": {
          "text": "type"
         }
        },
        "yaxis": {
         "anchor": "x",
         "domain": [
          0,
          1
         ],
         "title": {
          "text": "Battery Capacity (mAh)"
         }
        }
       }
      }
     },
     "metadata": {},
     "output_type": "display_data"
    }
   ],
   "source": [
    "fig = px.violin(df_combined, \n",
    "                x=\"type\", \n",
    "                y=\"battery\", \n",
    "                color=\"type\",\n",
    "                box=True, \n",
    "                points=\"all\",\n",
    "                title=\"Battery Life Distribution: Android vs iPhone\",\n",
    "                labels={\"battery\": \"Battery Capacity (mAh)\"},\n",
    "                color_discrete_map={\"Android\": \"blue\", \"iPhone\": \"red\"})\n",
    "\n",
    "fig.show()\n"
   ]
  },
  {
   "cell_type": "code",
   "execution_count": 38,
   "metadata": {},
   "outputs": [
    {
     "data": {
      "application/vnd.plotly.v1+json": {
       "config": {
        "plotlyServerURL": "https://plot.ly"
       },
       "data": [
        {
         "alignmentgroup": "True",
         "box": {
          "visible": true
         },
         "hovertemplate": "type=%{x}<br>price=%{y}<extra></extra>",
         "legendgroup": "Android",
         "marker": {
          "color": "blue"
         },
         "name": "Android",
         "offsetgroup": "Android",
         "orientation": "v",
         "points": "all",
         "scalegroup": "True",
         "showlegend": true,
         "type": "violin",
         "x": [
          "Android",
          "Android",
          "Android",
          "Android",
          "Android",
          "Android",
          "Android",
          "Android",
          "Android",
          "Android",
          "Android",
          "Android",
          "Android",
          "Android",
          "Android",
          "Android",
          "Android",
          "Android",
          "Android",
          "Android",
          "Android",
          "Android",
          "Android",
          "Android",
          "Android",
          "Android",
          "Android",
          "Android",
          "Android",
          "Android",
          "Android",
          "Android",
          "Android",
          "Android",
          "Android",
          "Android",
          "Android",
          "Android",
          "Android",
          "Android",
          "Android",
          "Android",
          "Android",
          "Android",
          "Android",
          "Android",
          "Android",
          "Android",
          "Android",
          "Android",
          "Android",
          "Android",
          "Android",
          "Android",
          "Android",
          "Android",
          "Android",
          "Android",
          "Android",
          "Android",
          "Android",
          "Android",
          "Android",
          "Android",
          "Android",
          "Android",
          "Android",
          "Android",
          "Android",
          "Android",
          "Android",
          "Android",
          "Android",
          "Android",
          "Android",
          "Android",
          "Android",
          "Android",
          "Android",
          "Android",
          "Android",
          "Android",
          "Android",
          "Android",
          "Android",
          "Android",
          "Android",
          "Android",
          "Android",
          "Android",
          "Android",
          "Android",
          "Android",
          "Android",
          "Android",
          "Android",
          "Android",
          "Android",
          "Android",
          "Android",
          "Android",
          "Android",
          "Android",
          "Android",
          "Android",
          "Android",
          "Android",
          "Android",
          "Android",
          "Android",
          "Android",
          "Android",
          "Android",
          "Android",
          "Android",
          "Android",
          "Android",
          "Android",
          "Android",
          "Android",
          "Android",
          "Android",
          "Android",
          "Android",
          "Android",
          "Android",
          "Android",
          "Android",
          "Android",
          "Android",
          "Android",
          "Android",
          "Android",
          "Android",
          "Android",
          "Android",
          "Android",
          "Android",
          "Android",
          "Android",
          "Android",
          "Android",
          "Android",
          "Android",
          "Android",
          "Android",
          "Android",
          "Android",
          "Android",
          "Android",
          "Android",
          "Android",
          "Android",
          "Android",
          "Android",
          "Android",
          "Android",
          "Android",
          "Android",
          "Android",
          "Android",
          "Android",
          "Android",
          "Android",
          "Android",
          "Android",
          "Android",
          "Android",
          "Android",
          "Android",
          "Android",
          "Android",
          "Android",
          "Android",
          "Android",
          "Android",
          "Android",
          "Android",
          "Android",
          "Android",
          "Android",
          "Android",
          "Android",
          "Android",
          "Android",
          "Android",
          "Android",
          "Android",
          "Android",
          "Android",
          "Android",
          "Android",
          "Android",
          "Android",
          "Android",
          "Android",
          "Android",
          "Android",
          "Android",
          "Android",
          "Android",
          "Android",
          "Android",
          "Android",
          "Android",
          "Android",
          "Android",
          "Android",
          "Android",
          "Android",
          "Android",
          "Android",
          "Android",
          "Android",
          "Android",
          "Android",
          "Android",
          "Android",
          "Android",
          "Android",
          "Android",
          "Android",
          "Android",
          "Android",
          "Android",
          "Android",
          "Android",
          "Android",
          "Android",
          "Android",
          "Android",
          "Android",
          "Android",
          "Android",
          "Android",
          "Android",
          "Android",
          "Android",
          "Android",
          "Android",
          "Android",
          "Android",
          "Android",
          "Android",
          "Android",
          "Android",
          "Android",
          "Android",
          "Android",
          "Android",
          "Android",
          "Android",
          "Android",
          "Android",
          "Android",
          "Android",
          "Android",
          "Android",
          "Android",
          "Android",
          "Android",
          "Android",
          "Android",
          "Android",
          "Android",
          "Android",
          "Android",
          "Android",
          "Android",
          "Android",
          "Android",
          "Android",
          "Android",
          "Android",
          "Android",
          "Android",
          "Android",
          "Android",
          "Android",
          "Android",
          "Android",
          "Android",
          "Android",
          "Android",
          "Android",
          "Android",
          "Android",
          "Android",
          "Android",
          "Android",
          "Android",
          "Android",
          "Android",
          "Android",
          "Android",
          "Android",
          "Android",
          "Android",
          "Android",
          "Android",
          "Android",
          "Android",
          "Android",
          "Android",
          "Android",
          "Android",
          "Android",
          "Android",
          "Android",
          "Android",
          "Android",
          "Android",
          "Android",
          "Android",
          "Android",
          "Android",
          "Android",
          "Android",
          "Android",
          "Android",
          "Android",
          "Android",
          "Android",
          "Android",
          "Android",
          "Android",
          "Android",
          "Android",
          "Android",
          "Android",
          "Android",
          "Android",
          "Android",
          "Android",
          "Android",
          "Android",
          "Android",
          "Android",
          "Android",
          "Android",
          "Android",
          "Android",
          "Android",
          "Android",
          "Android",
          "Android",
          "Android",
          "Android",
          "Android",
          "Android",
          "Android",
          "Android",
          "Android",
          "Android",
          "Android",
          "Android",
          "Android",
          "Android",
          "Android",
          "Android",
          "Android",
          "Android",
          "Android",
          "Android",
          "Android",
          "Android",
          "Android",
          "Android",
          "Android",
          "Android",
          "Android",
          "Android",
          "Android",
          "Android",
          "Android",
          "Android",
          "Android",
          "Android",
          "Android",
          "Android",
          "Android",
          "Android",
          "Android",
          "Android",
          "Android",
          "Android",
          "Android",
          "Android",
          "Android",
          "Android",
          "Android",
          "Android",
          "Android",
          "Android",
          "Android",
          "Android",
          "Android",
          "Android",
          "Android",
          "Android",
          "Android",
          "Android",
          "Android",
          "Android",
          "Android",
          "Android",
          "Android",
          "Android",
          "Android",
          "Android",
          "Android",
          "Android",
          "Android",
          "Android",
          "Android",
          "Android",
          "Android",
          "Android",
          "Android",
          "Android",
          "Android",
          "Android",
          "Android",
          "Android",
          "Android",
          "Android",
          "Android",
          "Android",
          "Android",
          "Android",
          "Android",
          "Android",
          "Android",
          "Android",
          "Android",
          "Android",
          "Android",
          "Android",
          "Android",
          "Android",
          "Android",
          "Android",
          "Android",
          "Android",
          "Android",
          "Android",
          "Android",
          "Android",
          "Android",
          "Android",
          "Android",
          "Android",
          "Android",
          "Android",
          "Android",
          "Android",
          "Android",
          "Android",
          "Android",
          "Android",
          "Android",
          "Android",
          "Android",
          "Android",
          "Android",
          "Android",
          "Android",
          "Android",
          "Android",
          "Android",
          "Android",
          "Android",
          "Android",
          "Android",
          "Android",
          "Android",
          "Android",
          "Android",
          "Android",
          "Android",
          "Android",
          "Android",
          "Android",
          "Android",
          "Android",
          "Android",
          "Android",
          "Android",
          "Android",
          "Android",
          "Android",
          "Android",
          "Android",
          "Android",
          "Android",
          "Android",
          "Android",
          "Android",
          "Android",
          "Android",
          "Android",
          "Android",
          "Android",
          "Android",
          "Android",
          "Android",
          "Android",
          "Android",
          "Android",
          "Android",
          "Android",
          "Android",
          "Android",
          "Android",
          "Android",
          "Android",
          "Android"
         ],
         "x0": " ",
         "xaxis": "x",
         "y": [
          14499,
          14499,
          16990,
          21990,
          24999,
          17999,
          15999,
          23999,
          12999,
          12999,
          15599,
          12999,
          11999,
          18499,
          20499,
          18499,
          20499,
          11499,
          10499,
          22999,
          24999,
          22999,
          24999,
          29999,
          33999,
          29999,
          33999,
          13999,
          13999,
          13999,
          13990,
          26999,
          10449,
          38990,
          27999,
          9999,
          35999,
          35999,
          14499,
          32999,
          19490,
          16499,
          35140,
          32999,
          39999,
          29790,
          34999,
          29945,
          34999,
          39999,
          34999,
          25499,
          27999,
          24790,
          34999,
          36999,
          41999,
          34999,
          36999,
          42999,
          34999,
          36999,
          41999,
          49999,
          55999,
          49999,
          55999,
          26999,
          28999,
          26999,
          28999,
          34999,
          36999,
          40999,
          36999,
          40999,
          34999,
          36999,
          65999,
          65999,
          29775,
          49990,
          59999,
          42990,
          50499,
          7999,
          7999,
          23999,
          21999,
          21999,
          10990,
          11990,
          36999,
          9799,
          9499,
          8899,
          9597,
          31780,
          10005,
          64995,
          11899,
          14999,
          8399,
          7999,
          7999,
          8499,
          9499,
          23999,
          23299,
          23490,
          23299,
          24999,
          24999,
          15490,
          29800,
          19490,
          8790,
          43990,
          19985,
          15499,
          15499,
          14499,
          13499,
          14499,
          12499,
          12816,
          13999,
          12999,
          12999,
          12390,
          10449,
          11900,
          9850,
          10999,
          10999,
          12590,
          11999,
          11499,
          11499,
          14441,
          12999,
          15499,
          18999,
          13999,
          18999,
          21999,
          23999,
          21999,
          23999,
          21999,
          23999,
          23999,
          13999,
          14999,
          14999,
          17999,
          17999,
          16332,
          16695,
          9499,
          9999,
          12999,
          17999,
          16999,
          19999,
          22999,
          19999,
          20999,
          21999,
          22999,
          21999,
          23999,
          21999,
          23999,
          20999,
          21999,
          20999,
          21999,
          13499,
          13499,
          13499,
          17999,
          17999,
          19999,
          23999,
          26999,
          21999,
          23999,
          24390,
          21999,
          23999,
          26999,
          26999,
          25999,
          26999,
          28999,
          22999,
          24999,
          22999,
          26999,
          26999,
          24999,
          24999,
          26999,
          29999,
          14999,
          14999,
          14999,
          17999,
          16198,
          16445,
          20990,
          15027,
          20990,
          13499,
          11499,
          13499,
          11499,
          8574,
          8999,
          9999,
          8999,
          8999,
          9499,
          8999,
          11999,
          10999,
          7864,
          7699,
          7699,
          8499,
          8499,
          11299,
          11395,
          12999,
          10999,
          11498,
          11178,
          10499,
          12999,
          11499,
          14999,
          14999,
          21999,
          29999,
          29999,
          37999,
          37999,
          33999,
          37999,
          25280,
          27418,
          29995,
          30999,
          29490,
          32893,
          59999,
          59999,
          11499,
          11490,
          11650,
          11499,
          10999,
          7613,
          10560,
          7990,
          8493,
          8599,
          8990,
          12115,
          10399,
          12140,
          15999,
          18999,
          15999,
          18999,
          15999,
          18999,
          15999,
          17999,
          15999,
          17999,
          17999,
          20999,
          20999,
          18999,
          21890,
          15199,
          20990,
          22450,
          16999,
          13699,
          32999,
          12799,
          32999,
          6990,
          8909,
          12499,
          8114,
          7699,
          8067,
          7899,
          9990,
          9990,
          11499,
          11499,
          11499,
          13499,
          11248,
          18499,
          15499,
          18499,
          20999,
          16999,
          19999,
          14499,
          24498,
          14363,
          19999,
          14973,
          18990,
          15499,
          19999,
          18499,
          16790,
          16999,
          16798,
          22990,
          21042,
          25999,
          25999,
          28999,
          24491,
          28999,
          13599,
          27990,
          31999,
          28999,
          31990,
          27999,
          33999,
          45999,
          34599,
          6499,
          14999,
          10499,
          11499,
          10499,
          11499,
          10499,
          10999,
          9299,
          13490,
          13499,
          13499,
          13499,
          18499,
          21999,
          31999,
          23999,
          26999,
          19498,
          9890,
          24000,
          16499,
          8848,
          8450,
          12999,
          12990,
          12970,
          17999,
          1390,
          14497,
          21026,
          14534,
          22399,
          14482,
          20985,
          7999,
          27820,
          95900,
          49999,
          34999,
          37999,
          74999,
          89999,
          81999,
          64999,
          70999,
          82999,
          59999,
          49859,
          59999,
          49795,
          43999,
          144999,
          62999,
          80999,
          92999,
          80999,
          92999,
          80999,
          79149,
          111999,
          99999,
          129999,
          141999,
          79999,
          96999,
          104999,
          96999,
          97999,
          6967,
          12898,
          12715,
          14060,
          12748,
          16890,
          45999,
          34990,
          11499,
          45999,
          34990,
          31999,
          17999,
          23999,
          14999,
          13999,
          17999,
          19999,
          17999,
          19999,
          15999,
          27525,
          12999,
          9999,
          9999,
          9999,
          12499,
          20999,
          11499,
          18989,
          36999,
          12990,
          13999,
          13500,
          19490,
          17499,
          38999,
          29999,
          15999,
          16999,
          17998,
          79999,
          26999,
          20999,
          25999,
          25999,
          17706,
          21999,
          15999,
          16999,
          22999,
          20499,
          9499,
          19999,
          25999,
          25999,
          20999,
          22999,
          20999,
          22999,
          25999,
          27999,
          27999,
          89999,
          49999,
          74999,
          74999,
          69999,
          11999,
          99999,
          18999,
          12999,
          15999,
          12999,
          16099,
          12999,
          15999,
          32999,
          32999,
          32999,
          36999,
          36999,
          14499,
          40999,
          29440,
          12999,
          37999,
          37999,
          54999,
          27999,
          29999,
          32999,
          37999,
          39999,
          37999,
          39999,
          49999,
          54999,
          49999,
          54999,
          11499,
          40999,
          9499,
          38999,
          38999
         ],
         "y0": " ",
         "yaxis": "y"
        },
        {
         "alignmentgroup": "True",
         "box": {
          "visible": true
         },
         "hovertemplate": "type=%{x}<br>price=%{y}<extra></extra>",
         "legendgroup": "Iphone",
         "marker": {
          "color": "#00cc96"
         },
         "name": "Iphone",
         "offsetgroup": "Iphone",
         "orientation": "v",
         "points": "all",
         "scalegroup": "True",
         "showlegend": true,
         "type": "violin",
         "x": [
          "Iphone",
          "Iphone",
          "Iphone",
          "Iphone",
          "Iphone",
          "Iphone",
          "Iphone",
          "Iphone",
          "Iphone",
          "Iphone",
          "Iphone",
          "Iphone",
          "Iphone",
          "Iphone",
          "Iphone",
          "Iphone",
          "Iphone",
          "Iphone",
          "Iphone",
          "Iphone",
          "Iphone",
          "Iphone",
          "Iphone",
          "Iphone",
          "Iphone",
          "Iphone",
          "Iphone",
          "Iphone",
          "Iphone",
          "Iphone",
          "Iphone",
          "Iphone",
          "Iphone",
          "Iphone",
          "Iphone",
          "Iphone",
          "Iphone",
          "Iphone",
          "Iphone",
          "Iphone",
          "Iphone",
          "Iphone",
          "Iphone",
          "Iphone"
         ],
         "x0": " ",
         "xaxis": "x",
         "y": [
          48900,
          43900,
          48900,
          43900,
          49900,
          106600,
          54900,
          48900,
          48900,
          59900,
          74900,
          44999,
          54999,
          54999,
          74999,
          54999,
          159900,
          49900,
          74900,
          64900,
          74900,
          54999,
          69900,
          79900,
          164900,
          64999,
          164900,
          25000,
          34900,
          31500,
          77000,
          39900,
          84900,
          49900,
          52600,
          52900,
          47900,
          47900,
          45499,
          91900,
          103900,
          89900,
          103900,
          109900
         ],
         "y0": " ",
         "yaxis": "y"
        }
       ],
       "layout": {
        "legend": {
         "title": {
          "text": "type"
         },
         "tracegroupgap": 0
        },
        "template": {
         "data": {
          "bar": [
           {
            "error_x": {
             "color": "#2a3f5f"
            },
            "error_y": {
             "color": "#2a3f5f"
            },
            "marker": {
             "line": {
              "color": "#E5ECF6",
              "width": 0.5
             },
             "pattern": {
              "fillmode": "overlay",
              "size": 10,
              "solidity": 0.2
             }
            },
            "type": "bar"
           }
          ],
          "barpolar": [
           {
            "marker": {
             "line": {
              "color": "#E5ECF6",
              "width": 0.5
             },
             "pattern": {
              "fillmode": "overlay",
              "size": 10,
              "solidity": 0.2
             }
            },
            "type": "barpolar"
           }
          ],
          "carpet": [
           {
            "aaxis": {
             "endlinecolor": "#2a3f5f",
             "gridcolor": "white",
             "linecolor": "white",
             "minorgridcolor": "white",
             "startlinecolor": "#2a3f5f"
            },
            "baxis": {
             "endlinecolor": "#2a3f5f",
             "gridcolor": "white",
             "linecolor": "white",
             "minorgridcolor": "white",
             "startlinecolor": "#2a3f5f"
            },
            "type": "carpet"
           }
          ],
          "choropleth": [
           {
            "colorbar": {
             "outlinewidth": 0,
             "ticks": ""
            },
            "type": "choropleth"
           }
          ],
          "contour": [
           {
            "colorbar": {
             "outlinewidth": 0,
             "ticks": ""
            },
            "colorscale": [
             [
              0,
              "#0d0887"
             ],
             [
              0.1111111111111111,
              "#46039f"
             ],
             [
              0.2222222222222222,
              "#7201a8"
             ],
             [
              0.3333333333333333,
              "#9c179e"
             ],
             [
              0.4444444444444444,
              "#bd3786"
             ],
             [
              0.5555555555555556,
              "#d8576b"
             ],
             [
              0.6666666666666666,
              "#ed7953"
             ],
             [
              0.7777777777777778,
              "#fb9f3a"
             ],
             [
              0.8888888888888888,
              "#fdca26"
             ],
             [
              1,
              "#f0f921"
             ]
            ],
            "type": "contour"
           }
          ],
          "contourcarpet": [
           {
            "colorbar": {
             "outlinewidth": 0,
             "ticks": ""
            },
            "type": "contourcarpet"
           }
          ],
          "heatmap": [
           {
            "colorbar": {
             "outlinewidth": 0,
             "ticks": ""
            },
            "colorscale": [
             [
              0,
              "#0d0887"
             ],
             [
              0.1111111111111111,
              "#46039f"
             ],
             [
              0.2222222222222222,
              "#7201a8"
             ],
             [
              0.3333333333333333,
              "#9c179e"
             ],
             [
              0.4444444444444444,
              "#bd3786"
             ],
             [
              0.5555555555555556,
              "#d8576b"
             ],
             [
              0.6666666666666666,
              "#ed7953"
             ],
             [
              0.7777777777777778,
              "#fb9f3a"
             ],
             [
              0.8888888888888888,
              "#fdca26"
             ],
             [
              1,
              "#f0f921"
             ]
            ],
            "type": "heatmap"
           }
          ],
          "heatmapgl": [
           {
            "colorbar": {
             "outlinewidth": 0,
             "ticks": ""
            },
            "colorscale": [
             [
              0,
              "#0d0887"
             ],
             [
              0.1111111111111111,
              "#46039f"
             ],
             [
              0.2222222222222222,
              "#7201a8"
             ],
             [
              0.3333333333333333,
              "#9c179e"
             ],
             [
              0.4444444444444444,
              "#bd3786"
             ],
             [
              0.5555555555555556,
              "#d8576b"
             ],
             [
              0.6666666666666666,
              "#ed7953"
             ],
             [
              0.7777777777777778,
              "#fb9f3a"
             ],
             [
              0.8888888888888888,
              "#fdca26"
             ],
             [
              1,
              "#f0f921"
             ]
            ],
            "type": "heatmapgl"
           }
          ],
          "histogram": [
           {
            "marker": {
             "pattern": {
              "fillmode": "overlay",
              "size": 10,
              "solidity": 0.2
             }
            },
            "type": "histogram"
           }
          ],
          "histogram2d": [
           {
            "colorbar": {
             "outlinewidth": 0,
             "ticks": ""
            },
            "colorscale": [
             [
              0,
              "#0d0887"
             ],
             [
              0.1111111111111111,
              "#46039f"
             ],
             [
              0.2222222222222222,
              "#7201a8"
             ],
             [
              0.3333333333333333,
              "#9c179e"
             ],
             [
              0.4444444444444444,
              "#bd3786"
             ],
             [
              0.5555555555555556,
              "#d8576b"
             ],
             [
              0.6666666666666666,
              "#ed7953"
             ],
             [
              0.7777777777777778,
              "#fb9f3a"
             ],
             [
              0.8888888888888888,
              "#fdca26"
             ],
             [
              1,
              "#f0f921"
             ]
            ],
            "type": "histogram2d"
           }
          ],
          "histogram2dcontour": [
           {
            "colorbar": {
             "outlinewidth": 0,
             "ticks": ""
            },
            "colorscale": [
             [
              0,
              "#0d0887"
             ],
             [
              0.1111111111111111,
              "#46039f"
             ],
             [
              0.2222222222222222,
              "#7201a8"
             ],
             [
              0.3333333333333333,
              "#9c179e"
             ],
             [
              0.4444444444444444,
              "#bd3786"
             ],
             [
              0.5555555555555556,
              "#d8576b"
             ],
             [
              0.6666666666666666,
              "#ed7953"
             ],
             [
              0.7777777777777778,
              "#fb9f3a"
             ],
             [
              0.8888888888888888,
              "#fdca26"
             ],
             [
              1,
              "#f0f921"
             ]
            ],
            "type": "histogram2dcontour"
           }
          ],
          "mesh3d": [
           {
            "colorbar": {
             "outlinewidth": 0,
             "ticks": ""
            },
            "type": "mesh3d"
           }
          ],
          "parcoords": [
           {
            "line": {
             "colorbar": {
              "outlinewidth": 0,
              "ticks": ""
             }
            },
            "type": "parcoords"
           }
          ],
          "pie": [
           {
            "automargin": true,
            "type": "pie"
           }
          ],
          "scatter": [
           {
            "fillpattern": {
             "fillmode": "overlay",
             "size": 10,
             "solidity": 0.2
            },
            "type": "scatter"
           }
          ],
          "scatter3d": [
           {
            "line": {
             "colorbar": {
              "outlinewidth": 0,
              "ticks": ""
             }
            },
            "marker": {
             "colorbar": {
              "outlinewidth": 0,
              "ticks": ""
             }
            },
            "type": "scatter3d"
           }
          ],
          "scattercarpet": [
           {
            "marker": {
             "colorbar": {
              "outlinewidth": 0,
              "ticks": ""
             }
            },
            "type": "scattercarpet"
           }
          ],
          "scattergeo": [
           {
            "marker": {
             "colorbar": {
              "outlinewidth": 0,
              "ticks": ""
             }
            },
            "type": "scattergeo"
           }
          ],
          "scattergl": [
           {
            "marker": {
             "colorbar": {
              "outlinewidth": 0,
              "ticks": ""
             }
            },
            "type": "scattergl"
           }
          ],
          "scattermapbox": [
           {
            "marker": {
             "colorbar": {
              "outlinewidth": 0,
              "ticks": ""
             }
            },
            "type": "scattermapbox"
           }
          ],
          "scatterpolar": [
           {
            "marker": {
             "colorbar": {
              "outlinewidth": 0,
              "ticks": ""
             }
            },
            "type": "scatterpolar"
           }
          ],
          "scatterpolargl": [
           {
            "marker": {
             "colorbar": {
              "outlinewidth": 0,
              "ticks": ""
             }
            },
            "type": "scatterpolargl"
           }
          ],
          "scatterternary": [
           {
            "marker": {
             "colorbar": {
              "outlinewidth": 0,
              "ticks": ""
             }
            },
            "type": "scatterternary"
           }
          ],
          "surface": [
           {
            "colorbar": {
             "outlinewidth": 0,
             "ticks": ""
            },
            "colorscale": [
             [
              0,
              "#0d0887"
             ],
             [
              0.1111111111111111,
              "#46039f"
             ],
             [
              0.2222222222222222,
              "#7201a8"
             ],
             [
              0.3333333333333333,
              "#9c179e"
             ],
             [
              0.4444444444444444,
              "#bd3786"
             ],
             [
              0.5555555555555556,
              "#d8576b"
             ],
             [
              0.6666666666666666,
              "#ed7953"
             ],
             [
              0.7777777777777778,
              "#fb9f3a"
             ],
             [
              0.8888888888888888,
              "#fdca26"
             ],
             [
              1,
              "#f0f921"
             ]
            ],
            "type": "surface"
           }
          ],
          "table": [
           {
            "cells": {
             "fill": {
              "color": "#EBF0F8"
             },
             "line": {
              "color": "white"
             }
            },
            "header": {
             "fill": {
              "color": "#C8D4E3"
             },
             "line": {
              "color": "white"
             }
            },
            "type": "table"
           }
          ]
         },
         "layout": {
          "annotationdefaults": {
           "arrowcolor": "#2a3f5f",
           "arrowhead": 0,
           "arrowwidth": 1
          },
          "autotypenumbers": "strict",
          "coloraxis": {
           "colorbar": {
            "outlinewidth": 0,
            "ticks": ""
           }
          },
          "colorscale": {
           "diverging": [
            [
             0,
             "#8e0152"
            ],
            [
             0.1,
             "#c51b7d"
            ],
            [
             0.2,
             "#de77ae"
            ],
            [
             0.3,
             "#f1b6da"
            ],
            [
             0.4,
             "#fde0ef"
            ],
            [
             0.5,
             "#f7f7f7"
            ],
            [
             0.6,
             "#e6f5d0"
            ],
            [
             0.7,
             "#b8e186"
            ],
            [
             0.8,
             "#7fbc41"
            ],
            [
             0.9,
             "#4d9221"
            ],
            [
             1,
             "#276419"
            ]
           ],
           "sequential": [
            [
             0,
             "#0d0887"
            ],
            [
             0.1111111111111111,
             "#46039f"
            ],
            [
             0.2222222222222222,
             "#7201a8"
            ],
            [
             0.3333333333333333,
             "#9c179e"
            ],
            [
             0.4444444444444444,
             "#bd3786"
            ],
            [
             0.5555555555555556,
             "#d8576b"
            ],
            [
             0.6666666666666666,
             "#ed7953"
            ],
            [
             0.7777777777777778,
             "#fb9f3a"
            ],
            [
             0.8888888888888888,
             "#fdca26"
            ],
            [
             1,
             "#f0f921"
            ]
           ],
           "sequentialminus": [
            [
             0,
             "#0d0887"
            ],
            [
             0.1111111111111111,
             "#46039f"
            ],
            [
             0.2222222222222222,
             "#7201a8"
            ],
            [
             0.3333333333333333,
             "#9c179e"
            ],
            [
             0.4444444444444444,
             "#bd3786"
            ],
            [
             0.5555555555555556,
             "#d8576b"
            ],
            [
             0.6666666666666666,
             "#ed7953"
            ],
            [
             0.7777777777777778,
             "#fb9f3a"
            ],
            [
             0.8888888888888888,
             "#fdca26"
            ],
            [
             1,
             "#f0f921"
            ]
           ]
          },
          "colorway": [
           "#636efa",
           "#EF553B",
           "#00cc96",
           "#ab63fa",
           "#FFA15A",
           "#19d3f3",
           "#FF6692",
           "#B6E880",
           "#FF97FF",
           "#FECB52"
          ],
          "font": {
           "color": "#2a3f5f"
          },
          "geo": {
           "bgcolor": "white",
           "lakecolor": "white",
           "landcolor": "#E5ECF6",
           "showlakes": true,
           "showland": true,
           "subunitcolor": "white"
          },
          "hoverlabel": {
           "align": "left"
          },
          "hovermode": "closest",
          "mapbox": {
           "style": "light"
          },
          "paper_bgcolor": "white",
          "plot_bgcolor": "#E5ECF6",
          "polar": {
           "angularaxis": {
            "gridcolor": "white",
            "linecolor": "white",
            "ticks": ""
           },
           "bgcolor": "#E5ECF6",
           "radialaxis": {
            "gridcolor": "white",
            "linecolor": "white",
            "ticks": ""
           }
          },
          "scene": {
           "xaxis": {
            "backgroundcolor": "#E5ECF6",
            "gridcolor": "white",
            "gridwidth": 2,
            "linecolor": "white",
            "showbackground": true,
            "ticks": "",
            "zerolinecolor": "white"
           },
           "yaxis": {
            "backgroundcolor": "#E5ECF6",
            "gridcolor": "white",
            "gridwidth": 2,
            "linecolor": "white",
            "showbackground": true,
            "ticks": "",
            "zerolinecolor": "white"
           },
           "zaxis": {
            "backgroundcolor": "#E5ECF6",
            "gridcolor": "white",
            "gridwidth": 2,
            "linecolor": "white",
            "showbackground": true,
            "ticks": "",
            "zerolinecolor": "white"
           }
          },
          "shapedefaults": {
           "line": {
            "color": "#2a3f5f"
           }
          },
          "ternary": {
           "aaxis": {
            "gridcolor": "white",
            "linecolor": "white",
            "ticks": ""
           },
           "baxis": {
            "gridcolor": "white",
            "linecolor": "white",
            "ticks": ""
           },
           "bgcolor": "#E5ECF6",
           "caxis": {
            "gridcolor": "white",
            "linecolor": "white",
            "ticks": ""
           }
          },
          "title": {
           "x": 0.05
          },
          "xaxis": {
           "automargin": true,
           "gridcolor": "white",
           "linecolor": "white",
           "ticks": "",
           "title": {
            "standoff": 15
           },
           "zerolinecolor": "white",
           "zerolinewidth": 2
          },
          "yaxis": {
           "automargin": true,
           "gridcolor": "white",
           "linecolor": "white",
           "ticks": "",
           "title": {
            "standoff": 15
           },
           "zerolinecolor": "white",
           "zerolinewidth": 2
          }
         }
        },
        "title": {
         "text": "Price Distribution: Android vs iPhone"
        },
        "violinmode": "overlay",
        "xaxis": {
         "anchor": "y",
         "categoryarray": [
          "Android",
          "Iphone"
         ],
         "categoryorder": "array",
         "domain": [
          0,
          1
         ],
         "title": {
          "text": "type"
         }
        },
        "yaxis": {
         "anchor": "x",
         "domain": [
          0,
          1
         ],
         "title": {
          "text": "price"
         }
        }
       }
      }
     },
     "metadata": {},
     "output_type": "display_data"
    }
   ],
   "source": [
    "import plotly.express as px\n",
    "\n",
    "fig = px.violin(df_combined, \n",
    "                x=\"type\", y=\"price\", \n",
    "                box=True, points=\"all\",  \n",
    "                title=\"Price Distribution: Android vs iPhone\",\n",
    "                color=\"type\",\n",
    "                color_discrete_map={\"Android\": \"blue\", \"iPhone\": \"red\"})\n",
    "\n",
    "fig.show()\n"
   ]
  },
  {
   "cell_type": "code",
   "execution_count": 40,
   "metadata": {},
   "outputs": [
    {
     "data": {
      "application/vnd.plotly.v1+json": {
       "config": {
        "plotlyServerURL": "https://plot.ly"
       },
       "data": [
        {
         "customdata": [
          [
           "Android"
          ],
          [
           "Android"
          ],
          [
           "Android"
          ],
          [
           "Android"
          ],
          [
           "Android"
          ],
          [
           "Android"
          ],
          [
           "Android"
          ],
          [
           "Android"
          ],
          [
           "Android"
          ],
          [
           "Android"
          ],
          [
           "Android"
          ],
          [
           "Android"
          ],
          [
           "Android"
          ],
          [
           "Android"
          ],
          [
           "Android"
          ],
          [
           "Android"
          ],
          [
           "Android"
          ],
          [
           "Android"
          ],
          [
           "Android"
          ],
          [
           "Android"
          ],
          [
           "Android"
          ],
          [
           "Android"
          ],
          [
           "Android"
          ],
          [
           "Android"
          ],
          [
           "Android"
          ],
          [
           "Android"
          ],
          [
           "Android"
          ],
          [
           "Android"
          ],
          [
           "Android"
          ],
          [
           "Android"
          ],
          [
           "Android"
          ],
          [
           "Android"
          ],
          [
           "Android"
          ],
          [
           "Android"
          ],
          [
           "Android"
          ],
          [
           "Android"
          ],
          [
           "Android"
          ],
          [
           "Android"
          ],
          [
           "Android"
          ],
          [
           "Android"
          ],
          [
           "Android"
          ],
          [
           "Android"
          ],
          [
           "Android"
          ],
          [
           "Android"
          ],
          [
           "Android"
          ],
          [
           "Android"
          ],
          [
           "Android"
          ],
          [
           "Android"
          ],
          [
           "Android"
          ],
          [
           "Android"
          ],
          [
           "Android"
          ],
          [
           "Android"
          ],
          [
           "Android"
          ],
          [
           "Android"
          ],
          [
           "Android"
          ],
          [
           "Android"
          ],
          [
           "Android"
          ],
          [
           "Android"
          ],
          [
           "Android"
          ],
          [
           "Android"
          ],
          [
           "Android"
          ],
          [
           "Android"
          ],
          [
           "Android"
          ],
          [
           "Android"
          ],
          [
           "Android"
          ],
          [
           "Android"
          ],
          [
           "Android"
          ],
          [
           "Android"
          ],
          [
           "Android"
          ],
          [
           "Android"
          ],
          [
           "Android"
          ],
          [
           "Android"
          ],
          [
           "Android"
          ],
          [
           "Android"
          ],
          [
           "Android"
          ],
          [
           "Android"
          ],
          [
           "Android"
          ],
          [
           "Android"
          ],
          [
           "Android"
          ],
          [
           "Android"
          ],
          [
           "Android"
          ],
          [
           "Android"
          ],
          [
           "Android"
          ],
          [
           "Android"
          ],
          [
           "Android"
          ],
          [
           "Android"
          ],
          [
           "Android"
          ],
          [
           "Android"
          ],
          [
           "Android"
          ],
          [
           "Android"
          ],
          [
           "Android"
          ],
          [
           "Android"
          ],
          [
           "Android"
          ],
          [
           "Android"
          ],
          [
           "Android"
          ],
          [
           "Android"
          ],
          [
           "Android"
          ],
          [
           "Android"
          ],
          [
           "Android"
          ],
          [
           "Android"
          ],
          [
           "Android"
          ],
          [
           "Android"
          ],
          [
           "Android"
          ],
          [
           "Android"
          ],
          [
           "Android"
          ],
          [
           "Android"
          ],
          [
           "Android"
          ],
          [
           "Android"
          ],
          [
           "Android"
          ],
          [
           "Android"
          ],
          [
           "Android"
          ],
          [
           "Android"
          ],
          [
           "Android"
          ],
          [
           "Android"
          ],
          [
           "Android"
          ],
          [
           "Android"
          ],
          [
           "Android"
          ],
          [
           "Android"
          ],
          [
           "Android"
          ],
          [
           "Android"
          ],
          [
           "Android"
          ],
          [
           "Android"
          ],
          [
           "Android"
          ],
          [
           "Android"
          ],
          [
           "Android"
          ],
          [
           "Android"
          ],
          [
           "Android"
          ],
          [
           "Android"
          ],
          [
           "Android"
          ],
          [
           "Android"
          ],
          [
           "Android"
          ],
          [
           "Android"
          ],
          [
           "Android"
          ],
          [
           "Android"
          ],
          [
           "Android"
          ],
          [
           "Android"
          ],
          [
           "Android"
          ],
          [
           "Android"
          ],
          [
           "Android"
          ],
          [
           "Android"
          ],
          [
           "Android"
          ],
          [
           "Android"
          ],
          [
           "Android"
          ],
          [
           "Android"
          ],
          [
           "Android"
          ],
          [
           "Android"
          ],
          [
           "Android"
          ],
          [
           "Android"
          ],
          [
           "Android"
          ],
          [
           "Android"
          ],
          [
           "Android"
          ],
          [
           "Android"
          ],
          [
           "Android"
          ],
          [
           "Android"
          ],
          [
           "Android"
          ],
          [
           "Android"
          ],
          [
           "Android"
          ],
          [
           "Android"
          ],
          [
           "Android"
          ],
          [
           "Android"
          ],
          [
           "Android"
          ],
          [
           "Android"
          ],
          [
           "Android"
          ],
          [
           "Android"
          ],
          [
           "Android"
          ],
          [
           "Android"
          ],
          [
           "Android"
          ],
          [
           "Android"
          ],
          [
           "Android"
          ],
          [
           "Android"
          ],
          [
           "Android"
          ],
          [
           "Android"
          ],
          [
           "Android"
          ],
          [
           "Android"
          ],
          [
           "Android"
          ],
          [
           "Android"
          ],
          [
           "Android"
          ],
          [
           "Android"
          ],
          [
           "Android"
          ],
          [
           "Android"
          ],
          [
           "Android"
          ],
          [
           "Android"
          ],
          [
           "Android"
          ],
          [
           "Android"
          ],
          [
           "Android"
          ],
          [
           "Android"
          ],
          [
           "Android"
          ],
          [
           "Android"
          ],
          [
           "Android"
          ],
          [
           "Android"
          ],
          [
           "Android"
          ],
          [
           "Android"
          ],
          [
           "Android"
          ],
          [
           "Android"
          ],
          [
           "Android"
          ],
          [
           "Android"
          ],
          [
           "Android"
          ],
          [
           "Android"
          ],
          [
           "Android"
          ],
          [
           "Android"
          ],
          [
           "Android"
          ],
          [
           "Android"
          ],
          [
           "Android"
          ],
          [
           "Android"
          ],
          [
           "Android"
          ],
          [
           "Android"
          ],
          [
           "Android"
          ],
          [
           "Android"
          ],
          [
           "Android"
          ],
          [
           "Android"
          ],
          [
           "Android"
          ],
          [
           "Android"
          ],
          [
           "Android"
          ],
          [
           "Android"
          ],
          [
           "Android"
          ],
          [
           "Android"
          ],
          [
           "Android"
          ],
          [
           "Android"
          ],
          [
           "Android"
          ],
          [
           "Android"
          ],
          [
           "Android"
          ],
          [
           "Android"
          ],
          [
           "Android"
          ],
          [
           "Android"
          ],
          [
           "Android"
          ],
          [
           "Android"
          ],
          [
           "Android"
          ],
          [
           "Android"
          ],
          [
           "Android"
          ],
          [
           "Android"
          ],
          [
           "Android"
          ],
          [
           "Android"
          ],
          [
           "Android"
          ],
          [
           "Android"
          ],
          [
           "Android"
          ],
          [
           "Android"
          ],
          [
           "Android"
          ],
          [
           "Android"
          ],
          [
           "Android"
          ],
          [
           "Android"
          ],
          [
           "Android"
          ],
          [
           "Android"
          ],
          [
           "Android"
          ],
          [
           "Android"
          ],
          [
           "Android"
          ],
          [
           "Android"
          ],
          [
           "Android"
          ],
          [
           "Android"
          ],
          [
           "Android"
          ],
          [
           "Android"
          ],
          [
           "Android"
          ],
          [
           "Android"
          ],
          [
           "Android"
          ],
          [
           "Android"
          ],
          [
           "Android"
          ],
          [
           "Android"
          ],
          [
           "Android"
          ],
          [
           "Android"
          ],
          [
           "Android"
          ],
          [
           "Android"
          ],
          [
           "Android"
          ],
          [
           "Android"
          ],
          [
           "Android"
          ],
          [
           "Android"
          ],
          [
           "Android"
          ],
          [
           "Android"
          ],
          [
           "Android"
          ],
          [
           "Android"
          ],
          [
           "Android"
          ],
          [
           "Android"
          ],
          [
           "Android"
          ],
          [
           "Android"
          ],
          [
           "Android"
          ],
          [
           "Android"
          ],
          [
           "Android"
          ],
          [
           "Android"
          ],
          [
           "Android"
          ],
          [
           "Android"
          ],
          [
           "Android"
          ],
          [
           "Android"
          ],
          [
           "Android"
          ],
          [
           "Android"
          ],
          [
           "Android"
          ],
          [
           "Android"
          ],
          [
           "Android"
          ],
          [
           "Android"
          ],
          [
           "Android"
          ],
          [
           "Android"
          ],
          [
           "Android"
          ],
          [
           "Android"
          ],
          [
           "Android"
          ],
          [
           "Android"
          ],
          [
           "Android"
          ],
          [
           "Android"
          ],
          [
           "Android"
          ],
          [
           "Android"
          ],
          [
           "Android"
          ],
          [
           "Android"
          ],
          [
           "Android"
          ],
          [
           "Android"
          ],
          [
           "Android"
          ],
          [
           "Android"
          ],
          [
           "Android"
          ],
          [
           "Android"
          ],
          [
           "Android"
          ],
          [
           "Android"
          ],
          [
           "Android"
          ],
          [
           "Android"
          ],
          [
           "Android"
          ],
          [
           "Android"
          ],
          [
           "Android"
          ],
          [
           "Android"
          ],
          [
           "Android"
          ],
          [
           "Android"
          ],
          [
           "Android"
          ],
          [
           "Android"
          ],
          [
           "Android"
          ],
          [
           "Android"
          ],
          [
           "Android"
          ],
          [
           "Android"
          ],
          [
           "Android"
          ],
          [
           "Android"
          ],
          [
           "Android"
          ],
          [
           "Android"
          ],
          [
           "Android"
          ],
          [
           "Android"
          ],
          [
           "Android"
          ],
          [
           "Android"
          ],
          [
           "Android"
          ],
          [
           "Android"
          ],
          [
           "Android"
          ],
          [
           "Android"
          ],
          [
           "Android"
          ],
          [
           "Android"
          ],
          [
           "Android"
          ],
          [
           "Android"
          ],
          [
           "Android"
          ],
          [
           "Android"
          ],
          [
           "Android"
          ],
          [
           "Android"
          ],
          [
           "Android"
          ],
          [
           "Android"
          ],
          [
           "Android"
          ],
          [
           "Android"
          ],
          [
           "Android"
          ],
          [
           "Android"
          ],
          [
           "Android"
          ],
          [
           "Android"
          ],
          [
           "Android"
          ],
          [
           "Android"
          ],
          [
           "Android"
          ],
          [
           "Android"
          ],
          [
           "Android"
          ],
          [
           "Android"
          ],
          [
           "Android"
          ],
          [
           "Android"
          ],
          [
           "Android"
          ],
          [
           "Android"
          ],
          [
           "Android"
          ],
          [
           "Android"
          ],
          [
           "Android"
          ],
          [
           "Android"
          ],
          [
           "Android"
          ],
          [
           "Android"
          ],
          [
           "Android"
          ],
          [
           "Android"
          ],
          [
           "Android"
          ],
          [
           "Android"
          ],
          [
           "Android"
          ],
          [
           "Android"
          ],
          [
           "Android"
          ],
          [
           "Android"
          ],
          [
           "Android"
          ],
          [
           "Android"
          ],
          [
           "Android"
          ],
          [
           "Android"
          ],
          [
           "Android"
          ],
          [
           "Android"
          ],
          [
           "Android"
          ],
          [
           "Android"
          ],
          [
           "Android"
          ],
          [
           "Android"
          ],
          [
           "Android"
          ],
          [
           "Android"
          ],
          [
           "Android"
          ],
          [
           "Android"
          ],
          [
           "Android"
          ],
          [
           "Android"
          ],
          [
           "Android"
          ],
          [
           "Android"
          ],
          [
           "Android"
          ],
          [
           "Android"
          ],
          [
           "Android"
          ],
          [
           "Android"
          ],
          [
           "Android"
          ],
          [
           "Android"
          ],
          [
           "Android"
          ],
          [
           "Android"
          ],
          [
           "Android"
          ],
          [
           "Android"
          ],
          [
           "Android"
          ],
          [
           "Android"
          ],
          [
           "Android"
          ],
          [
           "Android"
          ],
          [
           "Android"
          ],
          [
           "Android"
          ],
          [
           "Android"
          ],
          [
           "Android"
          ],
          [
           "Android"
          ],
          [
           "Android"
          ],
          [
           "Android"
          ],
          [
           "Android"
          ],
          [
           "Android"
          ],
          [
           "Android"
          ],
          [
           "Android"
          ],
          [
           "Android"
          ],
          [
           "Android"
          ],
          [
           "Android"
          ],
          [
           "Android"
          ],
          [
           "Android"
          ],
          [
           "Android"
          ],
          [
           "Android"
          ],
          [
           "Android"
          ],
          [
           "Android"
          ],
          [
           "Android"
          ],
          [
           "Android"
          ],
          [
           "Android"
          ],
          [
           "Android"
          ],
          [
           "Android"
          ],
          [
           "Android"
          ],
          [
           "Android"
          ],
          [
           "Android"
          ],
          [
           "Android"
          ],
          [
           "Android"
          ],
          [
           "Android"
          ],
          [
           "Android"
          ],
          [
           "Android"
          ],
          [
           "Android"
          ],
          [
           "Android"
          ],
          [
           "Android"
          ],
          [
           "Android"
          ],
          [
           "Android"
          ],
          [
           "Android"
          ],
          [
           "Android"
          ],
          [
           "Android"
          ],
          [
           "Android"
          ],
          [
           "Android"
          ],
          [
           "Android"
          ],
          [
           "Android"
          ],
          [
           "Android"
          ],
          [
           "Android"
          ],
          [
           "Android"
          ],
          [
           "Android"
          ],
          [
           "Android"
          ],
          [
           "Android"
          ],
          [
           "Android"
          ],
          [
           "Android"
          ],
          [
           "Android"
          ],
          [
           "Android"
          ],
          [
           "Android"
          ],
          [
           "Android"
          ],
          [
           "Android"
          ],
          [
           "Android"
          ],
          [
           "Android"
          ],
          [
           "Android"
          ],
          [
           "Android"
          ],
          [
           "Android"
          ],
          [
           "Android"
          ],
          [
           "Android"
          ],
          [
           "Android"
          ],
          [
           "Android"
          ],
          [
           "Android"
          ],
          [
           "Android"
          ],
          [
           "Android"
          ],
          [
           "Android"
          ],
          [
           "Android"
          ],
          [
           "Android"
          ],
          [
           "Android"
          ],
          [
           "Android"
          ],
          [
           "Android"
          ],
          [
           "Android"
          ],
          [
           "Android"
          ],
          [
           "Android"
          ],
          [
           "Android"
          ],
          [
           "Android"
          ],
          [
           "Android"
          ],
          [
           "Android"
          ],
          [
           "Android"
          ],
          [
           "Android"
          ],
          [
           "Android"
          ],
          [
           "Android"
          ],
          [
           "Android"
          ],
          [
           "Android"
          ],
          [
           "Android"
          ],
          [
           "Android"
          ],
          [
           "Android"
          ],
          [
           "Android"
          ],
          [
           "Android"
          ],
          [
           "Android"
          ],
          [
           "Android"
          ],
          [
           "Android"
          ],
          [
           "Android"
          ],
          [
           "Android"
          ],
          [
           "Android"
          ],
          [
           "Android"
          ],
          [
           "Android"
          ],
          [
           "Android"
          ],
          [
           "Android"
          ],
          [
           "Android"
          ],
          [
           "Android"
          ],
          [
           "Android"
          ],
          [
           "Android"
          ],
          [
           "Android"
          ],
          [
           "Android"
          ],
          [
           "Android"
          ],
          [
           "Android"
          ],
          [
           "Android"
          ],
          [
           "Iphone"
          ],
          [
           "Iphone"
          ],
          [
           "Iphone"
          ],
          [
           "Iphone"
          ],
          [
           "Iphone"
          ],
          [
           "Iphone"
          ],
          [
           "Iphone"
          ],
          [
           "Iphone"
          ],
          [
           "Iphone"
          ],
          [
           "Iphone"
          ],
          [
           "Iphone"
          ],
          [
           "Iphone"
          ],
          [
           "Iphone"
          ],
          [
           "Iphone"
          ],
          [
           "Iphone"
          ],
          [
           "Iphone"
          ],
          [
           "Iphone"
          ],
          [
           "Iphone"
          ],
          [
           "Iphone"
          ],
          [
           "Iphone"
          ],
          [
           "Iphone"
          ],
          [
           "Iphone"
          ],
          [
           "Iphone"
          ],
          [
           "Iphone"
          ],
          [
           "Iphone"
          ],
          [
           "Iphone"
          ],
          [
           "Iphone"
          ],
          [
           "Iphone"
          ],
          [
           "Iphone"
          ],
          [
           "Iphone"
          ],
          [
           "Iphone"
          ],
          [
           "Iphone"
          ],
          [
           "Iphone"
          ],
          [
           "Iphone"
          ],
          [
           "Iphone"
          ],
          [
           "Iphone"
          ],
          [
           "Iphone"
          ],
          [
           "Iphone"
          ],
          [
           "Iphone"
          ],
          [
           "Iphone"
          ],
          [
           "Iphone"
          ],
          [
           "Iphone"
          ],
          [
           "Iphone"
          ],
          [
           "Iphone"
          ]
         ],
         "domain": {
          "x": [
           0,
           1
          ],
          "y": [
           0,
           1
          ]
         },
         "hole": 0.4,
         "hovertemplate": "brand=%{label}<br>type=%{customdata[0]}<extra></extra>",
         "labels": [
          "vivo",
          "vivo",
          "vivo",
          "vivo",
          "vivo",
          "vivo",
          "vivo",
          "vivo",
          "vivo",
          "vivo",
          "vivo",
          "vivo",
          "vivo",
          "vivo",
          "vivo",
          "vivo",
          "vivo",
          "vivo",
          "vivo",
          "vivo",
          "vivo",
          "vivo",
          "vivo",
          "vivo",
          "vivo",
          "vivo",
          "vivo",
          "vivo",
          "vivo",
          "vivo",
          "vivo",
          "vivo",
          "vivo",
          "vivo",
          "vivo",
          "vivo",
          "vivo",
          "vivo",
          "vivo",
          "vivo",
          "vivo",
          "vivo",
          "vivo",
          "vivo",
          "vivo",
          "vivo",
          "vivo",
          "vivo",
          "vivo",
          "vivo",
          "vivo",
          "vivo",
          "vivo",
          "vivo",
          "vivo",
          "vivo",
          "vivo",
          "vivo",
          "vivo",
          "vivo",
          "vivo",
          "vivo",
          "vivo",
          "vivo",
          "vivo",
          "vivo",
          "vivo",
          "vivo",
          "vivo",
          "vivo",
          "vivo",
          "vivo",
          "vivo",
          "vivo",
          "vivo",
          "vivo",
          "vivo",
          "vivo",
          "vivo",
          "vivo",
          "vivo",
          "vivo",
          "vivo",
          "vivo",
          "vivo",
          "vivo",
          "vivo",
          "vivo",
          "vivo",
          "vivo",
          "vivo",
          "vivo",
          "vivo",
          "vivo",
          "vivo",
          "vivo",
          "vivo",
          "vivo",
          "vivo",
          "vivo",
          "vivo",
          "vivo",
          "vivo",
          "vivo",
          "vivo",
          "vivo",
          "vivo",
          "vivo",
          "vivo",
          "vivo",
          "vivo",
          "vivo",
          "vivo",
          "vivo",
          "vivo",
          "vivo",
          "vivo",
          "vivo",
          "vivo",
          "vivo",
          "vivo",
          "vivo",
          "vivo",
          "vivo",
          "vivo",
          "vivo",
          "vivo",
          "vivo",
          "vivo",
          "vivo",
          "vivo",
          "vivo",
          "vivo",
          "vivo",
          "vivo",
          "vivo",
          "vivo",
          "vivo",
          "vivo",
          "vivo",
          "vivo",
          "vivo",
          "vivo",
          "vivo",
          "vivo",
          "vivo",
          "vivo",
          "vivo",
          "vivo",
          "vivo",
          "vivo",
          "vivo",
          "vivo",
          "vivo",
          "vivo",
          "vivo",
          "vivo",
          "vivo",
          "vivo",
          "vivo",
          "realme",
          "realme",
          "realme",
          "realme",
          "realme",
          "realme",
          "realme",
          "realme",
          "realme",
          "realme",
          "realme",
          "realme",
          "realme",
          "realme",
          "realme",
          "realme",
          "realme",
          "realme",
          "realme",
          "realme",
          "realme",
          "realme",
          "realme",
          "realme",
          "realme",
          "realme",
          "realme",
          "realme",
          "realme",
          "realme",
          "realme",
          "realme",
          "realme",
          "realme",
          "realme",
          "realme",
          "realme",
          "realme",
          "realme",
          "realme",
          "realme",
          "realme",
          "realme",
          "realme",
          "realme",
          "realme",
          "realme",
          "realme",
          "realme",
          "realme",
          "realme",
          "realme",
          "realme",
          "realme",
          "realme",
          "realme",
          "realme",
          "realme",
          "realme",
          "realme",
          "realme",
          "realme",
          "realme",
          "realme",
          "realme",
          "realme",
          "realme",
          "realme",
          "realme",
          "realme",
          "realme",
          "realme",
          "realme",
          "realme",
          "realme",
          "realme",
          "realme",
          "realme",
          "realme",
          "realme",
          "realme",
          "realme",
          "realme",
          "realme",
          "realme",
          "realme",
          "realme",
          "realme",
          "realme",
          "realme",
          "realme",
          "realme",
          "realme",
          "realme",
          "realme",
          "realme",
          "realme",
          "realme",
          "realme",
          "realme",
          "realme",
          "realme",
          "realme",
          "realme",
          "realme",
          "realme",
          "realme",
          "realme",
          "realme",
          "realme",
          "realme",
          "realme",
          "realme",
          "realme",
          "realme",
          "realme",
          "realme",
          "realme",
          "realme",
          "realme",
          "realme",
          "realme",
          "realme",
          "realme",
          "realme",
          "realme",
          "realme",
          "realme",
          "realme",
          "realme",
          "Samsung",
          "Samsung",
          "Samsung",
          "Samsung",
          "Samsung",
          "Samsung",
          "Samsung",
          "Samsung",
          "Samsung",
          "Samsung",
          "Samsung",
          "Samsung",
          "Samsung",
          "Samsung",
          "Samsung",
          "Samsung",
          "Samsung",
          "Samsung",
          "Samsung",
          "Samsung",
          "Samsung",
          "Samsung",
          "Samsung",
          "Samsung",
          "Samsung",
          "Samsung",
          "Samsung",
          "Samsung",
          "Samsung",
          "Samsung",
          "Samsung",
          "Samsung",
          "Samsung",
          "Samsung",
          "Samsung",
          "Samsung",
          "Samsung",
          "Samsung",
          "Samsung",
          "Samsung",
          "Samsung",
          "Samsung",
          "Samsung",
          "Samsung",
          "Samsung",
          "Samsung",
          "Samsung",
          "Samsung",
          "Samsung",
          "Samsung",
          "Samsung",
          "Samsung",
          "Samsung",
          "Samsung",
          "Samsung",
          "Samsung",
          "Samsung",
          "Samsung",
          "Samsung",
          "Samsung",
          "Samsung",
          "Samsung",
          "Samsung",
          "Samsung",
          "Samsung",
          "Samsung",
          "Samsung",
          "Samsung",
          "Samsung",
          "Samsung",
          "Samsung",
          "Samsung",
          "Samsung",
          "Samsung",
          "Samsung",
          "Samsung",
          "Samsung",
          "Samsung",
          "Samsung",
          "Samsung",
          "Samsung",
          "Samsung",
          "Samsung",
          "Samsung",
          "Samsung",
          "Samsung",
          "Samsung",
          "Samsung",
          "Samsung",
          "Samsung",
          "Samsung",
          "Samsung",
          "Samsung",
          "Samsung",
          "Samsung",
          "Samsung",
          "Samsung",
          "Samsung",
          "Samsung",
          "Samsung",
          "Samsung",
          "Samsung",
          "Samsung",
          "Samsung",
          "Samsung",
          "Samsung",
          "Samsung",
          "Samsung",
          "Samsung",
          "Samsung",
          "Samsung",
          "Samsung",
          "Samsung",
          "Samsung",
          "Samsung",
          "Samsung",
          "Samsung",
          "Samsung",
          "Samsung",
          "Samsung",
          "Samsung",
          "Samsung",
          "Samsung",
          "Samsung",
          "Samsung",
          "Samsung",
          "Samsung",
          "Samsung",
          "Samsung",
          "Samsung",
          "Samsung",
          "Samsung",
          "Samsung",
          "OPPO",
          "OPPO",
          "OPPO",
          "OPPO",
          "OPPO",
          "OPPO",
          "OPPO",
          "OPPO",
          "OPPO",
          "OPPO",
          "OPPO",
          "OPPO",
          "OPPO",
          "OPPO",
          "OPPO",
          "OPPO",
          "OPPO",
          "OPPO",
          "OPPO",
          "OPPO",
          "OPPO",
          "OPPO",
          "OPPO",
          "OPPO",
          "OPPO",
          "OPPO",
          "OPPO",
          "OPPO",
          "OPPO",
          "OPPO",
          "OPPO",
          "OPPO",
          "OPPO",
          "OPPO",
          "OPPO",
          "OPPO",
          "OPPO",
          "OPPO",
          "OPPO",
          "OPPO",
          "OPPO",
          "OPPO",
          "OPPO",
          "OPPO",
          "OPPO",
          "OPPO",
          "OPPO",
          "OPPO",
          "OPPO",
          "OPPO",
          "OPPO",
          "OPPO",
          "OPPO",
          "OPPO",
          "OPPO",
          "OPPO",
          "OPPO",
          "OPPO",
          "OPPO",
          "OPPO",
          "OPPO",
          "OPPO",
          "OPPO",
          "OPPO",
          "OPPO",
          "OPPO",
          "OPPO",
          "OPPO",
          "OPPO",
          "OPPO",
          "OPPO",
          "OPPO",
          "OPPO",
          "OPPO",
          "OPPO",
          "OPPO",
          "OPPO",
          "OPPO",
          "OPPO",
          "OPPO",
          "OPPO",
          "OPPO",
          "OPPO",
          "OPPO",
          "OPPO",
          "OPPO",
          "OPPO",
          "OPPO",
          "OPPO",
          "OPPO",
          "OPPO",
          "OPPO",
          "OPPO",
          "OPPO",
          "Apple",
          "Apple",
          "Apple",
          "Apple",
          "Apple",
          "Apple",
          "Apple",
          "Apple",
          "Apple",
          "Apple",
          "Apple",
          "Apple",
          "Apple",
          "Apple",
          "Apple",
          "Apple",
          "Apple",
          "Apple",
          "Apple",
          "Apple",
          "Apple",
          "Apple",
          "Apple",
          "Apple",
          "Apple",
          "Apple",
          "Apple",
          "Apple",
          "Apple",
          "Apple",
          "Apple",
          "Apple",
          "Apple",
          "Apple",
          "Apple",
          "Apple",
          "Apple",
          "Apple",
          "Apple",
          "Apple",
          "Apple",
          "Apple",
          "Apple",
          "Apple"
         ],
         "legendgroup": "",
         "marker": {
          "colors": [
           "blue",
           "blue",
           "blue",
           "blue",
           "blue",
           "blue",
           "blue",
           "blue",
           "blue",
           "blue",
           "blue",
           "blue",
           "blue",
           "blue",
           "blue",
           "blue",
           "blue",
           "blue",
           "blue",
           "blue",
           "blue",
           "blue",
           "blue",
           "blue",
           "blue",
           "blue",
           "blue",
           "blue",
           "blue",
           "blue",
           "blue",
           "blue",
           "blue",
           "blue",
           "blue",
           "blue",
           "blue",
           "blue",
           "blue",
           "blue",
           "blue",
           "blue",
           "blue",
           "blue",
           "blue",
           "blue",
           "blue",
           "blue",
           "blue",
           "blue",
           "blue",
           "blue",
           "blue",
           "blue",
           "blue",
           "blue",
           "blue",
           "blue",
           "blue",
           "blue",
           "blue",
           "blue",
           "blue",
           "blue",
           "blue",
           "blue",
           "blue",
           "blue",
           "blue",
           "blue",
           "blue",
           "blue",
           "blue",
           "blue",
           "blue",
           "blue",
           "blue",
           "blue",
           "blue",
           "blue",
           "blue",
           "blue",
           "blue",
           "blue",
           "blue",
           "blue",
           "blue",
           "blue",
           "blue",
           "blue",
           "blue",
           "blue",
           "blue",
           "blue",
           "blue",
           "blue",
           "blue",
           "blue",
           "blue",
           "blue",
           "blue",
           "blue",
           "blue",
           "blue",
           "blue",
           "blue",
           "blue",
           "blue",
           "blue",
           "blue",
           "blue",
           "blue",
           "blue",
           "blue",
           "blue",
           "blue",
           "blue",
           "blue",
           "blue",
           "blue",
           "blue",
           "blue",
           "blue",
           "blue",
           "blue",
           "blue",
           "blue",
           "blue",
           "blue",
           "blue",
           "blue",
           "blue",
           "blue",
           "blue",
           "blue",
           "blue",
           "blue",
           "blue",
           "blue",
           "blue",
           "blue",
           "blue",
           "blue",
           "blue",
           "blue",
           "blue",
           "blue",
           "blue",
           "blue",
           "blue",
           "blue",
           "blue",
           "blue",
           "blue",
           "blue",
           "blue",
           "blue",
           "blue",
           "blue",
           "blue",
           "blue",
           "blue",
           "blue",
           "blue",
           "blue",
           "blue",
           "blue",
           "blue",
           "blue",
           "blue",
           "blue",
           "blue",
           "blue",
           "blue",
           "blue",
           "blue",
           "blue",
           "blue",
           "blue",
           "blue",
           "blue",
           "blue",
           "blue",
           "blue",
           "blue",
           "blue",
           "blue",
           "blue",
           "blue",
           "blue",
           "blue",
           "blue",
           "blue",
           "blue",
           "blue",
           "blue",
           "blue",
           "blue",
           "blue",
           "blue",
           "blue",
           "blue",
           "blue",
           "blue",
           "blue",
           "blue",
           "blue",
           "blue",
           "blue",
           "blue",
           "blue",
           "blue",
           "blue",
           "blue",
           "blue",
           "blue",
           "blue",
           "blue",
           "blue",
           "blue",
           "blue",
           "blue",
           "blue",
           "blue",
           "blue",
           "blue",
           "blue",
           "blue",
           "blue",
           "blue",
           "blue",
           "blue",
           "blue",
           "blue",
           "blue",
           "blue",
           "blue",
           "blue",
           "blue",
           "blue",
           "blue",
           "blue",
           "blue",
           "blue",
           "blue",
           "blue",
           "blue",
           "blue",
           "blue",
           "blue",
           "blue",
           "blue",
           "blue",
           "blue",
           "blue",
           "blue",
           "blue",
           "blue",
           "blue",
           "blue",
           "blue",
           "blue",
           "blue",
           "blue",
           "blue",
           "blue",
           "blue",
           "blue",
           "blue",
           "blue",
           "blue",
           "blue",
           "blue",
           "blue",
           "blue",
           "blue",
           "blue",
           "blue",
           "blue",
           "blue",
           "blue",
           "blue",
           "blue",
           "blue",
           "blue",
           "blue",
           "blue",
           "blue",
           "blue",
           "blue",
           "blue",
           "blue",
           "blue",
           "blue",
           "blue",
           "blue",
           "blue",
           "blue",
           "blue",
           "blue",
           "blue",
           "blue",
           "blue",
           "blue",
           "blue",
           "blue",
           "blue",
           "blue",
           "blue",
           "blue",
           "blue",
           "blue",
           "blue",
           "blue",
           "blue",
           "blue",
           "blue",
           "blue",
           "blue",
           "blue",
           "blue",
           "blue",
           "blue",
           "blue",
           "blue",
           "blue",
           "blue",
           "blue",
           "blue",
           "blue",
           "blue",
           "blue",
           "blue",
           "blue",
           "blue",
           "blue",
           "blue",
           "blue",
           "blue",
           "blue",
           "blue",
           "blue",
           "blue",
           "blue",
           "blue",
           "blue",
           "blue",
           "blue",
           "blue",
           "blue",
           "blue",
           "blue",
           "blue",
           "blue",
           "blue",
           "blue",
           "blue",
           "blue",
           "blue",
           "blue",
           "blue",
           "blue",
           "blue",
           "blue",
           "blue",
           "blue",
           "blue",
           "blue",
           "blue",
           "blue",
           "blue",
           "blue",
           "blue",
           "blue",
           "blue",
           "blue",
           "blue",
           "blue",
           "blue",
           "blue",
           "blue",
           "blue",
           "blue",
           "blue",
           "blue",
           "blue",
           "blue",
           "blue",
           "blue",
           "blue",
           "blue",
           "blue",
           "blue",
           "blue",
           "blue",
           "blue",
           "blue",
           "blue",
           "blue",
           "blue",
           "blue",
           "blue",
           "blue",
           "blue",
           "blue",
           "blue",
           "blue",
           "blue",
           "blue",
           "blue",
           "blue",
           "blue",
           "blue",
           "blue",
           "blue",
           "blue",
           "blue",
           "blue",
           "blue",
           "blue",
           "blue",
           "blue",
           "blue",
           "blue",
           "blue",
           "blue",
           "blue",
           "blue",
           "blue",
           "blue",
           "blue",
           "blue",
           "blue",
           "blue",
           "blue",
           "blue",
           "blue",
           "blue",
           "blue",
           "blue",
           "blue",
           "blue",
           "blue",
           "blue",
           "blue",
           "blue",
           "blue",
           "blue",
           "blue",
           "blue",
           "blue",
           "blue",
           "blue",
           "blue",
           "blue",
           "blue",
           "blue",
           "blue",
           "blue",
           "blue",
           "blue",
           "blue",
           "blue",
           "blue",
           "blue",
           "blue",
           "blue",
           "blue",
           "blue",
           "blue",
           "blue",
           "blue",
           "blue",
           "blue",
           "blue",
           "blue",
           "blue",
           "blue",
           "blue",
           "blue",
           "blue",
           "blue",
           "blue",
           "blue",
           "blue",
           "blue",
           "blue",
           "blue",
           "blue",
           "blue",
           "blue",
           "blue",
           "blue",
           "blue",
           "blue",
           "blue",
           "blue",
           "blue",
           "blue",
           "blue",
           "blue",
           "blue",
           "blue",
           "blue",
           "blue",
           "blue",
           "blue",
           "blue",
           "blue",
           "blue",
           "blue",
           "blue",
           "blue",
           "blue",
           "blue",
           "blue",
           "blue",
           "#00cc96",
           "#00cc96",
           "#00cc96",
           "#00cc96",
           "#00cc96",
           "#00cc96",
           "#00cc96",
           "#00cc96",
           "#00cc96",
           "#00cc96",
           "#00cc96",
           "#00cc96",
           "#00cc96",
           "#00cc96",
           "#00cc96",
           "#00cc96",
           "#00cc96",
           "#00cc96",
           "#00cc96",
           "#00cc96",
           "#00cc96",
           "#00cc96",
           "#00cc96",
           "#00cc96",
           "#00cc96",
           "#00cc96",
           "#00cc96",
           "#00cc96",
           "#00cc96",
           "#00cc96",
           "#00cc96",
           "#00cc96",
           "#00cc96",
           "#00cc96",
           "#00cc96",
           "#00cc96",
           "#00cc96",
           "#00cc96",
           "#00cc96",
           "#00cc96",
           "#00cc96",
           "#00cc96",
           "#00cc96",
           "#00cc96"
          ]
         },
         "name": "",
         "showlegend": true,
         "type": "pie"
        }
       ],
       "layout": {
        "legend": {
         "tracegroupgap": 0
        },
        "template": {
         "data": {
          "bar": [
           {
            "error_x": {
             "color": "#2a3f5f"
            },
            "error_y": {
             "color": "#2a3f5f"
            },
            "marker": {
             "line": {
              "color": "#E5ECF6",
              "width": 0.5
             },
             "pattern": {
              "fillmode": "overlay",
              "size": 10,
              "solidity": 0.2
             }
            },
            "type": "bar"
           }
          ],
          "barpolar": [
           {
            "marker": {
             "line": {
              "color": "#E5ECF6",
              "width": 0.5
             },
             "pattern": {
              "fillmode": "overlay",
              "size": 10,
              "solidity": 0.2
             }
            },
            "type": "barpolar"
           }
          ],
          "carpet": [
           {
            "aaxis": {
             "endlinecolor": "#2a3f5f",
             "gridcolor": "white",
             "linecolor": "white",
             "minorgridcolor": "white",
             "startlinecolor": "#2a3f5f"
            },
            "baxis": {
             "endlinecolor": "#2a3f5f",
             "gridcolor": "white",
             "linecolor": "white",
             "minorgridcolor": "white",
             "startlinecolor": "#2a3f5f"
            },
            "type": "carpet"
           }
          ],
          "choropleth": [
           {
            "colorbar": {
             "outlinewidth": 0,
             "ticks": ""
            },
            "type": "choropleth"
           }
          ],
          "contour": [
           {
            "colorbar": {
             "outlinewidth": 0,
             "ticks": ""
            },
            "colorscale": [
             [
              0,
              "#0d0887"
             ],
             [
              0.1111111111111111,
              "#46039f"
             ],
             [
              0.2222222222222222,
              "#7201a8"
             ],
             [
              0.3333333333333333,
              "#9c179e"
             ],
             [
              0.4444444444444444,
              "#bd3786"
             ],
             [
              0.5555555555555556,
              "#d8576b"
             ],
             [
              0.6666666666666666,
              "#ed7953"
             ],
             [
              0.7777777777777778,
              "#fb9f3a"
             ],
             [
              0.8888888888888888,
              "#fdca26"
             ],
             [
              1,
              "#f0f921"
             ]
            ],
            "type": "contour"
           }
          ],
          "contourcarpet": [
           {
            "colorbar": {
             "outlinewidth": 0,
             "ticks": ""
            },
            "type": "contourcarpet"
           }
          ],
          "heatmap": [
           {
            "colorbar": {
             "outlinewidth": 0,
             "ticks": ""
            },
            "colorscale": [
             [
              0,
              "#0d0887"
             ],
             [
              0.1111111111111111,
              "#46039f"
             ],
             [
              0.2222222222222222,
              "#7201a8"
             ],
             [
              0.3333333333333333,
              "#9c179e"
             ],
             [
              0.4444444444444444,
              "#bd3786"
             ],
             [
              0.5555555555555556,
              "#d8576b"
             ],
             [
              0.6666666666666666,
              "#ed7953"
             ],
             [
              0.7777777777777778,
              "#fb9f3a"
             ],
             [
              0.8888888888888888,
              "#fdca26"
             ],
             [
              1,
              "#f0f921"
             ]
            ],
            "type": "heatmap"
           }
          ],
          "heatmapgl": [
           {
            "colorbar": {
             "outlinewidth": 0,
             "ticks": ""
            },
            "colorscale": [
             [
              0,
              "#0d0887"
             ],
             [
              0.1111111111111111,
              "#46039f"
             ],
             [
              0.2222222222222222,
              "#7201a8"
             ],
             [
              0.3333333333333333,
              "#9c179e"
             ],
             [
              0.4444444444444444,
              "#bd3786"
             ],
             [
              0.5555555555555556,
              "#d8576b"
             ],
             [
              0.6666666666666666,
              "#ed7953"
             ],
             [
              0.7777777777777778,
              "#fb9f3a"
             ],
             [
              0.8888888888888888,
              "#fdca26"
             ],
             [
              1,
              "#f0f921"
             ]
            ],
            "type": "heatmapgl"
           }
          ],
          "histogram": [
           {
            "marker": {
             "pattern": {
              "fillmode": "overlay",
              "size": 10,
              "solidity": 0.2
             }
            },
            "type": "histogram"
           }
          ],
          "histogram2d": [
           {
            "colorbar": {
             "outlinewidth": 0,
             "ticks": ""
            },
            "colorscale": [
             [
              0,
              "#0d0887"
             ],
             [
              0.1111111111111111,
              "#46039f"
             ],
             [
              0.2222222222222222,
              "#7201a8"
             ],
             [
              0.3333333333333333,
              "#9c179e"
             ],
             [
              0.4444444444444444,
              "#bd3786"
             ],
             [
              0.5555555555555556,
              "#d8576b"
             ],
             [
              0.6666666666666666,
              "#ed7953"
             ],
             [
              0.7777777777777778,
              "#fb9f3a"
             ],
             [
              0.8888888888888888,
              "#fdca26"
             ],
             [
              1,
              "#f0f921"
             ]
            ],
            "type": "histogram2d"
           }
          ],
          "histogram2dcontour": [
           {
            "colorbar": {
             "outlinewidth": 0,
             "ticks": ""
            },
            "colorscale": [
             [
              0,
              "#0d0887"
             ],
             [
              0.1111111111111111,
              "#46039f"
             ],
             [
              0.2222222222222222,
              "#7201a8"
             ],
             [
              0.3333333333333333,
              "#9c179e"
             ],
             [
              0.4444444444444444,
              "#bd3786"
             ],
             [
              0.5555555555555556,
              "#d8576b"
             ],
             [
              0.6666666666666666,
              "#ed7953"
             ],
             [
              0.7777777777777778,
              "#fb9f3a"
             ],
             [
              0.8888888888888888,
              "#fdca26"
             ],
             [
              1,
              "#f0f921"
             ]
            ],
            "type": "histogram2dcontour"
           }
          ],
          "mesh3d": [
           {
            "colorbar": {
             "outlinewidth": 0,
             "ticks": ""
            },
            "type": "mesh3d"
           }
          ],
          "parcoords": [
           {
            "line": {
             "colorbar": {
              "outlinewidth": 0,
              "ticks": ""
             }
            },
            "type": "parcoords"
           }
          ],
          "pie": [
           {
            "automargin": true,
            "type": "pie"
           }
          ],
          "scatter": [
           {
            "fillpattern": {
             "fillmode": "overlay",
             "size": 10,
             "solidity": 0.2
            },
            "type": "scatter"
           }
          ],
          "scatter3d": [
           {
            "line": {
             "colorbar": {
              "outlinewidth": 0,
              "ticks": ""
             }
            },
            "marker": {
             "colorbar": {
              "outlinewidth": 0,
              "ticks": ""
             }
            },
            "type": "scatter3d"
           }
          ],
          "scattercarpet": [
           {
            "marker": {
             "colorbar": {
              "outlinewidth": 0,
              "ticks": ""
             }
            },
            "type": "scattercarpet"
           }
          ],
          "scattergeo": [
           {
            "marker": {
             "colorbar": {
              "outlinewidth": 0,
              "ticks": ""
             }
            },
            "type": "scattergeo"
           }
          ],
          "scattergl": [
           {
            "marker": {
             "colorbar": {
              "outlinewidth": 0,
              "ticks": ""
             }
            },
            "type": "scattergl"
           }
          ],
          "scattermapbox": [
           {
            "marker": {
             "colorbar": {
              "outlinewidth": 0,
              "ticks": ""
             }
            },
            "type": "scattermapbox"
           }
          ],
          "scatterpolar": [
           {
            "marker": {
             "colorbar": {
              "outlinewidth": 0,
              "ticks": ""
             }
            },
            "type": "scatterpolar"
           }
          ],
          "scatterpolargl": [
           {
            "marker": {
             "colorbar": {
              "outlinewidth": 0,
              "ticks": ""
             }
            },
            "type": "scatterpolargl"
           }
          ],
          "scatterternary": [
           {
            "marker": {
             "colorbar": {
              "outlinewidth": 0,
              "ticks": ""
             }
            },
            "type": "scatterternary"
           }
          ],
          "surface": [
           {
            "colorbar": {
             "outlinewidth": 0,
             "ticks": ""
            },
            "colorscale": [
             [
              0,
              "#0d0887"
             ],
             [
              0.1111111111111111,
              "#46039f"
             ],
             [
              0.2222222222222222,
              "#7201a8"
             ],
             [
              0.3333333333333333,
              "#9c179e"
             ],
             [
              0.4444444444444444,
              "#bd3786"
             ],
             [
              0.5555555555555556,
              "#d8576b"
             ],
             [
              0.6666666666666666,
              "#ed7953"
             ],
             [
              0.7777777777777778,
              "#fb9f3a"
             ],
             [
              0.8888888888888888,
              "#fdca26"
             ],
             [
              1,
              "#f0f921"
             ]
            ],
            "type": "surface"
           }
          ],
          "table": [
           {
            "cells": {
             "fill": {
              "color": "#EBF0F8"
             },
             "line": {
              "color": "white"
             }
            },
            "header": {
             "fill": {
              "color": "#C8D4E3"
             },
             "line": {
              "color": "white"
             }
            },
            "type": "table"
           }
          ]
         },
         "layout": {
          "annotationdefaults": {
           "arrowcolor": "#2a3f5f",
           "arrowhead": 0,
           "arrowwidth": 1
          },
          "autotypenumbers": "strict",
          "coloraxis": {
           "colorbar": {
            "outlinewidth": 0,
            "ticks": ""
           }
          },
          "colorscale": {
           "diverging": [
            [
             0,
             "#8e0152"
            ],
            [
             0.1,
             "#c51b7d"
            ],
            [
             0.2,
             "#de77ae"
            ],
            [
             0.3,
             "#f1b6da"
            ],
            [
             0.4,
             "#fde0ef"
            ],
            [
             0.5,
             "#f7f7f7"
            ],
            [
             0.6,
             "#e6f5d0"
            ],
            [
             0.7,
             "#b8e186"
            ],
            [
             0.8,
             "#7fbc41"
            ],
            [
             0.9,
             "#4d9221"
            ],
            [
             1,
             "#276419"
            ]
           ],
           "sequential": [
            [
             0,
             "#0d0887"
            ],
            [
             0.1111111111111111,
             "#46039f"
            ],
            [
             0.2222222222222222,
             "#7201a8"
            ],
            [
             0.3333333333333333,
             "#9c179e"
            ],
            [
             0.4444444444444444,
             "#bd3786"
            ],
            [
             0.5555555555555556,
             "#d8576b"
            ],
            [
             0.6666666666666666,
             "#ed7953"
            ],
            [
             0.7777777777777778,
             "#fb9f3a"
            ],
            [
             0.8888888888888888,
             "#fdca26"
            ],
            [
             1,
             "#f0f921"
            ]
           ],
           "sequentialminus": [
            [
             0,
             "#0d0887"
            ],
            [
             0.1111111111111111,
             "#46039f"
            ],
            [
             0.2222222222222222,
             "#7201a8"
            ],
            [
             0.3333333333333333,
             "#9c179e"
            ],
            [
             0.4444444444444444,
             "#bd3786"
            ],
            [
             0.5555555555555556,
             "#d8576b"
            ],
            [
             0.6666666666666666,
             "#ed7953"
            ],
            [
             0.7777777777777778,
             "#fb9f3a"
            ],
            [
             0.8888888888888888,
             "#fdca26"
            ],
            [
             1,
             "#f0f921"
            ]
           ]
          },
          "colorway": [
           "#636efa",
           "#EF553B",
           "#00cc96",
           "#ab63fa",
           "#FFA15A",
           "#19d3f3",
           "#FF6692",
           "#B6E880",
           "#FF97FF",
           "#FECB52"
          ],
          "font": {
           "color": "#2a3f5f"
          },
          "geo": {
           "bgcolor": "white",
           "lakecolor": "white",
           "landcolor": "#E5ECF6",
           "showlakes": true,
           "showland": true,
           "subunitcolor": "white"
          },
          "hoverlabel": {
           "align": "left"
          },
          "hovermode": "closest",
          "mapbox": {
           "style": "light"
          },
          "paper_bgcolor": "white",
          "plot_bgcolor": "#E5ECF6",
          "polar": {
           "angularaxis": {
            "gridcolor": "white",
            "linecolor": "white",
            "ticks": ""
           },
           "bgcolor": "#E5ECF6",
           "radialaxis": {
            "gridcolor": "white",
            "linecolor": "white",
            "ticks": ""
           }
          },
          "scene": {
           "xaxis": {
            "backgroundcolor": "#E5ECF6",
            "gridcolor": "white",
            "gridwidth": 2,
            "linecolor": "white",
            "showbackground": true,
            "ticks": "",
            "zerolinecolor": "white"
           },
           "yaxis": {
            "backgroundcolor": "#E5ECF6",
            "gridcolor": "white",
            "gridwidth": 2,
            "linecolor": "white",
            "showbackground": true,
            "ticks": "",
            "zerolinecolor": "white"
           },
           "zaxis": {
            "backgroundcolor": "#E5ECF6",
            "gridcolor": "white",
            "gridwidth": 2,
            "linecolor": "white",
            "showbackground": true,
            "ticks": "",
            "zerolinecolor": "white"
           }
          },
          "shapedefaults": {
           "line": {
            "color": "#2a3f5f"
           }
          },
          "ternary": {
           "aaxis": {
            "gridcolor": "white",
            "linecolor": "white",
            "ticks": ""
           },
           "baxis": {
            "gridcolor": "white",
            "linecolor": "white",
            "ticks": ""
           },
           "bgcolor": "#E5ECF6",
           "caxis": {
            "gridcolor": "white",
            "linecolor": "white",
            "ticks": ""
           }
          },
          "title": {
           "x": 0.05
          },
          "xaxis": {
           "automargin": true,
           "gridcolor": "white",
           "linecolor": "white",
           "ticks": "",
           "title": {
            "standoff": 15
           },
           "zerolinecolor": "white",
           "zerolinewidth": 2
          },
          "yaxis": {
           "automargin": true,
           "gridcolor": "white",
           "linecolor": "white",
           "ticks": "",
           "title": {
            "standoff": 15
           },
           "zerolinecolor": "white",
           "zerolinewidth": 2
          }
         }
        },
        "title": {
         "text": "Brand Market Share"
        }
       }
      }
     },
     "metadata": {},
     "output_type": "display_data"
    }
   ],
   "source": [
    "fig = px.pie(df_combined, \n",
    "             names=\"brand\", \n",
    "             title=\"Brand Market Share\",\n",
    "             hole=0.4, \n",
    "             color=\"type\",\n",
    "             color_discrete_map={\"Android\": \"blue\", \"iPhone\": \"red\"})\n",
    "\n",
    "fig.show()\n"
   ]
  },
  {
   "cell_type": "code",
   "execution_count": 44,
   "metadata": {},
   "outputs": [
    {
     "data": {
      "application/vnd.plotly.v1+json": {
       "config": {
        "plotlyServerURL": "https://plot.ly"
       },
       "data": [
        {
         "hovertemplate": "brand=vivo<br>price=%{x}<br>ratings=%{y}<br>discount=%{marker.size}<extra></extra>",
         "legendgroup": "vivo",
         "marker": {
          "color": "#636efa",
          "size": [
           30,
           27,
           19,
           26,
           43,
           28,
           33,
           14,
           31,
           31,
           25,
           31,
           33,
           19,
           18,
           19,
           18,
           25,
           27,
           23,
           21,
           23,
           21,
           16,
           15,
           16,
           15,
           26,
           26,
           26,
           28,
           27,
           26,
           19,
           15,
           28,
           22,
           48,
           27,
           10,
           11,
           9,
           16,
           19,
           38,
           23,
           18,
           23,
           25,
           23,
           25,
           22,
           20,
           24,
           12,
           13,
           14,
           12,
           13,
           14,
           12,
           13,
           14,
           9,
           8,
           9,
           8,
           20,
           19,
           20,
           19,
           12,
           13,
           16,
           13,
           16,
           12,
           13,
           12,
           12,
           31,
           8,
           7,
           31,
           22,
           38,
           38,
           25,
           26,
           26,
           32,
           20,
           28,
           29,
           34,
           40,
           17,
           17,
           33,
           8,
           25,
           31,
           28,
           33,
           33,
           39,
           32,
           29,
           19,
           16,
           19,
           30,
           33,
           21,
           38,
           9,
           48,
           7,
           28,
           22,
           22,
           27,
           29,
           19,
           25,
           20,
           10,
           25,
           27,
           22,
           19,
           26,
           23,
           31,
           26,
           21,
           20,
           34,
           28,
           27,
           27,
           13,
           26,
           15,
           26,
           18,
           17,
           18,
           17,
           18,
           20,
           20,
           39,
           31,
           31,
           28,
           28,
           31,
           30,
           34
          ],
          "sizemode": "area",
          "sizeref": 0.0248,
          "symbol": "circle"
         },
         "mode": "markers",
         "name": "vivo",
         "orientation": "v",
         "showlegend": true,
         "type": "scatter",
         "x": [
          14499,
          14499,
          16990,
          21990,
          24999,
          17999,
          15999,
          23999,
          12999,
          12999,
          15599,
          12999,
          11999,
          18499,
          20499,
          18499,
          20499,
          11499,
          10499,
          22999,
          24999,
          22999,
          24999,
          29999,
          33999,
          29999,
          33999,
          13999,
          13999,
          13999,
          13990,
          26999,
          10449,
          38990,
          27999,
          9999,
          35999,
          35999,
          14499,
          32999,
          19490,
          16499,
          35140,
          32999,
          39999,
          29790,
          34999,
          29945,
          34999,
          39999,
          34999,
          25499,
          27999,
          24790,
          34999,
          36999,
          41999,
          34999,
          36999,
          42999,
          34999,
          36999,
          41999,
          49999,
          55999,
          49999,
          55999,
          26999,
          28999,
          26999,
          28999,
          34999,
          36999,
          40999,
          36999,
          40999,
          34999,
          36999,
          65999,
          65999,
          29775,
          49990,
          59999,
          42990,
          50499,
          7999,
          7999,
          23999,
          21999,
          21999,
          10990,
          11990,
          36999,
          9799,
          9499,
          8899,
          9597,
          31780,
          10005,
          64995,
          11899,
          14999,
          8399,
          7999,
          7999,
          8499,
          9499,
          23999,
          23299,
          23490,
          23299,
          24999,
          24999,
          15490,
          29800,
          19490,
          8790,
          43990,
          19985,
          15499,
          15499,
          14499,
          13499,
          14499,
          12499,
          12816,
          13999,
          12999,
          12999,
          12390,
          10449,
          11900,
          9850,
          10999,
          10999,
          12590,
          11999,
          11499,
          11499,
          14441,
          12999,
          15499,
          18999,
          13999,
          18999,
          21999,
          23999,
          21999,
          23999,
          21999,
          23999,
          23999,
          13999,
          14999,
          14999,
          17999,
          17999,
          16332,
          16695,
          9499
         ],
         "xaxis": "x",
         "y": [
          116399,
          116399,
          181273,
          21239,
          21239,
          20055,
          113403,
          123257,
          448995,
          448995,
          77156,
          448995,
          187114,
          107344,
          107344,
          107344,
          107344,
          82404,
          55964,
          48590,
          48590,
          48590,
          48590,
          12260,
          5996,
          12260,
          5996,
          138072,
          138072,
          138072,
          5651,
          4217,
          4217,
          1807,
          8983,
          1978,
          7632,
          7632,
          7632,
          28151,
          8112,
          9588,
          3004,
          9588,
          6224,
          4,
          1131,
          7721,
          6254,
          2131,
          6254,
          5596,
          5596,
          5596,
          8027,
          8027,
          1050,
          8027,
          8027,
          1050,
          8027,
          8027,
          1050,
          1029,
          778,
          1029,
          778,
          6121,
          6121,
          6121,
          6121,
          454,
          454,
          139,
          454,
          139,
          454,
          454,
          527,
          527,
          3845,
          431,
          431,
          1069,
          502,
          1826,
          1416,
          742,
          742,
          742,
          4790,
          4790,
          1638,
          1638,
          1638,
          1638,
          8331,
          3276,
          3276,
          3276,
          8331,
          1429,
          808,
          1993,
          1993,
          112,
          112,
          3241,
          3241,
          3241,
          3241,
          401,
          401,
          2968,
          15395,
          15395,
          532,
          532,
          2056,
          2056,
          1947,
          2164,
          2164,
          2164,
          2723,
          2723,
          2723,
          298,
          567,
          107,
          107,
          107,
          107,
          620,
          620,
          620,
          620,
          620,
          620,
          857,
          239,
          371,
          315,
          194,
          315,
          1401,
          1401,
          1401,
          1401,
          1401,
          250,
          250,
          4528,
          1369,
          1369,
          4595,
          4595,
          589,
          589,
          4750
         ],
         "yaxis": "y"
        }
       ],
       "frames": [
        {
         "data": [
          {
           "hovertemplate": "brand=vivo<br>price=%{x}<br>ratings=%{y}<br>discount=%{marker.size}<extra></extra>",
           "legendgroup": "vivo",
           "marker": {
            "color": "#636efa",
            "size": [
             30,
             27,
             19,
             26,
             43,
             28,
             33,
             14,
             31,
             31,
             25,
             31,
             33,
             19,
             18,
             19,
             18,
             25,
             27,
             23,
             21,
             23,
             21,
             16,
             15,
             16,
             15,
             26,
             26,
             26,
             28,
             27,
             26,
             19,
             15,
             28,
             22,
             48,
             27,
             10,
             11,
             9,
             16,
             19,
             38,
             23,
             18,
             23,
             25,
             23,
             25,
             22,
             20,
             24,
             12,
             13,
             14,
             12,
             13,
             14,
             12,
             13,
             14,
             9,
             8,
             9,
             8,
             20,
             19,
             20,
             19,
             12,
             13,
             16,
             13,
             16,
             12,
             13,
             12,
             12,
             31,
             8,
             7,
             31,
             22,
             38,
             38,
             25,
             26,
             26,
             32,
             20,
             28,
             29,
             34,
             40,
             17,
             17,
             33,
             8,
             25,
             31,
             28,
             33,
             33,
             39,
             32,
             29,
             19,
             16,
             19,
             30,
             33,
             21,
             38,
             9,
             48,
             7,
             28,
             22,
             22,
             27,
             29,
             19,
             25,
             20,
             10,
             25,
             27,
             22,
             19,
             26,
             23,
             31,
             26,
             21,
             20,
             34,
             28,
             27,
             27,
             13,
             26,
             15,
             26,
             18,
             17,
             18,
             17,
             18,
             20,
             20,
             39,
             31,
             31,
             28,
             28,
             31,
             30,
             34
            ],
            "sizemode": "area",
            "sizeref": 0.0248,
            "symbol": "circle"
           },
           "mode": "markers",
           "name": "vivo",
           "orientation": "v",
           "showlegend": true,
           "type": "scatter",
           "x": [
            14499,
            14499,
            16990,
            21990,
            24999,
            17999,
            15999,
            23999,
            12999,
            12999,
            15599,
            12999,
            11999,
            18499,
            20499,
            18499,
            20499,
            11499,
            10499,
            22999,
            24999,
            22999,
            24999,
            29999,
            33999,
            29999,
            33999,
            13999,
            13999,
            13999,
            13990,
            26999,
            10449,
            38990,
            27999,
            9999,
            35999,
            35999,
            14499,
            32999,
            19490,
            16499,
            35140,
            32999,
            39999,
            29790,
            34999,
            29945,
            34999,
            39999,
            34999,
            25499,
            27999,
            24790,
            34999,
            36999,
            41999,
            34999,
            36999,
            42999,
            34999,
            36999,
            41999,
            49999,
            55999,
            49999,
            55999,
            26999,
            28999,
            26999,
            28999,
            34999,
            36999,
            40999,
            36999,
            40999,
            34999,
            36999,
            65999,
            65999,
            29775,
            49990,
            59999,
            42990,
            50499,
            7999,
            7999,
            23999,
            21999,
            21999,
            10990,
            11990,
            36999,
            9799,
            9499,
            8899,
            9597,
            31780,
            10005,
            64995,
            11899,
            14999,
            8399,
            7999,
            7999,
            8499,
            9499,
            23999,
            23299,
            23490,
            23299,
            24999,
            24999,
            15490,
            29800,
            19490,
            8790,
            43990,
            19985,
            15499,
            15499,
            14499,
            13499,
            14499,
            12499,
            12816,
            13999,
            12999,
            12999,
            12390,
            10449,
            11900,
            9850,
            10999,
            10999,
            12590,
            11999,
            11499,
            11499,
            14441,
            12999,
            15499,
            18999,
            13999,
            18999,
            21999,
            23999,
            21999,
            23999,
            21999,
            23999,
            23999,
            13999,
            14999,
            14999,
            17999,
            17999,
            16332,
            16695,
            9499
           ],
           "xaxis": "x",
           "y": [
            116399,
            116399,
            181273,
            21239,
            21239,
            20055,
            113403,
            123257,
            448995,
            448995,
            77156,
            448995,
            187114,
            107344,
            107344,
            107344,
            107344,
            82404,
            55964,
            48590,
            48590,
            48590,
            48590,
            12260,
            5996,
            12260,
            5996,
            138072,
            138072,
            138072,
            5651,
            4217,
            4217,
            1807,
            8983,
            1978,
            7632,
            7632,
            7632,
            28151,
            8112,
            9588,
            3004,
            9588,
            6224,
            4,
            1131,
            7721,
            6254,
            2131,
            6254,
            5596,
            5596,
            5596,
            8027,
            8027,
            1050,
            8027,
            8027,
            1050,
            8027,
            8027,
            1050,
            1029,
            778,
            1029,
            778,
            6121,
            6121,
            6121,
            6121,
            454,
            454,
            139,
            454,
            139,
            454,
            454,
            527,
            527,
            3845,
            431,
            431,
            1069,
            502,
            1826,
            1416,
            742,
            742,
            742,
            4790,
            4790,
            1638,
            1638,
            1638,
            1638,
            8331,
            3276,
            3276,
            3276,
            8331,
            1429,
            808,
            1993,
            1993,
            112,
            112,
            3241,
            3241,
            3241,
            3241,
            401,
            401,
            2968,
            15395,
            15395,
            532,
            532,
            2056,
            2056,
            1947,
            2164,
            2164,
            2164,
            2723,
            2723,
            2723,
            298,
            567,
            107,
            107,
            107,
            107,
            620,
            620,
            620,
            620,
            620,
            620,
            857,
            239,
            371,
            315,
            194,
            315,
            1401,
            1401,
            1401,
            1401,
            1401,
            250,
            250,
            4528,
            1369,
            1369,
            4595,
            4595,
            589,
            589,
            4750
           ],
           "yaxis": "y"
          }
         ],
         "name": "vivo"
        },
        {
         "data": [
          {
           "hovertemplate": "brand=realme<br>price=%{x}<br>ratings=%{y}<br>discount=%{marker.size}<extra></extra>",
           "legendgroup": "realme",
           "marker": {
            "color": "#EF553B",
            "size": [
             37,
             35,
             14,
             15,
             33,
             34,
             33,
             34,
             37,
             36,
             37,
             36,
             37,
             36,
             25,
             15,
             32,
             15,
             28,
             28,
             28,
             29,
             18,
             13,
             22,
             22,
             24,
             22,
             30,
             24,
             22,
             22,
             30,
             29,
             30,
             29,
             34,
             10,
             11,
             10,
             10,
             10,
             10,
             10,
             11,
             11,
             11,
             11,
             33,
             22,
             21,
             8,
             25,
             8,
             25,
             12,
             25,
             28,
             38,
             30,
             28,
             30,
             18,
             20,
             18,
             14,
             35,
             28,
             14,
             14,
             15,
             15,
             24,
             18,
             13,
             21,
             28,
             30,
             25,
             23,
             17,
             15,
             16,
             62,
             55,
             16,
             19,
             26,
             22,
             26,
             25,
             23,
             21,
             8,
             22,
             22,
             20,
             20,
             32,
             32,
             22,
             23,
             26,
             15,
             3,
             8,
             22,
             21,
             10,
             24,
             25,
             24,
             27,
             17,
             27,
             17,
             27,
             17,
             36,
             33,
             36,
             33,
             14,
             8,
             8,
             26,
             21,
             24,
             25,
             27
            ],
            "sizemode": "area",
            "sizeref": 0.0248,
            "symbol": "circle"
           },
           "mode": "markers",
           "name": "realme",
           "orientation": "v",
           "showlegend": true,
           "type": "scatter",
           "x": [
            9999,
            12999,
            17999,
            16999,
            19999,
            22999,
            19999,
            20999,
            21999,
            22999,
            21999,
            23999,
            21999,
            23999,
            20999,
            21999,
            20999,
            21999,
            13499,
            13499,
            13499,
            17999,
            17999,
            19999,
            23999,
            26999,
            21999,
            23999,
            24390,
            21999,
            23999,
            26999,
            26999,
            25999,
            26999,
            28999,
            22999,
            24999,
            22999,
            26999,
            26999,
            24999,
            24999,
            26999,
            29999,
            14999,
            14999,
            14999,
            17999,
            16198,
            16445,
            20990,
            15027,
            20990,
            13499,
            11499,
            13499,
            11499,
            8574,
            8999,
            9999,
            8999,
            8999,
            9499,
            8999,
            11999,
            10999,
            7864,
            7699,
            7699,
            8499,
            8499,
            11299,
            11395,
            12999,
            10999,
            11498,
            11178,
            10499,
            12999,
            11499,
            14999,
            14999,
            21999,
            29999,
            29999,
            37999,
            37999,
            33999,
            37999,
            25280,
            27418,
            29995,
            30999,
            29490,
            32893,
            59999,
            59999,
            11499,
            11490,
            11650,
            11499,
            10999,
            7613,
            10560,
            7990,
            8493,
            8599,
            8990,
            12115,
            10399,
            12140,
            15999,
            18999,
            15999,
            18999,
            15999,
            18999,
            15999,
            17999,
            15999,
            17999,
            17999,
            20999,
            20999,
            18999,
            21890,
            15199,
            20990,
            22450
           ],
           "xaxis": "x",
           "y": [
            27420,
            12836,
            2426,
            7935,
            32861,
            12513,
            32861,
            32861,
            26058,
            26058,
            26058,
            13749,
            26058,
            13749,
            19549,
            19549,
            19549,
            19549,
            49675,
            49675,
            49675,
            796,
            796,
            796,
            5997,
            652,
            5997,
            5997,
            652,
            5997,
            5997,
            652,
            6365,
            10119,
            6365,
            6365,
            2374,
            2374,
            2374,
            229,
            229,
            2176,
            2176,
            2176,
            2901,
            3699,
            3699,
            3699,
            267513,
            1865,
            1865,
            306,
            2533,
            306,
            70914,
            175932,
            70914,
            175932,
            139931,
            139931,
            47953,
            47953,
            92232,
            92232,
            92232,
            134463,
            134463,
            10660,
            4579,
            4579,
            9774,
            9774,
            2954,
            14676,
            2954,
            14676,
            11973,
            11973,
            4953,
            1003,
            4953,
            1366,
            1366,
            5539,
            2178,
            2178,
            924,
            3611,
            2155,
            3611,
            2225,
            2225,
            818,
            2225,
            818,
            818,
            4,
            4,
            1174,
            1174,
            3873,
            3873,
            107570,
            3354,
            1099,
            3354,
            2852,
            2852,
            2852,
            116,
            803,
            116,
            45885,
            45885,
            45885,
            45885,
            45885,
            45885,
            29477,
            6430,
            29477,
            6430,
            1864,
            425,
            425,
            8217,
            7398,
            7398,
            7398,
            7398
           ],
           "yaxis": "y"
          }
         ],
         "name": "realme"
        },
        {
         "data": [
          {
           "hovertemplate": "brand=Samsung<br>price=%{x}<br>ratings=%{y}<br>discount=%{marker.size}<extra></extra>",
           "legendgroup": "Samsung",
           "marker": {
            "color": "#00cc96",
            "size": [
             26,
             21,
             17,
             21,
             17,
             25,
             23,
             16,
             45,
             38,
             46,
             36,
             37,
             37,
             8,
             34,
             27,
             50,
             10,
             45,
             27,
             28,
             25,
             20,
             56,
             20,
             22,
             28,
             47,
             25,
             18,
             30,
             18,
             27,
             45,
             47,
             40,
             27,
             32,
             21,
             6,
             30,
             32,
             23,
             35,
             33,
             20,
             30,
             34,
             33,
             24,
             6,
             19,
             35,
             30,
             19,
             17,
             19,
             17,
             19,
             32,
             33,
             43,
             20,
             25,
             20,
             22,
             15,
             11,
             34,
             33,
             56,
             34,
             31,
             25,
             36,
             39,
             26,
             23,
             53,
             50,
             33,
             40,
             27,
             40,
             19,
             40,
             23,
             40,
             20,
             27,
             27,
             27,
             25,
             13,
             38,
             43,
             7,
             23,
             30,
             22,
             24,
             44,
             24,
             26,
             17,
             37,
             41,
             19,
             23,
             30,
             21,
             14,
             33,
             46,
             39,
             20,
             35,
             38,
             38,
             40,
             22,
             30,
             18,
             25,
             21,
             21,
             25,
             18,
             22,
             16,
             26,
             46
            ],
            "sizemode": "area",
            "sizeref": 0.0248,
            "symbol": "circle"
           },
           "mode": "markers",
           "name": "Samsung",
           "orientation": "v",
           "showlegend": true,
           "type": "scatter",
           "x": [
            16999,
            13699,
            32999,
            12799,
            32999,
            6990,
            8909,
            12499,
            8114,
            7699,
            8067,
            7899,
            9990,
            9990,
            11499,
            11499,
            11499,
            13499,
            11248,
            18499,
            15499,
            18499,
            20999,
            16999,
            19999,
            14499,
            24498,
            14363,
            19999,
            14973,
            18990,
            15499,
            19999,
            18499,
            16790,
            16999,
            16798,
            22990,
            21042,
            25999,
            25999,
            28999,
            24491,
            28999,
            13599,
            27990,
            31999,
            28999,
            31990,
            27999,
            33999,
            45999,
            34599,
            6499,
            14999,
            10499,
            11499,
            10499,
            11499,
            10499,
            10999,
            9299,
            13490,
            13499,
            13499,
            13499,
            18499,
            21999,
            31999,
            23999,
            26999,
            19498,
            9890,
            24000,
            16499,
            8848,
            8450,
            12999,
            12990,
            12970,
            17999,
            1390,
            14497,
            21026,
            14534,
            22399,
            14482,
            20985,
            7999,
            27820,
            95900,
            49999,
            34999,
            37999,
            74999,
            89999,
            81999,
            64999,
            70999,
            82999,
            59999,
            49859,
            59999,
            49795,
            43999,
            144999,
            62999,
            80999,
            92999,
            80999,
            92999,
            80999,
            79149,
            111999,
            99999,
            129999,
            141999,
            79999,
            96999,
            104999,
            96999,
            97999,
            6967,
            12898,
            12715,
            14060,
            12748,
            16890,
            45999,
            34990,
            11499,
            45999,
            34990
           ],
           "xaxis": "x",
           "y": [
            13,
            39,
            5593,
            1725,
            1828,
            165,
            199,
            457,
            457,
            424,
            457,
            424,
            104,
            104,
            28,
            28,
            28,
            556,
            73187,
            42013,
            42013,
            42013,
            73187,
            3610,
            3610,
            1777,
            3610,
            466,
            1254,
            466,
            1254,
            466,
            1254,
            678,
            1409,
            2977,
            1409,
            256,
            7049,
            4644,
            4644,
            4644,
            4644,
            4644,
            1923,
            4670,
            4670,
            4670,
            4670,
            4670,
            1218,
            405,
            1218,
            36030,
            302637,
            302637,
            302637,
            302637,
            302637,
            302637,
            209617,
            9,
            126591,
            31446,
            31446,
            31446,
            224614,
            15797,
            30233,
            1577,
            522,
            13002,
            10731,
            17396,
            1725,
            2833,
            2833,
            7278,
            3077,
            3077,
            13160,
            5458,
            10019,
            752,
            10019,
            752,
            10019,
            752,
            739,
            44,
            73378,
            73378,
            67986,
            67986,
            4088,
            4088,
            4088,
            1683,
            1683,
            1683,
            500,
            500,
            500,
            500,
            500,
            2608,
            5155,
            911,
            911,
            911,
            911,
            911,
            911,
            30,
            30,
            975,
            975,
            790,
            500,
            500,
            500,
            500,
            1190,
            4088,
            287,
            95,
            3077,
            95,
            151064,
            151064,
            151064,
            151064,
            151064
           ],
           "yaxis": "y"
          }
         ],
         "name": "Samsung"
        },
        {
         "data": [
          {
           "hovertemplate": "brand=OPPO<br>price=%{x}<br>ratings=%{y}<br>discount=%{marker.size}<extra></extra>",
           "legendgroup": "OPPO",
           "marker": {
            "color": "#ab63fa",
            "size": [
             43,
             15,
             17,
             25,
             30,
             22,
             14,
             16,
             20,
             2,
             29,
             7,
             28,
             28,
             13,
             21,
             7,
             23,
             5,
             27,
             31,
             22,
             25,
             23,
             11,
             33,
             31,
             27,
             36,
             18,
             25,
             26,
             25,
             18,
             18,
             13,
             21,
             48,
             30,
             20,
             29,
             40,
             31,
             16,
             16,
             9,
             20,
             22,
             20,
             24,
             25,
             20,
             10,
             50,
             25,
             25,
             21,
             31,
             9,
             30,
             23,
             15,
             23,
             23,
             23,
             15,
             14,
             25,
             25,
             12,
             34,
             9,
             26,
             22,
             25,
             15,
             15,
             8,
             28,
             26,
             6,
             20,
             9,
             9,
             9,
             9,
             9,
             9,
             9,
             16,
             24,
             40,
             24,
             23
            ],
            "sizemode": "area",
            "sizeref": 0.0248,
            "symbol": "circle"
           },
           "mode": "markers",
           "name": "OPPO",
           "orientation": "v",
           "showlegend": true,
           "type": "scatter",
           "x": [
            31999,
            17999,
            23999,
            14999,
            13999,
            17999,
            19999,
            17999,
            19999,
            15999,
            27525,
            12999,
            9999,
            9999,
            9999,
            12499,
            20999,
            11499,
            18989,
            36999,
            12990,
            13999,
            13500,
            19490,
            17499,
            38999,
            29999,
            15999,
            16999,
            17998,
            79999,
            26999,
            20999,
            25999,
            25999,
            17706,
            21999,
            15999,
            16999,
            22999,
            20499,
            9499,
            19999,
            25999,
            25999,
            20999,
            22999,
            20999,
            22999,
            25999,
            27999,
            27999,
            89999,
            49999,
            74999,
            74999,
            69999,
            11999,
            99999,
            18999,
            12999,
            15999,
            12999,
            16099,
            12999,
            15999,
            32999,
            32999,
            32999,
            36999,
            36999,
            14499,
            40999,
            29440,
            12999,
            37999,
            37999,
            54999,
            27999,
            29999,
            32999,
            37999,
            39999,
            37999,
            39999,
            49999,
            54999,
            49999,
            54999,
            11499,
            40999,
            9499,
            38999,
            38999
           ],
           "xaxis": "x",
           "y": [
            1705,
            1705,
            1705,
            690,
            690,
            1790,
            1790,
            1790,
            1790,
            1862,
            1862,
            17882,
            525,
            525,
            21,
            1785,
            1785,
            1785,
            1497,
            2641,
            1848,
            1205,
            1205,
            1319,
            2588,
            1108,
            1108,
            7732,
            7732,
            7732,
            43,
            4492,
            6617,
            1132,
            1132,
            116,
            1656,
            1952,
            1952,
            1936,
            1936,
            6522,
            6522,
            6522,
            6522,
            1395,
            1395,
            1395,
            1395,
            3889,
            3889,
            3889,
            326,
            326,
            537,
            537,
            485,
            4492,
            54,
            39078,
            137954,
            17459,
            137954,
            17459,
            137954,
            17459,
            1147,
            1147,
            1147,
            4492,
            4492,
            54,
            4492,
            43030,
            43030,
            11230,
            11230,
            2393,
            11330,
            11330,
            1949,
            1762,
            1762,
            1762,
            1762,
            519,
            519,
            519,
            519,
            5164,
            2641,
            39078,
            17762,
            17762
           ],
           "yaxis": "y"
          }
         ],
         "name": "OPPO"
        },
        {
         "data": [
          {
           "hovertemplate": "brand=Apple<br>price=%{x}<br>ratings=%{y}<br>discount=%{marker.size}<extra></extra>",
           "legendgroup": "Apple",
           "marker": {
            "color": "#FFA15A",
            "size": [
             14,
             13,
             12,
             7,
             5,
             13,
             8,
             7,
             2,
             2,
             13,
             8,
             9,
             6,
             6,
             8,
             31,
             8,
             23,
             9,
             8,
             2,
             7,
             8,
             35,
             38,
             9,
             8,
             8,
             5,
             9,
             8,
             7,
             6,
             2,
             6,
             8,
             23,
             6,
             2,
             6,
             8,
             2,
             8
            ],
            "sizemode": "area",
            "sizeref": 0.0248,
            "symbol": "circle"
           },
           "mode": "markers",
           "name": "Apple",
           "orientation": "v",
           "showlegend": true,
           "type": "scatter",
           "x": [
            48900,
            43900,
            48900,
            43900,
            49900,
            106600,
            54900,
            48900,
            48900,
            59900,
            74900,
            44999,
            54999,
            54999,
            74999,
            54999,
            159900,
            49900,
            74900,
            64900,
            74900,
            54999,
            69900,
            79900,
            164900,
            64999,
            164900,
            25000,
            34900,
            31500,
            77000,
            39900,
            84900,
            49900,
            52600,
            52900,
            47900,
            47900,
            45499,
            91900,
            103900,
            89900,
            103900,
            109900
           ],
           "xaxis": "x",
           "y": [
            205974,
            205974,
            205974,
            205974,
            205974,
            8694,
            212000,
            212000,
            212000,
            130710,
            130710,
            287746,
            287746,
            287746,
            287746,
            287746,
            2080,
            3845,
            3845,
            3845,
            3845,
            310216,
            85263,
            85263,
            2397,
            246841,
            2948,
            62684,
            95022,
            95022,
            11369,
            11369,
            3428,
            3428,
            1417,
            100909,
            100909,
            100909,
            100909,
            100909,
            11938,
            11938,
            11938,
            1451
           ],
           "yaxis": "y"
          }
         ],
         "name": "Apple"
        }
       ],
       "layout": {
        "legend": {
         "itemsizing": "constant",
         "title": {
          "text": "brand"
         },
         "tracegroupgap": 0
        },
        "sliders": [
         {
          "active": 0,
          "currentvalue": {
           "prefix": "brand="
          },
          "len": 0.9,
          "pad": {
           "b": 10,
           "t": 60
          },
          "steps": [
           {
            "args": [
             [
              "vivo"
             ],
             {
              "frame": {
               "duration": 0,
               "redraw": false
              },
              "fromcurrent": true,
              "mode": "immediate",
              "transition": {
               "duration": 0,
               "easing": "linear"
              }
             }
            ],
            "label": "vivo",
            "method": "animate"
           },
           {
            "args": [
             [
              "realme"
             ],
             {
              "frame": {
               "duration": 0,
               "redraw": false
              },
              "fromcurrent": true,
              "mode": "immediate",
              "transition": {
               "duration": 0,
               "easing": "linear"
              }
             }
            ],
            "label": "realme",
            "method": "animate"
           },
           {
            "args": [
             [
              "Samsung"
             ],
             {
              "frame": {
               "duration": 0,
               "redraw": false
              },
              "fromcurrent": true,
              "mode": "immediate",
              "transition": {
               "duration": 0,
               "easing": "linear"
              }
             }
            ],
            "label": "Samsung",
            "method": "animate"
           },
           {
            "args": [
             [
              "OPPO"
             ],
             {
              "frame": {
               "duration": 0,
               "redraw": false
              },
              "fromcurrent": true,
              "mode": "immediate",
              "transition": {
               "duration": 0,
               "easing": "linear"
              }
             }
            ],
            "label": "OPPO",
            "method": "animate"
           },
           {
            "args": [
             [
              "Apple"
             ],
             {
              "frame": {
               "duration": 0,
               "redraw": false
              },
              "fromcurrent": true,
              "mode": "immediate",
              "transition": {
               "duration": 0,
               "easing": "linear"
              }
             }
            ],
            "label": "Apple",
            "method": "animate"
           }
          ],
          "x": 0.1,
          "xanchor": "left",
          "y": 0,
          "yanchor": "top"
         }
        ],
        "template": {
         "data": {
          "bar": [
           {
            "error_x": {
             "color": "#2a3f5f"
            },
            "error_y": {
             "color": "#2a3f5f"
            },
            "marker": {
             "line": {
              "color": "#E5ECF6",
              "width": 0.5
             },
             "pattern": {
              "fillmode": "overlay",
              "size": 10,
              "solidity": 0.2
             }
            },
            "type": "bar"
           }
          ],
          "barpolar": [
           {
            "marker": {
             "line": {
              "color": "#E5ECF6",
              "width": 0.5
             },
             "pattern": {
              "fillmode": "overlay",
              "size": 10,
              "solidity": 0.2
             }
            },
            "type": "barpolar"
           }
          ],
          "carpet": [
           {
            "aaxis": {
             "endlinecolor": "#2a3f5f",
             "gridcolor": "white",
             "linecolor": "white",
             "minorgridcolor": "white",
             "startlinecolor": "#2a3f5f"
            },
            "baxis": {
             "endlinecolor": "#2a3f5f",
             "gridcolor": "white",
             "linecolor": "white",
             "minorgridcolor": "white",
             "startlinecolor": "#2a3f5f"
            },
            "type": "carpet"
           }
          ],
          "choropleth": [
           {
            "colorbar": {
             "outlinewidth": 0,
             "ticks": ""
            },
            "type": "choropleth"
           }
          ],
          "contour": [
           {
            "colorbar": {
             "outlinewidth": 0,
             "ticks": ""
            },
            "colorscale": [
             [
              0,
              "#0d0887"
             ],
             [
              0.1111111111111111,
              "#46039f"
             ],
             [
              0.2222222222222222,
              "#7201a8"
             ],
             [
              0.3333333333333333,
              "#9c179e"
             ],
             [
              0.4444444444444444,
              "#bd3786"
             ],
             [
              0.5555555555555556,
              "#d8576b"
             ],
             [
              0.6666666666666666,
              "#ed7953"
             ],
             [
              0.7777777777777778,
              "#fb9f3a"
             ],
             [
              0.8888888888888888,
              "#fdca26"
             ],
             [
              1,
              "#f0f921"
             ]
            ],
            "type": "contour"
           }
          ],
          "contourcarpet": [
           {
            "colorbar": {
             "outlinewidth": 0,
             "ticks": ""
            },
            "type": "contourcarpet"
           }
          ],
          "heatmap": [
           {
            "colorbar": {
             "outlinewidth": 0,
             "ticks": ""
            },
            "colorscale": [
             [
              0,
              "#0d0887"
             ],
             [
              0.1111111111111111,
              "#46039f"
             ],
             [
              0.2222222222222222,
              "#7201a8"
             ],
             [
              0.3333333333333333,
              "#9c179e"
             ],
             [
              0.4444444444444444,
              "#bd3786"
             ],
             [
              0.5555555555555556,
              "#d8576b"
             ],
             [
              0.6666666666666666,
              "#ed7953"
             ],
             [
              0.7777777777777778,
              "#fb9f3a"
             ],
             [
              0.8888888888888888,
              "#fdca26"
             ],
             [
              1,
              "#f0f921"
             ]
            ],
            "type": "heatmap"
           }
          ],
          "heatmapgl": [
           {
            "colorbar": {
             "outlinewidth": 0,
             "ticks": ""
            },
            "colorscale": [
             [
              0,
              "#0d0887"
             ],
             [
              0.1111111111111111,
              "#46039f"
             ],
             [
              0.2222222222222222,
              "#7201a8"
             ],
             [
              0.3333333333333333,
              "#9c179e"
             ],
             [
              0.4444444444444444,
              "#bd3786"
             ],
             [
              0.5555555555555556,
              "#d8576b"
             ],
             [
              0.6666666666666666,
              "#ed7953"
             ],
             [
              0.7777777777777778,
              "#fb9f3a"
             ],
             [
              0.8888888888888888,
              "#fdca26"
             ],
             [
              1,
              "#f0f921"
             ]
            ],
            "type": "heatmapgl"
           }
          ],
          "histogram": [
           {
            "marker": {
             "pattern": {
              "fillmode": "overlay",
              "size": 10,
              "solidity": 0.2
             }
            },
            "type": "histogram"
           }
          ],
          "histogram2d": [
           {
            "colorbar": {
             "outlinewidth": 0,
             "ticks": ""
            },
            "colorscale": [
             [
              0,
              "#0d0887"
             ],
             [
              0.1111111111111111,
              "#46039f"
             ],
             [
              0.2222222222222222,
              "#7201a8"
             ],
             [
              0.3333333333333333,
              "#9c179e"
             ],
             [
              0.4444444444444444,
              "#bd3786"
             ],
             [
              0.5555555555555556,
              "#d8576b"
             ],
             [
              0.6666666666666666,
              "#ed7953"
             ],
             [
              0.7777777777777778,
              "#fb9f3a"
             ],
             [
              0.8888888888888888,
              "#fdca26"
             ],
             [
              1,
              "#f0f921"
             ]
            ],
            "type": "histogram2d"
           }
          ],
          "histogram2dcontour": [
           {
            "colorbar": {
             "outlinewidth": 0,
             "ticks": ""
            },
            "colorscale": [
             [
              0,
              "#0d0887"
             ],
             [
              0.1111111111111111,
              "#46039f"
             ],
             [
              0.2222222222222222,
              "#7201a8"
             ],
             [
              0.3333333333333333,
              "#9c179e"
             ],
             [
              0.4444444444444444,
              "#bd3786"
             ],
             [
              0.5555555555555556,
              "#d8576b"
             ],
             [
              0.6666666666666666,
              "#ed7953"
             ],
             [
              0.7777777777777778,
              "#fb9f3a"
             ],
             [
              0.8888888888888888,
              "#fdca26"
             ],
             [
              1,
              "#f0f921"
             ]
            ],
            "type": "histogram2dcontour"
           }
          ],
          "mesh3d": [
           {
            "colorbar": {
             "outlinewidth": 0,
             "ticks": ""
            },
            "type": "mesh3d"
           }
          ],
          "parcoords": [
           {
            "line": {
             "colorbar": {
              "outlinewidth": 0,
              "ticks": ""
             }
            },
            "type": "parcoords"
           }
          ],
          "pie": [
           {
            "automargin": true,
            "type": "pie"
           }
          ],
          "scatter": [
           {
            "fillpattern": {
             "fillmode": "overlay",
             "size": 10,
             "solidity": 0.2
            },
            "type": "scatter"
           }
          ],
          "scatter3d": [
           {
            "line": {
             "colorbar": {
              "outlinewidth": 0,
              "ticks": ""
             }
            },
            "marker": {
             "colorbar": {
              "outlinewidth": 0,
              "ticks": ""
             }
            },
            "type": "scatter3d"
           }
          ],
          "scattercarpet": [
           {
            "marker": {
             "colorbar": {
              "outlinewidth": 0,
              "ticks": ""
             }
            },
            "type": "scattercarpet"
           }
          ],
          "scattergeo": [
           {
            "marker": {
             "colorbar": {
              "outlinewidth": 0,
              "ticks": ""
             }
            },
            "type": "scattergeo"
           }
          ],
          "scattergl": [
           {
            "marker": {
             "colorbar": {
              "outlinewidth": 0,
              "ticks": ""
             }
            },
            "type": "scattergl"
           }
          ],
          "scattermapbox": [
           {
            "marker": {
             "colorbar": {
              "outlinewidth": 0,
              "ticks": ""
             }
            },
            "type": "scattermapbox"
           }
          ],
          "scatterpolar": [
           {
            "marker": {
             "colorbar": {
              "outlinewidth": 0,
              "ticks": ""
             }
            },
            "type": "scatterpolar"
           }
          ],
          "scatterpolargl": [
           {
            "marker": {
             "colorbar": {
              "outlinewidth": 0,
              "ticks": ""
             }
            },
            "type": "scatterpolargl"
           }
          ],
          "scatterternary": [
           {
            "marker": {
             "colorbar": {
              "outlinewidth": 0,
              "ticks": ""
             }
            },
            "type": "scatterternary"
           }
          ],
          "surface": [
           {
            "colorbar": {
             "outlinewidth": 0,
             "ticks": ""
            },
            "colorscale": [
             [
              0,
              "#0d0887"
             ],
             [
              0.1111111111111111,
              "#46039f"
             ],
             [
              0.2222222222222222,
              "#7201a8"
             ],
             [
              0.3333333333333333,
              "#9c179e"
             ],
             [
              0.4444444444444444,
              "#bd3786"
             ],
             [
              0.5555555555555556,
              "#d8576b"
             ],
             [
              0.6666666666666666,
              "#ed7953"
             ],
             [
              0.7777777777777778,
              "#fb9f3a"
             ],
             [
              0.8888888888888888,
              "#fdca26"
             ],
             [
              1,
              "#f0f921"
             ]
            ],
            "type": "surface"
           }
          ],
          "table": [
           {
            "cells": {
             "fill": {
              "color": "#EBF0F8"
             },
             "line": {
              "color": "white"
             }
            },
            "header": {
             "fill": {
              "color": "#C8D4E3"
             },
             "line": {
              "color": "white"
             }
            },
            "type": "table"
           }
          ]
         },
         "layout": {
          "annotationdefaults": {
           "arrowcolor": "#2a3f5f",
           "arrowhead": 0,
           "arrowwidth": 1
          },
          "autotypenumbers": "strict",
          "coloraxis": {
           "colorbar": {
            "outlinewidth": 0,
            "ticks": ""
           }
          },
          "colorscale": {
           "diverging": [
            [
             0,
             "#8e0152"
            ],
            [
             0.1,
             "#c51b7d"
            ],
            [
             0.2,
             "#de77ae"
            ],
            [
             0.3,
             "#f1b6da"
            ],
            [
             0.4,
             "#fde0ef"
            ],
            [
             0.5,
             "#f7f7f7"
            ],
            [
             0.6,
             "#e6f5d0"
            ],
            [
             0.7,
             "#b8e186"
            ],
            [
             0.8,
             "#7fbc41"
            ],
            [
             0.9,
             "#4d9221"
            ],
            [
             1,
             "#276419"
            ]
           ],
           "sequential": [
            [
             0,
             "#0d0887"
            ],
            [
             0.1111111111111111,
             "#46039f"
            ],
            [
             0.2222222222222222,
             "#7201a8"
            ],
            [
             0.3333333333333333,
             "#9c179e"
            ],
            [
             0.4444444444444444,
             "#bd3786"
            ],
            [
             0.5555555555555556,
             "#d8576b"
            ],
            [
             0.6666666666666666,
             "#ed7953"
            ],
            [
             0.7777777777777778,
             "#fb9f3a"
            ],
            [
             0.8888888888888888,
             "#fdca26"
            ],
            [
             1,
             "#f0f921"
            ]
           ],
           "sequentialminus": [
            [
             0,
             "#0d0887"
            ],
            [
             0.1111111111111111,
             "#46039f"
            ],
            [
             0.2222222222222222,
             "#7201a8"
            ],
            [
             0.3333333333333333,
             "#9c179e"
            ],
            [
             0.4444444444444444,
             "#bd3786"
            ],
            [
             0.5555555555555556,
             "#d8576b"
            ],
            [
             0.6666666666666666,
             "#ed7953"
            ],
            [
             0.7777777777777778,
             "#fb9f3a"
            ],
            [
             0.8888888888888888,
             "#fdca26"
            ],
            [
             1,
             "#f0f921"
            ]
           ]
          },
          "colorway": [
           "#636efa",
           "#EF553B",
           "#00cc96",
           "#ab63fa",
           "#FFA15A",
           "#19d3f3",
           "#FF6692",
           "#B6E880",
           "#FF97FF",
           "#FECB52"
          ],
          "font": {
           "color": "#2a3f5f"
          },
          "geo": {
           "bgcolor": "white",
           "lakecolor": "white",
           "landcolor": "#E5ECF6",
           "showlakes": true,
           "showland": true,
           "subunitcolor": "white"
          },
          "hoverlabel": {
           "align": "left"
          },
          "hovermode": "closest",
          "mapbox": {
           "style": "light"
          },
          "paper_bgcolor": "white",
          "plot_bgcolor": "#E5ECF6",
          "polar": {
           "angularaxis": {
            "gridcolor": "white",
            "linecolor": "white",
            "ticks": ""
           },
           "bgcolor": "#E5ECF6",
           "radialaxis": {
            "gridcolor": "white",
            "linecolor": "white",
            "ticks": ""
           }
          },
          "scene": {
           "xaxis": {
            "backgroundcolor": "#E5ECF6",
            "gridcolor": "white",
            "gridwidth": 2,
            "linecolor": "white",
            "showbackground": true,
            "ticks": "",
            "zerolinecolor": "white"
           },
           "yaxis": {
            "backgroundcolor": "#E5ECF6",
            "gridcolor": "white",
            "gridwidth": 2,
            "linecolor": "white",
            "showbackground": true,
            "ticks": "",
            "zerolinecolor": "white"
           },
           "zaxis": {
            "backgroundcolor": "#E5ECF6",
            "gridcolor": "white",
            "gridwidth": 2,
            "linecolor": "white",
            "showbackground": true,
            "ticks": "",
            "zerolinecolor": "white"
           }
          },
          "shapedefaults": {
           "line": {
            "color": "#2a3f5f"
           }
          },
          "ternary": {
           "aaxis": {
            "gridcolor": "white",
            "linecolor": "white",
            "ticks": ""
           },
           "baxis": {
            "gridcolor": "white",
            "linecolor": "white",
            "ticks": ""
           },
           "bgcolor": "#E5ECF6",
           "caxis": {
            "gridcolor": "white",
            "linecolor": "white",
            "ticks": ""
           }
          },
          "title": {
           "x": 0.05
          },
          "xaxis": {
           "automargin": true,
           "gridcolor": "white",
           "linecolor": "white",
           "ticks": "",
           "title": {
            "standoff": 15
           },
           "zerolinecolor": "white",
           "zerolinewidth": 2
          },
          "yaxis": {
           "automargin": true,
           "gridcolor": "white",
           "linecolor": "white",
           "ticks": "",
           "title": {
            "standoff": 15
           },
           "zerolinecolor": "white",
           "zerolinewidth": 2
          }
         }
        },
        "title": {
         "text": "Price vs Ratings Over Time"
        },
        "updatemenus": [
         {
          "buttons": [
           {
            "args": [
             null,
             {
              "frame": {
               "duration": 500,
               "redraw": false
              },
              "fromcurrent": true,
              "mode": "immediate",
              "transition": {
               "duration": 500,
               "easing": "linear"
              }
             }
            ],
            "label": "&#9654;",
            "method": "animate"
           },
           {
            "args": [
             [
              null
             ],
             {
              "frame": {
               "duration": 0,
               "redraw": false
              },
              "fromcurrent": true,
              "mode": "immediate",
              "transition": {
               "duration": 0,
               "easing": "linear"
              }
             }
            ],
            "label": "&#9724;",
            "method": "animate"
           }
          ],
          "direction": "left",
          "pad": {
           "r": 10,
           "t": 70
          },
          "showactive": false,
          "type": "buttons",
          "x": 0.1,
          "xanchor": "right",
          "y": 0,
          "yanchor": "top"
         }
        ],
        "xaxis": {
         "anchor": "y",
         "domain": [
          0,
          1
         ],
         "title": {
          "text": "price"
         }
        },
        "yaxis": {
         "anchor": "x",
         "domain": [
          0,
          1
         ],
         "title": {
          "text": "ratings"
         }
        }
       }
      }
     },
     "metadata": {},
     "output_type": "display_data"
    }
   ],
   "source": [
    "fig = px.scatter(df_combined, \n",
    "                 x=\"price\", y=\"ratings\", \n",
    "                 size=\"discount\", color=\"brand\", \n",
    "                 animation_frame=\"brand\",  \n",
    "                 title=\"Price vs Ratings Over Time\",\n",
    "                 size_max=50)\n",
    "fig.show()\n",
    "\n"
   ]
  },
  {
   "cell_type": "code",
   "execution_count": 5,
   "metadata": {},
   "outputs": [
    {
     "data": {
      "application/vnd.plotly.v1+json": {
       "config": {
        "plotlyServerURL": "https://plot.ly"
       },
       "data": [
        {
         "hovertemplate": "brand=vivo<br>price=%{x}<br>ratings=%{y}<br>discount=%{marker.size}<extra></extra>",
         "legendgroup": "vivo",
         "marker": {
          "color": "#636efa",
          "size": [
           30,
           27,
           19,
           26,
           43,
           28,
           33,
           14,
           31,
           31,
           25,
           31,
           33,
           19,
           18,
           19,
           18,
           25,
           27,
           23,
           21,
           23,
           21,
           16,
           15,
           16,
           15,
           26,
           26,
           26,
           28,
           27,
           26,
           19,
           15,
           28,
           22,
           48,
           27,
           10,
           11,
           9,
           16,
           19,
           38,
           23,
           18,
           23,
           25,
           23,
           25,
           22,
           20,
           24,
           12,
           13,
           14,
           12,
           13,
           14,
           12,
           13,
           14,
           9,
           8,
           9,
           8,
           20,
           19,
           20,
           19,
           12,
           13,
           16,
           13,
           16,
           12,
           13,
           12,
           12,
           31,
           8,
           7,
           31,
           22,
           38,
           38,
           25,
           26,
           26,
           32,
           20,
           28,
           29,
           34,
           40,
           17,
           17,
           33,
           8,
           25,
           31,
           28,
           33,
           33,
           39,
           32,
           29,
           19,
           16,
           19,
           30,
           33,
           21,
           38,
           9,
           48,
           7,
           28,
           22,
           22,
           27,
           29,
           19,
           25,
           20,
           10,
           25,
           27,
           22,
           19,
           26,
           23,
           31,
           26,
           21,
           20,
           34,
           28,
           27,
           27,
           13,
           26,
           15,
           26,
           18,
           17,
           18,
           17,
           18,
           20,
           20,
           39,
           31,
           31,
           28,
           28,
           31,
           30,
           34
          ],
          "sizemode": "area",
          "sizeref": 0.0248,
          "symbol": "circle"
         },
         "mode": "markers",
         "name": "vivo",
         "orientation": "v",
         "showlegend": true,
         "type": "scatter",
         "x": [
          14499,
          14499,
          16990,
          21990,
          24999,
          17999,
          15999,
          23999,
          12999,
          12999,
          15599,
          12999,
          11999,
          18499,
          20499,
          18499,
          20499,
          11499,
          10499,
          22999,
          24999,
          22999,
          24999,
          29999,
          33999,
          29999,
          33999,
          13999,
          13999,
          13999,
          13990,
          26999,
          10449,
          38990,
          27999,
          9999,
          35999,
          35999,
          14499,
          32999,
          19490,
          16499,
          35140,
          32999,
          39999,
          29790,
          34999,
          29945,
          34999,
          39999,
          34999,
          25499,
          27999,
          24790,
          34999,
          36999,
          41999,
          34999,
          36999,
          42999,
          34999,
          36999,
          41999,
          49999,
          55999,
          49999,
          55999,
          26999,
          28999,
          26999,
          28999,
          34999,
          36999,
          40999,
          36999,
          40999,
          34999,
          36999,
          65999,
          65999,
          29775,
          49990,
          59999,
          42990,
          50499,
          7999,
          7999,
          23999,
          21999,
          21999,
          10990,
          11990,
          36999,
          9799,
          9499,
          8899,
          9597,
          31780,
          10005,
          64995,
          11899,
          14999,
          8399,
          7999,
          7999,
          8499,
          9499,
          23999,
          23299,
          23490,
          23299,
          24999,
          24999,
          15490,
          29800,
          19490,
          8790,
          43990,
          19985,
          15499,
          15499,
          14499,
          13499,
          14499,
          12499,
          12816,
          13999,
          12999,
          12999,
          12390,
          10449,
          11900,
          9850,
          10999,
          10999,
          12590,
          11999,
          11499,
          11499,
          14441,
          12999,
          15499,
          18999,
          13999,
          18999,
          21999,
          23999,
          21999,
          23999,
          21999,
          23999,
          23999,
          13999,
          14999,
          14999,
          17999,
          17999,
          16332,
          16695,
          9499
         ],
         "xaxis": "x",
         "y": [
          116399,
          116399,
          181273,
          21239,
          21239,
          20055,
          113403,
          123257,
          448995,
          448995,
          77156,
          448995,
          187114,
          107344,
          107344,
          107344,
          107344,
          82404,
          55964,
          48590,
          48590,
          48590,
          48590,
          12260,
          5996,
          12260,
          5996,
          138072,
          138072,
          138072,
          5651,
          4217,
          4217,
          1807,
          8983,
          1978,
          7632,
          7632,
          7632,
          28151,
          8112,
          9588,
          3004,
          9588,
          6224,
          4,
          1131,
          7721,
          6254,
          2131,
          6254,
          5596,
          5596,
          5596,
          8027,
          8027,
          1050,
          8027,
          8027,
          1050,
          8027,
          8027,
          1050,
          1029,
          778,
          1029,
          778,
          6121,
          6121,
          6121,
          6121,
          454,
          454,
          139,
          454,
          139,
          454,
          454,
          527,
          527,
          3845,
          431,
          431,
          1069,
          502,
          1826,
          1416,
          742,
          742,
          742,
          4790,
          4790,
          1638,
          1638,
          1638,
          1638,
          8331,
          3276,
          3276,
          3276,
          8331,
          1429,
          808,
          1993,
          1993,
          112,
          112,
          3241,
          3241,
          3241,
          3241,
          401,
          401,
          2968,
          15395,
          15395,
          532,
          532,
          2056,
          2056,
          1947,
          2164,
          2164,
          2164,
          2723,
          2723,
          2723,
          298,
          567,
          107,
          107,
          107,
          107,
          620,
          620,
          620,
          620,
          620,
          620,
          857,
          239,
          371,
          315,
          194,
          315,
          1401,
          1401,
          1401,
          1401,
          1401,
          250,
          250,
          4528,
          1369,
          1369,
          4595,
          4595,
          589,
          589,
          4750
         ],
         "yaxis": "y"
        }
       ],
       "frames": [
        {
         "data": [
          {
           "hovertemplate": "brand=vivo<br>price=%{x}<br>ratings=%{y}<br>discount=%{marker.size}<extra></extra>",
           "legendgroup": "vivo",
           "marker": {
            "color": "#636efa",
            "size": [
             30,
             27,
             19,
             26,
             43,
             28,
             33,
             14,
             31,
             31,
             25,
             31,
             33,
             19,
             18,
             19,
             18,
             25,
             27,
             23,
             21,
             23,
             21,
             16,
             15,
             16,
             15,
             26,
             26,
             26,
             28,
             27,
             26,
             19,
             15,
             28,
             22,
             48,
             27,
             10,
             11,
             9,
             16,
             19,
             38,
             23,
             18,
             23,
             25,
             23,
             25,
             22,
             20,
             24,
             12,
             13,
             14,
             12,
             13,
             14,
             12,
             13,
             14,
             9,
             8,
             9,
             8,
             20,
             19,
             20,
             19,
             12,
             13,
             16,
             13,
             16,
             12,
             13,
             12,
             12,
             31,
             8,
             7,
             31,
             22,
             38,
             38,
             25,
             26,
             26,
             32,
             20,
             28,
             29,
             34,
             40,
             17,
             17,
             33,
             8,
             25,
             31,
             28,
             33,
             33,
             39,
             32,
             29,
             19,
             16,
             19,
             30,
             33,
             21,
             38,
             9,
             48,
             7,
             28,
             22,
             22,
             27,
             29,
             19,
             25,
             20,
             10,
             25,
             27,
             22,
             19,
             26,
             23,
             31,
             26,
             21,
             20,
             34,
             28,
             27,
             27,
             13,
             26,
             15,
             26,
             18,
             17,
             18,
             17,
             18,
             20,
             20,
             39,
             31,
             31,
             28,
             28,
             31,
             30,
             34
            ],
            "sizemode": "area",
            "sizeref": 0.0248,
            "symbol": "circle"
           },
           "mode": "markers",
           "name": "vivo",
           "orientation": "v",
           "showlegend": true,
           "type": "scatter",
           "x": [
            14499,
            14499,
            16990,
            21990,
            24999,
            17999,
            15999,
            23999,
            12999,
            12999,
            15599,
            12999,
            11999,
            18499,
            20499,
            18499,
            20499,
            11499,
            10499,
            22999,
            24999,
            22999,
            24999,
            29999,
            33999,
            29999,
            33999,
            13999,
            13999,
            13999,
            13990,
            26999,
            10449,
            38990,
            27999,
            9999,
            35999,
            35999,
            14499,
            32999,
            19490,
            16499,
            35140,
            32999,
            39999,
            29790,
            34999,
            29945,
            34999,
            39999,
            34999,
            25499,
            27999,
            24790,
            34999,
            36999,
            41999,
            34999,
            36999,
            42999,
            34999,
            36999,
            41999,
            49999,
            55999,
            49999,
            55999,
            26999,
            28999,
            26999,
            28999,
            34999,
            36999,
            40999,
            36999,
            40999,
            34999,
            36999,
            65999,
            65999,
            29775,
            49990,
            59999,
            42990,
            50499,
            7999,
            7999,
            23999,
            21999,
            21999,
            10990,
            11990,
            36999,
            9799,
            9499,
            8899,
            9597,
            31780,
            10005,
            64995,
            11899,
            14999,
            8399,
            7999,
            7999,
            8499,
            9499,
            23999,
            23299,
            23490,
            23299,
            24999,
            24999,
            15490,
            29800,
            19490,
            8790,
            43990,
            19985,
            15499,
            15499,
            14499,
            13499,
            14499,
            12499,
            12816,
            13999,
            12999,
            12999,
            12390,
            10449,
            11900,
            9850,
            10999,
            10999,
            12590,
            11999,
            11499,
            11499,
            14441,
            12999,
            15499,
            18999,
            13999,
            18999,
            21999,
            23999,
            21999,
            23999,
            21999,
            23999,
            23999,
            13999,
            14999,
            14999,
            17999,
            17999,
            16332,
            16695,
            9499
           ],
           "xaxis": "x",
           "y": [
            116399,
            116399,
            181273,
            21239,
            21239,
            20055,
            113403,
            123257,
            448995,
            448995,
            77156,
            448995,
            187114,
            107344,
            107344,
            107344,
            107344,
            82404,
            55964,
            48590,
            48590,
            48590,
            48590,
            12260,
            5996,
            12260,
            5996,
            138072,
            138072,
            138072,
            5651,
            4217,
            4217,
            1807,
            8983,
            1978,
            7632,
            7632,
            7632,
            28151,
            8112,
            9588,
            3004,
            9588,
            6224,
            4,
            1131,
            7721,
            6254,
            2131,
            6254,
            5596,
            5596,
            5596,
            8027,
            8027,
            1050,
            8027,
            8027,
            1050,
            8027,
            8027,
            1050,
            1029,
            778,
            1029,
            778,
            6121,
            6121,
            6121,
            6121,
            454,
            454,
            139,
            454,
            139,
            454,
            454,
            527,
            527,
            3845,
            431,
            431,
            1069,
            502,
            1826,
            1416,
            742,
            742,
            742,
            4790,
            4790,
            1638,
            1638,
            1638,
            1638,
            8331,
            3276,
            3276,
            3276,
            8331,
            1429,
            808,
            1993,
            1993,
            112,
            112,
            3241,
            3241,
            3241,
            3241,
            401,
            401,
            2968,
            15395,
            15395,
            532,
            532,
            2056,
            2056,
            1947,
            2164,
            2164,
            2164,
            2723,
            2723,
            2723,
            298,
            567,
            107,
            107,
            107,
            107,
            620,
            620,
            620,
            620,
            620,
            620,
            857,
            239,
            371,
            315,
            194,
            315,
            1401,
            1401,
            1401,
            1401,
            1401,
            250,
            250,
            4528,
            1369,
            1369,
            4595,
            4595,
            589,
            589,
            4750
           ],
           "yaxis": "y"
          }
         ],
         "name": "vivo"
        },
        {
         "data": [
          {
           "hovertemplate": "brand=realme<br>price=%{x}<br>ratings=%{y}<br>discount=%{marker.size}<extra></extra>",
           "legendgroup": "realme",
           "marker": {
            "color": "#EF553B",
            "size": [
             37,
             35,
             14,
             15,
             33,
             34,
             33,
             34,
             37,
             36,
             37,
             36,
             37,
             36,
             25,
             15,
             32,
             15,
             28,
             28,
             28,
             29,
             18,
             13,
             22,
             22,
             24,
             22,
             30,
             24,
             22,
             22,
             30,
             29,
             30,
             29,
             34,
             10,
             11,
             10,
             10,
             10,
             10,
             10,
             11,
             11,
             11,
             11,
             33,
             22,
             21,
             8,
             25,
             8,
             25,
             12,
             25,
             28,
             38,
             30,
             28,
             30,
             18,
             20,
             18,
             14,
             35,
             28,
             14,
             14,
             15,
             15,
             24,
             18,
             13,
             21,
             28,
             30,
             25,
             23,
             17,
             15,
             16,
             62,
             55,
             16,
             19,
             26,
             22,
             26,
             25,
             23,
             21,
             8,
             22,
             22,
             20,
             20,
             32,
             32,
             22,
             23,
             26,
             15,
             3,
             8,
             22,
             21,
             10,
             24,
             25,
             24,
             27,
             17,
             27,
             17,
             27,
             17,
             36,
             33,
             36,
             33,
             14,
             8,
             8,
             26,
             21,
             24,
             25,
             27
            ],
            "sizemode": "area",
            "sizeref": 0.0248,
            "symbol": "circle"
           },
           "mode": "markers",
           "name": "realme",
           "orientation": "v",
           "showlegend": true,
           "type": "scatter",
           "x": [
            9999,
            12999,
            17999,
            16999,
            19999,
            22999,
            19999,
            20999,
            21999,
            22999,
            21999,
            23999,
            21999,
            23999,
            20999,
            21999,
            20999,
            21999,
            13499,
            13499,
            13499,
            17999,
            17999,
            19999,
            23999,
            26999,
            21999,
            23999,
            24390,
            21999,
            23999,
            26999,
            26999,
            25999,
            26999,
            28999,
            22999,
            24999,
            22999,
            26999,
            26999,
            24999,
            24999,
            26999,
            29999,
            14999,
            14999,
            14999,
            17999,
            16198,
            16445,
            20990,
            15027,
            20990,
            13499,
            11499,
            13499,
            11499,
            8574,
            8999,
            9999,
            8999,
            8999,
            9499,
            8999,
            11999,
            10999,
            7864,
            7699,
            7699,
            8499,
            8499,
            11299,
            11395,
            12999,
            10999,
            11498,
            11178,
            10499,
            12999,
            11499,
            14999,
            14999,
            21999,
            29999,
            29999,
            37999,
            37999,
            33999,
            37999,
            25280,
            27418,
            29995,
            30999,
            29490,
            32893,
            59999,
            59999,
            11499,
            11490,
            11650,
            11499,
            10999,
            7613,
            10560,
            7990,
            8493,
            8599,
            8990,
            12115,
            10399,
            12140,
            15999,
            18999,
            15999,
            18999,
            15999,
            18999,
            15999,
            17999,
            15999,
            17999,
            17999,
            20999,
            20999,
            18999,
            21890,
            15199,
            20990,
            22450
           ],
           "xaxis": "x",
           "y": [
            27420,
            12836,
            2426,
            7935,
            32861,
            12513,
            32861,
            32861,
            26058,
            26058,
            26058,
            13749,
            26058,
            13749,
            19549,
            19549,
            19549,
            19549,
            49675,
            49675,
            49675,
            796,
            796,
            796,
            5997,
            652,
            5997,
            5997,
            652,
            5997,
            5997,
            652,
            6365,
            10119,
            6365,
            6365,
            2374,
            2374,
            2374,
            229,
            229,
            2176,
            2176,
            2176,
            2901,
            3699,
            3699,
            3699,
            267513,
            1865,
            1865,
            306,
            2533,
            306,
            70914,
            175932,
            70914,
            175932,
            139931,
            139931,
            47953,
            47953,
            92232,
            92232,
            92232,
            134463,
            134463,
            10660,
            4579,
            4579,
            9774,
            9774,
            2954,
            14676,
            2954,
            14676,
            11973,
            11973,
            4953,
            1003,
            4953,
            1366,
            1366,
            5539,
            2178,
            2178,
            924,
            3611,
            2155,
            3611,
            2225,
            2225,
            818,
            2225,
            818,
            818,
            4,
            4,
            1174,
            1174,
            3873,
            3873,
            107570,
            3354,
            1099,
            3354,
            2852,
            2852,
            2852,
            116,
            803,
            116,
            45885,
            45885,
            45885,
            45885,
            45885,
            45885,
            29477,
            6430,
            29477,
            6430,
            1864,
            425,
            425,
            8217,
            7398,
            7398,
            7398,
            7398
           ],
           "yaxis": "y"
          }
         ],
         "name": "realme"
        },
        {
         "data": [
          {
           "hovertemplate": "brand=Samsung<br>price=%{x}<br>ratings=%{y}<br>discount=%{marker.size}<extra></extra>",
           "legendgroup": "Samsung",
           "marker": {
            "color": "#00cc96",
            "size": [
             26,
             21,
             17,
             21,
             17,
             25,
             23,
             16,
             45,
             38,
             46,
             36,
             37,
             37,
             8,
             34,
             27,
             50,
             10,
             45,
             27,
             28,
             25,
             20,
             56,
             20,
             22,
             28,
             47,
             25,
             18,
             30,
             18,
             27,
             45,
             47,
             40,
             27,
             32,
             21,
             6,
             30,
             32,
             23,
             35,
             33,
             20,
             30,
             34,
             33,
             24,
             6,
             19,
             35,
             30,
             19,
             17,
             19,
             17,
             19,
             32,
             33,
             43,
             20,
             25,
             20,
             22,
             15,
             11,
             34,
             33,
             56,
             34,
             31,
             25,
             36,
             39,
             26,
             23,
             53,
             50,
             33,
             40,
             27,
             40,
             19,
             40,
             23,
             40,
             20,
             27,
             27,
             27,
             25,
             13,
             38,
             43,
             7,
             23,
             30,
             22,
             24,
             44,
             24,
             26,
             17,
             37,
             41,
             19,
             23,
             30,
             21,
             14,
             33,
             46,
             39,
             20,
             35,
             38,
             38,
             40,
             22,
             30,
             18,
             25,
             21,
             21,
             25,
             18,
             22,
             16,
             26,
             46
            ],
            "sizemode": "area",
            "sizeref": 0.0248,
            "symbol": "circle"
           },
           "mode": "markers",
           "name": "Samsung",
           "orientation": "v",
           "showlegend": true,
           "type": "scatter",
           "x": [
            16999,
            13699,
            32999,
            12799,
            32999,
            6990,
            8909,
            12499,
            8114,
            7699,
            8067,
            7899,
            9990,
            9990,
            11499,
            11499,
            11499,
            13499,
            11248,
            18499,
            15499,
            18499,
            20999,
            16999,
            19999,
            14499,
            24498,
            14363,
            19999,
            14973,
            18990,
            15499,
            19999,
            18499,
            16790,
            16999,
            16798,
            22990,
            21042,
            25999,
            25999,
            28999,
            24491,
            28999,
            13599,
            27990,
            31999,
            28999,
            31990,
            27999,
            33999,
            45999,
            34599,
            6499,
            14999,
            10499,
            11499,
            10499,
            11499,
            10499,
            10999,
            9299,
            13490,
            13499,
            13499,
            13499,
            18499,
            21999,
            31999,
            23999,
            26999,
            19498,
            9890,
            24000,
            16499,
            8848,
            8450,
            12999,
            12990,
            12970,
            17999,
            1390,
            14497,
            21026,
            14534,
            22399,
            14482,
            20985,
            7999,
            27820,
            95900,
            49999,
            34999,
            37999,
            74999,
            89999,
            81999,
            64999,
            70999,
            82999,
            59999,
            49859,
            59999,
            49795,
            43999,
            144999,
            62999,
            80999,
            92999,
            80999,
            92999,
            80999,
            79149,
            111999,
            99999,
            129999,
            141999,
            79999,
            96999,
            104999,
            96999,
            97999,
            6967,
            12898,
            12715,
            14060,
            12748,
            16890,
            45999,
            34990,
            11499,
            45999,
            34990
           ],
           "xaxis": "x",
           "y": [
            13,
            39,
            5593,
            1725,
            1828,
            165,
            199,
            457,
            457,
            424,
            457,
            424,
            104,
            104,
            28,
            28,
            28,
            556,
            73187,
            42013,
            42013,
            42013,
            73187,
            3610,
            3610,
            1777,
            3610,
            466,
            1254,
            466,
            1254,
            466,
            1254,
            678,
            1409,
            2977,
            1409,
            256,
            7049,
            4644,
            4644,
            4644,
            4644,
            4644,
            1923,
            4670,
            4670,
            4670,
            4670,
            4670,
            1218,
            405,
            1218,
            36030,
            302637,
            302637,
            302637,
            302637,
            302637,
            302637,
            209617,
            9,
            126591,
            31446,
            31446,
            31446,
            224614,
            15797,
            30233,
            1577,
            522,
            13002,
            10731,
            17396,
            1725,
            2833,
            2833,
            7278,
            3077,
            3077,
            13160,
            5458,
            10019,
            752,
            10019,
            752,
            10019,
            752,
            739,
            44,
            73378,
            73378,
            67986,
            67986,
            4088,
            4088,
            4088,
            1683,
            1683,
            1683,
            500,
            500,
            500,
            500,
            500,
            2608,
            5155,
            911,
            911,
            911,
            911,
            911,
            911,
            30,
            30,
            975,
            975,
            790,
            500,
            500,
            500,
            500,
            1190,
            4088,
            287,
            95,
            3077,
            95,
            151064,
            151064,
            151064,
            151064,
            151064
           ],
           "yaxis": "y"
          }
         ],
         "name": "Samsung"
        },
        {
         "data": [
          {
           "hovertemplate": "brand=OPPO<br>price=%{x}<br>ratings=%{y}<br>discount=%{marker.size}<extra></extra>",
           "legendgroup": "OPPO",
           "marker": {
            "color": "#ab63fa",
            "size": [
             43,
             15,
             17,
             25,
             30,
             22,
             14,
             16,
             20,
             2,
             29,
             7,
             28,
             28,
             13,
             21,
             7,
             23,
             5,
             27,
             31,
             22,
             25,
             23,
             11,
             33,
             31,
             27,
             36,
             18,
             25,
             26,
             25,
             18,
             18,
             13,
             21,
             48,
             30,
             20,
             29,
             40,
             31,
             16,
             16,
             9,
             20,
             22,
             20,
             24,
             25,
             20,
             10,
             50,
             25,
             25,
             21,
             31,
             9,
             30,
             23,
             15,
             23,
             23,
             23,
             15,
             14,
             25,
             25,
             12,
             34,
             9,
             26,
             22,
             25,
             15,
             15,
             8,
             28,
             26,
             6,
             20,
             9,
             9,
             9,
             9,
             9,
             9,
             9,
             16,
             24,
             40,
             24,
             23
            ],
            "sizemode": "area",
            "sizeref": 0.0248,
            "symbol": "circle"
           },
           "mode": "markers",
           "name": "OPPO",
           "orientation": "v",
           "showlegend": true,
           "type": "scatter",
           "x": [
            31999,
            17999,
            23999,
            14999,
            13999,
            17999,
            19999,
            17999,
            19999,
            15999,
            27525,
            12999,
            9999,
            9999,
            9999,
            12499,
            20999,
            11499,
            18989,
            36999,
            12990,
            13999,
            13500,
            19490,
            17499,
            38999,
            29999,
            15999,
            16999,
            17998,
            79999,
            26999,
            20999,
            25999,
            25999,
            17706,
            21999,
            15999,
            16999,
            22999,
            20499,
            9499,
            19999,
            25999,
            25999,
            20999,
            22999,
            20999,
            22999,
            25999,
            27999,
            27999,
            89999,
            49999,
            74999,
            74999,
            69999,
            11999,
            99999,
            18999,
            12999,
            15999,
            12999,
            16099,
            12999,
            15999,
            32999,
            32999,
            32999,
            36999,
            36999,
            14499,
            40999,
            29440,
            12999,
            37999,
            37999,
            54999,
            27999,
            29999,
            32999,
            37999,
            39999,
            37999,
            39999,
            49999,
            54999,
            49999,
            54999,
            11499,
            40999,
            9499,
            38999,
            38999
           ],
           "xaxis": "x",
           "y": [
            1705,
            1705,
            1705,
            690,
            690,
            1790,
            1790,
            1790,
            1790,
            1862,
            1862,
            17882,
            525,
            525,
            21,
            1785,
            1785,
            1785,
            1497,
            2641,
            1848,
            1205,
            1205,
            1319,
            2588,
            1108,
            1108,
            7732,
            7732,
            7732,
            43,
            4492,
            6617,
            1132,
            1132,
            116,
            1656,
            1952,
            1952,
            1936,
            1936,
            6522,
            6522,
            6522,
            6522,
            1395,
            1395,
            1395,
            1395,
            3889,
            3889,
            3889,
            326,
            326,
            537,
            537,
            485,
            4492,
            54,
            39078,
            137954,
            17459,
            137954,
            17459,
            137954,
            17459,
            1147,
            1147,
            1147,
            4492,
            4492,
            54,
            4492,
            43030,
            43030,
            11230,
            11230,
            2393,
            11330,
            11330,
            1949,
            1762,
            1762,
            1762,
            1762,
            519,
            519,
            519,
            519,
            5164,
            2641,
            39078,
            17762,
            17762
           ],
           "yaxis": "y"
          }
         ],
         "name": "OPPO"
        },
        {
         "data": [
          {
           "hovertemplate": "brand=Apple<br>price=%{x}<br>ratings=%{y}<br>discount=%{marker.size}<extra></extra>",
           "legendgroup": "Apple",
           "marker": {
            "color": "#FFA15A",
            "size": [
             14,
             13,
             12,
             7,
             5,
             13,
             8,
             7,
             2,
             2,
             13,
             8,
             9,
             6,
             6,
             8,
             31,
             8,
             23,
             9,
             8,
             2,
             7,
             8,
             35,
             38,
             9,
             8,
             8,
             5,
             9,
             8,
             7,
             6,
             2,
             6,
             8,
             23,
             6,
             2,
             6,
             8,
             2,
             8
            ],
            "sizemode": "area",
            "sizeref": 0.0248,
            "symbol": "circle"
           },
           "mode": "markers",
           "name": "Apple",
           "orientation": "v",
           "showlegend": true,
           "type": "scatter",
           "x": [
            48900,
            43900,
            48900,
            43900,
            49900,
            106600,
            54900,
            48900,
            48900,
            59900,
            74900,
            44999,
            54999,
            54999,
            74999,
            54999,
            159900,
            49900,
            74900,
            64900,
            74900,
            54999,
            69900,
            79900,
            164900,
            64999,
            164900,
            25000,
            34900,
            31500,
            77000,
            39900,
            84900,
            49900,
            52600,
            52900,
            47900,
            47900,
            45499,
            91900,
            103900,
            89900,
            103900,
            109900
           ],
           "xaxis": "x",
           "y": [
            205974,
            205974,
            205974,
            205974,
            205974,
            8694,
            212000,
            212000,
            212000,
            130710,
            130710,
            287746,
            287746,
            287746,
            287746,
            287746,
            2080,
            3845,
            3845,
            3845,
            3845,
            310216,
            85263,
            85263,
            2397,
            246841,
            2948,
            62684,
            95022,
            95022,
            11369,
            11369,
            3428,
            3428,
            1417,
            100909,
            100909,
            100909,
            100909,
            100909,
            11938,
            11938,
            11938,
            1451
           ],
           "yaxis": "y"
          }
         ],
         "name": "Apple"
        }
       ],
       "layout": {
        "legend": {
         "itemsizing": "constant",
         "title": {
          "text": "brand"
         },
         "tracegroupgap": 0
        },
        "sliders": [
         {
          "active": 0,
          "currentvalue": {
           "prefix": "brand="
          },
          "len": 0.9,
          "pad": {
           "b": 10,
           "t": 60
          },
          "steps": [
           {
            "args": [
             [
              "vivo"
             ],
             {
              "frame": {
               "duration": 0,
               "redraw": false
              },
              "fromcurrent": true,
              "mode": "immediate",
              "transition": {
               "duration": 0,
               "easing": "linear"
              }
             }
            ],
            "label": "vivo",
            "method": "animate"
           },
           {
            "args": [
             [
              "realme"
             ],
             {
              "frame": {
               "duration": 0,
               "redraw": false
              },
              "fromcurrent": true,
              "mode": "immediate",
              "transition": {
               "duration": 0,
               "easing": "linear"
              }
             }
            ],
            "label": "realme",
            "method": "animate"
           },
           {
            "args": [
             [
              "Samsung"
             ],
             {
              "frame": {
               "duration": 0,
               "redraw": false
              },
              "fromcurrent": true,
              "mode": "immediate",
              "transition": {
               "duration": 0,
               "easing": "linear"
              }
             }
            ],
            "label": "Samsung",
            "method": "animate"
           },
           {
            "args": [
             [
              "OPPO"
             ],
             {
              "frame": {
               "duration": 0,
               "redraw": false
              },
              "fromcurrent": true,
              "mode": "immediate",
              "transition": {
               "duration": 0,
               "easing": "linear"
              }
             }
            ],
            "label": "OPPO",
            "method": "animate"
           },
           {
            "args": [
             [
              "Apple"
             ],
             {
              "frame": {
               "duration": 0,
               "redraw": false
              },
              "fromcurrent": true,
              "mode": "immediate",
              "transition": {
               "duration": 0,
               "easing": "linear"
              }
             }
            ],
            "label": "Apple",
            "method": "animate"
           }
          ],
          "x": 0.1,
          "xanchor": "left",
          "y": 0,
          "yanchor": "top"
         }
        ],
        "template": {
         "data": {
          "bar": [
           {
            "error_x": {
             "color": "#2a3f5f"
            },
            "error_y": {
             "color": "#2a3f5f"
            },
            "marker": {
             "line": {
              "color": "#E5ECF6",
              "width": 0.5
             },
             "pattern": {
              "fillmode": "overlay",
              "size": 10,
              "solidity": 0.2
             }
            },
            "type": "bar"
           }
          ],
          "barpolar": [
           {
            "marker": {
             "line": {
              "color": "#E5ECF6",
              "width": 0.5
             },
             "pattern": {
              "fillmode": "overlay",
              "size": 10,
              "solidity": 0.2
             }
            },
            "type": "barpolar"
           }
          ],
          "carpet": [
           {
            "aaxis": {
             "endlinecolor": "#2a3f5f",
             "gridcolor": "white",
             "linecolor": "white",
             "minorgridcolor": "white",
             "startlinecolor": "#2a3f5f"
            },
            "baxis": {
             "endlinecolor": "#2a3f5f",
             "gridcolor": "white",
             "linecolor": "white",
             "minorgridcolor": "white",
             "startlinecolor": "#2a3f5f"
            },
            "type": "carpet"
           }
          ],
          "choropleth": [
           {
            "colorbar": {
             "outlinewidth": 0,
             "ticks": ""
            },
            "type": "choropleth"
           }
          ],
          "contour": [
           {
            "colorbar": {
             "outlinewidth": 0,
             "ticks": ""
            },
            "colorscale": [
             [
              0,
              "#0d0887"
             ],
             [
              0.1111111111111111,
              "#46039f"
             ],
             [
              0.2222222222222222,
              "#7201a8"
             ],
             [
              0.3333333333333333,
              "#9c179e"
             ],
             [
              0.4444444444444444,
              "#bd3786"
             ],
             [
              0.5555555555555556,
              "#d8576b"
             ],
             [
              0.6666666666666666,
              "#ed7953"
             ],
             [
              0.7777777777777778,
              "#fb9f3a"
             ],
             [
              0.8888888888888888,
              "#fdca26"
             ],
             [
              1,
              "#f0f921"
             ]
            ],
            "type": "contour"
           }
          ],
          "contourcarpet": [
           {
            "colorbar": {
             "outlinewidth": 0,
             "ticks": ""
            },
            "type": "contourcarpet"
           }
          ],
          "heatmap": [
           {
            "colorbar": {
             "outlinewidth": 0,
             "ticks": ""
            },
            "colorscale": [
             [
              0,
              "#0d0887"
             ],
             [
              0.1111111111111111,
              "#46039f"
             ],
             [
              0.2222222222222222,
              "#7201a8"
             ],
             [
              0.3333333333333333,
              "#9c179e"
             ],
             [
              0.4444444444444444,
              "#bd3786"
             ],
             [
              0.5555555555555556,
              "#d8576b"
             ],
             [
              0.6666666666666666,
              "#ed7953"
             ],
             [
              0.7777777777777778,
              "#fb9f3a"
             ],
             [
              0.8888888888888888,
              "#fdca26"
             ],
             [
              1,
              "#f0f921"
             ]
            ],
            "type": "heatmap"
           }
          ],
          "heatmapgl": [
           {
            "colorbar": {
             "outlinewidth": 0,
             "ticks": ""
            },
            "colorscale": [
             [
              0,
              "#0d0887"
             ],
             [
              0.1111111111111111,
              "#46039f"
             ],
             [
              0.2222222222222222,
              "#7201a8"
             ],
             [
              0.3333333333333333,
              "#9c179e"
             ],
             [
              0.4444444444444444,
              "#bd3786"
             ],
             [
              0.5555555555555556,
              "#d8576b"
             ],
             [
              0.6666666666666666,
              "#ed7953"
             ],
             [
              0.7777777777777778,
              "#fb9f3a"
             ],
             [
              0.8888888888888888,
              "#fdca26"
             ],
             [
              1,
              "#f0f921"
             ]
            ],
            "type": "heatmapgl"
           }
          ],
          "histogram": [
           {
            "marker": {
             "pattern": {
              "fillmode": "overlay",
              "size": 10,
              "solidity": 0.2
             }
            },
            "type": "histogram"
           }
          ],
          "histogram2d": [
           {
            "colorbar": {
             "outlinewidth": 0,
             "ticks": ""
            },
            "colorscale": [
             [
              0,
              "#0d0887"
             ],
             [
              0.1111111111111111,
              "#46039f"
             ],
             [
              0.2222222222222222,
              "#7201a8"
             ],
             [
              0.3333333333333333,
              "#9c179e"
             ],
             [
              0.4444444444444444,
              "#bd3786"
             ],
             [
              0.5555555555555556,
              "#d8576b"
             ],
             [
              0.6666666666666666,
              "#ed7953"
             ],
             [
              0.7777777777777778,
              "#fb9f3a"
             ],
             [
              0.8888888888888888,
              "#fdca26"
             ],
             [
              1,
              "#f0f921"
             ]
            ],
            "type": "histogram2d"
           }
          ],
          "histogram2dcontour": [
           {
            "colorbar": {
             "outlinewidth": 0,
             "ticks": ""
            },
            "colorscale": [
             [
              0,
              "#0d0887"
             ],
             [
              0.1111111111111111,
              "#46039f"
             ],
             [
              0.2222222222222222,
              "#7201a8"
             ],
             [
              0.3333333333333333,
              "#9c179e"
             ],
             [
              0.4444444444444444,
              "#bd3786"
             ],
             [
              0.5555555555555556,
              "#d8576b"
             ],
             [
              0.6666666666666666,
              "#ed7953"
             ],
             [
              0.7777777777777778,
              "#fb9f3a"
             ],
             [
              0.8888888888888888,
              "#fdca26"
             ],
             [
              1,
              "#f0f921"
             ]
            ],
            "type": "histogram2dcontour"
           }
          ],
          "mesh3d": [
           {
            "colorbar": {
             "outlinewidth": 0,
             "ticks": ""
            },
            "type": "mesh3d"
           }
          ],
          "parcoords": [
           {
            "line": {
             "colorbar": {
              "outlinewidth": 0,
              "ticks": ""
             }
            },
            "type": "parcoords"
           }
          ],
          "pie": [
           {
            "automargin": true,
            "type": "pie"
           }
          ],
          "scatter": [
           {
            "fillpattern": {
             "fillmode": "overlay",
             "size": 10,
             "solidity": 0.2
            },
            "type": "scatter"
           }
          ],
          "scatter3d": [
           {
            "line": {
             "colorbar": {
              "outlinewidth": 0,
              "ticks": ""
             }
            },
            "marker": {
             "colorbar": {
              "outlinewidth": 0,
              "ticks": ""
             }
            },
            "type": "scatter3d"
           }
          ],
          "scattercarpet": [
           {
            "marker": {
             "colorbar": {
              "outlinewidth": 0,
              "ticks": ""
             }
            },
            "type": "scattercarpet"
           }
          ],
          "scattergeo": [
           {
            "marker": {
             "colorbar": {
              "outlinewidth": 0,
              "ticks": ""
             }
            },
            "type": "scattergeo"
           }
          ],
          "scattergl": [
           {
            "marker": {
             "colorbar": {
              "outlinewidth": 0,
              "ticks": ""
             }
            },
            "type": "scattergl"
           }
          ],
          "scattermapbox": [
           {
            "marker": {
             "colorbar": {
              "outlinewidth": 0,
              "ticks": ""
             }
            },
            "type": "scattermapbox"
           }
          ],
          "scatterpolar": [
           {
            "marker": {
             "colorbar": {
              "outlinewidth": 0,
              "ticks": ""
             }
            },
            "type": "scatterpolar"
           }
          ],
          "scatterpolargl": [
           {
            "marker": {
             "colorbar": {
              "outlinewidth": 0,
              "ticks": ""
             }
            },
            "type": "scatterpolargl"
           }
          ],
          "scatterternary": [
           {
            "marker": {
             "colorbar": {
              "outlinewidth": 0,
              "ticks": ""
             }
            },
            "type": "scatterternary"
           }
          ],
          "surface": [
           {
            "colorbar": {
             "outlinewidth": 0,
             "ticks": ""
            },
            "colorscale": [
             [
              0,
              "#0d0887"
             ],
             [
              0.1111111111111111,
              "#46039f"
             ],
             [
              0.2222222222222222,
              "#7201a8"
             ],
             [
              0.3333333333333333,
              "#9c179e"
             ],
             [
              0.4444444444444444,
              "#bd3786"
             ],
             [
              0.5555555555555556,
              "#d8576b"
             ],
             [
              0.6666666666666666,
              "#ed7953"
             ],
             [
              0.7777777777777778,
              "#fb9f3a"
             ],
             [
              0.8888888888888888,
              "#fdca26"
             ],
             [
              1,
              "#f0f921"
             ]
            ],
            "type": "surface"
           }
          ],
          "table": [
           {
            "cells": {
             "fill": {
              "color": "#EBF0F8"
             },
             "line": {
              "color": "white"
             }
            },
            "header": {
             "fill": {
              "color": "#C8D4E3"
             },
             "line": {
              "color": "white"
             }
            },
            "type": "table"
           }
          ]
         },
         "layout": {
          "annotationdefaults": {
           "arrowcolor": "#2a3f5f",
           "arrowhead": 0,
           "arrowwidth": 1
          },
          "autotypenumbers": "strict",
          "coloraxis": {
           "colorbar": {
            "outlinewidth": 0,
            "ticks": ""
           }
          },
          "colorscale": {
           "diverging": [
            [
             0,
             "#8e0152"
            ],
            [
             0.1,
             "#c51b7d"
            ],
            [
             0.2,
             "#de77ae"
            ],
            [
             0.3,
             "#f1b6da"
            ],
            [
             0.4,
             "#fde0ef"
            ],
            [
             0.5,
             "#f7f7f7"
            ],
            [
             0.6,
             "#e6f5d0"
            ],
            [
             0.7,
             "#b8e186"
            ],
            [
             0.8,
             "#7fbc41"
            ],
            [
             0.9,
             "#4d9221"
            ],
            [
             1,
             "#276419"
            ]
           ],
           "sequential": [
            [
             0,
             "#0d0887"
            ],
            [
             0.1111111111111111,
             "#46039f"
            ],
            [
             0.2222222222222222,
             "#7201a8"
            ],
            [
             0.3333333333333333,
             "#9c179e"
            ],
            [
             0.4444444444444444,
             "#bd3786"
            ],
            [
             0.5555555555555556,
             "#d8576b"
            ],
            [
             0.6666666666666666,
             "#ed7953"
            ],
            [
             0.7777777777777778,
             "#fb9f3a"
            ],
            [
             0.8888888888888888,
             "#fdca26"
            ],
            [
             1,
             "#f0f921"
            ]
           ],
           "sequentialminus": [
            [
             0,
             "#0d0887"
            ],
            [
             0.1111111111111111,
             "#46039f"
            ],
            [
             0.2222222222222222,
             "#7201a8"
            ],
            [
             0.3333333333333333,
             "#9c179e"
            ],
            [
             0.4444444444444444,
             "#bd3786"
            ],
            [
             0.5555555555555556,
             "#d8576b"
            ],
            [
             0.6666666666666666,
             "#ed7953"
            ],
            [
             0.7777777777777778,
             "#fb9f3a"
            ],
            [
             0.8888888888888888,
             "#fdca26"
            ],
            [
             1,
             "#f0f921"
            ]
           ]
          },
          "colorway": [
           "#636efa",
           "#EF553B",
           "#00cc96",
           "#ab63fa",
           "#FFA15A",
           "#19d3f3",
           "#FF6692",
           "#B6E880",
           "#FF97FF",
           "#FECB52"
          ],
          "font": {
           "color": "#2a3f5f"
          },
          "geo": {
           "bgcolor": "white",
           "lakecolor": "white",
           "landcolor": "#E5ECF6",
           "showlakes": true,
           "showland": true,
           "subunitcolor": "white"
          },
          "hoverlabel": {
           "align": "left"
          },
          "hovermode": "closest",
          "mapbox": {
           "style": "light"
          },
          "paper_bgcolor": "white",
          "plot_bgcolor": "#E5ECF6",
          "polar": {
           "angularaxis": {
            "gridcolor": "white",
            "linecolor": "white",
            "ticks": ""
           },
           "bgcolor": "#E5ECF6",
           "radialaxis": {
            "gridcolor": "white",
            "linecolor": "white",
            "ticks": ""
           }
          },
          "scene": {
           "xaxis": {
            "backgroundcolor": "#E5ECF6",
            "gridcolor": "white",
            "gridwidth": 2,
            "linecolor": "white",
            "showbackground": true,
            "ticks": "",
            "zerolinecolor": "white"
           },
           "yaxis": {
            "backgroundcolor": "#E5ECF6",
            "gridcolor": "white",
            "gridwidth": 2,
            "linecolor": "white",
            "showbackground": true,
            "ticks": "",
            "zerolinecolor": "white"
           },
           "zaxis": {
            "backgroundcolor": "#E5ECF6",
            "gridcolor": "white",
            "gridwidth": 2,
            "linecolor": "white",
            "showbackground": true,
            "ticks": "",
            "zerolinecolor": "white"
           }
          },
          "shapedefaults": {
           "line": {
            "color": "#2a3f5f"
           }
          },
          "ternary": {
           "aaxis": {
            "gridcolor": "white",
            "linecolor": "white",
            "ticks": ""
           },
           "baxis": {
            "gridcolor": "white",
            "linecolor": "white",
            "ticks": ""
           },
           "bgcolor": "#E5ECF6",
           "caxis": {
            "gridcolor": "white",
            "linecolor": "white",
            "ticks": ""
           }
          },
          "title": {
           "x": 0.05
          },
          "xaxis": {
           "automargin": true,
           "gridcolor": "white",
           "linecolor": "white",
           "ticks": "",
           "title": {
            "standoff": 15
           },
           "zerolinecolor": "white",
           "zerolinewidth": 2
          },
          "yaxis": {
           "automargin": true,
           "gridcolor": "white",
           "linecolor": "white",
           "ticks": "",
           "title": {
            "standoff": 15
           },
           "zerolinecolor": "white",
           "zerolinewidth": 2
          }
         }
        },
        "title": {
         "text": "Price vs Ratings Over Time"
        },
        "updatemenus": [
         {
          "buttons": [
           {
            "args": [
             null,
             {
              "frame": {
               "duration": 1000,
               "redraw": true
              },
              "fromcurrent": true
             }
            ],
            "label": "Play",
            "method": "animate"
           },
           {
            "args": [
             [
              null
             ],
             {
              "frame": {
               "duration": 0,
               "redraw": false
              },
              "mode": "immediate",
              "transition": {
               "duration": 0
              }
             }
            ],
            "label": "Pause",
            "method": "animate"
           }
          ],
          "direction": "left",
          "pad": {
           "r": 10,
           "t": 87
          },
          "showactive": false,
          "type": "buttons",
          "x": 0.1,
          "xanchor": "right",
          "y": 0,
          "yanchor": "top"
         }
        ],
        "xaxis": {
         "anchor": "y",
         "domain": [
          0,
          1
         ],
         "title": {
          "text": "price"
         }
        },
        "yaxis": {
         "anchor": "x",
         "domain": [
          0,
          1
         ],
         "title": {
          "text": "ratings"
         }
        }
       }
      }
     },
     "metadata": {},
     "output_type": "display_data"
    }
   ],
   "source": [
    "fig = px.scatter(df_combined, \n",
    "                 x=\"price\", y=\"ratings\", \n",
    "                 size=\"discount\", color=\"brand\", \n",
    "                 animation_frame=\"brand\",  \n",
    "                 title=\"Price vs Ratings Over Time\",\n",
    "                 size_max=50)\n",
    "\n",
    "# Control animation speed\n",
    "fig.update_layout(\n",
    "    updatemenus=[{\n",
    "        \"buttons\": [\n",
    "            {\n",
    "                \"args\": [None, {\"frame\": {\"duration\": 1000, \"redraw\": True}, \"fromcurrent\": True}],\n",
    "                \"label\": \"Play\",\n",
    "                \"method\": \"animate\"\n",
    "            },\n",
    "            {\n",
    "                \"args\": [[None], {\"frame\": {\"duration\": 0, \"redraw\": False}, \"mode\": \"immediate\", \"transition\": {\"duration\": 0}}],\n",
    "                \"label\": \"Pause\",\n",
    "                \"method\": \"animate\"\n",
    "            }\n",
    "        ],\n",
    "        \"direction\": \"left\",\n",
    "        \"pad\": {\"r\": 10, \"t\": 87},\n",
    "        \"showactive\": False,\n",
    "        \"type\": \"buttons\",\n",
    "        \"x\": 0.1,\n",
    "        \"xanchor\": \"right\",\n",
    "        \"y\": 0,\n",
    "        \"yanchor\": \"top\"\n",
    "    }]\n",
    ")\n",
    "\n",
    "fig.show()\n"
   ]
  }
 ],
 "metadata": {
  "kernelspec": {
   "display_name": "Python 3",
   "language": "python",
   "name": "python3"
  },
  "language_info": {
   "codemirror_mode": {
    "name": "ipython",
    "version": 3
   },
   "file_extension": ".py",
   "mimetype": "text/x-python",
   "name": "python",
   "nbconvert_exporter": "python",
   "pygments_lexer": "ipython3",
   "version": "3.12.9"
  }
 },
 "nbformat": 4,
 "nbformat_minor": 2
}
